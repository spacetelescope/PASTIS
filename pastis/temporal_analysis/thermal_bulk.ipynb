{
 "cells": [
  {
   "cell_type": "markdown",
   "id": "00f3f8f1",
   "metadata": {},
   "source": [
    "## This notebook consists of generating both static and temporal segment tolerances using only one of the five thermal maps recieved from L3 Harris Technologies."
   ]
  },
  {
   "cell_type": "markdown",
   "id": "aa36a7e8",
   "metadata": {},
   "source": [
    "### Importing necessary  python libraries, and PASTIS pre-built functions"
   ]
  },
  {
   "cell_type": "code",
   "execution_count": null,
   "id": "ed931849",
   "metadata": {},
   "outputs": [],
   "source": [
    "import os\n",
    "os.chdir(\"/Users/asahoo/repos/PASTIS\")\n",
    "import time\n",
    "from shutil import copy\n",
    "from astropy.io import fits\n",
    "import astropy.units as u\n",
    "import hcipy\n",
    "import numpy as np\n",
    "import pastis.util as util    \n",
    "from pastis.config import CONFIG_PASTIS \n",
    "from pastis.e2e_simulators.luvoir_imaging import LuvoirA_APLC \n",
    "from pastis.e2e_simulators.generic_segmented_telescopes import SegmentedAPLC\n",
    "import matplotlib.pyplot as plt\n",
    "import pandas as pd\n",
    "from scipy.interpolate import griddata\n",
    "import exoscene.image\n",
    "import exoscene.star\n",
    "import exoscene.planet\n",
    "from exoscene.planet import Planet\n",
    "from astropy.io import fits as pf"
   ]
  },
  {
   "cell_type": "markdown",
   "id": "cac9ba96",
   "metadata": {},
   "source": [
    "### Set some initial parameter or call them from config file"
   ]
  },
  {
   "cell_type": "code",
   "execution_count": null,
   "id": "eeaaff19",
   "metadata": {},
   "outputs": [],
   "source": [
    "coronagraph_design = 'small'\n",
    "nb_seg = CONFIG_PASTIS.getint('LUVOIR', 'nb_subapertures')\n",
    "nm_aber = CONFIG_PASTIS.getfloat('LUVOIR', 'calibration_aberration') * 1e-9\n",
    "sampling = CONFIG_PASTIS.getfloat('LUVOIR', 'sampling')"
   ]
  },
  {
   "cell_type": "markdown",
   "id": "c6ffaf80",
   "metadata": {},
   "source": [
    "### Load thermal mode files from L3 Harris Technologies "
   ]
  },
  {
   "cell_type": "code",
   "execution_count": null,
   "id": "c818f5f5",
   "metadata": {},
   "outputs": [],
   "source": [
    "filepath = \"/Users/asahoo/Documents/ultra/Sensitivities2.xlsx\"\n",
    "pad_orientation = np.pi/2*np.ones(nb_seg)"
   ]
  },
  {
   "cell_type": "markdown",
   "id": "dec47820",
   "metadata": {},
   "source": [
    "###  Define and create directory"
   ]
  },
  {
   "cell_type": "code",
   "execution_count": null,
   "id": "65b2517f",
   "metadata": {},
   "outputs": [],
   "source": [
    "data_dir = \"/Users/asahoo/Desktop/data_repos/harris_data\"\n",
    "repo_dir = \"/Users/asahoo/repos/PASTIS\"\n",
    "overall_dir = util.create_data_path(data_dir, telescope='luvoir_'+coronagraph_design)\n",
    "resDir = os.path.join(overall_dir, 'matrix_numerical')\n",
    "\n",
    "# Create necessary directories if they don't exist yet\n",
    "os.makedirs(resDir, exist_ok=True)"
   ]
  },
  {
   "cell_type": "markdown",
   "id": "6f3b3931",
   "metadata": {},
   "source": [
    "### Instantiate LUVOIR-A"
   ]
  },
  {
   "cell_type": "code",
   "execution_count": null,
   "id": "9a474a97",
   "metadata": {},
   "outputs": [],
   "source": [
    "optics_input = os.path.join(util.find_repo_location(), CONFIG_PASTIS.get('LUVOIR', 'optics_path_in_repo'))\n",
    "luvoir = LuvoirA_APLC(optics_input, coronagraph_design, sampling)"
   ]
  },
  {
   "cell_type": "markdown",
   "id": "1c6fbbeb",
   "metadata": {},
   "source": [
    "### Create harris deformable mirror "
   ]
  },
  {
   "cell_type": "code",
   "execution_count": null,
   "id": "115d0378",
   "metadata": {},
   "outputs": [],
   "source": [
    "luvoir.create_segmented_harris_mirror(filepath,pad_orientation, thermal = True,mechanical=False,other=False)\n",
    "luvoir.harris_sm #hcipy DM\n",
    "n_harris = luvoir.harris_sm.num_actuators"
   ]
  },
  {
   "cell_type": "markdown",
   "id": "3df8ee9f",
   "metadata": {},
   "source": [
    "### Flatten the DM"
   ]
  },
  {
   "cell_type": "code",
   "execution_count": null,
   "id": "22acf209",
   "metadata": {},
   "outputs": [],
   "source": [
    "luvoir.harris_sm.flatten()"
   ]
  },
  {
   "cell_type": "markdown",
   "id": "92ae285a",
   "metadata": {},
   "source": [
    "After applying a random actuator setting to 600 actuators i.e. (luvoir.harris_sm.random(1000)), (luvoir.harris_sm.phase)seems to work fine but Harris mode mirror phase called inside luvoir.calc_psf is not working"
   ]
  },
  {
   "cell_type": "markdown",
   "id": "929ca34a",
   "metadata": {},
   "source": [
    "### Calculate the unaberrated coronagraphic PSF"
   ]
  },
  {
   "cell_type": "code",
   "execution_count": null,
   "id": "7c591832",
   "metadata": {
    "scrolled": true
   },
   "outputs": [],
   "source": [
    "unaberrated_coro_psf, ref= luvoir.calc_psf(ref=True, display_intermediate=True, norm_one_photon=True)"
   ]
  },
  {
   "cell_type": "markdown",
   "id": "33e996d5",
   "metadata": {},
   "source": [
    "### Calculate peak value of reference psf and static coronaraphic floor $c_{0}$"
   ]
  },
  {
   "cell_type": "code",
   "execution_count": null,
   "id": "a65f3d71",
   "metadata": {},
   "outputs": [],
   "source": [
    "norm = np.max(ref)\n",
    "dh_intensity = (unaberrated_coro_psf / norm) * luvoir.dh_mask\n",
    "contrast_floor = np.mean(dh_intensity[np.where(luvoir.dh_mask != 0)])\n",
    "print(f'norm: {norm}',f'constrast floor: {contrast_floor}')"
   ]
  },
  {
   "cell_type": "markdown",
   "id": "bfb4db17",
   "metadata": {},
   "source": [
    "### Poking each segment with a thermal aberration and generating the subsequent electric field¶"
   ]
  },
  {
   "cell_type": "code",
   "execution_count": null,
   "id": "df07e958",
   "metadata": {},
   "outputs": [],
   "source": [
    "nonaberrated_coro_psf, ref, efield = luvoir.calc_psf(ref=True, display_intermediate=False, return_intermediate='efield',norm_one_photon=True)\n",
    "Efield_ref = nonaberrated_coro_psf.electric_field"
   ]
  },
  {
   "cell_type": "code",
   "execution_count": null,
   "id": "7cd05293",
   "metadata": {},
   "outputs": [],
   "source": [
    "print('Generating the E-fields for harris modes in science plane')\n",
    "print(f'Calibration aberration used: {nm_aber} m')\n",
    "\n",
    "start_time = time.time()\n",
    "focus_fieldS = []\n",
    "focus_fieldS_Re = []\n",
    "focus_fieldS_Im = []\n",
    "\n",
    "for i in range(0, 120):\n",
    "    print(f'Working on \"bulk\" thermal mode, segment: {i+1}')\n",
    "    \n",
    "    # Apply calibration aberration to used mode\n",
    "    harris_mode = np.zeros(n_harris)\n",
    "    harris_mode[5*i] = (nm_aber)/2 \n",
    "    luvoir.harris_sm.actuators  = harris_mode\n",
    "   \n",
    "    # Calculate coronagraphic E-field and add to lists\n",
    "    aberrated_coro_psf, inter = luvoir.calc_psf(display_intermediate=False, return_intermediate='efield',norm_one_photon=True)\n",
    "    focus_field1 = aberrated_coro_psf\n",
    "    focus_fieldS.append(focus_field1)\n",
    "    focus_fieldS_Re.append(focus_field1.real)\n",
    "    focus_fieldS_Im.append(focus_field1.imag)"
   ]
  },
  {
   "cell_type": "markdown",
   "id": "a75f32e5",
   "metadata": {},
   "source": [
    "### Taking a pair of poked efields to compute PASTIS matrix"
   ]
  },
  {
   "cell_type": "code",
   "execution_count": null,
   "id": "86b26b61",
   "metadata": {},
   "outputs": [],
   "source": [
    "mat_bulk = np.zeros([120, 120])\n",
    "for i in range(0, 120):\n",
    "    for j in range(0, 120):\n",
    "        test = np.real((focus_fieldS[i].electric_field - Efield_ref) * np.conj(focus_fieldS[j].electric_field - Efield_ref))\n",
    "        dh_test = (test / norm) * luvoir.dh_mask\n",
    "        contrast = np.mean(dh_test[np.where(luvoir.dh_mask != 0)])\n",
    "        mat_bulk[i, j] = contrast\n",
    "\n"
   ]
  },
  {
   "cell_type": "code",
   "execution_count": null,
   "id": "e4e7c83e",
   "metadata": {},
   "outputs": [],
   "source": []
  },
  {
   "cell_type": "code",
   "execution_count": null,
   "id": "7c034b3d",
   "metadata": {},
   "outputs": [],
   "source": [
    "plt.figure(figsize=(10,8))\n",
    "plt.imshow(np.log10(np.abs(mat_bulk)))\n",
    "plt.title(r\"PASTIS matrix $M$\", fontsize=20)\n",
    "plt.xlabel(\"Mode Index\",fontsize=20)\n",
    "plt.ylabel(\"Mode Index\",fontsize=20)\n",
    "plt.tick_params(labelsize=15)\n",
    "plt.tight_layout()\n",
    "plt.colorbar()"
   ]
  },
  {
   "cell_type": "markdown",
   "id": "3c8ba41e",
   "metadata": {},
   "source": [
    "### Codeblock to generate .gif file"
   ]
  },
  {
   "cell_type": "code",
   "execution_count": null,
   "id": "0e7c05b5",
   "metadata": {},
   "outputs": [],
   "source": [
    "# for i in range(0, 120):\n",
    "#     print(f'Working on \"bulk\" thermal mode, segment: {i+1}')\n",
    "    \n",
    "#     # Apply calibration aberration to used mode\n",
    "#     harris_mode = np.zeros(n_harris)\n",
    "#     harris_mode[i*5] = (nm_aber)/2 \n",
    "#     luvoir.harris_sm.actuators  = harris_mode\n",
    "    \n",
    "#     plt.figure()\n",
    "#     plt.text(9.6, 7.6, 'm', fontsize = 10)\n",
    "#     hcipy.imshow_field(luvoir.harris_sm.surface, mask=luvoir.aperture, cmap='RdBu')\n",
    "#     cbar = plt.colorbar()\n",
    "#     plt.tight_layout()\n",
    "#     #plt.savefig('/Users/asahoo/Documents/ultra/temp_plots/bulk_2_2_22/poke_%d.png'% i, dpi=165)\n",
    "#     plt.savefig('/Users/asahoo/Documents/ultra/temp_plots/bulk_2_2_22/poke_{0:03}.png'.format(i), dpi=165)\n",
    "    "
   ]
  },
  {
   "cell_type": "code",
   "execution_count": null,
   "id": "bba0b808",
   "metadata": {},
   "outputs": [],
   "source": [
    "# from PIL import Image\n",
    "# import glob\n",
    "# os.chdir(\"/Users/asahoo/Documents/ultra/temp_plots/bulk_2_2_22/\")\n",
    "\n",
    "# imgs = glob.glob(\"/Users/asahoo/Documents/ultra/temp_plots/bulk_2_2_22/*.png\")\n",
    "# imgs.sort()\n",
    "\n",
    "# for i in imgs:\n",
    "#     new_frame = Image.open(i)\n",
    "#     frames.append(new_frame)\n",
    " \n",
    "# # Save into a GIF file that loops forever\n",
    "# frames[0].save('bulk.gif', format='GIF',\n",
    "#                append_images=frames[1:],\n",
    "#                save_all=True,\n",
    "#                duration=100, loop=0)"
   ]
  },
  {
   "cell_type": "code",
   "execution_count": null,
   "id": "35b09d07",
   "metadata": {},
   "outputs": [],
   "source": []
  },
  {
   "cell_type": "code",
   "execution_count": null,
   "id": "6330e1f7",
   "metadata": {},
   "outputs": [],
   "source": []
  }
 ],
 "metadata": {
  "kernelspec": {
   "display_name": "Python 3 (ipykernel)",
   "language": "python",
   "name": "python3"
  },
  "language_info": {
   "codemirror_mode": {
    "name": "ipython",
    "version": 3
   },
   "file_extension": ".py",
   "mimetype": "text/x-python",
   "name": "python",
   "nbconvert_exporter": "python",
   "pygments_lexer": "ipython3",
   "version": "3.7.11"
  }
 },
 "nbformat": 4,
 "nbformat_minor": 5
}
