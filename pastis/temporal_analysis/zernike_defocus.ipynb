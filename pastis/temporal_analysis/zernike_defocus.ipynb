{
 "cells": [
  {
   "cell_type": "markdown",
   "id": "33896bd4",
   "metadata": {},
   "source": [
    "# This notebook consists of generating both static and temporal segment tolerances using only one segment-level defocus aberrations"
   ]
  },
  {
   "cell_type": "markdown",
   "id": "16592558",
   "metadata": {},
   "source": [
    "### Importing necessary python libraries, and PASTIS pre-built functions"
   ]
  },
  {
   "cell_type": "code",
   "execution_count": null,
   "id": "edea9dd0",
   "metadata": {},
   "outputs": [],
   "source": [
    "import os\n",
    "os.chdir(\"/Users/asahoo/repos/PASTIS\")\n",
    "import time\n",
    "from shutil import copy\n",
    "from astropy.io import fits\n",
    "import astropy.units as u\n",
    "import hcipy\n",
    "import numpy as np\n",
    "import pastis.util as util    \n",
    "from pastis.config import CONFIG_PASTIS \n",
    "from pastis.e2e_simulators.luvoir_imaging import LuvoirA_APLC \n",
    "from pastis.e2e_simulators.generic_segmented_telescopes import SegmentedAPLC\n",
    "import matplotlib.pyplot as plt\n",
    "import pandas as pd\n",
    "from scipy.interpolate import griddata\n",
    "import exoscene.image\n",
    "import exoscene.star\n",
    "import exoscene.planet\n",
    "from exoscene.planet import Planet\n",
    "from astropy.io import fits as pf"
   ]
  },
  {
   "cell_type": "markdown",
   "id": "a22ed350",
   "metadata": {},
   "source": [
    "### Set some initial parameter or call them from config file "
   ]
  },
  {
   "cell_type": "code",
   "execution_count": null,
   "id": "6423b1c9",
   "metadata": {},
   "outputs": [],
   "source": [
    "coronagraph_design = 'small'\n",
    "nb_seg = CONFIG_PASTIS.getint('LUVOIR', 'nb_subapertures')\n",
    "nm_aber = CONFIG_PASTIS.getfloat('LUVOIR', 'calibration_aberration') * 1e-9\n",
    "sampling = CONFIG_PASTIS.getfloat('LUVOIR', 'sampling')"
   ]
  },
  {
   "cell_type": "markdown",
   "id": "7cca830c",
   "metadata": {},
   "source": [
    "### Define and create directory "
   ]
  },
  {
   "cell_type": "code",
   "execution_count": null,
   "id": "e98db950",
   "metadata": {},
   "outputs": [],
   "source": [
    "data_dir = \"/Users/asahoo/Desktop/data_repos/harris_data\"\n",
    "repo_dir = \"/Users/asahoo/repos/PASTIS\"\n",
    "overall_dir = util.create_data_path(data_dir, telescope='luvoir_'+coronagraph_design)\n",
    "resDir = os.path.join(overall_dir, 'matrix_numerical')\n",
    "\n",
    "os.makedirs(resDir, exist_ok=True)"
   ]
  },
  {
   "cell_type": "markdown",
   "id": "ec088671",
   "metadata": {},
   "source": [
    "### Instantiate LUVOIR-A "
   ]
  },
  {
   "cell_type": "code",
   "execution_count": null,
   "id": "fcd9a3f1",
   "metadata": {},
   "outputs": [],
   "source": [
    "optics_input = os.path.join(util.find_repo_location(), CONFIG_PASTIS.get('LUVOIR', 'optics_path_in_repo'))\n",
    "luvoir = LuvoirA_APLC(optics_input, coronagraph_design, sampling)"
   ]
  },
  {
   "cell_type": "markdown",
   "id": "f8433638",
   "metadata": {},
   "source": [
    "### Create segement level defocus mirror "
   ]
  },
  {
   "cell_type": "code",
   "execution_count": null,
   "id": "be767754",
   "metadata": {},
   "outputs": [],
   "source": [
    "luvoir.create_segmented_mirror(4) \n"
   ]
  },
  {
   "cell_type": "code",
   "execution_count": null,
   "id": "13378a67",
   "metadata": {},
   "outputs": [],
   "source": [
    "luvoir.sm\n",
    "n_MID = luvoir.sm.num_actuators"
   ]
  },
  {
   "cell_type": "markdown",
   "id": "9d64ce06",
   "metadata": {},
   "source": [
    "### Flatten the DM "
   ]
  },
  {
   "cell_type": "code",
   "execution_count": null,
   "id": "0a89d80c",
   "metadata": {},
   "outputs": [],
   "source": [
    "luvoir.sm.flatten()"
   ]
  },
  {
   "cell_type": "markdown",
   "id": "501cbf58",
   "metadata": {},
   "source": [
    "### Calculate the unaberrated coronagraphic PSF"
   ]
  },
  {
   "cell_type": "code",
   "execution_count": null,
   "id": "383a6bf9",
   "metadata": {},
   "outputs": [],
   "source": [
    "unaberrated_coro_psf, ref= luvoir.calc_psf(ref=True, display_intermediate=True, norm_one_photon=True)"
   ]
  },
  {
   "cell_type": "markdown",
   "id": "2b149304",
   "metadata": {},
   "source": [
    "### Calculate peak value of reference psf and static coronagraphic floor "
   ]
  },
  {
   "cell_type": "code",
   "execution_count": null,
   "id": "86ce771f",
   "metadata": {},
   "outputs": [],
   "source": [
    "norm = np.max(ref)\n",
    "dh_intensity = (unaberrated_coro_psf / norm) * luvoir.dh_mask\n",
    "contrast_floor = np.mean(dh_intensity[np.where(luvoir.dh_mask != 0)])\n",
    "print(f'norm: {norm}',f'constrast floor: {contrast_floor}')"
   ]
  },
  {
   "cell_type": "markdown",
   "id": "6736077f",
   "metadata": {},
   "source": [
    "### Poking each segment with a zernike defocus"
   ]
  },
  {
   "cell_type": "code",
   "execution_count": null,
   "id": "5faadc6a",
   "metadata": {},
   "outputs": [],
   "source": [
    "nonaberrated_coro_psf, ref, efield = luvoir.calc_psf(ref=True, display_intermediate=False, return_intermediate='efield',norm_one_photon=True)\n",
    "Efield_ref = nonaberrated_coro_psf.electric_field"
   ]
  },
  {
   "cell_type": "code",
   "execution_count": null,
   "id": "2efa39a3",
   "metadata": {
    "scrolled": true
   },
   "outputs": [],
   "source": [
    "print('Generating the E-fields for harris modes in science plane')\n",
    "print(f'Calibration aberration used: {nm_aber} m')\n",
    "\n",
    "start_time = time.time()\n",
    "focus_fieldS = []\n",
    "focus_fieldS_Re = []\n",
    "focus_fieldS_Im = []\n",
    "\n",
    "for i in range(0, n_MID):\n",
    "    print(f'Working on \"bulk\" thermal mode, segment: {i}')\n",
    "    \n",
    "    # Apply calibration aberration to used mode\n",
    "    sm_mode = np.zeros(n_MID)\n",
    "    #sm_mode[6*i -3] = (nm_aber)/2 \n",
    "    sm_mode[i] = (nm_aber)/2\n",
    "    luvoir.sm.actuators  = sm_mode\n",
    "    # Calculate coronagraphic E-field and add to lists\n",
    "    aberrated_coro_psf, inter = luvoir.calc_psf(display_intermediate=False, return_intermediate='efield',norm_one_photon=True)\n",
    "    focus_field1 = aberrated_coro_psf\n",
    "    focus_fieldS.append(focus_field1)\n",
    "    focus_fieldS_Re.append(focus_field1.real)\n",
    "    focus_fieldS_Im.append(focus_field1.imag)\n",
    "    \n",
    "    "
   ]
  },
  {
   "cell_type": "code",
   "execution_count": null,
   "id": "16d45d13",
   "metadata": {},
   "outputs": [],
   "source": [
    "mat_bulk = np.zeros([n_MID, n_MID])\n",
    "for i in range(0, n_MID):\n",
    "    for j in range(0, n_MID):\n",
    "        test = np.real((focus_fieldS[i].electric_field - Efield_ref) * np.conj(focus_fieldS[j].electric_field - Efield_ref))\n",
    "        dh_test = (test / norm) * luvoir.dh_mask\n",
    "        contrast = np.mean(dh_test[np.where(luvoir.dh_mask != 0)])\n",
    "        mat_bulk[i, j] = contrast"
   ]
  },
  {
   "cell_type": "code",
   "execution_count": null,
   "id": "cbc60c1c",
   "metadata": {},
   "outputs": [],
   "source": [
    "plt.figure(figsize=(10,8))\n",
    "plt.imshow(np.log10(np.abs(mat_bulk)))\n",
    "plt.title(r\"PASTIS matrix $M$ for defocus zernike\", fontsize=20)\n",
    "plt.xlabel(\"Mode Index\",fontsize=20)\n",
    "plt.ylabel(\"Mode Index\",fontsize=20)\n",
    "plt.tick_params(labelsize=15)\n",
    "# cbar = plt.colorbar(ticks = np.linspace(-13,-5,8,endpoint=False))\n",
    "# cbar.ax.set_yticklabels([r'$10^{-13}$', r'$10^{-12}$', r'$10^{-11}$', r'$10^{-10}$', \n",
    "#                          r'$10^{-9}$', r'$10^{-8}$', r'$10^{-7}$',r'$10^{-6}$'], fontsize=15)\n",
    "#cbar.set_label(r\"in units of $1/{nm^2}$\",fontsize =15)\n",
    "plt.colorbar()\n",
    "plt.tight_layout()"
   ]
  },
  {
   "cell_type": "code",
   "execution_count": null,
   "id": "c06847c9",
   "metadata": {},
   "outputs": [],
   "source": [
    "filename_matrix1 = 'PASTISmatrix_n_harris_' + str(n_MID)\n",
    "hcipy.write_fits(mat_bulk, os.path.join(resDir, filename_matrix1 + '.fits'))\n",
    "print('Matrix saved to:', os.path.join(resDir, filename_matrix1 + '.fits','\\n'))\n",
    "\n",
    "filename_matrix2 = 'EFIELD_Re_matrix_n_harris_' + str(n_MID)\n",
    "hcipy.write_fits(focus_fieldS_Re, os.path.join(resDir, filename_matrix2 + '.fits'))\n",
    "print('Efield Real saved to:', os.path.join(resDir, filename_matrix2 + '.fits', '\\n'))\n",
    "\n",
    "filename_matrix3 = 'EFIELD_Im_matrix_n_harris_' + str(n_MID)\n",
    "hcipy.write_fits(focus_fieldS_Im, os.path.join(resDir, filename_matrix3 + '.fits'))\n",
    "print('Efield Imag saved to:', os.path.join(resDir, filename_matrix3 + '.fits','\\n'))"
   ]
  },
  {
   "cell_type": "code",
   "execution_count": null,
   "id": "c8a23f32",
   "metadata": {},
   "outputs": [],
   "source": [
    "evals, evecs = np.linalg.eig(mat_bulk)\n",
    "sorted_evals = np.sort(evals)\n",
    "sorted_indices = np.argsort(evals)\n",
    "sorted_evecs = evecs[:, sorted_indices]"
   ]
  },
  {
   "cell_type": "code",
   "execution_count": null,
   "id": "75b2d9e6",
   "metadata": {},
   "outputs": [],
   "source": [
    "c_target_log = -10\n",
    "c_target = 10**(c_target_log)\n",
    "n_repeat = 20"
   ]
  },
  {
   "cell_type": "code",
   "execution_count": null,
   "id": "baac4a29",
   "metadata": {},
   "outputs": [],
   "source": [
    "c_target?"
   ]
  },
  {
   "cell_type": "code",
   "execution_count": null,
   "id": "103ea331",
   "metadata": {},
   "outputs": [],
   "source": [
    "mu_map_defous = np.sqrt(((c_target) / (n_MID)) / (np.diag(mat_bulk)))"
   ]
  },
  {
   "cell_type": "code",
   "execution_count": null,
   "id": "77196907",
   "metadata": {},
   "outputs": [],
   "source": [
    "plt.plot(mu_map_defous)"
   ]
  },
  {
   "cell_type": "code",
   "execution_count": null,
   "id": "860b0546",
   "metadata": {},
   "outputs": [],
   "source": [
    "z_pup_downsample = CONFIG_PASTIS.getfloat('numerical', 'z_pup_downsample') \n",
    "N_pup_z = int(luvoir.pupil_grid.shape[0] / z_pup_downsample) #N_pup_z = 100,used to define out-of-band efield\n",
    "grid_zernike = hcipy.field.make_pupil_grid(N_pup_z, diameter=luvoir.diam)\n",
    "\n",
    "npup = int(np.sqrt(luvoir.pupil_grid.x.shape[0]))\n",
    "nimg = int(np.sqrt(luvoir.focal_det.x.shape[0]))\n",
    "\n",
    "# Getting the flux together\n",
    "sptype = 'A0V'\n",
    "Vmag = 5.0\n",
    "minlam = 500\n",
    "maxlam = 600 \n",
    "dark_current = 0     \n",
    "CIC = 0            \n",
    "star_flux = exoscene.star.bpgs_spectype_to_photonrate(spectype=sptype, Vmag=Vmag, minlam=minlam, maxlam=maxlam) #ph/s/m^2\n",
    "Nph = star_flux.value*15**2*np.sum(luvoir.apodizer**2) / npup**2"
   ]
  },
  {
   "cell_type": "code",
   "execution_count": null,
   "id": "9e768f86",
   "metadata": {},
   "outputs": [],
   "source": [
    "luvoir.sm.flatten()\n",
    "nonaberrated_coro_psf ,refshit ,inter_ref = luvoir.calc_psf(ref=True, display_intermediate=False, return_intermediate='efield',norm_one_photon=True)\n",
    "Efield_ref = nonaberrated_coro_psf.electric_field"
   ]
  },
  {
   "cell_type": "code",
   "execution_count": null,
   "id": "2a69419b",
   "metadata": {},
   "outputs": [],
   "source": [
    "luvoir.sm.flatten()\n",
    "defocus_ref2 = luvoir.calc_out_of_band_wfs(norm_one_photon=True) #returns wavefront on obwfs detector\n",
    "defocus_ref2_sub_real = hcipy.field.subsample_field(defocus_ref2.real, z_pup_downsample, grid_zernike, statistic='mean')\n",
    "defocus_ref2_sub_imag = hcipy.field.subsample_field(defocus_ref2.imag, z_pup_downsample, grid_zernike, statistic='mean')\n",
    "Efield_ref_OBWFS = (defocus_ref2_sub_real + 1j*defocus_ref2_sub_imag) * z_pup_downsample"
   ]
  },
  {
   "cell_type": "code",
   "execution_count": null,
   "id": "f036e148",
   "metadata": {},
   "outputs": [],
   "source": [
    "nyquist_sampling = 2.\n",
    "\n",
    "# Actual grid for LUVOIR images\n",
    "grid_test = hcipy.make_focal_grid(\n",
    "            luvoir.sampling,\n",
    "            luvoir.imlamD,\n",
    "            pupil_diameter=luvoir.diam,\n",
    "            focal_length=1,\n",
    "            reference_wavelength=luvoir.wvln,\n",
    "        )\n",
    "\n",
    "# Actual grid for LUVOIR images that are nyquist sampled\n",
    "grid_det_subsample = hcipy.make_focal_grid(\n",
    "            nyquist_sampling,\n",
    "            np.floor(luvoir.imlamD),\n",
    "            pupil_diameter=luvoir.diam,\n",
    "            focal_length=1,\n",
    "            reference_wavelength=luvoir.wvln,\n",
    "        )\n",
    "n_nyquist = int(np.sqrt(grid_det_subsample.x.shape[0]))"
   ]
  },
  {
   "cell_type": "code",
   "execution_count": null,
   "id": "0685cb2f",
   "metadata": {},
   "outputs": [],
   "source": [
    "design = 'small'\n",
    "\n",
    "dh_outer_nyquist = hcipy.circular_aperture(2 * luvoir.apod_dict[design]['owa'] * luvoir.lam_over_d)(grid_det_subsample)\n",
    "dh_inner_nyquist = hcipy.circular_aperture(2 * luvoir.apod_dict[design]['iwa'] * luvoir.lam_over_d)(grid_det_subsample)\n",
    "dh_mask_nyquist = (dh_outer_nyquist - dh_inner_nyquist).astype('bool')\n",
    "\n",
    "dh_size = len(np.where(luvoir.dh_mask != 0)[0])\n",
    "dh_size_nyquist = len(np.where(dh_mask_nyquist != 0)[0])\n",
    "dh_index = np.where(luvoir.dh_mask != 0)[0]\n",
    "dh_index_nyquist = np.where(dh_mask_nyquist != 0)[0]"
   ]
  },
  {
   "cell_type": "code",
   "execution_count": null,
   "id": "d3a8b3e1",
   "metadata": {},
   "outputs": [],
   "source": [
    "E0_OBWFS = np.zeros([N_pup_z*N_pup_z,1,2])\n",
    "E0_OBWFS[:,0,0] = Efield_ref_OBWFS.real\n",
    "E0_OBWFS[:,0,1] = Efield_ref_OBWFS.imag\n",
    "\n",
    "E0_coron = np.zeros([nimg*nimg,1,2])\n",
    "E0_coron[:,0,0] = Efield_ref.real #not clear, why??\n",
    "E0_coron[:,0,1] = Efield_ref.imag\n",
    "\n",
    "tmp0 = hcipy.interpolation.make_linear_interpolator_separated(Efield_ref, grid=grid_test)\n",
    "Efield_ref_nyquist = (luvoir.sampling/nyquist_sampling)**2*tmp0(grid_det_subsample)\n",
    "\n",
    "E0_coron_nyquist = np.zeros([n_nyquist*n_nyquist,1,2])\n",
    "E0_coron_nyquist[:,0,0] = Efield_ref_nyquist.real\n",
    "E0_coron_nyquist[:,0,1] = Efield_ref_nyquist.imag\n",
    "\n",
    "E0_coron_DH = np.zeros([dh_size,1,2])\n",
    "E0_coron_DH[:,0,0] = Efield_ref.real[dh_index]\n",
    "E0_coron_DH[:,0,1] = Efield_ref.imag[dh_index]\n",
    "\n",
    "E0_coron_DH_nyquist = np.zeros([dh_size_nyquist,1,2])\n",
    "E0_coron_DH_nyquist[:,0,0] = Efield_ref_nyquist.real[dh_index_nyquist]\n",
    "E0_coron_DH_nyquist[:,0,1] = Efield_ref_nyquist.real[dh_index_nyquist]"
   ]
  },
  {
   "cell_type": "code",
   "execution_count": null,
   "id": "482301ee",
   "metadata": {},
   "outputs": [],
   "source": [
    "filename_matrix2 = 'EFIELD_Re_matrix_n_harris_' + str(n_MID) + '.fits'\n",
    "G_harris_real = fits.getdata(os.path.join(overall_dir, 'matrix_numerical', filename_matrix2)) \n",
    "filename_matrix3 = 'EFIELD_Im_matrix_n_harris_' + str(n_MID) + '.fits'\n",
    "G_harris_imag = fits.getdata(os.path.join(overall_dir, 'matrix_numerical', filename_matrix3)) \n",
    "\n",
    "G_coron_harris_nyquist= np.zeros([n_nyquist*n_nyquist,2, n_MID])\n",
    "for pp in range(0, n_MID):\n",
    "    tmp0 = G_harris_real[pp] + 1j*G_harris_imag[pp]\n",
    "    tmp1 = hcipy.interpolation.make_linear_interpolator_separated(tmp0, grid=grid_test)\n",
    "    tmp2 = (luvoir.sampling/nyquist_sampling)**2*tmp1(grid_det_subsample)\n",
    "    G_coron_harris_nyquist[:,0,pp] = tmp2.real - Efield_ref_nyquist.real\n",
    "    G_coron_harris_nyquist[:,1,pp] = tmp2.real - Efield_ref_nyquist.imag #recheck?"
   ]
  },
  {
   "cell_type": "code",
   "execution_count": null,
   "id": "5dceafa4",
   "metadata": {},
   "outputs": [],
   "source": [
    "G_coron_harris_DH= np.zeros([dh_size,2,n_MID])\n",
    "for pp in range(0, n_MID):\n",
    "    G_coron_harris_DH[:,0,pp] = G_harris_real[pp,dh_index] - Efield_ref.real[dh_index]\n",
    "    G_coron_harris_DH[:,1,pp] = G_harris_imag[pp,dh_index] - Efield_ref.imag[dh_index]"
   ]
  },
  {
   "cell_type": "code",
   "execution_count": null,
   "id": "eff9daa1",
   "metadata": {},
   "outputs": [],
   "source": [
    "G_coron_harris_DH_nyquist= np.zeros([dh_size_nyquist,2,n_MID])\n",
    "for pp in range(0, n_MID):\n",
    "    tmp0 = G_harris_real[pp] + 1j*G_harris_imag[pp]\n",
    "    tmp1 = hcipy.interpolation.make_linear_interpolator_separated(tmp0, grid=grid_test)\n",
    "    tmp2 = (luvoir.sampling/nyquist_sampling)**2*tmp1(grid_det_subsample)\n",
    "    G_coron_harris_DH_nyquist[:,0,pp-1] = tmp2.real[dh_index_nyquist] - Efield_ref_nyquist.real[dh_index_nyquist]\n",
    "    G_coron_harris_DH_nyquist[:,1,pp-1] = tmp2.imag[dh_index_nyquist] - Efield_ref_nyquist.imag[dh_index_nyquist]"
   ]
  },
  {
   "cell_type": "code",
   "execution_count": null,
   "id": "938ca154",
   "metadata": {},
   "outputs": [],
   "source": [
    "G_coron_harris= np.zeros([nimg*nimg,2,n_MID])\n",
    "for pp in range(0, n_MID):\n",
    "    G_coron_harris[:,0,pp] = G_harris_real[pp] - Efield_ref.real\n",
    "    G_coron_harris[:,1,pp] = G_harris_imag[pp] - Efield_ref.imag"
   ]
  },
  {
   "cell_type": "code",
   "execution_count": null,
   "id": "b1f1f9bc",
   "metadata": {},
   "outputs": [],
   "source": []
  },
  {
   "cell_type": "code",
   "execution_count": null,
   "id": "2ffdd46c",
   "metadata": {},
   "outputs": [],
   "source": [
    "start_time = time.time()\n",
    "focus_fieldS = []\n",
    "focus_fieldS_Re = []\n",
    "focus_fieldS_Im = []"
   ]
  },
  {
   "cell_type": "code",
   "execution_count": null,
   "id": "3ccf02ba",
   "metadata": {
    "scrolled": true
   },
   "outputs": [],
   "source": [
    "for i in range(1, n_MID):\n",
    "    print(f'Working on \"defocus\" zernike mode, segment: {i}')\n",
    "    \n",
    "    # Apply calibration aberration to used mode\n",
    "    sm_mode = np.zeros(n_MID)\n",
    "    #sm_mode[6*i-3] = (nm_aber)/2 \n",
    "    sm_mode[i] = (nm_aber)/2\n",
    "    luvoir.sm.actuators  = sm_mode\n",
    "    harris_meas = luvoir.calc_out_of_band_wfs(norm_one_photon=True)\n",
    "    harris_meas_sub_real = hcipy.field.subsample_field(harris_meas.real, z_pup_downsample, grid_zernike, statistic='mean')\n",
    "    harris_meas_sub_imag = hcipy.field.subsample_field(harris_meas.imag, z_pup_downsample, grid_zernike, statistic='mean')\n",
    "    focus_field1 = harris_meas_sub_real + 1j * harris_meas_sub_imag\n",
    "    focus_fieldS.append(focus_field1)\n",
    "    focus_fieldS_Re.append(focus_field1.real)\n",
    "    focus_fieldS_Im.append(focus_field1.imag)"
   ]
  },
  {
   "cell_type": "code",
   "execution_count": null,
   "id": "89497c8e",
   "metadata": {},
   "outputs": [],
   "source": [
    "filename_matrix = 'EFIELD_OBWFS_Re_matrix_num_harris_' + str(n_MID)\n",
    "hcipy.write_fits(focus_fieldS_Re, os.path.join(resDir, filename_matrix + '.fits'))\n",
    "print('Efield Real saved to:', os.path.join(resDir, filename_matrix + '.fits'))\n",
    "\n",
    "filename_matrix = 'EFIELD_OBWFS_Im_matrix_num_harris_' + str(n_MID)\n",
    "hcipy.write_fits(focus_fieldS_Im, os.path.join(resDir, filename_matrix + '.fits'))\n",
    "print('Efield Imag saved to:', os.path.join(resDir, filename_matrix + '.fits'))"
   ]
  },
  {
   "cell_type": "code",
   "execution_count": null,
   "id": "d34afc82",
   "metadata": {},
   "outputs": [],
   "source": [
    "filename_matrix = 'EFIELD_OBWFS_Re_matrix_num_harris_' + str(n_MID)+'.fits'\n",
    "G_OBWFS_real = fits.getdata(os.path.join(overall_dir, 'matrix_numerical', filename_matrix))\n",
    "filename_matrix = 'EFIELD_OBWFS_Im_matrix_num_harris_' + str(n_MID)+'.fits'\n",
    "G_OBWFS_imag =  fits.getdata(os.path.join(overall_dir, 'matrix_numerical', filename_matrix))"
   ]
  },
  {
   "cell_type": "code",
   "execution_count": null,
   "id": "faa9a1a0",
   "metadata": {},
   "outputs": [],
   "source": [
    "len(G_OBWFS_imag)"
   ]
  },
  {
   "cell_type": "code",
   "execution_count": null,
   "id": "78206c5f",
   "metadata": {},
   "outputs": [],
   "source": [
    "G_OBWFS= np.zeros([N_pup_z*N_pup_z,2,n_MID])\n",
    "for pp in range(0, n_MID-1):\n",
    "    G_OBWFS[:,0,pp] = G_OBWFS_real[pp]*z_pup_downsample - Efield_ref_OBWFS.real\n",
    "    G_OBWFS[:,1,pp] = G_OBWFS_imag[pp]*z_pup_downsample - Efield_ref_OBWFS.imag"
   ]
  },
  {
   "cell_type": "code",
   "execution_count": null,
   "id": "11e3b44a",
   "metadata": {},
   "outputs": [],
   "source": [
    "def req_closedloop_calc_batch(Gcoro, Gsensor, E0coro, E0sensor, Dcoro, Dsensor, t_exp, flux, Q, Niter, dh_mask, norm):\n",
    "    P = np.zeros(Q.shape)  # WFE modes covariance estimate\n",
    "    r = Gsensor.shape[2]\n",
    "    N = Gsensor.shape[0]\n",
    "    N_img = Gcoro.shape[0]\n",
    "    c = 1\n",
    "    # Iterations of ALGORITHM 1\n",
    "    contrast_hist = np.zeros(Niter)\n",
    "    intensity_WFS_hist = np.zeros(Niter)\n",
    "    cal_I_hist = np.zeros(Niter)\n",
    "    eps_hist = np.zeros([Niter, r])\n",
    "    averaged_hist = np.zeros(Niter)\n",
    "    contrasts = []\n",
    "    for pp in range(Niter):\n",
    "        eps = np.random.multivariate_normal(np.zeros(r), P + Q * t_exp).reshape((1, 1, r))  # random modes\n",
    "        G_eps = np.sum(Gsensor * eps, axis=2).reshape((N, 1, 2 * c)) + E0sensor  # electric field\n",
    "        G_eps_squared = np.sum(G_eps * G_eps, axis=2, keepdims=True)\n",
    "        G_eps_G = np.matmul(G_eps, Gsensor)\n",
    "        G_eps_G_scaled = G_eps_G / np.sqrt(G_eps_squared + Dsensor / flux / t_exp)  # trick to save RAM\n",
    "        cal_I = 4 * flux * t_exp * np.einsum(\"ijk,ijl->kl\", G_eps_G_scaled, G_eps_G_scaled)  # information matrix\n",
    "        #         P = np.linalg.inv(np.linalg.inv(P+Q*t_exp/2) + cal_I)\n",
    "        P = np.linalg.pinv(cal_I)\n",
    "\n",
    "        # Coronagraph\n",
    "        G_eps_coron = np.sum(Gcoro * eps, axis=2).reshape((N_img, 1, 2 * c)) + E0coro\n",
    "        G_eps_coron_squared = np.sum(G_eps_coron * G_eps_coron, axis=2, keepdims=True)\n",
    "        intensity = G_eps_coron_squared * flux * t_exp + Dcoro\n",
    "\n",
    "        # Wavefront sensor\n",
    "        intensity_WFS = G_eps_squared * flux * t_exp + Dsensor\n",
    "\n",
    "        # Archive\n",
    "        test_DH0 = intensity[:, 0, 0] * luvoir.dh_mask\n",
    "        test_DH = np.mean(test_DH0[np.where(test_DH0 != 0)])\n",
    "        contrasts.append(test_DH / flux / t_exp / norm)\n",
    "        intensity_WFS_hist[pp] = np.sum(intensity_WFS) / flux\n",
    "        cal_I_hist[pp] = np.mean(cal_I) / flux\n",
    "        eps_hist[pp] = eps\n",
    "        averaged_hist[pp] = np.mean(contrasts)\n",
    "    #         print(\"est. contrast\", np.mean(contrasts))\n",
    "    #         print(\"est. contrast\", np.mean(contrasts))\n",
    "\n",
    "    outputs = {'intensity_WFS_hist': intensity_WFS_hist,\n",
    "               'cal_I_hist': cal_I_hist,\n",
    "               'eps_hist': eps_hist,\n",
    "               'averaged_hist': averaged_hist,\n",
    "               'contrasts': contrasts}\n",
    "\n",
    "    return outputs\n"
   ]
  },
  {
   "cell_type": "code",
   "execution_count": null,
   "id": "d10296e5",
   "metadata": {},
   "outputs": [],
   "source": [
    "flux = Nph\n",
    "Qharris = np.diag(np.asarray(mu_map_defous**2))"
   ]
  },
  {
   "cell_type": "code",
   "execution_count": null,
   "id": "4650c80f",
   "metadata": {},
   "outputs": [],
   "source": [
    "Ntimes = 20\n",
    "TimeMinus = -2\n",
    "TimePlus = 5.5 #3.5\n",
    "Nwavescale = 8\n",
    "WaveScaleMinus = -2\n",
    "WaveScalePlus = 1\n",
    "Nflux = 3\n",
    "fluxPlus = 10\n",
    "fluxMinus = 0\n",
    "\n",
    "timeVec = np.logspace(TimeMinus,TimePlus,Ntimes)\n",
    "WaveVec = np.logspace(WaveScaleMinus,WaveScalePlus,Nwavescale)\n",
    "fluxVec = np.linspace(fluxMinus,fluxPlus,Nflux)\n",
    "wavescaleVec = np.logspace(WaveScaleMinus,WaveScalePlus,Nwavescale)"
   ]
  },
  {
   "cell_type": "code",
   "execution_count": null,
   "id": "6ef54c78",
   "metadata": {},
   "outputs": [],
   "source": [
    "res = np.zeros([Ntimes, Nwavescale, Nflux, 1])\n",
    "result_wf_test =[]\n",
    "\n",
    "#i=-1\n",
    "for wavescale in range (1,15,2):\n",
    "    #i=i+1\n",
    "    print('Harris modes with batch OBWFS and noise %f'% wavescale, \"i\",i)  \n",
    "    niter = 10\n",
    "    timer1 = time.time()\n",
    "    StarMag = 0.0\n",
    "    #j=-1\n",
    "    for tscale in np.logspace(TimeMinus, TimePlus, Ntimes):\n",
    "        j=j+1\n",
    "        Starfactor = 10**(-StarMag/2.5)\n",
    "        print(tscale)\n",
    "        tmp0 = req_closedloop_calc_batch(G_coron_harris, G_OBWFS, E0_coron, E0_OBWFS, dark_current+CIC/tscale,\n",
    "                                                 dark_current+CIC/tscale, tscale, flux*Starfactor, 0.0001*wavescale**2*Qharris,\n",
    "                                                 niter, luvoir.dh_mask, norm)    \n",
    "        tmp1 = tmp0['averaged_hist']\n",
    "        n_tmp1 = len(tmp1)\n",
    "        result_wf_test.append(tmp1[n_tmp1-1])"
   ]
  },
  {
   "cell_type": "code",
   "execution_count": null,
   "id": "c79ef07a",
   "metadata": {},
   "outputs": [],
   "source": [
    "for wavescale in range (1,15,2):\n",
    "    print(1e3*np.sqrt(0.0001*wavescale**2)) #pm "
   ]
  },
  {
   "cell_type": "code",
   "execution_count": null,
   "id": "10588a25",
   "metadata": {},
   "outputs": [],
   "source": [
    "texp = np.logspace(TimeMinus, TimePlus, Ntimes)\n",
    "plt.figure(figsize =(15,10))\n",
    "plt.title(\"c_target=1e-10\",fontsize=20)\n",
    "plt.plot(texp,result_wf_test[0:20]-contrast_floor, label=r'$\\Delta_{wf}=10\\ pm$')\n",
    "plt.plot(texp,result_wf_test[20:40]-contrast_floor, label=r'$\\Delta_{wf}=30\\ pm$')\n",
    "plt.plot(texp,result_wf_test[40:60]-contrast_floor, label=r'$\\Delta_{wf}=50\\ pm$')\n",
    "plt.plot(texp,result_wf_test[60:80]-contrast_floor, label=r'$\\Delta_{wf}=70\\ pm$')\n",
    "plt.plot(texp,result_wf_test[80:100]-contrast_floor, label=r'$\\Delta_{wf}=90\\ pm$')\n",
    "plt.plot(texp,result_wf_test[100:120]-contrast_floor, label=r'$\\Delta_{wf}=110\\ pm$')\n",
    "plt.plot(texp,result_wf_test[120:140]-contrast_floor, label=r'$\\Delta_{wf}=130\\ pm$')\n",
    "plt.plot\n",
    "plt.xlabel(\"$t_{WFS}$ in secs\",fontsize=20)\n",
    "plt.ylabel(\"$\\Delta$ contrast\",fontsize=20)\n",
    "plt.yscale('log')\n",
    "plt.xscale('log')\n",
    "plt.legend(loc = 'upper center',fontsize=20)\n",
    "plt.tick_params(top=True, bottom=True, left=True, \n",
    "                right=True,labelleft=True, labelbottom=True,\n",
    "                labelsize=20)\n",
    "plt.tick_params(axis='both',which='major',length=10, width=2)\n",
    "plt.tick_params(axis='both',which='minor',length=6, width=2)\n",
    "plt.grid()\n",
    "plt.savefig('/Users/asahoo/Documents/ultra/temp_plots/zernike_cont_wf_19.png')\n",
    "plt.show()"
   ]
  },
  {
   "cell_type": "code",
   "execution_count": null,
   "id": "938f57a3",
   "metadata": {},
   "outputs": [],
   "source": []
  },
  {
   "cell_type": "code",
   "execution_count": null,
   "id": "71cd835a",
   "metadata": {},
   "outputs": [],
   "source": []
  },
  {
   "cell_type": "code",
   "execution_count": null,
   "id": "750505e5",
   "metadata": {},
   "outputs": [],
   "source": []
  },
  {
   "cell_type": "code",
   "execution_count": null,
   "id": "26af0449",
   "metadata": {},
   "outputs": [],
   "source": []
  },
  {
   "cell_type": "code",
   "execution_count": null,
   "id": "ce185fd7",
   "metadata": {},
   "outputs": [],
   "source": []
  },
  {
   "cell_type": "code",
   "execution_count": null,
   "id": "2fa14b67",
   "metadata": {},
   "outputs": [],
   "source": [
    "# for i in range(1, 121):\n",
    "#     print(f'Working on \"bulk\" thermal mode, segment: {i+1}')\n",
    "    \n",
    "#     # Apply calibration aberration to used mode\n",
    "#     sm_mode = np.zeros(n_MID)\n",
    "#     sm_mode[6*i -3] = (nm_aber)/2 \n",
    "#     luvoir.sm.actuators  = sm_mode\n",
    "    \n",
    "#     plt.figure()\n",
    "#     plt.text(9.6, 7.6, 'm', fontsize = 10)\n",
    "#     hcipy.imshow_field(luvoir.sm.surface, mask=luvoir.aperture, cmap='RdBu')\n",
    "#     cbar = plt.colorbar()\n",
    "#     plt.tight_layout()\n",
    "#     #plt.savefig('/Users/asahoo/Documents/ultra/temp_plots/bulk_2_2_22/poke_%d.png'% i, dpi=165)\n",
    "#     plt.savefig('/Users/asahoo/Documents/ultra/temp_plots/defocus_plots/poke_{0:03}.png'.format(i), dpi=165)"
   ]
  },
  {
   "cell_type": "code",
   "execution_count": null,
   "id": "15aaa0ab",
   "metadata": {},
   "outputs": [],
   "source": []
  },
  {
   "cell_type": "code",
   "execution_count": null,
   "id": "d4693bbc",
   "metadata": {},
   "outputs": [],
   "source": []
  }
 ],
 "metadata": {
  "kernelspec": {
   "display_name": "Python 3 (ipykernel)",
   "language": "python",
   "name": "python3"
  },
  "language_info": {
   "codemirror_mode": {
    "name": "ipython",
    "version": 3
   },
   "file_extension": ".py",
   "mimetype": "text/x-python",
   "name": "python",
   "nbconvert_exporter": "python",
   "pygments_lexer": "ipython3",
   "version": "3.7.11"
  }
 },
 "nbformat": 4,
 "nbformat_minor": 5
}
