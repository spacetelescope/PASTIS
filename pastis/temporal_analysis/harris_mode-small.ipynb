{
 "cells": [
  {
   "cell_type": "code",
   "execution_count": null,
   "id": "cosmetic-emission",
   "metadata": {
    "scrolled": true
   },
   "outputs": [],
   "source": [
    "import os\n",
    "os.chdir(\"/Users/asahoo/repos/PASTIS\")\n",
    "import time\n",
    "from shutil import copy\n",
    "\n",
    "from astropy.io import fits\n",
    "import astropy.units as u\n",
    "import hcipy\n",
    "import numpy as np\n",
    "\n",
    "import pastis.util as util    \n",
    "from pastis.config import CONFIG_PASTIS \n",
    "from pastis.e2e_simulators.luvoir_imaging import LuvoirA_APLC \n",
    "from pastis.e2e_simulators.generic_segmented_telescopes import SegmentedAPLC\n",
    "import matplotlib.pyplot as plt\n",
    "import pandas as pd\n",
    "from scipy.interpolate import griddata\n",
    "\n",
    "import exoscene.image\n",
    "import exoscene.star\n",
    "import exoscene.planet\n",
    "from exoscene.planet import Planet\n",
    "\n",
    "from astropy.io import fits as pf"
   ]
  },
  {
   "cell_type": "markdown",
   "id": "cosmetic-dining",
   "metadata": {},
   "source": [
    "### Define and create directory"
   ]
  },
  {
   "cell_type": "code",
   "execution_count": null,
   "id": "accredited-spell",
   "metadata": {
    "scrolled": true
   },
   "outputs": [],
   "source": [
    "root_dir = \"/Users/asahoo/Desktop/data_repos/harris_data\"\n",
    "repo_dir = \"/Users/asahoo/repos/PASTIS\"\n",
    "coronagraph_design = 'small' # user provides\n",
    "overall_dir = util.create_data_path(root_dir, telescope='luvoir_'+coronagraph_design)\n",
    "resDir = os.path.join(overall_dir, 'matrix_numerical')\n",
    "print(resDir)\n",
    "\n",
    "\n",
    "# Create necessary directories if they don't exist yet\n",
    "os.makedirs(resDir, exist_ok=True)\n",
    "os.makedirs(os.path.join(resDir, 'OTE_images'), exist_ok=True)\n",
    "os.makedirs(os.path.join(resDir, 'psfs'), exist_ok=True)"
   ]
  },
  {
   "cell_type": "markdown",
   "id": "russian-addiction",
   "metadata": {},
   "source": [
    "### Read from configfile "
   ]
  },
  {
   "cell_type": "code",
   "execution_count": null,
   "id": "beginning-dealer",
   "metadata": {
    "scrolled": true
   },
   "outputs": [],
   "source": [
    "nb_seg = CONFIG_PASTIS.getint('LUVOIR', 'nb_subapertures')\n",
    "wvln = CONFIG_PASTIS.getfloat('LUVOIR', 'lambda') * 1e-9  # m #this doesn't matter, luvoir.wvln\n",
    "diam = CONFIG_PASTIS.getfloat('LUVOIR', 'diameter')  # m\n",
    "nm_aber = CONFIG_PASTIS.getfloat('LUVOIR', 'calibration_aberration') * 1e-9   # m\n",
    "sampling = CONFIG_PASTIS.getfloat('LUVOIR', 'sampling')\n",
    "coronagraph_design = CONFIG_PASTIS.get('LUVOIR','coronagraph_design')\n",
    "\n",
    "optics_path_in_repo = CONFIG_PASTIS.get('LUVOIR', 'optics_path_in_repo')\n",
    "aper_path = CONFIG_PASTIS.get('LUVOIR','aperture_path_in_optics')\n",
    "aper_ind_path = CONFIG_PASTIS.get('LUVOIR', 'indexed_aperture_path_in_optics')\n",
    "aper_read = hcipy.read_fits(os.path.join(repo_dir,optics_path_in_repo,aper_path))\n",
    "aper_ind_read = hcipy.read_fits(os.path.join(repo_dir,optics_path_in_repo,aper_ind_path))\n",
    "z_pup_downsample = CONFIG_PASTIS.getfloat('numerical', 'z_pup_downsample') "
   ]
  },
  {
   "cell_type": "markdown",
   "id": "independent-stamp",
   "metadata": {},
   "source": [
    "### Load aperture files to make segmented mirror"
   ]
  },
  {
   "cell_type": "code",
   "execution_count": null,
   "id": "incredible-texas",
   "metadata": {
    "scrolled": true
   },
   "outputs": [],
   "source": [
    "pupil_grid = hcipy.make_pupil_grid(dims=aper_ind_read.shape[0], diameter=15)\n",
    "aper = hcipy.Field(aper_read.ravel(), pupil_grid)\n",
    "aper_ind = hcipy.Field(aper_ind_read.ravel(), pupil_grid)\n",
    "wf_aper = hcipy.Wavefront(aper, wvln)\n",
    "\n",
    "# Load segment positions from fits header\n",
    "hdr = fits.getheader(os.path.join(repo_dir,optics_path_in_repo,aper_ind_path))\n",
    "\n",
    "poslist = []\n",
    "for i in range(nb_seg):\n",
    "    segname = 'SEG' + str(i+1)\n",
    "    xin = hdr[segname + '_X']\n",
    "    yin = hdr[segname + '_Y']\n",
    "    poslist.append((xin, yin))\n",
    "    \n",
    "poslist = np.transpose(np.array(poslist))\n",
    "seg_pos = hcipy.CartesianGrid(hcipy.UnstructuredCoords(poslist))"
   ]
  },
  {
   "cell_type": "code",
   "execution_count": null,
   "id": "happy-christian",
   "metadata": {},
   "outputs": [],
   "source": [
    "plt.figure(figsize=(20,10))\n",
    "\n",
    "plt.subplot(2,3,1)\n",
    "plt.title(\"pupil_grid\")\n",
    "plt.plot(pupil_grid.x, pupil_grid.y, '+')\n",
    "plt.xlabel('x')\n",
    "plt.ylabel('y')\n",
    "\n",
    "plt.subplot(2,3,2)\n",
    "plt.title(\"aper\")\n",
    "hcipy.imshow_field(aper)\n",
    "plt.tick_params(top=False, bottom=False, left=False, right=False,\n",
    "                labelleft=False, labelbottom=False)\n",
    "plt.colorbar()\n",
    "\n",
    "plt.subplot(2,3,3)\n",
    "plt.title(\"aper_ind\")\n",
    "hcipy.imshow_field(aper_ind)\n",
    "plt.colorbar()\n",
    "\n",
    "plt.subplot(2,3,4)\n",
    "plt.title(\"wf_aper.phase\")\n",
    "hcipy.imshow_field(wf_aper.phase)\n",
    "plt.colorbar()\n",
    "\n",
    "plt.subplot(2,3,5)\n",
    "plt.title(\"wf_aper.amplitude\")\n",
    "hcipy.imshow_field(wf_aper.amplitude)\n",
    "plt.colorbar()\n",
    "\n",
    "plt.subplot(2,3,6)\n",
    "plt.title(\"seg_pos\")\n",
    "plt.plot(seg_pos.x, seg_pos.y, '+')\n",
    "plt.xlabel('x')\n",
    "plt.ylabel('y')\n",
    "plt.colorbar()"
   ]
  },
  {
   "cell_type": "markdown",
   "id": "weighted-edward",
   "metadata": {},
   "source": [
    "### Instantiate LUVOIR"
   ]
  },
  {
   "cell_type": "code",
   "execution_count": null,
   "id": "premium-yahoo",
   "metadata": {
    "scrolled": false
   },
   "outputs": [],
   "source": [
    "optics_input = os.path.join(util.find_repo_location(), CONFIG_PASTIS.get('LUVOIR', 'optics_path_in_repo'))\n",
    "luvoir = LuvoirA_APLC(optics_input, coronagraph_design, sampling)"
   ]
  },
  {
   "cell_type": "code",
   "execution_count": null,
   "id": "structured-mercury",
   "metadata": {
    "scrolled": true
   },
   "outputs": [],
   "source": [
    "hcipy.imshow_field(luvoir.apodizer)"
   ]
  },
  {
   "cell_type": "code",
   "execution_count": null,
   "id": "dangerous-gravity",
   "metadata": {
    "scrolled": true
   },
   "outputs": [],
   "source": [
    "hcipy.imshow_field(luvoir.fpm)\n",
    "plt.colorbar()"
   ]
  },
  {
   "cell_type": "code",
   "execution_count": null,
   "id": "earlier-timothy",
   "metadata": {
    "scrolled": false
   },
   "outputs": [],
   "source": [
    "N_pup_z = int(luvoir.pupil_grid.shape[0] / z_pup_downsample) #N_pup_z = 100\n",
    "grid_zernike = hcipy.field.make_pupil_grid(N_pup_z, diameter=luvoir.diam)"
   ]
  },
  {
   "cell_type": "code",
   "execution_count": null,
   "id": "occasional-conflict",
   "metadata": {
    "scrolled": true
   },
   "outputs": [],
   "source": [
    "plt.figure(figsize=(10,10))\n",
    "plt.title(\"grid_zernike\") #hcipy cartesian grid\n",
    "plt.plot(grid_zernike.x, grid_zernike.y, '+')\n",
    "plt.xlabel('x')\n",
    "plt.ylabel('y')"
   ]
  },
  {
   "cell_type": "markdown",
   "id": "interested-investment",
   "metadata": {},
   "source": [
    "### load thermal modes files"
   ]
  },
  {
   "cell_type": "code",
   "execution_count": null,
   "id": "thousand-eleven",
   "metadata": {
    "scrolled": true
   },
   "outputs": [],
   "source": [
    "filepath = \"/Users/asahoo/Documents/ultra/Sensitivities2.xlsx\"\n",
    "pad_orientation = np.pi/2*np.ones(nb_seg)\n",
    "#pad_orientation = np.zeros(nb_seg)"
   ]
  },
  {
   "cell_type": "markdown",
   "id": "dated-billion",
   "metadata": {},
   "source": [
    "### create harris deformabale mirror"
   ]
  },
  {
   "cell_type": "code",
   "execution_count": null,
   "id": "coastal-litigation",
   "metadata": {
    "scrolled": true
   },
   "outputs": [],
   "source": [
    "luvoir.create_segmented_harris_mirror(filepath,pad_orientation, thermal = True,mechanical=False,other=False) \n",
    "luvoir.harris_sm  #how to plot this? #hcipy deformable mirror and returns a wavefront"
   ]
  },
  {
   "cell_type": "markdown",
   "id": "innovative-selection",
   "metadata": {},
   "source": [
    "### creating single segment"
   ]
  },
  {
   "cell_type": "code",
   "execution_count": null,
   "id": "extreme-option",
   "metadata": {
    "scrolled": true
   },
   "outputs": [],
   "source": [
    "segment = hcipy.hexagonal_aperture(luvoir.segment_circumscribed_diameter, np.pi/2) #function\n",
    "segment_sampled = hcipy.evaluate_supersampled(segment,luvoir.pupil_grid, 10) #hcipy field"
   ]
  },
  {
   "cell_type": "code",
   "execution_count": null,
   "id": "painted-temple",
   "metadata": {
    "scrolled": true
   },
   "outputs": [],
   "source": [
    "plt.figure(figsize=(5, 5))\n",
    "hcipy.imshow_field(segment_sampled)\n",
    "plt.colorbar()"
   ]
  },
  {
   "cell_type": "markdown",
   "id": "engaged-climb",
   "metadata": {},
   "source": [
    "### creating nb_seg segments"
   ]
  },
  {
   "cell_type": "code",
   "execution_count": null,
   "id": "needed-light",
   "metadata": {
    "scrolled": true
   },
   "outputs": [],
   "source": [
    "aper2, segs2 = hcipy.make_segmented_aperture(segment,luvoir.seg_pos, segment_transmissions=1, return_segments=True)\n",
    "luvoir_segmented_pattern = hcipy.evaluate_supersampled(aper2, luvoir.pupil_grid, 10) #plot with hcipy.imshow_field\n",
    "seg_evaluated = []\n",
    "for seg_tmp in segs2:\n",
    "    tmp_evaluated = hcipy.evaluate_supersampled(seg_tmp, luvoir.pupil_grid, 1)\n",
    "    seg_evaluated.append(tmp_evaluated)"
   ]
  },
  {
   "cell_type": "code",
   "execution_count": null,
   "id": "powerful-prospect",
   "metadata": {
    "scrolled": true
   },
   "outputs": [],
   "source": [
    "plt.figure(figsize=(15, 5))\n",
    "plt.subplot(1,2,1)\n",
    "hcipy.imshow_field(luvoir_segmented_pattern) #no where used in rest of the code?\n",
    "plt.colorbar()\n",
    "\n",
    "plt.subplot(1,2,2)\n",
    "hcipy.imshow_field(seg_evaluated[75])\n",
    "plt.colorbar()"
   ]
  },
  {
   "cell_type": "markdown",
   "id": "medieval-protest",
   "metadata": {},
   "source": [
    "### Plotting Harris_mode"
   ]
  },
  {
   "cell_type": "code",
   "execution_count": null,
   "id": "sunset-practitioner",
   "metadata": {
    "scrolled": true
   },
   "outputs": [],
   "source": [
    "df = pd.read_excel(filepath) #this code is already in repo; find ways to reduce the number of lines \n",
    "valuesA = np.asarray(df.a)\n",
    "valuesB = np.asarray(df.b)\n",
    "valuesC = np.asarray(df.c)\n",
    "valuesD = np.asarray(df.d)\n",
    "valuesE = np.asarray(df.e)\n",
    "valuesF = np.asarray(df.f)\n",
    "valuesG = np.asarray(df.g)\n",
    "valuesH = np.asarray(df.h)\n",
    "valuesI = np.asarray(df.i)\n",
    "valuesJ = np.asarray(df.j)\n",
    "valuesK = np.asarray(df.k)\n",
    "\n",
    "seg_x = np.asarray(df.X)\n",
    "seg_y = np.asarray(df.Y)\n",
    "\n",
    "harris_seg_diameter = np.max([np.max(seg_x) - np.min(seg_x), np.max(seg_y) - np.min(seg_y)])\n",
    "pup_dims = luvoir.pupil_grid.dims\n",
    "x_grid = np.asarray(df.X) * luvoir.segment_circumscribed_diameter /harris_seg_diameter\n",
    "y_grid = np.asarray(df.Y) * luvoir.segment_circumscribed_diameter /harris_seg_diameter\n",
    "points = np.transpose(np.asarray([x_grid, y_grid]))\n",
    "\n",
    "seg_evaluated = luvoir._create_evaluated_segment_grid()\n",
    "\n",
    "def _transform_harris_mode(values, xrot, yrot, points, seg_evaluated, seg_num):\n",
    "    \"\"\" Take imported Harris mode data and transform into a segment mode on our aperture. \"\"\"\n",
    "    zval = griddata(points, values, (xrot, yrot), method='linear')\n",
    "    zval[np.isnan(zval)] = 0\n",
    "    zval = zval.ravel() * seg_evaluated[seg_num]\n",
    "    return zval\n",
    "\n",
    "harris_base_thermal = []\n",
    "for seg_num in range(0, luvoir.nseg):\n",
    "    grid_seg = luvoir.pupil_grid.shifted(-luvoir.seg_pos[seg_num])\n",
    "    x_line_grid = np.asarray(grid_seg.x)\n",
    "    y_line_grid = np.asarray(grid_seg.y)\n",
    "    \n",
    "# Rotate the modes grids according to the orientation of the mounting pads\n",
    "phi = pad_orientation[seg_num]\n",
    "x_rotation = x_line_grid * np.cos(phi) + y_line_grid * np.sin(phi)\n",
    "y_rotation = -x_line_grid * np.sin(phi) + y_line_grid * np.cos(phi)\n",
    "\n",
    "# Transform all needed Harris modes from data to modes on our segmented aperture\n",
    "ZA = _transform_harris_mode(valuesA, x_rotation, y_rotation, points, seg_evaluated, seg_num)\n",
    "ZB = _transform_harris_mode(valuesB, x_rotation, y_rotation, points, seg_evaluated, seg_num)\n",
    "ZC = _transform_harris_mode(valuesC, x_rotation, y_rotation, points, seg_evaluated, seg_num)\n",
    "ZD = _transform_harris_mode(valuesD, x_rotation, y_rotation, points, seg_evaluated, seg_num)\n",
    "ZE = _transform_harris_mode(valuesE, x_rotation, y_rotation, points, seg_evaluated, seg_num)\n",
    "ZF = _transform_harris_mode(valuesF, x_rotation, y_rotation, points, seg_evaluated, seg_num)\n",
    "ZG = _transform_harris_mode(valuesG, x_rotation, y_rotation, points, seg_evaluated, seg_num)\n",
    "ZH = _transform_harris_mode(valuesH, x_rotation, y_rotation, points, seg_evaluated, seg_num)\n",
    "ZI = _transform_harris_mode(valuesI, x_rotation, y_rotation, points, seg_evaluated, seg_num)\n",
    "ZJ = _transform_harris_mode(valuesJ, x_rotation, y_rotation, points, seg_evaluated, seg_num)\n",
    "ZK = _transform_harris_mode(valuesK, x_rotation, y_rotation, points, seg_evaluated, seg_num)\n",
    "\n",
    "harris_base_thermal.append([ZA, ZB, ZC, ZD, ZE, ZF, ZG, ZH, ZI, ZJ, ZK])"
   ]
  },
  {
   "cell_type": "code",
   "execution_count": null,
   "id": "specific-prince",
   "metadata": {
    "scrolled": false
   },
   "outputs": [],
   "source": [
    "from matplotlib.colors import TwoSlopeNorm\n",
    "import matplotlib.gridspec as gridspec\n",
    "\n",
    "plot_norm = TwoSlopeNorm(vcenter=0)\n",
    "\n",
    "plt.figure(figsize=(40,20))\n",
    "ax1 = plt.subplot2grid(shape=(2,6), loc=(0,0), colspan=2)\n",
    "plt.title(\"Segment Level 1mK Faceplates Silvered\", fontsize=30)\n",
    "plot_norm1 = TwoSlopeNorm(vcenter=0, vmin=-10,  vmax =10)\n",
    "plt.imshow(np.reshape(ZA,(1000,1000))[163:263,804:904], cmap = 'RdBu', norm = plot_norm1)\n",
    "plt.tick_params(top=False, bottom=False, left=False, right=False,labelleft=False, labelbottom=False)\n",
    "cbar = plt.colorbar()\n",
    "cbar.ax.tick_params(labelsize=30)\n",
    "cbar.set_label(\"pm\",fontsize =30)\n",
    "\n",
    "\n",
    "ax2 = plt.subplot2grid((2,6), (0,2), colspan=2)\n",
    "plt.title(\"Segment Level 1mK bulk\",fontsize=30)\n",
    "plot_norm2 = TwoSlopeNorm(vcenter=0, vmin=-3,  vmax =1)\n",
    "plt.imshow(np.reshape(ZH,(1000,1000))[163:263,804:904],cmap = 'RdBu',norm = plot_norm2)\n",
    "plt.tick_params(top=False, bottom=False, left=False, right=False,labelleft=False, labelbottom=False)\n",
    "cbar = plt.colorbar()\n",
    "cbar.ax.tick_params(labelsize=30)\n",
    "cbar.set_label(\"pm\",fontsize =30)\n",
    "\n",
    "\n",
    "\n",
    "ax3 = plt.subplot2grid((2,6), (0,4), colspan=2)\n",
    "plt.title(\"Segment Level 1mK gradiant radial\",fontsize=30)\n",
    "plot_norm3 = TwoSlopeNorm(vcenter=0, vmin=-1.5,  vmax =1.5) \n",
    "plt.imshow(np.reshape(ZI,(1000,1000))[163:263,804:904],cmap = 'RdBu',norm = plot_norm3)\n",
    "plt.tick_params(top=False, bottom=False, left=False, right=False,labelleft=False, labelbottom=False)\n",
    "cbar = plt.colorbar()\n",
    "cbar.ax.tick_params(labelsize=30)\n",
    "cbar.set_label(\"pm\",fontsize =30)\n",
    "\n",
    "\n",
    "\n",
    "ax4 = plt.subplot2grid((2,6), (1,1), colspan=2)\n",
    "plt.title(\"Segment Level 1mK gradient X lateral\",fontsize=30)\n",
    "plot_norm4 = TwoSlopeNorm(vcenter=0, vmin=-2.5,  vmax =2.5) #\n",
    "plt.imshow(np.reshape(ZJ,(1000,1000))[163:263,804:904],cmap = 'RdBu', norm = plot_norm4)\n",
    "plt.tick_params(top=False, bottom=False, left=False, right=False,labelleft=False, labelbottom=False)\n",
    "cbar = plt.colorbar()\n",
    "cbar.ax.tick_params(labelsize=30)\n",
    "cbar.set_label(\"pm\",fontsize =30)\n",
    "\n",
    "\n",
    "\n",
    "ax5 = plt.subplot2grid((2,6), (1,3), colspan=2)\n",
    "plt.title(\"Segment Level 1mK gradient Z axial\",fontsize=30)\n",
    "plot_norm5 = TwoSlopeNorm(vcenter=0,vmin=-3,  vmax =3)\n",
    "plt.imshow(np.reshape(ZK,(1000,1000))[163:263,804:904],cmap = 'RdBu', norm = plot_norm5)\n",
    "plt.tick_params(top=False, bottom=False, left=False, right=False,labelleft=False, labelbottom=False)\n",
    "cbar = plt.colorbar()\n",
    "cbar.ax.tick_params(labelsize=30)\n",
    "cbar.set_label(\"pm\",fontsize =30)\n",
    "\n",
    "#plt.tight_layout()\n",
    "#plt.savefig('/Users/asahoo/Documents/ultra/report_11_01_21/thermal_basis.png')"
   ]
  },
  {
   "cell_type": "markdown",
   "id": "7a7329d8",
   "metadata": {},
   "source": [
    "### Single mode plots"
   ]
  },
  {
   "cell_type": "code",
   "execution_count": null,
   "id": "757964e7",
   "metadata": {},
   "outputs": [],
   "source": [
    "from matplotlib.colors import TwoSlopeNorm\n",
    "\n",
    "plt.figure(figsize=(15,10))\n",
    "\n",
    "#plt.title(\"Segment Level 1mk gradient Z axial\",fontsize=20)\n",
    "plot_norm1 = TwoSlopeNorm(vcenter=0, vmin=-10,  vmax =10)\n",
    "plt.imshow(np.reshape(ZA,(1000,1000))[163:263,804:904], cmap = 'RdBu', norm = plot_norm1)\n",
    "plt.tick_params(top=False, bottom=False, left=False, right=False,labelleft=False, labelbottom=False)\n",
    "cbar = plt.colorbar()\n",
    "cbar.ax.tick_params(labelsize=20)\n",
    "cbar.set_label(\"pm\",fontsize =20)\n",
    "\n",
    "plt.tight_layout()\n",
    "#plt.savefig('/Users/asahoo/Documents/ultra/report_11_01_21/faceplate_silvered.png')"
   ]
  },
  {
   "cell_type": "markdown",
   "id": "fitted-increase",
   "metadata": {},
   "source": [
    "### Flatten all DMs and create unaberrated reference PSF"
   ]
  },
  {
   "cell_type": "code",
   "execution_count": null,
   "id": "innocent-postcard",
   "metadata": {
    "scrolled": true
   },
   "outputs": [],
   "source": [
    "n_harris = luvoir.harris_sm.num_actuators #int = 5*120 =600\n",
    "harris_mode =np.zeros(n_harris)\n",
    "luvoir.harris_sm.actuators = harris_mode #setting all actuators to be zero"
   ]
  },
  {
   "cell_type": "markdown",
   "id": "seeing-signature",
   "metadata": {},
   "source": [
    "### Calculate the unaberrated coro and direct PSFs in INTENSITY"
   ]
  },
  {
   "cell_type": "code",
   "execution_count": null,
   "id": "mature-webmaster",
   "metadata": {
    "scrolled": true
   },
   "outputs": [],
   "source": [
    "unaberrated_coro_psf, ref = luvoir.calc_psf(ref=True, display_intermediate=False, norm_one_photon=True)"
   ]
  },
  {
   "cell_type": "code",
   "execution_count": null,
   "id": "unable-bidder",
   "metadata": {
    "scrolled": false
   },
   "outputs": [],
   "source": [
    "plt.figure(figsize=(13,5))\n",
    "plt.subplot(1,2,1)\n",
    "plt.title(\"Non Aberrated Coronagraphic PSF\") #hcipy.field\n",
    "hcipy.imshow_field(np.log(np.abs(unaberrated_coro_psf)))\n",
    "plt.colorbar()\n",
    "\n",
    "plt.subplot(1,2,2)\n",
    "plt.title(\"PSF without Coronagraph\")\n",
    "hcipy.imshow_field(np.log(np.abs(ref))) #hcipy wavefront\n",
    "plt.colorbar()\n",
    "\n"
   ]
  },
  {
   "cell_type": "code",
   "execution_count": null,
   "id": "unexpected-dylan",
   "metadata": {
    "scrolled": false
   },
   "outputs": [],
   "source": [
    "norm = np.max(ref)\n",
    "print(norm)\n",
    "dh_intensity = (unaberrated_coro_psf / norm) * luvoir.dh_mask #field,13225 elements\n",
    "contrast_floor = np.mean(dh_intensity[np.where(luvoir.dh_mask != 0)])\n",
    "print(f'contrast floor: {contrast_floor}')\n",
    "\n",
    "hcipy.imshow_field(dh_intensity)\n",
    "plt.title(\"dh_intensity\")"
   ]
  },
  {
   "cell_type": "markdown",
   "id": "947f7bf3",
   "metadata": {},
   "source": [
    "### Changing the axis scale to $\\lambda /D$"
   ]
  },
  {
   "cell_type": "code",
   "execution_count": null,
   "id": "57155bf7",
   "metadata": {
    "scrolled": false
   },
   "outputs": [],
   "source": [
    "ideal_coro_psf = np.reshape(unaberrated_coro_psf, [115,115])\n",
    "ideal_psf = np.reshape(ref, [115,115])\n",
    "\n",
    "# ind_max = np.unravel_index(np.argmax(np.abs(ideal_psf), axis=None), np.abs(ideal_psf).shape)\n",
    "# #print(ind_max)\n",
    "\n",
    "# #pf.writeto('/Users/asahoo/Documents/ultra/report_11_01_21/ideal_psf.fits', np.abs(ideal_psf))\n",
    "\n",
    "\n",
    "# # for i in range(0,115,20):\n",
    "# #     print(i, (i-ind_max[0])*(1/5)) #from the ideal_psf image, 10pixels = 2l/d, thus 1 pixel = (1/5)l/d\n",
    "   \n",
    "    \n",
    "# x_pixels = [0,17,37,57,77,97,114]\n",
    "# x_ld = [r\"-11.4$\\lambda/D$\",r\"-8.0$\\lambda/D$\", r\"-4.0$\\lambda/D$\", 0, r\"4.0$\\lambda/D$\", r\"8.0$\\lambda/D$\",r\"11.4$\\lambda/D$\"]\n",
    "\n",
    "# plt.figure(figsize=(13,5))\n",
    "# plt.subplot(1,2,1)\n",
    "# plt.title(\"Coronagraphic PSF\")\n",
    "# plt.imshow(np.log(np.abs(ideal_coro_psf)))\n",
    "# plt.xticks(x_pixels, x_ld)\n",
    "# plt.yticks(x_pixels, x_ld)\n",
    "# # plt.xlabel(\"in units of \"r\"$\\lambda /D$\")\n",
    "# # plt.ylabel(\"in units of \"r\"$\\lambda /D$\")\n",
    "# plt.colorbar()\n",
    "\n",
    "# plt.subplot(1,2,2)\n",
    "# plt.title(\"PSF without Coronagraph\")\n",
    "# plt.imshow(np.log(np.abs(ideal_psf)))\n",
    "# plt.xticks(x_pixels, x_ld)\n",
    "# plt.yticks(x_pixels, x_ld)\n",
    "# # plt.xlabel(\"in units of \"r\"$\\lambda /D$\")\n",
    "# # plt.ylabel(\"in units of \"r\"$\\lambda /D$\")\n",
    "# plt.colorbar()\n",
    "\n",
    "# plt.tight_layout()\n",
    "# plt.savefig('/Users/asahoo/Documents/ultra/report_11_01_21/coro_n_ideal_psf2.png')"
   ]
  },
  {
   "cell_type": "markdown",
   "id": "saved-brain",
   "metadata": {},
   "source": [
    "### Calculate the unaberrated coro and direct PSFs in E-FIELDS"
   ]
  },
  {
   "cell_type": "code",
   "execution_count": null,
   "id": "exclusive-evolution",
   "metadata": {
    "scrolled": true
   },
   "outputs": [],
   "source": [
    "# Calculate the unaberrated coro and direct PSFs in E-FIELDS\n",
    "nonaberrated_coro_psf, ref, efield = luvoir.calc_psf(ref=True, display_intermediate=False, return_intermediate='efield',norm_one_photon=True)\n",
    "Efield_ref = nonaberrated_coro_psf.electric_field"
   ]
  },
  {
   "cell_type": "code",
   "execution_count": null,
   "id": "c1a78e33",
   "metadata": {},
   "outputs": [],
   "source": [
    "dh_intensity_nonaberrated = ((np.square((nonaberrated_coro_psf.amplitude)))/ norm) * luvoir.dh_mask #field,13225 elements\n",
    "contrast_floor_nonberrated = np.mean(dh_intensity_nonaberrated[np.where(luvoir.dh_mask != 0)])\n",
    "print(f'contrast floor: {contrast_floor_nonberrated}')"
   ]
  },
  {
   "cell_type": "code",
   "execution_count": null,
   "id": "suited-boundary",
   "metadata": {
    "scrolled": true
   },
   "outputs": [],
   "source": [
    "plt.figure(figsize=(15, 5))\n",
    "\n",
    "plt.subplot(1,2,1)\n",
    "hcipy.imshow_field(np.log(np.square(np.abs(nonaberrated_coro_psf.amplitude))))\n",
    "plt.title(\"nonaberrated_coro_psf.amplitude\")\n",
    "plt.colorbar()\n",
    "\n",
    "plt.subplot(1,2,2)\n",
    "hcipy.imshow_field(np.log(np.square(np.abs(ref.amplitude))))\n",
    "plt.title(\"ref.amplitude\")\n",
    "plt.colorbar()"
   ]
  },
  {
   "cell_type": "code",
   "execution_count": null,
   "id": "happy-usage",
   "metadata": {
    "scrolled": true
   },
   "outputs": [],
   "source": [
    "print('Generating the E-fields for harris modes in science plane')\n",
    "print(f'Calibration aberration used: {nm_aber} m')\n"
   ]
  },
  {
   "cell_type": "code",
   "execution_count": null,
   "id": "congressional-approval",
   "metadata": {
    "scrolled": true
   },
   "outputs": [],
   "source": [
    "start_time = time.time()\n",
    "focus_fieldS = []\n",
    "focus_fieldS_Re = []\n",
    "focus_fieldS_Im = []\n",
    "\n",
    "for pp in range(0, n_harris):\n",
    "    print(f'Working on mode {pp}/{n_harris}')\n",
    "    \n",
    "    # Apply calibration aberration to used mode\n",
    "    harris_mode = np.zeros(n_harris)\n",
    "    harris_mode[pp] = (nm_aber)/2 \n",
    "    luvoir.harris_sm.actuators  = harris_mode\n",
    "    \n",
    "    # Calculate coronagraphic E-field and add to lists\n",
    "    aberrated_coro_psf, inter = luvoir.calc_psf(display_intermediate=False, return_intermediate='efield',norm_one_photon=True)\n",
    "    focus_field1 = aberrated_coro_psf\n",
    "    focus_fieldS.append(focus_field1)\n",
    "    focus_fieldS_Re.append(focus_field1.real)\n",
    "    focus_fieldS_Im.append(focus_field1.imag)"
   ]
  },
  {
   "cell_type": "code",
   "execution_count": null,
   "id": "nuclear-strike",
   "metadata": {
    "scrolled": false
   },
   "outputs": [],
   "source": [
    "plt.figure(figsize=(10, 10))\n",
    "hcipy.imshow_field(np.log(np.abs(focus_fieldS_Im[10])))\n",
    "plt.colorbar()"
   ]
  },
  {
   "cell_type": "markdown",
   "id": "narrative-reporter",
   "metadata": {},
   "source": [
    "### Construct the PASTIS matrix from the E-fields"
   ]
  },
  {
   "cell_type": "code",
   "execution_count": null,
   "id": "behind-savannah",
   "metadata": {
    "scrolled": true
   },
   "outputs": [],
   "source": [
    "mat_fast = np.zeros([n_harris, n_harris])   # create empty matrix\n",
    "\n",
    "for i in range(0, n_harris):\n",
    "    for j in range(0, n_harris):\n",
    "        test = np.real((focus_fieldS[i].electric_field - Efield_ref) * np.conj(focus_fieldS[j].electric_field - Efield_ref))\n",
    "        dh_test = (test / norm) * luvoir.dh_mask\n",
    "        contrast = np.mean(dh_test[np.where(luvoir.dh_mask != 0)])\n",
    "        mat_fast[i, j] = contrast"
   ]
  },
  {
   "cell_type": "code",
   "execution_count": null,
   "id": "numerous-stockholm",
   "metadata": {
    "scrolled": true
   },
   "outputs": [],
   "source": [
    "matrix_pastis = np.copy(mat_fast)\n",
    "matrix_pastis /= np.square(nm_aber * 1e9)"
   ]
  },
  {
   "cell_type": "code",
   "execution_count": null,
   "id": "98026da7",
   "metadata": {},
   "outputs": [],
   "source": [
    "(np.abs(mat_fast[100,100]))"
   ]
  },
  {
   "cell_type": "code",
   "execution_count": null,
   "id": "african-consideration",
   "metadata": {
    "scrolled": false
   },
   "outputs": [],
   "source": [
    "plt.figure(figsize=(10,8))\n",
    "plt.imshow(np.log(np.abs(mat_fast)))\n",
    "#plt.title(\"PASTIS matrix\")\n",
    "plt.xlabel(\"Mode Index\",fontsize=20)\n",
    "plt.ylabel(\"Mode Index\",fontsize=20)\n",
    "plt.tick_params(labelsize=15)\n",
    "plt.colorbar()\n",
    "plt.tight_layout()\n",
    "plt.savefig('/Users/asahoo/Documents/ultra/report_11_01_21/pastis_matrix.png')\n",
    "plt.show()\n",
    "# plt.subplot(1,2,2)\n",
    "# plt.imshow(np.log(np.abs(matrix_pastis)))\n",
    "# plt.title(\"np.log(np.abs(matrix_pastis))\")\n",
    "# plt.colorbar()"
   ]
  },
  {
   "cell_type": "code",
   "execution_count": null,
   "id": "interpreted-pearl",
   "metadata": {
    "scrolled": true
   },
   "outputs": [],
   "source": [
    "filename_matrix = 'PASTISmatrix_n_harris_' + str(n_harris)\n",
    "hcipy.write_fits(matrix_pastis, os.path.join(resDir, filename_matrix + '.fits'))\n",
    "print('Matrix saved to:', os.path.join(resDir, filename_matrix + '.fits'))"
   ]
  },
  {
   "cell_type": "code",
   "execution_count": null,
   "id": "developing-degree",
   "metadata": {
    "scrolled": true
   },
   "outputs": [],
   "source": [
    "filename_matrix = 'EFIELD_Re_matrix_n_harris_' + str(n_harris)\n",
    "hcipy.write_fits(focus_fieldS_Re, os.path.join(resDir, filename_matrix + '.fits'))\n",
    "print('Efield Real saved to:', os.path.join(resDir, filename_matrix + '.fits'))"
   ]
  },
  {
   "cell_type": "code",
   "execution_count": null,
   "id": "broad-hayes",
   "metadata": {
    "scrolled": true
   },
   "outputs": [],
   "source": [
    "filename_matrix = 'EFIELD_Im_matrix_n_harris_' + str(n_harris)\n",
    "hcipy.write_fits(focus_fieldS_Im, os.path.join(resDir, filename_matrix + '.fits'))\n",
    "print('Efield Imag saved to:', os.path.join(resDir, filename_matrix + '.fits'))"
   ]
  },
  {
   "cell_type": "code",
   "execution_count": null,
   "id": "selected-membership",
   "metadata": {
    "scrolled": true
   },
   "outputs": [],
   "source": [
    "end_time = time.time()"
   ]
  },
  {
   "cell_type": "code",
   "execution_count": null,
   "id": "coordinate-traffic",
   "metadata": {
    "scrolled": true
   },
   "outputs": [],
   "source": [
    "print('Runtime for harris modes:', end_time - start_time, 'sec =', (end_time - start_time) / 60, 'min')\n",
    "print('Data saved to {}'.format(resDir))"
   ]
  },
  {
   "cell_type": "markdown",
   "id": "fifth-latin",
   "metadata": {},
   "source": [
    "## error analysis"
   ]
  },
  {
   "cell_type": "code",
   "execution_count": null,
   "id": "forty-officer",
   "metadata": {
    "scrolled": false
   },
   "outputs": [],
   "source": [
    "evals, evecs = np.linalg.eig(matrix_pastis)\n",
    "sorted_evals = np.sort(evals)\n",
    "sorted_indices = np.argsort(evals)\n",
    "sorted_evecs = evecs[:, sorted_indices]\n",
    "\n",
    "plt.figure(figsize=(10, 8))\n",
    "#plt.plot(evals, label='Unsorted from eigendecomposition')\n",
    "plt.plot(sorted_evals)\n",
    "plt.semilogy()\n",
    "plt.xlabel('Mode Index',fontsize=20)\n",
    "plt.ylabel('Eigenvalues (in units of contrast/'r'wave$^2$)',fontsize=20)\n",
    "plt.tick_params(top=True, bottom=True, left=True, right=True,\n",
    "                labelleft=True, labelbottom=True, labelsize=20)\n",
    "plt.savefig('/Users/asahoo/Documents/ultra/report_11_01_21/eigenvalues.png')\n",
    "#plt.legend()"
   ]
  },
  {
   "cell_type": "code",
   "execution_count": null,
   "id": "continuing-tolerance",
   "metadata": {
    "scrolled": false
   },
   "outputs": [],
   "source": [
    "# emodes = []\n",
    "# eunit = 1e-9\n",
    "# for mode in range(len(evals)):\n",
    "#     print('Working on mode {}/{}.'.format(mode+1, len(evals)))\n",
    "    \n",
    "#     harris_coeffs = eunit*sorted_evecs[:, mode]/2\n",
    "#     luvoir.harris_sm.actuators = harris_coeffs\n",
    "#     wf_harris_sm = luvoir.harris_sm(luvoir.wf_aper)\n",
    "#     emodes.append(wf_harris_sm.phase)"
   ]
  },
  {
   "cell_type": "code",
   "execution_count": null,
   "id": "worse-guyana",
   "metadata": {
    "scrolled": true
   },
   "outputs": [],
   "source": [
    "c_target_log = -11\n",
    "c_target = 10**(c_target_log)\n",
    "n_repeat = 20"
   ]
  },
  {
   "cell_type": "code",
   "execution_count": null,
   "id": "analyzed-scottish",
   "metadata": {
    "scrolled": true
   },
   "outputs": [],
   "source": [
    "mu_map_harris = np.sqrt(((c_target) / (n_harris)) / (np.diag(matrix_pastis)))"
   ]
  },
  {
   "cell_type": "code",
   "execution_count": null,
   "id": "protected-sperm",
   "metadata": {
    "scrolled": false
   },
   "outputs": [],
   "source": [
    "plt.figure(figsize=(20,10))\n",
    "plt.title(\"Modal constraints to achieve a dark hole contrast of \"r\"$10^{-11}$\", fontsize=30)\n",
    "plt.ylabel(\"Weight per mode (in units of nm)\",fontsize =20)\n",
    "plt.xlabel(\"Mode index\", fontsize=20)\n",
    "plt.tick_params(top=True, bottom=True, left=True, right=True,labelleft=True, labelbottom=True, labelsize=20)\n",
    "plt.plot(mu_map_harris)\n",
    "plt.tight_layout()\n",
    "plt.savefig('/Users/asahoo/Documents/ultra/report_11_01_21/mu_map_harris.png')"
   ]
  },
  {
   "cell_type": "code",
   "execution_count": null,
   "id": "bibliographic-prophet",
   "metadata": {
    "scrolled": false
   },
   "outputs": [],
   "source": [
    "sigma = np.sqrt(((c_target)) / (600 * sorted_evals))\n",
    "plt.figure(figsize=(15,8))\n",
    "plt.title(\"Max mode contribution(s) from the static-contrast target(1e-11) and eigen values\",fontsize=20)\n",
    "plt.ylabel(r\"$\\sigma$\",fontsize =20)\n",
    "plt.xlabel(\"Mode index\", fontsize=20)\n",
    "plt.tick_params(top=True, bottom=True, left=True, right=True,labelleft=True, labelbottom=True, labelsize=20)\n",
    "plt.plot(sigma)\n",
    "plt.savefig('/Users/asahoo/Documents/ultra/report_11_01_21/sigma.png')"
   ]
  },
  {
   "cell_type": "code",
   "execution_count": null,
   "id": "secret-construction",
   "metadata": {
    "scrolled": true
   },
   "outputs": [],
   "source": [
    "cont_cum_pastis = []\n",
    "for maxmode in range(sorted_evecs.shape[0]):\n",
    "    \n",
    "    aber = np.nansum(sorted_evecs[:, :maxmode+1] * sigma[:maxmode+1], axis=1)\n",
    "    aber *= u.nm\n",
    "    contrast_matrix = util.pastis_contrast(aber, matrix_pastis) + contrast_floor\n",
    "    cont_cum_pastis.append(contrast_matrix)\n"
   ]
  },
  {
   "cell_type": "code",
   "execution_count": null,
   "id": "ready-longer",
   "metadata": {
    "scrolled": false
   },
   "outputs": [],
   "source": [
    "plt.figure(figsize=(10,10))\n",
    "plt.plot(cont_cum_pastis)\n",
    "plt.xlabel(\"Mode Index\", fontsize =20)\n",
    "plt.ylabel(\"List of cumulative contrast\", fontsize =20)\n",
    "plt.tick_params(top=True, bottom=True, left=True, right=True,labelleft=True, labelbottom=True, labelsize=20)\n",
    "plt.savefig('/Users/asahoo/Documents/ultra/report_11_01_21/cont_cum_pastis.png')"
   ]
  },
  {
   "cell_type": "code",
   "execution_count": null,
   "id": "vertical-clearance",
   "metadata": {
    "scrolled": true
   },
   "outputs": [],
   "source": [
    "cont_ind_pastis = []\n",
    "for maxmode in range(sorted_evecs.shape[0]):\n",
    "    aber = sorted_evecs[:, maxmode] * sigma[maxmode]\n",
    "    aber *=u.nm\n",
    "    contrast_matrix = util.pastis_contrast(aber, matrix_pastis)\n",
    "    cont_ind_pastis.append(contrast_matrix)"
   ]
  },
  {
   "cell_type": "code",
   "execution_count": null,
   "id": "athletic-norfolk",
   "metadata": {
    "scrolled": false
   },
   "outputs": [],
   "source": [
    "plt.figure(figsize=(20,10))\n",
    "plt.plot((cont_ind_pastis))\n",
    "plt.semilogy()\n",
    "plt.xlabel(\"Mode Index\",fontsize=20)\n",
    "plt.ylabel(\"List of Individual contrast\",fontsize=20)\n",
    "plt.tick_params(top=True, bottom=True, left=True, right=True,labelleft=True, labelbottom=True, labelsize=20)\n",
    "plt.savefig('/Users/asahoo/Documents/ultra/report_11_01_21/cont_ind_pastis.png')\n",
    "#plt.yscale('log')\n"
   ]
  },
  {
   "cell_type": "code",
   "execution_count": null,
   "id": "interracial-warrior",
   "metadata": {
    "scrolled": true
   },
   "outputs": [],
   "source": [
    "npup = int(np.sqrt(luvoir.pupil_grid.x.shape[0]))\n",
    "nimg = int(np.sqrt(luvoir.focal_det.x.shape[0]))\n",
    "\n",
    "# Getting the flux together\n",
    "sptype = 'A0V' # Put this on config\n",
    "Vmag = 0.0 # Put this in loop\n",
    "minlam = 500 * u.nanometer # Put this on config\n",
    "maxlam = 600 * u.nanometer # Put this on config\n",
    "star_flux = exoscene.star.bpgs_spectype_to_photonrate(spectype=sptype, Vmag=Vmag, minlam=minlam.value, maxlam=maxlam.value)\n",
    "Nph = star_flux.value*15**2*np.sum(luvoir.apodizer**2) / npup**2\n",
    "dark_current = 0#0.000072 #es per s \n",
    "CIC = 0#0.00076 #electrons per sec"
   ]
  },
  {
   "cell_type": "code",
   "execution_count": null,
   "id": "tropical-variable",
   "metadata": {
    "scrolled": true
   },
   "outputs": [],
   "source": [
    "harris_mode = np.zeros(n_harris)\n",
    "luvoir.harris_sm.actuators  = harris_mode\n",
    "nonaberrated_coro_psf, refshit,inter_ref = luvoir.calc_psf(ref=True, display_intermediate=False, return_intermediate='efield',norm_one_photon=True)\n",
    "Efield_ref = nonaberrated_coro_psf.electric_field"
   ]
  },
  {
   "cell_type": "code",
   "execution_count": null,
   "id": "flexible-special",
   "metadata": {
    "scrolled": false
   },
   "outputs": [],
   "source": [
    "harris_mode = np.zeros(n_harris)\n",
    "luvoir.harris_sm.actuators  = harris_mode\n",
    "harris_ref2 = luvoir.calc_out_of_band_wfs(norm_one_photon=True)\n",
    "harris_ref2_sub_real = hcipy.field.subsample_field(harris_ref2.real, z_pup_downsample, grid_zernike, statistic='mean')\n",
    "harris_ref2_sub_imag = hcipy.field.subsample_field(harris_ref2.imag, z_pup_downsample, grid_zernike, statistic='mean')\n",
    "Efield_ref_OBWFS = (harris_ref2_sub_real + 1j*harris_ref2_sub_imag) * z_pup_downsample"
   ]
  },
  {
   "cell_type": "code",
   "execution_count": null,
   "id": "comic-territory",
   "metadata": {
    "scrolled": false
   },
   "outputs": [],
   "source": [
    "plt.figure(figsize = (20,10))\n",
    "plt.subplot(1,2,1)\n",
    "hcipy.imshow_field(Efield_ref_OBWFS.real, cmap ='RdBu')\n",
    "plt.colorbar()\n",
    "plt.subplot(1,2,2)\n",
    "hcipy.imshow_field(Efield_ref_OBWFS.imag, cmap ='RdBu')\n",
    "plt.colorbar()"
   ]
  },
  {
   "cell_type": "code",
   "execution_count": null,
   "id": "greenhouse-converter",
   "metadata": {
    "scrolled": true
   },
   "outputs": [],
   "source": [
    "nyquist_sampling = 2.\n",
    "\n",
    "# Actual grid for LUVOIR images\n",
    "grid_test = hcipy.make_focal_grid(\n",
    "            luvoir.sampling,\n",
    "            luvoir.imlamD,\n",
    "            pupil_diameter=luvoir.diam,\n",
    "            focal_length=1,\n",
    "            reference_wavelength=luvoir.wvln,\n",
    "        )\n",
    "\n",
    "# Actual grid for LUVOIR images that are nyquist sampled\n",
    "grid_det_subsample = hcipy.make_focal_grid(\n",
    "            nyquist_sampling,\n",
    "            np.floor(luvoir.imlamD),\n",
    "            pupil_diameter=luvoir.diam,\n",
    "            focal_length=1,\n",
    "            reference_wavelength=luvoir.wvln,\n",
    "        )\n",
    "n_nyquist = np.int(np.sqrt(grid_det_subsample.x.shape[0]))"
   ]
  },
  {
   "cell_type": "code",
   "execution_count": null,
   "id": "incorporated-teacher",
   "metadata": {
    "scrolled": true
   },
   "outputs": [],
   "source": [
    "### Dark hole mask\n",
    "design = 'small'\n",
    "\n",
    "dh_outer_nyquist = hcipy.circular_aperture(2 * luvoir.apod_dict[design]['owa'] * luvoir.lam_over_d)(grid_det_subsample)\n",
    "dh_inner_nyquist = hcipy.circular_aperture(2 * luvoir.apod_dict[design]['iwa'] * luvoir.lam_over_d)(grid_det_subsample)\n",
    "dh_mask_nyquist = (dh_outer_nyquist - dh_inner_nyquist).astype('bool')\n",
    "\n",
    "dh_size = len(np.where(luvoir.dh_mask != 0)[0])\n",
    "dh_size_nyquist = len(np.where(dh_mask_nyquist != 0)[0])\n",
    "dh_index = np.where(luvoir.dh_mask != 0)[0]\n",
    "dh_index_nyquist = np.where(dh_mask_nyquist != 0)[0]"
   ]
  },
  {
   "cell_type": "code",
   "execution_count": null,
   "id": "visible-amplifier",
   "metadata": {
    "scrolled": true
   },
   "outputs": [],
   "source": [
    "# E0_LOWFS = np.zeros([N_pup_z*N_pup_z,1,2])\n",
    "# E0_LOWFS[:,0,0] = Efield_ref_LOWFS.real\n",
    "# E0_LOWFS[:,0,1] = Efield_ref_LOWFS.imag\n",
    "E0_OBWFS = np.zeros([N_pup_z*N_pup_z,1,2])\n",
    "E0_OBWFS[:,0,0] = Efield_ref_OBWFS.real\n",
    "E0_OBWFS[:,0,1] = Efield_ref_OBWFS.imag\n",
    "E0_coron = np.zeros([nimg*nimg,1,2])\n",
    "E0_coron[:,0,0] = Efield_ref.real\n",
    "E0_coron[:,0,1] = Efield_ref.imag\n",
    "E0_coron_nyquist = np.zeros([n_nyquist*n_nyquist,1,2])\n",
    "tmp0 = hcipy.interpolation.make_linear_interpolator_separated(Efield_ref, grid=grid_test)\n",
    "Efield_ref_nyquist = (luvoir.sampling/nyquist_sampling)**2*tmp0(grid_det_subsample)\n",
    "E0_coron_nyquist[:,0,0] = Efield_ref_nyquist.real\n",
    "E0_coron_nyquist[:,0,1] = Efield_ref_nyquist.imag\n",
    "E0_coron_DH = np.zeros([dh_size,1,2])\n",
    "E0_coron_DH[:,0,0] = Efield_ref.real[dh_index]\n",
    "E0_coron_DH[:,0,1] = Efield_ref.imag[dh_index]\n",
    "E0_coron_DH_nyquist = np.zeros([dh_size_nyquist,1,2])\n",
    "E0_coron_DH_nyquist[:,0,0] = Efield_ref_nyquist.real[dh_index_nyquist]\n",
    "E0_coron_DH_nyquist[:,0,1] = Efield_ref_nyquist.real[dh_index_nyquist]"
   ]
  },
  {
   "cell_type": "code",
   "execution_count": null,
   "id": "cutting-light",
   "metadata": {
    "scrolled": true
   },
   "outputs": [],
   "source": [
    "filename_matrix = 'EFIELD_Re_matrix_n_harris_' + str(n_harris) + '.fits'\n",
    "G_harris_real = fits.getdata(os.path.join(overall_dir, 'matrix_numerical', filename_matrix))\n",
    "filename_matrix = 'EFIELD_Im_matrix_n_harris_' + str(n_harris) + '.fits'\n",
    "G_harris_imag = fits.getdata(os.path.join(overall_dir, 'matrix_numerical', filename_matrix))\n",
    "\n",
    "G_coron_harris_nyquist= np.zeros([n_nyquist*n_nyquist,2,n_harris])\n",
    "for pp in range(0, n_harris):\n",
    "    tmp0 = G_harris_real[pp] + 1j*G_harris_imag[pp]\n",
    "    tmp1 = hcipy.interpolation.make_linear_interpolator_separated(tmp0, grid=grid_test)\n",
    "    tmp2 = (luvoir.sampling/nyquist_sampling)**2*tmp1(grid_det_subsample)\n",
    "    G_coron_harris_nyquist[:,0,pp] = tmp2.real - Efield_ref_nyquist.real\n",
    "    G_coron_harris_nyquist[:,1,pp] = tmp2.real - Efield_ref_nyquist.imag"
   ]
  },
  {
   "cell_type": "code",
   "execution_count": null,
   "id": "cognitive-mandate",
   "metadata": {
    "scrolled": true
   },
   "outputs": [],
   "source": [
    "G_coron_harris_DH= np.zeros([dh_size,2,n_harris])\n",
    "for pp in range(0, n_harris):\n",
    "    G_coron_harris_DH[:,0,pp] = G_harris_real[pp,dh_index] - Efield_ref.real[dh_index]\n",
    "    G_coron_harris_DH[:,1,pp] = G_harris_imag[pp,dh_index] - Efield_ref.imag[dh_index]"
   ]
  },
  {
   "cell_type": "code",
   "execution_count": null,
   "id": "conditional-seating",
   "metadata": {
    "scrolled": true
   },
   "outputs": [],
   "source": [
    "G_coron_harris_DH_nyquist= np.zeros([dh_size_nyquist,2,n_harris])\n",
    "for pp in range(0, n_harris):\n",
    "    tmp0 = G_harris_real[pp] + 1j*G_harris_imag[pp]\n",
    "    tmp1 = hcipy.interpolation.make_linear_interpolator_separated(tmp0, grid=grid_test)\n",
    "    tmp2 = (luvoir.sampling/nyquist_sampling)**2*tmp1(grid_det_subsample)\n",
    "    G_coron_harris_DH_nyquist[:,0,pp-1] = tmp2.real[dh_index_nyquist] - Efield_ref_nyquist.real[dh_index_nyquist]\n",
    "    G_coron_harris_DH_nyquist[:,1,pp-1] = tmp2.real[dh_index_nyquist] - Efield_ref_nyquist.imag[dh_index_nyquist]"
   ]
  },
  {
   "cell_type": "code",
   "execution_count": null,
   "id": "recorded-clause",
   "metadata": {
    "scrolled": true
   },
   "outputs": [],
   "source": [
    "G_coron_harris= np.zeros([nimg*nimg,2,n_harris])\n",
    "for pp in range(0, n_harris):\n",
    "    G_coron_harris[:,0,pp] = G_harris_real[pp] - Efield_ref.real\n",
    "    G_coron_harris[:,1,pp] = G_harris_imag[pp] - Efield_ref.imag"
   ]
  },
  {
   "cell_type": "code",
   "execution_count": null,
   "id": "altered-office",
   "metadata": {
    "scrolled": true
   },
   "outputs": [],
   "source": [
    "start_time = time.time()\n",
    "focus_fieldS = []\n",
    "focus_fieldS_Re = []\n",
    "focus_fieldS_Im = []"
   ]
  },
  {
   "cell_type": "code",
   "execution_count": null,
   "id": "vocational-berlin",
   "metadata": {
    "scrolled": true
   },
   "outputs": [],
   "source": [
    "for pp in range(0, n_harris):\n",
    "    print(pp)\n",
    "    harris_modes = np.zeros(n_harris)\n",
    "    harris_modes[pp] = (nm_aber) / 2\n",
    "    luvoir.harris_sm.actuators  = harris_modes\n",
    "    harris_meas = luvoir.calc_out_of_band_wfs(norm_one_photon=True)\n",
    "    harris_meas_sub_real = hcipy.field.subsample_field(harris_meas.real, z_pup_downsample, grid_zernike, statistic='mean')\n",
    "    harris_meas_sub_imag = hcipy.field.subsample_field(harris_meas.imag, z_pup_downsample, grid_zernike, statistic='mean')\n",
    "    focus_field1 = harris_meas_sub_real + 1j * harris_meas_sub_imag\n",
    "    focus_fieldS.append(focus_field1)\n",
    "    focus_fieldS_Re.append(focus_field1.real)\n",
    "    focus_fieldS_Im.append(focus_field1.imag)"
   ]
  },
  {
   "cell_type": "code",
   "execution_count": null,
   "id": "alternative-chinese",
   "metadata": {
    "scrolled": true
   },
   "outputs": [],
   "source": [
    "filename_matrix = 'EFIELD_OBWFS_Re_matrix_num_harris_' + str(n_harris)\n",
    "hcipy.write_fits(focus_fieldS_Re, os.path.join(resDir, filename_matrix + '.fits'))\n",
    "print('Efield Real saved to:', os.path.join(resDir, filename_matrix + '.fits'))\n",
    "\n",
    "filename_matrix = 'EFIELD_OBWFS_Im_matrix_num_harris_' + str(n_harris)\n",
    "hcipy.write_fits(focus_fieldS_Im, os.path.join(resDir, filename_matrix + '.fits'))\n",
    "print('Efield Imag saved to:', os.path.join(resDir, filename_matrix + '.fits'))"
   ]
  },
  {
   "cell_type": "code",
   "execution_count": null,
   "id": "planned-browse",
   "metadata": {
    "scrolled": true
   },
   "outputs": [],
   "source": [
    "filename_matrix = 'EFIELD_OBWFS_Re_matrix_num_harris_' + str(n_harris)+'.fits'\n",
    "G_OBWFS_real = fits.getdata(os.path.join(overall_dir, 'matrix_numerical', filename_matrix))\n",
    "filename_matrix = 'EFIELD_OBWFS_Im_matrix_num_harris_' + str(n_harris)+'.fits'\n",
    "G_OBWFS_imag =  fits.getdata(os.path.join(overall_dir, 'matrix_numerical', filename_matrix))"
   ]
  },
  {
   "cell_type": "code",
   "execution_count": null,
   "id": "mineral-murray",
   "metadata": {
    "scrolled": true
   },
   "outputs": [],
   "source": [
    "G_OBWFS= np.zeros([N_pup_z*N_pup_z,2,n_harris])\n",
    "for pp in range(0, n_harris):\n",
    "    G_OBWFS[:,0,pp] = G_OBWFS_real[pp]*z_pup_downsample - Efield_ref_OBWFS.real\n",
    "    G_OBWFS[:,1,pp] = G_OBWFS_imag[pp]*z_pup_downsample - Efield_ref_OBWFS.imag"
   ]
  },
  {
   "cell_type": "code",
   "execution_count": null,
   "id": "governmental-skill",
   "metadata": {
    "scrolled": true
   },
   "outputs": [],
   "source": [
    "def req_closedloop_calc_recursive(Gcoro, Gsensor, E0coro, E0sensor, Dcoro, Dsensor, t_exp, flux, Q, Niter, dh_mask,\n",
    "                                  norm):\n",
    "    P = np.zeros(Q.shape)  # WFE modes covariance estimate\n",
    "    r = Gsensor.shape[2]\n",
    "    N = Gsensor.shape[0]\n",
    "    N_img = Gcoro.shape[0]\n",
    "    c = 1\n",
    "    # Iterations of ALGORITHM 1\n",
    "    contrast_hist = np.zeros(Niter)\n",
    "    intensity_WFS_hist = np.zeros(Niter)\n",
    "    cal_I_hist = np.zeros(Niter)\n",
    "    eps_hist = np.zeros([Niter, r])\n",
    "    averaged_hist = np.zeros(Niter)\n",
    "    contrasts = []\n",
    "    for pp in range(Niter):\n",
    "        eps = np.random.multivariate_normal(np.zeros(r), P + Q * t_exp).reshape((1, 1, r))  # random modes\n",
    "        G_eps = np.sum(Gsensor * eps, axis=2).reshape((N, 1, 2 * c)) + E0sensor  # electric field\n",
    "        G_eps_squared = np.sum(G_eps * G_eps, axis=2, keepdims=True)\n",
    "        G_eps_G = np.matmul(G_eps, Gsensor)\n",
    "        G_eps_G_scaled = G_eps_G / np.sqrt(G_eps_squared + Dsensor / flux / t_exp)  # trick to save RAM\n",
    "        cal_I = 4 * flux * t_exp * np.einsum(\"ijk,ijl->kl\", G_eps_G_scaled, G_eps_G_scaled)  # information matrix\n",
    "        P = np.linalg.inv(np.linalg.inv(P + Q * t_exp / 2) + cal_I)\n",
    "        #         P = np.linalg.inv(cal_I)\n",
    "\n",
    "        # Coronagraph\n",
    "        G_eps_coron = np.sum(Gcoro * eps, axis=2).reshape((N_img, 1, 2 * c)) + E0coro\n",
    "        G_eps_coron_squared = np.sum(G_eps_coron * G_eps_coron, axis=2, keepdims=True)\n",
    "        intensity = G_eps_coron_squared * flux * t_exp + Dcoro\n",
    "\n",
    "        # Wavefront sensor\n",
    "        intensity_WFS = G_eps_squared * flux * t_exp + Dsensor\n",
    "\n",
    "        # Archive\n",
    "        test_DH0 = intensity[:, 0, 0] * luvoir.dh_mask\n",
    "        test_DH = np.mean(test_DH0[np.where(test_DH0 != 0)])\n",
    "        contrasts.append(test_DH / flux / t_exp / norm)\n",
    "        intensity_WFS_hist[pp] = np.sum(intensity_WFS) / flux\n",
    "        cal_I_hist[pp] = np.mean(cal_I) / flux\n",
    "        eps_hist[pp] = eps\n",
    "        averaged_hist[pp] = np.mean(contrasts)\n",
    "        #         print(\"est. contrast\", np.mean(contrasts))\n",
    "\n",
    "        outputs = {'intensity_WFS_hist': intensity_WFS_hist,\n",
    "                   'cal_I_hist': cal_I_hist,\n",
    "                   'eps_hist': eps_hist,\n",
    "                   'averaged_hist': averaged_hist,\n",
    "                   'contrasts': contrasts}\n",
    "    return outputs"
   ]
  },
  {
   "cell_type": "code",
   "execution_count": null,
   "id": "entire-taiwan",
   "metadata": {
    "scrolled": true
   },
   "outputs": [],
   "source": [
    "def req_closedloop_calc_batch(Gcoro, Gsensor, E0coro, E0sensor, Dcoro, Dsensor, t_exp, flux, Q, Niter, dh_mask, norm):\n",
    "    P = np.zeros(Q.shape)  # WFE modes covariance estimate\n",
    "    r = Gsensor.shape[2]\n",
    "    N = Gsensor.shape[0]\n",
    "    N_img = Gcoro.shape[0]\n",
    "    c = 1\n",
    "    # Iterations of ALGORITHM 1\n",
    "    contrast_hist = np.zeros(Niter)\n",
    "    intensity_WFS_hist = np.zeros(Niter)\n",
    "    cal_I_hist = np.zeros(Niter)\n",
    "    eps_hist = np.zeros([Niter, r])\n",
    "    averaged_hist = np.zeros(Niter)\n",
    "    contrasts = []\n",
    "    for pp in range(Niter):\n",
    "        eps = np.random.multivariate_normal(np.zeros(r), P + Q * t_exp).reshape((1, 1, r))  # random modes\n",
    "        G_eps = np.sum(Gsensor * eps, axis=2).reshape((N, 1, 2 * c)) + E0sensor  # electric field\n",
    "        G_eps_squared = np.sum(G_eps * G_eps, axis=2, keepdims=True)\n",
    "        G_eps_G = np.matmul(G_eps, Gsensor)\n",
    "        G_eps_G_scaled = G_eps_G / np.sqrt(G_eps_squared + Dsensor / flux / t_exp)  # trick to save RAM\n",
    "        cal_I = 4 * flux * t_exp * np.einsum(\"ijk,ijl->kl\", G_eps_G_scaled, G_eps_G_scaled)  # information matrix\n",
    "        #         P = np.linalg.inv(np.linalg.inv(P+Q*t_exp/2) + cal_I)\n",
    "        P = np.linalg.pinv(cal_I)\n",
    "\n",
    "        # Coronagraph\n",
    "        G_eps_coron = np.sum(Gcoro * eps, axis=2).reshape((N_img, 1, 2 * c)) + E0coro\n",
    "        G_eps_coron_squared = np.sum(G_eps_coron * G_eps_coron, axis=2, keepdims=True)\n",
    "        intensity = G_eps_coron_squared * flux * t_exp + Dcoro\n",
    "\n",
    "        # Wavefront sensor\n",
    "        intensity_WFS = G_eps_squared * flux * t_exp + Dsensor\n",
    "\n",
    "        # Archive\n",
    "        test_DH0 = intensity[:, 0, 0] * luvoir.dh_mask\n",
    "        test_DH = np.mean(test_DH0[np.where(test_DH0 != 0)])\n",
    "        contrasts.append(test_DH / flux / t_exp / norm)\n",
    "        intensity_WFS_hist[pp] = np.sum(intensity_WFS) / flux\n",
    "        cal_I_hist[pp] = np.mean(cal_I) / flux\n",
    "        eps_hist[pp] = eps\n",
    "        averaged_hist[pp] = np.mean(contrasts)\n",
    "    #         print(\"est. contrast\", np.mean(contrasts))\n",
    "    #         print(\"est. contrast\", np.mean(contrasts))\n",
    "\n",
    "    outputs = {'intensity_WFS_hist': intensity_WFS_hist,\n",
    "               'cal_I_hist': cal_I_hist,\n",
    "               'eps_hist': eps_hist,\n",
    "               'averaged_hist': averaged_hist,\n",
    "               'contrasts': contrasts}\n",
    "\n",
    "    return outputs\n"
   ]
  },
  {
   "cell_type": "code",
   "execution_count": null,
   "id": "magnetic-general",
   "metadata": {
    "scrolled": true
   },
   "outputs": [],
   "source": [
    "flux = Nph\n",
    "Qharris = np.diag(np.asarray(mu_map_harris**2))"
   ]
  },
  {
   "cell_type": "code",
   "execution_count": null,
   "id": "dressed-interest",
   "metadata": {
    "scrolled": true
   },
   "outputs": [],
   "source": [
    "# Running a bunch of tests for time series\n",
    "\n",
    "Ntimes = 20\n",
    "TimeMinus = -2\n",
    "TimePlus = 3.5\n",
    "Nwavescale = 8\n",
    "WaveScaleMinus = -2\n",
    "WaveScalePlus = 1\n",
    "Nflux = 3\n",
    "fluxPlus = 10\n",
    "fluxMinus = 0\n",
    "\n",
    "timeVec = np.logspace(TimeMinus,TimePlus,Ntimes)\n",
    "WaveVec = np.logspace(WaveScaleMinus,WaveScalePlus,Nwavescale)\n",
    "fluxVec = np.linspace(fluxMinus,fluxPlus,Nflux)\n",
    "wavescaleVec = np.logspace(WaveScaleMinus,WaveScalePlus,Nwavescale)"
   ]
  },
  {
   "cell_type": "code",
   "execution_count": null,
   "id": "6454f6a7",
   "metadata": {},
   "outputs": [],
   "source": [
    "#fluxVec"
   ]
  },
  {
   "cell_type": "code",
   "execution_count": null,
   "id": "6572871a",
   "metadata": {},
   "outputs": [],
   "source": [
    "#10**(-fluxVec/2.5)"
   ]
  },
  {
   "cell_type": "code",
   "execution_count": null,
   "id": "c5333020",
   "metadata": {},
   "outputs": [],
   "source": [
    "#StarMag"
   ]
  },
  {
   "cell_type": "code",
   "execution_count": null,
   "id": "11459abe",
   "metadata": {
    "scrolled": true
   },
   "outputs": [],
   "source": [
    "# result_mv =[]\n",
    "\n",
    "# #i=-1\n",
    "# for StarMag in range (2,7,1):\n",
    "#     #i=i+1\n",
    "#     print('Harris modes with batch OBWFS and noise %f'% StarMag, \"i\",i) \n",
    "#     wavescale = 1.\n",
    "#     niter = 10\n",
    "#     timer1 = time.time()\n",
    "#     #StarMag = 5.0\n",
    "#     #j=-1\n",
    "#     for tscale in np.logspace(TimeMinus, TimePlus, Ntimes):\n",
    "#         j=j+1\n",
    "#         Starfactor = 10**(-StarMag/2.5)\n",
    "#         print(tscale)\n",
    "#         tmp0 = req_closedloop_calc_batch(G_coron_harris, G_OBWFS, E0_coron, E0_OBWFS, dark_current+CIC/tscale,\n",
    "#                                                  dark_current+CIC/tscale, tscale, flux*Starfactor, 0.1*wavescale**2*Qharris,\n",
    "#                                                  niter, luvoir.dh_mask, norm)    \n",
    "#         tmp1 = tmp0['averaged_hist']\n",
    "#         n_tmp1 = len(tmp1)\n",
    "#         result_mv.append(tmp1[n_tmp1-1])\n"
   ]
  },
  {
   "cell_type": "code",
   "execution_count": null,
   "id": "823028d1",
   "metadata": {},
   "outputs": [],
   "source": [
    "# texp = np.logspace(TimeMinus, TimePlus, Ntimes)\n",
    "\n",
    "# plt.figure(figsize =(15,10))\n",
    "# plt.plot(texp,result_mv[0:20]-contrast_floor, label=r'$m_{v}=2$')\n",
    "# plt.plot(texp,result_mv[20:40]-contrast_floor, label=r'$m_{v}=3$')\n",
    "# plt.plot(texp,result_mv[40:60]-contrast_floor, label=r'$m_{v}=4$')\n",
    "# plt.plot(texp,result_mv[60:80]-contrast_floor, label=r'$m_{v}=5$')\n",
    "# plt.plot(texp,result_mv[80:100]-contrast_floor, label=r'$m_{v}=6$')\n",
    "# plt.xlabel(\"$t_{WFS}$ in secs\")\n",
    "# plt.ylabel(\"$\\Delta$ contrast\")\n",
    "# plt.yscale('log')\n",
    "# plt.xscale('log')\n",
    "# plt.legend(loc = 'lower right')\n",
    "# plt.show()\n",
    "\n",
    "# plt.figure(figsize =(15,10))\n",
    "# plt.plot(texp,result_mv[0:20], label=r'$m_{v}=2$')\n",
    "# plt.plot(texp,result_mv[20:40], label=r'$m_{v}=3$')\n",
    "# plt.plot(texp,result_mv[40:60], label=r'$m_{v}=4$')\n",
    "# plt.plot(texp,result_mv[60:80], label=r'$m_{v}=5$')\n",
    "# plt.plot(texp,result_mv[80:100], label=r'$m_{v}=6$')\n",
    "# plt.xlabel(\"$t_{WFS}$ in secs\")\n",
    "# plt.ylabel(\"$\\Delta$ contrast\")\n",
    "# plt.yscale('log')\n",
    "# plt.xscale('log')\n",
    "# plt.legend(loc = 'lower right')\n",
    "# plt.show()"
   ]
  },
  {
   "cell_type": "code",
   "execution_count": null,
   "id": "d6308703",
   "metadata": {},
   "outputs": [],
   "source": [
    "res = np.zeros([Ntimes, Nwavescale, Nflux, 1])\n",
    "result_wf_test =[]\n",
    "\n",
    "#i=-1\n",
    "for wavescale in range (1,15,2):\n",
    "    #i=i+1\n",
    "    print('Harris modes with batch OBWFS and noise %f'% wavescale, \"i\",i)  \n",
    "    niter = 10\n",
    "    timer1 = time.time()\n",
    "    StarMag = 6.0\n",
    "    #j=-1\n",
    "    for tscale in np.logspace(TimeMinus, TimePlus, Ntimes):\n",
    "        j=j+1\n",
    "        Starfactor = 10**(-StarMag/2.5)\n",
    "        print(tscale)\n",
    "        tmp0 = req_closedloop_calc_batch(G_coron_harris, G_OBWFS, E0_coron, E0_OBWFS, dark_current+CIC/tscale,\n",
    "                                                 dark_current+CIC/tscale, tscale, flux*Starfactor, 0.01*wavescale**2*Qharris,\n",
    "                                                 niter, luvoir.dh_mask, norm)    \n",
    "        tmp1 = tmp0['averaged_hist']\n",
    "        n_tmp1 = len(tmp1)\n",
    "        result_wf_test.append(tmp1[n_tmp1-1])\n"
   ]
  },
  {
   "cell_type": "code",
   "execution_count": null,
   "id": "91c6147b",
   "metadata": {},
   "outputs": [],
   "source": [
    "texp = np.logspace(TimeMinus, TimePlus, Ntimes)\n",
    "plt.figure(figsize =(15,10))\n",
    "plt.plot(texp,result_wf_test[0:20]-contrast_floor, label=r'$\\Delta_{wf}=0.3$')\n",
    "plt.plot(texp,result_wf_test[20:40]-contrast_floor, label=r'$\\Delta_{wf}=0.5$')\n",
    "plt.plot(texp,result_wf_test[40:60]-contrast_floor, label=r'$\\Delta_{wf}=0.7$')\n",
    "plt.plot(texp,result_wf_test[60:80]-contrast_floor, label=r'$\\Delta_{wf}=1.0$')\n",
    "plt.plot(texp,result_wf_test[80:100]-contrast_floor, label=r'$\\Delta_{wf}=1.3$')\n",
    "plt.plot(texp,result_wf_test[100:120]-contrast_floor, label=r'$\\Delta_{wf}=1.5$')\n",
    "plt.plot\n",
    "plt.xlabel(\"$t_{WFS}$ in secs\",fontsize=20)\n",
    "plt.ylabel(\"$\\Delta$ contrast\",fontsize=20)\n",
    "plt.yscale('log')\n",
    "plt.xscale('log')\n",
    "plt.legend(loc = 'upper center',fontsize=20)\n",
    "plt.tick_params(top=True, bottom=True, left=True, \n",
    "                right=True,labelleft=True, labelbottom=True,\n",
    "                labelsize=20)\n",
    "plt.tick_params(axis='both',which='major',length=10, width=2)\n",
    "plt.tick_params(axis='both',which='minor',length=6, width=2)\n",
    "plt.grid()\n",
    "plt.savefig('/Users/asahoo/Documents/ultra/report_11_01_21/cont_wf.png')\n",
    "plt.show()"
   ]
  },
  {
   "cell_type": "code",
   "execution_count": null,
   "id": "apart-register",
   "metadata": {
    "scrolled": true
   },
   "outputs": [],
   "source": [
    "N_zernike = 5\n",
    "zernike_coeffs_numaps = np.zeros([N_zernike,n_harris])\n",
    "MID_modes_std = mu_map_harris\n",
    "for qq in range(N_zernike):\n",
    "    zernike_coeffs_tmp = np.zeros([n_harris])\n",
    "    for kk in range(120):\n",
    "        zernike_coeffs_tmp[qq+(kk)*N_zernike] = MID_modes_std[qq+(kk)*N_zernike]\n",
    "        zernike_coeffs_numaps[qq] = zernike_coeffs_tmp\n",
    "\n",
    "zernike_coeffs_table = np.zeros([N_zernike,120])\n",
    "for qq in range(N_zernike):\n",
    "    zernike_coeffs_tmp = np.zeros([120])\n",
    "    for kk in range(120):\n",
    "        zernike_coeffs_table[qq,kk] = MID_modes_std[qq+(kk)*N_zernike]\n",
    "\n",
    "nu_maps = []\n",
    "for qq in range(N_zernike):\n",
    "    zernike_coeffs = zernike_coeffs_numaps[qq]\n",
    "    luvoir.harris_sm.actuators = zernike_coeffs*nm_aber/ 2\n",
    "    nu_maps.append(luvoir.harris_sm.surface)"
   ]
  },
  {
   "cell_type": "code",
   "execution_count": null,
   "id": "cf4a7cd6",
   "metadata": {},
   "outputs": [],
   "source": [
    "from matplotlib.colors import TwoSlopeNorm\n",
    "import matplotlib.gridspec as gridspec\n",
    "\n",
    "\n",
    "plt.figure(figsize=(40,20))\n",
    "ax1 = plt.subplot2grid(shape=(2,6), loc=(0,0), colspan=2)\n",
    "plt.title(\"Segment Level 1mK Faceplates Silvered\", fontsize=30)\n",
    "plot_norm1 = TwoSlopeNorm(vcenter=0,vmin=-45,  vmax =45) #\n",
    "hcipy.imshow_field((nu_maps[0])*1e12, cmap = 'RdBu', norm = plot_norm1)\n",
    "plt.tick_params(top=False, bottom=False, left=False, right=False,labelleft=False, labelbottom=False)\n",
    "cbar = plt.colorbar()\n",
    "cbar.ax.tick_params(labelsize=30)\n",
    "cbar.set_label(\"pm\",fontsize =30)\n",
    "\n",
    "\n",
    "ax2 = plt.subplot2grid((2,6), (0,2), colspan=2)\n",
    "plt.title(\"Segment Level 1mK bulk\",fontsize=30)\n",
    "plot_norm2 = TwoSlopeNorm(vcenter=0, vmin=-80,  vmax =20)\n",
    "hcipy.imshow_field((nu_maps[1])*1e12,cmap = 'RdBu',norm = plot_norm2)\n",
    "plt.tick_params(top=False, bottom=False, left=False, right=False,labelleft=False, labelbottom=False)\n",
    "cbar = plt.colorbar()\n",
    "cbar.ax.tick_params(labelsize=30)\n",
    "cbar.set_label(\"pm\",fontsize =30)\n",
    "\n",
    "\n",
    "\n",
    "ax3 = plt.subplot2grid((2,6), (0,4), colspan=2)\n",
    "plt.title(\"Segment Level 1mK gradiant radial\",fontsize=30)\n",
    "plot_norm3 = TwoSlopeNorm(vcenter=0, vmin=-60,  vmax =40) \n",
    "hcipy.imshow_field((nu_maps[2])*1e12,cmap = 'RdBu',norm = plot_norm3)\n",
    "plt.tick_params(top=False, bottom=False, left=False, right=False,labelleft=False, labelbottom=False)\n",
    "cbar = plt.colorbar()\n",
    "cbar.ax.tick_params(labelsize=30)\n",
    "cbar.set_label(\"pm\",fontsize =30)\n",
    "\n",
    "\n",
    "\n",
    "ax4 = plt.subplot2grid((2,6), (1,1), colspan=2)\n",
    "plt.title(\"Segment Level 1mK gradient X lateral\",fontsize=30)\n",
    "plot_norm4 = TwoSlopeNorm(vcenter=0, vmin=-20,  vmax =20) #\n",
    "hcipy.imshow_field((nu_maps[3])*1e12,cmap = 'RdBu', norm = plot_norm4)\n",
    "plt.tick_params(top=False, bottom=False, left=False, right=False,labelleft=False, labelbottom=False)\n",
    "cbar = plt.colorbar()\n",
    "cbar.ax.tick_params(labelsize=30)\n",
    "cbar.set_label(\"pm\",fontsize =30)\n",
    "\n",
    "\n",
    "\n",
    "ax5 = plt.subplot2grid((2,6), (1,3), colspan=2)\n",
    "plt.title(\"Segment Level 1mK gradient Z axial\",fontsize=30)\n",
    "plot_norm5 = TwoSlopeNorm(vcenter=0,vmin=-20,  vmax =20)\n",
    "hcipy.imshow_field((nu_maps[4])*1e12,cmap = 'RdBu', norm = plot_norm5)\n",
    "plt.tick_params(top=False, bottom=False, left=False, right=False,labelleft=False, labelbottom=False)\n",
    "cbar = plt.colorbar()\n",
    "cbar.ax.tick_params(labelsize=30)\n",
    "cbar.set_label(\"pm\",fontsize =30)\n",
    "\n",
    "plt.tight_layout()\n",
    "plt.savefig('/Users/asahoo/Documents/ultra/report_11_01_21/mu_map_pm.png')"
   ]
  },
  {
   "cell_type": "code",
   "execution_count": null,
   "id": "thorough-fundamentals",
   "metadata": {
    "scrolled": true
   },
   "outputs": [],
   "source": [
    "five_vec_1 = np.zeros(120)\n",
    "five_vec_2 = np.zeros(120)\n",
    "five_vec_3 = np.zeros(120)\n",
    "five_vec_4 = np.zeros(120)\n",
    "five_vec_5 = np.zeros(120)\n",
    "\n",
    "j = -1\n",
    "for i in range (0,596,5):\n",
    "        j = j+1\n",
    "        print(\"i---\",i,\"j---\",j) \n",
    "        five_vec_1[j]=mu_map_harris[i]\n",
    "        five_vec_2[j]=mu_map_harris[i+1]\n",
    "        five_vec_3[j]=mu_map_harris[i+2]\n",
    "        five_vec_4[j]=mu_map_harris[i+3]\n",
    "        five_vec_5[j]=mu_map_harris[i+4]"
   ]
  },
  {
   "cell_type": "code",
   "execution_count": null,
   "id": "dirty-internet",
   "metadata": {
    "scrolled": true
   },
   "outputs": [],
   "source": [
    "luvoir2 = LuvoirA_APLC(optics_input, coronagraph_design, sampling)\n",
    "luvoir2.create_segmented_mirror(1)\n",
    "luvoir2.sm.actuators = five_vec_1\n",
    "\n",
    "luvoir3 = LuvoirA_APLC(optics_input, coronagraph_design, sampling)\n",
    "luvoir3.create_segmented_mirror(1)\n",
    "luvoir3.sm.actuators = five_vec_2\n",
    "\n",
    "luvoir4 = LuvoirA_APLC(optics_input, coronagraph_design, sampling)\n",
    "luvoir4.create_segmented_mirror(1)\n",
    "luvoir4.sm.actuators = five_vec_3\n",
    "\n",
    "\n",
    "luvoir5 = LuvoirA_APLC(optics_input, coronagraph_design, sampling)\n",
    "luvoir5.create_segmented_mirror(1)\n",
    "luvoir5.sm.actuators = five_vec_4\n",
    "\n",
    "\n",
    "luvoir6 = LuvoirA_APLC(optics_input, coronagraph_design, sampling)\n",
    "luvoir6.create_segmented_mirror(1)\n",
    "luvoir6.sm.actuators = five_vec_5"
   ]
  },
  {
   "cell_type": "code",
   "execution_count": null,
   "id": "290b0432",
   "metadata": {},
   "outputs": [],
   "source": [
    "from matplotlib.colors import TwoSlopeNorm\n",
    "import matplotlib.gridspec as gridspec\n",
    "\n",
    "\n",
    "plt.figure(figsize=(40,20))\n",
    "ax1 = plt.subplot2grid(shape=(2,6), loc=(0,0), colspan=2)\n",
    "plt.title(\"Faceplates Silvered\", fontsize=30)\n",
    "hcipy.imshow_field((luvoir2.sm.surface)*1000, cmap = 'RdBu',vmin=0,  vmax =15)\n",
    "plt.tick_params(top=False, bottom=False, left=False, right=False,labelleft=False, labelbottom=False)\n",
    "cbar = plt.colorbar()\n",
    "cbar.ax.tick_params(labelsize=30)\n",
    "cbar.set_label(\"mK\",fontsize =30)\n",
    "\n",
    "\n",
    "ax2 = plt.subplot2grid((2,6), (0,2), colspan=2)\n",
    "plt.title(\"Bulk\",fontsize=30)\n",
    "hcipy.imshow_field((luvoir3.sm.surface)*1000, cmap = 'RdBu', vmin=0,vmax =70)\n",
    "plt.tick_params(top=False, bottom=False, left=False, right=False,labelleft=False, labelbottom=False)\n",
    "cbar = plt.colorbar()\n",
    "cbar.ax.tick_params(labelsize=30)\n",
    "cbar.set_label(\"mK\",fontsize =30)\n",
    "\n",
    "\n",
    "\n",
    "ax3 = plt.subplot2grid((2,6), (0,4), colspan=2)\n",
    "plt.title(\"Gradiant Radial\",fontsize=30)\n",
    "hcipy.imshow_field((luvoir4.sm.surface)*1000,cmap = 'RdBu',vmin=0,  vmax =140)\n",
    "plt.tick_params(top=False, bottom=False, left=False, right=False,labelleft=False, labelbottom=False)\n",
    "cbar = plt.colorbar()\n",
    "cbar.ax.tick_params(labelsize=30)\n",
    "cbar.set_label(\"mK\",fontsize =30)\n",
    "\n",
    "\n",
    "\n",
    "ax4 = plt.subplot2grid((2,6), (1,1), colspan=2)\n",
    "plt.title(\"Gradient X lateral\",fontsize=30)\n",
    "hcipy.imshow_field((luvoir5.sm.surface)*1000,cmap = 'RdBu', vmin=0,  vmax =30)\n",
    "plt.tick_params(top=False, bottom=False, left=False, right=False,labelleft=False, labelbottom=False)\n",
    "cbar = plt.colorbar()\n",
    "cbar.ax.tick_params(labelsize=30)\n",
    "cbar.set_label(\"mK\",fontsize =30)\n",
    "\n",
    "\n",
    "\n",
    "ax5 = plt.subplot2grid((2,6), (1,3), colspan=2)\n",
    "plt.title(\"Gradient Z axial\",fontsize=30)\n",
    "hcipy.imshow_field((luvoir6.sm.surface)*1000,cmap = 'RdBu', vmin=0,  vmax =50)\n",
    "plt.tick_params(top=False, bottom=False, left=False, right=False,labelleft=False, labelbottom=False)\n",
    "cbar = plt.colorbar()\n",
    "cbar.ax.tick_params(labelsize=30)\n",
    "cbar.set_label(\"mK\",fontsize =30)\n",
    "\n",
    "plt.tight_layout()\n",
    "plt.savefig('/Users/asahoo/Documents/ultra/report_11_01_21/mu_map_mK.png')"
   ]
  },
  {
   "cell_type": "code",
   "execution_count": null,
   "id": "careful-rhythm",
   "metadata": {
    "scrolled": true
   },
   "outputs": [],
   "source": [
    "print(np.min(five_vec_1)*1000, np.max(five_vec_1)*1000, np.mean(five_vec_1)*1000, np.std(five_vec_1)*1000, '\\n')\n",
    "print(np.min(five_vec_2)*1000, np.max(five_vec_2)*1000, np.mean(five_vec_2)*1000, np.std(five_vec_2)*1000, '\\n')\n",
    "print(np.min(five_vec_3)*1000, np.max(five_vec_3)*1000, np.mean(five_vec_3)*1000, np.std(five_vec_3)*1000, '\\n')\n",
    "print(np.min(five_vec_4)*1000, np.max(five_vec_4)*1000, np.mean(five_vec_4)*1000, np.std(five_vec_4)*1000, '\\n')\n",
    "print(np.min(five_vec_5)*1000, np.max(five_vec_5)*1000, np.mean(five_vec_5)*1000, np.std(five_vec_5)*1000, '\\n')"
   ]
  },
  {
   "cell_type": "markdown",
   "id": "experimental-light",
   "metadata": {},
   "source": [
    "## In mk/s"
   ]
  },
  {
   "cell_type": "code",
   "execution_count": null,
   "id": "greater-series",
   "metadata": {},
   "outputs": [],
   "source": [
    "delta_wf = 0.3 #unit less\n",
    "t_wfs = 40 #in sec\n",
    "\n",
    "\n",
    "plt.figure(figsize =(50,30))\n",
    "\n",
    "plt.subplot(2,3,1)\n",
    "plt.title(\"Faceplates Silvered\",fontsize=30)\n",
    "hcipy.imshow_field((luvoir2.sm.surface)*1000*delta_wf*(1/t_wfs), cmap = 'RdBu',vmin =0, vmax = 1.6) \n",
    "plt.tick_params(top=False, bottom=False, left=False, right=False,labelleft=False, labelbottom=False)\n",
    "cbar = plt.colorbar()\n",
    "cbar.ax.tick_params(labelsize=30)\n",
    "cbar.set_label(\"mK/s\",fontsize =40)\n",
    "\n",
    "plt.subplot(2,3,2)\n",
    "plt.title(\"Bulk\",fontsize=30)\n",
    "hcipy.imshow_field((luvoir3.sm.surface)*1000*delta_wf*(1/t_wfs), cmap = 'RdBu',vmin =0, vmax = 1.6)\n",
    "plt.tick_params(top=False, bottom=False, left=False, right=False, labelleft=False, labelbottom=False)\n",
    "cbar = plt.colorbar()\n",
    "cbar.ax.tick_params(labelsize=30)\n",
    "cbar.set_label(\"mK/s\",fontsize =40)\n",
    "\n",
    "plt.subplot(2,3,3)\n",
    "plt.title(\"Gradient Radial\",fontsize=30)\n",
    "hcipy.imshow_field((luvoir4.sm.surface)*1000*delta_wf*(1/t_wfs), cmap = 'RdBu',vmin =0, vmax = 16)\n",
    "plt.tick_params(top=False, bottom=False, left=False, right=False,labelleft=False, labelbottom=False)\n",
    "cbar = plt.colorbar()\n",
    "cbar.ax.tick_params(labelsize = 30)\n",
    "cbar.set_label(\"mK/s\",fontsize =40)\n",
    "\n",
    "\n",
    "plt.subplot(2,3,4)\n",
    "plt.title(\"Gradient X lateral\", fontsize=30)\n",
    "hcipy.imshow_field((luvoir5.sm.surface)*1000*delta_wf*(1/t_wfs), cmap = 'RdBu',vmin =0, vmax = 2.5)\n",
    "plt.tick_params(top=False, bottom=False, left=False, right=False,labelleft=False, labelbottom=False)\n",
    "cbar = plt.colorbar()\n",
    "cbar.ax.tick_params(labelsize = 30)\n",
    "cbar.set_label(\"mK/s\",fontsize =40)\n",
    "\n",
    "plt.subplot(2,3,5)\n",
    "plt.title(\"Gradient Z axial\",fontsize =30)\n",
    "hcipy.imshow_field((luvoir6.sm.surface)*1000*delta_wf*(1/t_wfs), cmap = 'RdBu',vmin =0, vmax = 6)\n",
    "plt.tick_params(top=False, bottom=False, left=False, right=False,labelleft=False, labelbottom=False)\n",
    "cbar = plt.colorbar()\n",
    "cbar.ax.tick_params(labelsize = 30)\n",
    "cbar.set_label(\"mK/s\",fontsize =40)\n",
    "\n",
    "\n",
    "plt.show()\n",
    "#plt.savefig('/Users/asahoo/Documents/ultra/report_11_01_21/time_tolerance.png')"
   ]
  },
  {
   "cell_type": "code",
   "execution_count": null,
   "id": "afa8c650",
   "metadata": {},
   "outputs": [],
   "source": [
    "delta_wf = 0.3 #unit less\n",
    "t_wfs = 40 #in sec\n",
    "\n",
    "plt.figure(figsize=(40,20))\n",
    "ax1 = plt.subplot2grid(shape=(2,6), loc=(0,0), colspan=2)\n",
    "plt.title(\"Faceplates Silvered\", fontsize=30)\n",
    "hcipy.imshow_field((luvoir2.sm.surface)*1000*delta_wf*(1/t_wfs), cmap = 'RdBu')\n",
    "plt.tick_params(top=False, bottom=False, left=False, right=False,labelleft=False, labelbottom=False)\n",
    "cbar = plt.colorbar()\n",
    "cbar.ax.tick_params(labelsize=30)\n",
    "cbar.set_label(\"mK/s\",fontsize =30)\n",
    "\n",
    "\n",
    "ax2 = plt.subplot2grid((2,6), (0,2), colspan=2)\n",
    "plt.title(\"Bulk\",fontsize=30)\n",
    "hcipy.imshow_field((luvoir3.sm.surface)*1000*delta_wf*(1/t_wfs), cmap = 'RdBu')\n",
    "plt.tick_params(top=False, bottom=False, left=False, right=False,labelleft=False, labelbottom=False)\n",
    "cbar = plt.colorbar()\n",
    "cbar.ax.tick_params(labelsize=30)\n",
    "cbar.set_label(\"mK/s\",fontsize =30)\n",
    "\n",
    "\n",
    "\n",
    "ax3 = plt.subplot2grid((2,6), (0,4), colspan=2)\n",
    "plt.title(\"Gradiant Radial\",fontsize=30)\n",
    "hcipy.imshow_field((luvoir4.sm.surface)*1000*delta_wf*(1/t_wfs),cmap = 'RdBu')\n",
    "plt.tick_params(top=False, bottom=False, left=False, right=False,labelleft=False, labelbottom=False)\n",
    "cbar = plt.colorbar()\n",
    "cbar.ax.tick_params(labelsize=30)\n",
    "cbar.set_label(\"mK/s\",fontsize =30)\n",
    "\n",
    "\n",
    "\n",
    "ax4 = plt.subplot2grid((2,6), (1,1), colspan=2)\n",
    "plt.title(\"Gradient X lateral\",fontsize=30)\n",
    "hcipy.imshow_field((luvoir5.sm.surface)*1000*delta_wf*(1/t_wfs),cmap = 'RdBu')\n",
    "plt.tick_params(top=False, bottom=False, left=False, right=False,labelleft=False, labelbottom=False)\n",
    "cbar = plt.colorbar()\n",
    "cbar.ax.tick_params(labelsize=30)\n",
    "cbar.set_label(\"mK/s\",fontsize =30)\n",
    "\n",
    "\n",
    "\n",
    "ax5 = plt.subplot2grid((2,6), (1,3), colspan=2)\n",
    "plt.title(\"Gradient Z axial\",fontsize=30)\n",
    "hcipy.imshow_field((luvoir6.sm.surface)*1000*delta_wf*(1/t_wfs),cmap = 'RdBu')\n",
    "plt.tick_params(top=False, bottom=False, left=False, right=False,labelleft=False, labelbottom=False)\n",
    "cbar = plt.colorbar()\n",
    "cbar.ax.tick_params(labelsize=30)\n",
    "cbar.set_label(\"mK/s\",fontsize =30)\n",
    "\n",
    "plt.tight_layout()\n",
    "plt.savefig('/Users/asahoo/Documents/ultra/report_11_01_21/mu_map_mKs.png')"
   ]
  },
  {
   "cell_type": "code",
   "execution_count": null,
   "id": "institutional-reader",
   "metadata": {
    "scrolled": true
   },
   "outputs": [],
   "source": [
    "print(np.min(five_vec_1)*1000*delta_wf*(1/t_wfs), \n",
    "      np.max(five_vec_1)*1000*delta_wf*(1/t_wfs), np.mean(five_vec_1)*1000*delta_wf*(1/t_wfs)\n",
    "      , np.std(five_vec_1)*1000*delta_wf*(1/t_wfs), '\\n')\n",
    "print(np.min(five_vec_2)*1000*delta_wf*(1/t_wfs), \n",
    "      np.max(five_vec_2)*1000*delta_wf*(1/t_wfs), np.mean(five_vec_2)*1000*delta_wf*(1/t_wfs)\n",
    "      , np.std(five_vec_2)*1000*delta_wf*(1/t_wfs), '\\n')\n",
    "print(np.min(five_vec_3)*1000*delta_wf*(1/t_wfs), \n",
    "      np.max(five_vec_3)*1000*delta_wf*(1/t_wfs), np.mean(five_vec_3)*1000*delta_wf*(1/t_wfs)\n",
    "      , np.std(five_vec_3)*1000*delta_wf*(1/t_wfs), '\\n')\n",
    "print(np.min(five_vec_4)*1000*delta_wf*(1/t_wfs), \n",
    "      np.max(five_vec_4)*1000*delta_wf*(1/t_wfs), np.mean(five_vec_4)*1000*delta_wf*(1/t_wfs)\n",
    "      , np.std(five_vec_4)*1000*delta_wf*(1/t_wfs), '\\n')\n",
    "print(np.min(five_vec_5)*1000*delta_wf*(1/t_wfs), \n",
    "      np.max(five_vec_5)*1000*delta_wf*(1/t_wfs), np.mean(five_vec_5)*1000*delta_wf*(1/t_wfs)\n",
    "      , np.std(five_vec_5)*1000*delta_wf*(1/t_wfs), '\\n')"
   ]
  },
  {
   "cell_type": "markdown",
   "id": "3f6cfc54",
   "metadata": {},
   "source": [
    "### Plotting intensity after poking each segment with harris mode"
   ]
  },
  {
   "cell_type": "code",
   "execution_count": null,
   "id": "75c29441",
   "metadata": {},
   "outputs": [],
   "source": [
    "luvoir_test = LuvoirA_APLC(optics_input, coronagraph_design, sampling)\n",
    "luvoir_test.create_segmented_harris_mirror(filepath,pad_orientation, thermal = True,mechanical=False,other=False) \n",
    "luvoir_test.harris_sm\n",
    "\n",
    "#harris_mode = np.zeros(n_harris)\n",
    "#harris_mode[116] = nm_aber\n",
    "#luvoir_test.harris_sm.actuators  = harris_mode\n",
    "#hcipy.imshow_field(((10*luvoir_test.harris_sm.surface+5*1e-8*luvoir_segmented_pattern)))\n",
    "#plt.colorbar()"
   ]
  },
  {
   "cell_type": "code",
   "execution_count": null,
   "id": "a4c32075",
   "metadata": {
    "scrolled": true
   },
   "outputs": [],
   "source": [
    "# from astropy.io import fits as pf\n",
    "# import matplotlib.ticker as ticker\n",
    "\n",
    "# del_contrast = []\n",
    "# contrast_floor_aber = []\n",
    "\n",
    "# for pp in range(0, 1):\n",
    "#     #print(f'Working on mode {5*pp+4}',{pp})\n",
    "    \n",
    "#     # Apply calibration aberration to used mode\n",
    "#     harris_mode = np.zeros(n_harris)\n",
    "#     harris_mode[5*pp+4] = five_vec_5[pp]*1e-9 #m\n",
    "#     luvoir_test.harris_sm.actuators  = harris_mode/2\n",
    "\n",
    "#     #Calculate coronagraphic E-field and add to lists\n",
    "#     aberrated_coro_psf_t, inter_t = luvoir_test.calc_psf(display_intermediate=False, return_intermediate='efield',norm_one_photon=True)\n",
    "#     pupil_phase = np.zeros((1000,1000))\n",
    "#     pupil_phase = np.array(np.reshape(inter_t['harris_seg_mirror'].phase,(1000,1000)))\n",
    "#     focal_int = np.zeros((115,115))\n",
    "#     focal_int = np.array(np.reshape(aberrated_coro_psf_t.amplitude,(115,115)))\n",
    "#     focal_cont = (np.square(focal_int))/norm\n",
    "#     #focal_int2 = np.square(focal_int) - (np.square(np.array(np.reshape(unaberrated_coro_psf,(115,115))))/norm)\n",
    "    \n",
    "#     dh_intensity2 = (((unaberrated_coro_psf))/norm)*luvoir_test.dh_mask\n",
    "#     contrast_floor_aber2 = np.mean(dh_intensity2[np.where(luvoir_test.dh_mask != 0)])\n",
    "#     dh_intensity = ((np.square(aberrated_coro_psf_t.amplitude))/ norm) * luvoir_test.dh_mask\n",
    "#     contrast_floor_aber = np.mean(dh_intensity[np.where(luvoir_test.dh_mask != 0)])\n",
    "#     delta_contrast = contrast_floor_aber-contrast_floor_aber2\n",
    "#     print(contrast_floor_aber2, contrast_floor_aber, delta_contrast)\n",
    "    \n",
    "#     change = np.square(focal_cont) - (np.square(np.array(np.reshape(unaberrated_coro_psf,(115,115))))/norm)\n",
    "    \n",
    "    \n",
    "#     image_diff = (np.square(aberrated_coro_psf_t.amplitude) - unaberrated_coro_psf)/norm\n",
    "#     change_mean = np.mean(image_diff[np.where(luvoir_test.dh_mask != 0)])\n",
    "#     print(change_mean)\n",
    "    #del_contrast.append(delta)\n",
    "    #contrast_floor_aber.append(contrast_floor_aber)\n",
    "    \n",
    "#     plt.figure(figsize=(14,5))\n",
    "#     plt.subplot(1,3,1)\n",
    "#     hcipy.imshow_field((inter_t['harris_seg_mirror']).phase, mask=luvoir_test.aperture, cmap='RdBu')\n",
    "#     plt.title(\"Wavefront\")\n",
    "#     plt.colorbar()\n",
    "    #cbar = plt.colorbar()\n",
    "    #cbar.ax.tick_params(labelsize = 15)\n",
    "    #cbar.set_label(\"radians\",fontsize =15)\n",
    "\n",
    "\n",
    "#     plt.subplot(1,3,2)\n",
    "#     plt.imshow(np.log(focal_int2), cmap='RdBu')\n",
    "#     plt.title(\"Aberrated Coronagraphic PSF\")\n",
    "#     plt.colorbar()\n",
    "    \n",
    "#     plt.subplot(1,3,3)\n",
    "#     plt.imshow(np.log(focal_int2), cmap='RdBu')\n",
    "#     plt.title(\"Aberrated Coronagraphic PSF\")\n",
    "#     plt.colorbar()\n",
    "    #cbar = plt.colorbar()\n",
    "    #cbar.formatter.set_powerlimits((-14, 14))\n",
    "    #cbar.ax.tick_params(labelsize = 15)\n",
    "    #cbar.set_label(\"contrast\",fontsize =15)\n",
    "    #print(type(pupil_phase), type(focal_int))\n",
    "    #plt.savefig('/Users/asahoo/Desktop/data_repos/harris_data/ball_del_06/plot_%d.png'%pp)\n",
    "    #pf.writeto('/Users/asahoo/Desktop/data_repos/harris_data/ball_del_06/pupil_%d.fits'%pp,pupil_phase)\n",
    "    #pf.writeto('/Users/asahoo/Desktop/data_repos/harris_data/ball_del_06/change_%d.fits'%pp, change) #save delta\n"
   ]
  },
  {
   "cell_type": "code",
   "execution_count": null,
   "id": "98ff55a9",
   "metadata": {},
   "outputs": [],
   "source": [
    "1.6830731659218223e-14*600"
   ]
  },
  {
   "cell_type": "code",
   "execution_count": null,
   "id": "2eae554b",
   "metadata": {},
   "outputs": [],
   "source": [
    "# plt.figure(figsize=(20,5))\n",
    "# plt.title(\"Segment-based PASTIS constraints from PASTIS matrix and PASTIS modes\")\n",
    "# plt.plot((del_contrast))"
   ]
  },
  {
   "cell_type": "markdown",
   "id": "f9202481",
   "metadata": {
    "scrolled": true
   },
   "source": [
    "## Plotting histograms "
   ]
  },
  {
   "cell_type": "code",
   "execution_count": null,
   "id": "a8f6d24b",
   "metadata": {},
   "outputs": [],
   "source": [
    "# n_harris = luvoir.harris_sm.num_actuators #int = 5*120 =600\n",
    "# harris_mode =np.zeros(n_harris)\n",
    "# luvoir.harris_sm.actuators = harris_mode\n",
    "\n",
    "# unaber_e_field, ref, inter = luvoir.calc_psf(ref=True, return_intermediate='efield', norm_one_photon=True)\n",
    "\n"
   ]
  },
  {
   "cell_type": "markdown",
   "id": "d5ae2680",
   "metadata": {},
   "source": [
    "## Uncorrelated, random draw of mu_map_harris, average intensity of peak, photon noise contrast"
   ]
  },
  {
   "cell_type": "code",
   "execution_count": null,
   "id": "e998654f",
   "metadata": {},
   "outputs": [],
   "source": [
    "#mu_map_harris?\n",
    "#np.savetxt('/Users/asahoo/Desktop/data_repos/harris_data/mu_map.csv', mu_map_harris, delimiter=',')\n",
    "#mu_map_harris = np.genfromtxt('/Users/asahoo/Desktop/data_repos/harris_data/mu_map.csv',delimiter=',')\n",
    "#mu_map_harris"
   ]
  },
  {
   "cell_type": "code",
   "execution_count": null,
   "id": "e070f3f3",
   "metadata": {
    "scrolled": true
   },
   "outputs": [],
   "source": [
    "all_contr_rand_seg1 = []\n",
    "for rep in range(100):\n",
    "    print('Segment realization {}/{}'.format(rep + 1, 50))\n",
    "    \n",
    "    harris_modes = np.zeros(n_harris)\n",
    "    luvoir.harris_sm.actuators = harris_modes\n",
    "    \n",
    "    input_wf = luvoir.wf_aper\n",
    "    harris_modes = np.random.normal(0,mu_map_harris*1e-9,n_harris)\n",
    "    luvoir.harris_sm.actuators = harris_modes/2\n",
    "    \n",
    "    psf, ref, inter = luvoir.calc_psf(ref=True, return_intermediate='efield', norm_one_photon=True)\n",
    "    \n",
    "    focal_int = np.zeros((115,115))\n",
    "    focal_int = np.array(np.reshape(psf.amplitude,(115,115)))\n",
    "    dh_intensity = ((np.square(psf.amplitude))/ norm) * luvoir.dh_mask\n",
    "    contrast_floor_aber = np.mean(dh_intensity[np.where(luvoir.dh_mask != 0)]) - contrast_floor\n",
    "    \n",
    "    \n",
    "    print(dh_intensity, contrast_floor_aber)\n",
    "    all_contr_rand_seg1.append(contrast_floor_aber)\n",
    "#     hcipy.imshow_field((inter['harris_seg_mirror']).phase, mask=luvoir_test.aperture, cmap='RdBu')\n",
    "#     hcipy.imshow_field(np.log(np.square(aberrated_coro_psf_t.amplitude)), cmap='RdBu')"
   ]
  },
  {
   "cell_type": "code",
   "execution_count": null,
   "id": "c6dafb9c",
   "metadata": {},
   "outputs": [],
   "source": [
    "tmp_std = np.dot(matrix_pastis,np.diag(mu_map_harris)**2)\n",
    "var = 2*np.dot(tmp_std,tmp_std)\n",
    "std = np.sqrt(np.trace(var))\n",
    "c_mean_exp = np.mean(all_contr_rand_seg1)\n",
    "c_std_exp = np.std(all_contr_rand_seg1)\n",
    "print(std)\n",
    "\n",
    "fig = plt.figure(figsize=(10,10))\n",
    "plt.hist(np.log10(all_contr_rand_seg1),5)\n",
    "plt.title('E2E raw contrast, {} realizations, target contrast 1e-11'.format(n_repeat), size=20)\n",
    "plt.xlabel('Mean contrast in DH', size=20)\n",
    "plt.xlim(-13,-9)\n",
    "plt.ylabel('PDF', size=20)\n",
    "plt.axvline(c_target, c='r', ls='-.', lw='3')\n",
    "plt.axvline(c_target + std, c='b', ls=':', lw=4)\n",
    "plt.axvline(c_target - std, c='b', ls=':', lw=4)\n",
    "plt.axvline(c_mean_exp, c='orange', ls='-.', lw='3')\n",
    "plt.axvline(c_mean_exp + c_std_exp, c='c', ls=':', lw=4)\n",
    "plt.axvline(c_mean_exp - c_std_exp, c='c', ls=':', lw=4)\n",
    "plt.tick_params(axis='both', which='both', length=6, width=2, labelsize=25)\n",
    "#file_name = os.path.join(figures_path, f'{analysis_name}_MID_e2e_histogram.pdf')\n",
    "#fig.savefig(file_name)"
   ]
  },
  {
   "cell_type": "code",
   "execution_count": null,
   "id": "c9098f20",
   "metadata": {
    "scrolled": true
   },
   "outputs": [],
   "source": [
    "plt.plot(all_contr_rand_seg1)\n",
    "plt.ylabel(\"Delta Contrast\")"
   ]
  },
  {
   "cell_type": "markdown",
   "id": "195c4af5",
   "metadata": {},
   "source": [
    "## generate gif files "
   ]
  },
  {
   "cell_type": "code",
   "execution_count": null,
   "id": "d27c9f55",
   "metadata": {},
   "outputs": [],
   "source": [
    "# import glob\n",
    "# from PIL import Image\n",
    "\n",
    "# # filepaths\n",
    "# fp_in = \"/Users/asahoo/Desktop/data_repos/harris_data/ball_del_01/*.png\"\n",
    "# fp_out = \"/Users/asahoo/Desktop/data_repos/harris_data/image1.gif\"\n",
    "\n",
    "# # https://pillow.readthedocs.io/en/stable/handbook/image-file-formats.html#gif\n",
    "# img, *imgs = [Image.open(f) for f in sorted(glob.glob(fp_in))]\n",
    "# img.save(fp=fp_out, format='GIF', append_images=imgs,\n",
    "#          save_all=True, duration=200, loop=0)\n"
   ]
  },
  {
   "cell_type": "markdown",
   "id": "f57f8353",
   "metadata": {},
   "source": []
  },
  {
   "cell_type": "code",
   "execution_count": null,
   "id": "7b2d6c6b",
   "metadata": {},
   "outputs": [],
   "source": [
    "# tmp0 = np.abs(np.mean(focal_int_array,0) - np.reshape(unaberrated_coro_psf,[115,115]))\n",
    "# tmp = np.abs(focal_int_array[1] - np.reshape(unaberrated_coro_psf,[115,115]))\n",
    "# plt.imshow(np.log10(tmp))\n",
    "# plt.colorbar()"
   ]
  },
  {
   "cell_type": "code",
   "execution_count": null,
   "id": "a1e15108",
   "metadata": {},
   "outputs": [],
   "source": [
    "# contrast2D = np.sqrt(tmp0)/norm/np.sqrt(Nph*3600)\n",
    "# contrast1D = np.reshape(contrast2D,[115**2])"
   ]
  },
  {
   "cell_type": "code",
   "execution_count": null,
   "id": "fab33967",
   "metadata": {},
   "outputs": [],
   "source": [
    "# np.mean(contrast1D[np.where(luvoir.dh_mask != 0)])"
   ]
  },
  {
   "cell_type": "code",
   "execution_count": null,
   "id": "325778df",
   "metadata": {},
   "outputs": [],
   "source": [
    "1e-11/5.60647816e-13"
   ]
  },
  {
   "cell_type": "code",
   "execution_count": null,
   "id": "1e16fb4d",
   "metadata": {},
   "outputs": [],
   "source": [
    "# plt.imshow(np.log10(contrast2D))\n",
    "# plt.colorbar()"
   ]
  },
  {
   "cell_type": "code",
   "execution_count": null,
   "id": "01f9d3b5",
   "metadata": {},
   "outputs": [],
   "source": [
    "# plt.imshow(np.log10(focal_int_array[0]))\n",
    "# plt.colorbar()"
   ]
  },
  {
   "cell_type": "markdown",
   "id": "2a4a3199",
   "metadata": {},
   "source": [
    "### Uncorrelated case with Sine wave random realizations"
   ]
  },
  {
   "cell_type": "code",
   "execution_count": null,
   "id": "e7c9299c",
   "metadata": {
    "scrolled": true
   },
   "outputs": [],
   "source": [
    "# alpha_wfs = 0.3\n",
    "# t_wfs = 50 #secs from the close loop curve\n",
    "\n",
    "n_trial = 50\n",
    "focal_int_array_sin = np.zeros([n_trial,115,115])\n",
    "all_contr_correlated_sin = []\n",
    "\n",
    "for rep in range(n_trial):\n",
    "    print('Segment realization {}/{}'.format(rep + 1, n_trial))\n",
    "    \n",
    "    harris_modes = mu_map_harris*1e-9*np.cos(2*np.pi/n_trial*rep)\n",
    "    luvoir.harris_sm.actuators = harris_modes/2    #18\n",
    "    \n",
    "    psf, ref, inter = luvoir.calc_psf(ref=True, return_intermediate='efield', norm_one_photon=True)\n",
    "    \n",
    "    focal_int_sin = np.zeros((115,115))\n",
    "    focal_int_sin = np.array(np.reshape(psf.intensity,(115,115)))\n",
    "    focal_int_array_sin[rep] = focal_int_sin\n",
    "    dh_intensity_sin = ((np.square(psf.amplitude))/ norm) * luvoir.dh_mask\n",
    "    contrast_floor_aber_sin = np.mean(dh_intensity_sin[np.where(luvoir.dh_mask != 0)]) - contrast_floor\n",
    "    \n",
    "    print(contrast_floor_aber_sin)\n",
    "    all_contr_correlated_sin.append(contrast_floor_aber_sin)"
   ]
  },
  {
   "cell_type": "code",
   "execution_count": null,
   "id": "39192cd9",
   "metadata": {
    "scrolled": false
   },
   "outputs": [],
   "source": [
    " plt.plot(all_contr_correlated_sin)"
   ]
  },
  {
   "cell_type": "code",
   "execution_count": null,
   "id": "890fc3a8",
   "metadata": {},
   "outputs": [],
   "source": [
    "tmp0_sin = np.abs(np.mean(focal_int_array_sin,0) - np.reshape(unaberrated_coro_psf,[115,115]))\n",
    "tmp_sin = np.abs(focal_int_array_sin[45] - np.reshape(unaberrated_coro_psf,[115,115]))\n",
    "plt.imshow(np.log10(tmp_sin))\n",
    "plt.colorbar()"
   ]
  },
  {
   "cell_type": "code",
   "execution_count": null,
   "id": "8d2c6bef",
   "metadata": {},
   "outputs": [],
   "source": [
    "star_flux_6 = exoscene.star.bpgs_spectype_to_photonrate(spectype=sptype, Vmag=6, minlam=minlam.value, maxlam=maxlam.value)\n",
    "Nph_6 = star_flux_6.value*15**2*np.sum(luvoir.apodizer**2) / npup**2\n",
    "\n",
    "contrast2D_sin = np.sqrt(tmp0_sin)/norm/np.sqrt(Nph_6*60)\n",
    "contrast1D_sin = np.reshape(contrast2D_sin,[115**2])\n",
    "\n",
    "print(np.shape(contrast2D_sin), np.shape(contrast1D_sin))\n",
    "print(np.mean(contrast1D_sin[np.where(luvoir.dh_mask != 0)]))\n"
   ]
  },
  {
   "cell_type": "code",
   "execution_count": null,
   "id": "87bd96ac",
   "metadata": {},
   "outputs": [],
   "source": [
    "1e-11/4.2289512666549787e-10"
   ]
  },
  {
   "cell_type": "code",
   "execution_count": null,
   "id": "d9424aed",
   "metadata": {},
   "outputs": [],
   "source": [
    "plt.figure(figsize =(30,8))\n",
    "plt.subplot(1,3,1)\n",
    "plt.imshow(np.log10(tmp_sin))\n",
    "plt.colorbar()\n",
    "\n",
    "plt.subplot(1,3,2)\n",
    "plt.imshow(np.log10(contrast2D_sin))\n",
    "plt.colorbar()\n",
    "\n",
    "plt.subplot(1,3,3)\n",
    "plt.imshow(np.log10(focal_int_array_sin[0]))\n",
    "plt.colorbar()"
   ]
  },
  {
   "cell_type": "code",
   "execution_count": null,
   "id": "c38667d7",
   "metadata": {},
   "outputs": [],
   "source": [
    "# Nph?"
   ]
  },
  {
   "cell_type": "code",
   "execution_count": null,
   "id": "856809b4",
   "metadata": {},
   "outputs": [],
   "source": []
  }
 ],
 "metadata": {
  "kernelspec": {
   "display_name": "Python 3 (ipykernel)",
   "language": "python",
   "name": "python3"
  },
  "language_info": {
   "codemirror_mode": {
    "name": "ipython",
    "version": 3
   },
   "file_extension": ".py",
   "mimetype": "text/x-python",
   "name": "python",
   "nbconvert_exporter": "python",
   "pygments_lexer": "ipython3",
   "version": "3.7.11"
  }
 },
 "nbformat": 4,
 "nbformat_minor": 5
}
