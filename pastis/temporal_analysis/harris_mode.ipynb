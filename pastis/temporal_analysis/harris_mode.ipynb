{
 "cells": [
  {
   "cell_type": "markdown",
   "id": "30a87e9f",
   "metadata": {},
   "source": [
    "## This notebook contains all the scripts used to do segment level thermal sensitivity analysis and produce plots all plots required for presentation, report or article. The code block which are commented aren't necessary to do full e2e analysis, but are used to support report/article."
   ]
  },
  {
   "cell_type": "markdown",
   "id": "9cb4388c",
   "metadata": {},
   "source": [
    "###  Import neccessary python libraries and pastis functions"
   ]
  },
  {
   "cell_type": "code",
   "execution_count": null,
   "id": "c90040ca",
   "metadata": {},
   "outputs": [],
   "source": [
    "import os\n",
    "os.chdir(\"/Users/asahoo/repos/PASTIS\")\n",
    "import time\n",
    "import hcipy\n",
    "import scipy\n",
    "from scipy.interpolate import griddata\n",
    "import glob\n",
    "import numpy as np\n",
    "from PIL import Image\n",
    "from astropy.io import fits\n",
    "import astropy.units as u\n",
    "import pandas as pd\n",
    "import exoscene.image\n",
    "import exoscene.star\n",
    "import exoscene.planet\n",
    "from exoscene.planet import Planet\n",
    "import matplotlib.pyplot as plt\n",
    "from matplotlib.colors import TwoSlopeNorm\n",
    "import matplotlib.gridspec as gridspec\n",
    "from pastis.temporal_analysis.close_loop_analysis import req_closedloop_calc_batch\n",
    "from matplotlib.colors import LinearSegmentedColormap\n",
    "import matplotlib.ticker as ticker\n",
    "import pastis.util as util  \n",
    "from pastis.config import CONFIG_PASTIS \n",
    "from pastis.e2e_simulators.luvoir_imaging import LuvoirA_APLC \n",
    "from pastis.e2e_simulators.generic_segmented_telescopes import SegmentedAPLC"
   ]
  },
  {
   "cell_type": "markdown",
   "id": "f1f4e410",
   "metadata": {},
   "source": [
    "### Read from config file"
   ]
  },
  {
   "cell_type": "code",
   "execution_count": null,
   "id": "34fcd7e7",
   "metadata": {},
   "outputs": [],
   "source": [
    "nb_seg = CONFIG_PASTIS.getint('LUVOIR', 'nb_subapertures')\n",
    "nm_aber = CONFIG_PASTIS.getfloat('LUVOIR', 'calibration_aberration') * 1e-9   # m\n",
    "sampling = CONFIG_PASTIS.getfloat('LUVOIR', 'sampling')\n",
    "coronagraph_design = CONFIG_PASTIS.get('LUVOIR','coronagraph_design')\n",
    "optics_path_in_repo = CONFIG_PASTIS.get('LUVOIR', 'optics_path_in_repo')\n",
    "z_pup_downsample = CONFIG_PASTIS.getfloat('numerical', 'z_pup_downsample') "
   ]
  },
  {
   "cell_type": "markdown",
   "id": "cosmetic-dining",
   "metadata": {},
   "source": [
    "### Define and create directory"
   ]
  },
  {
   "cell_type": "code",
   "execution_count": null,
   "id": "accredited-spell",
   "metadata": {
    "scrolled": true
   },
   "outputs": [],
   "source": [
    "data_dir = CONFIG_PASTIS.get('local', 'local_data_path')\n",
    "repo_dir = os.path.join(util.find_repo_location(package='pastis'))\n",
    "\n",
    "overall_dir = util.create_data_path(data_dir, telescope='luvoir_'+coronagraph_design)\n",
    "resDir = os.path.join(overall_dir, 'matrix_numerical')\n",
    "print(resDir)\n",
    "\n",
    "# Create necessary directories if they don't exist yet\n",
    "os.makedirs(resDir, exist_ok=True)"
   ]
  },
  {
   "cell_type": "markdown",
   "id": "fd8171be",
   "metadata": {},
   "source": [
    "### Instantiate LUVOIR"
   ]
  },
  {
   "cell_type": "code",
   "execution_count": null,
   "id": "0d599b20",
   "metadata": {},
   "outputs": [],
   "source": [
    "optics_input = os.path.join(util.find_repo_location(), CONFIG_PASTIS.get('LUVOIR', 'optics_path_in_repo'))\n",
    "luvoir = LuvoirA_APLC(optics_input, coronagraph_design, sampling)"
   ]
  },
  {
   "cell_type": "markdown",
   "id": "independent-stamp",
   "metadata": {},
   "source": [
    "### Load aperture files to make segmented mirror $\\color{red}{\\text{(optional)}}$"
   ]
  },
  {
   "cell_type": "code",
   "execution_count": null,
   "id": "incredible-texas",
   "metadata": {
    "scrolled": true
   },
   "outputs": [],
   "source": [
    "aper_path = CONFIG_PASTIS.get('LUVOIR','aperture_path_in_optics')\n",
    "aper_ind_path = CONFIG_PASTIS.get('LUVOIR', 'indexed_aperture_path_in_optics')\n",
    "aper_read = hcipy.read_fits(os.path.join(repo_dir,optics_path_in_repo,aper_path))\n",
    "aper_ind_read = hcipy.read_fits(os.path.join(repo_dir,optics_path_in_repo,aper_ind_path))\n",
    "pupil_grid = hcipy.make_pupil_grid(dims=aper_ind_read.shape[0], diameter=15)\n",
    "aper = hcipy.Field(aper_read.ravel(), pupil_grid)\n",
    "aper_ind = hcipy.Field(aper_ind_read.ravel(), pupil_grid)\n",
    "wf_aper = hcipy.Wavefront(aper, luvoir.wvln)\n",
    "\n",
    "# Load segment positions from fits header\n",
    "hdr = fits.getheader(os.path.join(repo_dir,optics_path_in_repo,aper_ind_path))\n",
    "\n",
    "poslist = []\n",
    "for i in range(nb_seg):\n",
    "    segname = 'SEG' + str(i+1)\n",
    "    xin = hdr[segname + '_X']\n",
    "    yin = hdr[segname + '_Y']\n",
    "    poslist.append((xin, yin))\n",
    "    \n",
    "poslist = np.transpose(np.array(poslist))\n",
    "seg_pos = hcipy.CartesianGrid(hcipy.UnstructuredCoords(poslist))"
   ]
  },
  {
   "cell_type": "markdown",
   "id": "30c0657a",
   "metadata": {},
   "source": [
    "### Plotting pupil functions, aperture function and index, pupil phase and amplitude $\\color{red}{\\text{(optional)}}$"
   ]
  },
  {
   "cell_type": "code",
   "execution_count": null,
   "id": "happy-christian",
   "metadata": {
    "scrolled": true
   },
   "outputs": [],
   "source": [
    "plt.figure(figsize=(20,10))\n",
    "\n",
    "plt.subplot(2,3,1)\n",
    "plt.title(\"pupil_grid\")\n",
    "plt.plot(pupil_grid.x, pupil_grid.y, '+')\n",
    "plt.xlabel('x')\n",
    "plt.ylabel('y')\n",
    "\n",
    "plt.subplot(2,3,2)\n",
    "plt.title(\"aper\")\n",
    "hcipy.imshow_field(aper)\n",
    "plt.tick_params(top=False, bottom=False, left=False, right=False,\n",
    "                labelleft=False, labelbottom=False)\n",
    "plt.colorbar()\n",
    "\n",
    "plt.subplot(2,3,3)\n",
    "plt.title(\"aper_ind\")\n",
    "hcipy.imshow_field(aper_ind)\n",
    "plt.colorbar()\n",
    "\n",
    "plt.subplot(2,3,4)\n",
    "plt.title(\"wf_aper.phase\")\n",
    "hcipy.imshow_field(wf_aper.phase)\n",
    "plt.colorbar()\n",
    "\n",
    "plt.subplot(2,3,5)\n",
    "plt.title(\"wf_aper.amplitude\")\n",
    "hcipy.imshow_field(wf_aper.amplitude)\n",
    "plt.colorbar()\n",
    "\n",
    "plt.subplot(2,3,6)\n",
    "plt.title(\"seg_pos\")\n",
    "plt.plot(seg_pos.x, seg_pos.y, '+')\n",
    "plt.xlabel('x')\n",
    "plt.ylabel('y')\n",
    "plt.colorbar()"
   ]
  },
  {
   "cell_type": "markdown",
   "id": "3d4a8945",
   "metadata": {},
   "source": [
    "### codeblock to plot aperture with segment numbers, (segment number is manually added using photoeditor applications) $\\color{red}{\\text{optional}}$"
   ]
  },
  {
   "cell_type": "code",
   "execution_count": null,
   "id": "bd7f932d",
   "metadata": {
    "scrolled": false
   },
   "outputs": [],
   "source": [
    "pup_grid_plt = hcipy.make_pupil_grid(dims=1000, diameter=15)\n",
    "luvoir_plt  = LuvoirA_APLC(optics_input, coronagraph_design, sampling)\n",
    "\n",
    "plt.figure(figsize=(10, 10))\n",
    "hcipy.imshow_field(luvoir_plt.aperture, cmap='bone')\n",
    "plt.title('LUVOIR A segment numbering')\n",
    "for i, par in enumerate(luvoir_plt.sm.seg_pos):\n",
    "    pos = par * luvoir_plt.diam\n",
    "    plt.annotate('text', xy=pos, xytext=pos-(0.2,0.1), color='black', fontweight='bold', size=12)\n"
   ]
  },
  {
   "cell_type": "markdown",
   "id": "interested-investment",
   "metadata": {},
   "source": [
    "### load thermal modes files"
   ]
  },
  {
   "cell_type": "code",
   "execution_count": null,
   "id": "thousand-eleven",
   "metadata": {
    "scrolled": true
   },
   "outputs": [],
   "source": [
    "filepath = CONFIG_PASTIS.get('LUVOIR', 'harris_data_path')\n",
    "pad_orientation = np.pi/2*np.ones(nb_seg)"
   ]
  },
  {
   "cell_type": "markdown",
   "id": "dated-billion",
   "metadata": {},
   "source": [
    "### create harris deformable mirror"
   ]
  },
  {
   "cell_type": "code",
   "execution_count": null,
   "id": "coastal-litigation",
   "metadata": {
    "scrolled": true
   },
   "outputs": [],
   "source": [
    "luvoir.create_segmented_harris_mirror(filepath,pad_orientation, thermal=True,mechanical=False,other=False) \n",
    "luvoir.harris_sm "
   ]
  },
  {
   "cell_type": "markdown",
   "id": "937dd69d",
   "metadata": {},
   "source": [
    "### define num_actuators and num of modal basis"
   ]
  },
  {
   "cell_type": "code",
   "execution_count": null,
   "id": "6f494e26",
   "metadata": {},
   "outputs": [],
   "source": [
    "num_actuators = luvoir.harris_sm.num_actuators\n",
    "num_modes = 5 #number of harris modes used"
   ]
  },
  {
   "cell_type": "markdown",
   "id": "innovative-selection",
   "metadata": {},
   "source": [
    "### create and plot single segment $\\color{red}{\\text{(optional)}}$"
   ]
  },
  {
   "cell_type": "code",
   "execution_count": null,
   "id": "extreme-option",
   "metadata": {
    "scrolled": true
   },
   "outputs": [],
   "source": [
    "segment = hcipy.hexagonal_aperture(luvoir.segment_circumscribed_diameter, np.pi/2) # hcipy function\n",
    "segment_sampled = hcipy.evaluate_supersampled(segment,luvoir.pupil_grid, 10) #hcipy field\n",
    "\n",
    "plt.figure(figsize=(5, 5))\n",
    "hcipy.imshow_field(segment_sampled)\n",
    "plt.colorbar()"
   ]
  },
  {
   "cell_type": "markdown",
   "id": "engaged-climb",
   "metadata": {},
   "source": [
    "### Create 'nb_seg' segments, this code may be useful if we want modulate the amplitude at the aperture $\\color{red}{\\text{(optional)}}$"
   ]
  },
  {
   "cell_type": "code",
   "execution_count": null,
   "id": "needed-light",
   "metadata": {
    "scrolled": true
   },
   "outputs": [],
   "source": [
    "aper2, segs2 = hcipy.make_segmented_aperture(segment,luvoir.seg_pos, segment_transmissions=1, return_segments=True)\n",
    "luvoir_segmented_pattern = hcipy.evaluate_supersampled(aper2, luvoir.pupil_grid, 10)\n",
    "seg_evaluated = []\n",
    "for seg_tmp in segs2:\n",
    "    tmp_evaluated = hcipy.evaluate_supersampled(seg_tmp, luvoir.pupil_grid, 1)\n",
    "    seg_evaluated.append(tmp_evaluated)\n",
    "\n",
    "plt.figure(figsize=(15, 5))\n",
    "plt.subplot(1,2,1)\n",
    "plt.title(\"LUVOIR-A all segments\")\n",
    "hcipy.imshow_field(luvoir_segmented_pattern) \n",
    "plt.colorbar()\n",
    "\n",
    "plt.subplot(1,2,2)\n",
    "plt.title(\"LUVOIR-A single segment\")\n",
    "hcipy.imshow_field(seg_evaluated[75])\n",
    "plt.colorbar()"
   ]
  },
  {
   "cell_type": "markdown",
   "id": "medieval-protest",
   "metadata": {},
   "source": [
    "### Plot Harris_Modal basis $\\color{red}{\\text{(optional, This code block will break !!!)}}$"
   ]
  },
  {
   "cell_type": "code",
   "execution_count": null,
   "id": "specific-prince",
   "metadata": {
    "scrolled": false
   },
   "outputs": [],
   "source": [
    "# harris_mode_basis = luvoir.create_segmented_harris_mirror(filepath,pad_orientation, thermal=True,\n",
    "#                                                           mechanical=False,other=False, return_mode=True)\n",
    "\n",
    "# plot_norm = TwoSlopeNorm(vcenter=0)\n",
    "\n",
    "# plt.figure(figsize=(40,20))\n",
    "# ax1 = plt.subplot2grid(shape=(2,6), loc=(0,0), colspan=2)\n",
    "# plt.title(\"Segment Level 1mK Faceplates Silvered\", fontsize=30)\n",
    "# plot_norm1 = TwoSlopeNorm(vcenter=0, vmin=-10,  vmax =10)\n",
    "# plt.imshow(np.reshape(harris_mode_basis[0],(1000,1000))[163:263,804:904], cmap = 'RdBu', norm = plot_norm1)\n",
    "# plt.tick_params(top=False, bottom=False, left=False, right=False,labelleft=False, labelbottom=False)\n",
    "# cbar = plt.colorbar()\n",
    "# cbar.ax.tick_params(labelsize=30)\n",
    "# cbar.set_label(\"pm\",fontsize =30)\n",
    "\n",
    "# ax2 = plt.subplot2grid((2,6), (0,2), colspan=2)\n",
    "# plt.title(\"Segment Level 1mK bulk\",fontsize=30)\n",
    "# plot_norm2 = TwoSlopeNorm(vcenter=0, vmin=-3,  vmax =1)\n",
    "# plt.imshow(np.reshape(harris_mode_basis[1],(1000,1000))[163:263,804:904],cmap = 'RdBu',norm = plot_norm2)\n",
    "# plt.tick_params(top=False, bottom=False, left=False, right=False,labelleft=False, labelbottom=False)\n",
    "# cbar = plt.colorbar()\n",
    "# cbar.ax.tick_params(labelsize=30)\n",
    "# cbar.set_label(\"pm\",fontsize =30)\n",
    "\n",
    "# ax3 = plt.subplot2grid((2,6), (0,4), colspan=2)\n",
    "# plt.title(\"Segment Level 1mK gradient radial\",fontsize=30)\n",
    "# plot_norm3 = TwoSlopeNorm(vcenter=0, vmin=-1.5,  vmax =1.5) \n",
    "# plt.imshow(np.reshape(harris_mode_basis[2],(1000,1000))[163:263,804:904],cmap = 'RdBu',norm = plot_norm3)\n",
    "# plt.tick_params(top=False, bottom=False, left=False, right=False,labelleft=False, labelbottom=False)\n",
    "# cbar = plt.colorbar()\n",
    "# cbar.ax.tick_params(labelsize=30)\n",
    "# cbar.set_label(\"pm\",fontsize =30)\n",
    "\n",
    "# ax4 = plt.subplot2grid((2,6), (1,1), colspan=2)\n",
    "# plt.title(\"Segment Level 1mK gradient X lateral\",fontsize=30)\n",
    "# plot_norm4 = TwoSlopeNorm(vcenter=0, vmin=-2.5,  vmax =2.5) \n",
    "# plt.imshow(np.reshape(harris_mode_basis[3],(1000,1000))[163:263,804:904],cmap = 'RdBu', norm = plot_norm4)\n",
    "# plt.tick_params(top=False, bottom=False, left=False, right=False,labelleft=False, labelbottom=False)\n",
    "# cbar = plt.colorbar()\n",
    "# cbar.ax.tick_params(labelsize=30)\n",
    "# cbar.set_label(\"pm\",fontsize =30)\n",
    "\n",
    "# ax5 = plt.subplot2grid((2,6), (1,3), colspan=2)\n",
    "# plt.title(\"Segment Level 1mK gradient Z axial\",fontsize=30)\n",
    "# plot_norm5 = TwoSlopeNorm(vcenter=0,vmin=-3,  vmax =3)\n",
    "# plt.imshow(np.reshape(harris_mode_basis[4],(1000,1000))[163:263,804:904],cmap = 'RdBu', norm = plot_norm5)\n",
    "# plt.tick_params(top=False, bottom=False, left=False, right=False,labelleft=False, labelbottom=False)\n",
    "# cbar = plt.colorbar()\n",
    "# cbar.ax.tick_params(labelsize=30)\n",
    "# cbar.set_label(\"pm\",fontsize =30)\n",
    "\n",
    "# plt.tight_layout()\n",
    "# plt.savefig(os.path.join(resDir, 'harris_modal_basis.png'))"
   ]
  },
  {
   "cell_type": "markdown",
   "id": "fitted-increase",
   "metadata": {},
   "source": [
    "### Flatten the harris DM "
   ]
  },
  {
   "cell_type": "code",
   "execution_count": null,
   "id": "innocent-postcard",
   "metadata": {
    "scrolled": true
   },
   "outputs": [],
   "source": [
    "luvoir.harris_sm.flatten()"
   ]
  },
  {
   "cell_type": "markdown",
   "id": "seeing-signature",
   "metadata": {},
   "source": [
    "### Calculate the unaberrated coro and direct PSFs in INTENSITY"
   ]
  },
  {
   "cell_type": "code",
   "execution_count": null,
   "id": "mature-webmaster",
   "metadata": {
    "scrolled": true
   },
   "outputs": [],
   "source": [
    "unaberrated_coro_psf, ref = luvoir.calc_psf(ref=True, display_intermediate=False, norm_one_photon=True)\n",
    "norm = np.max(ref)\n",
    "dh_intensity = (unaberrated_coro_psf / norm) * luvoir.dh_mask\n",
    "contrast_floor = np.mean(dh_intensity[np.where(luvoir.dh_mask != 0)])\n",
    "print(f'contrast floor: {contrast_floor}')"
   ]
  },
  {
   "cell_type": "markdown",
   "id": "947f7bf3",
   "metadata": {},
   "source": [
    "### Plot the direct and coronagraphic PSF in units of $\\lambda /D$ $\\color{red}{\\text{(optional)}}$"
   ]
  },
  {
   "cell_type": "code",
   "execution_count": null,
   "id": "57155bf7",
   "metadata": {
    "scrolled": true
   },
   "outputs": [],
   "source": [
    "ideal_coro_psf = np.reshape(unaberrated_coro_psf, [115,115])\n",
    "ideal_psf = np.reshape(ref, [115,115])\n",
    "ind_max = np.unravel_index(np.argmax(np.abs(ideal_psf), axis=None), np.abs(ideal_psf).shape)\n",
    "\n",
    "fits.writeto((os.path.join(resDir, 'ideal_psf.fits')), np.abs(ideal_psf))\n",
    "\n",
    "for i in range(0,115,20):\n",
    "    print(i, (i-ind_max[0])*(1/5)) #from the ideal_psf image, 10pixels = 2l/d, thus 1 pixel = (1/5)l/d\n",
    "   \n",
    "    \n",
    "x_pixels = [0,17,37,57,77,97,114]\n",
    "x_ld = [r\"-11.4$\\lambda/D$\",r\"-8.0$\\lambda/D$\", r\"-4.0$\\lambda/D$\", 0, r\"4.0$\\lambda/D$\", r\"8.0$\\lambda/D$\",r\"11.4$\\lambda/D$\"]\n",
    "\n",
    "plt.figure(figsize=(22,9))\n",
    "plt.subplot(1,2,1)\n",
    "plt.title(\"Coronagraphic PSF\", fontsize=25)\n",
    "plt.imshow(np.log10(np.abs(ideal_coro_psf)), cmap='magma')\n",
    "plt.xticks(x_pixels, x_ld, fontsize =13)\n",
    "plt.yticks(x_pixels, x_ld, fontsize =13)\n",
    "cbar = plt.colorbar(ticks = np.linspace(-16,-2,7,endpoint=False))\n",
    "cbar.ax.set_yticklabels([r'$10^{-16}$', r'$10^{-14}$', r'$10^{-12}$', r'$10^{-10}$',\n",
    "                         r'$10^{-8}$', r'$10^{-6}$', r'$10^{-4}$'], fontsize=15)\n",
    "plt.tick_params(axis='both',which='major',length=10, width=2)\n",
    "plt.tick_params(axis='both',direction='in')\n",
    "plt.xlabel(\"in units of \"r\"$\\lambda /D$\")\n",
    "plt.ylabel(\"in units of \"r\"$\\lambda /D$\")\n",
    "\n",
    "\n",
    "plt.subplot(1,2,2)\n",
    "plt.title(\"PSF without Coronagraph\", fontsize=25)\n",
    "plt.imshow(np.log10(np.abs(ideal_psf)), cmap ='magma')\n",
    "plt.xticks(x_pixels, x_ld, fontsize=13)\n",
    "plt.yticks(x_pixels, x_ld, fontsize=13)\n",
    "cbar = plt.colorbar(ticks = np.linspace(-12,0,6,endpoint=False))\n",
    "cbar.ax.set_yticklabels([r'$10^{-12}$', r'$10^{-10}$', r'$10^{-8}$', r'$10^{-6}$', \n",
    "                         r'$10^{-4}$', r'$10^{-2}$'], fontsize=15)\n",
    "plt.tick_params(axis='both',which='major',length=10, width=2)\n",
    "plt.tick_params(axis='both',direction='out')\n",
    "plt.xlabel(\"in units of \"r\"$\\lambda /D$\")\n",
    "plt.ylabel(\"in units of \"r\"$\\lambda /D$\")\n",
    "\n",
    "plt.tight_layout()\n",
    "plt.savefig(os.path.join(resDir, 'ideal_coro_psf.png'))\n"
   ]
  },
  {
   "cell_type": "markdown",
   "id": "feafa436",
   "metadata": {},
   "source": [
    "### Plotting Optical train $\\color{red}{\\text{(optional)}}$"
   ]
  },
  {
   "cell_type": "code",
   "execution_count": null,
   "id": "213a82a7",
   "metadata": {},
   "outputs": [],
   "source": [
    "lyot_stop_train = np.reshape(luvoir.lyotstop, [1000,1000])\n",
    "fpm_optical_train = np.reshape(luvoir.fpm, [150,150])\n",
    "\n",
    "fpm_train = np.ones((1000,1000))\n",
    "for i in range(425,576):\n",
    "    for j in range(425,576):\n",
    "        fpm_train[i,j] = fpm_optical_train[(425-i), (425-j)]\n",
    "\n",
    "\n",
    "plt.figure(figsize=(25,17))\n",
    "ax1 = plt.subplot2grid(shape=(2,6), loc=(0,0), colspan=2)\n",
    "plt.title(\"LUVOIR-A Aperture\", fontsize=45)\n",
    "hcipy.imshow_field(wf_aper.amplitude)\n",
    "plt.tick_params(top=False, bottom=False, left=False, right=False,labelleft=False, labelbottom=False)\n",
    "\n",
    "ax2 = plt.subplot2grid((2,6), (0,2), colspan=2)\n",
    "plt.title(\"Narrow Angle Apodizer\", fontsize=45)\n",
    "hcipy.imshow_field(luvoir.apodizer)\n",
    "plt.tick_params(top=False, bottom=False, left=False, right=False,labelleft=False, labelbottom=False)\n",
    "\n",
    "ax3 = plt.subplot2grid((2,6), (0,4), colspan=2)\n",
    "plt.title(\"Focal Plane Mask\",fontsize=45)\n",
    "plt.imshow(fpm_train)\n",
    "plt.tick_params(top=False, bottom=False, left=False, right=False,labelleft=False, labelbottom=False)\n",
    "\n",
    "ax4 = plt.subplot2grid((2,6), (1,1), colspan=2)\n",
    "plt.title(\"Lyot Stop\",fontsize=45)\n",
    "hcipy.imshow_field(luvoir.lyotstop)\n",
    "plt.tick_params(top=False, bottom=False, left=False, right=False,labelleft=False, labelbottom=False)\n",
    "\n",
    "ax5 = plt.subplot2grid((2,6), (1,3), colspan=2)\n",
    "plt.title(\"Unabberated Coronagraphic PSF\",fontsize=45)\n",
    "plt.imshow(np.log(np.abs(ideal_coro_psf)))\n",
    "plt.tick_params(top=False, bottom=False, left=False, right=False,labelleft=False, labelbottom=False)\n",
    "\n",
    "plt.tight_layout()\n",
    "plt.savefig(os.path.join(resDir, 'optical_train.png'))"
   ]
  },
  {
   "cell_type": "markdown",
   "id": "saved-brain",
   "metadata": {},
   "source": [
    "### Calculate the unaberrated coro and direct PSFs in E-FIELDS"
   ]
  },
  {
   "cell_type": "code",
   "execution_count": null,
   "id": "exclusive-evolution",
   "metadata": {
    "scrolled": true
   },
   "outputs": [],
   "source": [
    "nonaberrated_coro_psf, ref, efield = luvoir.calc_psf(ref=True, display_intermediate=False, return_intermediate='efield',norm_one_photon=True)\n",
    "Efield_ref = nonaberrated_coro_psf.electric_field"
   ]
  },
  {
   "cell_type": "markdown",
   "id": "fc5a659b",
   "metadata": {},
   "source": [
    "### Poking each segment with a thermal aberration and generating the subsequent electric field"
   ]
  },
  {
   "cell_type": "code",
   "execution_count": null,
   "id": "congressional-approval",
   "metadata": {
    "scrolled": true
   },
   "outputs": [],
   "source": [
    "print('Generating the E-fields for harris modes in science plane')\n",
    "print(f'Calibration aberration used: {nm_aber} m')\n",
    "\n",
    "start_time = time.time()\n",
    "focus_fieldS = []\n",
    "focus_fieldS_Re = []\n",
    "focus_fieldS_Im = []\n",
    "\n",
    "for pp in range(0, num_actuators):\n",
    "    print(f'Working on mode {pp}/{num_actuators}')\n",
    "    \n",
    "    # Apply calibration aberration to used mode\n",
    "    harris_actuators = np.zeros(num_actuators)\n",
    "    harris_actuators[pp] = (nm_aber)/2 \n",
    "    luvoir.harris_sm.actuators  = harris_actuators\n",
    "    \n",
    "    # Calculate coronagraphic E-field and add to lists\n",
    "    aberrated_coro_psf, inter = luvoir.calc_psf(display_intermediate=False, return_intermediate='efield',norm_one_photon=True)\n",
    "    focus_field1 = aberrated_coro_psf\n",
    "    focus_fieldS.append(focus_field1)\n",
    "    focus_fieldS_Re.append(focus_field1.real)\n",
    "    focus_fieldS_Im.append(focus_field1.imag)"
   ]
  },
  {
   "cell_type": "markdown",
   "id": "narrative-reporter",
   "metadata": {},
   "source": [
    "### Construct the PASTIS matrix from the E-fields"
   ]
  },
  {
   "cell_type": "code",
   "execution_count": null,
   "id": "behind-savannah",
   "metadata": {
    "scrolled": true
   },
   "outputs": [],
   "source": [
    "pastis_matrix = np.zeros([num_actuators, num_actuators])   # create empty matrix\n",
    "\n",
    "for i in range(0, num_actuators):\n",
    "    for j in range(0, num_actuators):\n",
    "        test = np.real((focus_fieldS[i].electric_field - Efield_ref ) * np.conj(focus_fieldS[j].electric_field -Efield_ref ))\n",
    "        dh_test = (test / norm) * luvoir.dh_mask\n",
    "        contrast = np.mean(dh_test[np.where(luvoir.dh_mask != 0)])\n",
    "        pastis_matrix[i, j] = contrast"
   ]
  },
  {
   "cell_type": "markdown",
   "id": "f42d5c35",
   "metadata": {},
   "source": [
    "### Plotting pastis matrix with scientific notation colorbar"
   ]
  },
  {
   "cell_type": "code",
   "execution_count": null,
   "id": "african-consideration",
   "metadata": {
    "scrolled": false
   },
   "outputs": [],
   "source": [
    "clist = [(0.1, 0.6, 1.0), (0.05, 0.05, 0.05), (0.8, 0.5, 0.1)]\n",
    "blue_orange_divergent = LinearSegmentedColormap.from_list(\"custom_blue_orange\", clist)\n",
    "\n",
    "plt.figure(figsize=(10,8))\n",
    "norm_mat = TwoSlopeNorm(vcenter=0,vmin=-0.005*1e-7,  vmax = 0.005*1e-7)\n",
    "plt.imshow(pastis_matrix, cmap=blue_orange_divergent, norm = norm_mat)\n",
    "plt.title(r\"PASTIS matrix $M$\", fontsize=20)\n",
    "plt.xlabel(\"Mode Index\",fontsize=20)\n",
    "plt.ylabel(\"Mode Index\",fontsize=20)\n",
    "plt.tick_params(labelsize=15)\n",
    "cbar = plt.colorbar(fraction=0.046, pad=0.04)\n",
    "cbar.set_label(r\"in units of ${contrast\\ per\\ {nm}^2}$\",fontsize =15)\n",
    "plt.tight_layout()\n",
    "\n",
    "plt.savefig(os.path.join(resDir, 'pastis_matrix.png'))"
   ]
  },
  {
   "cell_type": "markdown",
   "id": "1a043878",
   "metadata": {},
   "source": [
    "### Save PASTIS matrix, Real and Imaginary part of electric field at the focus as a fits file"
   ]
  },
  {
   "cell_type": "code",
   "execution_count": null,
   "id": "interpreted-pearl",
   "metadata": {
    "scrolled": true
   },
   "outputs": [],
   "source": [
    "filename_matrix = 'PASTISmatrix_n_harris_' + str(num_actuators)\n",
    "hcipy.write_fits(pastis_matrix, os.path.join(resDir, filename_matrix + '.fits'))\n",
    "print('Matrix saved to:', os.path.join(resDir, filename_matrix + '.fits'))\n",
    "\n",
    "filename_matrix = 'EFIELD_Re_matrix_n_harris_' + str(num_actuators)\n",
    "hcipy.write_fits(focus_fieldS_Re, os.path.join(resDir, filename_matrix + '.fits'))\n",
    "print('Efield Real saved to:', os.path.join(resDir, filename_matrix + '.fits'))\n",
    "\n",
    "\n",
    "filename_matrix = 'EFIELD_Im_matrix_n_harris_' + str(num_actuators)\n",
    "hcipy.write_fits(focus_fieldS_Im, os.path.join(resDir, filename_matrix + '.fits'))\n",
    "print('Efield Imag saved to:', os.path.join(resDir, filename_matrix + '.fits'))\n",
    "\n",
    "end_time = time.time()\n",
    "print('Runtime for harris modes:', end_time - start_time, 'sec =', (end_time - start_time) / 60, 'min')\n",
    "print('Data saved to {}'.format(resDir))"
   ]
  },
  {
   "cell_type": "markdown",
   "id": "fifth-latin",
   "metadata": {},
   "source": [
    "### Generating eigenvalues and eigenvectors for the PASTIS matrix  $\\color{red}{\\text{(optional)}}$"
   ]
  },
  {
   "cell_type": "code",
   "execution_count": null,
   "id": "forty-officer",
   "metadata": {
    "scrolled": false
   },
   "outputs": [],
   "source": [
    "evals, evecs = np.linalg.eig(pastis_matrix)\n",
    "sorted_evals = np.sort(evals)\n",
    "sorted_indices = np.argsort(evals)\n",
    "sorted_evecs = evecs[:, sorted_indices]"
   ]
  },
  {
   "cell_type": "markdown",
   "id": "3db49dce",
   "metadata": {},
   "source": [
    "### codeblock to plot eigenvalues $\\lambda_{p}$  $\\color{red}{\\text{(optional)}}$"
   ]
  },
  {
   "cell_type": "code",
   "execution_count": null,
   "id": "0dc853bf",
   "metadata": {},
   "outputs": [],
   "source": [
    "plt.figure(figsize=(10, 8))\n",
    "plt.plot(sorted_evals)\n",
    "plt.semilogy()\n",
    "plt.xlabel('Mode Index',fontsize=20)\n",
    "plt.ylabel('Eigenvalues (in units of contrast/'r'wave$^2$)',fontsize=20)\n",
    "plt.tick_params(top=True, bottom=True, left=True, right=True,\n",
    "                labelleft=True, labelbottom=True, labelsize=20)\n",
    "plt.tick_params(axis='both',direction='in')\n",
    "plt.tick_params(axis='both',which='major',length=10, width=2)\n",
    "\n",
    "plt.savefig(os.path.join(resDir, 'eigenvalues.png'))"
   ]
  },
  {
   "cell_type": "markdown",
   "id": "6cdfb06f",
   "metadata": {},
   "source": [
    "### Codeblock to plot sorted eigenmodes ${b}_{p}$ $\\color{red}{\\text{(optional)}}$"
   ]
  },
  {
   "cell_type": "code",
   "execution_count": null,
   "id": "continuing-tolerance",
   "metadata": {
    "scrolled": false
   },
   "outputs": [],
   "source": [
    "emodes = []\n",
    "eunit = 1e-9\n",
    "for mode in range(len(evals)):\n",
    "    print('Working on mode {}/{}.'.format(mode+1, len(evals)))\n",
    "    \n",
    "    harris_coeffs = eunit*sorted_evecs[:, mode]/2\n",
    "    luvoir.harris_sm.actuators = harris_coeffs\n",
    "    wf_harris_sm = luvoir.harris_sm(luvoir.wf_aper)\n",
    "    emodes.append(wf_harris_sm.phase)\n",
    "    \n",
    "#to plot a single eigen mode use following \n",
    "hcipy.imshow_field(emodes[2])"
   ]
  },
  {
   "cell_type": "markdown",
   "id": "6b07c62a",
   "metadata": {},
   "source": [
    "### Set the desired target_contrast for which you want to calculate tolerances "
   ]
  },
  {
   "cell_type": "code",
   "execution_count": null,
   "id": "worse-guyana",
   "metadata": {
    "scrolled": true
   },
   "outputs": [],
   "source": [
    "c_target_log = -11\n",
    "c_target = 10**(c_target_log)"
   ]
  },
  {
   "cell_type": "markdown",
   "id": "593dee05",
   "metadata": {},
   "source": [
    "### Generating and saving tolerance/ $\\mu$ values for each segement, each mode"
   ]
  },
  {
   "cell_type": "code",
   "execution_count": null,
   "id": "analyzed-scottish",
   "metadata": {
    "scrolled": true
   },
   "outputs": [],
   "source": [
    "mu_map_harris = np.sqrt(((c_target) / (num_actuators)) / (np.diag(pastis_matrix)))\n",
    "np.savetxt(os.path.join(resDir, 'mu_map_harris_%s.csv'%c_target), mu_map_harris, delimiter=',')"
   ]
  },
  {
   "cell_type": "markdown",
   "id": "7be998ac",
   "metadata": {},
   "source": [
    "### Codeblock to plot tolerances per mode per segments  $\\color{red}{\\text{(optional)}}$"
   ]
  },
  {
   "cell_type": "code",
   "execution_count": null,
   "id": "protected-sperm",
   "metadata": {
    "scrolled": false
   },
   "outputs": [],
   "source": [
    "plt.figure(figsize=(20,10))\n",
    "plt.title(\"Modal constraints to achieve a dark hole contrast of \"r\"$10^{%d}$\"%c_target_log, fontsize=30)\n",
    "plt.ylabel(\"Weight per mode (in units of nm)\",fontsize =20)\n",
    "plt.xlabel(\"Mode index\", fontsize=20)\n",
    "plt.tick_params(top=True, bottom=True, left=True, right=True,labelleft=True, labelbottom=True, labelsize=20)\n",
    "plt.plot(mu_map_harris)\n",
    "plt.tight_layout()\n",
    "plt.savefig(os.path.join(resDir, 'mu_map_harris_%s.png'%c_target))"
   ]
  },
  {
   "cell_type": "markdown",
   "id": "17931014",
   "metadata": {},
   "source": [
    "### plot max mode contribution(s) from the static-contrast target and eigen values $\\color{red}{\\text{(optional)}}$"
   ]
  },
  {
   "cell_type": "code",
   "execution_count": null,
   "id": "bibliographic-prophet",
   "metadata": {
    "scrolled": false
   },
   "outputs": [],
   "source": [
    "sigma = np.sqrt(((c_target)) / (600 * sorted_evals))\n",
    "plt.figure(figsize=(15,8))\n",
    "plt.title(\"Max mode contribution(s) from the static-contrast target %s and eigen values\"%c_target, fontsize=20)\n",
    "plt.ylabel(r\"$\\tilde{b}_{p}$ (in units of nm)\",fontsize =20)\n",
    "plt.xlabel(\"Mode index\", fontsize=20)\n",
    "plt.tick_params(top=True, bottom=True, left=True, right=True,labelleft=True, labelbottom=True, labelsize=20)\n",
    "plt.tick_params(axis='both',which='major',length=10, width=2)\n",
    "plt.tick_params(axis='both',direction='in')\n",
    "ax1.tick_params(axis='x',direction='out')\n",
    "plt.ylim(-5,40)\n",
    "plt.plot(sigma)\n",
    "plt.savefig(os.path.join(resDir, 'sigma_%s.png'%c_target))"
   ]
  },
  {
   "cell_type": "markdown",
   "id": "6b873d71",
   "metadata": {},
   "source": [
    "### Codeblock to generate cumulative contrast $\\color{red}{\\text{(optional)}}$"
   ]
  },
  {
   "cell_type": "code",
   "execution_count": null,
   "id": "secret-construction",
   "metadata": {
    "scrolled": true
   },
   "outputs": [],
   "source": [
    "cont_cum_pastis = []\n",
    "for maxmode in range(sorted_evecs.shape[0]):\n",
    "    \n",
    "    aber = np.nansum(sorted_evecs[:, :maxmode+1] * sigma[:maxmode+1], axis=1)\n",
    "    aber *= u.nm\n",
    "    contrast_matrix = util.pastis_contrast(aber, pastis_matrix) + contrast_floor\n",
    "    cont_cum_pastis.append(contrast_matrix)"
   ]
  },
  {
   "cell_type": "markdown",
   "id": "8bef5ccb",
   "metadata": {},
   "source": [
    "### codeblock to plot cumulative contrast $\\color{red}{\\text{(optional)}}$"
   ]
  },
  {
   "cell_type": "code",
   "execution_count": null,
   "id": "ready-longer",
   "metadata": {
    "scrolled": false
   },
   "outputs": [],
   "source": [
    "plt.figure(figsize=(10,10))\n",
    "plt.plot(cont_cum_pastis)\n",
    "plt.xlabel(\"Mode Index\", fontsize =20)\n",
    "plt.ylabel(\"Cumulative contrast\", fontsize =20)\n",
    "plt.tick_params(top=True, bottom=True, left=True, right=True,labelleft=True, labelbottom=True, labelsize=20)\n",
    "plt.tick_params(axis='both',which='major',length=10, width=2)\n",
    "plt.tick_params(axis='both',direction='in')\n",
    "plt.tight_layout()\n",
    "\n",
    "plt.savefig(os.path.join(resDir, 'cont_cum_pastis_%s.png'% c_target))"
   ]
  },
  {
   "cell_type": "markdown",
   "id": "ff28c610",
   "metadata": {},
   "source": [
    "### codeblock to plot list of individual contrast $\\color{red}{\\text{(optional)}}$"
   ]
  },
  {
   "cell_type": "code",
   "execution_count": null,
   "id": "vertical-clearance",
   "metadata": {
    "scrolled": true
   },
   "outputs": [],
   "source": [
    "cont_ind_pastis = []\n",
    "for maxmode in range(sorted_evecs.shape[0]):\n",
    "    aber = sorted_evecs[:, maxmode] * sigma[maxmode]\n",
    "    aber *=u.nm\n",
    "    contrast_matrix = util.pastis_contrast(aber, pastis_matrix)\n",
    "    cont_ind_pastis.append(contrast_matrix)"
   ]
  },
  {
   "cell_type": "code",
   "execution_count": null,
   "id": "athletic-norfolk",
   "metadata": {
    "scrolled": false
   },
   "outputs": [],
   "source": [
    "plt.figure(figsize=(20,10))\n",
    "\n",
    "plt.plot((cont_ind_pastis))\n",
    "plt.semilogy()\n",
    "plt.xlabel(\"Mode Index\",fontsize=20)\n",
    "plt.ylabel(\"List of Individual contrast\",fontsize=20)\n",
    "plt.tick_params(top=True, bottom=True, left=True, right=True,labelleft=True, labelbottom=True, labelsize=20)\n",
    "plt.yscale('log')\n",
    "\n",
    "plt.savefig(os.path.join(resDir, 'cont_ind_pastis_%s.png'%c_target))"
   ]
  },
  {
   "cell_type": "markdown",
   "id": "b6a80959",
   "metadata": {},
   "source": [
    "### Create tolerance maps (later to be converted in pm or mk scales )"
   ]
  },
  {
   "cell_type": "code",
   "execution_count": null,
   "id": "a12a6d23",
   "metadata": {},
   "outputs": [],
   "source": [
    "harris_coeffs_numaps = np.zeros([num_modes, num_actuators]) #(5, 600)\n",
    "\n",
    "for qq in range(num_modes):\n",
    "    harris_coeffs_tmp = np.zeros([num_actuators]) #600\n",
    "    for kk in range(nb_seg):\n",
    "        harris_coeffs_tmp[qq+(kk)*num_modes] = mu_map_harris[qq+(kk)*num_modes] #arranged per modal basis\n",
    "    harris_coeffs_numaps[qq] = harris_coeffs_tmp #arragned into 5 groups of 600 elements and in units of nm\n",
    "\n",
    "nu_maps = []\n",
    "for qq in range(num_modes):\n",
    "    harris_coeffs = harris_coeffs_numaps[qq] #in units of nm\n",
    "    luvoir.harris_sm.actuators = harris_coeffs*nm_aber/2 # in units of m\n",
    "    nu_maps.append(luvoir.harris_sm.surface) #in units of m, each nu_map is now of the order of 1e-9 m "
   ]
  },
  {
   "cell_type": "markdown",
   "id": "653c1c89",
   "metadata": {},
   "source": [
    "Note that each element in $\\textit{harris_coeffs_numaps}$ can be accessed as $\\textit{harris_coeffs_numaps}$$[i][i+5]$, $0<i<5$"
   ]
  },
  {
   "cell_type": "markdown",
   "id": "7be8c19d",
   "metadata": {},
   "source": [
    "### in picometer "
   ]
  },
  {
   "cell_type": "code",
   "execution_count": null,
   "id": "89dd92b2",
   "metadata": {},
   "outputs": [],
   "source": [
    "plt.figure(figsize=(40,20))\n",
    "ax1 = plt.subplot2grid(shape=(2,6), loc=(0,0), colspan=2)\n",
    "plt.title(\"Segment Level 1mK Faceplates Silvered\", fontsize=30)\n",
    "plot_norm1 = TwoSlopeNorm(vcenter=0,vmin=-5,  vmax =5) \n",
    "hcipy.imshow_field((nu_maps[0])*1e12, cmap = 'RdBu', norm = plot_norm1) #nu_map is already in 1e-9 m\n",
    "plt.tick_params(top=False, bottom=False, left=False, right=False,labelleft=False, labelbottom=False)\n",
    "cbar = plt.colorbar()\n",
    "cbar.ax.tick_params(labelsize=30)\n",
    "cbar.set_label(\"pm\",fontsize =30)\n",
    "\n",
    "ax2 = plt.subplot2grid((2,6), (0,2), colspan=2)\n",
    "plt.title(\"Segment Level 1mK bulk\",fontsize=30)\n",
    "plot_norm2 = TwoSlopeNorm(vcenter=0, vmin=-10,  vmax =10)\n",
    "hcipy.imshow_field((nu_maps[1])*1e12,cmap = 'RdBu',norm = plot_norm2)\n",
    "plt.tick_params(top=False, bottom=False, left=False, right=False,labelleft=False, labelbottom=False)\n",
    "cbar = plt.colorbar()\n",
    "cbar.ax.tick_params(labelsize=30)\n",
    "cbar.set_label(\"pm\",fontsize =30)\n",
    "\n",
    "ax3 = plt.subplot2grid((2,6), (0,4), colspan=2)\n",
    "plt.title(\"Segment Level 1mK gradiant radial\",fontsize=30)\n",
    "plot_norm3 = TwoSlopeNorm(vcenter=0, vmin=-10,  vmax =10) \n",
    "hcipy.imshow_field((nu_maps[2])*1e12,cmap = 'RdBu',norm = plot_norm3)\n",
    "plt.tick_params(top=False, bottom=False, left=False, right=False,labelleft=False, labelbottom=False)\n",
    "cbar = plt.colorbar()\n",
    "cbar.ax.tick_params(labelsize=30)\n",
    "cbar.set_label(\"pm\",fontsize =30)\n",
    "\n",
    "ax4 = plt.subplot2grid((2,6), (1,1), colspan=2)\n",
    "plt.title(\"Segment Level 1mK gradient X lateral\",fontsize=30)\n",
    "plot_norm4 = TwoSlopeNorm(vcenter=0, vmin=-10,  vmax =10) \n",
    "hcipy.imshow_field((nu_maps[3])*1e12,cmap = 'RdBu', norm = plot_norm4)\n",
    "plt.tick_params(top=False, bottom=False, left=False, right=False,labelleft=False, labelbottom=False)\n",
    "cbar = plt.colorbar()\n",
    "cbar.ax.tick_params(labelsize=30)\n",
    "cbar.set_label(\"pm\",fontsize =30)\n",
    "\n",
    "ax5 = plt.subplot2grid((2,6), (1,3), colspan=2)\n",
    "plt.title(\"Segment Level 1mK gradient Z axial\",fontsize=30)\n",
    "plot_norm5 = TwoSlopeNorm(vcenter=0,vmin=-10,  vmax =10)\n",
    "hcipy.imshow_field((nu_maps[4])*1e12,cmap = 'RdBu', norm = plot_norm5)\n",
    "plt.tick_params(top=False, bottom=False, left=False, right=False,labelleft=False, labelbottom=False)\n",
    "cbar = plt.colorbar()\n",
    "cbar.ax.tick_params(labelsize=30)\n",
    "cbar.set_label(\"pm\",fontsize =30)\n",
    "\n",
    "plt.tight_layout()\n",
    "plt.savefig(os.path.join(resDir, 'stat_mu_maps_pm_%s.png'%c_target))"
   ]
  },
  {
   "cell_type": "markdown",
   "id": "cdcc1c8b",
   "metadata": {},
   "source": [
    "### plot tolerances maps in units of mK \n",
    "#### To plot the tolerance maps in units of mK, first we create a segmented mirror where each segment can do piston. The piston amplitude is set as the mu coefficients. This tweaking done for the visual purpose. "
   ]
  },
  {
   "cell_type": "code",
   "execution_count": null,
   "id": "ea3222c9",
   "metadata": {},
   "outputs": [],
   "source": [
    "harris_coeffs_table = np.zeros([num_modes, nb_seg])\n",
    "for qq in range(num_modes):\n",
    "    for kk in range(nb_seg):\n",
    "        harris_coeffs_table[qq,kk] = mu_map_harris[qq+(kk)*num_modes] #numpy ndarray 120 # in units of nm\n",
    "\n",
    "# Faceplate silvered\n",
    "luvoir2 = LuvoirA_APLC(optics_input, coronagraph_design, sampling)\n",
    "luvoir2.create_segmented_mirror(1) \n",
    "luvoir2.sm.actuators =harris_coeffs_table[0]\n",
    "\n",
    "# Bulk\n",
    "luvoir3 = LuvoirA_APLC(optics_input, coronagraph_design, sampling)\n",
    "luvoir3.create_segmented_mirror(1)\n",
    "luvoir3.sm.actuators = harris_coeffs_table[1]\n",
    "\n",
    "# Gradient Radial\n",
    "luvoir4 = LuvoirA_APLC(optics_input, coronagraph_design, sampling)\n",
    "luvoir4.create_segmented_mirror(1)\n",
    "luvoir4.sm.actuators = harris_coeffs_table[2]\n",
    "\n",
    "# Gradient X Lateral\n",
    "luvoir5 = LuvoirA_APLC(optics_input, coronagraph_design, sampling)\n",
    "luvoir5.create_segmented_mirror(1)\n",
    "luvoir5.sm.actuators = harris_coeffs_table[3]\n",
    "\n",
    "# Gradient z axial\n",
    "luvoir6 = LuvoirA_APLC(optics_input, coronagraph_design, sampling)\n",
    "luvoir6.create_segmented_mirror(1)\n",
    "luvoir6.sm.actuators = harris_coeffs_table[4]"
   ]
  },
  {
   "cell_type": "code",
   "execution_count": null,
   "id": "68bf2775",
   "metadata": {},
   "outputs": [],
   "source": [
    "print(\"Allowable temperature change (in mK)\",\"\\n\")\n",
    "print(\"Faceplate silvered: \",np.sqrt(np.mean(np.square(luvoir2.sm.actuators)))*1000)\n",
    "print(\"Bulk: \", np.sqrt(np.mean(np.square(luvoir3.sm.actuators)))*1000)\n",
    "print(\"Gradient Radial:\",np.sqrt(np.mean(np.square(luvoir4.sm.actuators)))*1000)\n",
    "print(\"Gradient X Lateral: \",np.sqrt(np.mean(np.square(luvoir5.sm.actuators)))*1000)\n",
    "print(\"Gradient Z axial: \",np.sqrt(np.mean(np.square(luvoir6.sm.actuators)))*1000)\n"
   ]
  },
  {
   "cell_type": "markdown",
   "id": "4b1a455b",
   "metadata": {},
   "source": [
    "#### Note: why we multiplying 1000 to luvoir.sm.surface; recall the harris modal basis are essentially surface deformation formed when there is  a 1mk temperature change across different directions. \n",
    "Let $\\mathcal{f(x,y)}$ be the harris modal basis function.\n",
    "At any point $\\mathcal(x,y)$ on the segment, $\\mathcal{f(x,y)}$ denotes the surface deformation in pm. \n",
    "<br> Each segment in the figure named 'stat_mu_map_..' represents $\\mu_{kk}* \\mathcal{f(x,y)}$. \n",
    "where $\\mu_{kk}$ is an element from $\\textit{mu_map_harris}$ and it's unit is in nm. \n",
    "<br> Therefore, $10^3*\\mu_{kk}*f(x , y)$ is in pm scale.\n",
    "<br> $f(x,y)$ corresponds to 1 mk temperature change across the second.\n",
    "<br> $10^3*\\mu_{kk}*f(x , y)$ will correspond to $10^3*\\mu_{kk}$ mK temperature change.\n",
    "<br> Hence temperature-tolerances per mode per segment is $10^3*\\mu_{kk}$ mK.\n",
    "<br> In the just above codeblock, we are feeding each actuators of luvoir.sm.actuators with $\\mu_{kk}$. \n",
    "<br> Therefore, we multiply by a factor of 1000 i.e, to make it $10^3*\\mu_{kk}$ and see the plots in mK scale"
   ]
  },
  {
   "cell_type": "code",
   "execution_count": null,
   "id": "7cc74963",
   "metadata": {},
   "outputs": [],
   "source": [
    "plt.figure(figsize=(40,20))\n",
    "ax1 = plt.subplot2grid(shape=(2,6), loc=(0,0), colspan=2)\n",
    "plt.title(\"Faceplates Silvered\", fontsize=30)\n",
    "hcipy.imshow_field((luvoir2.sm.surface)*1000, cmap = 'RdBu',vmin=0,  vmax =15)\n",
    "plt.tick_params(top=False, bottom=False, left=False, right=False,labelleft=False, labelbottom=False)\n",
    "cbar = plt.colorbar()\n",
    "cbar.ax.tick_params(labelsize=30)\n",
    "cbar.set_label(\"mK\",fontsize =30)\n",
    "\n",
    "ax2 = plt.subplot2grid((2,6), (0,2), colspan=2)\n",
    "plt.title(\"Bulk\",fontsize=30)\n",
    "hcipy.imshow_field((luvoir3.sm.surface)*1000, cmap = 'RdBu', vmin=0,vmax =70)\n",
    "plt.tick_params(top=False, bottom=False, left=False, right=False,labelleft=False, labelbottom=False)\n",
    "cbar = plt.colorbar()\n",
    "cbar.ax.tick_params(labelsize=30)\n",
    "cbar.set_label(\"mK\",fontsize =30)\n",
    "\n",
    "ax3 = plt.subplot2grid((2,6), (0,4), colspan=2)\n",
    "plt.title(\"Gradiant Radial\",fontsize=30)\n",
    "hcipy.imshow_field((luvoir4.sm.surface)*1000,cmap = 'RdBu',vmin=0,  vmax =140)\n",
    "plt.tick_params(top=False, bottom=False, left=False, right=False,labelleft=False, labelbottom=False)\n",
    "cbar = plt.colorbar()\n",
    "cbar.ax.tick_params(labelsize=30)\n",
    "cbar.set_label(\"mK\",fontsize =30)\n",
    "\n",
    "ax4 = plt.subplot2grid((2,6), (1,1), colspan=2)\n",
    "plt.title(\"Gradient X lateral\",fontsize=30)\n",
    "hcipy.imshow_field((luvoir5.sm.surface)*1000,cmap = 'RdBu', vmin=0,  vmax =30)\n",
    "plt.tick_params(top=False, bottom=False, left=False, right=False,labelleft=False, labelbottom=False)\n",
    "cbar = plt.colorbar()\n",
    "cbar.ax.tick_params(labelsize=30)\n",
    "cbar.set_label(\"mK\",fontsize =30)\n",
    "\n",
    "ax5 = plt.subplot2grid((2,6), (1,3), colspan=2)\n",
    "plt.title(\"Gradient Z axial\",fontsize=30)\n",
    "hcipy.imshow_field((luvoir6.sm.surface)*1000,cmap = 'RdBu', vmin=0,  vmax =50)\n",
    "plt.tick_params(top=False, bottom=False, left=False, right=False,labelleft=False, labelbottom=False)\n",
    "cbar = plt.colorbar()\n",
    "cbar.ax.tick_params(labelsize=30)\n",
    "cbar.set_label(\"mK\",fontsize =30)\n",
    "\n",
    "plt.tight_layout()\n",
    "plt.savefig(os.path.join(resDir, 'mu_map_mK_%s.png'%c_target))"
   ]
  },
  {
   "cell_type": "markdown",
   "id": "0953d12c",
   "metadata": {},
   "source": [
    "# Temporal Ananlysis"
   ]
  },
  {
   "cell_type": "markdown",
   "id": "3d7d3b1a",
   "metadata": {},
   "source": [
    "### Define stellar parameters"
   ]
  },
  {
   "cell_type": "code",
   "execution_count": null,
   "id": "interracial-warrior",
   "metadata": {
    "scrolled": true
   },
   "outputs": [],
   "source": [
    "# Getting the flux together\n",
    "npup = int(np.sqrt(luvoir.pupil_grid.x.shape[0]))\n",
    "nimg = int(np.sqrt(luvoir.focal_det.x.shape[0]))\n",
    "\n",
    "sptype = 'A0V' # Put this on config\n",
    "Vmag = 5.0 # Put this in loop\n",
    "minlam = 500 * u.nanometer # Put this on config\n",
    "maxlam = 600 * u.nanometer # Put this on config\n",
    "dark_current = 0   #put this on config\n",
    "CIC = 0            #electrons per sec #put this on config\n",
    "star_flux = exoscene.star.bpgs_spectype_to_photonrate(spectype=sptype, Vmag=Vmag, minlam=minlam.value, maxlam=maxlam.value)\n",
    "Nph = star_flux.value*15**2*np.sum(luvoir.apodizer**2) / npup**2"
   ]
  },
  {
   "cell_type": "code",
   "execution_count": null,
   "id": "406f7181",
   "metadata": {},
   "outputs": [],
   "source": [
    "mu_map_harris = np.genfromtxt(os.path.join(resDir, 'mu_map_harris_%s.csv'%c_target),delimiter=',')"
   ]
  },
  {
   "cell_type": "code",
   "execution_count": null,
   "id": "tropical-variable",
   "metadata": {
    "scrolled": true
   },
   "outputs": [],
   "source": [
    "luvoir.harris_sm.flatten()\n",
    "nonaberrated_coro_psf, refshit,inter_ref = luvoir.calc_psf(ref=True, display_intermediate=False, return_intermediate='efield',norm_one_photon=True)\n",
    "Efield_ref = nonaberrated_coro_psf.electric_field"
   ]
  },
  {
   "cell_type": "markdown",
   "id": "d3e69f1e",
   "metadata": {},
   "source": [
    "### out-of-band reference electric field seen by out-of-band wavefront sensor"
   ]
  },
  {
   "cell_type": "code",
   "execution_count": null,
   "id": "flexible-special",
   "metadata": {
    "scrolled": false
   },
   "outputs": [],
   "source": [
    "luvoir.harris_sm.flatten()\n",
    "N_pup_z = int(luvoir.pupil_grid.shape[0] / z_pup_downsample)\n",
    "grid_zernike = hcipy.field.make_pupil_grid(N_pup_z, diameter=luvoir.diam)\n",
    "\n",
    "harris_ref2 = luvoir.calc_out_of_band_wfs(norm_one_photon=True)\n",
    "harris_ref2_sub_real = hcipy.field.subsample_field(harris_ref2.real, z_pup_downsample, grid_zernike, statistic='mean')\n",
    "harris_ref2_sub_imag = hcipy.field.subsample_field(harris_ref2.imag, z_pup_downsample, grid_zernike, statistic='mean')\n",
    "Efield_ref_OBWFS = (harris_ref2_sub_real + 1j*harris_ref2_sub_imag) * z_pup_downsample"
   ]
  },
  {
   "cell_type": "code",
   "execution_count": null,
   "id": "comic-territory",
   "metadata": {
    "scrolled": false
   },
   "outputs": [],
   "source": [
    "plt.figure(figsize = (20,10))\n",
    "plt.subplot(1,2,1)\n",
    "hcipy.imshow_field(Efield_ref_OBWFS.real, cmap ='RdBu')\n",
    "plt.colorbar()\n",
    "plt.subplot(1,2,2)\n",
    "hcipy.imshow_field(Efield_ref_OBWFS.imag, cmap ='RdBu')\n",
    "plt.colorbar()"
   ]
  },
  {
   "cell_type": "markdown",
   "id": "b6ffc4b9",
   "metadata": {},
   "source": [
    "### calculate nyquist grid $\\color{red}{\\text{(optional)}}$"
   ]
  },
  {
   "cell_type": "code",
   "execution_count": null,
   "id": "greenhouse-converter",
   "metadata": {
    "scrolled": true
   },
   "outputs": [],
   "source": [
    "# nyquist_sampling = 2.\n",
    "\n",
    "# # Actual grid for LUVOIR images\n",
    "# grid_test = hcipy.make_focal_grid(\n",
    "#             luvoir.sampling,\n",
    "#             luvoir.imlamD,\n",
    "#             pupil_diameter=luvoir.diam,\n",
    "#             focal_length=1,\n",
    "#             reference_wavelength=luvoir.wvln,\n",
    "#         )\n",
    "\n",
    "# # Actual grid for LUVOIR images that are nyquist sampled\n",
    "# grid_det_subsample = hcipy.make_focal_grid(\n",
    "#             nyquist_sampling,\n",
    "#             np.floor(luvoir.imlamD),\n",
    "#             pupil_diameter=luvoir.diam,\n",
    "#             focal_length=1,\n",
    "#             reference_wavelength=luvoir.wvln,\n",
    "#         )\n",
    "# n_nyquist = np.int(np.sqrt(grid_det_subsample.x.shape[0]))"
   ]
  },
  {
   "cell_type": "markdown",
   "id": "7a934969",
   "metadata": {},
   "source": [
    "### Setting up nyquist sampled dark hole mask $\\color{red}{\\text{(optional)}}$"
   ]
  },
  {
   "cell_type": "code",
   "execution_count": null,
   "id": "incorporated-teacher",
   "metadata": {
    "scrolled": true
   },
   "outputs": [],
   "source": [
    "### Dark hole mask\n",
    "# design = 'small'\n",
    "\n",
    "# dh_outer_nyquist = hcipy.circular_aperture(2 * luvoir.apod_dict[design]['owa'] * luvoir.lam_over_d)(grid_det_subsample)\n",
    "# dh_inner_nyquist = hcipy.circular_aperture(2 * luvoir.apod_dict[design]['iwa'] * luvoir.lam_over_d)(grid_det_subsample)\n",
    "# dh_mask_nyquist = (dh_outer_nyquist - dh_inner_nyquist).astype('bool')\n",
    "\n",
    "# dh_size = len(np.where(luvoir.dh_mask != 0)[0])\n",
    "# dh_size_nyquist = len(np.where(dh_mask_nyquist != 0)[0])\n",
    "# dh_index = np.where(luvoir.dh_mask != 0)[0]\n",
    "# dh_index_nyquist = np.where(dh_mask_nyquist != 0)[0]"
   ]
  },
  {
   "cell_type": "markdown",
   "id": "c3f51ee6",
   "metadata": {},
   "source": [
    "### setting up nyquist samples E0_coron, G_coron $\\color{red}{\\text{(optional)}}$"
   ]
  },
  {
   "cell_type": "code",
   "execution_count": null,
   "id": "6121ad49",
   "metadata": {},
   "outputs": [],
   "source": [
    "# E0_coron_nyquist = np.zeros([n_nyquist*n_nyquist,1,2])\n",
    "# tmp0 = hcipy.interpolation.make_linear_interpolator_separated(Efield_ref, grid=grid_test)\n",
    "# Efield_ref_nyquist = (luvoir.sampling/nyquist_sampling)**2*tmp0(grid_det_subsample)\n",
    "# E0_coron_nyquist[:,0,0] = Efield_ref_nyquist.real\n",
    "# E0_coron_nyquist[:,0,1] = Efield_ref_nyquist.imag\n",
    "# E0_coron_DH = np.zeros([dh_size,1,2])\n",
    "# E0_coron_DH[:,0,0] = Efield_ref.real[dh_index]\n",
    "# E0_coron_DH[:,0,1] = Efield_ref.imag[dh_index]\n",
    "# E0_coron_DH_nyquist = np.zeros([dh_size_nyquist,1,2])\n",
    "# E0_coron_DH_nyquist[:,0,0] = Efield_ref_nyquist.real[dh_index_nyquist]\n",
    "# E0_coron_DH_nyquist[:,0,1] = Efield_ref_nyquist.real[dh_index_nyquist]\n",
    "\n",
    "# G_coron_harris_nyquist= np.zeros([n_nyquist*n_nyquist,2,num_actuators])\n",
    "# for pp in range(0, num_actuators):\n",
    "#     tmp0 = G_harris_real[pp] + 1j*G_harris_imag[pp]\n",
    "#     tmp1 = hcipy.interpolation.make_linear_interpolator_separated(tmp0, grid=grid_test)\n",
    "#     tmp2 = (luvoir.sampling/nyquist_sampling)**2*tmp1(grid_det_subsample)\n",
    "#     G_coron_harris_nyquist[:,0,pp] = tmp2.real - Efield_ref_nyquist.real\n",
    "#     G_coron_harris_nyquist[:,1,pp] = tmp2.real - Efield_ref_nyquist.imag\n",
    "\n",
    "# G_coron_harris_DH= np.zeros([dh_size,2,num_actuators])\n",
    "# for pp in range(0, num_actuators):\n",
    "#     G_coron_harris_DH[:,0,pp] = G_harris_real[pp,dh_index] - Efield_ref.real[dh_index]\n",
    "#     G_coron_harris_DH[:,1,pp] = G_harris_imag[pp,dh_index] - Efield_ref.imag[dh_index]\n",
    "\n",
    "# G_coron_harris_DH_nyquist= np.zeros([dh_size_nyquist,2,num_actuators])\n",
    "# for pp in range(0, num_actuators):\n",
    "#     tmp0 = G_harris_real[pp] + 1j*G_harris_imag[pp]\n",
    "#     tmp1 = hcipy.interpolation.make_linear_interpolator_separated(tmp0, grid=grid_test)\n",
    "#     tmp2 = (luvoir.sampling/nyquist_sampling)**2*tmp1(grid_det_subsample)\n",
    "#     G_coron_harris_DH_nyquist[:,0,pp-1] = tmp2.real[dh_index_nyquist] - Efield_ref_nyquist.real[dh_index_nyquist]\n",
    "#     G_coron_harris_DH_nyquist[:,1,pp-1] = tmp2.real[dh_index_nyquist] - Efield_ref_nyquist.imag[dh_index_nyquist]"
   ]
  },
  {
   "cell_type": "markdown",
   "id": "1c17c364",
   "metadata": {},
   "source": [
    "### defining electric field as seen by out-of-band zernike wavefront sensor"
   ]
  },
  {
   "cell_type": "code",
   "execution_count": null,
   "id": "visible-amplifier",
   "metadata": {
    "scrolled": true
   },
   "outputs": [],
   "source": [
    "E0_OBWFS = np.zeros([N_pup_z*N_pup_z,1,2])\n",
    "E0_OBWFS[:,0,0] = Efield_ref_OBWFS.real\n",
    "E0_OBWFS[:,0,1] = Efield_ref_OBWFS.imag"
   ]
  },
  {
   "cell_type": "markdown",
   "id": "c9ae2885",
   "metadata": {},
   "source": [
    "### coronagraphic electric field in the focal plane"
   ]
  },
  {
   "cell_type": "code",
   "execution_count": null,
   "id": "3d6fd5ad",
   "metadata": {},
   "outputs": [],
   "source": [
    "E0_coron = np.zeros([nimg*nimg,1,2])\n",
    "E0_coron[:,0,0] = Efield_ref.real\n",
    "E0_coron[:,0,1] = Efield_ref.imag"
   ]
  },
  {
   "cell_type": "markdown",
   "id": "ff94b747",
   "metadata": {},
   "source": [
    "### defining Sensitvity matrix after coronagraph plane/ image plane"
   ]
  },
  {
   "cell_type": "code",
   "execution_count": null,
   "id": "cutting-light",
   "metadata": {
    "scrolled": true
   },
   "outputs": [],
   "source": [
    "filename_matrix = 'EFIELD_Re_matrix_n_harris_' + str(num_actuators) + '.fits'\n",
    "G_harris_real = fits.getdata(os.path.join(overall_dir, 'matrix_numerical', filename_matrix))\n",
    "filename_matrix = 'EFIELD_Im_matrix_n_harris_' + str(num_actuators) + '.fits'\n",
    "G_harris_imag = fits.getdata(os.path.join(overall_dir, 'matrix_numerical', filename_matrix))"
   ]
  },
  {
   "cell_type": "code",
   "execution_count": null,
   "id": "recorded-clause",
   "metadata": {
    "scrolled": true
   },
   "outputs": [],
   "source": [
    "G_coron_harris= np.zeros([nimg*nimg,2,num_actuators])\n",
    "for pp in range(0, num_actuators):\n",
    "    G_coron_harris[:,0,pp] = G_harris_real[pp] - Efield_ref.real\n",
    "    G_coron_harris[:,1,pp] = G_harris_imag[pp] - Efield_ref.imag"
   ]
  },
  {
   "cell_type": "markdown",
   "id": "158f2c0c",
   "metadata": {
    "scrolled": true
   },
   "source": [
    "### Calculate out-of-band sensitivity matrix or G_OBWFS"
   ]
  },
  {
   "cell_type": "code",
   "execution_count": null,
   "id": "vocational-berlin",
   "metadata": {
    "scrolled": true
   },
   "outputs": [],
   "source": [
    "start_time = time.time()\n",
    "focus_fieldS = []\n",
    "focus_fieldS_Re = []\n",
    "focus_fieldS_Im = []\n",
    "\n",
    "for pp in range(0, num_actuators):\n",
    "    print(pp)\n",
    "    harris_actuators = np.zeros(num_actuators)\n",
    "    harris_actuators[pp] = (nm_aber) / 2\n",
    "    luvoir.harris_sm.actuators  = harris_actuators\n",
    "    harris_meas = luvoir.calc_out_of_band_wfs(norm_one_photon=True)\n",
    "    harris_meas_sub_real = hcipy.field.subsample_field(harris_meas.real, z_pup_downsample, grid_zernike, statistic='mean')\n",
    "    harris_meas_sub_imag = hcipy.field.subsample_field(harris_meas.imag, z_pup_downsample, grid_zernike, statistic='mean')\n",
    "    focus_field1 = harris_meas_sub_real + 1j * harris_meas_sub_imag\n",
    "    focus_fieldS.append(focus_field1)\n",
    "    focus_fieldS_Re.append(focus_field1.real)\n",
    "    focus_fieldS_Im.append(focus_field1.imag)"
   ]
  },
  {
   "cell_type": "markdown",
   "id": "d80fe03b",
   "metadata": {},
   "source": [
    "### saving real and imag part of G_OBWFS"
   ]
  },
  {
   "cell_type": "code",
   "execution_count": null,
   "id": "alternative-chinese",
   "metadata": {
    "scrolled": true
   },
   "outputs": [],
   "source": [
    "filename_matrix = 'EFIELD_OBWFS_Re_matrix_num_harris_' + str(num_actuators)\n",
    "hcipy.write_fits(focus_fieldS_Re, os.path.join(resDir, filename_matrix + '.fits'))\n",
    "print('Efield Real saved to:', os.path.join(resDir, filename_matrix + '.fits'))\n",
    "\n",
    "filename_matrix = 'EFIELD_OBWFS_Im_matrix_num_harris_' + str(num_actuators)\n",
    "hcipy.write_fits(focus_fieldS_Im, os.path.join(resDir, filename_matrix + '.fits'))\n",
    "print('Efield Imag saved to:', os.path.join(resDir, filename_matrix + '.fits'))"
   ]
  },
  {
   "cell_type": "markdown",
   "id": "86dab7ce",
   "metadata": {},
   "source": [
    "### getting already saved to the disk G_OBWFS "
   ]
  },
  {
   "cell_type": "code",
   "execution_count": null,
   "id": "planned-browse",
   "metadata": {
    "scrolled": true
   },
   "outputs": [],
   "source": [
    "filename_matrix = 'EFIELD_OBWFS_Re_matrix_num_harris_' + str(num_actuators)+'.fits'\n",
    "G_OBWFS_real = fits.getdata(os.path.join(overall_dir, 'matrix_numerical', filename_matrix))\n",
    "filename_matrix = 'EFIELD_OBWFS_Im_matrix_num_harris_' + str(num_actuators)+'.fits'\n",
    "G_OBWFS_imag =  fits.getdata(os.path.join(overall_dir, 'matrix_numerical', filename_matrix))"
   ]
  },
  {
   "cell_type": "code",
   "execution_count": null,
   "id": "mineral-murray",
   "metadata": {
    "scrolled": true
   },
   "outputs": [],
   "source": [
    "G_OBWFS= np.zeros([N_pup_z*N_pup_z,2, num_actuators])\n",
    "for pp in range(0, num_actuators):\n",
    "    G_OBWFS[:,0,pp] = G_OBWFS_real[pp]*z_pup_downsample - Efield_ref_OBWFS.real\n",
    "    G_OBWFS[:,1,pp] = G_OBWFS_imag[pp]*z_pup_downsample - Efield_ref_OBWFS.imag"
   ]
  },
  {
   "cell_type": "markdown",
   "id": "e27d5431",
   "metadata": {
    "scrolled": true
   },
   "source": [
    "### Starting close loop plots"
   ]
  },
  {
   "cell_type": "code",
   "execution_count": null,
   "id": "dressed-interest",
   "metadata": {
    "scrolled": true
   },
   "outputs": [],
   "source": [
    "# Running a bunch of tests for time series\n",
    "flux = Nph\n",
    "Qharris = np.diag(np.asarray(mu_map_harris**2))\n",
    "\n",
    "Ntimes = 20\n",
    "TimeMinus = -2\n",
    "TimePlus = 5.5 \n",
    "Nwavescale = 8\n",
    "WaveScaleMinus = -2\n",
    "WaveScalePlus = 1\n",
    "Nflux = 3\n",
    "fluxPlus = 10\n",
    "fluxMinus = 0\n",
    "\n",
    "timeVec = np.logspace(TimeMinus,TimePlus,Ntimes)\n",
    "WaveVec = np.logspace(WaveScaleMinus,WaveScalePlus,Nwavescale)\n",
    "fluxVec = np.linspace(fluxMinus,fluxPlus,Nflux) #10**(-fluxVec/2.5)\n",
    "wavescaleVec = np.logspace(WaveScaleMinus,WaveScalePlus,Nwavescale)"
   ]
  },
  {
   "cell_type": "markdown",
   "id": "1b329ef7",
   "metadata": {},
   "source": [
    "### fixed scaling factor for Qharris,  iterating over variable stellar magnitude <br> (trying to get the wavefront scaling factor for Qharris) $\\color{red}{\\text{(optional)}}$"
   ]
  },
  {
   "cell_type": "code",
   "execution_count": null,
   "id": "11459abe",
   "metadata": {
    "scrolled": true
   },
   "outputs": [],
   "source": [
    "result_mv =[]\n",
    "\n",
    "for StarMag in range (2,7,1):\n",
    "    print('Harris modes closeloop batch estimation, StarMag %f'% StarMag) \n",
    "    wavescale = 1.\n",
    "    niter = 10\n",
    "    timer1 = time.time()\n",
    "    for tscale in np.logspace(TimeMinus, TimePlus, Ntimes):\n",
    "        Starfactor = 10**(-StarMag/2.5)\n",
    "        print(tscale)\n",
    "        tmp0 = req_closedloop_calc_batch(G_coron_harris, G_OBWFS, E0_coron, E0_OBWFS, dark_current+CIC/tscale,\n",
    "                                                 dark_current+CIC/tscale, tscale, flux*Starfactor, wavescale**2*Qharris,\n",
    "                                                 niter, luvoir.dh_mask, norm)    \n",
    "        tmp1 = tmp0['averaged_hist']\n",
    "        n_tmp1 = len(tmp1)\n",
    "        result_mv.append(tmp1[n_tmp1-1])\n"
   ]
  },
  {
   "cell_type": "code",
   "execution_count": null,
   "id": "823028d1",
   "metadata": {},
   "outputs": [],
   "source": [
    "texp = np.logspace(TimeMinus, TimePlus, Ntimes)\n",
    "\n",
    "plt.figure(figsize =(15,10))\n",
    "plt.plot(texp,result_mv[0:20] - contrast_floor, label=r'$m_{v}=2$')\n",
    "plt.plot(texp,result_mv[20:40] - contrast_floor, label=r'$m_{v}=3$')\n",
    "plt.plot(texp,result_mv[40:60] - contrast_floor, label=r'$m_{v}=4$')\n",
    "plt.plot(texp,result_mv[60:80] - contrast_floor, label=r'$m_{v}=5$')\n",
    "plt.plot(texp,result_mv[80:100] - contrast_floor, label=r'$m_{v}=6$')\n",
    "plt.xlabel(\"$t_{WFS}$ in secs\",fontsize=20)\n",
    "plt.ylabel(\"$\\Delta$ contrast\",fontsize=20) \n",
    "plt.yscale('log')\n",
    "plt.xscale('log')\n",
    "plt.legend(loc = 'lower right',fontsize=20)\n",
    "plt.tick_params(top=True, bottom=True, left=True, \n",
    "                right=True,labelleft=True, labelbottom=True,\n",
    "                labelsize=20)\n",
    "plt.tick_params(axis='both',which='major',length=10, width=2)\n",
    "plt.tick_params(axis='both',which='minor',length=6, width=2)\n",
    "plt.grid()\n",
    "plt.show()\n",
    "plt.savefig(os.path.join(resDir, 'cont_mv_%s.png'%c_target))"
   ]
  },
  {
   "cell_type": "markdown",
   "id": "8ad9a779",
   "metadata": {},
   "source": [
    "### fixed stellar magitude, iterating over the wavefront error scaling factor"
   ]
  },
  {
   "cell_type": "code",
   "execution_count": null,
   "id": "d6308703",
   "metadata": {
    "scrolled": true
   },
   "outputs": [],
   "source": [
    "res = np.zeros([Ntimes, Nwavescale, Nflux, 1])\n",
    "result_wf_test =[]\n",
    "\n",
    "for wavescale in range (1,15,2):\n",
    "    print('recurssive close loop batch estimation and wavescale %f'% wavescale)  \n",
    "    niter = 10\n",
    "    timer1 = time.time()\n",
    "    StarMag = 0.0\n",
    "    for tscale in np.logspace(TimeMinus, TimePlus, Ntimes):\n",
    "        Starfactor = 10**(-StarMag/2.5)\n",
    "        print(tscale)\n",
    "        tmp0 = req_closedloop_calc_batch(G_coron_harris, G_OBWFS, E0_coron, E0_OBWFS, dark_current+CIC/tscale,\n",
    "                                                 dark_current+CIC/tscale, tscale, flux*Starfactor, 0.0001*wavescale**2*Qharris,\n",
    "                                                 niter, luvoir.dh_mask, norm)    \n",
    "        tmp1 = tmp0['averaged_hist']\n",
    "        n_tmp1 = len(tmp1)\n",
    "        result_wf_test.append(tmp1[n_tmp1-1])\n"
   ]
  },
  {
   "cell_type": "code",
   "execution_count": null,
   "id": "91c6147b",
   "metadata": {
    "scrolled": false
   },
   "outputs": [],
   "source": [
    "# Note that whatever <....000001*wavescale**2> used above inside the loop is in units of nm**2\n",
    "delta_wf = []\n",
    "for wavescale in range (1,15,2):\n",
    "    wf = 1e3*np.sqrt(0.0001*wavescale**2) #converting to pm\n",
    "    delta_wf.append(wf)\n",
    "    \n",
    "texp = np.logspace(TimeMinus, TimePlus, Ntimes)\n",
    "font = {'family': 'serif','color' : 'black','weight': 'normal','size'  :  20}\n",
    "\n",
    "plt.figure(figsize =(15,10))\n",
    "plt.title('Target contrast = %s, Vmag= %s'%(c_target, Vmag),fontdict=font)\n",
    "plt.plot(texp,result_wf_test[0:20]-contrast_floor, label=r'$\\Delta_{wf}= %d\\ pm$'%(delta_wf[0]))\n",
    "plt.plot(texp,result_wf_test[20:40]-contrast_floor, label=r'$\\Delta_{wf}=%d\\ pm$'%(delta_wf[1]))\n",
    "plt.plot(texp,result_wf_test[40:60]-contrast_floor, label=r'$\\Delta_{wf}=%d\\ pm$'%(delta_wf[2]))\n",
    "plt.plot(texp,result_wf_test[60:80]-contrast_floor, label=r'$\\Delta_{wf}=%d\\ pm$'%(delta_wf[3]))\n",
    "plt.plot(texp,result_wf_test[80:100]-contrast_floor, label=r'$\\Delta_{wf}=%d\\ pm$'%(delta_wf[4]))\n",
    "plt.plot(texp,result_wf_test[100:120]-contrast_floor, label=r'$\\Delta_{wf}=%d\\ pm$'%(delta_wf[5]))\n",
    "plt.plot(texp,result_wf_test[120:140]-contrast_floor, label=r'$\\Delta_{wf}=%d\\ pm$'%(delta_wf[6]))\n",
    "plt.xlabel(\"$t_{WFS}$ in secs\",fontsize=20)\n",
    "plt.ylabel(\"$\\Delta$ contrast\",fontsize=20)\n",
    "plt.yscale('log')\n",
    "plt.xscale('log')\n",
    "plt.legend(loc = 'upper center',fontsize=20)\n",
    "plt.tick_params(top=True, bottom=True, left=True, \n",
    "                right=True,labelleft=True, labelbottom=True,\n",
    "                labelsize=20)\n",
    "plt.tick_params(axis='both',which='major',length=10, width=2)\n",
    "plt.tick_params(axis='both',which='minor',length=6, width=2)\n",
    "plt.grid()\n",
    "plt.savefig(os.path.join(resDir, 'cont_wf_%s.png'%c_target))\n",
    "plt.show()"
   ]
  },
  {
   "cell_type": "markdown",
   "id": "6abcf28a",
   "metadata": {},
   "source": [
    "### plot dynamic tolerance maps in units of mK/s"
   ]
  },
  {
   "cell_type": "code",
   "execution_count": null,
   "id": "c68935e8",
   "metadata": {},
   "outputs": [],
   "source": [
    "# delta_wf and t_wfs are generated from the temporal plots only especially cont_wf_-..png. \n",
    "# The main purpose of cont_wf is to find what is the minimum wfs exposure time for which we achieve a target contrast\n",
    "\n",
    "delta_wf = 130  #in pm #not sure why Laurent said this to be unit less?\n",
    "t_wfs = 30 #in sec\n",
    "\n",
    "plt.figure(figsize=(40,20))\n",
    "ax1 = plt.subplot2grid(shape=(2,6), loc=(0,0), colspan=2)\n",
    "plt.title(\"Faceplates Silvered\", fontsize=30)\n",
    "hcipy.imshow_field((luvoir2.sm.surface)*1000*delta_wf*(1/t_wfs), cmap = 'RdBu')\n",
    "plt.tick_params(top=False, bottom=False, left=False, right=False,labelleft=False, labelbottom=False)\n",
    "cbar = plt.colorbar()\n",
    "cbar.ax.tick_params(labelsize=30)\n",
    "cbar.set_label(\"mK/s\",fontsize =30)\n",
    "\n",
    "ax2 = plt.subplot2grid((2,6), (0,2), colspan=2)\n",
    "plt.title(\"Bulk\",fontsize=30)\n",
    "hcipy.imshow_field((luvoir3.sm.surface)*1000*delta_wf*(1/t_wfs), cmap = 'RdBu')\n",
    "plt.tick_params(top=False, bottom=False, left=False, right=False,labelleft=False, labelbottom=False)\n",
    "cbar = plt.colorbar()\n",
    "cbar.ax.tick_params(labelsize=30)\n",
    "cbar.set_label(\"mK/s\",fontsize =30)\n",
    "\n",
    "\n",
    "ax3 = plt.subplot2grid((2,6), (0,4), colspan=2)\n",
    "plt.title(\"Gradiant Radial\",fontsize=30)\n",
    "hcipy.imshow_field((luvoir4.sm.surface)*1000*delta_wf*(1/t_wfs),cmap = 'RdBu')\n",
    "plt.tick_params(top=False, bottom=False, left=False, right=False,labelleft=False, labelbottom=False)\n",
    "cbar = plt.colorbar()\n",
    "cbar.ax.tick_params(labelsize=30)\n",
    "cbar.set_label(\"mK/s\",fontsize =30)\n",
    "\n",
    "\n",
    "ax4 = plt.subplot2grid((2,6), (1,1), colspan=2)\n",
    "plt.title(\"Gradient X lateral\",fontsize=30)\n",
    "hcipy.imshow_field((luvoir5.sm.surface)*1000*delta_wf*(1/t_wfs),cmap = 'RdBu')\n",
    "plt.tick_params(top=False, bottom=False, left=False, right=False,labelleft=False, labelbottom=False)\n",
    "cbar = plt.colorbar()\n",
    "cbar.ax.tick_params(labelsize=30)\n",
    "cbar.set_label(\"mK/s\",fontsize =30)\n",
    "\n",
    "\n",
    "ax5 = plt.subplot2grid((2,6), (1,3), colspan=2)\n",
    "plt.title(\"Gradient Z axial\",fontsize=30)\n",
    "hcipy.imshow_field((luvoir6.sm.surface)*1000*delta_wf*(1/t_wfs),cmap = 'RdBu')\n",
    "plt.tick_params(top=False, bottom=False, left=False, right=False,labelleft=False, labelbottom=False)\n",
    "cbar = plt.colorbar()\n",
    "cbar.ax.tick_params(labelsize=30)\n",
    "cbar.set_label(\"mK/s\",fontsize =30)\n",
    "\n",
    "plt.tight_layout()\n",
    "plt.savefig(os.path.join(resDir, 'mu_map_mK_per_s_%s.png'%c_target))"
   ]
  },
  {
   "cell_type": "markdown",
   "id": "0cf47602",
   "metadata": {},
   "source": [
    "### dynamic tolerance statistics"
   ]
  },
  {
   "cell_type": "code",
   "execution_count": null,
   "id": "82b74148",
   "metadata": {},
   "outputs": [],
   "source": [
    "delta_wf = 130 # in units of pm\n",
    "t_wfs = 25 #in sec\n",
    "\n",
    "print(\"Faceplates Silvered (mK/s)\")\n",
    "print(np.min(harris_coeffs_table[0])*1000*delta_wf*(1/t_wfs), \n",
    "      np.max(harris_coeffs_table[0])*1000*delta_wf*(1/t_wfs), \n",
    "      np.mean(harris_coeffs_table[0])*1000*delta_wf*(1/t_wfs),\n",
    "      np.std(harris_coeffs_table[0])*1000*delta_wf*(1/t_wfs), '\\n')\n",
    "\n",
    "print(\"Bulk (mK/s)\")\n",
    "print(np.min(harris_coeffs_table[1])*1000*delta_wf*(1/t_wfs), \n",
    "      np.max(harris_coeffs_table[1])*1000*delta_wf*(1/t_wfs), \n",
    "      np.mean(harris_coeffs_table[1])*1000*delta_wf*(1/t_wfs),\n",
    "      np.std(harris_coeffs_table[1])*1000*delta_wf*(1/t_wfs), '\\n')\n",
    "\n",
    "print(\"Gradiant Radial(mK/s)\")\n",
    "print(np.min(harris_coeffs_table[2])*1000*delta_wf*(1/t_wfs), \n",
    "      np.max(harris_coeffs_table[2])*1000*delta_wf*(1/t_wfs), \n",
    "      np.mean(harris_coeffs_table[2])*1000*delta_wf*(1/t_wfs),\n",
    "      np.std(harris_coeffs_table[2])*1000*delta_wf*(1/t_wfs), '\\n')\n",
    "\n",
    "print(\"Gradient X lateral (mK/s)\")\n",
    "print(np.min(harris_coeffs_table[3])*1000*delta_wf*(1/t_wfs), \n",
    "      np.max(harris_coeffs_table[3])*1000*delta_wf*(1/t_wfs), \n",
    "      np.mean(harris_coeffs_table[3])*1000*delta_wf*(1/t_wfs),\n",
    "      np.std(harris_coeffs_table[3])*1000*delta_wf*(1/t_wfs), '\\n')\n",
    "\n",
    "print(\"Gradient Z axial (mK/s)\")\n",
    "print(np.min(harris_coeffs_table[4])*1000*delta_wf*(1/t_wfs), \n",
    "      np.max(harris_coeffs_table[4])*1000*delta_wf*(1/t_wfs), \n",
    "      np.mean(harris_coeffs_table[4])*1000*delta_wf*(1/t_wfs),\n",
    "      np.std(harris_coeffs_table[4])*1000*delta_wf*(1/t_wfs), '\\n')"
   ]
  },
  {
   "cell_type": "markdown",
   "id": "ffa65483",
   "metadata": {},
   "source": [
    "### random uncorrelated noise and extra tolerancing analysis, <br> mcmc simulations used to validate the tolerances coefficient calculate above gives the desired target dark hole contrast"
   ]
  },
  {
   "cell_type": "code",
   "execution_count": null,
   "id": "d68f7cb3",
   "metadata": {},
   "outputs": [],
   "source": [
    "# from IPython.core.display import display, HTML\n",
    "# display(HTML(\"<style>.container { width:100% !important; }</style>\"))"
   ]
  },
  {
   "cell_type": "code",
   "execution_count": null,
   "id": "f08ec715",
   "metadata": {},
   "outputs": [],
   "source": [
    "luvoir_test = LuvoirA_APLC(optics_input, coronagraph_design, sampling)\n",
    "luvoir_test.create_segmented_harris_mirror(filepath,pad_orientation,thermal =True,mechanical=False,other=False) \n",
    "luvoir_test.harris_sm"
   ]
  },
  {
   "cell_type": "code",
   "execution_count": null,
   "id": "b5a9b9f8",
   "metadata": {
    "scrolled": true
   },
   "outputs": [],
   "source": [
    "os.makedirs(os.path.join(resDir, 'mcmc_plot_mode_all'), exist_ok=True)\n",
    "del_contrast = []\n",
    "aberrated_contrast = []\n",
    "rms_wfs = []\n",
    "num_iterations = 1000\n",
    "for i in range(1, num_iterations):\n",
    "    \n",
    "    #Add pupil phase aberrations\n",
    "    #use 'mu_map_harris' to poke all segment with all thermal mode\n",
    "    #use 'harris_coeffs_numaps[i]' to poke all segments with one kind of harris mode\n",
    "    \n",
    "    harris_actuators = np.zeros(num_actuators)\n",
    "    #harris_actuators = np.random.normal(0, harris_coeffs_numaps[4]*nm_aber, num_actuators)\n",
    "    harris_actuators = np.random.normal(0, mu_map_harris*nm_aber, num_actuators)\n",
    "    #rms = np.sqrt(np.mean(harris_actuators**2))*1e12*np.sqrt(5) #wfe in pm\n",
    "    rms = np.sqrt(np.mean(harris_actuators**2))*1e12\n",
    "    \n",
    "    #Compute the aberrated psf\n",
    "    luvoir_test.harris_sm.actuators  = harris_actuators/2\n",
    "    aberrated_coro_psf_t, inter_t = luvoir_test.calc_psf(display_intermediate=False, return_intermediate='efield',norm_one_photon=True)\n",
    "    \n",
    "    #compute total dark hole intensity due to pertubation, and change in dh intensity\n",
    "    dh_intensity = ((np.square(aberrated_coro_psf_t.amplitude))/ norm) * luvoir_test.dh_mask\n",
    "    contrast_floor_aber = np.mean(dh_intensity[np.where(luvoir_test.dh_mask != 0)])\n",
    "    delta_contrast = contrast_floor_aber - contrast_floor\n",
    "    \n",
    "    #convert pupil and focal plane to numpy array for fits file storage\n",
    "    pupil_phase = np.array(np.reshape(inter_t['harris_seg_mirror'].phase,(1000,1000)))\n",
    "    focal_int = np.array(np.reshape(aberrated_coro_psf_t.amplitude,(115,115)))\n",
    "    focal_cont = (np.square(focal_int))/norm\n",
    "    \n",
    "    #Archive\n",
    "    del_contrast.append(delta_contrast)\n",
    "    aberrated_contrast.append(contrast_floor_aber)\n",
    "    rms_wfs.append(rms)\n",
    "    print(rms, contrast_floor_aber, delta_contrast)\n",
    "\n",
    "#     #plot the pupil plane phase aberrations and focal plane intensity\n",
    "#     textstr1 = '\\n'.join((\"RMS (in pm) = %.2f\" % (np.sqrt(np.mean(harris_actuators**2))*1e12),)) #don't remove comma\n",
    "#     textstr2 = r'${\\langle c\\rangle}_{DH} = $'+ str(\"{:.2e}\".format(contrast_floor_aber))\n",
    "#     textstr3 = r'$\\Delta_{{\\langle c\\rangle}_{DH}} = $'+ str(\"{:.2e}\".format(delta_contrast))\n",
    "\n",
    "#     plt.figure(figsize=(26,10))            \n",
    "#     ax1=plt.subplot(1,2,1)\n",
    "#     plt.title(\"Wavefront\", fontsize =20)\n",
    "#     props = dict(boxstyle='round', facecolor='white', alpha=1.0)\n",
    "#     props2 = dict(boxstyle='round', facecolor='red', alpha=1.0)\n",
    "#     ax1.text(0.01, 0.99, textstr1, transform=ax1.transAxes, fontsize=15,verticalalignment='top', bbox=props)\n",
    "#     #ax1.text(1.15, 1.01, \"pm\", transform=ax1.transAxes, fontsize=15,verticalalignment='top') #optional\n",
    "#     plt_norm = TwoSlopeNorm(vcenter=0, vmin=-0.3, vmax=0.3)\n",
    "#     hcipy.imshow_field((inter_t['harris_seg_mirror']).phase*1000, mask=luvoir_test.aperture, cmap='RdBu', norm=plt_norm)\n",
    "#     plt.tick_params(top=False, bottom=True, left=True, right=False ,labelleft=True, labelbottom=True, labelsize=15)\n",
    "#     plt.tick_params(axis='both',which='major',length=10, width=2)\n",
    "#     plt.tick_params(axis='both',which='minor',length=6, width=2)\n",
    "#     cbar = plt.colorbar()\n",
    "#     cbar.ax.tick_params(labelsize=15)\n",
    "#     cbar.set_label(\"pm\",fontsize =20)\n",
    "\n",
    "\n",
    "#     ax2 = plt.subplot(1,2,2)\n",
    "#     plt.title(\"Coronagraphic PSF\", fontsize =20)\n",
    "#     props = dict(boxstyle='round', facecolor='white', alpha=1.0)\n",
    "#     ax2.text(0.01, 0.99, textstr2, transform=ax2.transAxes, fontsize=14,verticalalignment='top', bbox=props)\n",
    "#     ax2.text(0.01, 0.93, textstr3, transform=ax2.transAxes, fontsize=14,verticalalignment='top', bbox=props)\n",
    "#     plt.imshow(np.log10(focal_cont),cmap='magma')\n",
    "#     cbar = plt.colorbar(ticks = np.linspace(-14,-2,6,endpoint=False))\n",
    "#     cbar.ax.set_yticklabels([r'$10^{-14}$', r'$10^{-12}$', r'$10^{-10}$', \n",
    "#                              r'$10^{-8}$', r'$10^{-6}$',r'$10^{-4}$'], fontsize=15)\n",
    "#     plt.tick_params(top=False, bottom=True, left=True, right=False ,labelleft=True, labelbottom=True, labelsize=15)\n",
    "#     plt.tick_params(axis='both',which='major',length=10, width=2)\n",
    "#     plt.tick_params(axis='both',which='minor',length=6, width=2)\n",
    "    \n",
    "#     #save images\n",
    "#     plt.savefig(os.path.join(resDir, 'mcmc_plot_mode_1', 'plot_%d.png'%i))\n",
    "#     fits.writeto(os.path.join(resDir, 'mcmc_plot', 'pupil_%d.fits'%pp), pupil_phase)"
   ]
  },
  {
   "cell_type": "markdown",
   "id": "de169bdf",
   "metadata": {},
   "source": [
    "#### Codeblock to plot contrast histograms and validate the mu_map coefficients <br> Note: In case of harris_coeffs_numaps, factor of sqrt(5) is used to compensate for the mean taken over 600 actuators in stead of 120 segments/actuators"
   ]
  },
  {
   "cell_type": "code",
   "execution_count": null,
   "id": "290b0432",
   "metadata": {
    "scrolled": true
   },
   "outputs": [],
   "source": [
    "#For all harris modes:\n",
    "mean_aberration = np.sqrt(np.mean((mu_map_harris*nm_aber)**2))*1e12 # in units of pm\n",
    "\n",
    "#For only one thermal mode: \n",
    "#mean_aberration = np.sqrt(np.mean((harris_coeffs_numaps[4]*nm_aber)**2))*1e12*np.sqrt(5) # in units of pm\n",
    "\n",
    "print(mean_aberration)\n",
    "\n",
    "plt.figure(figsize =(45,15))\n",
    "plt.subplot(1,3,1)\n",
    "_, bins, _ = plt.hist(rms_wfs, 100, density=1, alpha=1)\n",
    "mu, sigma = scipy.stats.norm.fit(rms_wfs)\n",
    "best_fit_line = scipy.stats.norm.pdf(bins, mu, sigma)\n",
    "plt.plot(bins, best_fit_line, lw='4',label = r'$\\mu$ =%.2f, $\\sigma$= %.2f'%(mu,sigma))\n",
    "plt.axvline(mean_aberration, c='r', ls='-.', lw='3', label='rms mean:%.2f'%(mean_aberration))\n",
    "plt.xlabel(\"RMS Wavefront Error (in pm)\", fontsize =20)\n",
    "plt.ylabel(\"Frequency\",fontsize =15)\n",
    "plt.tick_params(axis='both', which='both', length=6, width=2, labelsize=20)\n",
    "plt.legend(fontsize=25)\n",
    "#plt.xlim(0,3)\n",
    "\n",
    "plt.subplot(1,3,2)\n",
    "_, bins, _ = plt.hist(np.log10(aberrated_contrast), 100, density=1, alpha=1)\n",
    "mu, sigma = scipy.stats.norm.fit(np.log10(aberrated_contrast))\n",
    "best_fit_line = scipy.stats.norm.pdf(bins, mu, sigma)\n",
    "plt.plot(bins, best_fit_line, lw='4',label = r'$\\mu$ =%.2f, $\\sigma$= %.2f'%(mu,sigma))\n",
    "#plt.axvline(np.log10(contrast_floor), c='r', ls='-.', lw='3')\n",
    "plt.xlabel(\"Mean contrast in DH\",fontsize =15)\n",
    "plt.ylabel(\"Frequency\",fontsize =15)\n",
    "plt.tick_params(axis='both', which='both', length=6, width=2, labelsize=20)\n",
    "plt.legend(fontsize=25)\n",
    "#plt.xlim(-10.37,-10.34)\n",
    "\n",
    "plt.subplot(1,3,3)\n",
    "_, bins, _ = plt.hist(np.log10(del_contrast), 100, density=1, alpha=1)\n",
    "mu, sigma = scipy.stats.norm.fit(np.log10(del_contrast))\n",
    "best_fit_line = scipy.stats.norm.pdf(bins, mu, sigma)\n",
    "plt.plot(bins, best_fit_line, lw='4',label = r'$\\mu$ =%.2f, $\\sigma$= %.2f'%(mu,sigma))\n",
    "#plt.axvline(np.log10(c_target), c='r', ls='-.', lw='3')\n",
    "plt.xlabel(\"Change in contrast in DH\",fontsize =20)\n",
    "plt.tick_params(axis='both', which='both', length=6, width=2, labelsize=20)\n",
    "plt.ylabel(\"Frequency\",fontsize =15)\n",
    "plt.legend(fontsize=25)\n",
    "plt.savefig(os.path.join(resDir, 'mcmc_hist_mode_all.png'))"
   ]
  },
  {
   "cell_type": "markdown",
   "id": "5050ac79",
   "metadata": {},
   "source": [
    "#### cross checking the assumed target contrast matches with contrasts from histogram, <br>contrast should be equally allocated across all modes, this comes theoretically from PASTIS algorithm"
   ]
  },
  {
   "cell_type": "code",
   "execution_count": null,
   "id": "efe714a9",
   "metadata": {},
   "outputs": [],
   "source": [
    "# note: from the right histogram plot, -11.70 is for a single mode, and -11.00 is for all modes combined.\n",
    "mean_delta_c_log = -11.00 \n",
    "mean_delta_c = 10**(mean_delta_c_log)\n",
    "print(\"Delta_contrast_after_mcmc:\",mean_delta_c)"
   ]
  },
  {
   "cell_type": "markdown",
   "id": "db68ac28",
   "metadata": {},
   "source": [
    "### code block to generate tolerances above the wavefront sensor sensing time scale"
   ]
  },
  {
   "cell_type": "code",
   "execution_count": null,
   "id": "dfe58ab8",
   "metadata": {},
   "outputs": [],
   "source": [
    "Qharris = np.diag(np.asarray(mu_map_harris**2)) #diagonal matrix [num_actuators, num_actuators]\n",
    "Qharris0 = np.diag(np.asarray(harris_coeffs_numaps[0]**2)) #diagonal matrix [num_actuators, num_actuators]\n",
    "Qharris1 = np.diag(np.asarray(harris_coeffs_numaps[1]**2)) #diagonal matrix [num_actuators, num_actuators]\n",
    "Qharris2 = np.diag(np.asarray(harris_coeffs_numaps[2]**2)) #diagonal matrix [num_actuators, num_actuators]\n",
    "Qharris3 = np.diag(np.asarray(harris_coeffs_numaps[3]**2)) #diagonal matrix [num_actuators, num_actuators]\n",
    "Qharris4 = np.diag(np.asarray(harris_coeffs_numaps[4]**2)) #diagonal matrix [num_actuators, num_actuators]"
   ]
  },
  {
   "cell_type": "markdown",
   "id": "e4f93a31",
   "metadata": {},
   "source": [
    "### plot Qharris the diagonal matrix to check just in case it is not a diagonal matrix"
   ]
  },
  {
   "cell_type": "code",
   "execution_count": null,
   "id": "68951d6e",
   "metadata": {},
   "outputs": [],
   "source": [
    "norm_Qharris = TwoSlopeNorm(vcenter=1e-10, vmin=0,  vmax = 1e-5)\n",
    "plt.imshow(Qharris0, cmap='RdBu', norm = norm_Qharris)\n",
    "plt.colorbar()"
   ]
  },
  {
   "cell_type": "markdown",
   "id": "cae3cd0d",
   "metadata": {},
   "source": [
    "### print RMS error across all modes in pm/s"
   ]
  },
  {
   "cell_type": "code",
   "execution_count": null,
   "id": "8e8a39bf",
   "metadata": {},
   "outputs": [],
   "source": [
    "delta_wf = 130 # in units of pm\n",
    "t_wfs = 25 # in seconds\n",
    "\n",
    "print(\"Faceplates Silvered\")\n",
    "print(\"RMS error (in pm/s):\", np.sqrt(np.mean(np.square(harris_coeffs_table[0]*1000*delta_wf*(1/t_wfs)))))\n",
    "\n",
    "print(\"Bulk\")\n",
    "print(\"RMS error (in pm/s):\", np.sqrt(np.mean(np.square(harris_coeffs_table[1]*1000*delta_wf*(1/t_wfs)))))\n",
    "\n",
    "print(\"Gradiant Radial\")\n",
    "print(\"RMS error (in pm/s):\", np.sqrt(np.mean(np.square(harris_coeffs_table[2]*1000*delta_wf*(1/t_wfs)))))\n",
    "\n",
    "print(\"Gradient X lateral\")\n",
    "print(\"RMS error (in pm/s):\", np.sqrt(np.mean(np.square(harris_coeffs_table[3]*1000*delta_wf*(1/t_wfs)))))\n",
    "\n",
    "print(\"Gradient Z axial\")\n",
    "print(\"RMS error (in pm/s):\", np.sqrt(np.mean(np.square(harris_coeffs_table[4]*1000*delta_wf*(1/t_wfs)))))\n",
    "\n",
    "print(\"Total RMS error due to all modes\")\n",
    "print(\"RMS error (in pm/s):\", np.sqrt(np.mean(np.square(mu_map_harris*1000*delta_wf*(1/t_wfs)))))"
   ]
  },
  {
   "cell_type": "markdown",
   "id": "aad59754",
   "metadata": {},
   "source": [
    "The above pm/s can also be generated using harris_coeffs_nu_maps such as:\n",
    "np.sqrt(np.mean(np.square(harris_coeffs_numaps [2] 1000 delta_wf (1/t_wfs))))np.sqrt(5)\n",
    "extra np.sqrt(5) is multiplied to compensate for the mean taken over 600 actuators instead of 120 actuators."
   ]
  },
  {
   "cell_type": "code",
   "execution_count": null,
   "id": "6e572d1b",
   "metadata": {},
   "outputs": [],
   "source": [
    "a0 =  np.sqrt(np.mean(np.square(harris_coeffs_table[0]*1000*delta_wf*(1/t_wfs))))\n",
    "a1 =  np.sqrt(np.mean(np.square(harris_coeffs_table[0]*1000)))\n",
    "#print(np.square(a/a1)*1e-6) ## in nm^2\n",
    "xv0 = (a/a1)/10  #theoretically calculated xv = wfe (in pm)/10\n",
    "print(xv0)\n",
    "\n",
    "a0 =  np.sqrt(np.mean(np.square(harris_coeffs_table[1]*1000*delta_wf*(1/t_wfs))))\n",
    "a1 =  np.sqrt(np.mean(np.square(harris_coeffs_table[1]*1000)))\n",
    "#print(np.square(a/a1)*1e-6) ## in nm^2\n",
    "xv1 = (a/a1)/10\n",
    "print(xv1)\n",
    "\n",
    "\n",
    "a0 =  np.sqrt(np.mean(np.square(harris_coeffs_table[2]*1000*delta_wf*(1/t_wfs))))\n",
    "a1 =  np.sqrt(np.mean(np.square(harris_coeffs_table[2]*1000)))\n",
    "#print(np.square(a/a1)*1e-6) ## in nm^2\n",
    "xv2 = (a/a1)/10\n",
    "print(xv2)\n",
    "\n",
    "a0 =  np.sqrt(np.mean(np.square(harris_coeffs_table[3]*1000*delta_wf*(1/t_wfs))))\n",
    "a1 =  np.sqrt(np.mean(np.square(harris_coeffs_table[3]*1000)))\n",
    "#print(np.square(a/a1)*1e-6) ## in nm^2\n",
    "xv3 = (a/a1)/10\n",
    "print(xv3)\n",
    "\n",
    "a0 =  np.sqrt(np.mean(np.square(harris_coeffs_table[4]*1000*delta_wf*(1/t_wfs))))\n",
    "a1 =  np.sqrt(np.mean(np.square(harris_coeffs_table[4]*1000)))\n",
    "#print(np.square(a/a1)*1e-6) ## in nm^2\n",
    "xv4 = (a/a1)/10\n",
    "print(xv4)"
   ]
  },
  {
   "cell_type": "markdown",
   "id": "5f5364c3",
   "metadata": {},
   "source": [
    "### contrast allocation across each mode"
   ]
  },
  {
   "cell_type": "markdown",
   "id": "a518015d",
   "metadata": {},
   "source": [
    "### magic number, not sure how I got here: tscale = 10, and wv = 13 gives me 1e-11 delta contrast for Qharris<br>tscale = 30, wv= 13 lands you exactly where you were in the graph"
   ]
  },
  {
   "cell_type": "code",
   "execution_count": null,
   "id": "e8677fef",
   "metadata": {},
   "outputs": [],
   "source": [
    "StarMag = 0.0 #should be kept 0, if you have defined Vmag already above in Nph flux calculation cell\n",
    "Starfactor = 10**(-StarMag/2.5) #this should be 1, if you have defined Vmag\n",
    "\n",
    "tscale = 1\n",
    "niter = 10\n",
    "wv = 13        # back calucalted from delta_wf obtained from the figure\n",
    "s_wv =  0.0001*wv**2  \n",
    "print(s_wv)\n",
    "\n",
    "c_contrast0 =  req_closedloop_calc_batch(G_coron_harris, G_OBWFS, E0_coron, E0_OBWFS, dark_current+CIC/tscale,\n",
    "                                                 dark_current+CIC/tscale, tscale, flux*Starfactor, 0.0001*xv0**2*Qharris0,\n",
    "                                                 niter, luvoir.dh_mask, norm)\n",
    "c_contrast1 =  req_closedloop_calc_batch(G_coron_harris, G_OBWFS, E0_coron, E0_OBWFS, dark_current+CIC/tscale,\n",
    "                                                 dark_current+CIC/tscale, tscale, flux*Starfactor, 0.0001*xv1**2*Qharris1,\n",
    "                                                 niter, luvoir.dh_mask, norm)\n",
    "c_contrast2 =  req_closedloop_calc_batch(G_coron_harris, G_OBWFS, E0_coron, E0_OBWFS, dark_current+CIC/tscale,\n",
    "                                                 dark_current+CIC/tscale, tscale, flux*Starfactor, 0.0001*xv2**2*Qharris2,\n",
    "                                                 niter, luvoir.dh_mask, norm)\n",
    "c_contrast3 =  req_closedloop_calc_batch(G_coron_harris, G_OBWFS, E0_coron, E0_OBWFS, dark_current+CIC/tscale,\n",
    "                                                 dark_current+CIC/tscale, tscale, flux*Starfactor, 0.0001*xv3**2*Qharris3,\n",
    "                                                 niter, luvoir.dh_mask, norm)\n",
    "c_contrast4 =  req_closedloop_calc_batch(G_coron_harris, G_OBWFS, E0_coron, E0_OBWFS, dark_current+CIC/tscale,\n",
    "                                                 dark_current+CIC/tscale, tscale, flux*Starfactor, 0.0001*xv4**2*Qharris4,\n",
    "                                                 niter, luvoir.dh_mask, norm)\n",
    "c_contrast =  req_closedloop_calc_batch(G_coron_harris, G_OBWFS, E0_coron, E0_OBWFS, dark_current+CIC/tscale,\n",
    "                                                 dark_current+CIC/tscale, tscale, flux*Starfactor, s_wv*Qharris,\n",
    "                                                 niter, luvoir.dh_mask, norm)"
   ]
  },
  {
   "cell_type": "code",
   "execution_count": null,
   "id": "72381096",
   "metadata": {},
   "outputs": [],
   "source": [
    "result_c0 = []\n",
    "c0 = c_contrast0 ['averaged_hist']\n",
    "n_tmp1 = len(c0)\n",
    "result_c0.append(c0[n_tmp1-1])\n",
    "print(result_c0-contrast_floor)\n",
    "\n",
    "result_c1 = []\n",
    "c1 = c_contrast1 ['averaged_hist']\n",
    "n_tmp1 = len(c1)\n",
    "result_c1.append(c1[n_tmp1-1])\n",
    "print(result_c1-contrast_floor)\n",
    "\n",
    "result_c2 = []\n",
    "c2 = c_contrast2 ['averaged_hist']\n",
    "n_tmp1 = len(c2)\n",
    "result_c2.append(c0[n_tmp1-1])\n",
    "print(result_c2-contrast_floor)\n",
    "\n",
    "result_c3 = []\n",
    "c3 = c_contrast3 ['averaged_hist']\n",
    "n_tmp1 = len(c3)\n",
    "result_c3.append(c3[n_tmp1-1])\n",
    "print(result_c3-contrast_floor)\n",
    "\n",
    "result_c4 = []\n",
    "c4 = c_contrast4 ['averaged_hist']\n",
    "n_tmp1 = len(c4)\n",
    "result_c4.append(c4[n_tmp1-1])\n",
    "print(result_c4-contrast_floor)\n",
    "\n",
    "result_c = []\n",
    "c_total = c_contrast['averaged_hist']\n",
    "n_tmp1 = len(c_total)\n",
    "result_c.append(c_total[n_tmp1-1])\n",
    "print(result_c-contrast_floor)"
   ]
  },
  {
   "cell_type": "code",
   "execution_count": null,
   "id": "fa75fd60",
   "metadata": {},
   "outputs": [],
   "source": [
    "np.sqrt((19.4**2 + 148.7**2 + 171.7**2 + 57.9**2 + 71.7**2)/5)"
   ]
  },
  {
   "cell_type": "markdown",
   "id": "2608e2e1",
   "metadata": {},
   "source": [
    "### Code block to generate .gif files"
   ]
  },
  {
   "cell_type": "code",
   "execution_count": null,
   "id": "cbba997e",
   "metadata": {},
   "outputs": [],
   "source": [
    "# before generating gif, make sures image files are saved in this way:\n",
    "# #plt.savefig('os.path.join(resDir, 'poke_{0:03}.png'.format(i)), dpi=165)\n",
    "# imgs = glob.glob(\"<create-your-directory>/*.png\")\n",
    "# imgs.sort()\n",
    "# frames = []\n",
    "\n",
    "# for i in imgs:\n",
    "#     new_frame = Image.open(i)\n",
    "#     frames.append(new_frame)\n",
    "    \n",
    "# #Save into a GIF file that loops forever\n",
    "# frames[0].save('<your-directory>/mu_map_no_noise.gif', format='GIF',\n",
    "#                append_images=frames[1:],\n",
    "#                save_all=True,\n",
    "#                duration=500, loop=0)"
   ]
  }
 ],
 "metadata": {
  "kernelspec": {
   "display_name": "Python 3 (ipykernel)",
   "language": "python",
   "name": "python3"
  },
  "language_info": {
   "codemirror_mode": {
    "name": "ipython",
    "version": 3
   },
   "file_extension": ".py",
   "mimetype": "text/x-python",
   "name": "python",
   "nbconvert_exporter": "python",
   "pygments_lexer": "ipython3",
   "version": "3.7.11"
  }
 },
 "nbformat": 4,
 "nbformat_minor": 5
}
