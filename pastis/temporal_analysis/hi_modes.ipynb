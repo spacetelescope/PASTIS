{
 "cells": [
  {
   "cell_type": "markdown",
   "id": "169af060",
   "metadata": {},
   "source": [
    "## This notebook contains e2e analysis used to allocate tolerances for each $\\color{red}{\\text{High Spatial Frequency}}$ mode for a segmented telescope."
   ]
  },
  {
   "cell_type": "markdown",
   "id": "3da09bfa",
   "metadata": {},
   "source": [
    "### Import necessary libraries and scripts"
   ]
  },
  {
   "cell_type": "code",
   "execution_count": null,
   "id": "d37e0e51",
   "metadata": {},
   "outputs": [],
   "source": [
    "import os\n",
    "os.chdir(\"/Users/asahoo/repos/PASTIS\")\n",
    "import time\n",
    "from shutil import copy\n",
    "from astropy.io import fits\n",
    "import astropy.units as u\n",
    "import hcipy\n",
    "import numpy as np\n",
    "import pastis.util as util    \n",
    "from pastis.config import CONFIG_PASTIS \n",
    "from pastis.e2e_simulators.luvoir_imaging import LuvoirA_APLC \n",
    "from pastis.e2e_simulators.generic_segmented_telescopes import SegmentedAPLC\n",
    "import matplotlib.pyplot as plt\n",
    "import pandas as pd\n",
    "from scipy.interpolate import griddata\n",
    "import exoscene.image\n",
    "import exoscene.star\n",
    "import exoscene.planet\n",
    "from exoscene.planet import Planet\n",
    "from astropy.io import fits as pf\n",
    "from pastis.analytical_pastis.temporal_analysis import req_closedloop_calc_batch\n",
    "from matplotlib.colors import TwoSlopeNorm\n",
    "import matplotlib.ticker as ticker"
   ]
  },
  {
   "cell_type": "markdown",
   "id": "044dcc37",
   "metadata": {},
   "source": [
    "### Add the following to config ini in future"
   ]
  },
  {
   "cell_type": "code",
   "execution_count": null,
   "id": "d7e7d3be",
   "metadata": {},
   "outputs": [],
   "source": [
    "coronagraph_design = 'small'\n",
    "nb_seg = CONFIG_PASTIS.getint('LUVOIR', 'nb_subapertures')\n",
    "nm_aber = CONFIG_PASTIS.getfloat('LUVOIR', 'calibration_aberration') * 1e-9\n",
    "sampling = CONFIG_PASTIS.getfloat('LUVOIR', 'sampling')"
   ]
  },
  {
   "cell_type": "markdown",
   "id": "38324e0f",
   "metadata": {},
   "source": [
    "### Define and create directory"
   ]
  },
  {
   "cell_type": "code",
   "execution_count": null,
   "id": "b5d8bd9d",
   "metadata": {},
   "outputs": [],
   "source": [
    "data_dir = \"/Users/asahoo/Documents/ultra/hi_spatial\"\n",
    "repo_dir = \"/Users/asahoo/repos/PASTIS\"\n",
    "overall_dir = util.create_data_path(data_dir, telescope='luvoir_'+coronagraph_design)\n",
    "resDir = os.path.join(overall_dir, 'matrix_numerical')\n",
    "\n",
    "os.makedirs(resDir, exist_ok=True)"
   ]
  },
  {
   "cell_type": "markdown",
   "id": "82d4b07d",
   "metadata": {},
   "source": [
    "### Instantiate LUVOIR-A"
   ]
  },
  {
   "cell_type": "code",
   "execution_count": null,
   "id": "6107120b",
   "metadata": {},
   "outputs": [],
   "source": [
    "optics_input = os.path.join(util.find_repo_location(), CONFIG_PASTIS.get('LUVOIR', 'optics_path_in_repo'))\n",
    "luvoir = LuvoirA_APLC(optics_input, coronagraph_design, sampling)"
   ]
  },
  {
   "cell_type": "markdown",
   "id": "5cdc7b56",
   "metadata": {},
   "source": [
    "### create high frequency ripple mirror"
   ]
  },
  {
   "cell_type": "code",
   "execution_count": null,
   "id": "ddaf3c65",
   "metadata": {},
   "outputs": [],
   "source": [
    "max_HI = 10  #this can be imported from the config file.\n",
    "luvoir.create_ripple_mirror(max_HI)\n",
    "n_HI = luvoir.ripple_mirror.num_actuators \n",
    "print(\"Number ripple mirror actuators:\",n_HI)"
   ]
  },
  {
   "cell_type": "markdown",
   "id": "38f6d600",
   "metadata": {},
   "source": [
    "### plot the basis vector for ripple mirror"
   ]
  },
  {
   "cell_type": "code",
   "execution_count": null,
   "id": "718a8500",
   "metadata": {},
   "outputs": [],
   "source": [
    "# fourier_grid = hcipy.make_pupil_grid(dims=max_HI, diameter=max_HI)  \n",
    "# fourier_basis = hcipy.mode_basis.make_fourier_basis(luvoir.pupil_grid, fourier_grid, sort_by_energy=True)\n",
    "# ripple_mirror = hcipy.optics.DeformableMirror(fourier_basis)\n",
    "# m = ripple_mirror.influence_functions[]\n",
    "# hcipy.imshow_field(m)"
   ]
  },
  {
   "cell_type": "markdown",
   "id": "87ff961a",
   "metadata": {},
   "source": [
    "###  make a video"
   ]
  },
  {
   "cell_type": "code",
   "execution_count": null,
   "id": "6d1f4f12",
   "metadata": {},
   "outputs": [],
   "source": [
    "# mw = hcipy.FFMpegWriter('modes.mp4')\n",
    "# for m in ripple_mirror.influence_functions:\n",
    "#     plt.clf()\n",
    "#     hcipy.imshow_field(m)\n",
    "#     mw.add_frame()\n",
    "# mw.close()\n",
    "# mw"
   ]
  },
  {
   "cell_type": "markdown",
   "id": "84db5ec0",
   "metadata": {},
   "source": [
    "### plot the input aberration vector"
   ]
  },
  {
   "cell_type": "code",
   "execution_count": null,
   "id": "fdba4538",
   "metadata": {},
   "outputs": [],
   "source": [
    "HI_modes = np.zeros(n_HI)\n",
    "HI_modes[60] = (nm_aber)/2\n",
    "luvoir.ripple_mirror.actuators = HI_modes \n",
    "aberrated_coro_psf, ref= luvoir.calc_psf(display_intermediate=True, return_intermediate='efield', norm_one_photon=True)"
   ]
  },
  {
   "cell_type": "code",
   "execution_count": null,
   "id": "54435206",
   "metadata": {},
   "outputs": [],
   "source": [
    "#hcipy.imshow_field((ref['ripple_mirror']).phase, mask=luvoir.aperture, cmap='RdBu')"
   ]
  },
  {
   "cell_type": "markdown",
   "id": "cf9c662b",
   "metadata": {},
   "source": [
    "### compute static dark hole contrast $c_{0}$"
   ]
  },
  {
   "cell_type": "code",
   "execution_count": null,
   "id": "90a946bf",
   "metadata": {},
   "outputs": [],
   "source": [
    "HI_modes = np.zeros(n_HI)\n",
    "luvoir.ripple_mirror.actuators = HI_modes\n",
    "ideal_coro_psf, ref= luvoir.calc_psf(ref =True, display_intermediate=False, norm_one_photon=True)\n",
    "norm = np.max(ref)\n",
    "dh_intensity = (ideal_coro_psf / norm) * luvoir.dh_mask\n",
    "contrast_floor = np.mean(dh_intensity[np.where(luvoir.dh_mask != 0)])\n",
    "print(f'norm: {norm}',f'constrast floor: {contrast_floor}')"
   ]
  },
  {
   "cell_type": "markdown",
   "id": "c2d4fdb8",
   "metadata": {},
   "source": [
    "### compute HI spatial frequency pastis matrix"
   ]
  },
  {
   "cell_type": "code",
   "execution_count": null,
   "id": "ea64811a",
   "metadata": {},
   "outputs": [],
   "source": [
    "from IPython.core.display import display, HTML\n",
    "display(HTML(\"<style>.container { width:100% !important; }</style>\"))"
   ]
  },
  {
   "cell_type": "code",
   "execution_count": null,
   "id": "f31d59c0",
   "metadata": {},
   "outputs": [],
   "source": [
    "nonaberrated_coro_psf, efield = luvoir.calc_psf(display_intermediate=False, return_intermediate='efield',norm_one_photon=True)\n",
    "Efield_ref = nonaberrated_coro_psf.electric_field"
   ]
  },
  {
   "cell_type": "code",
   "execution_count": null,
   "id": "373ec759",
   "metadata": {
    "scrolled": true
   },
   "outputs": [],
   "source": [
    "print('Generating the E-fields for harris modes in science plane')\n",
    "print(f'Calibration aberration used: {nm_aber} m')\n",
    "\n",
    "start_time = time.time()\n",
    "focus_fieldS = []\n",
    "focus_fieldS_Re = []\n",
    "focus_fieldS_Im = []\n",
    "\n",
    "for i in range(0, n_HI):\n",
    "    print(f'Working on HI spatial frequency, basis: {i+1}')\n",
    "    \n",
    "    # Apply calibration aberration to used mode\n",
    "    HI_modes = np.zeros(n_HI)\n",
    "    HI_modes[i] = (nm_aber)/2 \n",
    "    luvoir.ripple_mirror.actuators  = HI_modes\n",
    "   \n",
    "    # Calculate coronagraphic E-field and add to lists\n",
    "    aberrated_coro_psf, inter = luvoir.calc_psf(display_intermediate=False, return_intermediate='efield',norm_one_photon=True)\n",
    "    focus_field1 = aberrated_coro_psf\n",
    "    focus_fieldS.append(focus_field1)\n",
    "    focus_fieldS_Re.append(focus_field1.real)\n",
    "    focus_fieldS_Im.append(focus_field1.imag)"
   ]
  },
  {
   "cell_type": "code",
   "execution_count": null,
   "id": "4bc0bcac",
   "metadata": {},
   "outputs": [],
   "source": [
    "mat_HI = np.zeros([n_HI, n_HI])\n",
    "for i in range(0, n_HI):\n",
    "    for j in range(0, n_HI):\n",
    "        test = np.absolute((focus_fieldS[i].electric_field - Efield_ref) * np.conj(focus_fieldS[j].electric_field - Efield_ref))\n",
    "        dh_test = (test / norm) * luvoir.dh_mask\n",
    "        contrast = np.mean(dh_test[np.where(luvoir.dh_mask != 0)])\n",
    "        mat_HI[i, j] = contrast"
   ]
  },
  {
   "cell_type": "code",
   "execution_count": null,
   "id": "8ed6ce50",
   "metadata": {},
   "outputs": [],
   "source": [
    "plt.figure(figsize=(10,8))\n",
    "plt.imshow(((mat_HI)))\n",
    "plt.title(r\"PASTIS matrix $M$\", fontsize=20)\n",
    "plt.xlabel(\"Mode Index\",fontsize=20)\n",
    "plt.ylabel(\"Mode Index\",fontsize=20)\n",
    "plt.tick_params(labelsize=15)\n",
    "cbar = plt.colorbar()\n",
    "#cbar = plt.colorbar(ticks = np.linspace(-13,-5,8,endpoint=False))\n",
    "# cbar.ax.set_yticklabels([r'$10^{-13}$', r'$10^{-12}$', r'$10^{-11}$', r'$10^{-10}$', \n",
    "#                          r'$10^{-9}$', r'$10^{-8}$', r'$10^{-7}$',r'$10^{-6}$'], fontsize=15)\n",
    "cbar.set_label(r\"in units of $1/{nm^2}$\",fontsize =15)\n",
    "plt.tight_layout()\n",
    "plt.savefig(\"/Users/asahoo/Documents/ultra/hi_spatial/mat_HI_100.png\")"
   ]
  },
  {
   "cell_type": "code",
   "execution_count": null,
   "id": "fba93d3f",
   "metadata": {},
   "outputs": [],
   "source": [
    "filename_matrix1 = 'PASTISmatrix_HI_' + str(n_HI)\n",
    "hcipy.write_fits(mat_HI, os.path.join(resDir, filename_matrix1 + '.fits'))\n",
    "print('Matrix saved to:', os.path.join(resDir, filename_matrix1 + '.fits','\\n'))\n",
    "\n",
    "filename_matrix2 = 'EFIELD_Re_matrix_HI_' + str(n_HI)\n",
    "hcipy.write_fits(focus_fieldS_Re, os.path.join(resDir, filename_matrix2 + '.fits'))\n",
    "print('Efield Real saved to:', os.path.join(resDir, filename_matrix2 + '.fits', '\\n'))\n",
    "\n",
    "filename_matrix3 = 'EFIELD_Im_matrix_HI_' + str(n_HI)\n",
    "hcipy.write_fits(focus_fieldS_Im, os.path.join(resDir, filename_matrix3 + '.fits'))\n",
    "print('Efield Imag saved to:', os.path.join(resDir, filename_matrix3 + '.fits','\\n'))"
   ]
  },
  {
   "cell_type": "markdown",
   "id": "414ba272",
   "metadata": {},
   "source": [
    "### compute tolerance per modal basis"
   ]
  },
  {
   "cell_type": "code",
   "execution_count": null,
   "id": "d64d1823",
   "metadata": {},
   "outputs": [],
   "source": [
    "evals, evecs = np.linalg.eig(mat_HI)\n",
    "sorted_evals = np.sort(evals)\n",
    "sorted_indices = np.argsort(evals)\n",
    "sorted_evecs = evecs[:, sorted_indices]"
   ]
  },
  {
   "cell_type": "markdown",
   "id": "15f80d42",
   "metadata": {},
   "source": [
    "### plot eigen vectors"
   ]
  },
  {
   "cell_type": "code",
   "execution_count": null,
   "id": "bca7dfab",
   "metadata": {
    "scrolled": true
   },
   "outputs": [],
   "source": [
    "emodes_HI = []\n",
    "eunit = 1e-9\n",
    "for mode in range(len(evals)):\n",
    "    print('Working on mode {}/{}.'.format(mode+1, len(evals)))\n",
    "    HI_coeffs = np.zeros(n_HI)\n",
    "    HI_coeffs = eunit*sorted_evecs[:, mode]/2\n",
    "    luvoir.ripple_mirror.actuators = HI_coeffs\n",
    "    wf_ripples = luvoir.ripple_mirror(luvoir.wf_aper)\n",
    "    emodes_HI.append(wf_ripples.phase)"
   ]
  },
  {
   "cell_type": "code",
   "execution_count": null,
   "id": "28e9c98c",
   "metadata": {
    "scrolled": true
   },
   "outputs": [],
   "source": [
    "plt.figure(figsize=(20,20))\n",
    "for i in range(1, 17):\n",
    "    plt.subplot(4, 4, i)\n",
    "    hcipy.imshow_field(emodes_HI[i-1])\n",
    "    plt.colorbar()"
   ]
  },
  {
   "cell_type": "markdown",
   "id": "7714af35",
   "metadata": {},
   "source": [
    "### define your target contrast"
   ]
  },
  {
   "cell_type": "code",
   "execution_count": null,
   "id": "3fcb2915",
   "metadata": {},
   "outputs": [],
   "source": [
    "c_target_log = -11\n",
    "c_target = 10**(c_target_log)\n",
    "n_repeat = 20"
   ]
  },
  {
   "cell_type": "markdown",
   "id": "2eab6614",
   "metadata": {},
   "source": [
    "### compute tolerances per sine wave "
   ]
  },
  {
   "cell_type": "code",
   "execution_count": null,
   "id": "78b12677",
   "metadata": {},
   "outputs": [],
   "source": [
    "mu_map_HI = np.sqrt(((c_target) / (n_HI)) / (np.diag(mat_HI)))\n",
    "np.savetxt('/Users/asahoo/Documents/ultra/hi_spatial/mu_map_HI_100_1e-11.csv', mu_map_HI, delimiter=',')"
   ]
  },
  {
   "cell_type": "code",
   "execution_count": null,
   "id": "c419854e",
   "metadata": {
    "scrolled": false
   },
   "outputs": [],
   "source": [
    "plt.figure(figsize=(10,10))\n",
    "plt.title(\"Modal constraints to achieve a dark hole contrast of \"r\"$10^{-11}$\", fontsize=20)\n",
    "plt.plot(mu_map_HI)\n",
    "plt.ylabel(\"Weight per mode (in units of nm)\",fontsize =20)\n",
    "plt.xlabel(\"Mode index\", fontsize=20)\n",
    "plt.tick_params(top=False, bottom=True, left=True, right=False,labelleft=True, labelbottom=True, labelsize=20)\n",
    "plt.tick_params(axis='both',which='major',length=10, width=2)\n",
    "#plt.tick_params(axis='both',direction='in')\n",
    "plt.savefig('/Users/asahoo/Documents/ultra/hi_spatial/mu_map_HI_100_1e-11.png')"
   ]
  },
  {
   "cell_type": "markdown",
   "id": "0b90bdb0",
   "metadata": {},
   "source": [
    "### Compute tolerance maps for sine wave basis"
   ]
  },
  {
   "cell_type": "code",
   "execution_count": null,
   "id": "776ee786",
   "metadata": {},
   "outputs": [],
   "source": [
    "nu_maps_HI = []\n",
    "for qq in range(n_HI):\n",
    "    HI_coeffs = np.zeros(n_HI)\n",
    "    HI_coeffs[qq] = mu_map_HI[qq]\n",
    "    luvoir.ripple_mirror.actuators = HI_coeffs*nm_aber/2\n",
    "    map_ripple = luvoir.ripple_mirror.surface\n",
    "    nu_maps_HI.append(map_ripple)"
   ]
  },
  {
   "cell_type": "code",
   "execution_count": null,
   "id": "d4de75cf",
   "metadata": {},
   "outputs": [],
   "source": [
    "hcipy.imshow_field(nu_maps_HI[96],mask=luvoir.aperture)\n",
    "plt.colorbar()"
   ]
  },
  {
   "cell_type": "markdown",
   "id": "daff6821",
   "metadata": {},
   "source": [
    "### resizing mu_map"
   ]
  },
  {
   "cell_type": "code",
   "execution_count": null,
   "id": "869ef04d",
   "metadata": {},
   "outputs": [],
   "source": [
    "# mu_map_HI_resized = mu_map_HI[4:100]\n",
    "# print(len(mu_map_HI_resized))\n",
    "# plt.plot(mu_map_HI_resized)"
   ]
  },
  {
   "cell_type": "markdown",
   "id": "84088937",
   "metadata": {},
   "source": [
    "## Temporal Ananlysis"
   ]
  },
  {
   "cell_type": "markdown",
   "id": "9d6f0e53",
   "metadata": {},
   "source": [
    "### Define stellar parameters"
   ]
  },
  {
   "cell_type": "code",
   "execution_count": null,
   "id": "92e7f294",
   "metadata": {},
   "outputs": [],
   "source": [
    "z_pup_downsample = CONFIG_PASTIS.getfloat('numerical', 'z_pup_downsample') \n",
    "N_pup_z = int(luvoir.pupil_grid.shape[0] / z_pup_downsample) #N_pup_z = 100,used to define out-of-band efield\n",
    "grid_zernike = hcipy.field.make_pupil_grid(N_pup_z, diameter=luvoir.diam)\n",
    "\n",
    "npup = int(np.sqrt(luvoir.pupil_grid.x.shape[0]))\n",
    "nimg = int(np.sqrt(luvoir.focal_det.x.shape[0]))\n",
    "\n",
    "# Getting the flux together\n",
    "sptype = 'A0V'\n",
    "Vmag = 5.0\n",
    "minlam = 500\n",
    "maxlam = 600 \n",
    "dark_current = 0     \n",
    "CIC = 0            \n",
    "star_flux = exoscene.star.bpgs_spectype_to_photonrate(spectype=sptype, Vmag=Vmag, minlam=minlam, maxlam=maxlam) #ph/s/m^2\n",
    "Nph = star_flux.value*15**2*np.sum(luvoir.apodizer**2) / npup**2"
   ]
  },
  {
   "cell_type": "markdown",
   "id": "47c2e716",
   "metadata": {},
   "source": [
    "### compute out of band reference electric field seen by the wfs (here it is a zernike wfs)"
   ]
  },
  {
   "cell_type": "code",
   "execution_count": null,
   "id": "b282c85f",
   "metadata": {},
   "outputs": [],
   "source": [
    "luvoir.ripple_mirror.flatten()\n",
    "ob_ref2 = luvoir.calc_out_of_band_wfs(norm_one_photon=True) #returns wavefront on obwfs detector\n",
    "ob_ref2_sub_real = hcipy.field.subsample_field(ob_ref2.real, z_pup_downsample, grid_zernike, statistic='mean')\n",
    "ob_ref2_sub_imag = hcipy.field.subsample_field(ob_ref2.imag, z_pup_downsample, grid_zernike, statistic='mean')\n",
    "Efield_ref_OBWFS = (ob_ref2_sub_real + 1j*ob_ref2_sub_imag) * z_pup_downsample"
   ]
  },
  {
   "cell_type": "code",
   "execution_count": null,
   "id": "8e67a153",
   "metadata": {},
   "outputs": [],
   "source": [
    "plt.figure(figsize=(30,10))\n",
    "\n",
    "plt.subplot(2,4,1)\n",
    "plt.title(\"amplitude\")\n",
    "hcipy.imshow_field(ob_ref2.amplitude)\n",
    "plt.colorbar()\n",
    "\n",
    "plt.subplot(2,4,2)\n",
    "plt.title(\"phase\")\n",
    "hcipy.imshow_field(ob_ref2.phase)\n",
    "plt.colorbar()\n",
    "\n",
    "plt.subplot(2,4,3)\n",
    "plt.title(\"real\")\n",
    "hcipy.imshow_field(ob_ref2.real)\n",
    "plt.colorbar()\n",
    "\n",
    "plt.subplot(2,4,4)\n",
    "plt.title(\"imag\")\n",
    "hcipy.imshow_field(ob_ref2.imag)\n",
    "plt.colorbar()\n",
    "\n",
    "plt.subplot(2,4,5)\n",
    "plt.title(\"real_sub\")\n",
    "hcipy.imshow_field(ob_ref2.real)\n",
    "plt.colorbar()\n",
    "\n",
    "plt.subplot(2,4,6)\n",
    "plt.title(\"imag_sub\")\n",
    "hcipy.imshow_field(ob_ref2.imag)\n",
    "plt.colorbar()\n",
    "\n",
    "plt.subplot(2,4,7)\n",
    "plt.title(\"Efield_ref_OBWFS.real\")\n",
    "hcipy.imshow_field(Efield_ref_OBWFS.real)\n",
    "plt.colorbar()\n",
    "\n",
    "plt.subplot(2,4,8)\n",
    "plt.title(\"Efield_ref_OBWFS.imag\")\n",
    "hcipy.imshow_field(Efield_ref_OBWFS.imag)\n",
    "plt.colorbar()\n",
    "plt.show()"
   ]
  },
  {
   "cell_type": "markdown",
   "id": "2cce0417",
   "metadata": {},
   "source": [
    "### reducing to nyquist sampling"
   ]
  },
  {
   "cell_type": "code",
   "execution_count": null,
   "id": "bd8fea73",
   "metadata": {},
   "outputs": [],
   "source": [
    "nyquist_sampling = 2.\n",
    "\n",
    "# Actual grid for LUVOIR images\n",
    "grid_test = hcipy.make_focal_grid(\n",
    "            luvoir.sampling,\n",
    "            luvoir.imlamD,\n",
    "            pupil_diameter=luvoir.diam,\n",
    "            focal_length=1,\n",
    "            reference_wavelength=luvoir.wvln,\n",
    "        )\n",
    "\n",
    "# Actual grid for LUVOIR images that are nyquist sampled\n",
    "grid_det_subsample = hcipy.make_focal_grid(\n",
    "            nyquist_sampling,\n",
    "            np.floor(luvoir.imlamD),\n",
    "            pupil_diameter=luvoir.diam,\n",
    "            focal_length=1,\n",
    "            reference_wavelength=luvoir.wvln,\n",
    "        )\n",
    "n_nyquist = int(np.sqrt(grid_det_subsample.x.shape[0]))"
   ]
  },
  {
   "cell_type": "code",
   "execution_count": null,
   "id": "b4121e85",
   "metadata": {},
   "outputs": [],
   "source": [
    "design = 'small'\n",
    "\n",
    "dh_outer_nyquist = hcipy.circular_aperture(2 * luvoir.apod_dict[design]['owa'] * luvoir.lam_over_d)(grid_det_subsample)\n",
    "dh_inner_nyquist = hcipy.circular_aperture(2 * luvoir.apod_dict[design]['iwa'] * luvoir.lam_over_d)(grid_det_subsample)\n",
    "dh_mask_nyquist = (dh_outer_nyquist - dh_inner_nyquist).astype('bool')\n",
    "\n",
    "dh_size = len(np.where(luvoir.dh_mask != 0)[0])\n",
    "dh_size_nyquist = len(np.where(dh_mask_nyquist != 0)[0])\n",
    "dh_index = np.where(luvoir.dh_mask != 0)[0]\n",
    "dh_index_nyquist = np.where(dh_mask_nyquist != 0)[0]"
   ]
  },
  {
   "cell_type": "markdown",
   "id": "f5759b3e",
   "metadata": {},
   "source": [
    "### define out of band electric field seen by wfs"
   ]
  },
  {
   "cell_type": "code",
   "execution_count": null,
   "id": "ec6a9e08",
   "metadata": {},
   "outputs": [],
   "source": [
    "E0_OBWFS = np.zeros([N_pup_z*N_pup_z,1,2])\n",
    "E0_OBWFS[:,0,0] = Efield_ref_OBWFS.real\n",
    "E0_OBWFS[:,0,1] = Efield_ref_OBWFS.imag"
   ]
  },
  {
   "cell_type": "markdown",
   "id": "6a25aab4",
   "metadata": {},
   "source": [
    "### coronagraphic efield"
   ]
  },
  {
   "cell_type": "code",
   "execution_count": null,
   "id": "1d8467ed",
   "metadata": {},
   "outputs": [],
   "source": [
    "E0_coron = np.zeros([nimg*nimg,1,2])\n",
    "E0_coron[:,0,0] = Efield_ref.real \n",
    "E0_coron[:,0,1] = Efield_ref.imag"
   ]
  },
  {
   "cell_type": "code",
   "execution_count": null,
   "id": "31e497ab",
   "metadata": {},
   "outputs": [],
   "source": [
    "plt.figure(figsize=(10,10))\n",
    "\n",
    "plt.subplot(2,2,1)\n",
    "plt.title(\"Efield_ref.real\")\n",
    "plt.imshow(np.array(np.reshape((E0_OBWFS[:,0,0]),(100,100))))\n",
    "plt.colorbar()\n",
    "\n",
    "plt.subplot(2,2,2)\n",
    "plt.title(\"Efield_ref.imag\")\n",
    "plt.imshow(np.array(np.reshape((E0_OBWFS[:,0,1]),(100,100))))\n",
    "plt.colorbar()\n",
    "\n",
    "plt.subplot(2,2,3)\n",
    "plt.title(\"coron_Efield_ref.real\")\n",
    "plt.imshow(np.array(np.reshape((E0_coron[:,0,0]),(115,115))))\n",
    "plt.colorbar()\n",
    "\n",
    "plt.subplot(2,2,4)\n",
    "plt.title(\"coron_Efield_ref.imag\")\n",
    "plt.imshow(np.array(np.reshape((E0_coron[:,0,1]),(115,115))))\n",
    "plt.colorbar()"
   ]
  },
  {
   "cell_type": "markdown",
   "id": "8ffb44eb",
   "metadata": {},
   "source": [
    "### sensitivity matrix at the coronagraph plane, this can be saved during the initial pastis matrix generation"
   ]
  },
  {
   "cell_type": "code",
   "execution_count": null,
   "id": "f06562c9",
   "metadata": {},
   "outputs": [],
   "source": [
    "filename_matrix2 = 'EFIELD_Re_matrix_HI_' + str(n_HI) + '.fits'\n",
    "G_HI_real = fits.getdata(os.path.join(overall_dir, 'matrix_numerical', filename_matrix2))\n",
    "filename_matrix3 = 'EFIELD_Im_matrix_HI_' + str(n_HI) + '.fits'\n",
    "G_HI_imag = fits.getdata(os.path.join(overall_dir, 'matrix_numerical', filename_matrix3))"
   ]
  },
  {
   "cell_type": "code",
   "execution_count": null,
   "id": "7bdb27d6",
   "metadata": {},
   "outputs": [],
   "source": [
    "G_coron_HI= np.zeros([nimg*nimg,2,n_HI])\n",
    "for pp in range(0, n_HI):\n",
    "    G_coron_HI[:,0,pp] = G_HI_real[pp] - Efield_ref.real\n",
    "    G_coron_HI[:,1,pp] = G_HI_imag[pp] - Efield_ref.imag"
   ]
  },
  {
   "cell_type": "markdown",
   "id": "d7b09a5b",
   "metadata": {},
   "source": [
    "### sensitivity matrix for out-of-band wfs"
   ]
  },
  {
   "cell_type": "code",
   "execution_count": null,
   "id": "6166767b",
   "metadata": {},
   "outputs": [],
   "source": [
    "start_time = time.time()\n",
    "focus_fieldS = []\n",
    "focus_fieldS_Re = []\n",
    "focus_fieldS_Im = []\n",
    "\n",
    "for i in range(0, n_HI):\n",
    "    #print(f'Working on \"defocus\" zernike mode, segment: {i}')\n",
    "    \n",
    "    # Apply calibration aberration to used mode\n",
    "    HI_modes = np.zeros(len(mu_map_HI))\n",
    "    HI_modes[i] = (nm_aber)/2\n",
    "    luvoir.ripple_mirror.actuators  = HI_modes\n",
    "    HI_meas = luvoir.calc_out_of_band_wfs(norm_one_photon=True)\n",
    "    HI_meas_sub_real = hcipy.field.subsample_field(HI_meas.real, z_pup_downsample, grid_zernike, statistic='mean')\n",
    "    HI_meas_sub_imag = hcipy.field.subsample_field(HI_meas.imag, z_pup_downsample, grid_zernike, statistic='mean')\n",
    "    focus_field1 = HI_meas_sub_real + 1j * HI_meas_sub_imag\n",
    "    focus_fieldS.append(focus_field1)\n",
    "    focus_fieldS_Re.append(focus_field1.real)\n",
    "    focus_fieldS_Im.append(focus_field1.imag)"
   ]
  },
  {
   "cell_type": "code",
   "execution_count": null,
   "id": "b14526cd",
   "metadata": {},
   "outputs": [],
   "source": [
    "filename_matrix = 'EFIELD_OBWFS_Re_HI_' + str(n_HI)\n",
    "hcipy.write_fits(focus_fieldS_Re, os.path.join(resDir, filename_matrix + '.fits'))\n",
    "print('Efield Real saved to:', os.path.join(resDir, filename_matrix + '.fits'))\n",
    "\n",
    "filename_matrix = 'EFIELD_OBWFS_Im_HI_' + str(n_HI)\n",
    "hcipy.write_fits(focus_fieldS_Im, os.path.join(resDir, filename_matrix + '.fits'))\n",
    "print('Efield Imag saved to:', os.path.join(resDir, filename_matrix + '.fits'))"
   ]
  },
  {
   "cell_type": "code",
   "execution_count": null,
   "id": "f0c3b179",
   "metadata": {},
   "outputs": [],
   "source": [
    "filename_matrix = 'EFIELD_OBWFS_Re_HI_' + str(n_HI)+'.fits'\n",
    "G_OBWFS_real = fits.getdata(os.path.join(overall_dir, 'matrix_numerical', filename_matrix))\n",
    "filename_matrix = 'EFIELD_OBWFS_Im_HI_' + str(n_HI)+'.fits'\n",
    "G_OBWFS_imag =  fits.getdata(os.path.join(overall_dir, 'matrix_numerical', filename_matrix))"
   ]
  },
  {
   "cell_type": "code",
   "execution_count": null,
   "id": "fe6378a9",
   "metadata": {},
   "outputs": [],
   "source": [
    "G_OBWFS= np.zeros([N_pup_z*N_pup_z,2,n_HI])\n",
    "for pp in range(0, n_HI-1):\n",
    "    G_OBWFS[:,0,pp] = G_OBWFS_real[pp]*z_pup_downsample - Efield_ref_OBWFS.real\n",
    "    G_OBWFS[:,1,pp] = G_OBWFS_imag[pp]*z_pup_downsample - Efield_ref_OBWFS.imag"
   ]
  },
  {
   "cell_type": "markdown",
   "id": "0901d84b",
   "metadata": {},
   "source": [
    "### close loop batch estimation algorithm"
   ]
  },
  {
   "cell_type": "code",
   "execution_count": null,
   "id": "1f2a58c0",
   "metadata": {
    "scrolled": true
   },
   "outputs": [],
   "source": [
    "flux = Nph\n",
    "Qhi = np.diag(np.asarray(mu_map_HI**2))\n",
    "\n",
    "Ntimes = 20\n",
    "TimeMinus = -2\n",
    "TimePlus = 5.5 #3.5\n",
    "Nwavescale = 8\n",
    "Nflux = 3\n",
    "\n",
    "res = np.zeros([Ntimes, Nwavescale, Nflux, 1])\n",
    "result_wf_test =[]\n",
    "\n",
    "#i=-1\n",
    "for wavescale in range (1,15,2):\n",
    "    #i=i+1\n",
    "    print('Harris modes with batch OBWFS and noise %f'% wavescale, \"i\",i)  \n",
    "    niter = 10\n",
    "    timer1 = time.time()\n",
    "    StarMag = 0.0\n",
    "    #j=-1\n",
    "    for tscale in np.logspace(TimeMinus, TimePlus, Ntimes):\n",
    "        j=j+1\n",
    "        Starfactor = 10**(-StarMag/2.5)\n",
    "        print(tscale)\n",
    "        tmp0 = req_closedloop_calc_batch(G_coron_HI, G_OBWFS, E0_coron, E0_OBWFS, dark_current+CIC/tscale,\n",
    "                                                 dark_current+CIC/tscale, tscale, flux*Starfactor, 0.0001*wavescale**2*Qhi,\n",
    "                                                 niter, luvoir.dh_mask, norm)    \n",
    "        tmp1 = tmp0['averaged_hist']\n",
    "        n_tmp1 = len(tmp1)\n",
    "        result_wf_test.append(tmp1[n_tmp1-1])"
   ]
  },
  {
   "cell_type": "code",
   "execution_count": null,
   "id": "5a355b90",
   "metadata": {},
   "outputs": [],
   "source": [
    "delta_wf = []\n",
    "for wavescale in range (1,15,2):\n",
    "    wf = 1e3*np.sqrt(0.0001*wavescale**2)\n",
    "    delta_wf.append(wf)\n",
    "\n",
    "texp = np.logspace(TimeMinus, TimePlus, Ntimes)\n",
    "\n",
    "font = {'family': 'serif','color' : 'black','weight': 'normal','size'  :  20}\n",
    "plt.figure(figsize =(15,10))\n",
    "\n",
    "plt.title('Target contrast = %s, Vmag= %s'%(c_target, Vmag),fontdict=font)\n",
    "plt.plot(texp,result_wf_test[0:20]-contrast_floor, label=r'$\\Delta_{wf}= %d\\ pm$'%(delta_wf[0]))\n",
    "plt.plot(texp,result_wf_test[20:40]-contrast_floor, label=r'$\\Delta_{wf}=%d\\ pm$'%(delta_wf[1]))\n",
    "plt.plot(texp,result_wf_test[40:60]-contrast_floor, label=r'$\\Delta_{wf}=%d\\ pm$'%(delta_wf[2]))\n",
    "plt.plot(texp,result_wf_test[60:80]-contrast_floor, label=r'$\\Delta_{wf}=%d\\ pm$'%(delta_wf[3]))\n",
    "plt.plot(texp,result_wf_test[80:100]-contrast_floor, label=r'$\\Delta_{wf}=%d\\ pm$'%(delta_wf[4]))\n",
    "plt.plot(texp,result_wf_test[100:120]-contrast_floor, label=r'$\\Delta_{wf}=%d\\ pm$'%(delta_wf[5]))\n",
    "plt.plot(texp,result_wf_test[120:140]-contrast_floor, label=r'$\\Delta_{wf}=%d\\ pm$'%(delta_wf[6]))\n",
    "plt.xlabel(\"$t_{WFS}$ in secs\",fontsize=20)\n",
    "plt.ylabel(\"$\\Delta$ contrast\",fontsize=20)\n",
    "plt.yscale('log')\n",
    "plt.xscale('log')\n",
    "plt.legend(loc = 'upper center',fontsize=20)\n",
    "plt.tick_params(top=False, bottom=True, left=True, \n",
    "                right=True,labelleft=True, labelbottom=True,\n",
    "                labelsize=20)\n",
    "plt.tick_params(axis='both',which='major',length=10, width=2)\n",
    "plt.tick_params(axis='both',which='minor',length=6, width=2)\n",
    "plt.grid()\n",
    "plt.savefig('/Users/asahoo/Documents/ultra/hi_spatial/c_texp_1e-11.png')\n",
    "plt.show()"
   ]
  },
  {
   "cell_type": "markdown",
   "id": "851b4d29",
   "metadata": {},
   "source": [
    "### some junk random codes"
   ]
  },
  {
   "cell_type": "code",
   "execution_count": null,
   "id": "4d6402ae",
   "metadata": {},
   "outputs": [],
   "source": [
    "emodes_HI = []\n",
    "eunit = 1e-9\n",
    "for mode in range(len(evals)):\n",
    "    print('Working on mode {}/{}.'.format(mode+1, len(evals)))\n",
    "    HI_coeffs = np.zeros(n_HI)\n",
    "    HI_coeffs = eunit*sorted_evecs[:, mode]/2\n",
    "    luvoir.ripple_mirror.actuators = HI_coeffs\n",
    "    wf_ripples = luvoir.ripple_mirror(luvoir.wf_aper)\n",
    "#     emodes_HI.append(wf_ripples.phase)"
   ]
  }
 ],
 "metadata": {
  "kernelspec": {
   "display_name": "Python 3 (ipykernel)",
   "language": "python",
   "name": "python3"
  },
  "language_info": {
   "codemirror_mode": {
    "name": "ipython",
    "version": 3
   },
   "file_extension": ".py",
   "mimetype": "text/x-python",
   "name": "python",
   "nbconvert_exporter": "python",
   "pygments_lexer": "ipython3",
   "version": "3.7.11"
  }
 },
 "nbformat": 4,
 "nbformat_minor": 5
}
