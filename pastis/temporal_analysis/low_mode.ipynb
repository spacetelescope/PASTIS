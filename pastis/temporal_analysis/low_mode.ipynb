{
 "cells": [
  {
   "cell_type": "markdown",
   "id": "e93ffb1f",
   "metadata": {},
   "source": [
    "## This notebook contains e2e analysis used to allocate tolerances for each $\\color{red}{\\text{Global Zernike Aberration}}$ mode for a segmented telescope."
   ]
  },
  {
   "cell_type": "code",
   "execution_count": null,
   "id": "d6c7adc8",
   "metadata": {},
   "outputs": [],
   "source": [
    "import os\n",
    "os.chdir(\"/Users/asahoo/repos/PASTIS\")\n",
    "import time\n",
    "from shutil import copy\n",
    "from astropy.io import fits\n",
    "import astropy.units as u\n",
    "import hcipy\n",
    "import numpy as np\n",
    "import pastis.util as util    \n",
    "from pastis.config import CONFIG_PASTIS \n",
    "from pastis.e2e_simulators.luvoir_imaging import LuvoirA_APLC \n",
    "from pastis.e2e_simulators.generic_segmented_telescopes import SegmentedAPLC\n",
    "import matplotlib.pyplot as plt\n",
    "import pandas as pd\n",
    "from scipy.interpolate import griddata\n",
    "import exoscene.image\n",
    "import exoscene.star\n",
    "import exoscene.planet\n",
    "from exoscene.planet import Planet\n",
    "from astropy.io import fits as pf\n",
    "from matplotlib.colors import TwoSlopeNorm\n",
    "import matplotlib.gridspec as gridspec\n",
    "from pastis.analytical_pastis.temporal_analysis import req_closedloop_calc_batch"
   ]
  },
  {
   "cell_type": "code",
   "execution_count": null,
   "id": "a3b633c0",
   "metadata": {},
   "outputs": [],
   "source": [
    "coronagraph_design = 'small'\n",
    "nb_seg = CONFIG_PASTIS.getint('LUVOIR', 'nb_subapertures')\n",
    "nm_aber = CONFIG_PASTIS.getfloat('LUVOIR', 'calibration_aberration') * 1e-9\n",
    "sampling = CONFIG_PASTIS.getfloat('LUVOIR', 'sampling')"
   ]
  },
  {
   "cell_type": "code",
   "execution_count": null,
   "id": "be9a64a1",
   "metadata": {},
   "outputs": [],
   "source": [
    "data_dir = \"/Users/asahoo/Documents/ultra/global_zernike\"\n",
    "repo_dir = \"/Users/asahoo/repos/PASTIS\"\n",
    "overall_dir = util.create_data_path(data_dir, telescope='luvoir_'+coronagraph_design)\n",
    "resDir = os.path.join(overall_dir, 'matrix_numerical')\n",
    "\n",
    "os.makedirs(resDir, exist_ok=True)"
   ]
  },
  {
   "cell_type": "code",
   "execution_count": null,
   "id": "f021a489",
   "metadata": {},
   "outputs": [],
   "source": [
    "optics_input = os.path.join(util.find_repo_location(), CONFIG_PASTIS.get('LUVOIR', 'optics_path_in_repo'))\n",
    "luvoir = LuvoirA_APLC(optics_input, coronagraph_design, sampling)"
   ]
  },
  {
   "cell_type": "code",
   "execution_count": null,
   "id": "2d6fbb1e",
   "metadata": {},
   "outputs": [],
   "source": [
    "max_LO = 20\n",
    "luvoir.create_global_zernike_mirror(max_LO)\n",
    "n_LO = luvoir.zernike_mirror.num_actuators"
   ]
  },
  {
   "cell_type": "code",
   "execution_count": null,
   "id": "e7c93a78",
   "metadata": {},
   "outputs": [],
   "source": [
    "LO_modes = np.zeros(n_LO)\n",
    "luvoir.zernike_mirror.actuators = LO_modes"
   ]
  },
  {
   "cell_type": "code",
   "execution_count": null,
   "id": "754deff9",
   "metadata": {},
   "outputs": [],
   "source": [
    "luvoir.zernike_mirror.flatten()"
   ]
  },
  {
   "cell_type": "code",
   "execution_count": null,
   "id": "1d1eeb34",
   "metadata": {},
   "outputs": [],
   "source": [
    "unaberrated_coro_psf, ref = luvoir.calc_psf(ref=True, display_intermediate=True, norm_one_photon=True)\n"
   ]
  },
  {
   "cell_type": "code",
   "execution_count": null,
   "id": "9f6f981f",
   "metadata": {},
   "outputs": [],
   "source": [
    "norm = np.max(ref)\n",
    "dh_intensity = (unaberrated_coro_psf / norm) * luvoir.dh_mask\n",
    "contrast_floor = np.mean(dh_intensity[np.where(luvoir.dh_mask != 0)])\n",
    "print(f'norm: {norm}',f'constrast floor: {contrast_floor}')"
   ]
  },
  {
   "cell_type": "code",
   "execution_count": null,
   "id": "a533e1d7",
   "metadata": {},
   "outputs": [],
   "source": [
    "nonaberrated_coro_psf, ref, efield = luvoir.calc_psf(ref=True, display_intermediate=False, return_intermediate='efield',norm_one_photon=True)\n",
    "Efield_ref = nonaberrated_coro_psf.electric_field"
   ]
  },
  {
   "cell_type": "code",
   "execution_count": null,
   "id": "ba7df6b2",
   "metadata": {},
   "outputs": [],
   "source": [
    "# LO_modes = np.zeros(n_LO)\n",
    "# LO_modes[3] = 100*(nm_aber)/2\n",
    "# luvoir.zernike_mirror.actuators  = LO_modes\n",
    "# aberrated_coro_psf, ref2 = luvoir.calc_psf(ref=True, display_intermediate=True)\n",
    "\n",
    "# dh_intensity_aberrated = (aberrated_coro_psf/ norm) * luvoir.dh_mask\n",
    "# aberrated_contrast = np.mean(dh_intensity_aberrated[np.where(luvoir.dh_mask != 0)])\n",
    "# print(f'contrast floor: {aberrated_contrast}')"
   ]
  },
  {
   "cell_type": "code",
   "execution_count": null,
   "id": "2b5535dd",
   "metadata": {
    "scrolled": true
   },
   "outputs": [],
   "source": [
    "print('Generating the E-fields for low order zernike modes in science plane')\n",
    "print(f'Calibration aberration used: {nm_aber} m')\n",
    "\n",
    "start_time = time.time()\n",
    "focus_fieldS = []\n",
    "focus_fieldS_Re = []\n",
    "focus_fieldS_Im = []\n",
    "\n",
    "for i in range(1, n_LO):\n",
    "    print(f'Working on global zernike mode: {i}')\n",
    "    \n",
    "    # Apply calibration aberration to used mode\n",
    "    LO_modes = np.zeros(n_LO)\n",
    "    LO_modes[i] = (nm_aber)/2\n",
    "    luvoir.zernike_mirror.actuators  = LO_modes\n",
    "    # Calculate coronagraphic E-field and add to lists\n",
    "    aberrated_coro_psf, inter = luvoir.calc_psf(display_intermediate=False, return_intermediate='efield',norm_one_photon=True)\n",
    "    focus_field1 = aberrated_coro_psf\n",
    "    focus_fieldS.append(focus_field1)\n",
    "    focus_fieldS_Re.append(focus_field1.real)\n",
    "    focus_fieldS_Im.append(focus_field1.imag)\n",
    "    "
   ]
  },
  {
   "cell_type": "code",
   "execution_count": null,
   "id": "eede0dd5",
   "metadata": {},
   "outputs": [],
   "source": [
    "focus_fieldS[0]"
   ]
  },
  {
   "cell_type": "code",
   "execution_count": null,
   "id": "7fc9c69a",
   "metadata": {
    "scrolled": false
   },
   "outputs": [],
   "source": [
    "mat_LO = np.zeros([n_LO-1, n_LO-1])\n",
    "for i in range(0, n_LO-1):\n",
    "    for j in range(0, n_LO-1):\n",
    "        test = np.real((focus_fieldS[i].electric_field -Efield_ref) * np.conj(focus_fieldS[j].electric_field-Efield_ref))\n",
    "        dh_test = (test / norm) * luvoir.dh_mask\n",
    "        contrast = np.mean(dh_test[np.where(luvoir.dh_mask != 0)])\n",
    "        mat_LO[i, j] = contrast"
   ]
  },
  {
   "cell_type": "code",
   "execution_count": null,
   "id": "ae92c300",
   "metadata": {},
   "outputs": [],
   "source": [
    "mat_LO.shape"
   ]
  },
  {
   "cell_type": "code",
   "execution_count": null,
   "id": "4ebac12e",
   "metadata": {},
   "outputs": [],
   "source": [
    "from matplotlib.colors import LinearSegmentedColormap\n",
    "\n",
    "plt.figure(figsize=(10,8))                                                      \n",
    "plt.imshow((mat_LO))\n",
    "plt.title(r\"PASTIS matrix $M$ for global zernike\", fontsize=20)\n",
    "plt.xlabel(\"Mode Index\",fontsize=20)\n",
    "plt.ylabel(\"Mode Index\",fontsize=20)\n",
    "plt.tick_params(labelsize=15)\n",
    "cbar = plt.colorbar(fraction=0.046, pad=0.04)\n",
    "cbar.set_label(r\"in units of $1/{nm^2}$\",fontsize =15)\n",
    "plt.tight_layout()"
   ]
  },
  {
   "cell_type": "code",
   "execution_count": null,
   "id": "05f92f33",
   "metadata": {},
   "outputs": [],
   "source": [
    "filename_matrix1 = 'PASTISmatrix_n_LO_' + str(n_LO)\n",
    "hcipy.write_fits(mat_LO, os.path.join(resDir, filename_matrix1 + '.fits'))\n",
    "print('Matrix saved to:', os.path.join(resDir, filename_matrix1 + '.fits','\\n'))\n",
    "\n",
    "filename_matrix2 = 'EFIELD_Re_matrix_n_LO_' + str(n_LO)\n",
    "hcipy.write_fits(focus_fieldS_Re, os.path.join(resDir, filename_matrix2 + '.fits'))\n",
    "print('Efield Real saved to:', os.path.join(resDir, filename_matrix2 + '.fits', '\\n'))\n",
    "\n",
    "filename_matrix3 = 'EFIELD_Im_matrix_n_LO_' + str(n_LO)\n",
    "hcipy.write_fits(focus_fieldS_Im, os.path.join(resDir, filename_matrix3 + '.fits'))\n",
    "print('Efield Imag saved to:', os.path.join(resDir, filename_matrix3 + '.fits','\\n'))"
   ]
  },
  {
   "cell_type": "code",
   "execution_count": null,
   "id": "131a42e9",
   "metadata": {},
   "outputs": [],
   "source": [
    "evals, evecs = np.linalg.eig(mat_LO)\n",
    "sorted_evals = np.sort(evals)\n",
    "sorted_indices = np.argsort(evals)\n",
    "sorted_evecs = evecs[:, sorted_indices]"
   ]
  },
  {
   "cell_type": "code",
   "execution_count": null,
   "id": "e79e27c5",
   "metadata": {},
   "outputs": [],
   "source": [
    "c_target_log = -11\n",
    "c_target = 10**(c_target_log)\n",
    "n_repeat = 20"
   ]
  },
  {
   "cell_type": "code",
   "execution_count": null,
   "id": "c8192d0a",
   "metadata": {},
   "outputs": [],
   "source": [
    "mu_map_LO = np.sqrt(((c_target) / (n_LO-1)) / (np.diag(mat_LO)))\n",
    "#np.savetxt('/Users/asahoo/Documents/ultra/segment_zernike/mu_map_zernike_1e-11.csv', mu_map_zernike, delimiter=',')"
   ]
  },
  {
   "cell_type": "code",
   "execution_count": null,
   "id": "d786f686",
   "metadata": {},
   "outputs": [],
   "source": [
    "z_pup_downsample = CONFIG_PASTIS.getfloat('numerical', 'z_pup_downsample') \n",
    "N_pup_z = int(luvoir.pupil_grid.shape[0] / z_pup_downsample) #N_pup_z = 100,used to define out-of-band efield\n",
    "grid_zernike = hcipy.field.make_pupil_grid(N_pup_z, diameter=luvoir.diam)\n",
    "\n",
    "npup = int(np.sqrt(luvoir.pupil_grid.x.shape[0]))\n",
    "nimg = int(np.sqrt(luvoir.focal_det.x.shape[0]))\n",
    "\n",
    "# Getting the flux together\n",
    "sptype = 'A0V'\n",
    "Vmag = 5.0\n",
    "minlam = 500\n",
    "maxlam = 600 \n",
    "dark_current = 0     \n",
    "CIC = 0            \n",
    "star_flux = exoscene.star.bpgs_spectype_to_photonrate(spectype=sptype, Vmag=Vmag, minlam=minlam, maxlam=maxlam) #ph/s/m^2\n",
    "Nph = star_flux.value*15**2*np.sum(luvoir.apodizer**2) / npup**2"
   ]
  },
  {
   "cell_type": "code",
   "execution_count": null,
   "id": "827e8753",
   "metadata": {},
   "outputs": [],
   "source": [
    "luvoir.zernike_mirror.flatten()\n",
    "nonaberrated_coro_psf ,refshit ,inter_ref = luvoir.calc_psf(ref=True, display_intermediate=False, return_intermediate='efield',norm_one_photon=True)\n",
    "Efield_ref = nonaberrated_coro_psf.electric_field"
   ]
  },
  {
   "cell_type": "code",
   "execution_count": null,
   "id": "334e776b",
   "metadata": {},
   "outputs": [],
   "source": [
    "luvoir.zernike_mirror.flatten()\n",
    "defocus_ref2 = luvoir.calc_out_of_band_wfs(norm_one_photon=True) #returns wavefront on obwfs detector\n",
    "defocus_ref2_sub_real = hcipy.field.subsample_field(defocus_ref2.real, z_pup_downsample, grid_zernike, statistic='mean')\n",
    "defocus_ref2_sub_imag = hcipy.field.subsample_field(defocus_ref2.imag, z_pup_downsample, grid_zernike, statistic='mean')\n",
    "Efield_ref_OBWFS = (defocus_ref2_sub_real + 1j*defocus_ref2_sub_imag) * z_pup_downsample"
   ]
  },
  {
   "cell_type": "code",
   "execution_count": null,
   "id": "fc713852",
   "metadata": {},
   "outputs": [],
   "source": [
    "nyquist_sampling = 2.\n",
    "\n",
    "# Actual grid for LUVOIR images\n",
    "grid_test = hcipy.make_focal_grid(\n",
    "            luvoir.sampling,\n",
    "            luvoir.imlamD,\n",
    "            pupil_diameter=luvoir.diam,\n",
    "            focal_length=1,\n",
    "            reference_wavelength=luvoir.wvln,\n",
    "        )\n",
    "\n",
    "# Actual grid for LUVOIR images that are nyquist sampled\n",
    "grid_det_subsample = hcipy.make_focal_grid(\n",
    "            nyquist_sampling,\n",
    "            np.floor(luvoir.imlamD),\n",
    "            pupil_diameter=luvoir.diam,\n",
    "            focal_length=1,\n",
    "            reference_wavelength=luvoir.wvln,\n",
    "        )\n",
    "n_nyquist = int(np.sqrt(grid_det_subsample.x.shape[0]))"
   ]
  },
  {
   "cell_type": "code",
   "execution_count": null,
   "id": "39e89b33",
   "metadata": {},
   "outputs": [],
   "source": [
    "design = 'small'\n",
    "\n",
    "dh_outer_nyquist = hcipy.circular_aperture(2 * luvoir.apod_dict[design]['owa'] * luvoir.lam_over_d)(grid_det_subsample)\n",
    "dh_inner_nyquist = hcipy.circular_aperture(2 * luvoir.apod_dict[design]['iwa'] * luvoir.lam_over_d)(grid_det_subsample)\n",
    "dh_mask_nyquist = (dh_outer_nyquist - dh_inner_nyquist).astype('bool')\n",
    "\n",
    "dh_size = len(np.where(luvoir.dh_mask != 0)[0])\n",
    "dh_size_nyquist = len(np.where(dh_mask_nyquist != 0)[0])\n",
    "dh_index = np.where(luvoir.dh_mask != 0)[0]\n",
    "dh_index_nyquist = np.where(dh_mask_nyquist != 0)[0]"
   ]
  },
  {
   "cell_type": "code",
   "execution_count": null,
   "id": "a43acafc",
   "metadata": {},
   "outputs": [],
   "source": [
    "E0_OBWFS = np.zeros([N_pup_z*N_pup_z,1,2])\n",
    "E0_OBWFS[:,0,0] = Efield_ref_OBWFS.real\n",
    "E0_OBWFS[:,0,1] = Efield_ref_OBWFS.imag"
   ]
  },
  {
   "cell_type": "code",
   "execution_count": null,
   "id": "00e49d77",
   "metadata": {},
   "outputs": [],
   "source": [
    "E0_coron = np.zeros([nimg*nimg,1,2])\n",
    "E0_coron[:,0,0] = Efield_ref.real \n",
    "E0_coron[:,0,1] = Efield_ref.imag"
   ]
  },
  {
   "cell_type": "code",
   "execution_count": null,
   "id": "e6f7b616",
   "metadata": {},
   "outputs": [],
   "source": [
    "filename_matrix2 = 'EFIELD_Re_matrix_n_LO_' + str(n_LO) + '.fits'\n",
    "G_zernike_real = fits.getdata(os.path.join(overall_dir, 'matrix_numerical', filename_matrix2)) \n",
    "filename_matrix3 = 'EFIELD_Im_matrix_n_LO_' + str(n_LO) + '.fits'\n",
    "G_zernike_imag = fits.getdata(os.path.join(overall_dir, 'matrix_numerical', filename_matrix3)) "
   ]
  },
  {
   "cell_type": "code",
   "execution_count": null,
   "id": "ba9bd500",
   "metadata": {},
   "outputs": [],
   "source": [
    "G_coron_zernike= np.zeros([nimg*nimg,2,n_LO-1])\n",
    "for pp in range(0, n_LO-1):\n",
    "    G_coron_zernike[:,0,pp] = G_zernike_real[pp] - Efield_ref.real\n",
    "    G_coron_zernike[:,1,pp] = G_zernike_imag[pp] - Efield_ref.imag"
   ]
  },
  {
   "cell_type": "code",
   "execution_count": null,
   "id": "cbee8f65",
   "metadata": {},
   "outputs": [],
   "source": [
    "start_time = time.time()\n",
    "focus_fieldS = []\n",
    "focus_fieldS_Re = []\n",
    "focus_fieldS_Im = []\n",
    "\n",
    "for i in range(1, n_LO):\n",
    "    #print(f'Working on \"defocus\" zernike mode, segment: {i}')\n",
    "    \n",
    "    # Apply calibration aberration to used mode\n",
    "    LO_modes = np.zeros(n_LO)\n",
    "    #sm_mode[6*i-3] = (nm_aber)/2 \n",
    "    LO_modes[i] = (nm_aber)/2\n",
    "    luvoir.zernike_mirror.actuators  = LO_modes\n",
    "    zernike_meas = luvoir.calc_out_of_band_wfs(norm_one_photon=True)\n",
    "    zernike_meas_sub_real = hcipy.field.subsample_field(zernike_meas.real, z_pup_downsample, grid_zernike, statistic='mean')\n",
    "    zernike_meas_sub_imag = hcipy.field.subsample_field(zernike_meas.imag, z_pup_downsample, grid_zernike, statistic='mean')\n",
    "    focus_field1 = zernike_meas_sub_real + 1j * zernike_meas_sub_imag\n",
    "    focus_fieldS.append(focus_field1)\n",
    "    focus_fieldS_Re.append(focus_field1.real)\n",
    "    focus_fieldS_Im.append(focus_field1.imag)"
   ]
  },
  {
   "cell_type": "code",
   "execution_count": null,
   "id": "a87a5a69",
   "metadata": {},
   "outputs": [],
   "source": [
    "filename_matrix = 'EFIELD_OBWFS_Re_matrix_num_LO_' + str(n_LO)\n",
    "hcipy.write_fits(focus_fieldS_Re, os.path.join(resDir, filename_matrix + '.fits'))\n",
    "print('Efield Real saved to:', os.path.join(resDir, filename_matrix + '.fits'))\n",
    "\n",
    "filename_matrix = 'EFIELD_OBWFS_Im_matrix_num_LO_' + str(n_LO)\n",
    "hcipy.write_fits(focus_fieldS_Im, os.path.join(resDir, filename_matrix + '.fits'))\n",
    "print('Efield Imag saved to:', os.path.join(resDir, filename_matrix + '.fits'))"
   ]
  },
  {
   "cell_type": "code",
   "execution_count": null,
   "id": "e1f74b35",
   "metadata": {},
   "outputs": [],
   "source": [
    "filename_matrix = 'EFIELD_OBWFS_Re_matrix_num_LO_' + str(n_LO)+'.fits'\n",
    "G_OBWFS_real = fits.getdata(os.path.join(overall_dir, 'matrix_numerical', filename_matrix))\n",
    "filename_matrix = 'EFIELD_OBWFS_Im_matrix_num_LO_' + str(n_LO)+'.fits'\n",
    "G_OBWFS_imag =  fits.getdata(os.path.join(overall_dir, 'matrix_numerical', filename_matrix))"
   ]
  },
  {
   "cell_type": "code",
   "execution_count": null,
   "id": "d601af7f",
   "metadata": {},
   "outputs": [],
   "source": [
    "G_OBWFS= np.zeros([N_pup_z*N_pup_z,2,n_LO-1])\n",
    "for pp in range(0, n_LO-1):\n",
    "    G_OBWFS[:,0,pp] = G_OBWFS_real[pp]*z_pup_downsample - Efield_ref_OBWFS.real\n",
    "    G_OBWFS[:,1,pp] = G_OBWFS_imag[pp]*z_pup_downsample - Efield_ref_OBWFS.imag"
   ]
  },
  {
   "cell_type": "code",
   "execution_count": null,
   "id": "e3ace431",
   "metadata": {},
   "outputs": [],
   "source": [
    "flux = Nph\n",
    "Q_LO = np.diag(np.asarray(mu_map_LO**2))\n",
    "\n",
    "Ntimes = 20\n",
    "TimeMinus = -2\n",
    "TimePlus = 5.5 #3.5\n",
    "Nwavescale = 8\n",
    "Nflux = 3\n",
    "\n",
    "res = np.zeros([Ntimes, Nwavescale, Nflux, 1])\n",
    "result_wf_test =[]\n",
    "\n",
    "#i=-1\n",
    "for wavescale in range (1,15,2):\n",
    "    #i=i+1\n",
    "    print('Harris modes with batch OBWFS and noise %f'% wavescale, \"i\",i)  \n",
    "    niter = 10\n",
    "    timer1 = time.time()\n",
    "    StarMag = 0.0\n",
    "    #j=-1\n",
    "    for tscale in np.logspace(TimeMinus, TimePlus, Ntimes):\n",
    "        j=j+1\n",
    "        Starfactor = 10**(-StarMag/2.5)\n",
    "        print(tscale)\n",
    "        tmp0 = req_closedloop_calc_batch(G_coron_zernike, G_OBWFS, E0_coron, E0_OBWFS, dark_current+CIC/tscale,\n",
    "                                                 dark_current+CIC/tscale, tscale, flux*Starfactor,0.0001*wavescale**2*Q_LO,\n",
    "                                                 niter, luvoir.dh_mask, norm)    \n",
    "        tmp1 = tmp0['averaged_hist']\n",
    "        n_tmp1 = len(tmp1)\n",
    "        result_wf_test.append(tmp1[n_tmp1-1])"
   ]
  },
  {
   "cell_type": "code",
   "execution_count": null,
   "id": "e91f125d",
   "metadata": {
    "scrolled": false
   },
   "outputs": [],
   "source": [
    "delta_wf = []\n",
    "for wavescale in range (1,15,2):\n",
    "    wf = 1e3*np.sqrt(0.0001*wavescale**2)\n",
    "    delta_wf.append(wf)\n",
    "\n",
    "texp = np.logspace(TimeMinus, TimePlus, Ntimes)\n",
    "\n",
    "font = {'family': 'serif','color' : 'black','weight': 'normal','size'  :  20}\n",
    "plt.figure(figsize =(15,10))\n",
    "\n",
    "plt.title('Target contrast = %s, Vmag= %s'%(c_target, Vmag),fontdict=font)\n",
    "plt.plot(texp,result_wf_test[0:20]-contrast_floor, label=r'$\\Delta_{wf}= %d\\ pm$'%(delta_wf[0]))\n",
    "plt.plot(texp,result_wf_test[20:40]-contrast_floor, label=r'$\\Delta_{wf}=%d\\ pm$'%(delta_wf[0]))\n",
    "plt.plot(texp,result_wf_test[40:60]-contrast_floor, label=r'$\\Delta_{wf}=%d\\ pm$'%(delta_wf[2]))\n",
    "plt.plot(texp,result_wf_test[60:80]-contrast_floor, label=r'$\\Delta_{wf}=%d\\ pm$'%(delta_wf[3]))\n",
    "plt.plot(texp,result_wf_test[80:100]-contrast_floor, label=r'$\\Delta_{wf}=%d\\ pm$'%(delta_wf[4]))\n",
    "plt.plot(texp,result_wf_test[100:120]-contrast_floor, label=r'$\\Delta_{wf}=%d\\ pm$'%(delta_wf[5]))\n",
    "plt.plot(texp,result_wf_test[120:140]-contrast_floor, label=r'$\\Delta_{wf}=%d\\ pm$'%(delta_wf[6]))\n",
    "plt.xlabel(\"$t_{WFS}$ in secs\",fontsize=20)\n",
    "plt.ylabel(\"$\\Delta$ contrast\",fontsize=20)\n",
    "plt.yscale('log')\n",
    "plt.xscale('log')\n",
    "plt.legend(loc = 'upper center',fontsize=20)\n",
    "plt.tick_params(top=False, bottom=True, left=True, \n",
    "                right=True,labelleft=True, labelbottom=True,\n",
    "                labelsize=20)\n",
    "plt.tick_params(axis='both',which='major',length=10, width=2)\n",
    "plt.tick_params(axis='both',which='minor',length=6, width=2)\n",
    "plt.grid()\n",
    "#plt.savefig('/Users/asahoo/Documents/ultra/segment_zernike/zernike_cont_wf.png')\n",
    "plt.show()"
   ]
  },
  {
   "cell_type": "code",
   "execution_count": null,
   "id": "803be7d2",
   "metadata": {
    "scrolled": false
   },
   "outputs": [],
   "source": [
    "delta_wf[1]"
   ]
  },
  {
   "cell_type": "code",
   "execution_count": null,
   "id": "8badc8d9",
   "metadata": {},
   "outputs": [],
   "source": []
  }
 ],
 "metadata": {
  "kernelspec": {
   "display_name": "Python 3 (ipykernel)",
   "language": "python",
   "name": "python3"
  },
  "language_info": {
   "codemirror_mode": {
    "name": "ipython",
    "version": 3
   },
   "file_extension": ".py",
   "mimetype": "text/x-python",
   "name": "python",
   "nbconvert_exporter": "python",
   "pygments_lexer": "ipython3",
   "version": "3.7.11"
  }
 },
 "nbformat": 4,
 "nbformat_minor": 5
}
