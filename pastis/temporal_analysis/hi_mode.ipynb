{
 "cells": [
  {
   "cell_type": "markdown",
   "id": "00f3f8f1",
   "metadata": {},
   "source": [
    "## This notebook consists of generating segment tolerances (both static and temporal) for high spatial frequency wavefront aberration. "
   ]
  },
  {
   "cell_type": "markdown",
   "id": "aa36a7e8",
   "metadata": {},
   "source": [
    "### Importing necessary  python libraries, and PASTIS pre-built functions"
   ]
  },
  {
   "cell_type": "code",
   "execution_count": null,
   "id": "ed931849",
   "metadata": {},
   "outputs": [],
   "source": [
    "import os\n",
    "os.chdir(\"/Users/asahoo/repos/PASTIS\")\n",
    "import time\n",
    "from shutil import copy\n",
    "from astropy.io import fits\n",
    "import hcipy\n",
    "import numpy as np\n",
    "import pastis.util as util    \n",
    "from pastis.config import CONFIG_PASTIS \n",
    "from pastis.e2e_simulators.luvoir_imaging import LuvoirA_APLC \n",
    "import matplotlib.pyplot as plt\n",
    "import exoscene.star\n",
    "from astropy.io import fits as pf"
   ]
  },
  {
   "cell_type": "markdown",
   "id": "cac9ba96",
   "metadata": {},
   "source": [
    "### Set some initial parameter or call them from config file"
   ]
  },
  {
   "cell_type": "code",
   "execution_count": null,
   "id": "eeaaff19",
   "metadata": {},
   "outputs": [],
   "source": [
    "coronagraph_design = 'small'\n",
    "nb_seg = CONFIG_PASTIS.getint('LUVOIR', 'nb_subapertures')\n",
    "nm_aber = CONFIG_PASTIS.getfloat('LUVOIR', 'calibration_aberration') * 1e-9\n",
    "sampling = CONFIG_PASTIS.getfloat('LUVOIR', 'sampling')\n",
    "max_HI = CONFIG_PASTIS.getint('dm_objects', 'number_of_high_order_modes')"
   ]
  },
  {
   "cell_type": "markdown",
   "id": "dec47820",
   "metadata": {},
   "source": [
    "###  Define and create directory"
   ]
  },
  {
   "cell_type": "code",
   "execution_count": null,
   "id": "65b2517f",
   "metadata": {},
   "outputs": [],
   "source": [
    "data_dir = \"/Users/asahoo/Desktop/data_repos/hi_modes\"\n",
    "repo_dir = \"/Users/asahoo/repos/PASTIS\"\n",
    "overall_dir = util.create_data_path(data_dir, telescope='luvoir_'+coronagraph_design)\n",
    "resDir = os.path.join(overall_dir, 'matrix_numerical')\n",
    "\n",
    "# Create necessary directories if they don't exist yet\n",
    "os.makedirs(resDir, exist_ok=True)"
   ]
  },
  {
   "cell_type": "markdown",
   "id": "6f3b3931",
   "metadata": {},
   "source": [
    "### Instantiate LUVOIR-A"
   ]
  },
  {
   "cell_type": "code",
   "execution_count": null,
   "id": "9a474a97",
   "metadata": {},
   "outputs": [],
   "source": [
    "optics_input = os.path.join(util.find_repo_location(), CONFIG_PASTIS.get('LUVOIR', 'optics_path_in_repo'))\n",
    "luvoir = LuvoirA_APLC(optics_input, coronagraph_design, sampling)"
   ]
  },
  {
   "cell_type": "markdown",
   "id": "1c6fbbeb",
   "metadata": {},
   "source": [
    "### Create high spatial frequency mirror phase"
   ]
  },
  {
   "cell_type": "code",
   "execution_count": null,
   "id": "115d0378",
   "metadata": {},
   "outputs": [],
   "source": [
    "luvoir.create_ripple_mirror(max_HI)\n",
    "n_HI = luvoir.ripple_mirror.num_actuators\n",
    "HI_modes = np.zeros(n_HI)\n",
    "luvoir.ripple_mirror.actuators = HI_modes #16"
   ]
  },
  {
   "cell_type": "markdown",
   "id": "3df8ee9f",
   "metadata": {},
   "source": [
    "### Flatten the DM"
   ]
  },
  {
   "cell_type": "code",
   "execution_count": null,
   "id": "22acf209",
   "metadata": {},
   "outputs": [],
   "source": [
    "luvoir.ripple_mirror.flatten()"
   ]
  },
  {
   "cell_type": "markdown",
   "id": "929ca34a",
   "metadata": {},
   "source": [
    "### Calculate the unaberrated coronagraphic PSF"
   ]
  },
  {
   "cell_type": "code",
   "execution_count": null,
   "id": "7c591832",
   "metadata": {
    "scrolled": true
   },
   "outputs": [],
   "source": [
    "unaberrated_coro_psf, ref= luvoir.calc_psf(ref=True, display_intermediate=False, norm_one_photon=True)"
   ]
  },
  {
   "cell_type": "markdown",
   "id": "33e996d5",
   "metadata": {},
   "source": [
    "### Calculate peak value of reference psf and static coronaraphic floor $c_{0}$"
   ]
  },
  {
   "cell_type": "code",
   "execution_count": null,
   "id": "a65f3d71",
   "metadata": {},
   "outputs": [],
   "source": [
    "norm = np.max(ref)\n",
    "dh_intensity = (unaberrated_coro_psf / norm) * luvoir.dh_mask\n",
    "contrast_floor = np.mean(dh_intensity[np.where(luvoir.dh_mask != 0)])\n",
    "print(f'norm: {norm}',f'constrast floor: {contrast_floor}')"
   ]
  },
  {
   "cell_type": "markdown",
   "id": "bfb4db17",
   "metadata": {},
   "source": [
    "### Poking each segment with a sinusoidal aberration and generating the subsequent electric field¶"
   ]
  },
  {
   "cell_type": "code",
   "execution_count": null,
   "id": "df07e958",
   "metadata": {},
   "outputs": [],
   "source": [
    "nonaberrated_coro_psf, ref, efield = luvoir.calc_psf(ref=True, display_intermediate=False, return_intermediate='efield',norm_one_photon=True)\n",
    "Efield_ref = nonaberrated_coro_psf.electric_field"
   ]
  },
  {
   "cell_type": "code",
   "execution_count": null,
   "id": "7cd05293",
   "metadata": {},
   "outputs": [],
   "source": [
    "print('Generating the E-fields for harris modes in science plane')\n",
    "print(f'Calibration aberration used: {nm_aber} m')\n",
    "\n",
    "start_time = time.time()\n",
    "focus_fieldS = []\n",
    "focus_fieldS_Re = []\n",
    "focus_fieldS_Im = []\n",
    "\n",
    "for pp in range(0, n_HI):\n",
    "    print(f'Working on high spatial frequency mode, segment: {pp}/{n_HI}')\n",
    "    \n",
    "    # Apply calibration aberration to used mode\n",
    "    HI_modes = np.zeros(n_HI)\n",
    "    HI_modes[pp] = (nm_aber)/2 \n",
    "    luvoir.ripple_mirror.actuators = HI_modes\n",
    "   \n",
    "    # Calculate coronagraphic E-field and add to lists\n",
    "    aberrated_coro_psf, inter = luvoir.calc_psf(display_intermediate=False, return_intermediate='efield',norm_one_photon=True)\n",
    "    focus_field1 = aberrated_coro_psf\n",
    "    focus_fieldS.append(focus_field1)\n",
    "    focus_fieldS_Re.append(focus_field1.real)\n",
    "    focus_fieldS_Im.append(focus_field1.imag)"
   ]
  },
  {
   "cell_type": "markdown",
   "id": "a75f32e5",
   "metadata": {},
   "source": [
    "### Taking a pair of poked efields to compute PASTIS matrix"
   ]
  },
  {
   "cell_type": "code",
   "execution_count": null,
   "id": "86b26b61",
   "metadata": {
    "scrolled": true
   },
   "outputs": [],
   "source": [
    "mat_HI = np.zeros([n_HI, n_HI])\n",
    "for i in range(0, n_HI):\n",
    "    for j in range(0, n_HI):\n",
    "        test = np.real((focus_fieldS[i].electric_field - Efield_ref) * np.conj(focus_fieldS[j].electric_field-Efield_ref))\n",
    "        dh_test = (test / norm) * luvoir.dh_mask\n",
    "        contrast = np.mean(dh_test[np.where(luvoir.dh_mask != 0)])\n",
    "        mat_HI[i, j] = contrast\n"
   ]
  },
  {
   "cell_type": "code",
   "execution_count": null,
   "id": "7c034b3d",
   "metadata": {
    "scrolled": true
   },
   "outputs": [],
   "source": [
    "plt.figure(figsize=(10,8))\n",
    "plt.imshow(np.log10(np.abs(mat_HI)))\n",
    "plt.title(r\"PASTIS matrix $M$\", fontsize=20)\n",
    "plt.xlabel(\"Mode Index\",fontsize=20)\n",
    "plt.ylabel(\"Mode Index\",fontsize=20)\n",
    "plt.tick_params(labelsize=15)\n",
    "# cbar = plt.colorbar(ticks = np.linspace(-13,-5,8,endpoint=False))\n",
    "# cbar.ax.set_yticklabels([r'$10^{-13}$', r'$10^{-12}$', r'$10^{-11}$', r'$10^{-10}$', \n",
    "#                          r'$10^{-9}$', r'$10^{-8}$', r'$10^{-7}$',r'$10^{-6}$'], fontsize=15)\n",
    "# cbar.set_label(r\"in units of $1/{nm^2}$\",fontsize =15)\n",
    "plt.colorbar()\n",
    "plt.tight_layout()"
   ]
  },
  {
   "cell_type": "markdown",
   "id": "4a52b28a",
   "metadata": {},
   "source": [
    "###  saving pastis matrix, real and imaginary part of the electric field at the focus"
   ]
  },
  {
   "cell_type": "code",
   "execution_count": null,
   "id": "cb801028",
   "metadata": {},
   "outputs": [],
   "source": [
    "filename_matrix1 = 'PASTISmatrix_n_HI_' + str(n_HI)\n",
    "hcipy.write_fits(mat_HI, os.path.join(resDir, filename_matrix1 + '.fits'))\n",
    "print('Matrix saved to:', os.path.join(resDir, filename_matrix1 + '.fits','\\n'))\n",
    "\n",
    "filename_matrix2 = 'EFIELD_Re_matrix_n_HI_' + str(n_HI)\n",
    "hcipy.write_fits(focus_fieldS_Re, os.path.join(resDir, filename_matrix2 + '.fits'))\n",
    "print('Efield Real saved to:', os.path.join(resDir, filename_matrix2 + '.fits', '\\n'))\n",
    "\n",
    "filename_matrix3 = 'EFIELD_Im_matrix_n_HI_' + str(n_HI)\n",
    "hcipy.write_fits(focus_fieldS_Im, os.path.join(resDir, filename_matrix3 + '.fits'))\n",
    "print('Efield Imag saved to:', os.path.join(resDir, filename_matrix3 + '.fits','\\n'))"
   ]
  },
  {
   "cell_type": "markdown",
   "id": "39928800",
   "metadata": {},
   "source": [
    "### Calculate eigenvalues from the pastis matrix "
   ]
  },
  {
   "cell_type": "code",
   "execution_count": null,
   "id": "8ef2c513",
   "metadata": {},
   "outputs": [],
   "source": [
    "evals, evecs = np.linalg.eig(mat_HI)\n",
    "sorted_evals = np.sort(evals)\n",
    "sorted_indices = np.argsort(evals)\n",
    "sorted_evecs = evecs[:, sorted_indices]"
   ]
  },
  {
   "cell_type": "code",
   "execution_count": null,
   "id": "0d516e8b",
   "metadata": {},
   "outputs": [],
   "source": [
    "emodes_HI = []\n",
    "eunit = 1e-9\n",
    "for mode in range(len(evals)):\n",
    "    print('Working on mode {}/{}.'.format(mode+1, len(evals)))\n",
    "    HI_coeffs = np.zeros(n_HI)\n",
    "    HI_coeffs = eunit*sorted_evecs[:, mode]/2\n",
    "    luvoir.ripple_mirror.actuators = HI_coeffs\n",
    "    wf_ripples = luvoir.ripple_mirror(luvoir.wf_aper)\n",
    "    emodes_HI.append(wf_ripples.phase)"
   ]
  },
  {
   "cell_type": "code",
   "execution_count": null,
   "id": "55b0bfe6",
   "metadata": {},
   "outputs": [],
   "source": [
    "plt.figure(figsize=(20,20))\n",
    "for i in range(1, n_HI+1):\n",
    "    plt.subplot(4, 4, i)\n",
    "    hcipy.imshow_field(emodes_HI[i-1])\n",
    "    plt.colorbar()"
   ]
  },
  {
   "cell_type": "markdown",
   "id": "89259cb9",
   "metadata": {},
   "source": [
    "### Set your target contrast "
   ]
  },
  {
   "cell_type": "code",
   "execution_count": null,
   "id": "63734a71",
   "metadata": {},
   "outputs": [],
   "source": [
    "c_target_log = -11\n",
    "c_target = 10**(c_target_log)"
   ]
  },
  {
   "cell_type": "markdown",
   "id": "a06529d3",
   "metadata": {},
   "source": [
    "### Compute per mode tolerances"
   ]
  },
  {
   "cell_type": "code",
   "execution_count": null,
   "id": "536f0105",
   "metadata": {},
   "outputs": [],
   "source": [
    "mu_map_HI = np.sqrt(((c_target) / (n_HI)) / (np.diag(mat_HI)))\n",
    "\n",
    "#np.savetxt('/Users/asahoo/Documents/ultra/report_11_01_21/mu_map.csv', mu_map_harris, delimiter=',')\n",
    "#mu_map_harris = np.genfromtxt('/Users/asahoo/Desktop/data_repos/harris_data/mu_map.csv',delimiter=',')"
   ]
  },
  {
   "cell_type": "code",
   "execution_count": null,
   "id": "998174c3",
   "metadata": {
    "scrolled": true
   },
   "outputs": [],
   "source": [
    "plt.plot(mu_map_HI)\n",
    "plt.ylabel(\"In units of nm\",fontsize=10)\n",
    "plt.xlabel(\"Segment Number\",fontsize=10)"
   ]
  },
  {
   "cell_type": "markdown",
   "id": "229cd2d5",
   "metadata": {},
   "source": [
    "### Static tolerance maps "
   ]
  },
  {
   "cell_type": "code",
   "execution_count": null,
   "id": "385221d3",
   "metadata": {},
   "outputs": [],
   "source": [
    "nu_maps_HI = []\n",
    "for qq in range(n_HI):\n",
    "    HI_coeffs = np.zeros(n_HI)\n",
    "    HI_coeffs[qq] = mu_map_HI[qq]\n",
    "    luvoir.ripple_mirror.actuators = HI_coeffs\n",
    "    map_ripple = luvoir.ripple_mirror.surface\n",
    "    nu_maps_HI.append(map_ripple)"
   ]
  },
  {
   "cell_type": "code",
   "execution_count": null,
   "id": "51201df2",
   "metadata": {},
   "outputs": [],
   "source": [
    "hcipy.imshow_field(luvoir.ripple_mirror.surface)"
   ]
  },
  {
   "cell_type": "code",
   "execution_count": null,
   "id": "0cb87929",
   "metadata": {},
   "outputs": [],
   "source": [
    "plt.figure(figsize=(20,20))\n",
    "for i in range(1, n_HI+1):\n",
    "    plt.subplot(4, 4, i)\n",
    "    hcipy.imshow_field(nu_maps_HI[i-1])\n",
    "    plt.colorbar()"
   ]
  },
  {
   "cell_type": "markdown",
   "id": "e49e3348",
   "metadata": {},
   "source": [
    "## Temporal Analysis "
   ]
  },
  {
   "cell_type": "markdown",
   "id": "626417db",
   "metadata": {},
   "source": [
    "### Defining some input parameter required to only to run close loop contrast"
   ]
  },
  {
   "cell_type": "code",
   "execution_count": null,
   "id": "bbcfcd1a",
   "metadata": {},
   "outputs": [],
   "source": [
    "z_pup_downsample = CONFIG_PASTIS.getfloat('numerical', 'z_pup_downsample') \n",
    "N_pup_z = int(luvoir.pupil_grid.shape[0] / z_pup_downsample) #N_pup_z = 100,used to define out-of-band efield\n",
    "grid_zernike = hcipy.field.make_pupil_grid(N_pup_z, diameter=luvoir.diam)\n",
    "\n",
    "npup = int(np.sqrt(luvoir.pupil_grid.x.shape[0]))\n",
    "nimg = int(np.sqrt(luvoir.focal_det.x.shape[0]))\n",
    "\n",
    "# Getting the flux together\n",
    "sptype = 'A0V'\n",
    "Vmag = 5.0\n",
    "minlam = 500\n",
    "maxlam = 600 \n",
    "dark_current = 0     \n",
    "CIC = 0            \n",
    "star_flux = exoscene.star.bpgs_spectype_to_photonrate(spectype=sptype, Vmag=Vmag, minlam=minlam, maxlam=maxlam) #ph/s/m^2\n",
    "Nph = star_flux.value*15**2*np.sum(luvoir.apodizer**2) / npup**2"
   ]
  },
  {
   "cell_type": "markdown",
   "id": "96640a12",
   "metadata": {},
   "source": [
    "The analytic form of Nph is not clear."
   ]
  },
  {
   "cell_type": "markdown",
   "id": "630099b0",
   "metadata": {},
   "source": [
    "### Calculate the OBWFS and downsample OBWFS"
   ]
  },
  {
   "cell_type": "code",
   "execution_count": null,
   "id": "4605d61d",
   "metadata": {},
   "outputs": [],
   "source": [
    "luvoir.ripple_mirror.flatten()\n",
    "nonaberrated_coro_psf ,refshit ,inter_ref = luvoir.calc_psf(ref=True, display_intermediate=False, return_intermediate='efield',norm_one_photon=True)\n",
    "Efield_ref = nonaberrated_coro_psf.electric_field"
   ]
  },
  {
   "cell_type": "code",
   "execution_count": null,
   "id": "99d00f99",
   "metadata": {},
   "outputs": [],
   "source": [
    "luvoir.ripple_mirror.flatten()\n",
    "HI_ref2 = luvoir.calc_out_of_band_wfs(norm_one_photon=True) #returns wavefront on obwfs detector\n",
    "HI_ref2_sub_real = hcipy.field.subsample_field(HI_ref2.real, z_pup_downsample, grid_zernike, statistic='mean')\n",
    "HI_ref2_sub_imag = hcipy.field.subsample_field(HI_ref2.imag, z_pup_downsample, grid_zernike, statistic='mean')\n",
    "Efield_ref_OBWFS = (HI_ref2_sub_real + 1j*HI_ref2_sub_imag) * z_pup_downsample #why extra multiplicative factor?"
   ]
  },
  {
   "cell_type": "code",
   "execution_count": null,
   "id": "b83ed4f3",
   "metadata": {},
   "outputs": [],
   "source": [
    "plt.figure(figsize=(30,10))\n",
    "\n",
    "plt.subplot(2,4,1)\n",
    "plt.title(\"amplitude\")\n",
    "hcipy.imshow_field(HI_ref2.amplitude)\n",
    "plt.colorbar()\n",
    "\n",
    "plt.subplot(2,4,2)\n",
    "plt.title(\"phase\")\n",
    "hcipy.imshow_field(HI_ref2.phase)\n",
    "plt.colorbar()\n",
    "\n",
    "plt.subplot(2,4,3)\n",
    "plt.title(\"real\")\n",
    "hcipy.imshow_field(HI_ref2.real)\n",
    "plt.colorbar()\n",
    "\n",
    "plt.subplot(2,4,4)\n",
    "plt.title(\"imag\")\n",
    "hcipy.imshow_field(HI_ref2.imag)\n",
    "plt.colorbar()\n",
    "\n",
    "plt.subplot(2,4,5)\n",
    "plt.title(\"real_sub\")\n",
    "hcipy.imshow_field(HI_ref2.real)\n",
    "plt.colorbar()\n",
    "\n",
    "plt.subplot(2,4,6)\n",
    "plt.title(\"imag_sub\")\n",
    "hcipy.imshow_field(HI_ref2.imag)\n",
    "plt.colorbar()\n",
    "\n",
    "plt.subplot(2,4,7)\n",
    "plt.title(\"Efield_ref_OBWFS.real\")\n",
    "hcipy.imshow_field(Efield_ref_OBWFS.real)\n",
    "plt.colorbar()\n",
    "\n",
    "plt.subplot(2,4,8)\n",
    "plt.title(\"Efield_ref_OBWFS.imag\")\n",
    "hcipy.imshow_field(Efield_ref_OBWFS.imag)\n",
    "plt.colorbar()\n",
    "plt.show()"
   ]
  },
  {
   "cell_type": "markdown",
   "id": "effd7b9f",
   "metadata": {},
   "source": [
    "Play more with luvoir.calc_psf, and luvoir.calc_out_of_band_wfs"
   ]
  },
  {
   "cell_type": "markdown",
   "id": "77bfdd20",
   "metadata": {},
   "source": [
    "### Calcuating nyquist grids "
   ]
  },
  {
   "cell_type": "code",
   "execution_count": null,
   "id": "282b1347",
   "metadata": {},
   "outputs": [],
   "source": [
    "nyquist_sampling = 2.\n",
    "\n",
    "# Actual grid for LUVOIR images\n",
    "grid_test = hcipy.make_focal_grid(\n",
    "            luvoir.sampling,\n",
    "            luvoir.imlamD,\n",
    "            pupil_diameter=luvoir.diam,\n",
    "            focal_length=1,\n",
    "            reference_wavelength=luvoir.wvln,\n",
    "        ) \n",
    "#cartesiangrid\n",
    "\n",
    "# Actual grid for LUVOIR images that are nyquist sampled\n",
    "grid_det_subsample = hcipy.make_focal_grid(\n",
    "            nyquist_sampling,\n",
    "            np.floor(luvoir.imlamD),\n",
    "            pupil_diameter=luvoir.diam,\n",
    "            focal_length=1,\n",
    "            reference_wavelength=luvoir.wvln,\n",
    "        )\n",
    "n_nyquist = int(np.sqrt(grid_det_subsample.x.shape[0]))"
   ]
  },
  {
   "cell_type": "markdown",
   "id": "49e2c23f",
   "metadata": {},
   "source": [
    "### Setting up nyquist sampled dark hole mask"
   ]
  },
  {
   "cell_type": "code",
   "execution_count": null,
   "id": "4b603880",
   "metadata": {},
   "outputs": [],
   "source": [
    "dh_outer_nyquist = hcipy.circular_aperture(2 * luvoir.apod_dict[coronagraph_design]['owa'] * luvoir.lam_over_d)(grid_det_subsample)\n",
    "dh_inner_nyquist = hcipy.circular_aperture(2 * luvoir.apod_dict[coronagraph_design]['iwa'] * luvoir.lam_over_d)(grid_det_subsample)\n",
    "dh_mask_nyquist = (dh_outer_nyquist - dh_inner_nyquist).astype('bool')\n",
    "\n",
    "dh_size = len(np.where(luvoir.dh_mask != 0)[0])\n",
    "dh_size_nyquist = len(np.where(dh_mask_nyquist != 0)[0])\n",
    "dh_index = np.where(luvoir.dh_mask != 0)[0]\n",
    "dh_index_nyquist = np.where(dh_mask_nyquist != 0)[0]"
   ]
  },
  {
   "cell_type": "markdown",
   "id": "44501f16",
   "metadata": {},
   "source": [
    "### Defining reference electric field at obwfs plane. "
   ]
  },
  {
   "cell_type": "code",
   "execution_count": null,
   "id": "8020a5ba",
   "metadata": {},
   "outputs": [],
   "source": [
    "E0_OBWFS = np.zeros([N_pup_z*N_pup_z,1,2])\n",
    "E0_OBWFS[:,0,0] = Efield_ref_OBWFS.real\n",
    "E0_OBWFS[:,0,1] = Efield_ref_OBWFS.imag"
   ]
  },
  {
   "cell_type": "markdown",
   "id": "d83255bc",
   "metadata": {},
   "source": [
    "### Defining coronagraphic refernce electric field at the focal plane"
   ]
  },
  {
   "cell_type": "code",
   "execution_count": null,
   "id": "e4cec604",
   "metadata": {},
   "outputs": [],
   "source": [
    "E0_coron = np.zeros([nimg*nimg,1,2])\n",
    "E0_coron[:,0,0] = Efield_ref.real \n",
    "E0_coron[:,0,1] = Efield_ref.imag"
   ]
  },
  {
   "cell_type": "code",
   "execution_count": null,
   "id": "d47e8606",
   "metadata": {},
   "outputs": [],
   "source": [
    "plt.figure(figsize=(10,10))\n",
    "\n",
    "plt.subplot(2,2,1)\n",
    "plt.title(\"Efield_ref.real\")\n",
    "plt.imshow(np.array(np.reshape((E0_OBWFS[:,0,0]),(100,100))))\n",
    "plt.colorbar()\n",
    "\n",
    "plt.subplot(2,2,2)\n",
    "plt.title(\"Efield_ref.imag\")\n",
    "plt.imshow(np.array(np.reshape((E0_OBWFS[:,0,1]),(100,100))))\n",
    "plt.colorbar()\n",
    "\n",
    "plt.subplot(2,2,3)\n",
    "plt.title(\"coron_Efield_ref.real\")\n",
    "plt.imshow(np.array(np.reshape((E0_coron[:,0,0]),(115,115))))\n",
    "plt.colorbar()\n",
    "\n",
    "plt.subplot(2,2,4)\n",
    "plt.title(\"coron_Efield_ref.imag\")\n",
    "plt.imshow(np.array(np.reshape((E0_coron[:,0,1]),(115,115))))\n",
    "plt.colorbar()"
   ]
  },
  {
   "cell_type": "markdown",
   "id": "6c7f6fb0",
   "metadata": {},
   "source": [
    "### Defining Sensitvity matrix after coronagraph plane/ image plane??"
   ]
  },
  {
   "cell_type": "code",
   "execution_count": null,
   "id": "3683b528",
   "metadata": {},
   "outputs": [],
   "source": [
    "filename_matrix2 = 'EFIELD_Re_matrix_n_HI_' + str(n_HI) + '.fits'\n",
    "G_HI_real = fits.getdata(os.path.join(overall_dir, 'matrix_numerical', filename_matrix2)) \n",
    "filename_matrix3 = 'EFIELD_Im_matrix_n_HI_' + str(n_HI) + '.fits'\n",
    "G_HI_imag = fits.getdata(os.path.join(overall_dir, 'matrix_numerical', filename_matrix3)) "
   ]
  },
  {
   "cell_type": "code",
   "execution_count": null,
   "id": "1b47b879",
   "metadata": {},
   "outputs": [],
   "source": [
    "G_coron_HI= np.zeros([nimg*nimg,2,n_HI])\n",
    "for pp in range(0, n_HI):\n",
    "    G_coron_HI[:,0,pp] = G_HI_real[pp] - Efield_ref.real\n",
    "    G_coron_HI[:,1,pp] = G_HI_imag[pp] - Efield_ref.imag"
   ]
  },
  {
   "cell_type": "markdown",
   "id": "f62a0fbf",
   "metadata": {},
   "source": [
    "### Calculating out of band sensitvity matrix or G_OBWFS"
   ]
  },
  {
   "cell_type": "code",
   "execution_count": null,
   "id": "01639d2e",
   "metadata": {},
   "outputs": [],
   "source": [
    "start_time = time.time()\n",
    "focus_fieldS = []\n",
    "focus_fieldS_Re = []\n",
    "focus_fieldS_Im = []\n",
    "\n",
    "for pp in range(0, n_HI):\n",
    "    print(f'Working on sinusoid mode: {pp+1}/{n_HI}')\n",
    "    \n",
    "    # Apply calibration aberration to used mode\n",
    "    HI_modes = np.zeros(n_HI)\n",
    "    HI_modes[pp] = (nm_aber)/2 \n",
    "    luvoir.ripple_mirror.actuators  = HI_modes\n",
    "    HI_meas = luvoir.calc_out_of_band_wfs(norm_one_photon=True) \n",
    "    HI_meas_sub_real = hcipy.field.subsample_field(HI_meas.real, z_pup_downsample, grid_zernike, statistic='mean')\n",
    "    HI_meas_sub_imag = hcipy.field.subsample_field(HI_meas.imag, z_pup_downsample, grid_zernike, statistic='mean')\n",
    "    focus_field1 = HI_meas_sub_real + 1j * HI_meas_sub_imag\n",
    "    focus_fieldS.append(focus_field1)\n",
    "    focus_fieldS_Re.append(focus_field1.real)\n",
    "    focus_fieldS_Im.append(focus_field1.imag)"
   ]
  },
  {
   "cell_type": "code",
   "execution_count": null,
   "id": "1b9b0258",
   "metadata": {},
   "outputs": [],
   "source": [
    "filename_matrix = 'EFIELD_OBWFS_Re_matrix_num_HI_' + str(n_HI)\n",
    "hcipy.write_fits(focus_fieldS_Re, os.path.join(resDir, filename_matrix + '.fits'))\n",
    "print('Efield Real saved to:', os.path.join(resDir, filename_matrix + '.fits'))\n",
    "\n",
    "filename_matrix = 'EFIELD_OBWFS_Im_matrix_num_HI_' + str(n_HI)\n",
    "hcipy.write_fits(focus_fieldS_Im, os.path.join(resDir, filename_matrix + '.fits'))\n",
    "print('Efield Imag saved to:', os.path.join(resDir, filename_matrix + '.fits'))"
   ]
  },
  {
   "cell_type": "code",
   "execution_count": null,
   "id": "e57135c0",
   "metadata": {},
   "outputs": [],
   "source": [
    "filename_matrix = 'EFIELD_OBWFS_Re_matrix_num_HI_' + str(n_HI)+'.fits'\n",
    "G_OBWFS_real = fits.getdata(os.path.join(overall_dir, 'matrix_numerical', filename_matrix))\n",
    "filename_matrix = 'EFIELD_OBWFS_Im_matrix_num_HI_' + str(n_HI)+'.fits'\n",
    "G_OBWFS_imag =  fits.getdata(os.path.join(overall_dir, 'matrix_numerical', filename_matrix))"
   ]
  },
  {
   "cell_type": "code",
   "execution_count": null,
   "id": "30a7538a",
   "metadata": {},
   "outputs": [],
   "source": [
    "G_OBWFS= np.zeros([N_pup_z*N_pup_z,2,n_HI])\n",
    "for pp in range(0, n_HI):\n",
    "    G_OBWFS[:,0,pp] = G_OBWFS_real[pp]*z_pup_downsample - Efield_ref_OBWFS.real\n",
    "    G_OBWFS[:,1,pp] = G_OBWFS_imag[pp]*z_pup_downsample - Efield_ref_OBWFS.imag"
   ]
  },
  {
   "cell_type": "markdown",
   "id": "37416231",
   "metadata": {},
   "source": [
    "###  close loop batch estimation algorithm"
   ]
  },
  {
   "cell_type": "code",
   "execution_count": null,
   "id": "358a3cdb",
   "metadata": {},
   "outputs": [],
   "source": [
    "def req_closedloop_calc_batch(Gcoro, Gsensor, E0coro, E0sensor, Dcoro, Dsensor, t_exp, flux, Q, Niter, dh_mask, norm):\n",
    "    P = np.zeros(Q.shape)  # WFE modes covariance estimate\n",
    "    r = Gsensor.shape[2]\n",
    "    N = Gsensor.shape[0]\n",
    "    N_img = Gcoro.shape[0]\n",
    "    c = 1\n",
    "    # Iterations of ALGORITHM 1\n",
    "    contrast_hist = np.zeros(Niter)\n",
    "    intensity_WFS_hist = np.zeros(Niter)\n",
    "    cal_I_hist = np.zeros(Niter)\n",
    "    eps_hist = np.zeros([Niter, r])\n",
    "    averaged_hist = np.zeros(Niter)\n",
    "    contrasts = []\n",
    "    for pp in range(Niter):\n",
    "        eps = np.random.multivariate_normal(np.zeros(r), P + Q * t_exp).reshape((1, 1, r))  # random modes\n",
    "        G_eps = np.sum(Gsensor * eps, axis=2).reshape((N, 1, 2 * c)) + E0sensor  # electric field\n",
    "        G_eps_squared = np.sum(G_eps * G_eps, axis=2, keepdims=True)\n",
    "        G_eps_G = np.matmul(G_eps, Gsensor)\n",
    "        G_eps_G_scaled = G_eps_G / np.sqrt(G_eps_squared + Dsensor / flux / t_exp)  # trick to save RAM\n",
    "        cal_I = 4 * flux * t_exp * np.einsum(\"ijk,ijl->kl\", G_eps_G_scaled, G_eps_G_scaled)  # information matrix\n",
    "        #         P = np.linalg.inv(np.linalg.inv(P+Q*t_exp/2) + cal_I)\n",
    "        P = np.linalg.pinv(cal_I)\n",
    "\n",
    "        # Coronagraph\n",
    "        G_eps_coron = np.sum(Gcoro * eps, axis=2).reshape((N_img, 1, 2 * c)) + E0coro\n",
    "        G_eps_coron_squared = np.sum(G_eps_coron * G_eps_coron, axis=2, keepdims=True)\n",
    "        intensity = G_eps_coron_squared * flux * t_exp + Dcoro\n",
    "\n",
    "        # Wavefront sensor\n",
    "        intensity_WFS = G_eps_squared * flux * t_exp + Dsensor\n",
    "\n",
    "        # Archive\n",
    "        test_DH0 = intensity[:, 0, 0] * luvoir.dh_mask\n",
    "        test_DH = np.mean(test_DH0[np.where(test_DH0 != 0)])\n",
    "        contrasts.append(test_DH / flux / t_exp / norm)\n",
    "        intensity_WFS_hist[pp] = np.sum(intensity_WFS) / flux\n",
    "        cal_I_hist[pp] = np.mean(cal_I) / flux\n",
    "        eps_hist[pp] = eps\n",
    "        averaged_hist[pp] = np.mean(contrasts)\n",
    "    #         print(\"est. contrast\", np.mean(contrasts))\n",
    "    #         print(\"est. contrast\", np.mean(contrasts))\n",
    "\n",
    "    outputs = {'intensity_WFS_hist': intensity_WFS_hist,\n",
    "               'cal_I_hist': cal_I_hist,\n",
    "               'eps_hist': eps_hist,\n",
    "               'averaged_hist': averaged_hist,\n",
    "               'contrasts': contrasts}\n",
    "\n",
    "    return outputs\n"
   ]
  },
  {
   "cell_type": "code",
   "execution_count": null,
   "id": "a22d5ff0",
   "metadata": {},
   "outputs": [],
   "source": [
    "flux = Nph\n",
    "Q_HI = np.diag(np.asarray(mu_map_HI**2))\n",
    "\n",
    "Ntimes = 20\n",
    "TimeMinus = -2\n",
    "TimePlus = 5.5 #3.5\n",
    "Nwavescale = 8\n",
    "Nflux = 3"
   ]
  },
  {
   "cell_type": "code",
   "execution_count": null,
   "id": "946049bc",
   "metadata": {
    "scrolled": true
   },
   "outputs": [],
   "source": [
    "res = np.zeros([Ntimes, Nwavescale, Nflux, 1])\n",
    "result_wf_test =[]\n",
    "\n",
    "#i=-1\n",
    "for wavescale in range (1,15,2):\n",
    "    #i=i+1\n",
    "    print('Harris modes with batch OBWFS and noise %f'% wavescale, \"i\",i)  \n",
    "    niter = 10\n",
    "    timer1 = time.time()\n",
    "    StarMag = 0.0\n",
    "    #j=-1\n",
    "    for tscale in np.logspace(TimeMinus, TimePlus, Ntimes):\n",
    "        j=j+1\n",
    "        Starfactor = 10**(-StarMag/2.5)\n",
    "        print(tscale)\n",
    "        tmp0 = req_closedloop_calc_batch(G_coron_HI, G_OBWFS, E0_coron, E0_OBWFS, dark_current+CIC/tscale,\n",
    "                                                 dark_current+CIC/tscale, tscale, flux*Starfactor, 0.0001*wavescale**2*Q_HI,\n",
    "                                                 niter, luvoir.dh_mask, norm)    \n",
    "        tmp1 = tmp0['averaged_hist']\n",
    "        n_tmp1 = len(tmp1)\n",
    "        result_wf_test.append(tmp1[n_tmp1-1])\n"
   ]
  },
  {
   "cell_type": "code",
   "execution_count": null,
   "id": "6bbbd582",
   "metadata": {
    "scrolled": false
   },
   "outputs": [],
   "source": [
    "delta_wf = []\n",
    "for wavescale in range (1,15,2):\n",
    "    wf = 1e3*np.sqrt(0.0001*wavescale**2)\n",
    "    delta_wf.append(wf)\n",
    "\n",
    "texp = np.logspace(TimeMinus, TimePlus, Ntimes)\n",
    "\n",
    "font = {'family': 'serif','color' : 'black','weight': 'normal','size'  :  20}\n",
    "plt.figure(figsize =(15,10))\n",
    "\n",
    "plt.title('Target contrast = %s, Vmag= %s'%(c_target, Vmag),fontdict=font)\n",
    "plt.plot(texp,result_wf_test[0:20]-contrast_floor, label=r'$\\Delta_{wf}= %d\\ pm$'%(delta_wf[0]))\n",
    "plt.plot(texp,result_wf_test[20:40]-contrast_floor, label=r'$\\Delta_{wf}=%d\\ pm$'%(delta_wf[1]))\n",
    "plt.plot(texp,result_wf_test[40:60]-contrast_floor, label=r'$\\Delta_{wf}=%d\\ pm$'%(delta_wf[2]))\n",
    "plt.plot(texp,result_wf_test[60:80]-contrast_floor, label=r'$\\Delta_{wf}=%d\\ pm$'%(delta_wf[3]))\n",
    "plt.plot(texp,result_wf_test[80:100]-contrast_floor, label=r'$\\Delta_{wf}=%d\\ pm$'%(delta_wf[4]))\n",
    "plt.plot(texp,result_wf_test[100:120]-contrast_floor, label=r'$\\Delta_{wf}=%d\\ pm$'%(delta_wf[5]))\n",
    "plt.plot(texp,result_wf_test[120:140]-contrast_floor, label=r'$\\Delta_{wf}=%d\\ pm$'%(delta_wf[6]))\n",
    "plt.xlabel(\"$t_{WFS}$ in secs\",fontsize=20)\n",
    "plt.ylabel(\"$\\Delta$ contrast\",fontsize=20)\n",
    "plt.yscale('log')\n",
    "plt.xscale('log')\n",
    "plt.legend(loc = 'upper center',fontsize=20)\n",
    "plt.tick_params(top=False, bottom=True, left=True, \n",
    "                right=True,labelleft=True, labelbottom=True,\n",
    "                labelsize=20)\n",
    "plt.tick_params(axis='both',which='major',length=10, width=2)\n",
    "plt.tick_params(axis='both',which='minor',length=6, width=2)\n",
    "plt.grid()\n",
    "#plt.savefig('/Users/asahoo/Documents/ultra/temp_plots/bulk2_cont_wf.png')\n",
    "plt.show()"
   ]
  },
  {
   "cell_type": "code",
   "execution_count": null,
   "id": "df1f959b",
   "metadata": {},
   "outputs": [],
   "source": [
    "n_fourier = 3\n",
    "fourier_grid = hcipy.make_pupil_grid(dims=n_fourier, diameter=n_fourier)\n",
    "fourier_basis = hcipy.mode_basis.make_fourier_basis(luvoir.pupil_grid, fourier_grid, sort_by_energy=True)\n",
    "print(len(fourier_basis))\n",
    "#ripple_mirror = hcipy.optics.DeformableMirror(fourier_basis) #wavefront"
   ]
  },
  {
   "cell_type": "code",
   "execution_count": null,
   "id": "d336e38d",
   "metadata": {},
   "outputs": [],
   "source": [
    "# luvoir.create_ripple_mirror(5)\n",
    "# n_HI = luvoir.ripple_mirror.num_actuators\n",
    "# HI_modes = np.zeros(n_HI)\n",
    "# HI_modes[0] = nm_aber/2\n",
    "# luvoir.ripple_mirror.actuators = HI_modes"
   ]
  },
  {
   "cell_type": "code",
   "execution_count": null,
   "id": "1a517bb3",
   "metadata": {},
   "outputs": [],
   "source": [
    "# for i in range(0, n_HI):\n",
    "#     HI_modes = np.zeros(n_HI)\n",
    "#     HI_modes[i] = nm_aber/2\n",
    "#     luvoir.ripple_mirror.actuators = HI_modes\n",
    "    \n",
    "#     plt.figure()\n",
    "#     hcipy.imshow_field(luvoir.ripple_mirror.surface, mask=luvoir.aperture)\n",
    "#     plt.colorbar()\n",
    "#     figname = 'poke_'\n",
    "#     plt.savefig(os.path.join(resDir, figname+ '%d.png') % i)\n",
    "#     plt.show()\n",
    "    "
   ]
  },
  {
   "cell_type": "code",
   "execution_count": null,
   "id": "7ed6c7b4",
   "metadata": {},
   "outputs": [],
   "source": [
    "evecs.shape?"
   ]
  },
  {
   "cell_type": "code",
   "execution_count": null,
   "id": "bae0d2ea",
   "metadata": {},
   "outputs": [],
   "source": [
    "emodes_HI = []\n",
    "eunit = 1e-9\n",
    "for mode in range(len(evals)):\n",
    "    print('Working on mode {}/{}.'.format(mode+1, len(evals)))\n",
    "    HI_coeffs = np.zeros(n_HI)\n",
    "    HI_coeffs = eunit*sorted_evecs[:, mode]/2\n",
    "    luvoir.ripple_mirror.actuators = HI_coeffs\n",
    "    wf_ripples = luvoir.ripple_mirror(luvoir.wf_aper)\n",
    "#     emodes_HI.append(wf_ripples.phase)"
   ]
  },
  {
   "cell_type": "code",
   "execution_count": null,
   "id": "a304a62d",
   "metadata": {},
   "outputs": [],
   "source": [
    "luvoir.ripple_mirror.surface"
   ]
  },
  {
   "cell_type": "markdown",
   "id": "9eeafc7d",
   "metadata": {},
   "source": [
    "### Codeblock to generate .gif file"
   ]
  },
  {
   "cell_type": "code",
   "execution_count": null,
   "id": "0e7c05b5",
   "metadata": {},
   "outputs": [],
   "source": [
    "# for i in range(0, 120):\n",
    "#     print(f'Working on \"bulk\" thermal mode, segment: {i+1}')\n",
    "    \n",
    "#     # Apply calibration aberration to used mode\n",
    "#     harris_mode = np.zeros(n_harris)\n",
    "#     harris_mode[i*5] = (nm_aber)/2 \n",
    "#     luvoir.harris_sm.actuators  = harris_mode\n",
    "    \n",
    "#     plt.figure()\n",
    "#     plt.text(9.6, 7.6, 'm', fontsize = 10)\n",
    "#     hcipy.imshow_field(luvoir.harris_sm.surface, mask=luvoir.aperture, cmap='RdBu')\n",
    "#     cbar = plt.colorbar()\n",
    "#     plt.tight_layout()\n",
    "#     #plt.savefig('/Users/asahoo/Documents/ultra/temp_plots/bulk_2_2_22/poke_%d.png'% i, dpi=165)\n",
    "#     plt.savefig('/Users/asahoo/Documents/ultra/temp_plots/bulk_2_2_22/poke_{0:03}.png'.format(i), dpi=165)\n",
    "    "
   ]
  },
  {
   "cell_type": "code",
   "execution_count": null,
   "id": "bba0b808",
   "metadata": {},
   "outputs": [],
   "source": [
    "# from PIL import Image\n",
    "# import glob\n",
    "# os.chdir(\"/Users/asahoo/Documents/ultra/temp_plots/bulk_2_2_22/\")\n",
    "\n",
    "# imgs = glob.glob(\"/Users/asahoo/Documents/ultra/temp_plots/bulk_2_2_22/*.png\")\n",
    "# imgs.sort()\n",
    "\n",
    "# for i in imgs:\n",
    "#     new_frame = Image.open(i)\n",
    "#     frames.append(new_frame)\n",
    " \n",
    "# # Save into a GIF file that loops forever\n",
    "# frames[0].save('bulk.gif', format='GIF',\n",
    "#                append_images=frames[1:],\n",
    "#                save_all=True,\n",
    "#                duration=100, loop=0)"
   ]
  }
 ],
 "metadata": {
  "kernelspec": {
   "display_name": "Python 3 (ipykernel)",
   "language": "python",
   "name": "python3"
  },
  "language_info": {
   "codemirror_mode": {
    "name": "ipython",
    "version": 3
   },
   "file_extension": ".py",
   "mimetype": "text/x-python",
   "name": "python",
   "nbconvert_exporter": "python",
   "pygments_lexer": "ipython3",
   "version": "3.7.11"
  }
 },
 "nbformat": 4,
 "nbformat_minor": 5
}
