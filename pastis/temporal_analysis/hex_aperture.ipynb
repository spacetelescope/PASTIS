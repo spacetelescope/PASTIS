{
 "cells": [
  {
   "cell_type": "markdown",
   "id": "872db5ce",
   "metadata": {},
   "source": [
    "### For SCDA simulator"
   ]
  },
  {
   "cell_type": "code",
   "execution_count": null,
   "id": "befe96f0",
   "metadata": {},
   "outputs": [],
   "source": [
    "import os\n",
    "os.chdir(\"/Users/asahoo/repos/PASTIS\")\n",
    "import time\n",
    "import hcipy\n",
    "import scipy\n",
    "from scipy.interpolate import griddata\n",
    "import glob\n",
    "import numpy as np\n",
    "from PIL import Image\n",
    "from astropy.io import fits\n",
    "import astropy.units as u\n",
    "import pandas as pd\n",
    "import exoscene.image\n",
    "import exoscene.star\n",
    "import exoscene.planet\n",
    "from exoscene.planet import Planet\n",
    "import matplotlib.pyplot as plt\n",
    "from matplotlib.colors import TwoSlopeNorm\n",
    "import matplotlib.gridspec as gridspec\n",
    "from pastis.temporal_analysis.close_loop_analysis import req_closedloop_calc_batch\n",
    "from matplotlib.colors import LinearSegmentedColormap\n",
    "import matplotlib.ticker as ticker\n",
    "import pastis.util as util  \n",
    "from pastis.config import CONFIG_PASTIS \n",
    "from pastis.e2e_simulators.scda_telescopes import HexRingAPLC"
   ]
  },
  {
   "cell_type": "markdown",
   "id": "8578e6dd",
   "metadata": {},
   "source": [
    "### User define parameters"
   ]
  },
  {
   "cell_type": "code",
   "execution_count": null,
   "id": "d20b9591",
   "metadata": {},
   "outputs": [],
   "source": [
    "# Define input parameters\n",
    "optics_dir = os.path.join(util.find_repo_location(), 'data', 'SCDA')\n",
    "sampling = 4\n",
    "num_rings = 1\n",
    "nm_aber = CONFIG_PASTIS.getfloat('LUVOIR', 'calibration_aberration') * 1e-9\n",
    "z_pup_downsample = CONFIG_PASTIS.getfloat('numerical', 'z_pup_downsample') "
   ]
  },
  {
   "cell_type": "markdown",
   "id": "271d80fd",
   "metadata": {},
   "source": [
    "### Create directory to save your plots"
   ]
  },
  {
   "cell_type": "code",
   "execution_count": null,
   "id": "b6f9964b",
   "metadata": {},
   "outputs": [],
   "source": [
    "data_dir = CONFIG_PASTIS.get('local', 'local_data_path')\n",
    "repo_dir = os.path.join(util.find_repo_location(package='pastis'))\n",
    "\n",
    "overall_dir = util.create_data_path(data_dir, telescope='7hexaplc_design')\n",
    "resDir = os.path.join(overall_dir, 'matrix_numerical')\n",
    "print(resDir)\n",
    "\n",
    "# Create necessary directories if they don't exist yet\n",
    "os.makedirs(resDir, exist_ok=True)"
   ]
  },
  {
   "cell_type": "markdown",
   "id": "eb75d067",
   "metadata": {},
   "source": [
    "### Instantiate HeXRingAPLC"
   ]
  },
  {
   "cell_type": "code",
   "execution_count": null,
   "id": "fc398e66",
   "metadata": {},
   "outputs": [],
   "source": [
    "tel = HexRingAPLC(optics_dir, num_rings, sampling)"
   ]
  },
  {
   "cell_type": "markdown",
   "id": "bb55e1b9",
   "metadata": {},
   "source": [
    "### Create deformable mirror"
   ]
  },
  {
   "cell_type": "code",
   "execution_count": null,
   "id": "4da7e9d8",
   "metadata": {},
   "outputs": [],
   "source": [
    "filepath = CONFIG_PASTIS.get('LUVOIR', 'harris_data_path')\n",
    "pad_orientation = np.pi/2*np.ones(tel.nseg)\n",
    "tel.create_segmented_harris_mirror(filepath,pad_orientation, thermal=True,mechanical=False,other=False) \n",
    "tel.harris_sm "
   ]
  },
  {
   "cell_type": "markdown",
   "id": "7dd08be6",
   "metadata": {},
   "source": [
    "#### get/redefine number of dm actuators and num of thermal modes"
   ]
  },
  {
   "cell_type": "code",
   "execution_count": null,
   "id": "7a54b97c",
   "metadata": {},
   "outputs": [],
   "source": [
    "num_actuators = tel.harris_sm.num_actuators\n",
    "num_modes = 5 #n"
   ]
  },
  {
   "cell_type": "markdown",
   "id": "070d43d4",
   "metadata": {},
   "source": [
    "### Calculate contrast floor for coronagraphic psf without aberration"
   ]
  },
  {
   "cell_type": "code",
   "execution_count": null,
   "id": "e25e5daf",
   "metadata": {},
   "outputs": [],
   "source": [
    "tel.harris_sm.flatten()\n",
    "unaberrated_coro_psf, ref = tel.calc_psf(ref=True, display_intermediate=False, norm_one_photon=True)\n",
    "norm = np.max(ref)\n",
    "\n",
    "dh_intensity = (unaberrated_coro_psf / norm) * tel.dh_mask\n",
    "contrast_floor = np.mean(dh_intensity[np.where(tel.dh_mask != 0)])\n",
    "print(f'contrast floor: {contrast_floor}')"
   ]
  },
  {
   "cell_type": "code",
   "execution_count": null,
   "id": "93eb2802",
   "metadata": {},
   "outputs": [],
   "source": [
    "ideal_coro_psf = np.reshape(unaberrated_coro_psf, [115,115])\n",
    "ideal_psf = np.reshape(ref, [115,115])\n",
    "ind_max = np.unravel_index(np.argmax(np.abs(ideal_psf), axis=None), np.abs(ideal_psf).shape)\n",
    "\n",
    "fits.writeto((os.path.join(resDir, 'ideal_psf.fits')), np.abs(ideal_psf))\n",
    "\n",
    "plt.figure(figsize=(22,9))\n",
    "plt.subplot(1,2,1)\n",
    "plt.title(\"Coronagraphic PSF\", fontsize=25)\n",
    "plt.imshow(np.log10(np.abs(ideal_coro_psf)), cmap='magma')\n",
    "plt.tick_params(axis='both',which='major',length=10, width=2)\n",
    "plt.tick_params(axis='both',direction='in')\n",
    "plt.colorbar()\n",
    "\n",
    "plt.subplot(1,2,2)\n",
    "plt.title(\"PSF without Coronagraph\", fontsize=25)\n",
    "plt.imshow(np.log10(np.abs(ideal_psf)), cmap ='magma')\n",
    "plt.tick_params(axis='both',which='major',length=10, width=2)\n",
    "plt.tick_params(axis='both',direction='out')\n",
    "plt.colorbar()\n",
    "plt.tight_layout()\n",
    "plt.savefig(os.path.join(resDir, 'ideal_coro_psf.png'))"
   ]
  },
  {
   "cell_type": "markdown",
   "id": "b3cd6f6f",
   "metadata": {},
   "source": [
    "### Calculate PASTIS matrix"
   ]
  },
  {
   "cell_type": "code",
   "execution_count": null,
   "id": "d353cd0d",
   "metadata": {},
   "outputs": [],
   "source": [
    "nonaberrated_coro_psf, ref, efield = tel.calc_psf(ref=True, display_intermediate=True, return_intermediate='efield',norm_one_photon=True)\n",
    "Efield_ref = nonaberrated_coro_psf.electric_field"
   ]
  },
  {
   "cell_type": "code",
   "execution_count": null,
   "id": "fb7bca01",
   "metadata": {},
   "outputs": [],
   "source": [
    "print('Generating the E-fields for harris modes in science plane')\n",
    "print(f'Calibration aberration used: {nm_aber} m')\n",
    "\n",
    "start_time = time.time()\n",
    "focus_fieldS = []\n",
    "focus_fieldS_Re = []\n",
    "focus_fieldS_Im = []\n",
    "\n",
    "for pp in range(0, num_actuators):\n",
    "    print(f'Working on mode {pp}/{num_actuators}')\n",
    "    \n",
    "    # Apply calibration aberration to used mode\n",
    "    harris_actuators = np.zeros(num_actuators)\n",
    "    harris_actuators[pp] = 1*(nm_aber)/2 \n",
    "    tel.harris_sm.actuators  = harris_actuators\n",
    "    \n",
    "    # Calculate coronagraphic E-field and add to lists\n",
    "    aberrated_coro_psf, inter = tel.calc_psf(display_intermediate=False, return_intermediate='efield',norm_one_photon=True)\n",
    "    focus_field1 = aberrated_coro_psf\n",
    "    focus_fieldS.append(focus_field1)\n",
    "    focus_fieldS_Re.append(focus_field1.real)\n",
    "    focus_fieldS_Im.append(focus_field1.imag)"
   ]
  },
  {
   "cell_type": "code",
   "execution_count": null,
   "id": "babb00f9",
   "metadata": {},
   "outputs": [],
   "source": [
    "pastis_matrix = np.zeros([num_actuators, num_actuators])   # create empty matrix\n",
    "\n",
    "for i in range(0, num_actuators):\n",
    "    for j in range(0, num_actuators):\n",
    "        test = np.real((focus_fieldS[i].electric_field - Efield_ref ) * np.conj(focus_fieldS[j].electric_field -Efield_ref ))\n",
    "        dh_test = (test / norm) * tel.dh_mask\n",
    "        contrast = np.mean(dh_test[np.where(tel.dh_mask != 0)])\n",
    "        pastis_matrix[i, j] = contrast"
   ]
  },
  {
   "cell_type": "code",
   "execution_count": null,
   "id": "9334b718",
   "metadata": {},
   "outputs": [],
   "source": [
    "clist = [(0.1, 0.6, 1.0), (0.05, 0.05, 0.05), (0.8, 0.5, 0.1)]\n",
    "blue_orange_divergent = LinearSegmentedColormap.from_list(\"custom_blue_orange\", clist)\n",
    "\n",
    "plt.figure(figsize=(10,8))\n",
    "norm_mat = TwoSlopeNorm(vcenter=0)\n",
    "plt.imshow(pastis_matrix, cmap=blue_orange_divergent,norm = norm_mat)\n",
    "plt.title(r\"PASTIS matrix $M$\", fontsize=20)\n",
    "plt.xlabel(\"Mode Index\",fontsize=20)\n",
    "plt.ylabel(\"Mode Index\",fontsize=20)\n",
    "plt.tick_params(labelsize=15)\n",
    "cbar = plt.colorbar(fraction=0.046, pad=0.04)\n",
    "cbar.set_label(r\"in units of ${contrast\\ per\\ {nm}^2}$\",fontsize =15)\n",
    "plt.tight_layout()\n",
    "\n",
    "plt.savefig(os.path.join(resDir, 'pastis_matrix.png'))"
   ]
  },
  {
   "cell_type": "markdown",
   "id": "3d833280",
   "metadata": {},
   "source": [
    "### Save PASTIS matrix and poked efields "
   ]
  },
  {
   "cell_type": "code",
   "execution_count": null,
   "id": "a90e4802",
   "metadata": {},
   "outputs": [],
   "source": [
    "filename_matrix = 'PASTISmatrix_n_harris_' + str(num_actuators)\n",
    "hcipy.write_fits(pastis_matrix, os.path.join(resDir, filename_matrix + '.fits'))\n",
    "print('Matrix saved to:', os.path.join(resDir, filename_matrix + '.fits'))\n",
    "\n",
    "filename_matrix = 'EFIELD_Re_matrix_n_harris_' + str(num_actuators)\n",
    "hcipy.write_fits(focus_fieldS_Re, os.path.join(resDir, filename_matrix + '.fits'))\n",
    "print('Efield Real saved to:', os.path.join(resDir, filename_matrix + '.fits'))\n",
    "\n",
    "\n",
    "filename_matrix = 'EFIELD_Im_matrix_n_harris_' + str(num_actuators)\n",
    "hcipy.write_fits(focus_fieldS_Im, os.path.join(resDir, filename_matrix + '.fits'))\n",
    "print('Efield Imag saved to:', os.path.join(resDir, filename_matrix + '.fits'))\n",
    "\n",
    "end_time = time.time()\n",
    "print('Runtime for harris modes:', end_time - start_time, 'sec =', (end_time - start_time) / 60, 'min')\n",
    "print('Data saved to {}'.format(resDir))"
   ]
  },
  {
   "cell_type": "markdown",
   "id": "06cbdcce",
   "metadata": {},
   "source": [
    "### Eigenvalues and Eigenmodes of PASTIS matrix"
   ]
  },
  {
   "cell_type": "code",
   "execution_count": null,
   "id": "4dafafd3",
   "metadata": {},
   "outputs": [],
   "source": [
    "evals, evecs = np.linalg.eig(pastis_matrix)\n",
    "sorted_evals = np.sort(evals)\n",
    "sorted_indices = np.argsort(evals)\n",
    "sorted_evecs = evecs[:, sorted_indices]"
   ]
  },
  {
   "cell_type": "code",
   "execution_count": null,
   "id": "42e22ddd",
   "metadata": {},
   "outputs": [],
   "source": [
    "plt.figure(figsize=(10, 8))\n",
    "plt.plot(sorted_evals)\n",
    "plt.semilogy()\n",
    "plt.xlabel('Mode Index',fontsize=20)\n",
    "plt.ylabel('Eigenvalues (in units of contrast/'r'wave$^2$)',fontsize=20)\n",
    "plt.tick_params(top=True, bottom=True, left=True, right=True,\n",
    "                labelleft=True, labelbottom=True, labelsize=20)\n",
    "plt.tick_params(axis='both',direction='in')\n",
    "plt.tick_params(axis='both',which='major',length=10, width=2)\n",
    "\n",
    "plt.savefig(os.path.join(resDir, 'eigenvalues.png'))"
   ]
  },
  {
   "cell_type": "code",
   "execution_count": null,
   "id": "8fdd2908",
   "metadata": {},
   "outputs": [],
   "source": [
    "emodes = []\n",
    "eunit = 1e-9\n",
    "for mode in range(len(evals)):\n",
    "    print('Working on mode {}/{}.'.format(mode+1, len(evals)))\n",
    "    \n",
    "    harris_coeffs = eunit*sorted_evecs[:, mode]/2\n",
    "    tel.harris_sm.actuators = harris_coeffs\n",
    "    wf_harris_sm = tel.harris_sm(tel.wf_aper)\n",
    "    emodes.append(wf_harris_sm.phase)"
   ]
  },
  {
   "cell_type": "code",
   "execution_count": null,
   "id": "04af67ac",
   "metadata": {},
   "outputs": [],
   "source": [
    "plt.figure(figsize = (20,15))\n",
    "for i in range (1, 36):\n",
    "    ax = plt.subplot(5,7,i)\n",
    "    hcipy.imshow_field(emodes[i-1])\n",
    "    plt.colorbar()"
   ]
  },
  {
   "cell_type": "code",
   "execution_count": null,
   "id": "3efeb023",
   "metadata": {},
   "outputs": [],
   "source": [
    "c_target_log = -10\n",
    "c_target = 10**(c_target_log)"
   ]
  },
  {
   "cell_type": "code",
   "execution_count": null,
   "id": "72d82ac4",
   "metadata": {},
   "outputs": [],
   "source": [
    "mu_map_harris = np.sqrt(((c_target) / (num_actuators)) / (np.diag(pastis_matrix)))\n",
    "np.savetxt(os.path.join(resDir, 'mu_map_harris_%s.csv'%c_target), mu_map_harris, delimiter=',')"
   ]
  },
  {
   "cell_type": "code",
   "execution_count": null,
   "id": "152e0404",
   "metadata": {},
   "outputs": [],
   "source": [
    "plt.figure(figsize=(20,10))\n",
    "plt.title(\"Modal constraints to achieve a dark hole contrast of \"r\"$10^{%d}$\"%c_target_log, fontsize=30)\n",
    "plt.ylabel(\"Weight per mode (in units of nm)\",fontsize =20)\n",
    "plt.xlabel(\"Mode index\", fontsize=20)\n",
    "plt.tick_params(top=True, bottom=True, left=True, right=True,labelleft=True, labelbottom=True, labelsize=20)\n",
    "plt.plot(mu_map_harris)\n",
    "plt.tight_layout()\n",
    "plt.savefig(os.path.join(resDir, 'mu_map_harris_%s.png'%c_target))"
   ]
  },
  {
   "cell_type": "code",
   "execution_count": null,
   "id": "6ac39adb",
   "metadata": {},
   "outputs": [],
   "source": [
    "sigma = np.sqrt(((c_target)) / (num_actuators * sorted_evals))\n",
    "plt.figure(figsize=(15,8))\n",
    "plt.title(\"Max mode contribution(s) from the static-contrast target %s and eigen values\"%c_target, fontsize=20)\n",
    "plt.ylabel(r\"$\\tilde{b}_{p}$ (in units of nm)\",fontsize =20)\n",
    "plt.xlabel(\"Mode index\", fontsize=20)\n",
    "plt.tick_params(top=True, bottom=True, left=True, right=True,labelleft=True, labelbottom=True, labelsize=20)\n",
    "plt.tick_params(axis='both',which='major',length=10, width=2)\n",
    "plt.tick_params(axis='both',direction='in')\n",
    "plt.plot(sigma)\n",
    "plt.savefig(os.path.join(resDir, 'sigma_%s.png'%c_target))"
   ]
  },
  {
   "cell_type": "code",
   "execution_count": null,
   "id": "513d0c33",
   "metadata": {},
   "outputs": [],
   "source": [
    "cont_cum_pastis = []\n",
    "for maxmode in range(sorted_evecs.shape[0]): \n",
    "    aber = np.nansum(sorted_evecs[:, :maxmode+1] * sigma[:maxmode+1], axis=1)\n",
    "    aber *= u.nm\n",
    "    contrast_matrix = util.pastis_contrast(aber, pastis_matrix) + contrast_floor\n",
    "    cont_cum_pastis.append(contrast_matrix)\n",
    "    \n",
    "plt.figure(figsize=(10,10))\n",
    "plt.plot(cont_cum_pastis)\n",
    "plt.xlabel(\"Mode Index\", fontsize =20)\n",
    "plt.ylabel(\"Cumulative contrast\", fontsize =20)\n",
    "plt.tick_params(top=True, bottom=True, left=True, right=True,labelleft=True, labelbottom=True, labelsize=20)\n",
    "plt.tick_params(axis='both',which='major',length=10, width=2)\n",
    "plt.tick_params(axis='both',direction='in')\n",
    "plt.tight_layout()\n",
    "plt.savefig(os.path.join(resDir, 'cont_cum_pastis_%s.png'% c_target))"
   ]
  },
  {
   "cell_type": "code",
   "execution_count": null,
   "id": "2bd7b71b",
   "metadata": {},
   "outputs": [],
   "source": [
    "harris_coeffs_numaps = np.zeros([num_modes, num_actuators])\n",
    "\n",
    "for qq in range(num_modes):\n",
    "    harris_coeffs_tmp = np.zeros([num_actuators]) \n",
    "    for kk in range(tel.nseg):\n",
    "        harris_coeffs_tmp[qq+(kk)*num_modes] = mu_map_harris[qq+(kk)*num_modes] #arranged per modal basis\n",
    "    harris_coeffs_numaps[qq] = harris_coeffs_tmp #arragned into 5 groups of 35 elements and in units of nm\n",
    "\n",
    "nu_maps = []\n",
    "for qq in range(num_modes):\n",
    "    harris_coeffs = harris_coeffs_numaps[qq] #in units of nm\n",
    "    tel.harris_sm.actuators = harris_coeffs*nm_aber/2 # in units of m\n",
    "    nu_maps.append(tel.harris_sm.surface) #in units of m, each nu_map is now of the order of 1e-9 m "
   ]
  },
  {
   "cell_type": "markdown",
   "id": "b0dad850",
   "metadata": {},
   "source": [
    "### Tolerance map in units of m"
   ]
  },
  {
   "cell_type": "code",
   "execution_count": null,
   "id": "a35bd953",
   "metadata": {},
   "outputs": [],
   "source": [
    "plt.figure(figsize=(40,20))\n",
    "ax1 = plt.subplot2grid(shape=(2,6), loc=(0,0), colspan=2)\n",
    "plt.title(\"Segment Level 1mK Faceplates Silvered\", fontsize=30)\n",
    "hcipy.imshow_field((nu_maps[0])*1e6, cmap = 'RdBu') #nu_map is already in 1e-9 m\n",
    "plt.tick_params(top=False, bottom=False, left=False, right=False,labelleft=False, labelbottom=False)\n",
    "cbar = plt.colorbar()\n",
    "cbar.ax.tick_params(labelsize=30)\n",
    "cbar.set_label(\"$\\mu m$\",fontsize =30)\n",
    "\n",
    "ax2 = plt.subplot2grid((2,6), (0,2), colspan=2)\n",
    "plt.title(\"Segment Level 1mK bulk\",fontsize=30)\n",
    "hcipy.imshow_field((nu_maps[1])*1e6,cmap = 'RdBu')\n",
    "plt.tick_params(top=False, bottom=False, left=False, right=False,labelleft=False, labelbottom=False)\n",
    "cbar = plt.colorbar()\n",
    "cbar.ax.tick_params(labelsize=30)\n",
    "cbar.set_label(\"$\\mu m$\",fontsize =30)\n",
    "\n",
    "ax3 = plt.subplot2grid((2,6), (0,4), colspan=2)\n",
    "plt.title(\"Segment Level 1mK gradiant radial\",fontsize=30)\n",
    "hcipy.imshow_field((nu_maps[2])*1e6,cmap = 'RdBu')\n",
    "plt.tick_params(top=False, bottom=False, left=False, right=False,labelleft=False, labelbottom=False)\n",
    "cbar = plt.colorbar()\n",
    "cbar.ax.tick_params(labelsize=30)\n",
    "cbar.set_label(\"$\\mu m$\",fontsize =30)\n",
    "\n",
    "ax4 = plt.subplot2grid((2,6), (1,1), colspan=2)\n",
    "plt.title(\"Segment Level 1mK gradient X lateral\",fontsize=30)\n",
    "hcipy.imshow_field((nu_maps[3])*1e6,cmap = 'RdBu')\n",
    "plt.tick_params(top=False, bottom=False, left=False, right=False,labelleft=False, labelbottom=False)\n",
    "cbar = plt.colorbar()\n",
    "cbar.ax.tick_params(labelsize=30)\n",
    "cbar.set_label(\"$\\mu m$\",fontsize =30)\n",
    "\n",
    "ax5 = plt.subplot2grid((2,6), (1,3), colspan=2)\n",
    "plt.title(\"Segment Level 1mK gradient Z axial\",fontsize=30)\n",
    "hcipy.imshow_field((nu_maps[4])*1e6,cmap = 'RdBu')\n",
    "plt.tick_params(top=False, bottom=False, left=False, right=False,labelleft=False, labelbottom=False)\n",
    "cbar = plt.colorbar()\n",
    "cbar.ax.tick_params(labelsize=30)\n",
    "cbar.set_label(\"$\\mu m$\",fontsize =30)\n",
    "\n",
    "plt.tight_layout()\n",
    "plt.savefig(os.path.join(resDir, 'stat_mu_maps_um_%s.png'%c_target))"
   ]
  },
  {
   "cell_type": "markdown",
   "id": "15719abd",
   "metadata": {},
   "source": [
    "### Generate Tolerance maps in units of Kelvin"
   ]
  },
  {
   "cell_type": "code",
   "execution_count": null,
   "id": "06ec2d0a",
   "metadata": {},
   "outputs": [],
   "source": [
    "harris_coeffs_table = np.zeros([num_modes, tel.nseg])\n",
    "for qq in range(num_modes):\n",
    "    for kk in range(tel.nseg):\n",
    "        harris_coeffs_table[qq,kk] = mu_map_harris[qq+(kk)*num_modes] #numpy ndarray 120 # in units of nm\n",
    "\n",
    "# Faceplate silvered\n",
    "tel2 = HexRingAPLC(optics_dir, num_rings, sampling)\n",
    "tel2.create_segmented_mirror(1) \n",
    "tel2.sm.actuators =harris_coeffs_table[0]\n",
    "\n",
    "# Bulk\n",
    "tel3 = HexRingAPLC(optics_dir, num_rings, sampling)\n",
    "tel3.create_segmented_mirror(1)\n",
    "tel3.sm.actuators = harris_coeffs_table[1]\n",
    "\n",
    "# Gradient Radial\n",
    "tel4 = HexRingAPLC(optics_dir, num_rings, sampling)\n",
    "tel4.create_segmented_mirror(1)\n",
    "tel4.sm.actuators = harris_coeffs_table[2]\n",
    "\n",
    "# Gradient X Lateral\n",
    "tel5 = HexRingAPLC(optics_dir, num_rings, sampling)\n",
    "tel5.create_segmented_mirror(1)\n",
    "tel5.sm.actuators = harris_coeffs_table[3]\n",
    "\n",
    "# Gradient z axial\n",
    "tel6 = HexRingAPLC(optics_dir, num_rings, sampling)\n",
    "tel6.create_segmented_mirror(1)\n",
    "tel6.sm.actuators = harris_coeffs_table[4]"
   ]
  },
  {
   "cell_type": "code",
   "execution_count": null,
   "id": "5c3ed6de",
   "metadata": {},
   "outputs": [],
   "source": [
    "print(\"Allowable temperature change (in K)\",\"\\n\")\n",
    "print(\"Faceplate silvered: \",np.sqrt(np.mean(np.square(tel2.sm.actuators))))\n",
    "print(\"Bulk: \", np.sqrt(np.mean(np.square(tel3.sm.actuators))))\n",
    "print(\"Gradient Radial:\",np.sqrt(np.mean(np.square(tel4.sm.actuators))))\n",
    "print(\"Gradient X Lateral: \",np.sqrt(np.mean(np.square(tel5.sm.actuators))))\n",
    "print(\"Gradient Z axial: \",np.sqrt(np.mean(np.square(tel6.sm.actuators))))"
   ]
  },
  {
   "cell_type": "code",
   "execution_count": null,
   "id": "cfea97f8",
   "metadata": {},
   "outputs": [],
   "source": [
    "plt.figure(figsize=(40,20))\n",
    "ax1 = plt.subplot2grid(shape=(2,6), loc=(0,0), colspan=2)\n",
    "plt.title(\"Faceplates Silvered\", fontsize=30)\n",
    "hcipy.imshow_field((tel2.sm.surface), cmap = 'RdBu')\n",
    "plt.tick_params(top=False, bottom=False, left=False, right=False,labelleft=False, labelbottom=False)\n",
    "cbar = plt.colorbar()\n",
    "cbar.ax.tick_params(labelsize=30)\n",
    "cbar.set_label(\"K\",fontsize =30)\n",
    "\n",
    "ax2 = plt.subplot2grid((2,6), (0,2), colspan=2)\n",
    "plt.title(\"Bulk\",fontsize=30)\n",
    "hcipy.imshow_field((tel3.sm.surface), cmap = 'RdBu')\n",
    "plt.tick_params(top=False, bottom=False, left=False, right=False,labelleft=False, labelbottom=False)\n",
    "cbar = plt.colorbar()\n",
    "cbar.ax.tick_params(labelsize=30)\n",
    "cbar.set_label(\"K\",fontsize =30)\n",
    "\n",
    "ax3 = plt.subplot2grid((2,6), (0,4), colspan=2)\n",
    "plt.title(\"Gradiant Radial\",fontsize=30)\n",
    "hcipy.imshow_field((tel4.sm.surface), cmap = 'RdBu')\n",
    "plt.tick_params(top=False, bottom=False, left=False, right=False,labelleft=False, labelbottom=False)\n",
    "cbar = plt.colorbar()\n",
    "cbar.ax.tick_params(labelsize=30)\n",
    "cbar.set_label(\"K\",fontsize =30)\n",
    "\n",
    "ax4 = plt.subplot2grid((2,6), (1,1), colspan=2)\n",
    "plt.title(\"Gradient X lateral\",fontsize=30)\n",
    "hcipy.imshow_field((tel5.sm.surface),cmap = 'RdBu')\n",
    "plt.tick_params(top=False, bottom=False, left=False, right=False,labelleft=False, labelbottom=False)\n",
    "cbar = plt.colorbar()\n",
    "cbar.ax.tick_params(labelsize=30)\n",
    "cbar.set_label(\"K\",fontsize =30)\n",
    "\n",
    "ax5 = plt.subplot2grid((2,6), (1,3), colspan=2)\n",
    "plt.title(\"Gradient Z axial\",fontsize=30)\n",
    "hcipy.imshow_field((tel6.sm.surface),cmap = 'RdBu')\n",
    "plt.tick_params(top=False, bottom=False, left=False, right=False,labelleft=False, labelbottom=False)\n",
    "cbar = plt.colorbar()\n",
    "cbar.ax.tick_params(labelsize=30)\n",
    "cbar.set_label(\"K\",fontsize =30)\n",
    "\n",
    "plt.tight_layout()\n",
    "plt.savefig(os.path.join(resDir, 'mu_map_K_%s.png'%c_target))"
   ]
  },
  {
   "cell_type": "markdown",
   "id": "1011aa38",
   "metadata": {},
   "source": [
    "### Temporal Ananlysis"
   ]
  },
  {
   "cell_type": "code",
   "execution_count": null,
   "id": "ec58bc4f",
   "metadata": {},
   "outputs": [],
   "source": [
    "npup = int(np.sqrt(tel.pupil_grid.x.shape[0]))\n",
    "nimg = int(np.sqrt(tel.focal_det.x.shape[0]))\n",
    "\n",
    "sptype = 'A0V' # Put this on config\n",
    "Vmag = 5.0 # Put this in loop\n",
    "minlam = 500 * u.nanometer # Put this on config\n",
    "maxlam = 600 * u.nanometer # Put this on config\n",
    "dark_current = 0   #put this on config\n",
    "CIC = 0            #electrons per sec #put this on config\n",
    "star_flux = exoscene.star.bpgs_spectype_to_photonrate(spectype=sptype, Vmag=Vmag, \n",
    "                                                      minlam=minlam.value, maxlam=maxlam.value)\n",
    "Nph = star_flux.value*15**2*np.sum(tel.apodizer**2) / npup**2"
   ]
  },
  {
   "cell_type": "code",
   "execution_count": null,
   "id": "33e5e74b",
   "metadata": {},
   "outputs": [],
   "source": [
    "tel.harris_sm.flatten()\n",
    "nonaberrated_coro_psf, refshit,inter_ref = tel.calc_psf(ref=True, display_intermediate=False, \n",
    "                                                        return_intermediate='efield',norm_one_photon=True)\n",
    "Efield_ref = nonaberrated_coro_psf.electric_field"
   ]
  },
  {
   "cell_type": "markdown",
   "id": "2075e0a1",
   "metadata": {},
   "source": [
    "### out-of-band reference electric field seen by out-of-band wavefront sensor"
   ]
  },
  {
   "cell_type": "code",
   "execution_count": null,
   "id": "b276e39b",
   "metadata": {},
   "outputs": [],
   "source": [
    "tel.harris_sm.flatten()\n",
    "\n",
    "harris_ref2 = tel.calc_out_of_band_wfs(norm_one_photon=True)\n",
    "harris_ref2_sub_real = hcipy.field.subsample_field(harris_ref2.real, 8, statistic='mean')\n",
    "harris_ref2_sub_imag = hcipy.field.subsample_field(harris_ref2.imag, 8, statistic='mean')\n",
    "\n",
    "Efield_ref_OBWFS = (harris_ref2_sub_real + 1j*harris_ref2_sub_imag)"
   ]
  },
  {
   "cell_type": "code",
   "execution_count": null,
   "id": "1c698590",
   "metadata": {},
   "outputs": [],
   "source": [
    "E0_OBWFS = np.zeros([128*128,1,2])\n",
    "E0_OBWFS[:,0,0] = Efield_ref_OBWFS.real\n",
    "E0_OBWFS[:,0,1] = Efield_ref_OBWFS.imag"
   ]
  },
  {
   "cell_type": "code",
   "execution_count": null,
   "id": "dac2b6d1",
   "metadata": {},
   "outputs": [],
   "source": [
    "plt.figure(figsize = (20,10))\n",
    "plt.subplot(1,2,1)\n",
    "hcipy.imshow_field(Efield_ref_OBWFS.real, cmap ='RdBu')\n",
    "plt.colorbar()\n",
    "plt.subplot(1,2,2)\n",
    "hcipy.imshow_field(Efield_ref_OBWFS.imag, cmap ='RdBu')\n",
    "plt.colorbar()"
   ]
  },
  {
   "cell_type": "code",
   "execution_count": null,
   "id": "ad2510db",
   "metadata": {},
   "outputs": [],
   "source": [
    "E0_coron = np.zeros([nimg*nimg,1,2])\n",
    "E0_coron[:,0,0] = Efield_ref.real\n",
    "E0_coron[:,0,1] = Efield_ref.imag"
   ]
  },
  {
   "cell_type": "code",
   "execution_count": null,
   "id": "9fd628b8",
   "metadata": {},
   "outputs": [],
   "source": [
    "filename_matrix = 'EFIELD_Re_matrix_n_harris_' + str(num_actuators) + '.fits'\n",
    "G_harris_real = fits.getdata(os.path.join(overall_dir, 'matrix_numerical', filename_matrix))\n",
    "filename_matrix = 'EFIELD_Im_matrix_n_harris_' + str(num_actuators) + '.fits'\n",
    "G_harris_imag = fits.getdata(os.path.join(overall_dir, 'matrix_numerical', filename_matrix))"
   ]
  },
  {
   "cell_type": "code",
   "execution_count": null,
   "id": "23e724b5",
   "metadata": {},
   "outputs": [],
   "source": [
    "G_coron_harris= np.zeros([nimg*nimg,2,num_actuators])\n",
    "for pp in range(0, num_actuators):\n",
    "    G_coron_harris[:,0,pp] = G_harris_real[pp] - Efield_ref.real\n",
    "    G_coron_harris[:,1,pp] = G_harris_imag[pp] - Efield_ref.imag"
   ]
  },
  {
   "cell_type": "code",
   "execution_count": null,
   "id": "46acce29",
   "metadata": {},
   "outputs": [],
   "source": [
    "start_time = time.time()\n",
    "focus_fieldS = []\n",
    "focus_fieldS_Re = []\n",
    "focus_fieldS_Im = []\n",
    "\n",
    "for pp in range(0, num_actuators):\n",
    "    print(pp)\n",
    "    harris_actuators = np.zeros(num_actuators)\n",
    "    harris_actuators[pp] = (nm_aber) / 2\n",
    "    tel.harris_sm.actuators  = harris_actuators\n",
    "    harris_meas = tel.calc_out_of_band_wfs(norm_one_photon=True)\n",
    "    harris_meas_sub_real = hcipy.field.subsample_field(harris_meas.real, 8, statistic='mean')\n",
    "    harris_meas_sub_imag = hcipy.field.subsample_field(harris_meas.imag, 8, statistic='mean')\n",
    "    focus_field1 = harris_meas_sub_real + 1j * harris_meas_sub_imag\n",
    "    focus_fieldS.append(focus_field1)\n",
    "    focus_fieldS_Re.append(focus_field1.real)\n",
    "    focus_fieldS_Im.append(focus_field1.imag)"
   ]
  },
  {
   "cell_type": "code",
   "execution_count": null,
   "id": "7bed0da3",
   "metadata": {},
   "outputs": [],
   "source": [
    "filename_matrix = 'EFIELD_OBWFS_Re_matrix_num_harris_' + str(num_actuators)\n",
    "hcipy.write_fits(focus_fieldS_Re, os.path.join(resDir, filename_matrix + '.fits'))\n",
    "print('Efield Real saved to:', os.path.join(resDir, filename_matrix + '.fits'))\n",
    "\n",
    "filename_matrix = 'EFIELD_OBWFS_Im_matrix_num_harris_' + str(num_actuators)\n",
    "hcipy.write_fits(focus_fieldS_Im, os.path.join(resDir, filename_matrix + '.fits'))\n",
    "print('Efield Imag saved to:', os.path.join(resDir, filename_matrix + '.fits'))"
   ]
  },
  {
   "cell_type": "code",
   "execution_count": null,
   "id": "f4c10c92",
   "metadata": {},
   "outputs": [],
   "source": [
    "filename_matrix = 'EFIELD_OBWFS_Re_matrix_num_harris_' + str(num_actuators)+'.fits'\n",
    "G_OBWFS_real = fits.getdata(os.path.join(overall_dir, 'matrix_numerical', filename_matrix))\n",
    "filename_matrix = 'EFIELD_OBWFS_Im_matrix_num_harris_' + str(num_actuators)+'.fits'\n",
    "G_OBWFS_imag =  fits.getdata(os.path.join(overall_dir, 'matrix_numerical', filename_matrix))"
   ]
  },
  {
   "cell_type": "code",
   "execution_count": null,
   "id": "ec3fbb3c",
   "metadata": {},
   "outputs": [],
   "source": [
    "G_OBWFS= np.zeros([128*128, 2, num_actuators])\n",
    "for pp in range(0, num_actuators):\n",
    "    G_OBWFS[:,0,pp] = G_OBWFS_real[pp]*8 - Efield_ref_OBWFS.real\n",
    "    G_OBWFS[:,1,pp] = G_OBWFS_imag[pp]*8 - Efield_ref_OBWFS.imag"
   ]
  },
  {
   "cell_type": "code",
   "execution_count": null,
   "id": "91167421",
   "metadata": {},
   "outputs": [],
   "source": [
    "# Running a bunch of tests for time series\n",
    "flux = Nph\n",
    "Qharris = np.diag(np.asarray(mu_map_harris**2))\n",
    "\n",
    "Ntimes = 20\n",
    "TimeMinus = -10\n",
    "TimePlus = 5.5 \n",
    "Nwavescale = 8\n",
    "WaveScaleMinus = -2\n",
    "WaveScalePlus = 1\n",
    "Nflux = 3\n",
    "fluxPlus = 10\n",
    "fluxMinus = 0\n",
    "\n",
    "timeVec = np.logspace(TimeMinus,TimePlus,Ntimes)\n",
    "WaveVec = np.logspace(WaveScaleMinus,WaveScalePlus,Nwavescale)\n",
    "fluxVec = np.linspace(fluxMinus,fluxPlus,Nflux) #10**(-fluxVec/2.5)\n",
    "wavescaleVec = np.logspace(WaveScaleMinus,WaveScalePlus,Nwavescale)"
   ]
  },
  {
   "cell_type": "code",
   "execution_count": null,
   "id": "70bd3502",
   "metadata": {},
   "outputs": [],
   "source": [
    "result_mv =[]\n",
    "\n",
    "for StarMag in range (2,7,1):\n",
    "    print('Harris modes closeloop batch estimation, StarMag %f'% StarMag) \n",
    "    wavescale = 1.\n",
    "    niter = 10\n",
    "    timer1 = time.time()\n",
    "    for tscale in np.logspace(TimeMinus, TimePlus, Ntimes):\n",
    "        Starfactor = 10**(-StarMag/2.5)\n",
    "        print(tscale)\n",
    "        tmp0 = req_closedloop_calc_batch(G_coron_harris, G_OBWFS, E0_coron, E0_OBWFS, dark_current+CIC/tscale,dark_current+CIC/tscale, tscale, flux*Starfactor, wavescale**2*Qharris,niter, tel.dh_mask, norm)    \n",
    "        tmp1 = tmp0['averaged_hist']\n",
    "        n_tmp1 = len(tmp1)\n",
    "        result_mv.append(tmp1[n_tmp1-1])\n"
   ]
  },
  {
   "cell_type": "code",
   "execution_count": null,
   "id": "b6a62880",
   "metadata": {},
   "outputs": [],
   "source": [
    "texp = np.logspace(TimeMinus, TimePlus, Ntimes)\n",
    "\n",
    "plt.figure(figsize =(15,10))\n",
    "plt.plot(texp,result_mv[0:20] - contrast_floor, label=r'$m_{v}=2$')\n",
    "plt.plot(texp,result_mv[20:40] - contrast_floor, label=r'$m_{v}=3$')\n",
    "plt.plot(texp,result_mv[40:60] - contrast_floor, label=r'$m_{v}=4$')\n",
    "plt.plot(texp,result_mv[60:80] - contrast_floor, label=r'$m_{v}=5$')\n",
    "plt.plot(texp,result_mv[80:100] - contrast_floor, label=r'$m_{v}=6$')\n",
    "plt.xlabel(\"$t_{WFS}$ in secs\",fontsize=20)\n",
    "plt.ylabel(\"$\\Delta$ contrast\",fontsize=20) \n",
    "plt.yscale('log')\n",
    "plt.xscale('log')\n",
    "plt.legend(loc = 'lower right',fontsize=20)\n",
    "plt.tick_params(top=True, bottom=True, left=True, \n",
    "                right=True,labelleft=True, labelbottom=True,\n",
    "                labelsize=20)\n",
    "plt.tick_params(axis='both',which='major',length=10, width=2)\n",
    "plt.tick_params(axis='both',which='minor',length=6, width=2)\n",
    "plt.grid()\n",
    "plt.show()\n",
    "plt.savefig(os.path.join(resDir, 'cont_mv_%s.png'%c_target))"
   ]
  },
  {
   "cell_type": "code",
   "execution_count": null,
   "id": "e2c93c49",
   "metadata": {},
   "outputs": [],
   "source": [
    "res = np.zeros([Ntimes, Nwavescale, Nflux, 1])\n",
    "result_wf_test =[]\n",
    "\n",
    "for wavescale in range (1,15,2):\n",
    "    print('recurssive close loop batch estimation and wavescale %f'% wavescale)  \n",
    "    niter = 10\n",
    "    timer1 = time.time()\n",
    "    StarMag = 0.0\n",
    "    for tscale in np.logspace(TimeMinus, TimePlus, Ntimes):\n",
    "        Starfactor = 10**(-StarMag/2.5)\n",
    "        print(tscale)\n",
    "        tmp0 = req_closedloop_calc_batch(G_coron_harris, G_OBWFS, E0_coron, E0_OBWFS, dark_current+CIC/tscale,\n",
    "                                                 dark_current+CIC/tscale, tscale, flux*Starfactor, 1000*wavescale**2*Qharris,\n",
    "                                                 niter, tel.dh_mask, norm)    \n",
    "        tmp1 = tmp0['averaged_hist']\n",
    "        n_tmp1 = len(tmp1)\n",
    "        result_wf_test.append(tmp1[n_tmp1-1])"
   ]
  },
  {
   "cell_type": "code",
   "execution_count": null,
   "id": "c7c82210",
   "metadata": {},
   "outputs": [],
   "source": [
    "delta_wf = []\n",
    "for wavescale in range (1,15,2):\n",
    "    wf = 1e3*np.sqrt(1000*wavescale**2) #converting to pm\n",
    "    delta_wf.append(wf)\n",
    "    \n",
    "texp = np.logspace(TimeMinus, TimePlus, Ntimes)\n",
    "font = {'family': 'serif','color' : 'black','weight': 'normal','size'  :  20}\n",
    "\n",
    "plt.figure(figsize =(15,10))\n",
    "plt.title('Target contrast = %s, Vmag= %s'%(c_target, Vmag),fontdict=font)\n",
    "plt.plot(texp,result_wf_test[0:20]-contrast_floor, label=r'$\\Delta_{wf}= %d\\ pm$'%(delta_wf[0]))\n",
    "plt.plot(texp,result_wf_test[20:40]-contrast_floor, label=r'$\\Delta_{wf}=%d\\ pm$'%(delta_wf[1]))\n",
    "plt.plot(texp,result_wf_test[40:60]-contrast_floor, label=r'$\\Delta_{wf}=%d\\ pm$'%(delta_wf[2]))\n",
    "plt.plot(texp,result_wf_test[60:80]-contrast_floor, label=r'$\\Delta_{wf}=%d\\ pm$'%(delta_wf[3]))\n",
    "plt.plot(texp,result_wf_test[80:100]-contrast_floor, label=r'$\\Delta_{wf}=%d\\ pm$'%(delta_wf[4]))\n",
    "plt.plot(texp,result_wf_test[100:120]-contrast_floor, label=r'$\\Delta_{wf}=%d\\ pm$'%(delta_wf[5]))\n",
    "plt.plot(texp,result_wf_test[120:140]-contrast_floor, label=r'$\\Delta_{wf}=%d\\ pm$'%(delta_wf[6]))\n",
    "plt.xlabel(\"$t_{WFS}$ in secs\",fontsize=20)\n",
    "plt.ylabel(\"$\\Delta$ contrast\",fontsize=20)\n",
    "plt.yscale('log')\n",
    "plt.xscale('log')\n",
    "plt.legend(loc = 'upper center',fontsize=20)\n",
    "plt.tick_params(top=True, bottom=True, left=True, \n",
    "                right=True,labelleft=True, labelbottom=True,\n",
    "                labelsize=20)\n",
    "plt.tick_params(axis='both',which='major',length=10, width=2)\n",
    "plt.tick_params(axis='both',which='minor',length=6, width=2)\n",
    "plt.grid()\n",
    "plt.savefig(os.path.join(resDir, 'cont_wf_%s.png'%c_target))\n",
    "plt.show()"
   ]
  },
  {
   "cell_type": "code",
   "execution_count": null,
   "id": "b9ec95df",
   "metadata": {},
   "outputs": [],
   "source": []
  }
 ],
 "metadata": {
  "kernelspec": {
   "display_name": "Python 3 (ipykernel)",
   "language": "python",
   "name": "python3"
  },
  "language_info": {
   "codemirror_mode": {
    "name": "ipython",
    "version": 3
   },
   "file_extension": ".py",
   "mimetype": "text/x-python",
   "name": "python",
   "nbconvert_exporter": "python",
   "pygments_lexer": "ipython3",
   "version": "3.7.11"
  }
 },
 "nbformat": 4,
 "nbformat_minor": 5
}
