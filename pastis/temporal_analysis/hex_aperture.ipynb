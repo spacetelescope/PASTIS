{
 "cells": [
  {
   "cell_type": "markdown",
   "id": "872db5ce",
   "metadata": {},
   "source": [
    "### For SCDA simulator"
   ]
  },
  {
   "cell_type": "code",
   "execution_count": null,
   "id": "befe96f0",
   "metadata": {},
   "outputs": [],
   "source": [
    "import os\n",
    "os.chdir(\"/Users/asahoo/repos/PASTIS\")\n",
    "import time\n",
    "import hcipy\n",
    "import scipy\n",
    "from scipy.interpolate import griddata\n",
    "import glob\n",
    "import numpy as np\n",
    "from PIL import Image\n",
    "from astropy.io import fits\n",
    "import astropy.units as u\n",
    "import pandas as pd\n",
    "import exoscene.image\n",
    "import exoscene.star\n",
    "import exoscene.planet\n",
    "from exoscene.planet import Planet\n",
    "import matplotlib.pyplot as plt\n",
    "from matplotlib.colors import TwoSlopeNorm\n",
    "import matplotlib.gridspec as gridspec\n",
    "from pastis.temporal_analysis.close_loop_analysis import req_closedloop_calc_batch\n",
    "from matplotlib.colors import LinearSegmentedColormap\n",
    "import matplotlib.ticker as ticker\n",
    "import pastis.util as util  \n",
    "from pastis.config import CONFIG_PASTIS \n",
    "from pastis.e2e_simulators.scda_telescopes import HexRingAPLC"
   ]
  },
  {
   "cell_type": "code",
   "execution_count": null,
   "id": "d20b9591",
   "metadata": {},
   "outputs": [],
   "source": [
    "# Define input parameters\n",
    "optics_dir = os.path.join(util.find_repo_location(), 'data', 'SCDA')\n",
    "sampling = 4\n",
    "num_rings = 1"
   ]
  },
  {
   "cell_type": "code",
   "execution_count": null,
   "id": "b6f9964b",
   "metadata": {},
   "outputs": [],
   "source": [
    "data_dir = CONFIG_PASTIS.get('local', 'local_data_path')\n",
    "repo_dir = os.path.join(util.find_repo_location(package='pastis'))\n",
    "\n",
    "overall_dir = util.create_data_path(data_dir, telescope='7hexaplc_design')\n",
    "resDir = os.path.join(overall_dir, 'matrix_numerical')\n",
    "print(resDir)\n",
    "\n",
    "# Create necessary directories if they don't exist yet\n",
    "os.makedirs(resDir, exist_ok=True)"
   ]
  },
  {
   "cell_type": "code",
   "execution_count": null,
   "id": "fc398e66",
   "metadata": {},
   "outputs": [],
   "source": [
    "tel = HexRingAPLC(optics_dir, num_rings, sampling)"
   ]
  },
  {
   "cell_type": "code",
   "execution_count": null,
   "id": "4da7e9d8",
   "metadata": {},
   "outputs": [],
   "source": [
    "filepath = CONFIG_PASTIS.get('LUVOIR', 'harris_data_path')\n",
    "pad_orientation = np.pi/2*np.ones(tel.nseg)"
   ]
  },
  {
   "cell_type": "code",
   "execution_count": null,
   "id": "d02ce641",
   "metadata": {},
   "outputs": [],
   "source": [
    "tel.create_segmented_harris_mirror(filepath,pad_orientation, thermal=True,mechanical=False,other=False) \n",
    "tel.harris_sm "
   ]
  },
  {
   "cell_type": "code",
   "execution_count": null,
   "id": "7a54b97c",
   "metadata": {},
   "outputs": [],
   "source": [
    "num_actuators = tel.harris_sm.num_actuators\n",
    "num_modes = 5 #n"
   ]
  },
  {
   "cell_type": "code",
   "execution_count": null,
   "id": "e25e5daf",
   "metadata": {},
   "outputs": [],
   "source": [
    "tel.harris_sm.flatten()\n",
    "unaberrated_coro_psf, ref = tel.calc_psf(ref=True, display_intermediate=False, norm_one_photon=True)\n",
    "norm = np.max(ref)"
   ]
  },
  {
   "cell_type": "code",
   "execution_count": null,
   "id": "6f126a14",
   "metadata": {},
   "outputs": [],
   "source": [
    "dh_intensity = (unaberrated_coro_psf / norm) * tel.dh_mask\n",
    "contrast_floor = np.mean(dh_intensity[np.where(tel.dh_mask != 0)])\n",
    "print(f'contrast floor: {contrast_floor}')"
   ]
  },
  {
   "cell_type": "code",
   "execution_count": null,
   "id": "93eb2802",
   "metadata": {},
   "outputs": [],
   "source": [
    "# ideal_coro_psf = np.reshape(unaberrated_coro_psf, [115,115])\n",
    "# ideal_psf = np.reshape(ref, [115,115])\n",
    "# ind_max = np.unravel_index(np.argmax(np.abs(ideal_psf), axis=None), np.abs(ideal_psf).shape)\n",
    "\n",
    "#fits.writeto((os.path.join(resDir, 'ideal_psf.fits')), np.abs(ideal_psf))\n",
    "\n",
    "plt.figure(figsize=(22,9))\n",
    "plt.subplot(1,2,1)\n",
    "plt.title(\"Coronagraphic PSF\", fontsize=25)\n",
    "plt.imshow(np.log10(np.abs(ideal_coro_psf)), cmap='magma')\n",
    "plt.tick_params(axis='both',which='major',length=10, width=2)\n",
    "plt.tick_params(axis='both',direction='in')\n",
    "plt.colorbar()\n",
    "\n",
    "plt.subplot(1,2,2)\n",
    "plt.title(\"PSF without Coronagraph\", fontsize=25)\n",
    "plt.imshow(np.log10(np.abs(ideal_psf)), cmap ='magma')\n",
    "plt.tick_params(axis='both',which='major',length=10, width=2)\n",
    "plt.tick_params(axis='both',direction='out')\n",
    "plt.colorbar()\n",
    "plt.tight_layout()\n",
    "plt.savefig(os.path.join(resDir, 'ideal_coro_psf.png'))"
   ]
  },
  {
   "cell_type": "code",
   "execution_count": null,
   "id": "d353cd0d",
   "metadata": {},
   "outputs": [],
   "source": [
    "nonaberrated_coro_psf, ref, efield = tel.calc_psf(ref=True, display_intermediate=True, return_intermediate='efield',norm_one_photon=True)\n",
    "Efield_ref = nonaberrated_coro_psf.electric_field"
   ]
  },
  {
   "cell_type": "code",
   "execution_count": null,
   "id": "fb7bca01",
   "metadata": {},
   "outputs": [],
   "source": [
    "nm_aber = CONFIG_PASTIS.getfloat('LUVOIR', 'calibration_aberration') * 1e-9\n",
    "\n",
    "print('Generating the E-fields for harris modes in science plane')\n",
    "print(f'Calibration aberration used: {nm_aber} m')\n",
    "\n",
    "start_time = time.time()\n",
    "focus_fieldS = []\n",
    "focus_fieldS_Re = []\n",
    "focus_fieldS_Im = []\n",
    "\n",
    "for pp in range(0, num_actuators):\n",
    "    print(f'Working on mode {pp}/{num_actuators}')\n",
    "    \n",
    "    # Apply calibration aberration to used mode\n",
    "    harris_actuators = np.zeros(num_actuators)\n",
    "    harris_actuators[pp] = (nm_aber)/2 \n",
    "    tel.harris_sm.actuators  = harris_actuators\n",
    "    \n",
    "    # Calculate coronagraphic E-field and add to lists\n",
    "    aberrated_coro_psf, inter = tel.calc_psf(display_intermediate=False, return_intermediate='efield',norm_one_photon=True)\n",
    "    focus_field1 = aberrated_coro_psf\n",
    "    focus_fieldS.append(focus_field1)\n",
    "    focus_fieldS_Re.append(focus_field1.real)\n",
    "    focus_fieldS_Im.append(focus_field1.imag)"
   ]
  },
  {
   "cell_type": "code",
   "execution_count": null,
   "id": "babb00f9",
   "metadata": {},
   "outputs": [],
   "source": [
    "pastis_matrix = np.zeros([num_actuators, num_actuators])   # create empty matrix\n",
    "\n",
    "for i in range(0, num_actuators):\n",
    "    for j in range(0, num_actuators):\n",
    "        test = np.real((focus_fieldS[i].electric_field - Efield_ref ) * np.conj(focus_fieldS[j].electric_field -Efield_ref ))\n",
    "        dh_test = (test / norm) * tel.dh_mask\n",
    "        contrast = np.mean(dh_test[np.where(tel.dh_mask != 0)])\n",
    "        pastis_matrix[i, j] = contrast"
   ]
  },
  {
   "cell_type": "code",
   "execution_count": null,
   "id": "9334b718",
   "metadata": {},
   "outputs": [],
   "source": [
    "clist = [(0.1, 0.6, 1.0), (0.05, 0.05, 0.05), (0.8, 0.5, 0.1)]\n",
    "blue_orange_divergent = LinearSegmentedColormap.from_list(\"custom_blue_orange\", clist)\n",
    "\n",
    "plt.figure(figsize=(10,8))\n",
    "#norm_mat = TwoSlopeNorm(vcenter=0,vmin=-0.005*1e-7,  vmax = 0.005*1e-7)\n",
    "plt.imshow(pastis_matrix, cmap=blue_orange_divergent)\n",
    "plt.title(r\"PASTIS matrix $M$\", fontsize=20)\n",
    "plt.xlabel(\"Mode Index\",fontsize=20)\n",
    "plt.ylabel(\"Mode Index\",fontsize=20)\n",
    "plt.tick_params(labelsize=15)\n",
    "cbar = plt.colorbar(fraction=0.046, pad=0.04)\n",
    "cbar.set_label(r\"in units of ${contrast\\ per\\ {nm}^2}$\",fontsize =15)\n",
    "plt.tight_layout()\n",
    "\n",
    "plt.savefig(os.path.join(resDir, 'pastis_matrix.png'))"
   ]
  },
  {
   "cell_type": "code",
   "execution_count": null,
   "id": "a90e4802",
   "metadata": {},
   "outputs": [],
   "source": [
    "filename_matrix = 'PASTISmatrix_n_harris_' + str(num_actuators)\n",
    "hcipy.write_fits(pastis_matrix, os.path.join(resDir, filename_matrix + '.fits'))\n",
    "print('Matrix saved to:', os.path.join(resDir, filename_matrix + '.fits'))\n",
    "\n",
    "filename_matrix = 'EFIELD_Re_matrix_n_harris_' + str(num_actuators)\n",
    "hcipy.write_fits(focus_fieldS_Re, os.path.join(resDir, filename_matrix + '.fits'))\n",
    "print('Efield Real saved to:', os.path.join(resDir, filename_matrix + '.fits'))\n",
    "\n",
    "\n",
    "filename_matrix = 'EFIELD_Im_matrix_n_harris_' + str(num_actuators)\n",
    "hcipy.write_fits(focus_fieldS_Im, os.path.join(resDir, filename_matrix + '.fits'))\n",
    "print('Efield Imag saved to:', os.path.join(resDir, filename_matrix + '.fits'))\n",
    "\n",
    "end_time = time.time()\n",
    "print('Runtime for harris modes:', end_time - start_time, 'sec =', (end_time - start_time) / 60, 'min')\n",
    "print('Data saved to {}'.format(resDir))"
   ]
  },
  {
   "cell_type": "code",
   "execution_count": null,
   "id": "4dafafd3",
   "metadata": {},
   "outputs": [],
   "source": [
    "evals, evecs = np.linalg.eig(pastis_matrix)\n",
    "sorted_evals = np.sort(evals)\n",
    "sorted_indices = np.argsort(evals)\n",
    "sorted_evecs = evecs[:, sorted_indices]"
   ]
  },
  {
   "cell_type": "code",
   "execution_count": null,
   "id": "42e22ddd",
   "metadata": {},
   "outputs": [],
   "source": [
    "plt.figure(figsize=(10, 8))\n",
    "plt.plot(sorted_evals)\n",
    "plt.semilogy()\n",
    "plt.xlabel('Mode Index',fontsize=20)\n",
    "plt.ylabel('Eigenvalues (in units of contrast/'r'wave$^2$)',fontsize=20)\n",
    "plt.tick_params(top=True, bottom=True, left=True, right=True,\n",
    "                labelleft=True, labelbottom=True, labelsize=20)\n",
    "plt.tick_params(axis='both',direction='in')\n",
    "plt.tick_params(axis='both',which='major',length=10, width=2)\n",
    "\n",
    "plt.savefig(os.path.join(resDir, 'eigenvalues.png'))"
   ]
  },
  {
   "cell_type": "code",
   "execution_count": null,
   "id": "8fdd2908",
   "metadata": {},
   "outputs": [],
   "source": [
    "emodes = []\n",
    "eunit = 1e-9\n",
    "for mode in range(len(evals)):\n",
    "    print('Working on mode {}/{}.'.format(mode+1, len(evals)))\n",
    "    \n",
    "    harris_coeffs = eunit*sorted_evecs[:, mode]/2\n",
    "    tel.harris_sm.actuators = harris_coeffs\n",
    "    wf_harris_sm = tel.harris_sm(tel.wf_aper)\n",
    "    emodes.append(wf_harris_sm.phase)"
   ]
  },
  {
   "cell_type": "code",
   "execution_count": null,
   "id": "04af67ac",
   "metadata": {},
   "outputs": [],
   "source": [
    "hcipy.imshow_field(emodes[2])"
   ]
  },
  {
   "cell_type": "code",
   "execution_count": null,
   "id": "fac367fa",
   "metadata": {},
   "outputs": [],
   "source": [
    "harris_actuators = np.zeros(num_actuators)\n",
    "harris_actuators[1] = (nm_aber)/2 \n",
    "tel.harris_sm.actuators  = harris_actuators\n",
    "    \n",
    "# Calculate coronagraphic E-field and add to lists\n",
    "aberrated_coro_psf, inter = tel.calc_psf(display_intermediate=True, return_intermediate='efield',norm_one_photon=True)"
   ]
  },
  {
   "cell_type": "code",
   "execution_count": null,
   "id": "3efeb023",
   "metadata": {},
   "outputs": [],
   "source": []
  }
 ],
 "metadata": {
  "kernelspec": {
   "display_name": "Python 3 (ipykernel)",
   "language": "python",
   "name": "python3"
  },
  "language_info": {
   "codemirror_mode": {
    "name": "ipython",
    "version": 3
   },
   "file_extension": ".py",
   "mimetype": "text/x-python",
   "name": "python",
   "nbconvert_exporter": "python",
   "pygments_lexer": "ipython3",
   "version": "3.7.11"
  }
 },
 "nbformat": 4,
 "nbformat_minor": 5
}
