{
 "cells": [
  {
   "cell_type": "markdown",
   "id": "33896bd4",
   "metadata": {},
   "source": [
    "# This notebook consists of generating both static and temporal segment tolerances using only one/more segment-level zernike aberrations"
   ]
  },
  {
   "cell_type": "markdown",
   "id": "16592558",
   "metadata": {},
   "source": [
    "### Importing necessary python libraries, and PASTIS pre-built functions"
   ]
  },
  {
   "cell_type": "code",
   "execution_count": null,
   "id": "edea9dd0",
   "metadata": {},
   "outputs": [],
   "source": [
    "import os\n",
    "os.chdir(\"/Users/asahoo/repos/PASTIS\")\n",
    "import time\n",
    "from shutil import copy\n",
    "from astropy.io import fits\n",
    "import astropy.units as u\n",
    "import hcipy\n",
    "import numpy as np\n",
    "import pastis.util as util    \n",
    "from pastis.config import CONFIG_PASTIS \n",
    "from pastis.e2e_simulators.luvoir_imaging import LuvoirA_APLC \n",
    "from pastis.e2e_simulators.generic_segmented_telescopes import SegmentedAPLC\n",
    "import matplotlib.pyplot as plt\n",
    "import pandas as pd\n",
    "from scipy.interpolate import griddata\n",
    "import exoscene.image\n",
    "import exoscene.star\n",
    "import exoscene.planet\n",
    "from exoscene.planet import Planet\n",
    "from astropy.io import fits as pf\n",
    "from pastis.analytical_pastis.temporal_analysis import req_closedloop_calc_batch\n",
    "from matplotlib.colors import TwoSlopeNorm\n",
    "import matplotlib.ticker as ticker"
   ]
  },
  {
   "cell_type": "markdown",
   "id": "a22ed350",
   "metadata": {},
   "source": [
    "### Set some initial parameter or call them from config file "
   ]
  },
  {
   "cell_type": "code",
   "execution_count": null,
   "id": "6423b1c9",
   "metadata": {},
   "outputs": [],
   "source": [
    "coronagraph_design = 'small'\n",
    "nb_seg = CONFIG_PASTIS.getint('LUVOIR', 'nb_subapertures')\n",
    "nm_aber = CONFIG_PASTIS.getfloat('LUVOIR', 'calibration_aberration') * 1e-9\n",
    "sampling = CONFIG_PASTIS.getfloat('LUVOIR', 'sampling')"
   ]
  },
  {
   "cell_type": "markdown",
   "id": "7cca830c",
   "metadata": {},
   "source": [
    "### Define and create directory "
   ]
  },
  {
   "cell_type": "code",
   "execution_count": null,
   "id": "e98db950",
   "metadata": {},
   "outputs": [],
   "source": [
    "data_dir = \"/Users/asahoo/Documents/ultra/segment_zernike\"\n",
    "repo_dir = \"/Users/asahoo/repos/PASTIS\"\n",
    "overall_dir = util.create_data_path(data_dir, telescope='luvoir_'+coronagraph_design)\n",
    "resDir = os.path.join(overall_dir, 'matrix_numerical')\n",
    "\n",
    "os.makedirs(resDir, exist_ok=True)"
   ]
  },
  {
   "cell_type": "markdown",
   "id": "ec088671",
   "metadata": {},
   "source": [
    "### Instantiate LUVOIR-A "
   ]
  },
  {
   "cell_type": "code",
   "execution_count": null,
   "id": "fcd9a3f1",
   "metadata": {},
   "outputs": [],
   "source": [
    "optics_input = os.path.join(util.find_repo_location(), CONFIG_PASTIS.get('LUVOIR', 'optics_path_in_repo'))\n",
    "luvoir = LuvoirA_APLC(optics_input, coronagraph_design, sampling)"
   ]
  },
  {
   "cell_type": "markdown",
   "id": "f8433638",
   "metadata": {},
   "source": [
    "### Create segement level defocus mirror "
   ]
  },
  {
   "cell_type": "code",
   "execution_count": null,
   "id": "be767754",
   "metadata": {},
   "outputs": [],
   "source": [
    "luvoir.create_segmented_mirror(5) "
   ]
  },
  {
   "cell_type": "code",
   "execution_count": null,
   "id": "13378a67",
   "metadata": {},
   "outputs": [],
   "source": [
    "luvoir.sm\n",
    "n_MID = luvoir.sm.num_actuators"
   ]
  },
  {
   "cell_type": "markdown",
   "id": "9d64ce06",
   "metadata": {},
   "source": [
    "### Flatten the DM "
   ]
  },
  {
   "cell_type": "code",
   "execution_count": null,
   "id": "0a89d80c",
   "metadata": {},
   "outputs": [],
   "source": [
    "luvoir.sm.flatten()"
   ]
  },
  {
   "cell_type": "markdown",
   "id": "501cbf58",
   "metadata": {},
   "source": [
    "### Calculate the unaberrated coronagraphic PSF"
   ]
  },
  {
   "cell_type": "code",
   "execution_count": null,
   "id": "383a6bf9",
   "metadata": {},
   "outputs": [],
   "source": [
    "unaberrated_coro_psf, ref= luvoir.calc_psf(ref=True, display_intermediate=True, norm_one_photon=True)"
   ]
  },
  {
   "cell_type": "markdown",
   "id": "2b149304",
   "metadata": {},
   "source": [
    "### Calculate peak value of reference psf and static coronagraphic floor "
   ]
  },
  {
   "cell_type": "code",
   "execution_count": null,
   "id": "86ce771f",
   "metadata": {},
   "outputs": [],
   "source": [
    "norm = np.max(ref)\n",
    "dh_intensity = (unaberrated_coro_psf / norm) * luvoir.dh_mask\n",
    "contrast_floor = np.mean(dh_intensity[np.where(luvoir.dh_mask != 0)])\n",
    "print(f'norm: {norm}',f'constrast floor: {contrast_floor}')"
   ]
  },
  {
   "cell_type": "markdown",
   "id": "6736077f",
   "metadata": {},
   "source": [
    "### Poking each segment with a zernike defocus"
   ]
  },
  {
   "cell_type": "code",
   "execution_count": null,
   "id": "5faadc6a",
   "metadata": {},
   "outputs": [],
   "source": [
    "nonaberrated_coro_psf, ref, efield = luvoir.calc_psf(ref=True, display_intermediate=False, return_intermediate='efield',norm_one_photon=True)\n",
    "Efield_ref = nonaberrated_coro_psf.electric_field"
   ]
  },
  {
   "cell_type": "code",
   "execution_count": null,
   "id": "2efa39a3",
   "metadata": {
    "scrolled": true
   },
   "outputs": [],
   "source": [
    "print('Generating the E-fields for harris modes in science plane')\n",
    "print(f'Calibration aberration used: {nm_aber} m')\n",
    "\n",
    "start_time = time.time()\n",
    "focus_fieldS = []\n",
    "focus_fieldS_Re = []\n",
    "focus_fieldS_Im = []\n",
    "\n",
    "for i in range(0, n_MID):\n",
    "    print(f'Working on \"bulk\" thermal mode, segment: {i}')\n",
    "    \n",
    "    # Apply calibration aberration to used mode\n",
    "    sm_mode = np.zeros(n_MID)\n",
    "    #sm_mode[6*i -3] = (nm_aber)/2 \n",
    "    sm_mode[i] = (nm_aber)/2\n",
    "    luvoir.sm.actuators  = sm_mode\n",
    "    # Calculate coronagraphic E-field and add to lists\n",
    "    aberrated_coro_psf, inter = luvoir.calc_psf(display_intermediate=False, return_intermediate='efield',norm_one_photon=True)\n",
    "    focus_field1 = aberrated_coro_psf\n",
    "    focus_fieldS.append(focus_field1)\n",
    "    focus_fieldS_Re.append(focus_field1.real)\n",
    "    focus_fieldS_Im.append(focus_field1.imag)\n",
    "    \n",
    "    "
   ]
  },
  {
   "cell_type": "code",
   "execution_count": null,
   "id": "16d45d13",
   "metadata": {},
   "outputs": [],
   "source": [
    "mat_zernike = np.zeros([n_MID, n_MID])\n",
    "for i in range(0, n_MID):\n",
    "    for j in range(0, n_MID):\n",
    "        test = np.real((focus_fieldS[i].electric_field - Efield_ref) * np.conj(focus_fieldS[j].electric_field - Efield_ref))\n",
    "        dh_test = (test / norm) * luvoir.dh_mask\n",
    "        contrast = np.mean(dh_test[np.where(luvoir.dh_mask != 0)])\n",
    "        #print(contrast)\n",
    "        mat_zernike[i, j] = contrast"
   ]
  },
  {
   "cell_type": "code",
   "execution_count": null,
   "id": "cbc60c1c",
   "metadata": {},
   "outputs": [],
   "source": [
    "from matplotlib.colors import LinearSegmentedColormap\n",
    "clist = [(0.1, 0.6, 1.0), (0.05, 0.05, 0.05), (0.8, 0.5, 0.1)]\n",
    "blue_orange_divergent = LinearSegmentedColormap.from_list(\"custom_blue_orange\", clist)\n",
    "\n",
    "plt.figure(figsize=(10,8))\n",
    "norm_mat = TwoSlopeNorm(vcenter=0, vmin=-1*1e-10, vmax=1*1e-10)                                                         \n",
    "plt.imshow((mat_zernike),cmap=blue_orange_divergent, norm = norm_mat)\n",
    "plt.title(r\"PASTIS matrix $M$ for defocus zernike\", fontsize=20)\n",
    "plt.xlabel(\"Mode Index\",fontsize=20)\n",
    "plt.ylabel(\"Mode Index\",fontsize=20)\n",
    "plt.tick_params(labelsize=15)\n",
    "cbar = plt.colorbar(fraction=0.046, pad=0.04)\n",
    "cbar.set_label(r\"in units of $1/{nm^2}$\",fontsize =15)\n",
    "plt.tight_layout()"
   ]
  },
  {
   "cell_type": "code",
   "execution_count": null,
   "id": "c06847c9",
   "metadata": {},
   "outputs": [],
   "source": [
    "filename_matrix1 = 'PASTISmatrix_n_harris_' + str(n_MID)\n",
    "hcipy.write_fits(mat_zernike, os.path.join(resDir, filename_matrix1 + '.fits'))\n",
    "print('Matrix saved to:', os.path.join(resDir, filename_matrix1 + '.fits','\\n'))\n",
    "\n",
    "filename_matrix2 = 'EFIELD_Re_matrix_n_harris_' + str(n_MID)\n",
    "hcipy.write_fits(focus_fieldS_Re, os.path.join(resDir, filename_matrix2 + '.fits'))\n",
    "print('Efield Real saved to:', os.path.join(resDir, filename_matrix2 + '.fits', '\\n'))\n",
    "\n",
    "filename_matrix3 = 'EFIELD_Im_matrix_n_harris_' + str(n_MID)\n",
    "hcipy.write_fits(focus_fieldS_Im, os.path.join(resDir, filename_matrix3 + '.fits'))\n",
    "print('Efield Imag saved to:', os.path.join(resDir, filename_matrix3 + '.fits','\\n'))"
   ]
  },
  {
   "cell_type": "code",
   "execution_count": null,
   "id": "c8a23f32",
   "metadata": {},
   "outputs": [],
   "source": [
    "evals, evecs = np.linalg.eig(mat_zernike)\n",
    "sorted_evals = np.sort(evals)\n",
    "sorted_indices = np.argsort(evals)\n",
    "sorted_evecs = evecs[:, sorted_indices]"
   ]
  },
  {
   "cell_type": "code",
   "execution_count": null,
   "id": "75b2d9e6",
   "metadata": {},
   "outputs": [],
   "source": [
    "c_target_log = -11\n",
    "c_target = 10**(c_target_log)\n",
    "n_repeat = 20"
   ]
  },
  {
   "cell_type": "code",
   "execution_count": null,
   "id": "103ea331",
   "metadata": {},
   "outputs": [],
   "source": [
    "mu_map_zernike = np.sqrt(((c_target) / (n_MID)) / (np.diag(mat_zernike)))\n",
    "np.savetxt('/Users/asahoo/Documents/ultra/segment_zernike/mu_map_zernike_1e-11.csv', mu_map_zernike, delimiter=',')"
   ]
  },
  {
   "cell_type": "code",
   "execution_count": null,
   "id": "860b0546",
   "metadata": {},
   "outputs": [],
   "source": [
    "z_pup_downsample = CONFIG_PASTIS.getfloat('numerical', 'z_pup_downsample') \n",
    "N_pup_z = int(luvoir.pupil_grid.shape[0] / z_pup_downsample) #N_pup_z = 100,used to define out-of-band efield\n",
    "grid_zernike = hcipy.field.make_pupil_grid(N_pup_z, diameter=luvoir.diam)\n",
    "\n",
    "npup = int(np.sqrt(luvoir.pupil_grid.x.shape[0]))\n",
    "nimg = int(np.sqrt(luvoir.focal_det.x.shape[0]))\n",
    "\n",
    "# Getting the flux together\n",
    "sptype = 'A0V'\n",
    "Vmag = 5.0\n",
    "minlam = 500\n",
    "maxlam = 600 \n",
    "dark_current = 0     \n",
    "CIC = 0            \n",
    "star_flux = exoscene.star.bpgs_spectype_to_photonrate(spectype=sptype, Vmag=Vmag, minlam=minlam, maxlam=maxlam) #ph/s/m^2\n",
    "Nph = star_flux.value*15**2*np.sum(luvoir.apodizer**2) / npup**2"
   ]
  },
  {
   "cell_type": "code",
   "execution_count": null,
   "id": "9e768f86",
   "metadata": {},
   "outputs": [],
   "source": [
    "luvoir.sm.flatten()\n",
    "nonaberrated_coro_psf ,refshit ,inter_ref = luvoir.calc_psf(ref=True, display_intermediate=False, return_intermediate='efield',norm_one_photon=True)\n",
    "Efield_ref = nonaberrated_coro_psf.electric_field"
   ]
  },
  {
   "cell_type": "code",
   "execution_count": null,
   "id": "2a69419b",
   "metadata": {},
   "outputs": [],
   "source": [
    "luvoir.sm.flatten()\n",
    "defocus_ref2 = luvoir.calc_out_of_band_wfs(norm_one_photon=True) #returns wavefront on obwfs detector\n",
    "defocus_ref2_sub_real = hcipy.field.subsample_field(defocus_ref2.real, z_pup_downsample, grid_zernike, statistic='mean')\n",
    "defocus_ref2_sub_imag = hcipy.field.subsample_field(defocus_ref2.imag, z_pup_downsample, grid_zernike, statistic='mean')\n",
    "Efield_ref_OBWFS = (defocus_ref2_sub_real + 1j*defocus_ref2_sub_imag) * z_pup_downsample"
   ]
  },
  {
   "cell_type": "code",
   "execution_count": null,
   "id": "f036e148",
   "metadata": {},
   "outputs": [],
   "source": [
    "nyquist_sampling = 2.\n",
    "\n",
    "# Actual grid for LUVOIR images\n",
    "grid_test = hcipy.make_focal_grid(\n",
    "            luvoir.sampling,\n",
    "            luvoir.imlamD,\n",
    "            pupil_diameter=luvoir.diam,\n",
    "            focal_length=1,\n",
    "            reference_wavelength=luvoir.wvln,\n",
    "        )\n",
    "\n",
    "# Actual grid for LUVOIR images that are nyquist sampled\n",
    "grid_det_subsample = hcipy.make_focal_grid(\n",
    "            nyquist_sampling,\n",
    "            np.floor(luvoir.imlamD),\n",
    "            pupil_diameter=luvoir.diam,\n",
    "            focal_length=1,\n",
    "            reference_wavelength=luvoir.wvln,\n",
    "        )\n",
    "n_nyquist = int(np.sqrt(grid_det_subsample.x.shape[0]))"
   ]
  },
  {
   "cell_type": "code",
   "execution_count": null,
   "id": "0685cb2f",
   "metadata": {},
   "outputs": [],
   "source": [
    "design = 'small'\n",
    "\n",
    "dh_outer_nyquist = hcipy.circular_aperture(2 * luvoir.apod_dict[design]['owa'] * luvoir.lam_over_d)(grid_det_subsample)\n",
    "dh_inner_nyquist = hcipy.circular_aperture(2 * luvoir.apod_dict[design]['iwa'] * luvoir.lam_over_d)(grid_det_subsample)\n",
    "dh_mask_nyquist = (dh_outer_nyquist - dh_inner_nyquist).astype('bool')\n",
    "\n",
    "dh_size = len(np.where(luvoir.dh_mask != 0)[0])\n",
    "dh_size_nyquist = len(np.where(dh_mask_nyquist != 0)[0])\n",
    "dh_index = np.where(luvoir.dh_mask != 0)[0]\n",
    "dh_index_nyquist = np.where(dh_mask_nyquist != 0)[0]"
   ]
  },
  {
   "cell_type": "markdown",
   "id": "1f635248",
   "metadata": {},
   "source": [
    "### Defining reference electric field at obwfs plane"
   ]
  },
  {
   "cell_type": "code",
   "execution_count": null,
   "id": "d3a8b3e1",
   "metadata": {},
   "outputs": [],
   "source": [
    "E0_OBWFS = np.zeros([N_pup_z*N_pup_z,1,2])\n",
    "E0_OBWFS[:,0,0] = Efield_ref_OBWFS.real\n",
    "E0_OBWFS[:,0,1] = Efield_ref_OBWFS.imag"
   ]
  },
  {
   "cell_type": "markdown",
   "id": "55cac353",
   "metadata": {},
   "source": [
    "### Defining coronagraphic reference electric field at the focal plane"
   ]
  },
  {
   "cell_type": "code",
   "execution_count": null,
   "id": "e3b05418",
   "metadata": {},
   "outputs": [],
   "source": [
    "E0_coron = np.zeros([nimg*nimg,1,2])\n",
    "E0_coron[:,0,0] = Efield_ref.real \n",
    "E0_coron[:,0,1] = Efield_ref.imag"
   ]
  },
  {
   "cell_type": "code",
   "execution_count": null,
   "id": "482301ee",
   "metadata": {},
   "outputs": [],
   "source": [
    "filename_matrix2 = 'EFIELD_Re_matrix_n_harris_' + str(n_MID) + '.fits'\n",
    "G_zernike_real = fits.getdata(os.path.join(overall_dir, 'matrix_numerical', filename_matrix2)) \n",
    "filename_matrix3 = 'EFIELD_Im_matrix_n_harris_' + str(n_MID) + '.fits'\n",
    "G_zernike_imag = fits.getdata(os.path.join(overall_dir, 'matrix_numerical', filename_matrix3)) "
   ]
  },
  {
   "cell_type": "markdown",
   "id": "4130d341",
   "metadata": {},
   "source": [
    "### Defining Sensitvity matrix after coronagraph plane/ image plane??"
   ]
  },
  {
   "cell_type": "code",
   "execution_count": null,
   "id": "938ca154",
   "metadata": {},
   "outputs": [],
   "source": [
    "G_coron_zernike= np.zeros([nimg*nimg,2,n_MID])\n",
    "for pp in range(0, n_MID):\n",
    "    G_coron_zernike[:,0,pp] = G_zernike_real[pp] - Efield_ref.real\n",
    "    G_coron_zernike[:,1,pp] = G_zernike_imag[pp] - Efield_ref.imag"
   ]
  },
  {
   "cell_type": "markdown",
   "id": "d196dabd",
   "metadata": {},
   "source": [
    "### Calculating out of band sensitvity matrix or G_OBWFS"
   ]
  },
  {
   "cell_type": "code",
   "execution_count": null,
   "id": "3ccf02ba",
   "metadata": {
    "scrolled": true
   },
   "outputs": [],
   "source": [
    "start_time = time.time()\n",
    "focus_fieldS = []\n",
    "focus_fieldS_Re = []\n",
    "focus_fieldS_Im = []\n",
    "\n",
    "for i in range(1, n_MID):\n",
    "    #print(f'Working on \"defocus\" zernike mode, segment: {i}')\n",
    "    \n",
    "    # Apply calibration aberration to used mode\n",
    "    sm_mode = np.zeros(n_MID)\n",
    "    #sm_mode[6*i-3] = (nm_aber)/2 \n",
    "    sm_mode[i] = (nm_aber)/2\n",
    "    luvoir.sm.actuators  = sm_mode\n",
    "    zernike_meas = luvoir.calc_out_of_band_wfs(norm_one_photon=True)\n",
    "    zernike_meas_sub_real = hcipy.field.subsample_field(zernike_meas.real, z_pup_downsample, grid_zernike, statistic='mean')\n",
    "    zernike_meas_sub_imag = hcipy.field.subsample_field(zernike_meas.imag, z_pup_downsample, grid_zernike, statistic='mean')\n",
    "    focus_field1 = zernike_meas_sub_real + 1j * zernike_meas_sub_imag\n",
    "    focus_fieldS.append(focus_field1)\n",
    "    focus_fieldS_Re.append(focus_field1.real)\n",
    "    focus_fieldS_Im.append(focus_field1.imag)"
   ]
  },
  {
   "cell_type": "code",
   "execution_count": null,
   "id": "89497c8e",
   "metadata": {},
   "outputs": [],
   "source": [
    "filename_matrix = 'EFIELD_OBWFS_Re_matrix_num_harris_' + str(n_MID)\n",
    "hcipy.write_fits(focus_fieldS_Re, os.path.join(resDir, filename_matrix + '.fits'))\n",
    "print('Efield Real saved to:', os.path.join(resDir, filename_matrix + '.fits'))\n",
    "\n",
    "filename_matrix = 'EFIELD_OBWFS_Im_matrix_num_harris_' + str(n_MID)\n",
    "hcipy.write_fits(focus_fieldS_Im, os.path.join(resDir, filename_matrix + '.fits'))\n",
    "print('Efield Imag saved to:', os.path.join(resDir, filename_matrix + '.fits'))"
   ]
  },
  {
   "cell_type": "code",
   "execution_count": null,
   "id": "d34afc82",
   "metadata": {},
   "outputs": [],
   "source": [
    "filename_matrix = 'EFIELD_OBWFS_Re_matrix_num_harris_' + str(n_MID)+'.fits'\n",
    "G_OBWFS_real = fits.getdata(os.path.join(overall_dir, 'matrix_numerical', filename_matrix))\n",
    "filename_matrix = 'EFIELD_OBWFS_Im_matrix_num_harris_' + str(n_MID)+'.fits'\n",
    "G_OBWFS_imag =  fits.getdata(os.path.join(overall_dir, 'matrix_numerical', filename_matrix))"
   ]
  },
  {
   "cell_type": "code",
   "execution_count": null,
   "id": "78206c5f",
   "metadata": {},
   "outputs": [],
   "source": [
    "G_OBWFS= np.zeros([N_pup_z*N_pup_z,2,n_MID])\n",
    "for pp in range(0, n_MID-1):\n",
    "    G_OBWFS[:,0,pp] = G_OBWFS_real[pp]*z_pup_downsample - Efield_ref_OBWFS.real\n",
    "    G_OBWFS[:,1,pp] = G_OBWFS_imag[pp]*z_pup_downsample - Efield_ref_OBWFS.imag"
   ]
  },
  {
   "cell_type": "code",
   "execution_count": null,
   "id": "6ef54c78",
   "metadata": {},
   "outputs": [],
   "source": [
    "flux = Nph\n",
    "Qzernike = np.diag(np.asarray(mu_map_zernike**2))\n",
    "\n",
    "Ntimes = 20\n",
    "TimeMinus = -2\n",
    "TimePlus = 5.5 #3.5\n",
    "Nwavescale = 8\n",
    "Nflux = 3\n",
    "\n",
    "res = np.zeros([Ntimes, Nwavescale, Nflux, 1])\n",
    "result_wf_test =[]\n",
    "\n",
    "#i=-1\n",
    "for wavescale in range (1,15,2):\n",
    "    #i=i+1\n",
    "    print('Harris modes with batch OBWFS and noise %f'% wavescale, \"i\",i)  \n",
    "    niter = 10\n",
    "    timer1 = time.time()\n",
    "    StarMag = 0.0\n",
    "    #j=-1\n",
    "    for tscale in np.logspace(TimeMinus, TimePlus, Ntimes):\n",
    "        j=j+1\n",
    "        Starfactor = 10**(-StarMag/2.5)\n",
    "        print(tscale)\n",
    "        tmp0 = req_closedloop_calc_batch(G_coron_zernike, G_OBWFS, E0_coron, E0_OBWFS, dark_current+CIC/tscale,\n",
    "                                                 dark_current+CIC/tscale, tscale, flux*Starfactor, 0.0001*wavescale**2*Qzernike,\n",
    "                                                 niter, luvoir.dh_mask, norm)    \n",
    "        tmp1 = tmp0['averaged_hist']\n",
    "        n_tmp1 = len(tmp1)\n",
    "        result_wf_test.append(tmp1[n_tmp1-1])"
   ]
  },
  {
   "cell_type": "code",
   "execution_count": null,
   "id": "10588a25",
   "metadata": {},
   "outputs": [],
   "source": [
    "delta_wf = []\n",
    "for wavescale in range (1,15,2):\n",
    "    wf = 1e3*np.sqrt(0.0001*wavescale**2)\n",
    "    delta_wf.append(wf)\n",
    "\n",
    "texp = np.logspace(TimeMinus, TimePlus, Ntimes)\n",
    "\n",
    "font = {'family': 'serif','color' : 'black','weight': 'normal','size'  :  20}\n",
    "plt.figure(figsize =(15,10))\n",
    "\n",
    "plt.title('Target contrast = %s, Vmag= %s'%(c_target, Vmag),fontdict=font)\n",
    "plt.plot(texp,result_wf_test[0:20]-contrast_floor, label=r'$\\Delta_{wf}= %d\\ pm$'%(delta_wf[0]))\n",
    "plt.plot(texp,result_wf_test[20:40]-contrast_floor, label=r'$\\Delta_{wf}=%d\\ pm$'%(delta_wf[1]))\n",
    "plt.plot(texp,result_wf_test[40:60]-contrast_floor, label=r'$\\Delta_{wf}=%d\\ pm$'%(delta_wf[2]))\n",
    "plt.plot(texp,result_wf_test[60:80]-contrast_floor, label=r'$\\Delta_{wf}=%d\\ pm$'%(delta_wf[3]))\n",
    "plt.plot(texp,result_wf_test[80:100]-contrast_floor, label=r'$\\Delta_{wf}=%d\\ pm$'%(delta_wf[4]))\n",
    "plt.plot(texp,result_wf_test[100:120]-contrast_floor, label=r'$\\Delta_{wf}=%d\\ pm$'%(delta_wf[5]))\n",
    "plt.plot(texp,result_wf_test[120:140]-contrast_floor, label=r'$\\Delta_{wf}=%d\\ pm$'%(delta_wf[6]))\n",
    "plt.xlabel(\"$t_{WFS}$ in secs\",fontsize=20)\n",
    "plt.ylabel(\"$\\Delta$ contrast\",fontsize=20)\n",
    "plt.yscale('log')\n",
    "plt.xscale('log')\n",
    "plt.legend(loc = 'upper center',fontsize=20)\n",
    "plt.tick_params(top=False, bottom=True, left=True, \n",
    "                right=True,labelleft=True, labelbottom=True,\n",
    "                labelsize=20)\n",
    "plt.tick_params(axis='both',which='major',length=10, width=2)\n",
    "plt.tick_params(axis='both',which='minor',length=6, width=2)\n",
    "plt.grid()\n",
    "plt.savefig('/Users/asahoo/Documents/ultra/segment_zernike/zernike_cont_wf.png')\n",
    "plt.show()"
   ]
  },
  {
   "cell_type": "markdown",
   "id": "980c28e0",
   "metadata": {},
   "source": [
    "### Codeblock to plot the tolerance maps in pm"
   ]
  },
  {
   "cell_type": "code",
   "execution_count": null,
   "id": "ce185fd7",
   "metadata": {},
   "outputs": [],
   "source": [
    "N_zernike = 5 \n",
    "zernike_coeffs_numaps = np.zeros([N_zernike, n_MID])\n",
    "\n",
    "for qq in range(N_zernike):\n",
    "    zernike_coeffs_tmp = np.zeros([n_MID])\n",
    "    for kk in range(nb_seg):\n",
    "        zernike_coeffs_tmp[qq+(kk)*N_zernike] = mu_map_zernike[qq+(kk)*N_zernike]\n",
    "    zernike_coeffs_numaps[qq] = zernike_coeffs_tmp #arranged 600 elements into 5*120 elements \n",
    "    \n",
    "zernike_coeffs_table = np.zeros([N_zernike, nb_seg])\n",
    "for qq in range(N_zernike):\n",
    "    for kk in range(nb_seg):\n",
    "        zernike_coeffs_table[qq,kk] = mu_map_zernike[qq+(kk)*N_zernike] #numpy ndarray 120\n",
    "\n",
    "nu_maps = []\n",
    "for qq in range(N_zernike):\n",
    "    zernike_coeffs = zernike_coeffs_numaps[qq]\n",
    "    luvoir.sm.actuators = zernike_coeffs*nm_aber/ 2 # m\n",
    "    nu_maps.append(luvoir.sm.surface)"
   ]
  },
  {
   "cell_type": "code",
   "execution_count": null,
   "id": "e27ba3ed",
   "metadata": {},
   "outputs": [],
   "source": [
    "plt.figure(figsize=(40,20))\n",
    "ax1 = plt.subplot2grid(shape=(2,6), loc=(0,0), colspan=2)\n",
    "plt.title(\"Segment Level Piston\", fontsize=30)\n",
    "plot_norm1 = TwoSlopeNorm(vcenter=4, vmin = 0, vmax=8) \n",
    "hcipy.imshow_field((nu_maps[0])*1e12, cmap = 'RdBu', norm = plot_norm1)\n",
    "plt.tick_params(top=False, bottom=False, left=False, right=False,labelleft=False, labelbottom=False)\n",
    "cbar = plt.colorbar()\n",
    "cbar.ax.tick_params(labelsize=30)\n",
    "cbar.set_label(\"pm\",fontsize =30)\n",
    "\n",
    "ax2 = plt.subplot2grid((2,6), (0,2), colspan=2)\n",
    "plt.title(\"Segment Level X-Tilt \",fontsize=30)\n",
    "plot_norm2 = TwoSlopeNorm(vcenter=0, vmin = -5, vmax=5)\n",
    "hcipy.imshow_field((nu_maps[1])*1e12,cmap = 'RdBu',norm = plot_norm2)\n",
    "plt.tick_params(top=False, bottom=False, left=False, right=False,labelleft=False, labelbottom=False)\n",
    "cbar = plt.colorbar()\n",
    "cbar.ax.tick_params(labelsize=30)\n",
    "cbar.set_label(\"pm\",fontsize =30)\n",
    "\n",
    "ax3 = plt.subplot2grid((2,6), (0,4), colspan=2)\n",
    "plt.title(\"Segment Level Y-Tilt \",fontsize=30)\n",
    "plot_norm3 = TwoSlopeNorm(vcenter=0, vmin = -5, vmax=5) \n",
    "hcipy.imshow_field((nu_maps[2])*1e12,cmap = 'RdBu',norm = plot_norm3)\n",
    "plt.tick_params(top=False, bottom=False, left=False, right=False,labelleft=False, labelbottom=False)\n",
    "cbar = plt.colorbar()\n",
    "cbar.ax.tick_params(labelsize=30)\n",
    "cbar.set_label(\"pm\",fontsize =30)\n",
    "\n",
    "ax4 = plt.subplot2grid((2,6), (1,1), colspan=2)\n",
    "plt.title(\"Segment Level Defocus\",fontsize=30)\n",
    "plot_norm4 = TwoSlopeNorm(vcenter=0, vmin = -10, vmax=10) \n",
    "hcipy.imshow_field((nu_maps[3])*1e12,cmap = 'RdBu', norm = plot_norm4)\n",
    "plt.tick_params(top=False, bottom=False, left=False, right=False,labelleft=False, labelbottom=False)\n",
    "cbar = plt.colorbar()\n",
    "cbar.ax.tick_params(labelsize=30)\n",
    "cbar.set_label(\"pm\",fontsize =30)\n",
    "\n",
    "ax5 = plt.subplot2grid((2,6), (1,3), colspan=2)\n",
    "plt.title(\"Segment Level Astigmatism \",fontsize=30)\n",
    "plot_norm5 = TwoSlopeNorm(vcenter=0, vmin = -10, vmax=10)\n",
    "hcipy.imshow_field((nu_maps[4])*1e12,cmap = 'RdBu', norm = plot_norm5)\n",
    "plt.tick_params(top=False, bottom=False, left=False, right=False,labelleft=False, labelbottom=False)\n",
    "cbar = plt.colorbar()\n",
    "cbar.ax.tick_params(labelsize=30)\n",
    "cbar.set_label(\"pm\",fontsize =30)\n",
    "\n",
    "plt.tight_layout()\n",
    "plt.savefig('/Users/asahoo/Documents/ultra/segment_zernike/zernike_mu_map_pm.png')"
   ]
  },
  {
   "cell_type": "markdown",
   "id": "8bb1d8fc",
   "metadata": {},
   "source": [
    "### random uncorrelated noise"
   ]
  },
  {
   "cell_type": "code",
   "execution_count": null,
   "id": "cf233530",
   "metadata": {},
   "outputs": [],
   "source": [
    "luvoir_test = LuvoirA_APLC(optics_input, coronagraph_design, sampling)\n",
    "luvoir_test.create_segmented_mirror(5) \n",
    "luvoir_test.sm"
   ]
  },
  {
   "cell_type": "code",
   "execution_count": null,
   "id": "c1ccbba1",
   "metadata": {},
   "outputs": [],
   "source": []
  },
  {
   "cell_type": "code",
   "execution_count": null,
   "id": "54df55f6",
   "metadata": {},
   "outputs": [],
   "source": [
    "del_contrast = []\n",
    "aberrated_contrast = []\n",
    "rms_wfs = []\n",
    "for i in range(1, 1000):    \n",
    "    sm_mode = np.zeros(n_MID)\n",
    "    sm_mode = np.random.normal(0, zernike_coeffs_numaps[4]*nm_aber, n_MID)\n",
    "    rms = np.sqrt(np.mean(sm_mode**2))*1e12*np.sqrt(5)\n",
    "    luvoir_test.sm.actuators  = sm_mode/2\n",
    "    aberrated_coro_psf_t, inter_t = luvoir_test.calc_psf(display_intermediate=False, return_intermediate='efield',norm_one_photon=True)\n",
    "    focal_int = np.zeros((115,115))\n",
    "    focal_int = np.array(np.reshape(aberrated_coro_psf_t.amplitude,(115,115)))\n",
    "    focal_cont = (np.square(focal_int))/norm\n",
    "    dh_intensity = ((np.square(aberrated_coro_psf_t.amplitude))/ norm) * luvoir_test.dh_mask\n",
    "    contrast_floor_aber = np.mean(dh_intensity[np.where(luvoir_test.dh_mask != 0)])\n",
    "    delta_contrast = contrast_floor_aber-contrast_floor\n",
    "\n",
    "    del_contrast.append(delta_contrast)\n",
    "    aberrated_contrast.append(contrast_floor_aber)\n",
    "    rms_wfs.append(rms)\n",
    "    \n",
    "    print(rms, contrast_floor_aber, delta_contrast)\n",
    "\n",
    "    textstr1 = '\\n'.join((\"RMS (in pm) = %.2f\" % (np.sqrt(np.mean(sm_mode**2))*1e12),))\n",
    "    textstr2 = r'${\\langle c\\rangle}_{DH} = $'+ str(\"{:.2e}\".format(contrast_floor_aber))\n",
    "    textstr3 = r'$\\Delta_{{\\langle c\\rangle}_{DH}} = $'+ str(\"{:.2e}\".format(delta_contrast))\n",
    "\n",
    "    plt.figure(figsize=(24,10))            \n",
    "    ax1=plt.subplot(1,2,1)\n",
    "    plt.title(\"Wavefront\", fontsize =20)\n",
    "    props = dict(boxstyle='round', facecolor='white', alpha=1.0)\n",
    "    props2 = dict(boxstyle='round', facecolor='red', alpha=1.0)\n",
    "    ax1.text(0.01, 0.99, textstr1, transform=ax1.transAxes, fontsize=15,verticalalignment='top', bbox=props)\n",
    "    ax1.text(1.15, 1.01, \"pm\", transform=ax1.transAxes, fontsize=15,verticalalignment='top')\n",
    "    plt_norm = TwoSlopeNorm(vcenter=0, vmin = -0.2, vmax=0.2)\n",
    "    hcipy.imshow_field((inter_t['seg_mirror']).phase*1000, mask=luvoir_test.aperture, cmap='RdBu', norm=plt_norm)\n",
    "    plt.tick_params(top=False, bottom=True, left=True, right=False ,labelleft=True, labelbottom=True, labelsize=15)\n",
    "    plt.tick_params(axis='both',which='major',length=10, width=2)\n",
    "    plt.tick_params(axis='both',which='minor',length=6, width=2)\n",
    "    cbar = plt.colorbar()\n",
    "    cbar.ax.tick_params(labelsize=15)\n",
    "    cbar.set_label(\"pm\",fontsize =20)\n",
    "\n",
    "\n",
    "    ax2 = plt.subplot(1,2,2)\n",
    "    plt.title(\"Coronagraphic PSF\", fontsize =20)\n",
    "    props = dict(boxstyle='round', facecolor='white', alpha=1.0)\n",
    "    ax2.text(0.01, 0.99, textstr2, transform=ax2.transAxes, fontsize=14,verticalalignment='top', bbox=props)\n",
    "    ax2.text(0.01, 0.93, textstr3, transform=ax2.transAxes, fontsize=14,verticalalignment='top', bbox=props)\n",
    "    plt.imshow(np.log10(focal_cont),cmap='magma')\n",
    "    cbar = plt.colorbar(ticks = np.linspace(-14,-2,6,endpoint=False))\n",
    "    cbar.ax.set_yticklabels([r'$10^{-14}$', r'$10^{-12}$', r'$10^{-10}$', \n",
    "                             r'$10^{-8}$', r'$10^{-6}$',r'$10^{-4}$'], fontsize=15)\n",
    "    plt.tick_params(top=False, bottom=True, left=True, right=False ,labelleft=True, labelbottom=True, labelsize=15)\n",
    "    plt.tick_params(axis='both',which='major',length=10, width=2)\n",
    "    plt.tick_params(axis='both',which='minor',length=6, width=2)\n",
    "\n",
    "    #plt.show()\n",
    "    plt.savefig('/Users/asahoo/Documents/ultra/segment_zernike/astigmatism/plot_%d.png'%i)\n",
    "    plt.close()\n",
    "    #pf.writeto('/Users/asahoo/Desktop/data_repos/harris_data/ball_del_06/pupil_%d.fits'%pp,pupil_phase)\n",
    "    \n"
   ]
  },
  {
   "cell_type": "code",
   "execution_count": null,
   "id": "7fc36cf7",
   "metadata": {},
   "outputs": [],
   "source": [
    "import scipy\n",
    "\n",
    "mean = np.sqrt(np.mean((zernike_coeffs_numaps[4]*nm_aber)**2))*1e12*np.sqrt(5)\n",
    "#mean = np.sqrt(np.mean((mu_map_harris*nm_aber)**2))*1e12\n",
    "print(mean)\n",
    "\n",
    "plt.figure(figsize =(45,15))\n",
    "plt.subplot(1,3,1)\n",
    "_, bins, _ = plt.hist(rms_wfs, 100, density=1, alpha=1)\n",
    "mu, sigma = scipy.stats.norm.fit(rms_wfs)\n",
    "best_fit_line = scipy.stats.norm.pdf(bins, mu, sigma)\n",
    "plt.plot(bins, best_fit_line, lw='4',label = r'$\\mu$ =%.2f, $\\sigma$= %.2f'%(mu,sigma))\n",
    "plt.axvline(mean, c='r', ls='-.', lw='3', label='rms = %.2f' %mean)\n",
    "plt.xlabel(\"RMS Wavefront Error (in pm)\", fontsize =20)\n",
    "plt.ylabel(\"Frequency\",fontsize =15)\n",
    "plt.tick_params(axis='both', which='both', length=6, width=2, labelsize=20)\n",
    "plt.legend(fontsize=25)\n",
    "#plt.xlim(0,3)\n",
    "\n",
    "plt.subplot(1,3,2)\n",
    "_, bins, _ = plt.hist(np.log10(aberrated_contrast), 100, density=1, alpha=1)\n",
    "mu, sigma = scipy.stats.norm.fit(np.log10(aberrated_contrast))\n",
    "best_fit_line = scipy.stats.norm.pdf(bins, mu, sigma)\n",
    "plt.plot(bins, best_fit_line, lw='4',label = r'$\\mu$ =%.2f, $\\sigma$= %.2f'%(mu,sigma))\n",
    "#plt.axvline(np.log10(contrast_floor), c='r', ls='-.', lw='3')\n",
    "plt.xlabel(\"Mean contrast in DH\",fontsize =15)\n",
    "plt.ylabel(\"Frequency\",fontsize =15)\n",
    "plt.tick_params(axis='both', which='both', length=6, width=2, labelsize=20)\n",
    "plt.legend(fontsize=25)\n",
    "plt.xlim(-10.37,-10.33)\n",
    "\n",
    "plt.subplot(1,3,3)\n",
    "_, bins, _ = plt.hist(np.log10(del_contrast), 100, density=1, alpha=1)\n",
    "mu, sigma = scipy.stats.norm.fit(np.log10(del_contrast))\n",
    "best_fit_line = scipy.stats.norm.pdf(bins, mu, sigma)\n",
    "plt.plot(bins, best_fit_line, lw='4',label = r'$\\mu$ =%.2f, $\\sigma$= %.2f'%(mu,sigma))\n",
    "#plt.axvline(np.log10(c_target), c='r', ls='-.', lw='3')\n",
    "plt.xlabel(\"Change in contrast in DH\",fontsize =20)\n",
    "plt.tick_params(axis='both', which='both', length=6, width=2, labelsize=20)\n",
    "plt.ylabel(\"Frequency\",fontsize =15)\n",
    "plt.legend(fontsize=25)\n",
    "plt.savefig('/Users/asahoo/Documents/ultra/segment_zernike/hist_astigmatism.png')"
   ]
  },
  {
   "cell_type": "code",
   "execution_count": null,
   "id": "acc8107e",
   "metadata": {},
   "outputs": [],
   "source": [
    "from PIL import Image\n",
    "import glob\n",
    "\n",
    "imgs = glob.glob(\"/Users/asahoo/Documents/ultra/segment_zernike/astigmatism/*.png\")\n",
    "imgs.sort()\n",
    "frames = []\n",
    "\n",
    "for i in imgs:\n",
    "    new_frame = Image.open(i)\n",
    "    frames.append(new_frame)\n",
    "    \n",
    "#Save into a GIF file that loops forever\n",
    "frames[0].save('/Users/asahoo/Documents/ultra/segment_zernike/mu_map_astigmatism.gif', format='GIF',\n",
    "               append_images=frames[1:],\n",
    "               save_all=True,\n",
    "               duration=500, loop=0)"
   ]
  },
  {
   "cell_type": "code",
   "execution_count": null,
   "id": "2fa14b67",
   "metadata": {},
   "outputs": [],
   "source": [
    "# for i in range(1, 121):\n",
    "#     print(f'Working on \"bulk\" thermal mode, segment: {i+1}')\n",
    "    \n",
    "#     # Apply calibration aberration to used mode\n",
    "#     sm_mode = np.zeros(n_MID)\n",
    "#     sm_mode[6*i -3] = (nm_aber)/2 \n",
    "#     luvoir.sm.actuators  = sm_mode\n",
    "    \n",
    "#     plt.figure()\n",
    "#     plt.text(9.6, 7.6, 'm', fontsize = 10)\n",
    "#     hcipy.imshow_field(luvoir.sm.surface, mask=luvoir.aperture, cmap='RdBu')\n",
    "#     cbar = plt.colorbar()\n",
    "#     plt.tight_layout()\n",
    "#     #plt.savefig('/Users/asahoo/Documents/ultra/temp_plots/bulk_2_2_22/poke_%d.png'% i, dpi=165)\n",
    "#     plt.savefig('/Users/asahoo/Documents/ultra/temp_plots/defocus_plots/poke_{0:03}.png'.format(i), dpi=165)"
   ]
  },
  {
   "cell_type": "code",
   "execution_count": null,
   "id": "cbb7b144",
   "metadata": {},
   "outputs": [],
   "source": []
  },
  {
   "cell_type": "code",
   "execution_count": null,
   "id": "4b5a626c",
   "metadata": {},
   "outputs": [],
   "source": []
  },
  {
   "cell_type": "code",
   "execution_count": null,
   "id": "b43909fb",
   "metadata": {},
   "outputs": [],
   "source": []
  }
 ],
 "metadata": {
  "kernelspec": {
   "display_name": "Python 3 (ipykernel)",
   "language": "python",
   "name": "python3"
  },
  "language_info": {
   "codemirror_mode": {
    "name": "ipython",
    "version": 3
   },
   "file_extension": ".py",
   "mimetype": "text/x-python",
   "name": "python",
   "nbconvert_exporter": "python",
   "pygments_lexer": "ipython3",
   "version": "3.7.11"
  }
 },
 "nbformat": 4,
 "nbformat_minor": 5
}
