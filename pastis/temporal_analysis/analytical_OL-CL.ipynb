{
 "cells": [
  {
   "cell_type": "code",
   "execution_count": null,
   "id": "fd1fc55e",
   "metadata": {},
   "outputs": [],
   "source": [
    "import os\n",
    "import astropy.units as u\n",
    "import numpy as np\n",
    "\n",
    "import pastis.util as util    \n",
    "from pastis.config import CONFIG_PASTIS \n",
    "from pastis.e2e_simulators.luvoir_imaging import LuvoirA_APLC\n",
    "\n",
    "import exoscene.star"
   ]
  },
  {
   "cell_type": "code",
   "execution_count": null,
   "id": "4028e0c8",
   "metadata": {},
   "outputs": [],
   "source": [
    "sampling = 4\n",
    "optics_input = os.path.join(util.find_repo_location(), CONFIG_PASTIS.get('LUVOIR', 'optics_path_in_repo'))\n",
    "luvoir = LuvoirA_APLC(optics_input, 'small', sampling)"
   ]
  },
  {
   "cell_type": "code",
   "execution_count": null,
   "id": "8b28de53",
   "metadata": {},
   "outputs": [],
   "source": [
    "# Getting the flux together\n",
    "sptype = 'A0V'\n",
    "Vmag = 0.0\n",
    "minlam = 500 * u.nanometer\n",
    "maxlam = 600 * u.nanometer\n",
    "star_flux = exoscene.star.bpgs_spectype_to_photonrate(spectype=sptype, Vmag=Vmag,\n",
    "                                                      minlam=minlam.value, maxlam=maxlam.value)\n",
    "npup = np.int(np.sqrt(luvoir.pupil_grid.x.shape[0]))\n",
    "Nph = star_flux.value*15**2*np.sum(luvoir.apodizer**2) / npup**2"
   ]
  },
  {
   "cell_type": "code",
   "execution_count": null,
   "id": "8ec90237",
   "metadata": {},
   "outputs": [],
   "source": [
    "star_flux.unit"
   ]
  },
  {
   "cell_type": "code",
   "execution_count": null,
   "id": "ff807c04",
   "metadata": {},
   "outputs": [],
   "source": [
    "def open_loop_drift(kappa, flux_star, contrast_ratio, eta, sensitivity):\n",
    "    drift = (1/kappa**3) * (flux_star * contrast_ratio**(3/2))/(2*eta**(3/2)*sensitivity)\n",
    "    return drift\n",
    "\n",
    "def closed_loop_drift(kappa, flux_star, contrast_ratio, eta, sensitivity, beta):\n",
    "    drift = (1/kappa**2) * (flux_star * contrast_ratio**(3/2))/(2*eta**(1/2)*beta**2*sensitivity**3)\n",
    "    return drift"
   ]
  },
  {
   "cell_type": "code",
   "execution_count": null,
   "id": "e3ba7a56",
   "metadata": {},
   "outputs": [],
   "source": [
    "beta = 1\n",
    "kappa = 10\n",
    "\n",
    "c_0 = 1e-10\n",
    "F_r = 4e-11\n",
    "eta = c_0 / F_r"
   ]
  },
  {
   "cell_type": "code",
   "execution_count": null,
   "id": "4a97c49b",
   "metadata": {},
   "outputs": [],
   "source": [
    "# Trying a case\n",
    "coro_lambda = 1e-6 * luvoir.wvln\n",
    "OL_drift = open_loop_drift(kappa, Nph, F_r, eta, coro_lambda)\n",
    "print(OL_drift)"
   ]
  },
  {
   "cell_type": "code",
   "execution_count": null,
   "id": "a1ee6812",
   "metadata": {},
   "outputs": [],
   "source": []
  }
 ],
 "metadata": {
  "kernelspec": {
   "display_name": "Python 3",
   "language": "python",
   "name": "python3"
  },
  "language_info": {
   "codemirror_mode": {
    "name": "ipython",
    "version": 3
   },
   "file_extension": ".py",
   "mimetype": "text/x-python",
   "name": "python",
   "nbconvert_exporter": "python",
   "pygments_lexer": "ipython3",
   "version": "3.7.6"
  }
 },
 "nbformat": 4,
 "nbformat_minor": 5
}
