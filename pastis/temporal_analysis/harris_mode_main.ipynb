{
 "cells": [
  {
   "cell_type": "code",
   "execution_count": null,
   "id": "stuffed-looking",
   "metadata": {},
   "outputs": [],
   "source": [
    "import os\n",
    "os.chdir(\"/Users/asahoo/repos/PASTIS\")\n",
    "import time\n",
    "from shutil import copy\n",
    "\n",
    "from astropy.io import fits\n",
    "import astropy.units as u\n",
    "import hcipy\n",
    "import numpy as np\n",
    "\n",
    "import pastis.util as util    \n",
    "from pastis.config import CONFIG_PASTIS \n",
    "from pastis.e2e_simulators.luvoir_imaging import LuvoirA_APLC \n",
    "from pastis.e2e_simulators.generic_segmented_telescopes import SegmentedAPLC\n",
    "import matplotlib.pyplot as plt\n",
    "import pandas as pd\n",
    "from scipy.interpolate import griddata\n",
    "\n",
    "import exoscene.image\n",
    "import exoscene.star\n",
    "import exoscene.planet\n",
    "from exoscene.planet import Planet"
   ]
  },
  {
   "cell_type": "markdown",
   "id": "lesser-arbor",
   "metadata": {},
   "source": [
    "### Define and create directory"
   ]
  },
  {
   "cell_type": "code",
   "execution_count": null,
   "id": "innovative-mystery",
   "metadata": {},
   "outputs": [],
   "source": [
    "root_dir = \"/Users/asahoo/Desktop/data_repos/harris_data\"\n",
    "repo_dir = \"/Users/asahoo/repos/PASTIS\"\n",
    "coronagraph_design = 'small' # user provides\n",
    "overall_dir = util.create_data_path(root_dir, telescope='luvoir_'+coronagraph_design)\n",
    "resDir = os.path.join(overall_dir, 'matrix_numerical')\n",
    "print(resDir)\n",
    "\n",
    "\n",
    "# Create necessary directories if they don't exist yet\n",
    "os.makedirs(resDir, exist_ok=True)\n",
    "os.makedirs(os.path.join(resDir, 'OTE_images'), exist_ok=True)\n",
    "os.makedirs(os.path.join(resDir, 'psfs'), exist_ok=True)"
   ]
  },
  {
   "cell_type": "markdown",
   "id": "advised-synthetic",
   "metadata": {},
   "source": [
    "### Read from configfile "
   ]
  },
  {
   "cell_type": "code",
   "execution_count": null,
   "id": "accurate-recorder",
   "metadata": {},
   "outputs": [],
   "source": [
    "nb_seg = CONFIG_PASTIS.getint('LUVOIR', 'nb_subapertures')\n",
    "wvln = CONFIG_PASTIS.getfloat('LUVOIR', 'lambda') * 1e-9  # m\n",
    "diam = CONFIG_PASTIS.getfloat('LUVOIR', 'diameter')  # m\n",
    "nm_aber = CONFIG_PASTIS.getfloat('LUVOIR', 'calibration_aberration') * 1e-9   # m\n",
    "sampling = CONFIG_PASTIS.getfloat('LUVOIR', 'sampling')\n",
    "coronagraph_design = CONFIG_PASTIS.get('LUVOIR','coronagraph_design')\n",
    "\n",
    "optics_path_in_repo = CONFIG_PASTIS.get('LUVOIR', 'optics_path_in_repo')\n",
    "aper_path = CONFIG_PASTIS.get('LUVOIR','aperture_path_in_optics')\n",
    "aper_ind_path = CONFIG_PASTIS.get('LUVOIR', 'indexed_aperture_path_in_optics')\n",
    "aper_read = hcipy.read_fits(os.path.join(repo_dir,optics_path_in_repo,aper_path))\n",
    "aper_ind_read = hcipy.read_fits(os.path.join(repo_dir,optics_path_in_repo,aper_ind_path))\n",
    "z_pup_downsample = CONFIG_PASTIS.getfloat('numerical', 'z_pup_downsample') "
   ]
  },
  {
   "cell_type": "markdown",
   "id": "interim-oriental",
   "metadata": {},
   "source": [
    "### Load aperture files to make segmented mirror"
   ]
  },
  {
   "cell_type": "code",
   "execution_count": null,
   "id": "involved-retailer",
   "metadata": {},
   "outputs": [],
   "source": [
    "pupil_grid = hcipy.make_pupil_grid(dims=aper_ind_read.shape[0], diameter=15)\n",
    "aper = hcipy.Field(aper_read.ravel(), pupil_grid)\n",
    "aper_ind = hcipy.Field(aper_ind_read.ravel(), pupil_grid)\n",
    "wf_aper = hcipy.Wavefront(aper, wvln)\n",
    "\n",
    "# Load segment positions from fits header\n",
    "hdr = fits.getheader(os.path.join(repo_dir,optics_path_in_repo,aper_ind_path))\n",
    "\n",
    "poslist = []\n",
    "for i in range(nb_seg):\n",
    "    segname = 'SEG' + str(i+1)\n",
    "    xin = hdr[segname + '_X']\n",
    "    yin = hdr[segname + '_Y']\n",
    "    poslist.append((xin, yin))\n",
    "    \n",
    "poslist = np.transpose(np.array(poslist))\n",
    "seg_pos = hcipy.CartesianGrid(hcipy.UnstructuredCoords(poslist))"
   ]
  },
  {
   "cell_type": "code",
   "execution_count": null,
   "id": "conscious-sterling",
   "metadata": {},
   "outputs": [],
   "source": [
    "plt.figure(figsize=(20,10))\n",
    "\n",
    "plt.subplot(2,3,1)\n",
    "plt.title(\"pupil_grid\")\n",
    "plt.plot(pupil_grid.x, pupil_grid.y, '+')\n",
    "plt.xlabel('x')\n",
    "plt.ylabel('y')\n",
    "\n",
    "plt.subplot(2,3,2)\n",
    "plt.title(\"aper\")\n",
    "hcipy.imshow_field(aper)\n",
    "plt.colorbar()\n",
    "\n",
    "plt.subplot(2,3,3)\n",
    "plt.title(\"aper_ind\")\n",
    "hcipy.imshow_field(aper_ind)\n",
    "plt.colorbar()\n",
    "\n",
    "plt.subplot(2,3,4)\n",
    "plt.title(\"wf_aper.phase\")\n",
    "hcipy.imshow_field(wf_aper.phase)\n",
    "plt.colorbar()\n",
    "\n",
    "plt.subplot(2,3,5)\n",
    "plt.title(\"wf_aper.amplitude\")\n",
    "hcipy.imshow_field(wf_aper.amplitude)\n",
    "plt.colorbar()\n",
    "\n",
    "plt.subplot(2,3,6)\n",
    "plt.title(\"seg_pos\")\n",
    "plt.plot(seg_pos.x, seg_pos.y, '+')\n",
    "plt.xlabel('x')\n",
    "plt.ylabel('y')\n",
    "plt.colorbar()"
   ]
  },
  {
   "cell_type": "markdown",
   "id": "through-northwest",
   "metadata": {},
   "source": [
    "### Print from configfile"
   ]
  },
  {
   "cell_type": "code",
   "execution_count": null,
   "id": "enabling-baptist",
   "metadata": {},
   "outputs": [],
   "source": [
    "print('LUVOIR apodizer design: {}'.format(coronagraph_design)) \n",
    "print('Wavelength: {} m'.format(wvln))\n",
    "print('Telescope diameter: {} m'.format(diam))\n",
    "print('Number of segments: {}'.format(nb_seg))\n",
    "print('Sampling: {} px per lambda/D'.format(sampling))"
   ]
  },
  {
   "cell_type": "markdown",
   "id": "accessory-flash",
   "metadata": {},
   "source": [
    "### Instantiate LUVOIR"
   ]
  },
  {
   "cell_type": "code",
   "execution_count": null,
   "id": "bulgarian-yesterday",
   "metadata": {},
   "outputs": [],
   "source": [
    "optics_input = os.path.join(util.find_repo_location(), CONFIG_PASTIS.get('LUVOIR', 'optics_path_in_repo'))\n",
    "luvoir = LuvoirA_APLC(optics_input, coronagraph_design, sampling)"
   ]
  },
  {
   "cell_type": "code",
   "execution_count": null,
   "id": "genetic-delicious",
   "metadata": {
    "scrolled": true
   },
   "outputs": [],
   "source": [
    "N_pup_z = np.int(luvoir.pupil_grid.shape[0] / z_pup_downsample) #N_pup_z = 100\n",
    "grid_zernike = hcipy.field.make_pupil_grid(N_pup_z, diameter=luvoir.diam)"
   ]
  },
  {
   "cell_type": "code",
   "execution_count": null,
   "id": "loose-anaheim",
   "metadata": {},
   "outputs": [],
   "source": [
    "plt.figure(figsize=(10,10))\n",
    "plt.title(\"grid_zernike\") #hcipy cartesian grid\n",
    "plt.plot(grid_zernike.x, grid_zernike.y, '+')\n",
    "plt.xlabel('x')\n",
    "plt.ylabel('y')"
   ]
  },
  {
   "cell_type": "markdown",
   "id": "explicit-oliver",
   "metadata": {},
   "source": [
    "### load thermal modes files"
   ]
  },
  {
   "cell_type": "code",
   "execution_count": null,
   "id": "about-glenn",
   "metadata": {},
   "outputs": [],
   "source": [
    "filepath = \"/Users/asahoo/repos/PASTIS/Jupyter Notebooks/LUVOIR/Sensitivities2.xlsx\"\n",
    "pad_orientation = 0.5*np.pi/2*np.ones(nb_seg)\n",
    "#pad_orientation = np.zeros(nb_seg)"
   ]
  },
  {
   "cell_type": "code",
   "execution_count": null,
   "id": "excess-voltage",
   "metadata": {},
   "outputs": [],
   "source": [
    "pad_orientation = np.pi/2*np.ones(nb_seg)"
   ]
  },
  {
   "cell_type": "markdown",
   "id": "varied-wealth",
   "metadata": {},
   "source": [
    "### create harris deformabale mirror"
   ]
  },
  {
   "cell_type": "code",
   "execution_count": null,
   "id": "above-walnut",
   "metadata": {},
   "outputs": [],
   "source": [
    "luvoir.create_segmented_harris_mirror(filepath,pad_orientation, thermal = True,mechanical=False,other=False) \n",
    "luvoir.harris_sm"
   ]
  },
  {
   "cell_type": "markdown",
   "id": "little-hepatitis",
   "metadata": {},
   "source": [
    "### creating single segment"
   ]
  },
  {
   "cell_type": "code",
   "execution_count": null,
   "id": "positive-kruger",
   "metadata": {},
   "outputs": [],
   "source": [
    "segment = hcipy.hexagonal_aperture(luvoir.segment_circumscribed_diameter, np.pi/2) #function\n",
    "segment_sampled = hcipy.evaluate_supersampled(segment,luvoir.pupil_grid, 10) #hcipy field"
   ]
  },
  {
   "cell_type": "code",
   "execution_count": null,
   "id": "welsh-bermuda",
   "metadata": {},
   "outputs": [],
   "source": [
    "plt.figure(figsize=(5, 5))\n",
    "hcipy.imshow_field(segment_sampled)\n",
    "plt.colorbar()"
   ]
  },
  {
   "cell_type": "markdown",
   "id": "bacterial-guyana",
   "metadata": {},
   "source": [
    "### creating nb_seg segments"
   ]
  },
  {
   "cell_type": "code",
   "execution_count": null,
   "id": "deadly-determination",
   "metadata": {},
   "outputs": [],
   "source": [
    "aper2, segs2 = hcipy.make_segmented_aperture(segment,luvoir.seg_pos, segment_transmissions=1, return_segments=True)\n",
    "luvoir_segmented_pattern = hcipy.evaluate_supersampled(aper2, luvoir.pupil_grid, 10)\n",
    "seg_evaluated = []\n",
    "for seg_tmp in segs2:\n",
    "    tmp_evaluated = hcipy.evaluate_supersampled(seg_tmp, luvoir.pupil_grid, 1)\n",
    "    seg_evaluated.append(tmp_evaluated)"
   ]
  },
  {
   "cell_type": "code",
   "execution_count": null,
   "id": "appreciated-footage",
   "metadata": {},
   "outputs": [],
   "source": [
    "tmp_eval_test = hcipy.evaluate_supersampled(segs2[119], luvoir.pupil_grid, 1)\n",
    "tmp_eval_test = 2*tmp_eval_test"
   ]
  },
  {
   "cell_type": "code",
   "execution_count": null,
   "id": "prompt-particular",
   "metadata": {},
   "outputs": [],
   "source": [
    "hcipy.imshow_field(tmp_eval_test)\n",
    "plt.colorbar()"
   ]
  },
  {
   "cell_type": "code",
   "execution_count": null,
   "id": "accredited-lending",
   "metadata": {},
   "outputs": [],
   "source": [
    "plt.figure(figsize=(5, 5))\n",
    "hcipy.imshow_field(luvoir_segmented_pattern) #this is no where used in rest of the code...\n",
    "plt.colorbar()"
   ]
  },
  {
   "cell_type": "code",
   "execution_count": null,
   "id": "adequate-cleveland",
   "metadata": {},
   "outputs": [],
   "source": [
    "seg_evaluated?"
   ]
  },
  {
   "cell_type": "code",
   "execution_count": null,
   "id": "effective-robertson",
   "metadata": {},
   "outputs": [],
   "source": [
    "hcipy.imshow_field(seg_evaluated[75])"
   ]
  },
  {
   "cell_type": "code",
   "execution_count": null,
   "id": "loose-penalty",
   "metadata": {},
   "outputs": [],
   "source": [
    "luvoir.pupil_grid.coords"
   ]
  },
  {
   "cell_type": "markdown",
   "id": "given-artist",
   "metadata": {},
   "source": [
    "### Plotting Harris_mode"
   ]
  },
  {
   "cell_type": "code",
   "execution_count": null,
   "id": "successful-governor",
   "metadata": {},
   "outputs": [],
   "source": [
    "df = pd.read_excel(filepath)\n",
    "valuesA = np.asarray(df.a)\n",
    "valuesB = np.asarray(df.b)\n",
    "valuesC = np.asarray(df.c)\n",
    "valuesD = np.asarray(df.d)\n",
    "valuesE = np.asarray(df.e)\n",
    "valuesF = np.asarray(df.f)\n",
    "valuesG = np.asarray(df.g)\n",
    "valuesH = np.asarray(df.h)\n",
    "valuesI = np.asarray(df.i)\n",
    "valuesJ = np.asarray(df.j)\n",
    "valuesK = np.asarray(df.k)\n",
    "\n",
    "seg_x = np.asarray(df.X)\n",
    "seg_y = np.asarray(df.Y)\n",
    "\n",
    "harris_seg_diameter = np.max([np.max(seg_x) - np.min(seg_x), np.max(seg_y) - np.min(seg_y)])\n",
    "pup_dims = luvoir.pupil_grid.dims\n",
    "x_grid = np.asarray(df.X) * luvoir.segment_circumscribed_diameter /harris_seg_diameter\n",
    "y_grid = np.asarray(df.Y) * luvoir.segment_circumscribed_diameter /harris_seg_diameter\n",
    "points = np.transpose(np.asarray([x_grid, y_grid]))\n",
    "\n",
    "seg_evaluated = luvoir._create_evaluated_segment_grid()\n",
    "\n",
    "def _transform_harris_mode(values, xrot, yrot, points, seg_evaluated, seg_num):\n",
    "    \"\"\" Take imported Harris mode data and transform into a segment mode on our aperture. \"\"\"\n",
    "    zval = griddata(points, values, (xrot, yrot), method='linear')\n",
    "    zval[np.isnan(zval)] = 0\n",
    "    zval = zval.ravel() * seg_evaluated[seg_num]\n",
    "    return zval\n",
    "\n",
    "harris_base_thermal = []\n",
    "for seg_num in range(0, luvoir.nseg):\n",
    "    grid_seg = luvoir.pupil_grid.shifted(-luvoir.seg_pos[seg_num])\n",
    "    x_line_grid = np.asarray(grid_seg.x)\n",
    "    y_line_grid = np.asarray(grid_seg.y)\n",
    "    \n",
    "# Rotate the modes grids according to the orientation of the mounting pads\n",
    "phi = pad_orientation[seg_num]\n",
    "x_rotation = x_line_grid * np.cos(phi) + y_line_grid * np.sin(phi)\n",
    "y_rotation = -x_line_grid * np.sin(phi) + y_line_grid * np.cos(phi)\n",
    "\n",
    "# Transform all needed Harris modes from data to modes on our segmented aperture\n",
    "ZA = _transform_harris_mode(valuesA, x_rotation, y_rotation, points, seg_evaluated, seg_num)\n",
    "ZB = _transform_harris_mode(valuesB, x_rotation, y_rotation, points, seg_evaluated, seg_num)\n",
    "ZC = _transform_harris_mode(valuesC, x_rotation, y_rotation, points, seg_evaluated, seg_num)\n",
    "ZD = _transform_harris_mode(valuesD, x_rotation, y_rotation, points, seg_evaluated, seg_num)\n",
    "ZE = _transform_harris_mode(valuesE, x_rotation, y_rotation, points, seg_evaluated, seg_num)\n",
    "ZF = _transform_harris_mode(valuesF, x_rotation, y_rotation, points, seg_evaluated, seg_num)\n",
    "ZG = _transform_harris_mode(valuesG, x_rotation, y_rotation, points, seg_evaluated, seg_num)\n",
    "ZH = _transform_harris_mode(valuesH, x_rotation, y_rotation, points, seg_evaluated, seg_num)\n",
    "ZI = _transform_harris_mode(valuesI, x_rotation, y_rotation, points, seg_evaluated, seg_num)\n",
    "ZJ = _transform_harris_mode(valuesJ, x_rotation, y_rotation, points, seg_evaluated, seg_num)\n",
    "ZK = _transform_harris_mode(valuesK, x_rotation, y_rotation, points, seg_evaluated, seg_num)\n",
    "\n",
    "harris_base_thermal.append([ZA, ZB, ZC, ZD, ZE, ZF, ZG, ZH, ZI, ZJ, ZK])"
   ]
  },
  {
   "cell_type": "code",
   "execution_count": null,
   "id": "alpine-customer",
   "metadata": {
    "scrolled": true
   },
   "outputs": [],
   "source": [
    "plt.figure(figsize=(40,5))\n",
    "\n",
    "plt.subplot(1,5,1)\n",
    "plt.title(\"mode_a\")\n",
    "plt.imshow(np.reshape(ZA,(1000,1000))[150:275,800:925])\n",
    "plt.colorbar()\n",
    "\n",
    "plt.subplot(1,5,2)\n",
    "plt.title(\"mode_h\")\n",
    "plt.imshow(np.reshape(ZH,(1000,1000))[150:275,800:925])\n",
    "plt.colorbar()\n",
    "\n",
    "\n",
    "plt.subplot(1,5,3)\n",
    "plt.title(\"mode_i\")\n",
    "plt.imshow(np.reshape(ZI,(1000,1000))[150:275,800:925])\n",
    "plt.colorbar()\n",
    "\n",
    "plt.subplot(1,5,4)\n",
    "plt.title(\"mode_j\")\n",
    "plt.imshow(np.reshape(ZJ,(1000,1000))[150:275,800:925])\n",
    "plt.colorbar()\n",
    "\n",
    "plt.subplot(1,5,5)\n",
    "plt.title(\"mode_k\")\n",
    "plt.imshow(np.reshape(ZK,(1000,1000))[150:275,800:925])\n",
    "plt.colorbar()\n"
   ]
  },
  {
   "cell_type": "markdown",
   "id": "adjacent-representative",
   "metadata": {},
   "source": [
    "### Flatten all DMs and create unaberrated reference PSF"
   ]
  },
  {
   "cell_type": "code",
   "execution_count": null,
   "id": "legendary-burns",
   "metadata": {},
   "outputs": [],
   "source": [
    "n_harris = luvoir.harris_sm.num_actuators #int = 5*120 =600\n",
    "harris_mode =np.zeros(n_harris)\n",
    "luvoir.harris_sm.actuators = harris_mode #setting all actuators to be zero"
   ]
  },
  {
   "cell_type": "markdown",
   "id": "mineral-brighton",
   "metadata": {},
   "source": [
    "### Calculate the unaberrated coro and direct PSFs in INTENSITY"
   ]
  },
  {
   "cell_type": "code",
   "execution_count": null,
   "id": "piano-workplace",
   "metadata": {},
   "outputs": [],
   "source": [
    "unaberrated_coro_psf, ref = luvoir.calc_psf(ref=True, display_intermediate=False, norm_one_photon=True)"
   ]
  },
  {
   "cell_type": "code",
   "execution_count": null,
   "id": "pressed-stocks",
   "metadata": {},
   "outputs": [],
   "source": [
    "plt.figure(figsize=(15,5))\n",
    "plt.subplot(1,2,1)\n",
    "plt.title(\"unaberrated_coro_psf\")\n",
    "hcipy.imshow_field(np.log(np.abs(unaberrated_coro_psf)))\n",
    "plt.colorbar()\n",
    "\n",
    "plt.subplot(1,2,2)\n",
    "plt.title(\"ref\")\n",
    "hcipy.imshow_field(np.log(np.abs(ref)))\n",
    "plt.colorbar()"
   ]
  },
  {
   "cell_type": "code",
   "execution_count": null,
   "id": "correct-wallet",
   "metadata": {},
   "outputs": [],
   "source": [
    "norm = np.max(ref)\n",
    "print(norm)\n",
    "dh_intensity = (unaberrated_coro_psf / norm) * luvoir.dh_mask\n",
    "contrast_floor = np.mean(dh_intensity[np.where(luvoir.dh_mask != 0)])\n",
    "print(f'contrast floor: {contrast_floor}')"
   ]
  },
  {
   "cell_type": "code",
   "execution_count": null,
   "id": "empty-fisher",
   "metadata": {},
   "outputs": [],
   "source": [
    "hcipy.imshow_field(dh_intensity)\n",
    "plt.title(\"dh_intensity\")"
   ]
  },
  {
   "cell_type": "markdown",
   "id": "medical-baltimore",
   "metadata": {},
   "source": [
    "### Calculate the unaberrated coro and direct PSFs in E-FIELDS"
   ]
  },
  {
   "cell_type": "code",
   "execution_count": null,
   "id": "committed-contact",
   "metadata": {},
   "outputs": [],
   "source": [
    "# Calculate the unaberrated coro and direct PSFs in E-FIELDS\n",
    "nonaberrated_coro_psf, ref, efield = luvoir.calc_psf(ref=True, display_intermediate=False, return_intermediate='efield',norm_one_photon=True)\n",
    "Efield_ref = nonaberrated_coro_psf.electric_field"
   ]
  },
  {
   "cell_type": "code",
   "execution_count": null,
   "id": "ambient-residence",
   "metadata": {},
   "outputs": [],
   "source": [
    "plt.figure(figsize=(10, 10))\n",
    "\n",
    "plt.subplot(1,2,1)\n",
    "hcipy.imshow_field(np.log(np.abs(nonaberrated_coro_psf.amplitude)))\n",
    "plt.title(\"nonaberrated_coro_psf.amplitude\")\n",
    "\n",
    "plt.subplot(1,2,2)\n",
    "hcipy.imshow_field(np.log(np.abs(ref.amplitude)))\n",
    "plt.title(\"ref.amplitude\")"
   ]
  },
  {
   "cell_type": "code",
   "execution_count": null,
   "id": "genuine-captain",
   "metadata": {},
   "outputs": [],
   "source": [
    "print('Generating the E-fields for harris modes in science plane')\n",
    "print(f'Calibration aberration used: {nm_aber} m')\n"
   ]
  },
  {
   "cell_type": "code",
   "execution_count": null,
   "id": "seven-diversity",
   "metadata": {},
   "outputs": [],
   "source": [
    "start_time = time.time()\n",
    "focus_fieldS = []\n",
    "focus_fieldS_Re = []\n",
    "focus_fieldS_Im = []\n",
    "harris_mode = np.zeros(n_harris)\n",
    "harris_mode[20] = nm_aber / 2\n",
    "luvoir.harris_sm.actuators  = harris_mode\n",
    "test0 = luvoir.harris_sm(luvoir.wf_aper)\n",
    "test1 = test0.phase*luvoir.wvln/2/np.pi\n",
    "hcipy.imshow_field(test1)\n",
    "plt.colorbar()\n",
    "aberrated_coro_psf, inter = luvoir.calc_psf(display_intermediate=False, return_intermediate='efield',norm_one_photon=True)\n",
    "focus_field1 = aberrated_coro_psf\n",
    "plt.figure(figsize=(10, 10))\n",
    "hcipy.imshow_field(np.log(np.abs(focus_field1.amplitude)))\n",
    "plt.colorbar()"
   ]
  },
  {
   "cell_type": "code",
   "execution_count": null,
   "id": "bigger-italic",
   "metadata": {},
   "outputs": [],
   "source": [
    "start_time = time.time()\n",
    "focus_fieldS = []\n",
    "focus_fieldS_Re = []\n",
    "focus_fieldS_Im = []\n",
    "harris_mode = np.zeros(n_harris)"
   ]
  },
  {
   "cell_type": "code",
   "execution_count": null,
   "id": "planned-mercury",
   "metadata": {},
   "outputs": [],
   "source": [
    "for pp in range(0, n_harris):\n",
    "    print(f'Working on mode {pp}/{n_harris}')\n",
    "    \n",
    "    # Apply calibration aberration to used mode\n",
    "    harris_mode = np.zeros(n_harris)\n",
    "    harris_mode[pp] = nm_aber / 2\n",
    "    luvoir.harris_sm.actuators  = harris_mode\n",
    "    \n",
    "    # Calculate coronagraphic E-field and add to lists\n",
    "    aberrated_coro_psf, inter = luvoir.calc_psf(display_intermediate=False, return_intermediate='efield',norm_one_photon=True)\n",
    "    focus_field1 = aberrated_coro_psf\n",
    "    focus_fieldS.append(focus_field1)\n",
    "    focus_fieldS_Re.append(focus_field1.real)\n",
    "    focus_fieldS_Im.append(focus_field1.imag)"
   ]
  },
  {
   "cell_type": "code",
   "execution_count": null,
   "id": "interracial-pacific",
   "metadata": {},
   "outputs": [],
   "source": [
    "plt.figure(figsize=(10, 10))\n",
    "hcipy.imshow_field(np.log(np.abs(focus_fieldS_Im[588])))\n",
    "plt.colorbar()"
   ]
  },
  {
   "cell_type": "markdown",
   "id": "outer-japan",
   "metadata": {},
   "source": [
    "### Construct the PASTIS matrix from the E-fields"
   ]
  },
  {
   "cell_type": "code",
   "execution_count": null,
   "id": "median-loading",
   "metadata": {},
   "outputs": [],
   "source": [
    "mat_fast = np.zeros([n_harris, n_harris])   # create empty matrix\n",
    "\n",
    "for i in range(0, n_harris):\n",
    "    for j in range(0, n_harris):\n",
    "        test = np.real((focus_fieldS[i].electric_field - Efield_ref) * np.conj(focus_fieldS[j].electric_field - Efield_ref))\n",
    "        dh_test = (test / norm) * luvoir.dh_mask\n",
    "        contrast = np.mean(dh_test[np.where(luvoir.dh_mask != 0)])\n",
    "        mat_fast[i, j] = contrast"
   ]
  },
  {
   "cell_type": "code",
   "execution_count": null,
   "id": "infectious-disability",
   "metadata": {},
   "outputs": [],
   "source": [
    "matrix_pastis = np.copy(mat_fast)\n",
    "matrix_pastis /= np.square(nm_aber * 1e9)"
   ]
  },
  {
   "cell_type": "code",
   "execution_count": null,
   "id": "stylish-leave",
   "metadata": {},
   "outputs": [],
   "source": [
    "plt.figure(figsize=(10,5))\n",
    "\n",
    "plt.subplot(1,2,1)\n",
    "plt.imshow(np.log(np.abs(mat_fast)))\n",
    "plt.title(\"np.log(np.abs(mat_fast))\")\n",
    "plt.colorbar()\n",
    "\n",
    "plt.subplot(1,2,2)\n",
    "plt.imshow(np.log(np.abs(matrix_pastis)))\n",
    "plt.title(\"np.log(np.abs(matrix_pastis))\")\n",
    "plt.colorbar()"
   ]
  },
  {
   "cell_type": "code",
   "execution_count": null,
   "id": "stainless-infrared",
   "metadata": {},
   "outputs": [],
   "source": [
    "filename_matrix = 'PASTISmatrix_n_harris_' + str(n_harris)\n",
    "hcipy.write_fits(matrix_pastis, os.path.join(resDir, filename_matrix + '.fits'))\n",
    "print('Matrix saved to:', os.path.join(resDir, filename_matrix + '.fits'))"
   ]
  },
  {
   "cell_type": "code",
   "execution_count": null,
   "id": "union-alexander",
   "metadata": {},
   "outputs": [],
   "source": [
    "filename_matrix = 'EFIELD_Re_matrix_n_harris_' + str(n_harris)\n",
    "hcipy.write_fits(focus_fieldS_Re, os.path.join(resDir, filename_matrix + '.fits'))\n",
    "print('Efield Real saved to:', os.path.join(resDir, filename_matrix + '.fits'))"
   ]
  },
  {
   "cell_type": "code",
   "execution_count": null,
   "id": "toxic-stadium",
   "metadata": {},
   "outputs": [],
   "source": [
    "filename_matrix = 'EFIELD_Im_matrix_n_harris_' + str(n_harris)\n",
    "hcipy.write_fits(focus_fieldS_Im, os.path.join(resDir, filename_matrix + '.fits'))\n",
    "print('Efield Imag saved to:', os.path.join(resDir, filename_matrix + '.fits'))"
   ]
  },
  {
   "cell_type": "code",
   "execution_count": null,
   "id": "median-crisis",
   "metadata": {},
   "outputs": [],
   "source": [
    "end_time = time.time()"
   ]
  },
  {
   "cell_type": "code",
   "execution_count": null,
   "id": "cultural-identifier",
   "metadata": {},
   "outputs": [],
   "source": [
    "print('Runtime for harris modes:', end_time - start_time, 'sec =', (end_time - start_time) / 60, 'min')\n",
    "print('Data saved to {}'.format(resDir))"
   ]
  },
  {
   "cell_type": "markdown",
   "id": "owned-carol",
   "metadata": {},
   "source": [
    "## error analysis"
   ]
  },
  {
   "cell_type": "code",
   "execution_count": null,
   "id": "japanese-amino",
   "metadata": {},
   "outputs": [],
   "source": [
    "evals, evecs = np.linalg.eig(matrix_pastis)\n",
    "sorted_evals = np.sort(evals)\n",
    "sorted_indices = np.argsort(evals)\n",
    "sorted_evecs = evecs[:, sorted_indices]\n",
    "plt.figure(figsize=(14, 8))\n",
    "#plt.plot(evals, label='Unsorted from eigendecomposition')\n",
    "plt.plot(sorted_evals, label='Sorted lowest to highest evals')\n",
    "plt.semilogy()\n",
    "plt.xlabel('Eigenmodes')\n",
    "plt.ylabel('Log Eigenvalues')\n",
    "plt.legend()"
   ]
  },
  {
   "cell_type": "code",
   "execution_count": null,
   "id": "protected-martial",
   "metadata": {
    "scrolled": true
   },
   "outputs": [],
   "source": [
    "# emodes = []\n",
    "# eunit = 1e-9\n",
    "# for mode in range(len(evals)):\n",
    "#     print('Working on mode {}/{}.'.format(mode+1, len(evals)))\n",
    "    \n",
    "#     harris_coeffs = eunit*sorted_evecs[:, mode]/2\n",
    "#     luvoir.harris_sm.actuators = harris_coeffs\n",
    "#     wf_harris_sm = luvoir.harris_sm(luvoir.wf_aper)\n",
    "#     emodes.append(wf_harris_sm.phase)"
   ]
  },
  {
   "cell_type": "code",
   "execution_count": null,
   "id": "informed-replacement",
   "metadata": {},
   "outputs": [],
   "source": [
    "# first_emode=[]\n",
    "# eunit = 1e-9\n",
    "# for mode in range(0,10):\n",
    "#     print('Working on mode {}/{}.'.format(mode+1, 10))\n",
    "#     harris_coeffs = eunit*sorted_evecs[:, mode]/2\n",
    "#     luvoir.harris_sm.actuators = harris_coeffs\n",
    "#     wf_harris_sm = luvoir.harris_sm(luvoir.wf_aper)\n",
    "#     first_emode.append(wf_harris_sm.phase)"
   ]
  },
  {
   "cell_type": "code",
   "execution_count": null,
   "id": "median-begin",
   "metadata": {},
   "outputs": [],
   "source": [
    "# plt.figure(figsize=(20,10))\n",
    "\n",
    "# plt.subplot(2,5,1)\n",
    "# plt.title(\"mode_1\")\n",
    "# hcipy.imshow_field(first_emode[0])\n",
    "# plt.colorbar()\n",
    "\n",
    "# plt.subplot(2,5,2)\n",
    "# plt.title(\"mode_2\")\n",
    "# hcipy.imshow_field(first_emode[1])\n",
    "# plt.colorbar()\n",
    "\n",
    "# plt.subplot(2,5,3)\n",
    "# plt.title(\"mode_3\")\n",
    "# hcipy.imshow_field(first_emode[2])\n",
    "# plt.colorbar()\n",
    "\n",
    "# plt.subplot(2,5,4)\n",
    "# plt.title(\"mode_4\")\n",
    "# hcipy.imshow_field(first_emode[3])\n",
    "# plt.colorbar()\n",
    "\n",
    "# plt.subplot(2,5,5)\n",
    "# plt.title(\"mode_5\")\n",
    "# hcipy.imshow_field(first_emode[4])\n",
    "# plt.colorbar()\n",
    "\n",
    "# plt.subplot(2,5,6)\n",
    "# plt.title(\"mode_6\")\n",
    "# hcipy.imshow_field(first_emode[5])\n",
    "# plt.colorbar()\n",
    "\n",
    "# plt.subplot(2,5,7)\n",
    "# plt.title(\"mode_7\")\n",
    "# hcipy.imshow_field(first_emode[6])\n",
    "# plt.colorbar()\n",
    "\n",
    "# plt.subplot(2,5,8)\n",
    "# plt.title(\"mode_8\")\n",
    "# hcipy.imshow_field(first_emode[7])\n",
    "# plt.colorbar()\n",
    "\n",
    "# plt.subplot(2,5,9)\n",
    "# plt.title(\"mode_9\")\n",
    "# hcipy.imshow_field(first_emode[8])\n",
    "# plt.colorbar()\n",
    "\n",
    "# plt.subplot(2,5,10)\n",
    "# plt.title(\"mode_10\")\n",
    "# hcipy.imshow_field(first_emode[9])\n",
    "# plt.colorbar()\n",
    "\n",
    "# plt.show()"
   ]
  },
  {
   "cell_type": "code",
   "execution_count": null,
   "id": "minute-details",
   "metadata": {},
   "outputs": [],
   "source": [
    "# last_emode=[]\n",
    "# for mode in range(0,10):\n",
    "#     print('Working on mode {}/{}.'.format(mode+1, 10))\n",
    "#     harris_coeffs = eunit*sorted_evecs[:, 599-mode]/2\n",
    "#     luvoir.harris_sm.actuators = harris_coeffs\n",
    "#     wf_harris_sm = luvoir.harris_sm(luvoir.wf_aper)\n",
    "#     last_emode.append(wf_harris_sm.phase)"
   ]
  },
  {
   "cell_type": "code",
   "execution_count": null,
   "id": "average-teacher",
   "metadata": {},
   "outputs": [],
   "source": [
    "# plt.figure(figsize=(20,10))\n",
    "\n",
    "# plt.subplot(2,5,1)\n",
    "# plt.title(\"mode_1\")\n",
    "# hcipy.imshow_field(last_emode[0])\n",
    "# plt.colorbar()\n",
    "\n",
    "# plt.subplot(2,5,2)\n",
    "# plt.title(\"mode_2\")\n",
    "# hcipy.imshow_field(last_emode[1])\n",
    "# plt.colorbar()\n",
    "\n",
    "# plt.subplot(2,5,3)\n",
    "# plt.title(\"mode_3\")\n",
    "# hcipy.imshow_field(last_emode[2])\n",
    "# plt.colorbar()\n",
    "\n",
    "# plt.subplot(2,5,4)\n",
    "# plt.title(\"mode_4\")\n",
    "# hcipy.imshow_field(last_emode[3])\n",
    "# plt.colorbar()\n",
    "\n",
    "# plt.subplot(2,5,5)\n",
    "# plt.title(\"mode_5\")\n",
    "# hcipy.imshow_field(last_emode[4])\n",
    "# plt.colorbar()\n",
    "\n",
    "# plt.subplot(2,5,6)\n",
    "# plt.title(\"mode_6\")\n",
    "# hcipy.imshow_field(last_emode[5])\n",
    "# plt.colorbar()\n",
    "\n",
    "# plt.subplot(2,5,7)\n",
    "# plt.title(\"mode_7\")\n",
    "# hcipy.imshow_field(last_emode[6])\n",
    "# plt.colorbar()\n",
    "\n",
    "# plt.subplot(2,5,8)\n",
    "# plt.title(\"mode_8\")\n",
    "# hcipy.imshow_field(last_emode[7])\n",
    "# plt.colorbar()\n",
    "\n",
    "# plt.subplot(2,5,9)\n",
    "# plt.title(\"mode_9\")\n",
    "# hcipy.imshow_field(last_emode[8])\n",
    "# plt.colorbar()\n",
    "\n",
    "# plt.subplot(2,5,10)\n",
    "# plt.title(\"mode_10\")\n",
    "# hcipy.imshow_field(last_emode[9])\n",
    "# plt.colorbar()\n",
    "\n",
    "# plt.show()"
   ]
  },
  {
   "cell_type": "code",
   "execution_count": null,
   "id": "opposite-scale",
   "metadata": {},
   "outputs": [],
   "source": [
    "c_target_log = -11\n",
    "c_target = 10**(c_target_log)\n",
    "n_repeat = 20"
   ]
  },
  {
   "cell_type": "code",
   "execution_count": null,
   "id": "pregnant-reserve",
   "metadata": {},
   "outputs": [],
   "source": [
    "mu_map_harris = np.sqrt(((c_target) / (n_harris)) / (np.diag(matrix_pastis)))"
   ]
  },
  {
   "cell_type": "code",
   "execution_count": null,
   "id": "horizontal-bleeding",
   "metadata": {},
   "outputs": [],
   "source": [
    "filename_mu_map_harris = 'mu_maps_harris.fits'\n",
    "hcipy.write_fits(mu_map_harris, os.path.join(overall_dir, 'matrix_numerical', filename_mu_map_harris))"
   ]
  },
  {
   "cell_type": "code",
   "execution_count": null,
   "id": "traditional-reduction",
   "metadata": {},
   "outputs": [],
   "source": [
    "plt.figure(figsize=(20,5))\n",
    "plt.title(\"Segment-based PASTIS constraints from PASTIS matrix and PASTIS modes\")\n",
    "plt.plot(mu_map_harris)\n"
   ]
  },
  {
   "cell_type": "code",
   "execution_count": null,
   "id": "passing-spanking",
   "metadata": {},
   "outputs": [],
   "source": [
    "sigma = np.sqrt(((c_target)) / (600 * sorted_evals))\n",
    "plt.figure(figsize=(20,5))\n",
    "plt.title(\"Max mode contribution(s) from the static-contrast target and eigen values\")\n",
    "plt.plot(sigma)"
   ]
  },
  {
   "cell_type": "code",
   "execution_count": null,
   "id": "tough-strengthening",
   "metadata": {},
   "outputs": [],
   "source": [
    "cont_cum_pastis = []\n",
    "for maxmode in range(evecs.shape[0]):\n",
    "    \n",
    "    aber = np.nansum(evecs[:, :maxmode+1] * sigma[:maxmode+1], axis=1)\n",
    "    aber *= u.nm\n",
    "    contrast_matrix = util.pastis_contrast(aber, matrix_pastis) + contrast_floor\n",
    "    cont_cum_pastis.append(contrast_matrix)\n"
   ]
  },
  {
   "cell_type": "code",
   "execution_count": null,
   "id": "persistent-navigation",
   "metadata": {},
   "outputs": [],
   "source": [
    "plt.plot(cont_cum_pastis)\n",
    "plt.xlabel(\"modes\")\n",
    "plt.ylabel(\"List of cumulative contrast\")"
   ]
  },
  {
   "cell_type": "code",
   "execution_count": null,
   "id": "available-example",
   "metadata": {},
   "outputs": [],
   "source": [
    "cont_ind_pastis = []\n",
    "for maxmode in range(sorted_evecs.shape[0]):\n",
    "    aber = sorted_evecs[:, maxmode] * sigma[maxmode]\n",
    "    aber *=u.nm\n",
    "    contrast_matrix = util.pastis_contrast(aber, matrix_pastis)\n",
    "    cont_ind_pastis.append(contrast_matrix)"
   ]
  },
  {
   "cell_type": "code",
   "execution_count": null,
   "id": "incorporate-manner",
   "metadata": {},
   "outputs": [],
   "source": [
    "plt.figure(figsize=(20,10))\n",
    "plt.plot((cont_ind_pastis))\n",
    "plt.xlabel(\"modes\")\n",
    "plt.ylabel(\"List of Individual contrast\")\n",
    "plt.yscale('log')\n"
   ]
  },
  {
   "cell_type": "code",
   "execution_count": null,
   "id": "bronze-hearts",
   "metadata": {},
   "outputs": [],
   "source": [
    "npup = np.int(np.sqrt(luvoir.pupil_grid.x.shape[0]))\n",
    "nimg = np.int(np.sqrt(luvoir.focal_det.x.shape[0]))\n",
    "\n",
    "# Getting the flux together\n",
    "sptype = 'A0V' # Put this on config\n",
    "Vmag = 0.0 # Put this in loop\n",
    "minlam = 500 * u.nanometer # Put this on config\n",
    "maxlam = 600 * u.nanometer # Put this on config\n",
    "star_flux = exoscene.star.bpgs_spectype_to_photonrate(spectype=sptype, Vmag=Vmag, minlam=minlam.value, maxlam=maxlam.value)\n",
    "Nph = star_flux.value*15**2*np.sum(luvoir.apodizer**2) / npup**2\n",
    "dark_current = 0.0002\n",
    "CIC = 0.01"
   ]
  },
  {
   "cell_type": "code",
   "execution_count": null,
   "id": "reverse-found",
   "metadata": {},
   "outputs": [],
   "source": [
    "harris_mode = np.zeros(n_harris)\n",
    "luvoir.harris_sm.actuators  = harris_mode\n",
    "nonaberrated_coro_psf, refshit,inter_ref = luvoir.calc_psf(ref=True, display_intermediate=False, return_intermediate='efield',norm_one_photon=True)\n",
    "Efield_ref = nonaberrated_coro_psf.electric_field"
   ]
  },
  {
   "cell_type": "code",
   "execution_count": null,
   "id": "christian-bermuda",
   "metadata": {},
   "outputs": [],
   "source": [
    "# harris_ref = luvoir.calc_low_order_wfs()\n",
    "# harris_ref_sub_real = hcipy.field.subsample_field(harris_ref.real, z_pup_downsample, grid_zernike, statistic='mean')\n",
    "# harris_ref_sub_imag = hcipy.field.subsample_field(harris_ref.imag, z_pup_downsample, grid_zernike, statistic='mean')\n",
    "# Efield_ref_LOWFS = (harris_ref_sub_real + 1j*harris_ref_sub_imag) * z_pup_downsample"
   ]
  },
  {
   "cell_type": "code",
   "execution_count": null,
   "id": "convenient-reaction",
   "metadata": {},
   "outputs": [],
   "source": [
    "harris_mode = np.zeros(n_harris)\n",
    "luvoir.harris_sm.actuators  = harris_mode\n",
    "harris_ref2 = luvoir.calc_out_of_band_wfs(norm_one_photon=True)\n",
    "harris_ref2_sub_real = hcipy.field.subsample_field(harris_ref2.real, z_pup_downsample, grid_zernike, statistic='mean')\n",
    "harris_ref2_sub_imag = hcipy.field.subsample_field(harris_ref2.imag, z_pup_downsample, grid_zernike, statistic='mean')\n",
    "Efield_ref_OBWFS = (harris_ref2_sub_real + 1j*harris_ref2_sub_imag) * z_pup_downsample"
   ]
  },
  {
   "cell_type": "code",
   "execution_count": null,
   "id": "square-honolulu",
   "metadata": {},
   "outputs": [],
   "source": [
    "hcipy.imshow_field(luvoir.wf_aper.intensity)\n",
    "plt.colorbar()"
   ]
  },
  {
   "cell_type": "code",
   "execution_count": null,
   "id": "shaped-chosen",
   "metadata": {},
   "outputs": [],
   "source": [
    "nyquist_sampling = 2.\n",
    "\n",
    "# Actual grid for LUVOIR images\n",
    "grid_test = hcipy.make_focal_grid(\n",
    "            luvoir.sampling,\n",
    "            luvoir.imlamD,\n",
    "            pupil_diameter=luvoir.diam,\n",
    "            focal_length=1,\n",
    "            reference_wavelength=luvoir.wvln,\n",
    "        )\n",
    "\n",
    "# Actual grid for LUVOIR images that are nyquist sampled\n",
    "grid_det_subsample = hcipy.make_focal_grid(\n",
    "            nyquist_sampling,\n",
    "            np.floor(luvoir.imlamD),\n",
    "            pupil_diameter=luvoir.diam,\n",
    "            focal_length=1,\n",
    "            reference_wavelength=luvoir.wvln,\n",
    "        )\n",
    "n_nyquist = np.int(np.sqrt(grid_det_subsample.x.shape[0]))"
   ]
  },
  {
   "cell_type": "code",
   "execution_count": null,
   "id": "placed-stack",
   "metadata": {},
   "outputs": [],
   "source": [
    "### Dark hole mask\n",
    "design = 'small'\n",
    "\n",
    "dh_outer_nyquist = hcipy.circular_aperture(2 * luvoir.apod_dict[design]['owa'] * luvoir.lam_over_d)(grid_det_subsample)\n",
    "dh_inner_nyquist = hcipy.circular_aperture(2 * luvoir.apod_dict[design]['iwa'] * luvoir.lam_over_d)(grid_det_subsample)\n",
    "dh_mask_nyquist = (dh_outer_nyquist - dh_inner_nyquist).astype('bool')\n",
    "\n",
    "dh_size = len(np.where(luvoir.dh_mask != 0)[0])\n",
    "dh_size_nyquist = len(np.where(dh_mask_nyquist != 0)[0])\n",
    "dh_index = np.where(luvoir.dh_mask != 0)[0]\n",
    "dh_index_nyquist = np.where(dh_mask_nyquist != 0)[0]"
   ]
  },
  {
   "cell_type": "code",
   "execution_count": null,
   "id": "decent-insulation",
   "metadata": {},
   "outputs": [],
   "source": [
    "# E0_LOWFS = np.zeros([N_pup_z*N_pup_z,1,2])\n",
    "# E0_LOWFS[:,0,0] = Efield_ref_LOWFS.real\n",
    "# E0_LOWFS[:,0,1] = Efield_ref_LOWFS.imag\n",
    "E0_OBWFS = np.zeros([N_pup_z*N_pup_z,1,2])\n",
    "E0_OBWFS[:,0,0] = Efield_ref_OBWFS.real\n",
    "E0_OBWFS[:,0,1] = Efield_ref_OBWFS.imag\n",
    "E0_coron = np.zeros([nimg*nimg,1,2])\n",
    "E0_coron[:,0,0] = Efield_ref.real\n",
    "E0_coron[:,0,1] = Efield_ref.imag\n",
    "E0_coron_nyquist = np.zeros([n_nyquist*n_nyquist,1,2])\n",
    "tmp0 = hcipy.interpolation.make_linear_interpolator_separated(Efield_ref, grid=grid_test)\n",
    "Efield_ref_nyquist = (luvoir.sampling/nyquist_sampling)**2*tmp0(grid_det_subsample)\n",
    "E0_coron_nyquist[:,0,0] = Efield_ref_nyquist.real\n",
    "E0_coron_nyquist[:,0,1] = Efield_ref_nyquist.imag\n",
    "E0_coron_DH = np.zeros([dh_size,1,2])\n",
    "E0_coron_DH[:,0,0] = Efield_ref.real[dh_index]\n",
    "E0_coron_DH[:,0,1] = Efield_ref.imag[dh_index]\n",
    "E0_coron_DH_nyquist = np.zeros([dh_size_nyquist,1,2])\n",
    "E0_coron_DH_nyquist[:,0,0] = Efield_ref_nyquist.real[dh_index_nyquist]\n",
    "E0_coron_DH_nyquist[:,0,1] = Efield_ref_nyquist.real[dh_index_nyquist]"
   ]
  },
  {
   "cell_type": "code",
   "execution_count": null,
   "id": "absolute-chambers",
   "metadata": {},
   "outputs": [],
   "source": [
    "test = np.reshape(E0_OBWFS[:,0,0]**2+E0_OBWFS[:,0,1]**2,[100,100])\n",
    "plt.imshow(test)\n",
    "plt.colorbar()"
   ]
  },
  {
   "cell_type": "code",
   "execution_count": null,
   "id": "senior-prize",
   "metadata": {},
   "outputs": [],
   "source": [
    "filename_matrix = 'EFIELD_Re_matrix_n_harris_' + str(n_harris) + '.fits'\n",
    "G_harris_real = fits.getdata(os.path.join(overall_dir, 'matrix_numerical', filename_matrix))\n",
    "filename_matrix = 'EFIELD_Im_matrix_n_harris_' + str(n_harris) + '.fits'\n",
    "G_harris_imag = fits.getdata(os.path.join(overall_dir, 'matrix_numerical', filename_matrix))\n",
    "\n",
    "G_coron_harris_nyquist= np.zeros([n_nyquist*n_nyquist,2,n_harris])\n",
    "for pp in range(0, n_harris):\n",
    "    tmp0 = G_harris_real[pp] + 1j*G_harris_imag[pp]\n",
    "    tmp1 = hcipy.interpolation.make_linear_interpolator_separated(tmp0, grid=grid_test)\n",
    "    tmp2 = (luvoir.sampling/nyquist_sampling)**2*tmp1(grid_det_subsample)\n",
    "    G_coron_harris_nyquist[:,0,pp] = tmp2.real - Efield_ref_nyquist.real\n",
    "    G_coron_harris_nyquist[:,1,pp] = tmp2.real - Efield_ref_nyquist.imag"
   ]
  },
  {
   "cell_type": "code",
   "execution_count": null,
   "id": "lyric-pixel",
   "metadata": {},
   "outputs": [],
   "source": [
    "G_coron_harris_DH= np.zeros([dh_size,2,n_harris])\n",
    "for pp in range(0, n_harris):\n",
    "    G_coron_harris_DH[:,0,pp] = G_harris_real[pp,dh_index] - Efield_ref.real[dh_index]\n",
    "    G_coron_harris_DH[:,1,pp] = G_harris_imag[pp,dh_index] - Efield_ref.imag[dh_index]"
   ]
  },
  {
   "cell_type": "code",
   "execution_count": null,
   "id": "processed-buyer",
   "metadata": {},
   "outputs": [],
   "source": [
    "G_coron_harris_DH_nyquist= np.zeros([dh_size_nyquist,2,n_harris])\n",
    "for pp in range(0, n_harris):\n",
    "    tmp0 = G_harris_real[pp] + 1j*G_harris_imag[pp]\n",
    "    tmp1 = hcipy.interpolation.make_linear_interpolator_separated(tmp0, grid=grid_test)\n",
    "    tmp2 = (luvoir.sampling/nyquist_sampling)**2*tmp1(grid_det_subsample)\n",
    "    G_coron_harris_DH_nyquist[:,0,pp-1] = tmp2.real[dh_index_nyquist] - Efield_ref_nyquist.real[dh_index_nyquist]\n",
    "    G_coron_harris_DH_nyquist[:,1,pp-1] = tmp2.real[dh_index_nyquist] - Efield_ref_nyquist.imag[dh_index_nyquist]"
   ]
  },
  {
   "cell_type": "code",
   "execution_count": null,
   "id": "silver-sterling",
   "metadata": {},
   "outputs": [],
   "source": [
    "G_coron_harris= np.zeros([nimg*nimg,2,n_harris])\n",
    "for pp in range(0, n_harris):\n",
    "    G_coron_harris[:,0,pp] = G_harris_real[pp] - Efield_ref.real\n",
    "    G_coron_harris[:,1,pp] = G_harris_imag[pp] - Efield_ref.imag"
   ]
  },
  {
   "cell_type": "code",
   "execution_count": null,
   "id": "electoral-projection",
   "metadata": {},
   "outputs": [],
   "source": [
    "print('nm_aber: {} m'.format(nm_aber))\n",
    "start_time = time.time()\n",
    "focus_fieldS = []\n",
    "focus_fieldS_Re = []\n",
    "focus_fieldS_Im = []"
   ]
  },
  {
   "cell_type": "code",
   "execution_count": null,
   "id": "smaller-tutorial",
   "metadata": {},
   "outputs": [],
   "source": [
    "for pp in range(0, n_harris):\n",
    "    print(pp)\n",
    "    harris_modes = np.zeros(n_harris)\n",
    "    harris_modes[pp] = nm_aber / 2\n",
    "    luvoir.harris_sm.actuators  = harris_mode\n",
    "    harris_meas = luvoir.calc_out_of_band_wfs(norm_one_photon=True)\n",
    "    harris_meas_sub_real = hcipy.field.subsample_field(harris_meas.real, z_pup_downsample, grid_zernike, statistic='mean')\n",
    "    harris_meas_sub_imag = hcipy.field.subsample_field(harris_meas.imag, z_pup_downsample, grid_zernike, statistic='mean')\n",
    "    focus_field1 = harris_meas_sub_real + 1j * harris_meas_sub_imag\n",
    "    focus_fieldS.append(focus_field1)\n",
    "    focus_fieldS_Re.append(focus_field1.real)\n",
    "    focus_fieldS_Im.append(focus_field1.imag)"
   ]
  },
  {
   "cell_type": "code",
   "execution_count": null,
   "id": "flexible-thickness",
   "metadata": {},
   "outputs": [],
   "source": [
    "filename_matrix = 'EFIELD_OBWFS_Re_matrix_num_harris_' + str(n_harris)\n",
    "hcipy.write_fits(focus_fieldS_Re, os.path.join(resDir, filename_matrix + '.fits'))\n",
    "print('Efield Real saved to:', os.path.join(resDir, filename_matrix + '.fits'))\n",
    "\n",
    "filename_matrix = 'EFIELD_OBWFS_Im_matrix_num_harris_' + str(n_harris)\n",
    "hcipy.write_fits(focus_fieldS_Im, os.path.join(resDir, filename_matrix + '.fits'))\n",
    "print('Efield Imag saved to:', os.path.join(resDir, filename_matrix + '.fits'))"
   ]
  },
  {
   "cell_type": "code",
   "execution_count": null,
   "id": "moving-ministry",
   "metadata": {},
   "outputs": [],
   "source": [
    "filename_matrix = 'EFIELD_OBWFS_Re_matrix_num_harris_' + str(n_harris)+'.fits'\n",
    "G_OBWFS_real = fits.getdata(os.path.join(overall_dir, 'matrix_numerical', filename_matrix))\n",
    "filename_matrix = 'EFIELD_OBWFS_Im_matrix_num_harris_' + str(n_harris)+'.fits'\n",
    "G_OBWFS_imag =  fits.getdata(os.path.join(overall_dir, 'matrix_numerical', filename_matrix))"
   ]
  },
  {
   "cell_type": "code",
   "execution_count": null,
   "id": "proprietary-colony",
   "metadata": {},
   "outputs": [],
   "source": [
    "G_OBWFS= np.zeros([N_pup_z*N_pup_z,2,n_harris])\n",
    "for pp in range(0, n_harris):\n",
    "    G_OBWFS[:,0,pp] = G_OBWFS_real[pp]*z_pup_downsample - Efield_ref_OBWFS.real\n",
    "    G_OBWFS[:,1,pp] = G_OBWFS_imag[pp]*z_pup_downsample - Efield_ref_OBWFS.imag"
   ]
  },
  {
   "cell_type": "code",
   "execution_count": null,
   "id": "enormous-harbor",
   "metadata": {},
   "outputs": [],
   "source": [
    "def req_closedloop_calc_recursive(Gcoro, Gsensor, E0coro, E0sensor, Dcoro, Dsensor, t_exp, flux, Q, Niter, dh_mask,\n",
    "                                  norm):\n",
    "    P = np.zeros(Q.shape)  # WFE modes covariance estimate\n",
    "    r = Gsensor.shape[2]\n",
    "    N = Gsensor.shape[0]\n",
    "    N_img = Gcoro.shape[0]\n",
    "    c = 1\n",
    "    # Iterations of ALGORITHM 1\n",
    "    contrast_hist = np.zeros(Niter)\n",
    "    intensity_WFS_hist = np.zeros(Niter)\n",
    "    cal_I_hist = np.zeros(Niter)\n",
    "    eps_hist = np.zeros([Niter, r])\n",
    "    averaged_hist = np.zeros(Niter)\n",
    "    contrasts = []\n",
    "    for pp in range(Niter):\n",
    "        eps = np.random.multivariate_normal(np.zeros(r), P + Q * t_exp).reshape((1, 1, r))  # random modes\n",
    "        G_eps = np.sum(Gsensor * eps, axis=2).reshape((N, 1, 2 * c)) + E0sensor  # electric field\n",
    "        G_eps_squared = np.sum(G_eps * G_eps, axis=2, keepdims=True)\n",
    "        G_eps_G = np.matmul(G_eps, Gsensor)\n",
    "        G_eps_G_scaled = G_eps_G / np.sqrt(G_eps_squared + Dsensor / flux / t_exp)  # trick to save RAM\n",
    "        cal_I = 4 * flux * t_exp * np.einsum(\"ijk,ijl->kl\", G_eps_G_scaled, G_eps_G_scaled)  # information matrix\n",
    "        P = np.linalg.inv(np.linalg.inv(P + Q * t_exp / 2) + cal_I)\n",
    "        #         P = np.linalg.inv(cal_I)\n",
    "\n",
    "        # Coronagraph\n",
    "        G_eps_coron = np.sum(Gcoro * eps, axis=2).reshape((N_img, 1, 2 * c)) + E0coro\n",
    "        G_eps_coron_squared = np.sum(G_eps_coron * G_eps_coron, axis=2, keepdims=True)\n",
    "        intensity = G_eps_coron_squared * flux * t_exp + Dcoro\n",
    "\n",
    "        # Wavefront sensor\n",
    "        intensity_WFS = G_eps_squared * flux * t_exp + Dsensor\n",
    "\n",
    "        # Archive\n",
    "        test_DH0 = intensity[:, 0, 0] * luvoir.dh_mask\n",
    "        test_DH = np.mean(test_DH0[np.where(test_DH0 != 0)])\n",
    "        contrasts.append(test_DH / flux / t_exp / norm)\n",
    "        intensity_WFS_hist[pp] = np.sum(intensity_WFS) / flux\n",
    "        cal_I_hist[pp] = np.mean(cal_I) / flux\n",
    "        eps_hist[pp] = eps\n",
    "        averaged_hist[pp] = np.mean(contrasts)\n",
    "        #         print(\"est. contrast\", np.mean(contrasts))\n",
    "\n",
    "        outputs = {'intensity_WFS_hist': intensity_WFS_hist,\n",
    "                   'cal_I_hist': cal_I_hist,\n",
    "                   'eps_hist': eps_hist,\n",
    "                   'averaged_hist': averaged_hist,\n",
    "                   'contrasts': contrasts}\n",
    "    return outputs"
   ]
  },
  {
   "cell_type": "code",
   "execution_count": null,
   "id": "moved-germany",
   "metadata": {},
   "outputs": [],
   "source": [
    "def req_closedloop_calc_batch(Gcoro, Gsensor, E0coro, E0sensor, Dcoro, Dsensor, t_exp, flux, Q, Niter, dh_mask, norm):\n",
    "    P = np.zeros(Q.shape)  # WFE modes covariance estimate\n",
    "    r = Gsensor.shape[2]\n",
    "    N = Gsensor.shape[0]\n",
    "    N_img = Gcoro.shape[0]\n",
    "    c = 1\n",
    "    # Iterations of ALGORITHM 1\n",
    "    contrast_hist = np.zeros(Niter)\n",
    "    intensity_WFS_hist = np.zeros(Niter)\n",
    "    cal_I_hist = np.zeros(Niter)\n",
    "    eps_hist = np.zeros([Niter, r])\n",
    "    averaged_hist = np.zeros(Niter)\n",
    "    contrasts = []\n",
    "    for pp in range(Niter):\n",
    "        eps = np.random.multivariate_normal(np.zeros(r), P + Q * t_exp).reshape((1, 1, r))  # random modes\n",
    "        G_eps = np.sum(Gsensor * eps, axis=2).reshape((N, 1, 2 * c)) + E0sensor  # electric field\n",
    "        G_eps_squared = np.sum(G_eps * G_eps, axis=2, keepdims=True)\n",
    "        G_eps_G = np.matmul(G_eps, Gsensor)\n",
    "        G_eps_G_scaled = G_eps_G / np.sqrt(G_eps_squared + Dsensor / flux / t_exp)  # trick to save RAM\n",
    "        cal_I = 4 * flux * t_exp * np.einsum(\"ijk,ijl->kl\", G_eps_G_scaled, G_eps_G_scaled)  # information matrix\n",
    "        #         P = np.linalg.inv(np.linalg.inv(P+Q*t_exp/2) + cal_I)\n",
    "        P = np.linalg.pinv(cal_I)\n",
    "\n",
    "        # Coronagraph\n",
    "        G_eps_coron = np.sum(Gcoro * eps, axis=2).reshape((N_img, 1, 2 * c)) + E0coro\n",
    "        G_eps_coron_squared = np.sum(G_eps_coron * G_eps_coron, axis=2, keepdims=True)\n",
    "        intensity = G_eps_coron_squared * flux * t_exp + Dcoro\n",
    "\n",
    "        # Wavefront sensor\n",
    "        intensity_WFS = G_eps_squared * flux * t_exp + Dsensor\n",
    "\n",
    "        # Archive\n",
    "        test_DH0 = intensity[:, 0, 0] * luvoir.dh_mask\n",
    "        test_DH = np.mean(test_DH0[np.where(test_DH0 != 0)])\n",
    "        contrasts.append(test_DH / flux / t_exp / norm)\n",
    "        intensity_WFS_hist[pp] = np.sum(intensity_WFS) / flux\n",
    "        cal_I_hist[pp] = np.mean(cal_I) / flux\n",
    "        eps_hist[pp] = eps\n",
    "        averaged_hist[pp] = np.mean(contrasts)\n",
    "    #         print(\"est. contrast\", np.mean(contrasts))\n",
    "    #         print(\"est. contrast\", np.mean(contrasts))\n",
    "\n",
    "    outputs = {'intensity_WFS_hist': intensity_WFS_hist,\n",
    "               'cal_I_hist': cal_I_hist,\n",
    "               'eps_hist': eps_hist,\n",
    "               'averaged_hist': averaged_hist,\n",
    "               'contrasts': contrasts}\n",
    "\n",
    "    return outputs\n"
   ]
  },
  {
   "cell_type": "code",
   "execution_count": null,
   "id": "legislative-vertical",
   "metadata": {},
   "outputs": [],
   "source": [
    "flux = Nph\n",
    "Qharris = np.diag(np.asarray(mu_map_harris**2))"
   ]
  },
  {
   "cell_type": "code",
   "execution_count": null,
   "id": "british-norwegian",
   "metadata": {},
   "outputs": [],
   "source": [
    "# Running a bunch of tests for time series\n",
    "\n",
    "Ntimes = 20\n",
    "TimeMinus = -2\n",
    "TimePlus = 3.5\n",
    "Nwavescale = 8\n",
    "WaveScaleMinus = -2\n",
    "WaveScalePlus = 1\n",
    "Nflux = 3\n",
    "fluxPlus = 10\n",
    "fluxMinus = 0\n",
    "\n",
    "timeVec = np.logspace(TimeMinus,TimePlus,Ntimes)\n",
    "WaveVec = np.logspace(WaveScaleMinus,WaveScalePlus,Nwavescale)\n",
    "fluxVec = np.linspace(fluxMinus,fluxPlus,Nflux)\n",
    "wavescaleVec = np.logspace(WaveScaleMinus,WaveScalePlus,Nwavescale)"
   ]
  },
  {
   "cell_type": "code",
   "execution_count": null,
   "id": "super-marketing",
   "metadata": {},
   "outputs": [],
   "source": [
    "niter = 10\n",
    "print('harris modes with batch OBWFS and noise')\n",
    "\n",
    "timer1 = time.time()\n",
    "wavescale = 1.\n",
    "StarMag = 0.0\n",
    "result = []\n",
    "for tscale in np.logspace(TimeMinus, TimePlus, Ntimes):\n",
    "        Starfactor = 10**(-StarMag/2.5)\n",
    "        print(tscale)\n",
    "        tmp0 = req_closedloop_calc_batch(G_coron_harris, G_OBWFS, E0_coron, E0_OBWFS, dark_current+CIC/tscale,\n",
    "                                             dark_current+CIC/tscale, tscale, flux*Starfactor, wavescale**2*Qharris,\n",
    "                                             niter, luvoir.dh_mask, norm)    \n",
    "        tmp1 = tmp0['averaged_hist']\n",
    "        n_tmp1 = len(tmp1)\n",
    "        result.append(tmp1[n_tmp1-1])\n",
    "        \n",
    "timer2 = time.time()\n",
    "print(timer2 - timer1)"
   ]
  },
  {
   "cell_type": "code",
   "execution_count": null,
   "id": "nonprofit-editing",
   "metadata": {},
   "outputs": [],
   "source": [
    "niter = 10\n",
    "print('harris modes with batch OBWFS and noise')\n",
    "\n",
    "timer1 = time.time()\n",
    "wavescale = 1.\n",
    "StarMag = 5.0\n",
    "result2 = []\n",
    "for tscale in np.logspace(TimeMinus, TimePlus, Ntimes):\n",
    "        Starfactor = 10**(-StarMag/2.5)\n",
    "        print(tscale)\n",
    "        tmp0 = req_closedloop_calc_batch(G_coron_harris, G_OBWFS, E0_coron, E0_OBWFS, dark_current+CIC/tscale,\n",
    "                                             dark_current+CIC/tscale, tscale, flux*Starfactor, wavescale**2*Qharris,\n",
    "                                             niter, luvoir.dh_mask, norm)    \n",
    "        tmp1 = tmp0['averaged_hist']\n",
    "        n_tmp1 = len(tmp1)\n",
    "        result2.append(tmp1[n_tmp1-1])\n",
    "        \n",
    "timer2 = time.time()\n",
    "print(timer2 - timer1)"
   ]
  },
  {
   "cell_type": "code",
   "execution_count": null,
   "id": "liquid-aspect",
   "metadata": {},
   "outputs": [],
   "source": [
    "niter = 10\n",
    "print('harris modes with batch OBWFS and noise')\n",
    "\n",
    "timer1 = time.time()\n",
    "wavescale = 1.\n",
    "StarMag = 10.0\n",
    "result3 = []\n",
    "for tscale in np.logspace(TimeMinus, TimePlus, Ntimes):\n",
    "        Starfactor = 10**(-StarMag/2.5)\n",
    "        print(tscale)\n",
    "        tmp0 = req_closedloop_calc_batch(G_coron_harris, G_OBWFS, E0_coron, E0_OBWFS, dark_current+CIC/tscale,\n",
    "                                             dark_current+CIC/tscale, tscale, flux*Starfactor, wavescale**2*Qharris,\n",
    "                                             niter, luvoir.dh_mask, norm)    \n",
    "        tmp1 = tmp0['averaged_hist']\n",
    "        n_tmp1 = len(tmp1)\n",
    "        result3.append(tmp1[n_tmp1-1])\n",
    "        \n",
    "timer2 = time.time()\n",
    "print(timer2 - timer1)"
   ]
  },
  {
   "cell_type": "code",
   "execution_count": null,
   "id": "published-history",
   "metadata": {},
   "outputs": [],
   "source": [
    "niter = 10\n",
    "print('harris modes with batch OBWFS and noise')\n",
    "\n",
    "timer1 = time.time()\n",
    "wavescale = 1.\n",
    "StarMag = 20.0\n",
    "result4 = []\n",
    "for tscale in np.logspace(TimeMinus, TimePlus, Ntimes):\n",
    "        Starfactor = 10**(-StarMag/2.5)\n",
    "        print(tscale)\n",
    "        tmp0 = req_closedloop_calc_batch(G_coron_harris, G_OBWFS, E0_coron, E0_OBWFS, dark_current+CIC/tscale,\n",
    "                                             dark_current+CIC/tscale, tscale, flux*Starfactor, wavescale**2*Qharris,\n",
    "                                             niter, luvoir.dh_mask, norm)    \n",
    "        tmp1 = tmp0['averaged_hist']\n",
    "        n_tmp1 = len(tmp1)\n",
    "        result4.append(tmp1[n_tmp1-1])\n",
    "        \n",
    "timer2 = time.time()\n",
    "print(timer2 - timer1)"
   ]
  },
  {
   "cell_type": "code",
   "execution_count": null,
   "id": "appropriate-learning",
   "metadata": {},
   "outputs": [],
   "source": [
    "niter = 10\n",
    "print('harris modes with batch OBWFS and noise')\n",
    "\n",
    "timer1 = time.time()\n",
    "wavescale = 1.\n",
    "StarMag = 1.0\n",
    "result_1 = []\n",
    "for tscale in np.logspace(TimeMinus, TimePlus, Ntimes):\n",
    "        Starfactor = 10**(-StarMag/2.5)\n",
    "        print(tscale)\n",
    "        tmp0 = req_closedloop_calc_batch(G_coron_harris, G_OBWFS, E0_coron, E0_OBWFS, dark_current+CIC/tscale,\n",
    "                                             dark_current+CIC/tscale, tscale, flux*Starfactor, wavescale**2*Qharris,\n",
    "                                             niter, luvoir.dh_mask, norm)    \n",
    "        tmp1 = tmp0['averaged_hist']\n",
    "        n_tmp1 = len(tmp1)\n",
    "        result_1.append(tmp1[n_tmp1-1])\n",
    "        \n",
    "timer2 = time.time()\n",
    "print(timer2 - timer1)"
   ]
  },
  {
   "cell_type": "code",
   "execution_count": null,
   "id": "pressed-unknown",
   "metadata": {},
   "outputs": [],
   "source": [
    "niter = 10\n",
    "print('harris modes with batch OBWFS and noise')\n",
    "\n",
    "timer1 = time.time()\n",
    "wavescale = 1.\n",
    "StarMag = 3.0\n",
    "result_3 = []\n",
    "for tscale in np.logspace(TimeMinus, TimePlus, Ntimes):\n",
    "        Starfactor = 10**(-StarMag/2.5)\n",
    "        print(tscale)\n",
    "        tmp0 = req_closedloop_calc_batch(G_coron_harris, G_OBWFS, E0_coron, E0_OBWFS, dark_current+CIC/tscale,\n",
    "                                             dark_current+CIC/tscale, tscale, flux*Starfactor, wavescale**2*Qharris,\n",
    "                                             niter, luvoir.dh_mask, norm)    \n",
    "        tmp1 = tmp0['averaged_hist']\n",
    "        n_tmp1 = len(tmp1)\n",
    "        result_3.append(tmp1[n_tmp1-1])\n",
    "        \n",
    "timer2 = time.time()\n",
    "print(timer2 - timer1)"
   ]
  },
  {
   "cell_type": "code",
   "execution_count": null,
   "id": "owned-spokesman",
   "metadata": {},
   "outputs": [],
   "source": [
    "niter = 10\n",
    "print('harris modes with batch OBWFS and noise')\n",
    "\n",
    "timer1 = time.time()\n",
    "wavescale = 1.\n",
    "StarMag = 7.0\n",
    "result_7 = []\n",
    "for tscale in np.logspace(TimeMinus, TimePlus, Ntimes):\n",
    "        Starfactor = 10**(-StarMag/2.5)\n",
    "        print(tscale)\n",
    "        tmp0 = req_closedloop_calc_batch(G_coron_harris, G_OBWFS, E0_coron, E0_OBWFS, dark_current+CIC/tscale,\n",
    "                                             dark_current+CIC/tscale, tscale, flux*Starfactor, wavescale**2*Qharris,\n",
    "                                             niter, luvoir.dh_mask, norm)    \n",
    "        tmp1 = tmp0['averaged_hist']\n",
    "        n_tmp1 = len(tmp1)\n",
    "        result_7.append(tmp1[n_tmp1-1])\n",
    "        \n",
    "timer2 = time.time()\n",
    "print(timer2 - timer1)            "
   ]
  },
  {
   "cell_type": "code",
   "execution_count": null,
   "id": "waiting-strike",
   "metadata": {},
   "outputs": [],
   "source": [
    "niter = 10\n",
    "print('harris modes with batch OBWFS and noise')\n",
    "\n",
    "timer1 = time.time()\n",
    "wavescale = 1.\n",
    "StarMag = 9.0\n",
    "result_9 = []\n",
    "for tscale in np.logspace(TimeMinus, TimePlus, Ntimes):\n",
    "        Starfactor = 10**(-StarMag/2.5)\n",
    "        print(tscale)\n",
    "        tmp0 = req_closedloop_calc_batch(G_coron_harris, G_OBWFS, E0_coron, E0_OBWFS, dark_current+CIC/tscale,\n",
    "                                             dark_current+CIC/tscale, tscale, flux*Starfactor, wavescale**2*Qharris,\n",
    "                                             niter, luvoir.dh_mask, norm)    \n",
    "        tmp1 = tmp0['averaged_hist']\n",
    "        n_tmp1 = len(tmp1)\n",
    "        result_9.append(tmp1[n_tmp1-1])\n",
    "        \n",
    "timer2 = time.time()\n",
    "print(timer2 - timer1)            "
   ]
  },
  {
   "cell_type": "code",
   "execution_count": null,
   "id": "billion-diving",
   "metadata": {},
   "outputs": [],
   "source": [
    "niter = 10\n",
    "print('harris modes with batch OBWFS and noise')\n",
    "\n",
    "timer1 = time.time()\n",
    "wavescale = 1.\n",
    "StarMag = 11.0\n",
    "result_11 = []\n",
    "for tscale in np.logspace(TimeMinus, TimePlus, Ntimes):\n",
    "        Starfactor = 10**(-StarMag/2.5)\n",
    "        print(tscale)\n",
    "        tmp0 = req_closedloop_calc_batch(G_coron_harris, G_OBWFS, E0_coron, E0_OBWFS, dark_current+CIC/tscale,\n",
    "                                             dark_current+CIC/tscale, tscale, flux*Starfactor, wavescale**2*Qharris,\n",
    "                                             niter, luvoir.dh_mask, norm)    \n",
    "        tmp1 = tmp0['averaged_hist']\n",
    "        n_tmp1 = len(tmp1)\n",
    "        result_11.append(tmp1[n_tmp1-1])\n",
    "        \n",
    "timer2 = time.time()\n",
    "print(timer2 - timer1)            "
   ]
  },
  {
   "cell_type": "code",
   "execution_count": null,
   "id": "noble-drain",
   "metadata": {},
   "outputs": [],
   "source": [
    "niter = 10\n",
    "print('harris modes with batch OBWFS and noise')\n",
    "\n",
    "timer1 = time.time()\n",
    "wavescale = 1.\n",
    "StarMag = 13.0\n",
    "result_13 = []\n",
    "for tscale in np.logspace(TimeMinus, TimePlus, Ntimes):\n",
    "        Starfactor = 10**(-StarMag/2.5)\n",
    "        print(tscale)\n",
    "        tmp0 = req_closedloop_calc_batch(G_coron_harris, G_OBWFS, E0_coron, E0_OBWFS, dark_current+CIC/tscale,\n",
    "                                             dark_current+CIC/tscale, tscale, flux*Starfactor, wavescale**2*Qharris,\n",
    "                                             niter, luvoir.dh_mask, norm)    \n",
    "        tmp1 = tmp0['averaged_hist']\n",
    "        n_tmp1 = len(tmp1)\n",
    "        result_13.append(tmp1[n_tmp1-1])\n",
    "        \n",
    "timer2 = time.time()\n",
    "print(timer2 - timer1)            "
   ]
  },
  {
   "cell_type": "code",
   "execution_count": null,
   "id": "incorporate-taiwan",
   "metadata": {},
   "outputs": [],
   "source": [
    "texp = np.logspace(TimeMinus, TimePlus, Ntimes)\n",
    "plt.figure(figsize =(10,10))\n",
    "plt.plot(texp,result, label =0.0)\n",
    "plt.plot(texp,result_1, label=1)\n",
    "plt.plot(texp,result_3, label=3)\n",
    "plt.plot(texp,result, label=5)\n",
    "plt.plot(texp,result_7, label = 7.0)\n",
    "plt.plot(texp,result_9, label = 9.0)\n",
    "plt.plot(texp,result_11, label = 11.0)\n",
    "plt.plot(texp,result_13, label = 13.0)\n",
    "plt.plot\n",
    "plt.xlabel(\"tscale\")\n",
    "plt.ylabel(\"contrast\")\n",
    "plt.yscale('log')\n",
    "plt.xscale('log')\n",
    "plt.legend()\n",
    "plt.show()"
   ]
  },
  {
   "cell_type": "code",
   "execution_count": null,
   "id": "needed-antenna",
   "metadata": {},
   "outputs": [],
   "source": [
    "niter = 10\n",
    "print('harris modes with batch OBWFS and noise')\n",
    "\n",
    "timer1 = time.time()\n",
    "wavescale = 0.1\n",
    "StarMag = 5.0\n",
    "result_wf_0_1 = []\n",
    "for tscale in np.logspace(TimeMinus, TimePlus, Ntimes):\n",
    "        Starfactor = 10**(-StarMag/2.5)\n",
    "        print(tscale)\n",
    "        tmp0 = req_closedloop_calc_batch(G_coron_harris, G_OBWFS, E0_coron, E0_OBWFS, dark_current+CIC/tscale,\n",
    "                                             dark_current+CIC/tscale, tscale, flux*Starfactor, wavescale**2*Qharris,\n",
    "                                             niter, luvoir.dh_mask, norm)    \n",
    "        tmp1 = tmp0['averaged_hist']\n",
    "        n_tmp1 = len(tmp1)\n",
    "        result_wf_0_1.append(tmp1[n_tmp1-1])\n",
    "        \n",
    "timer2 = time.time()\n",
    "print(timer2 - timer1)  "
   ]
  },
  {
   "cell_type": "code",
   "execution_count": null,
   "id": "flying-funds",
   "metadata": {},
   "outputs": [],
   "source": [
    "niter = 10\n",
    "print('harris modes with batch OBWFS and noise')\n",
    "\n",
    "timer1 = time.time()\n",
    "wavescale = 0.3\n",
    "StarMag = 5.0\n",
    "result_wf_0_3 = []\n",
    "for tscale in np.logspace(TimeMinus, TimePlus, Ntimes):\n",
    "        Starfactor = 10**(-StarMag/2.5)\n",
    "        print(tscale)\n",
    "        tmp0 = req_closedloop_calc_batch(G_coron_harris, G_OBWFS, E0_coron, E0_OBWFS, dark_current+CIC/tscale,\n",
    "                                             dark_current+CIC/tscale, tscale, flux*Starfactor, wavescale**2*Qharris,\n",
    "                                             niter, luvoir.dh_mask, norm)    \n",
    "        tmp1 = tmp0['averaged_hist']\n",
    "        n_tmp1 = len(tmp1)\n",
    "        result_wf_0_3.append(tmp1[n_tmp1-1])\n",
    "        \n",
    "timer2 = time.time()\n",
    "print(timer2 - timer1)  "
   ]
  },
  {
   "cell_type": "code",
   "execution_count": null,
   "id": "psychological-contributor",
   "metadata": {},
   "outputs": [],
   "source": [
    "niter = 10\n",
    "print('harris modes with batch OBWFS and noise')\n",
    "\n",
    "timer1 = time.time()\n",
    "wavescale = 0.5\n",
    "StarMag = 5.0\n",
    "result_wf_0_5 = []\n",
    "for tscale in np.logspace(TimeMinus, TimePlus, Ntimes):\n",
    "        Starfactor = 10**(-StarMag/2.5)\n",
    "        print(tscale)\n",
    "        tmp0 = req_closedloop_calc_batch(G_coron_harris, G_OBWFS, E0_coron, E0_OBWFS, dark_current+CIC/tscale,\n",
    "                                             dark_current+CIC/tscale, tscale, flux*Starfactor, wavescale**2*Qharris,\n",
    "                                             niter, luvoir.dh_mask, norm)    \n",
    "        tmp1 = tmp0['averaged_hist']\n",
    "        n_tmp1 = len(tmp1)\n",
    "        result_wf_0_5.append(tmp1[n_tmp1-1])\n",
    "        \n",
    "timer2 = time.time()\n",
    "print(timer2 - timer1)  "
   ]
  },
  {
   "cell_type": "code",
   "execution_count": null,
   "id": "stretch-tucson",
   "metadata": {},
   "outputs": [],
   "source": [
    "niter = 10\n",
    "print('harris modes with batch OBWFS and noise')\n",
    "\n",
    "timer1 = time.time()\n",
    "wavescale = 0.7\n",
    "StarMag = 5.0\n",
    "result_wf_0_7 = []\n",
    "for tscale in np.logspace(TimeMinus, TimePlus, Ntimes):\n",
    "        Starfactor = 10**(-StarMag/2.5)\n",
    "        print(tscale)\n",
    "        tmp0 = req_closedloop_calc_batch(G_coron_harris, G_OBWFS, E0_coron, E0_OBWFS, dark_current+CIC/tscale,\n",
    "                                             dark_current+CIC/tscale, tscale, flux*Starfactor, wavescale**2*Qharris,\n",
    "                                             niter, luvoir.dh_mask, norm)    \n",
    "        tmp1 = tmp0['averaged_hist']\n",
    "        n_tmp1 = len(tmp1)\n",
    "        result_wf_0_7.append(tmp1[n_tmp1-1])\n",
    "        \n",
    "timer2 = time.time()\n",
    "print(timer2 - timer1)  "
   ]
  },
  {
   "cell_type": "code",
   "execution_count": null,
   "id": "missing-slovak",
   "metadata": {},
   "outputs": [],
   "source": [
    "niter = 10\n",
    "print('harris modes with batch OBWFS and noise')\n",
    "\n",
    "timer1 = time.time()\n",
    "wavescale = 1.0\n",
    "StarMag = 5.0\n",
    "result_wf_1_0 = []\n",
    "for tscale in np.logspace(TimeMinus, TimePlus, Ntimes):\n",
    "        Starfactor = 10**(-StarMag/2.5)\n",
    "        print(tscale)\n",
    "        tmp0 = req_closedloop_calc_batch(G_coron_harris, G_OBWFS, E0_coron, E0_OBWFS, dark_current+CIC/tscale,\n",
    "                                             dark_current+CIC/tscale, tscale, flux*Starfactor, wavescale**2*Qharris,\n",
    "                                             niter, luvoir.dh_mask, norm)    \n",
    "        tmp1 = tmp0['averaged_hist']\n",
    "        n_tmp1 = len(tmp1)\n",
    "        result_wf_1_0.append(tmp1[n_tmp1-1])\n",
    "        \n",
    "timer2 = time.time()\n",
    "print(timer2 - timer1)  "
   ]
  },
  {
   "cell_type": "code",
   "execution_count": null,
   "id": "coastal-reporter",
   "metadata": {},
   "outputs": [],
   "source": [
    "niter = 10\n",
    "print('harris modes with batch OBWFS and noise')\n",
    "\n",
    "timer1 = time.time()\n",
    "wavescale = 1.3\n",
    "StarMag = 5.0\n",
    "result_wf_1_3 = []\n",
    "for tscale in np.logspace(TimeMinus, TimePlus, Ntimes):\n",
    "        Starfactor = 10**(-StarMag/2.5)\n",
    "        print(tscale)\n",
    "        tmp0 = req_closedloop_calc_batch(G_coron_harris, G_OBWFS, E0_coron, E0_OBWFS, dark_current+CIC/tscale,\n",
    "                                             dark_current+CIC/tscale, tscale, flux*Starfactor, wavescale**2*Qharris,\n",
    "                                             niter, luvoir.dh_mask, norm)    \n",
    "        tmp1 = tmp0['averaged_hist']\n",
    "        n_tmp1 = len(tmp1)\n",
    "        result_wf_1_3.append(tmp1[n_tmp1-1])\n",
    "        \n",
    "timer2 = time.time()\n",
    "print(timer2 - timer1)  "
   ]
  },
  {
   "cell_type": "code",
   "execution_count": null,
   "id": "rational-diana",
   "metadata": {},
   "outputs": [],
   "source": [
    "niter = 10\n",
    "print('harris modes with batch OBWFS and noise')\n",
    "\n",
    "timer1 = time.time()\n",
    "wavescale = 1.5\n",
    "StarMag = 5.0\n",
    "result_wf_1_5 = []\n",
    "for tscale in np.logspace(TimeMinus, TimePlus, Ntimes):\n",
    "        Starfactor = 10**(-StarMag/2.5)\n",
    "        print(tscale)\n",
    "        tmp0 = req_closedloop_calc_batch(G_coron_harris, G_OBWFS, E0_coron, E0_OBWFS, dark_current+CIC/tscale,\n",
    "                                             dark_current+CIC/tscale, tscale, flux*Starfactor, wavescale**2*Qharris,\n",
    "                                             niter, luvoir.dh_mask, norm)    \n",
    "        tmp1 = tmp0['averaged_hist']\n",
    "        n_tmp1 = len(tmp1)\n",
    "        result_wf_1_5.append(tmp1[n_tmp1-1])\n",
    "        \n",
    "timer2 = time.time()\n",
    "print(timer2 - timer1) "
   ]
  },
  {
   "cell_type": "code",
   "execution_count": null,
   "id": "undefined-institution",
   "metadata": {},
   "outputs": [],
   "source": [
    "texp = np.logspace(TimeMinus, TimePlus, Ntimes)\n",
    "plt.figure(figsize =(10,10))\n",
    "plt.plot(texp,result_wf_0_3-contrast_floor, label=0.3)\n",
    "plt.plot(texp,result_wf_0_5-contrast_floor, label=0.5)\n",
    "plt.plot(texp,result_wf_0_7-contrast_floor, label=0.7)\n",
    "plt.plot(texp,result_wf_1_0-contrast_floor, label=1.0)\n",
    "plt.plot(texp,result_wf_1_3-contrast_floor, label=1.3)\n",
    "plt.plot(texp,result_wf_1_5-contrast_floor, label=1.5)\n",
    "plt.plot\n",
    "plt.xlabel(\"tscale\")\n",
    "plt.ylabel(\"contrast\")\n",
    "plt.yscale('log')\n",
    "plt.xscale('log')\n",
    "plt.legend()\n",
    "plt.show()"
   ]
  },
  {
   "cell_type": "code",
   "execution_count": null,
   "id": "nutritional-kidney",
   "metadata": {},
   "outputs": [],
   "source": [
    "N_zernike = 5\n",
    "zernike_coeffs_numaps = np.zeros([N_zernike,n_harris])\n",
    "MID_modes_std = mu_map_harris\n",
    "for qq in range(N_zernike):\n",
    "    zernike_coeffs_tmp = np.zeros([n_harris])\n",
    "    for kk in range(120):\n",
    "        zernike_coeffs_tmp[qq+(kk)*N_zernike] = MID_modes_std[qq+(kk)*N_zernike]\n",
    "        zernike_coeffs_numaps[qq] = zernike_coeffs_tmp\n",
    "\n",
    "zernike_coeffs_table = np.zeros([N_zernike,120])\n",
    "for qq in range(N_zernike):\n",
    "    zernike_coeffs_tmp = np.zeros([120])\n",
    "    for kk in range(120):\n",
    "        zernike_coeffs_table[qq,kk] = MID_modes_std[qq+(kk)*N_zernike]\n",
    "\n",
    "nu_maps = []\n",
    "for qq in range(N_zernike):\n",
    "    zernike_coeffs = zernike_coeffs_numaps[qq]\n",
    "    luvoir.harris_sm.actuators = zernike_coeffs*nm_aber / 2\n",
    "    nu_maps.append(luvoir.harris_sm.surface)"
   ]
  },
  {
   "cell_type": "code",
   "execution_count": null,
   "id": "genetic-isolation",
   "metadata": {},
   "outputs": [],
   "source": [
    "plt.figure(figsize=(50,30))\n",
    "\n",
    "plt.rcParams[\"font.size\"] = 16\n",
    "plt.rcParams[\"axes.labelsize\"] = 22\n",
    "plt.rcParams[\"axes.labelweight\"] = \"bold\"\n",
    "plt.rcParams[\"xtick.labelsize\"] = 16\n",
    "plt.rcParams[\"ytick.labelsize\"] = 16\n",
    "plt.rcParams[\"legend.fontsize\"] = 16\n",
    "plt.rcParams[\"figure.titlesize\"] = 16\n",
    "\n",
    "plt.subplot(2,3,1)\n",
    "hcipy.imshow_field(nu_maps[0]*1e12,cmap = 'RdBu')\n",
    "plt.colorbar()\n",
    "\n",
    "plt.subplot(2,3,2)\n",
    "hcipy.imshow_field((nu_maps[1])*1e12,cmap = 'RdBu')\n",
    "plt.colorbar()\n",
    "\n",
    "plt.subplot(2,3,3)\n",
    "hcipy.imshow_field((nu_maps[2])*1e12, cmap = 'RdBu')\n",
    "plt.colorbar()\n",
    "\n",
    "plt.subplot(2,3,4)\n",
    "hcipy.imshow_field((nu_maps[3])*1e12, cmap = 'RdBu')\n",
    "plt.colorbar()\n",
    "\n",
    "plt.subplot(2,3,5)\n",
    "hcipy.imshow_field((nu_maps[4])*1e12, cmap = 'RdBu')\n",
    "plt.colorbar()"
   ]
  },
  {
   "cell_type": "code",
   "execution_count": null,
   "id": "ceramic-royalty",
   "metadata": {},
   "outputs": [],
   "source": [
    "five_vec_1 = np.zeros(120)\n",
    "five_vec_2 = np.zeros(120)\n",
    "five_vec_3 = np.zeros(120)\n",
    "five_vec_4 = np.zeros(120)\n",
    "five_vec_5 = np.zeros(120)\n",
    "\n",
    "j = -1\n",
    "for i in range (0,596,5):\n",
    "        j = j+1\n",
    "        print(\"i---\",i,\"j---\",j) \n",
    "        five_vec_1[j]=mu_map_harris[i]\n",
    "        five_vec_2[j]=mu_map_harris[i+1]\n",
    "        five_vec_3[j]=mu_map_harris[i+2]\n",
    "        five_vec_4[j]=mu_map_harris[i+3]\n",
    "        five_vec_5[j]=mu_map_harris[i+4]"
   ]
  },
  {
   "cell_type": "code",
   "execution_count": null,
   "id": "minute-chair",
   "metadata": {},
   "outputs": [],
   "source": [
    "luvoir2 = LuvoirA_APLC(optics_input, coronagraph_design, sampling)\n",
    "luvoir2.create_segmented_mirror(1)\n",
    "luvoir2.sm.actuators = five_vec_1\n",
    "\n",
    "luvoir3 = LuvoirA_APLC(optics_input, coronagraph_design, sampling)\n",
    "luvoir3.create_segmented_mirror(1)\n",
    "luvoir3.sm.actuators = five_vec_2\n",
    "\n",
    "luvoir4 = LuvoirA_APLC(optics_input, coronagraph_design, sampling)\n",
    "luvoir4.create_segmented_mirror(1)\n",
    "luvoir4.sm.actuators = five_vec_3\n",
    "\n",
    "\n",
    "luvoir5 = LuvoirA_APLC(optics_input, coronagraph_design, sampling)\n",
    "luvoir5.create_segmented_mirror(1)\n",
    "luvoir5.sm.actuators = five_vec_4\n",
    "\n",
    "\n",
    "luvoir6 = LuvoirA_APLC(optics_input, coronagraph_design, sampling)\n",
    "luvoir6.create_segmented_mirror(1)\n",
    "luvoir6.sm.actuators = five_vec_5"
   ]
  },
  {
   "cell_type": "code",
   "execution_count": null,
   "id": "logical-intent",
   "metadata": {},
   "outputs": [],
   "source": [
    "five_vec_1"
   ]
  },
  {
   "cell_type": "code",
   "execution_count": null,
   "id": "paperback-design",
   "metadata": {},
   "outputs": [],
   "source": [
    "plt.figure(figsize =(30,20))\n",
    "\n",
    "plt.subplot(2,3,1)\n",
    "hcipy.imshow_field(luvoir2.sm.surface, cmap = 'RdBu')\n",
    "plt.colorbar()\n",
    "\n",
    "plt.subplot(2,3,2)\n",
    "hcipy.imshow_field(luvoir3.sm.surface, cmap = 'RdBu')\n",
    "plt.colorbar()\n",
    "\n",
    "plt.subplot(2,3,3)\n",
    "hcipy.imshow_field(luvoir4.sm.surface, cmap = 'RdBu')\n",
    "plt.colorbar()\n",
    "\n",
    "plt.subplot(2,3,4)\n",
    "hcipy.imshow_field(luvoir5.sm.surface, cmap = 'RdBu')\n",
    "plt.colorbar()\n",
    "\n",
    "plt.subplot(2,3,5)\n",
    "hcipy.imshow_field(luvoir6.sm.surface, cmap = 'RdBu')\n",
    "plt.colorbar()\n"
   ]
  },
  {
   "cell_type": "code",
   "execution_count": null,
   "id": "infinite-progressive",
   "metadata": {},
   "outputs": [],
   "source": [
    "luvoir2.sm.surface?"
   ]
  },
  {
   "cell_type": "code",
   "execution_count": null,
   "id": "transsexual-breathing",
   "metadata": {},
   "outputs": [],
   "source": []
  },
  {
   "cell_type": "code",
   "execution_count": null,
   "id": "anonymous-buffer",
   "metadata": {},
   "outputs": [],
   "source": []
  },
  {
   "cell_type": "code",
   "execution_count": null,
   "id": "imposed-election",
   "metadata": {},
   "outputs": [],
   "source": []
  },
  {
   "cell_type": "code",
   "execution_count": null,
   "id": "gentle-needle",
   "metadata": {},
   "outputs": [],
   "source": []
  },
  {
   "cell_type": "code",
   "execution_count": null,
   "id": "vietnamese-contributor",
   "metadata": {},
   "outputs": [],
   "source": [
    "niter = 3\n",
    "print('harris modes with batch OBWFS and noise')\n",
    "\n",
    "timer1 = time.time()\n",
    "\n",
    "\n",
    "res = np.zeros([Ntimes, Nwavescale, Nflux, 1])\n",
    "pp = 0\n",
    "for tscale in np.logspace(TimeMinus, TimePlus, Ntimes):\n",
    "    qq = 0\n",
    "    print(tscale)\n",
    "    for wavescale in np.logspace(WaveScaleMinus, WaveScalePlus, Nwavescale):\n",
    "        rr = 0\n",
    "        for StarMag in np.linspace(fluxMinus, fluxPlus, Nflux):\n",
    "            Starfactor = 10**(-StarMag/2.5)\n",
    "            tmp0 = req_closedloop_calc_batch(G_coron_harris, G_OBWFS, E0_coron, E0_OBWFS, dark_current+CIC/tscale,\n",
    "                                             dark_current+CIC/tscale, tscale, flux*Starfactor, wavescale**2*Qharris,\n",
    "                                             niter, luvoir.dh_mask, norm)\n",
    "            tmp1 = tmp0['averaged_hist']\n",
    "            n_tmp1 = len(tmp1)\n",
    "            res[pp,qq,rr] =  np.mean(tmp1[np.int(n_tmp1/2):n_tmp1]) - contrast_floor\n",
    "            rr = rr + 1\n",
    "        qq = qq + 1\n",
    "    pp = pp + 1"
   ]
  },
  {
   "cell_type": "code",
   "execution_count": null,
   "id": "advisory-jefferson",
   "metadata": {},
   "outputs": [],
   "source": [
    "res_line = np.reshape(res,[Ntimes*Nwavescale*Nflux])\n",
    "text_files_name = os.path.join(overall_dir, f'harris_OBWFS_Batch_dark_{dark_current}_CIC_{CIC}.csv')\n",
    "np.savetxt(text_files_name, res_line, delimiter=\",\")\n",
    "\n",
    "timer2 = time.time()\n",
    "print(timer2 - timer1)\n",
    "\n",
    "\n",
    "print('harris modes with recursive OBWFS and noise')\n",
    "\n",
    "timer1 = time.time()\n",
    "\n",
    "\n",
    "res = np.zeros([Ntimes, Nwavescale, Nflux, 1])\n",
    "pp = 0\n",
    "for tscale in np.logspace(TimeMinus, TimePlus, Ntimes):\n",
    "    qq = 0\n",
    "    print(tscale)\n",
    "    for wavescale in np.logspace(WaveScaleMinus, WaveScalePlus, Nwavescale):\n",
    "        rr = 0\n",
    "        for StarMag in np.linspace(fluxMinus,fluxPlus,Nflux):\n",
    "            Starfactor = 10**(-StarMag/2.5)\n",
    "            tmp0 = req_closedloop_calc_recursive(G_coron_harris, G_OBWFS, E0_coron, E0_OBWFS, dark_current+CIC/tscale,\n",
    "                                                 dark_current+CIC/tscale, tscale, flux*Starfactor, wavescale**2*Qharris,\n",
    "                                                 niter, luvoir.dh_mask, norm)\n",
    "            tmp1 = tmp0['averaged_hist']\n",
    "            n_tmp1 = len(tmp1)\n",
    "            res[pp,qq,rr] =  np.mean(tmp1[np.int(n_tmp1/2):n_tmp1]) - contrast_floor\n",
    "            rr = rr + 1\n",
    "        qq = qq + 1\n",
    "    pp = pp + 1"
   ]
  },
  {
   "cell_type": "code",
   "execution_count": null,
   "id": "joined-verification",
   "metadata": {},
   "outputs": [],
   "source": []
  },
  {
   "cell_type": "code",
   "execution_count": null,
   "id": "relative-alloy",
   "metadata": {},
   "outputs": [],
   "source": []
  },
  {
   "cell_type": "code",
   "execution_count": null,
   "id": "tender-square",
   "metadata": {},
   "outputs": [],
   "source": []
  },
  {
   "cell_type": "code",
   "execution_count": null,
   "id": "noted-joseph",
   "metadata": {},
   "outputs": [],
   "source": []
  },
  {
   "cell_type": "code",
   "execution_count": null,
   "id": "indian-explosion",
   "metadata": {},
   "outputs": [],
   "source": []
  },
  {
   "cell_type": "code",
   "execution_count": null,
   "id": "portuguese-lithuania",
   "metadata": {},
   "outputs": [],
   "source": []
  },
  {
   "cell_type": "code",
   "execution_count": null,
   "id": "refined-express",
   "metadata": {},
   "outputs": [],
   "source": [
    "result_wf_1_5?"
   ]
  },
  {
   "cell_type": "code",
   "execution_count": null,
   "id": "white-sugar",
   "metadata": {},
   "outputs": [],
   "source": []
  },
  {
   "cell_type": "code",
   "execution_count": null,
   "id": "junior-relations",
   "metadata": {},
   "outputs": [],
   "source": []
  },
  {
   "cell_type": "code",
   "execution_count": null,
   "id": "automotive-reporter",
   "metadata": {},
   "outputs": [],
   "source": [
    "# wf_active_pupil = wf_aper\n",
    "# wf_active_pupil = harris_sm(wf_active_pupil)\n",
    "# wf_harris_sm = harris_sm(wf_aper)\n",
    "\n",
    "# hcipy.imshow_field(wf_active_pupil.phase)\n",
    "# hcipy.imshow_field(wf_harris_sm.phase)\n",
    "# hcipy.imshow_field(wf_aper.phase)\n",
    "\n",
    "# # All E-field propagations\n",
    "# wf_dm1_coro = hcipy.Wavefront(wf_active_pupil.electric_field * np.exp(4 * 1j * np.pi/wvln * self.DM1), self.wavelength)\n",
    "# wf_dm2_coro_before = fresnel(wf_dm1_coro)\n",
    "# wf_dm2_coro_after = hcipy.Wavefront(wf_dm2_coro_before.electric_field * np.exp(4 * 1j * np.pi / self.wavelength * self.DM2) * self.DM2_circle, self.wavelength)\n",
    "# wf_back_at_dm1 = self.fresnel_back(wf_dm2_coro_after)\n",
    "# wf_apod_stop = hcipy.Wavefront(wf_back_at_dm1.electric_field * self.apod_stop, self.wavelength)\n",
    "\n",
    "# wf_before_lyot = self.coro(wf_apod_stop)\n",
    "# wf_lyot = self.lyot_stop(wf_before_lyot)\n",
    "# wf_lyot.wavelength = self.wavelength\n",
    "\n",
    "# wf_im_coro = self.prop(wf_lyot)\n",
    "# wf_im_ref = self.prop(wf_back_at_dm1)"
   ]
  },
  {
   "cell_type": "code",
   "execution_count": null,
   "id": "systematic-resistance",
   "metadata": {},
   "outputs": [],
   "source": []
  }
 ],
 "metadata": {
  "kernelspec": {
   "display_name": "Python 3 (ipykernel)",
   "language": "python",
   "name": "python3"
  },
  "language_info": {
   "codemirror_mode": {
    "name": "ipython",
    "version": 3
   },
   "file_extension": ".py",
   "mimetype": "text/x-python",
   "name": "python",
   "nbconvert_exporter": "python",
   "pygments_lexer": "ipython3",
   "version": "3.7.11"
  }
 },
 "nbformat": 4,
 "nbformat_minor": 5
}
