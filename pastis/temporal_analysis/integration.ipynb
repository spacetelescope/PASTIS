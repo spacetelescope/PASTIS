{
 "cells": [
  {
   "cell_type": "markdown",
   "id": "4d8fcdb4",
   "metadata": {},
   "source": [
    "### The purpose of this notebook is just to automatize the full e2e analysis, try and use more codes already present in pastis repository"
   ]
  },
  {
   "cell_type": "markdown",
   "id": "939f639e",
   "metadata": {},
   "source": [
    "### import all necessary files "
   ]
  },
  {
   "cell_type": "code",
   "execution_count": null,
   "id": "3c1f31c3",
   "metadata": {},
   "outputs": [],
   "source": [
    "import os\n",
    "os.chdir(\"/Users/asahoo/repos/PASTIS\")\n",
    "import time\n",
    "from shutil import copy\n",
    "from astropy.io import fits\n",
    "import astropy.units as u\n",
    "import hcipy\n",
    "import numpy as np\n",
    "import pastis.util as util    \n",
    "from pastis.config import CONFIG_PASTIS \n",
    "from pastis.e2e_simulators.luvoir_imaging import LuvoirA_APLC \n",
    "from pastis.e2e_simulators.generic_segmented_telescopes import SegmentedAPLC\n",
    "import matplotlib.pyplot as plt\n",
    "import pandas as pd\n",
    "from scipy.interpolate import griddata\n",
    "import exoscene.image\n",
    "import exoscene.star\n",
    "import exoscene.planet\n",
    "from exoscene.planet import Planet\n",
    "from astropy.io import fits as pf\n",
    "from pastis.analytical_pastis.temporal_analysis import req_closedloop_calc_batch\n",
    "from pastis.matrix_generation.matrix_from_efields import MatrixEfieldLuvoirA\n",
    "from matplotlib.colors import TwoSlopeNorm\n",
    "from pastis.pastis_analysis import calculate_sigma, calculate_segment_constraints\n",
    "from pastis.plotting import plot_mu_map"
   ]
  },
  {
   "cell_type": "markdown",
   "id": "be106a03",
   "metadata": {},
   "source": [
    "### Generate pastis matrix "
   ]
  },
  {
   "cell_type": "code",
   "execution_count": null,
   "id": "a24f7fb8",
   "metadata": {},
   "outputs": [],
   "source": [
    "APLC_DESIGN =  CONFIG_PASTIS.get('LUVOIR', 'coronagraph_design')\n",
    "DM = 'harris_seg_mirror'\n",
    "fpath = \"/Users/asahoo/Documents/ultra/Sensitivities2.xlsx\"\n",
    "nb_seg = CONFIG_PASTIS.getint('LUVOIR', 'nb_subapertures')\n",
    "pad_orientations = np.pi/2*np.ones(nb_seg)\n",
    "DM_SPEC = (fpath, pad_orientations, True, False, False)\n",
    "run_matrix = MatrixEfieldLuvoirA(which_dm=DM, dm_spec=DM_SPEC, design=APLC_DESIGN, \n",
    "                                 initial_path=CONFIG_PASTIS.get('local', 'local_data_path'))\n",
    "\n",
    "run_matrix.calc()\n",
    "dir_run = run_matrix.overall_dir\n",
    "print(f'All saved to {dir_run}.')"
   ]
  },
  {
   "cell_type": "markdown",
   "id": "a1601295",
   "metadata": {},
   "source": [
    "### Get saved pastis matrix "
   ]
  },
  {
   "cell_type": "code",
   "execution_count": null,
   "id": "3135a82e",
   "metadata": {},
   "outputs": [],
   "source": [
    "pastis_matrix = fits.getdata(os.path.join(dir_run, \"matrix_numerical\",\"pastis_matrix.fits\"))"
   ]
  },
  {
   "cell_type": "markdown",
   "id": "2f3cc82c",
   "metadata": {},
   "source": [
    "### Generate tolerance eigen values and eigenvectors for the PASTIS matrix"
   ]
  },
  {
   "cell_type": "code",
   "execution_count": null,
   "id": "d92dcc1b",
   "metadata": {
    "scrolled": true
   },
   "outputs": [],
   "source": [
    "evecs, evals = modes_from_matrix('LUVOIR', dir_run)"
   ]
  },
  {
   "cell_type": "code",
   "execution_count": null,
   "id": "e30b17ad",
   "metadata": {},
   "outputs": [],
   "source": [
    "mu_map = calculate_segment_constraints(pastis_matrix, 1e-11, 0.0)"
   ]
  },
  {
   "cell_type": "code",
   "execution_count": null,
   "id": "29f9277b",
   "metadata": {},
   "outputs": [],
   "source": [
    "optics_input = os.path.join(util.find_repo_location(), CONFIG_PASTIS.get('LUVOIR', 'optics_path_in_repo'))\n",
    "sampling = CONFIG_PASTIS.getfloat('LUVOIR', 'sampling')\n",
    "luvoir = LuvoirA_APLC(optics_input, APLC_DESIGN, sampling)\n"
   ]
  },
  {
   "cell_type": "code",
   "execution_count": null,
   "id": "25f439ba",
   "metadata": {},
   "outputs": [],
   "source": [
    "N_harris = 5 #number of harris modes, (thermal only)\n",
    "harris_coeffs_numaps = np.zeros([N_harris,600])\n",
    "harris_modes_std = mu_map\n",
    "\n",
    "for qq in range(N_harris):\n",
    "    harris_coeffs_tmp = np.zeros(600)\n",
    "    for kk in range(nb_seg):\n",
    "        harris_coeffs_tmp[qq+(kk)*N_harris] = harris_modes_std[qq+(kk)*N_harris]\n",
    "    harris_coeffs_numaps[qq] = harris_coeffs_tmp #arranged 600 elements into 5*120 elements \n",
    "    \n",
    "harris_coeffs_table = np.zeros([N_harris, nb_seg])\n",
    "for qq in range(N_harris):\n",
    "    for kk in range(nb_seg):\n",
    "        harris_coeffs_table[qq,kk] = mu_map[qq+(kk)*N_harris] #numpy ndarray 120\n",
    "\n",
    "nu_maps = []\n",
    "for qq in range(N_harris):\n",
    "    harris_coeffs = harris_coeffs_numaps[qq]\n",
    "    luvoir.harris_sm.actuators = harris_coeffs*1e-9/ 2 # m\n",
    "    nu_maps.append(luvoir.harris_sm.surface)"
   ]
  },
  {
   "cell_type": "code",
   "execution_count": null,
   "id": "6f66dce6",
   "metadata": {},
   "outputs": [],
   "source": [
    "plot1 = plot_mu_map(\"LUVOIR\", mu_map, luvoir, dir_run, 1e-11, limits=None, fname_suffix='', save=False )"
   ]
  },
  {
   "cell_type": "code",
   "execution_count": null,
   "id": "ac557345",
   "metadata": {},
   "outputs": [],
   "source": []
  }
 ],
 "metadata": {
  "kernelspec": {
   "display_name": "Python 3 (ipykernel)",
   "language": "python",
   "name": "python3"
  },
  "language_info": {
   "codemirror_mode": {
    "name": "ipython",
    "version": 3
   },
   "file_extension": ".py",
   "mimetype": "text/x-python",
   "name": "python",
   "nbconvert_exporter": "python",
   "pygments_lexer": "ipython3",
   "version": "3.7.11"
  }
 },
 "nbformat": 4,
 "nbformat_minor": 5
}
