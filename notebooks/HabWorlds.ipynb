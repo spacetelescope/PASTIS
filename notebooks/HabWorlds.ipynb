{
 "cells": [
  {
   "cell_type": "markdown",
   "id": "59834893",
   "metadata": {},
   "source": [
    "# HabWorlds checking"
   ]
  },
  {
   "cell_type": "code",
   "execution_count": null,
   "id": "e69cf316",
   "metadata": {},
   "outputs": [],
   "source": [
    "import os\n",
    "import astropy\n",
    "import matplotlib.pyplot as plt\n",
    "import numpy as np\n",
    "import webbpsf"
   ]
  },
  {
   "cell_type": "markdown",
   "id": "31579b1a",
   "metadata": {},
   "source": [
    "Instantiate an instrument instance in the usual manner. In this case, let’s set up a NIRCam instance for one of the detectors in module B."
   ]
  },
  {
   "cell_type": "code",
   "execution_count": null,
   "id": "e3e8c18e",
   "metadata": {},
   "outputs": [],
   "source": [
    "nrc = webbpsf.NIRCam()\n",
    "nrc.filter='F200W'\n",
    "\n",
    "nrc.detector = 'NRCB2'\n",
    "nrc.detector_position = (1024, 1024)"
   ]
  },
  {
   "cell_type": "code",
   "execution_count": null,
   "id": "0a9c5418",
   "metadata": {},
   "outputs": [],
   "source": [
    "nrc.load_wss_opd_by_date('2023-08-01T00:00:00', plot=True)"
   ]
  },
  {
   "cell_type": "code",
   "execution_count": null,
   "id": "71d4d5f9",
   "metadata": {},
   "outputs": [],
   "source": [
    "trend_table = webbpsf.trending.monthly_trending_plot(2023, 7, verbose=False)"
   ]
  },
  {
   "cell_type": "code",
   "execution_count": null,
   "id": "c1b65308",
   "metadata": {},
   "outputs": [],
   "source": [
    "opdtable = webbpsf.mast_wss.retrieve_mast_opd_table()\n",
    "opdtable = webbpsf.mast_wss.deduplicate_opd_table(opdtable)\n",
    "webbpsf.mast_wss.download_all_opds(opdtable)"
   ]
  },
  {
   "cell_type": "code",
   "execution_count": null,
   "id": "8c56b30e",
   "metadata": {},
   "outputs": [],
   "source": [
    "webbpsf.trending.wavefront_time_series_plot(opdtable)"
   ]
  },
  {
   "cell_type": "code",
   "execution_count": null,
   "id": "23496325",
   "metadata": {},
   "outputs": [],
   "source": [
    "start_time =  astropy.time.Time('2022-05-19T00:00:00')\n",
    "end_time = astropy.time.Time('2022-09-19T00:00:00')\n",
    "\n",
    "webbpsf.trending.wavefront_drift_plots(opdtable, start_time=start_time, end_time=end_time, n_per_row=10)"
   ]
  },
  {
   "cell_type": "code",
   "execution_count": null,
   "id": "e6bcb9cc",
   "metadata": {},
   "outputs": [],
   "source": [
    "start_time =  astropy.time.Time('2022-07-16')\n",
    "webbpsf.trending.wfe_histogram_plot(opdtable, thresh=80, mark_corrections='arrows')"
   ]
  },
  {
   "cell_type": "code",
   "execution_count": null,
   "id": "685a568b",
   "metadata": {},
   "outputs": [],
   "source": [
    "this = nrc.get_wfe('ote')"
   ]
  },
  {
   "cell_type": "code",
   "execution_count": null,
   "id": "45c3b9c7",
   "metadata": {},
   "outputs": [],
   "source": [
    "type(this)"
   ]
  },
  {
   "cell_type": "code",
   "execution_count": null,
   "id": "550d3b0a",
   "metadata": {},
   "outputs": [],
   "source": [
    "plt.imshow(this, cmap='RdBu')"
   ]
  },
  {
   "cell_type": "code",
   "execution_count": null,
   "id": "672e13b6",
   "metadata": {},
   "outputs": [],
   "source": [
    "that = nrc.pupilopd\n",
    "print(type(that))"
   ]
  },
  {
   "cell_type": "code",
   "execution_count": null,
   "id": "f0c14d13",
   "metadata": {},
   "outputs": [],
   "source": [
    "that"
   ]
  },
  {
   "cell_type": "code",
   "execution_count": null,
   "id": "68c47167",
   "metadata": {},
   "outputs": [],
   "source": [
    "plt.imshow(that[0].data)"
   ]
  },
  {
   "cell_type": "code",
   "execution_count": null,
   "id": "7af8b37c",
   "metadata": {},
   "outputs": [],
   "source": [
    "nrc.visualize_wfe_budget()"
   ]
  },
  {
   "cell_type": "code",
   "execution_count": null,
   "id": "4dd24270",
   "metadata": {},
   "outputs": [],
   "source": []
  }
 ],
 "metadata": {
  "kernelspec": {
   "display_name": "Python 3 (ipykernel)",
   "language": "python",
   "name": "python3"
  },
  "language_info": {
   "codemirror_mode": {
    "name": "ipython",
    "version": 3
   },
   "file_extension": ".py",
   "mimetype": "text/x-python",
   "name": "python",
   "nbconvert_exporter": "python",
   "pygments_lexer": "ipython3",
   "version": "3.10.9"
  }
 },
 "nbformat": 4,
 "nbformat_minor": 5
}
