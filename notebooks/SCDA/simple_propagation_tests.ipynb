{
 "cells": [
  {
   "cell_type": "markdown",
   "id": "ca9951bf",
   "metadata": {},
   "source": [
    "# Simple propagation tests"
   ]
  },
  {
   "cell_type": "code",
   "execution_count": null,
   "id": "252f8d24",
   "metadata": {},
   "outputs": [],
   "source": [
    "import os\n",
    "from astropy.io import fits\n",
    "import asdf\n",
    "\n",
    "import hcipy\n",
    "from matplotlib.colors import TwoSlopeNorm\n",
    "import matplotlib.pyplot as plt\n",
    "import numpy as np\n",
    "\n",
    "from pastis.config import CONFIG_PASTIS\n",
    "from pastis.simulators.scda_telescopes import HexRingAPLC\n",
    "from pastis import util"
   ]
  },
  {
   "cell_type": "code",
   "execution_count": null,
   "id": "0302d146",
   "metadata": {},
   "outputs": [],
   "source": [
    "zerocen = TwoSlopeNorm(vcenter=0)"
   ]
  },
  {
   "cell_type": "code",
   "execution_count": null,
   "id": "f254c4e2",
   "metadata": {},
   "outputs": [],
   "source": [
    "pxsize = 1024\n",
    "diameter = 7.258823341\n",
    "wvln = 500e-9\n",
    "imlamD = 1.2 * 32\n",
    "fpm_rad = 3.5\n",
    "fpm_px = 150\n",
    "sampling = 4\n",
    "\n",
    "pupil_grid = hcipy.make_pupil_grid(dims=pxsize, diameter=diameter)\n",
    "#pupil_grid = hcipy.make_uniform_grid(pxsize, diameter)\n",
    "lam_over_d = wvln / diameter\n",
    "\n",
    "aper_fname = '/Users/ilaginja/repos/PASTIS/data/SCDA/2-Hex/masks/TelAp_LUVex_02-Hex_gy_ovsamp04_N1024.fits'\n",
    "pup_read = hcipy.read_fits(aper_fname)\n",
    "aperture = hcipy.Field(pup_read.ravel(), pupil_grid)\n",
    "\n",
    "apod_fname = '/Users/ilaginja/repos/PASTIS/data/SCDA/2-Hex/solutions/2-Hex_robust_0px_N1024.fits'\n",
    "apod_read = hcipy.read_fits(apod_fname)\n",
    "apodizer = hcipy.Field(apod_read.ravel(), pupil_grid)\n",
    "\n",
    "# Create a focal plane mask\n",
    "samp_foc = fpm_px / (fpm_rad * 2)\n",
    "#focal_grid_fpm = hcipy.make_focal_grid_from_pupil_grid(pupil_grid=pupil_grid, q=samp_foc, num_airy=fpm_rad, wavelength=wvln)\n",
    "focal_grid_fpm = hcipy.make_focal_grid(samp_foc, num_airy=fpm_rad)\n",
    "fpm = 1 - hcipy.circular_aperture(2 * fpm_rad * lam_over_d)(focal_grid_fpm)\n",
    "\n",
    "# Create a focal plane grid for the detector\n",
    "#focal_det = hcipy.make_focal_grid_from_pupil_grid(pupil_grid=pupil_grid, q=sampling, num_airy=imlamD, wavelength=wvln)\n",
    "focal_det = hcipy.make_focal_grid(q=sampling, num_airy=imlamD)"
   ]
  },
  {
   "cell_type": "code",
   "execution_count": null,
   "id": "3ddc0081",
   "metadata": {},
   "outputs": [],
   "source": [
    "plt.figure(figsize=(15, 5))\n",
    "plt.subplot(1, 3, 1)\n",
    "hcipy.imshow_field(aperture)\n",
    "plt.subplot(1, 3, 2)\n",
    "hcipy.imshow_field(apodizer)\n",
    "plt.subplot(1, 3, 3)\n",
    "hcipy.imshow_field(fpm)"
   ]
  },
  {
   "cell_type": "code",
   "execution_count": null,
   "id": "e06e489d",
   "metadata": {},
   "outputs": [],
   "source": [
    "prop_method = hcipy.FraunhoferPropagator(pupil_grid, focal_det)"
   ]
  },
  {
   "cell_type": "code",
   "execution_count": null,
   "id": "bd3a22d4",
   "metadata": {},
   "outputs": [],
   "source": [
    "wf_active_pupil = hcipy.Wavefront(aperture, wavelength=wvln)\n",
    "apod_prop = hcipy.Apodizer(apodizer)\n",
    "wf_apod = apod_prop(wf_active_pupil)\n",
    "\n",
    "# Propagate pupil with apod, or pupil only\n",
    "#wf_before_fpm = prop_method(wf_apod)\n",
    "wf_before_fpm = prop_method(wf_active_pupil)"
   ]
  },
  {
   "cell_type": "code",
   "execution_count": null,
   "id": "7940bfcf",
   "metadata": {},
   "outputs": [],
   "source": [
    "hcipy.write_fits(wf_before_fpm.real, 'real_before_fpm_PUP_pastis.fits')\n",
    "hcipy.write_fits(wf_before_fpm.imag, 'imag_before_fpm_PUP_pastis.fits')"
   ]
  },
  {
   "cell_type": "code",
   "execution_count": null,
   "id": "bb41f25d",
   "metadata": {},
   "outputs": [],
   "source": [
    "before_fpm_real = hcipy.read_fits('real_before_fpm_PUP_pastis.fits')\n",
    "before_fpm_imag = hcipy.read_fits('imag_before_fpm_PUP_pastis.fits')"
   ]
  },
  {
   "cell_type": "code",
   "execution_count": null,
   "id": "fb58a9fe",
   "metadata": {},
   "outputs": [],
   "source": [
    "plt.figure(figsize=(14, 7))\n",
    "\n",
    "zerocen = TwoSlopeNorm(vcenter=0, vmin=-7.5e-5, vmax=1e-5)\n",
    "plt.subplot(1, 2, 1)\n",
    "plt.imshow(wf_before_fpm.real.shaped - before_fpm_real, cmap='RdBu', origin='lower', norm=zerocen)\n",
    "plt.title(\"prop of aperture only real, hcipy0.5.2 - hcipy0.4.0\")\n",
    "plt.colorbar()\n",
    "\n",
    "zerocen = TwoSlopeNorm(vcenter=0, vmin=-4e-6, vmax=4e-6)\n",
    "plt.subplot(1, 2, 2)\n",
    "plt.imshow(wf_before_fpm.imag.shaped - before_fpm_imag, cmap='RdBu', origin='lower', norm=zerocen)\n",
    "plt.title(\"prop of aperture only imag, hcipy0.5.2 - hcipy0.4.0\")\n",
    "plt.colorbar()"
   ]
  },
  {
   "cell_type": "code",
   "execution_count": null,
   "id": "6336afb6",
   "metadata": {},
   "outputs": [],
   "source": [
    "plt.figure(figsize=(14, 7))\n",
    "zerocen = TwoSlopeNorm(vcenter=0, vmin=-1e-8, vmax=1e-8)\n",
    "\n",
    "plt.subplot(1, 2, 1)\n",
    "plt.imshow(wf_before_fpm.real.shaped, cmap='RdBu', origin='lower', norm=zerocen)\n",
    "plt.title(\"before FPM real, hcipy0.4.0 - hcipy0.5.2\")\n",
    "plt.colorbar()\n",
    "\n",
    "plt.subplot(1, 2, 2)\n",
    "plt.imshow(wf_before_fpm.imag.shaped, cmap='RdBu', origin='lower')\n",
    "plt.title(\"before FPM imag, hcipy0.4.0 - hcipy0.5.2\")\n",
    "plt.colorbar()"
   ]
  },
  {
   "cell_type": "code",
   "execution_count": null,
   "id": "bef30a02",
   "metadata": {},
   "outputs": [],
   "source": [
    "plt.figure(figsize=(14, 7))\n",
    "\n",
    "zerocen = TwoSlopeNorm(vcenter=0, vmin=-7.5e-5, vmax=1e-5)\n",
    "plt.subplot(1, 2, 1)\n",
    "plt.imshow(wf_before_fpm.real.shaped - wf_before_fpm3.real.shaped, cmap='RdBu', origin='lower')#, norm=zerocen)\n",
    "plt.title(\"prop of aperture only real, hcipy0.5.2 - hcipy0.4.0\")\n",
    "plt.colorbar()\n",
    "\n",
    "zerocen = TwoSlopeNorm(vcenter=0, vmin=-4e-6, vmax=4e-6)\n",
    "plt.subplot(1, 2, 2)\n",
    "plt.imshow(wf_before_fpm.imag.shaped - wf_before_fpm3.imag.shaped, cmap='RdBu', origin='lower')#, norm=zerocen)\n",
    "plt.title(\"prop of aperture only imag, hcipy0.5.2 - hcipy0.4.0\")\n",
    "plt.colorbar()"
   ]
  },
  {
   "cell_type": "code",
   "execution_count": null,
   "id": "50feb78b",
   "metadata": {},
   "outputs": [],
   "source": [
    "plt.figure(figsize=(14, 14))\n",
    "plt.imshow(wf_before_fpm3.imag.shaped, cmap='RdBu', origin='lower')"
   ]
  },
  {
   "cell_type": "code",
   "execution_count": null,
   "id": "4465c6fa",
   "metadata": {},
   "outputs": [],
   "source": []
  }
 ],
 "metadata": {
  "kernelspec": {
   "display_name": "Python 3 (ipykernel)",
   "language": "python",
   "name": "python3"
  },
  "language_info": {
   "codemirror_mode": {
    "name": "ipython",
    "version": 3
   },
   "file_extension": ".py",
   "mimetype": "text/x-python",
   "name": "python",
   "nbconvert_exporter": "python",
   "pygments_lexer": "ipython3",
   "version": "3.10.6"
  }
 },
 "nbformat": 4,
 "nbformat_minor": 5
}
