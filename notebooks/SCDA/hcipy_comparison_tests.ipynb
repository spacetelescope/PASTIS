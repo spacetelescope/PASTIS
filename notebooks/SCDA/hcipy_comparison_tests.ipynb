{
 "cells": [
  {
   "cell_type": "markdown",
   "id": "784390b9",
   "metadata": {},
   "source": [
    "# Propagation comparisons between two versions of hcipy\n",
    "\n",
    "Changing back and forth between conda environments while debugging."
   ]
  },
  {
   "cell_type": "code",
   "execution_count": null,
   "id": "f12503f4",
   "metadata": {},
   "outputs": [],
   "source": [
    "import os\n",
    "from astropy.io import fits\n",
    "import asdf\n",
    "\n",
    "import hcipy\n",
    "from matplotlib.colors import TwoSlopeNorm\n",
    "import matplotlib.pyplot as plt\n",
    "import numpy as np\n",
    "\n",
    "from pastis.config import CONFIG_PASTIS\n",
    "from pastis.simulators.scda_telescopes import HexRingAPLC\n",
    "from pastis import util"
   ]
  },
  {
   "cell_type": "code",
   "execution_count": null,
   "id": "25a6d4d2",
   "metadata": {},
   "outputs": [],
   "source": [
    "zerocen = TwoSlopeNorm(vcenter=0)"
   ]
  },
  {
   "cell_type": "code",
   "execution_count": null,
   "id": "f2bcdbc2",
   "metadata": {},
   "outputs": [],
   "source": [
    "NUM_RINGS = 2\n",
    "\n",
    "test_data_dir = os.path.join(util.find_package_location(), 'tests')\n",
    "matrix_path2 = os.path.join(test_data_dir, 'data', 'pastis_matrices', 'Hex2_matrix_piston-only.fits')\n",
    "HEX2_INTENSITY_MATRIX = fits.getdata(matrix_path2)\n",
    "NSEG_HEX2 = 3 * NUM_RINGS * (NUM_RINGS + 1) + 1\n",
    "\n",
    "# Set up 2-Hex simulator instance and its basic properties\n",
    "optics_input = os.path.join(util.find_repo_location(), 'data', 'SCDA')\n",
    "sampling = CONFIG_PASTIS.getfloat('HexRingTelescope', 'sampling')\n",
    "hex2 = HexRingAPLC(optics_input, NUM_RINGS, sampling)"
   ]
  },
  {
   "cell_type": "markdown",
   "id": "9073669c",
   "metadata": {},
   "source": [
    "## Aperture comparison"
   ]
  },
  {
   "cell_type": "code",
   "execution_count": null,
   "id": "a4c10937",
   "metadata": {},
   "outputs": [],
   "source": [
    "hcipy.imshow_field(hex2.aperture)"
   ]
  },
  {
   "cell_type": "code",
   "execution_count": null,
   "id": "72855a29",
   "metadata": {},
   "outputs": [],
   "source": [
    "hcipy.write_fits(hex2.aperture, 'pastis-elt.fits')"
   ]
  },
  {
   "cell_type": "code",
   "execution_count": null,
   "id": "9aa20773",
   "metadata": {},
   "outputs": [],
   "source": [
    "pastis = hcipy.read_fits('pastis.fits')"
   ]
  },
  {
   "cell_type": "code",
   "execution_count": null,
   "id": "523b4aaf",
   "metadata": {},
   "outputs": [],
   "source": [
    "this = hex2.aperture.shaped\n",
    "print(this.shape)\n",
    "print(pastis.shape)"
   ]
  },
  {
   "cell_type": "code",
   "execution_count": null,
   "id": "32e47e79",
   "metadata": {},
   "outputs": [],
   "source": [
    "plt.imshow(this - pastis)\n",
    "plt.colorbar()\n",
    "print(np.max(this - pastis))"
   ]
  },
  {
   "cell_type": "markdown",
   "id": "aeab0cdc",
   "metadata": {},
   "source": [
    "## Evaluated segments comparison"
   ]
  },
  {
   "cell_type": "code",
   "execution_count": null,
   "id": "22c47f50",
   "metadata": {},
   "outputs": [],
   "source": [
    "one = hex2._create_evaluated_segment_grid()"
   ]
  },
  {
   "cell_type": "code",
   "execution_count": null,
   "id": "8035f061",
   "metadata": {},
   "outputs": [],
   "source": [
    "hcipy.imshow_field(one[0])"
   ]
  },
  {
   "cell_type": "code",
   "execution_count": null,
   "id": "ad42e6f5",
   "metadata": {},
   "outputs": [],
   "source": [
    "for i in range(len(one)):\n",
    "    hcipy.write_fits(one[i], f'seg{i}_pastis.fits')"
   ]
  },
  {
   "cell_type": "code",
   "execution_count": null,
   "id": "7808e159",
   "metadata": {},
   "outputs": [],
   "source": [
    "segs_pastis = []\n",
    "for i in range(len(one)):\n",
    "    segs_pastis.append(one[i].shaped)"
   ]
  },
  {
   "cell_type": "code",
   "execution_count": null,
   "id": "28adb7d0",
   "metadata": {},
   "outputs": [],
   "source": [
    "segs_pastis_elt = []\n",
    "for i in range(len(one)):\n",
    "    segs_pastis_elt.append(hcipy.read_fits(f'seg{i}_pastis-elt.fits'))"
   ]
  },
  {
   "cell_type": "code",
   "execution_count": null,
   "id": "28a4787a",
   "metadata": {},
   "outputs": [],
   "source": [
    "index = 3\n",
    "plt.imshow(segs_pastis[index] - segs_pastis_elt[index])\n",
    "print(np.sum(segs_pastis[index] - segs_pastis_elt[index]))\n",
    "print(np.min(segs_pastis[index] - segs_pastis_elt[index]))\n",
    "print(np.max(segs_pastis[index] - segs_pastis_elt[index]))"
   ]
  },
  {
   "cell_type": "markdown",
   "id": "2dd0bcb2",
   "metadata": {},
   "source": [
    "## Segmented mirror influence functions comparison"
   ]
  },
  {
   "cell_type": "code",
   "execution_count": null,
   "id": "a1c6d850",
   "metadata": {},
   "outputs": [],
   "source": [
    "hex2.create_segmented_mirror(3)"
   ]
  },
  {
   "cell_type": "code",
   "execution_count": null,
   "id": "99be1e9d",
   "metadata": {},
   "outputs": [],
   "source": [
    "this = hex2.sm.influence_functions"
   ]
  },
  {
   "cell_type": "code",
   "execution_count": null,
   "id": "8494c060",
   "metadata": {},
   "outputs": [],
   "source": [
    "type(this)"
   ]
  },
  {
   "cell_type": "code",
   "execution_count": null,
   "id": "bc396db1",
   "metadata": {},
   "outputs": [],
   "source": [
    "hcipy.write_mode_basis(this, 'basis_pastis-elt.asdf')"
   ]
  },
  {
   "cell_type": "code",
   "execution_count": null,
   "id": "aa402dbf",
   "metadata": {},
   "outputs": [],
   "source": [
    "pastis_file = asdf.open('basis_pastis.asdf')\n",
    "pastis_elt_file = asdf.open('basis_pastis-elt.asdf')"
   ]
  },
  {
   "cell_type": "code",
   "execution_count": null,
   "id": "964eb0bc",
   "metadata": {},
   "outputs": [],
   "source": [
    "pastis_file.info()"
   ]
  },
  {
   "cell_type": "code",
   "execution_count": null,
   "id": "5d31f45f",
   "metadata": {},
   "outputs": [],
   "source": [
    "pastis = pastis_file['mode_basis']\n",
    "pastis_elt = pastis_elt_file['mode_basis']"
   ]
  },
  {
   "cell_type": "code",
   "execution_count": null,
   "id": "e6612f30",
   "metadata": {},
   "outputs": [],
   "source": [
    "print(pastis['coords'])\n",
    "print(pastis_elt['coords'])"
   ]
  },
  {
   "cell_type": "code",
   "execution_count": null,
   "id": "85b5040b",
   "metadata": {},
   "outputs": [],
   "source": [
    "print(pastis['zero'])\n",
    "print(pastis_elt['zero'])"
   ]
  },
  {
   "cell_type": "code",
   "execution_count": null,
   "id": "c76369c6",
   "metadata": {},
   "outputs": [],
   "source": [
    "pastis"
   ]
  },
  {
   "cell_type": "code",
   "execution_count": null,
   "id": "f7bebc45",
   "metadata": {},
   "outputs": [],
   "source": [
    "pastis_elt"
   ]
  },
  {
   "cell_type": "code",
   "execution_count": null,
   "id": "3e8fbaac",
   "metadata": {},
   "outputs": [],
   "source": [
    "mat_pa = pastis['transformation_matrix']\n",
    "mat_elt = pastis_elt['transformation_matrix']"
   ]
  },
  {
   "cell_type": "code",
   "execution_count": null,
   "id": "25784f29",
   "metadata": {},
   "outputs": [],
   "source": [
    "print(mat_pa.shape)\n",
    "print(mat_elt.shape)"
   ]
  },
  {
   "cell_type": "code",
   "execution_count": null,
   "id": "766b1d3f",
   "metadata": {},
   "outputs": [],
   "source": [
    "index = 47\n",
    "pas = mat_pa[:,index].reshape(1024, 1024)\n",
    "elt = mat_elt[:,index].reshape(1024, 1024)\n",
    "diff = pas - elt\n",
    "plt.imshow(diff, cmap='RdBu', origin='lower')\n",
    "plt.colorbar()\n",
    "print(np.sum(diff))\n",
    "print(np.min(diff))\n",
    "print(np.max(diff))"
   ]
  },
  {
   "cell_type": "markdown",
   "id": "4e9a240b",
   "metadata": {},
   "source": [
    "## Propagated efields comparison"
   ]
  },
  {
   "cell_type": "code",
   "execution_count": null,
   "id": "17096541",
   "metadata": {},
   "outputs": [],
   "source": [
    "unaberrated_coro_psf, direct = hex2.calc_psf(ref=True, norm_one_photon=True)\n",
    "NORM = np.max(direct)\n",
    "EFIELD_REF, _inter = hex2.calc_psf(return_intermediate='efield', norm_one_photon=True)"
   ]
  },
  {
   "cell_type": "code",
   "execution_count": null,
   "id": "e0c9732b",
   "metadata": {},
   "outputs": [],
   "source": [
    "NORM"
   ]
  },
  {
   "cell_type": "markdown",
   "id": "4e34a840",
   "metadata": {},
   "source": [
    "NORM for pastis_elt is 0.0137349  \n",
    "NORM for pastis is 0.0137349"
   ]
  },
  {
   "cell_type": "code",
   "execution_count": null,
   "id": "1f9ef2f5",
   "metadata": {},
   "outputs": [],
   "source": [
    "hcipy.write_fits(unaberrated_coro_psf, 'unaberrated_coro_psf_pastis.fits')\n",
    "hcipy.write_fits(direct, 'direct_pastis.fits')\n",
    "hcipy.write_fits(EFIELD_REF.real, 'efield-ref-REAL_pastis.fits')\n",
    "hcipy.write_fits(EFIELD_REF.imag, 'efield-ref-IMAG_pastis.fits')"
   ]
  },
  {
   "cell_type": "code",
   "execution_count": null,
   "id": "596aabfb",
   "metadata": {},
   "outputs": [],
   "source": [
    "_inter"
   ]
  },
  {
   "cell_type": "code",
   "execution_count": null,
   "id": "a99b8a4c",
   "metadata": {},
   "outputs": [],
   "source": [
    "hcipy.write_fits(_inter['seg_mirror'].real, 'real_seg_mirror_pastis-elt.fits')\n",
    "hcipy.write_fits(_inter['zernike_mirror'].real, 'real_zernike_mirror_pastis-elt.fits')\n",
    "hcipy.write_fits(_inter['dm'].real, 'real_dm_pastis-elt.fits')\n",
    "hcipy.write_fits(_inter['harris_seg_mirror'].real, 'real_harris_seg_mirror_pastis-elt.fits')\n",
    "hcipy.write_fits(_inter['ripple_mirror'].real, 'real_ripple_mirror_pastis-elt.fits')\n",
    "hcipy.write_fits(_inter['active_pupil'].real, 'real_active_pupil_pastis-elt.fits')\n",
    "hcipy.write_fits(_inter['apod'].real, 'real_apod_pastis-elt.fits')\n",
    "hcipy.write_fits(_inter['before_fpm'].real, 'real_before_fpm_pastis-elt.fits')\n",
    "hcipy.write_fits(_inter['after_fpm'].real, 'real_after_fpm_pastis-elt.fits')\n",
    "hcipy.write_fits(_inter['before_lyot'].real, 'real_before_lyot_pastis-elt.fits')\n",
    "hcipy.write_fits(_inter['after_lyot'].real, 'real_after_lyot_pastis-elt.fits')"
   ]
  },
  {
   "cell_type": "code",
   "execution_count": null,
   "id": "e1947d14",
   "metadata": {},
   "outputs": [],
   "source": [
    "hcipy.write_fits(_inter['seg_mirror'].imag, 'imag_seg_mirror_pastis-elt.fits')\n",
    "hcipy.write_fits(_inter['zernike_mirror'].imag, 'imag_zernike_mirror_pastis-elt.fits')\n",
    "hcipy.write_fits(_inter['dm'].imag, 'imag_dm_pastis-elt.fits')\n",
    "hcipy.write_fits(_inter['harris_seg_mirror'].imag, 'imag_harris_seg_mirror_pastis-elt.fits')\n",
    "hcipy.write_fits(_inter['ripple_mirror'].imag, 'imag_ripple_mirror_pastis-elt.fits')\n",
    "hcipy.write_fits(_inter['active_pupil'].imag, 'imag_active_pupil_pastis-elt.fits')\n",
    "hcipy.write_fits(_inter['apod'].imag, 'imag_apod_pastis-elt.fits')\n",
    "hcipy.write_fits(_inter['before_fpm'].imag, 'imag_before_fpm_pastis-elt.fits')\n",
    "hcipy.write_fits(_inter['after_fpm'].imag, 'imag_after_fpm_pastis-elt.fits')\n",
    "hcipy.write_fits(_inter['before_lyot'].imag, 'imag_before_lyot_pastis-elt.fits')\n",
    "hcipy.write_fits(_inter['after_lyot'].imag, 'imag_after_lyot_pastis-elt.fits')"
   ]
  },
  {
   "cell_type": "markdown",
   "id": "3415430a",
   "metadata": {},
   "source": [
    "Read"
   ]
  },
  {
   "cell_type": "code",
   "execution_count": null,
   "id": "933b5ea5",
   "metadata": {},
   "outputs": [],
   "source": [
    "elt_unaber = hcipy.read_fits('unaberrated_coro_psf_pastis-elt.fits')\n",
    "elt_direct = hcipy.read_fits('direct_pastis-elt.fits')\n",
    "elt_real = hcipy.read_fits('efield-ref-REAL_pastis-elt.fits')\n",
    "elt_imag = hcipy.read_fits('efield-ref-IMAG_pastis-elt.fits')"
   ]
  },
  {
   "cell_type": "code",
   "execution_count": null,
   "id": "8ae53e8f",
   "metadata": {},
   "outputs": [],
   "source": [
    "plt.imshow(unaberrated_coro_psf.shaped - elt_unaber, cmap='RdBu', origin='lower')\n",
    "plt.title(\"Unaberrated coro img, hcipy0.4.0 - hcipy0.5.2\")\n",
    "plt.colorbar()"
   ]
  },
  {
   "cell_type": "code",
   "execution_count": null,
   "id": "c7bbfd5c",
   "metadata": {},
   "outputs": [],
   "source": [
    "plt.imshow(direct.shaped - elt_direct, cmap='RdBu', origin='lower')\n",
    "plt.title(\"Direct img, hcipy0.4.0 - hcipy0.5.2\")\n",
    "plt.colorbar()"
   ]
  },
  {
   "cell_type": "code",
   "execution_count": null,
   "id": "57821c85",
   "metadata": {},
   "outputs": [],
   "source": [
    "plt.imshow(EFIELD_REF.real.shaped - elt_real, cmap='RdBu', origin='lower')\n",
    "plt.title(\"ref efield real, hcipy0.4.0 - hcipy0.5.2\")\n",
    "plt.colorbar()"
   ]
  },
  {
   "cell_type": "code",
   "execution_count": null,
   "id": "8e6bd0e8",
   "metadata": {},
   "outputs": [],
   "source": [
    "plt.imshow(EFIELD_REF.imag.shaped - elt_imag, cmap='RdBu', origin='lower')\n",
    "plt.title(\"ref efield imag, hcipy0.4.0 - hcipy0.5.2\")\n",
    "plt.colorbar()"
   ]
  },
  {
   "cell_type": "code",
   "execution_count": null,
   "id": "ea8e445c",
   "metadata": {},
   "outputs": [],
   "source": [
    "seg_mirror_elt_real = hcipy.read_fits('real_seg_mirror_pastis-elt.fits')\n",
    "zernike_elt_real = hcipy.read_fits('real_zernike_mirror_pastis-elt.fits')\n",
    "dm_elt_real = hcipy.read_fits('real_dm_pastis-elt.fits')\n",
    "harris_elt_real = hcipy.read_fits('real_harris_seg_mirror_pastis-elt.fits')\n",
    "ripple_elt_real = hcipy.read_fits('real_ripple_mirror_pastis-elt.fits')\n",
    "active_elt_real = hcipy.read_fits('real_active_pupil_pastis-elt.fits')\n",
    "apod_elt_real = hcipy.read_fits('real_apod_pastis-elt.fits')\n",
    "before_fpm_elt_real = hcipy.read_fits('real_before_fpm_pastis-elt.fits')\n",
    "after_fpm_elt_real = hcipy.read_fits('real_after_fpm_pastis-elt.fits')\n",
    "before_ls_elt_real = hcipy.read_fits('real_before_lyot_pastis-elt.fits')\n",
    "after_ls_elt_real = hcipy.read_fits('real_after_lyot_pastis-elt.fits')"
   ]
  },
  {
   "cell_type": "code",
   "execution_count": null,
   "id": "3bc2bbd1",
   "metadata": {},
   "outputs": [],
   "source": [
    "seg_mirror_elt_imag = hcipy.read_fits('imag_seg_mirror_pastis-elt.fits')\n",
    "zernike_elt_imag = hcipy.read_fits('imag_zernike_mirror_pastis-elt.fits')\n",
    "dm_elt_imag = hcipy.read_fits('imag_dm_pastis-elt.fits')\n",
    "harris_elt_imag = hcipy.read_fits('imag_harris_seg_mirror_pastis-elt.fits')\n",
    "ripple_elt_imag = hcipy.read_fits('imag_ripple_mirror_pastis-elt.fits')\n",
    "active_elt_imag = hcipy.read_fits('imag_active_pupil_pastis-elt.fits')\n",
    "apod_elt_imag = hcipy.read_fits('imag_apod_pastis-elt.fits')\n",
    "before_fpm_elt_imag = hcipy.read_fits('imag_before_fpm_pastis-elt.fits')\n",
    "after_fpm_elt_imag = hcipy.read_fits('imag_after_fpm_pastis-elt.fits')\n",
    "before_ls_elt_imag = hcipy.read_fits('imag_before_lyot_pastis-elt.fits')\n",
    "after_ls_elt_imag = hcipy.read_fits('imag_after_lyot_pastis-elt.fits')"
   ]
  },
  {
   "cell_type": "code",
   "execution_count": null,
   "id": "1fb8378b",
   "metadata": {},
   "outputs": [],
   "source": [
    "elt_real = [seg_mirror_elt_real, zernike_elt_real, dm_elt_real, harris_elt_real, ripple_elt_real,\n",
    "            active_elt_real, apod_elt_real, before_fpm_elt_real, after_fpm_elt_real, before_ls_elt_real, after_ls_elt_real]"
   ]
  },
  {
   "cell_type": "code",
   "execution_count": null,
   "id": "deb8147e",
   "metadata": {},
   "outputs": [],
   "source": [
    "elt_imag = [seg_mirror_elt_imag, zernike_elt_imag, dm_elt_imag, harris_elt_imag, ripple_elt_imag,\n",
    "            active_elt_imag, apod_elt_imag, before_fpm_elt_imag, after_fpm_elt_imag, before_ls_elt_imag, after_ls_elt_imag]"
   ]
  },
  {
   "cell_type": "code",
   "execution_count": null,
   "id": "5973803a",
   "metadata": {},
   "outputs": [],
   "source": [
    "hcipy.write_fits(_inter['seg_mirror'].imag, 'imag_seg_mirror_pastis-elt.fits')\n",
    "hcipy.write_fits(_inter['zernike_mirror'].imag, 'imag_zernike_mirror_pastis-elt.fits')\n",
    "hcipy.write_fits(_inter['dm'].imag, 'imag_dm_pastis-elt.fits')\n",
    "hcipy.write_fits(_inter['harris_seg_mirror'].imag, 'imag_harris_seg_mirror_pastis-elt.fits')\n",
    "hcipy.write_fits(_inter['ripple_mirror'].imag, 'imag_ripple_mirror_pastis-elt.fits')\n",
    "hcipy.write_fits(_inter['active_pupil'].imag, 'imag_active_pupil_pastis-elt.fits')\n",
    "hcipy.write_fits(_inter['apod'].imag, 'imag_apod_pastis-elt.fits')\n",
    "hcipy.write_fits(_inter['before_fpm'].imag, 'imag_before_fpm_pastis-elt.fits')\n",
    "hcipy.write_fits(_inter['after_fpm'].imag, 'imag_after_fpm_pastis-elt.fits')\n",
    "hcipy.write_fits(_inter['before_lyot'].imag, 'imag_before_lyot_pastis-elt.fits')\n",
    "hcipy.write_fits(_inter['after_lyot'].imag, 'imag_after_lyot_pastis-elt.fits')"
   ]
  },
  {
   "cell_type": "code",
   "execution_count": null,
   "id": "f7ffdec3",
   "metadata": {},
   "outputs": [],
   "source": [
    "pas_wfs = [_inter['seg_mirror'], _inter['zernike_mirror'], _inter['dm'], _inter['harris_seg_mirror'],\n",
    "           _inter['ripple_mirror'], _inter['active_pupil'], _inter['apod'], _inter['before_fpm'],\n",
    "           _inter['after_fpm'], _inter['before_lyot'], _inter['after_lyot']]"
   ]
  },
  {
   "cell_type": "code",
   "execution_count": null,
   "id": "72f20ca6",
   "metadata": {},
   "outputs": [],
   "source": [
    "plt.figure(figsize=(10,20))\n",
    "for i in range(len(elt_real)):\n",
    "    size = int(np.sqrt(pas_wfs[i].real.shape)[0])\n",
    "    \n",
    "    plt.subplot(11, 2, i*2 + 1)\n",
    "    plt.imshow(pas_wfs[i].real.reshape(size, size) - elt_real[i], cmap='RdBu', origin='lower')\n",
    "    plt.colorbar()\n",
    "    plt.subplot(11, 2, i*2 + 2)\n",
    "    plt.imshow(pas_wfs[i].imag.reshape(size, size) - elt_imag[i], cmap='RdBu', origin='lower')\n",
    "    plt.colorbar()"
   ]
  },
  {
   "cell_type": "code",
   "execution_count": null,
   "id": "841cbad8",
   "metadata": {},
   "outputs": [],
   "source": [
    "plt.figure(figsize=(14, 7))\n",
    "\n",
    "plt.subplot(1, 2, 1)\n",
    "plt.imshow(_inter['before_fpm'].real.shaped - before_fpm_elt_real, cmap='RdBu', origin='lower')\n",
    "plt.title(\"before FPM real, hcipy0.4.0 - hcipy0.5.2\")\n",
    "plt.colorbar()\n",
    "\n",
    "plt.subplot(1, 2, 2)\n",
    "plt.imshow(_inter['before_fpm'].imag.shaped - before_fpm_elt_imag, cmap='RdBu', origin='lower')\n",
    "plt.title(\"before FPM imag, hcipy0.4.0 - hcipy0.5.2\")\n",
    "plt.colorbar()"
   ]
  },
  {
   "cell_type": "code",
   "execution_count": null,
   "id": "f9554014",
   "metadata": {},
   "outputs": [],
   "source": [
    "plt.figure(figsize=(14, 7))\n",
    "\n",
    "plt.subplot(1, 2, 1)\n",
    "plt.imshow(_inter['before_lyot'].real.shaped - before_ls_elt_real, cmap='RdBu', origin='lower')\n",
    "plt.title(\"Lyot plane real, hcipy0.4.0 - hcipy0.5.2\")\n",
    "plt.colorbar()\n",
    "\n",
    "plt.subplot(1, 2, 2)\n",
    "plt.imshow(_inter['before_lyot'].imag.shaped - before_ls_elt_imag, cmap='RdBu', origin='lower')\n",
    "plt.title(\"Loyt plane imag, hcipy0.4.0 - hcipy0.5.2\")\n",
    "plt.colorbar()"
   ]
  },
  {
   "cell_type": "markdown",
   "id": "4846bd4a",
   "metadata": {},
   "source": [
    "## MWE with hcipy"
   ]
  },
  {
   "cell_type": "code",
   "execution_count": null,
   "id": "27190b8a",
   "metadata": {},
   "outputs": [],
   "source": [
    "grid = hcipy.make_pupil_grid(1000, diameter=15)"
   ]
  },
  {
   "cell_type": "code",
   "execution_count": null,
   "id": "439fdf6e",
   "metadata": {},
   "outputs": [],
   "source": [
    "pup = hcipy.make_luvoir_a_aperture()(grid)"
   ]
  },
  {
   "cell_type": "code",
   "execution_count": null,
   "id": "16aa4040",
   "metadata": {},
   "outputs": [],
   "source": [
    "hcipy.imshow_field(pup, cmap='Greys_r')"
   ]
  },
  {
   "cell_type": "code",
   "execution_count": null,
   "id": "94c9be4a",
   "metadata": {},
   "outputs": [],
   "source": [
    "focal = hcipy.make_focal_grid(4, 32)\n",
    "prop = hcipy.FraunhoferPropagator(grid, focal)"
   ]
  },
  {
   "cell_type": "code",
   "execution_count": null,
   "id": "17f93658",
   "metadata": {},
   "outputs": [],
   "source": [
    "wf_pup = hcipy.Wavefront(pup, 500e-9)"
   ]
  },
  {
   "cell_type": "code",
   "execution_count": null,
   "id": "17aaf8a0",
   "metadata": {},
   "outputs": [],
   "source": [
    "wf_fp = prop(wf_pup)"
   ]
  },
  {
   "cell_type": "code",
   "execution_count": null,
   "id": "d2ff8255",
   "metadata": {},
   "outputs": [],
   "source": [
    "hcipy.imshow_field(wf_fp.intensity, cmap='inferno')"
   ]
  },
  {
   "cell_type": "code",
   "execution_count": null,
   "id": "a2980fe9",
   "metadata": {},
   "outputs": [],
   "source": [
    "wavelength = 500e-9 # meter\n",
    "pupil_diameter = 15\n",
    "pupil_grid = hcipy.make_pupil_grid(256, 1.2 * pupil_diameter)\n",
    "aperture_luvoir = hcipy.evaluate_supersampled(hcipy.make_luvoir_a_aperture(), pupil_grid, 8)\n",
    "wf_luvoir = hcipy.Wavefront(aperture_luvoir, wavelength)\n",
    "\n",
    "focal_length = 0.5 # meter\n",
    "spatial_resolution = focal_length / pupil_diameter * wavelength\n",
    "focal_grid = hcipy.make_focal_grid(8, 12, spatial_resolution=spatial_resolution)\n",
    "\n",
    "fraunhofer = hcipy.FraunhoferPropagator(pupil_grid, focal_grid, focal_length=focal_length)\n",
    "img_luvoir = fraunhofer(wf_luvoir)"
   ]
  },
  {
   "cell_type": "code",
   "execution_count": null,
   "id": "92725120",
   "metadata": {},
   "outputs": [],
   "source": [
    "hcipy.write_fits(img_luvoir.intensity, 'int_pastis.fits')\n",
    "hcipy.write_fits(img_luvoir.phase, 'phase_pastis.fits')\n",
    "hcipy.write_fits(img_luvoir.real, 'real_pastis.fits')\n",
    "hcipy.write_fits(img_luvoir.imag, 'imag_pastis.fits')"
   ]
  },
  {
   "cell_type": "code",
   "execution_count": null,
   "id": "0e1b9cd6",
   "metadata": {},
   "outputs": [],
   "source": [
    "pas_int = hcipy.read_fits('int_pastis.fits')\n",
    "pas_phase = hcipy.read_fits('phase_pastis.fits')\n",
    "pas_real = hcipy.read_fits('real_pastis.fits')\n",
    "pas_imag = hcipy.read_fits('imag_pastis.fits')"
   ]
  },
  {
   "cell_type": "code",
   "execution_count": null,
   "id": "57026416",
   "metadata": {},
   "outputs": [],
   "source": [
    "plt.subplot(2, 2, 1)\n",
    "plt.imshow(pas_int - img_luvoir.intensity.shaped, cmap='RdBu')\n",
    "plt.colorbar()\n",
    "plt.subplot(2, 2, 2)\n",
    "plt.imshow(pas_phase - img_luvoir.phase.shaped, cmap='RdBu')\n",
    "plt.colorbar()\n",
    "plt.subplot(2, 2, 3)\n",
    "plt.imshow(pas_real - img_luvoir.real.shaped, cmap='RdBu')\n",
    "plt.colorbar()\n",
    "plt.subplot(2, 2, 4)\n",
    "plt.imshow(pas_imag - img_luvoir.imag.shaped, cmap='RdBu')\n",
    "plt.colorbar()"
   ]
  },
  {
   "cell_type": "markdown",
   "id": "b8bbd32e",
   "metadata": {},
   "source": [
    "## Repeating the same with an aperture from file"
   ]
  },
  {
   "cell_type": "code",
   "execution_count": null,
   "id": "90d0a16d",
   "metadata": {},
   "outputs": [],
   "source": [
    "wavelength = 500e-9 # meter\n",
    "pupil_diameter = 7.258823341\n",
    "pupil_grid = hcipy.make_pupil_grid(1024, 1.2 * pupil_diameter)\n",
    "\n",
    "aper_file = fits.getdata('/Users/ilaginja/repos/PASTIS/data/SCDA/2-Hex/masks/TelAp_LUVex_02-Hex_gy_ovsamp04_N1024.fits')\n",
    "aperture_luvoir = hcipy.Field(aper_file.ravel(), pupil_grid)\n",
    "\n",
    "wf_luvoir = hcipy.Wavefront(aperture_luvoir, wavelength)\n",
    "\n",
    "focal_length = 0.5 # meter\n",
    "spatial_resolution = focal_length / pupil_diameter * wavelength\n",
    "focal_grid = hcipy.make_focal_grid(8, 12, spatial_resolution=spatial_resolution)\n",
    "\n",
    "fraunhofer = hcipy.FraunhoferPropagator(pupil_grid, focal_grid, focal_length=focal_length)\n",
    "img_luvoir = fraunhofer(wf_luvoir)"
   ]
  },
  {
   "cell_type": "code",
   "execution_count": null,
   "id": "90481979",
   "metadata": {},
   "outputs": [],
   "source": [
    "hcipy.write_fits(img_luvoir.intensity, 'int_pastis.fits')\n",
    "hcipy.write_fits(img_luvoir.phase, 'phase_pastis.fits')\n",
    "hcipy.write_fits(img_luvoir.real, 'real_pastis.fits')\n",
    "hcipy.write_fits(img_luvoir.imag, 'imag_pastis.fits')"
   ]
  },
  {
   "cell_type": "code",
   "execution_count": null,
   "id": "c87d545d",
   "metadata": {},
   "outputs": [],
   "source": [
    "pas_int = hcipy.read_fits('int_pastis.fits')\n",
    "pas_phase = hcipy.read_fits('phase_pastis.fits')\n",
    "pas_real = hcipy.read_fits('real_pastis.fits')\n",
    "pas_imag = hcipy.read_fits('imag_pastis.fits')"
   ]
  },
  {
   "cell_type": "code",
   "execution_count": null,
   "id": "dba50c41",
   "metadata": {},
   "outputs": [],
   "source": [
    "plt.subplot(2, 2, 1)\n",
    "plt.imshow(pas_int - img_luvoir.intensity.shaped, cmap='RdBu')\n",
    "plt.colorbar()\n",
    "plt.subplot(2, 2, 2)\n",
    "plt.imshow(pas_phase - img_luvoir.phase.shaped, cmap='RdBu')\n",
    "plt.colorbar()\n",
    "plt.subplot(2, 2, 3)\n",
    "plt.imshow(pas_real - img_luvoir.real.shaped, cmap='RdBu')\n",
    "plt.colorbar()\n",
    "plt.subplot(2, 2, 4)\n",
    "plt.imshow(pas_imag - img_luvoir.imag.shaped, cmap='RdBu')\n",
    "plt.colorbar()"
   ]
  },
  {
   "cell_type": "markdown",
   "id": "4e648ac4",
   "metadata": {},
   "source": [
    "## Maybe it's the propagation normalization?"
   ]
  },
  {
   "cell_type": "code",
   "execution_count": null,
   "id": "083f3cb0",
   "metadata": {},
   "outputs": [],
   "source": [
    "unaberrated_coro_psf, direct = hex2.calc_psf(ref=True, norm_one_photon=False)\n",
    "NORM = np.max(direct)\n",
    "EFIELD_REF, _inter = hex2.calc_psf(return_intermediate='efield', norm_one_photon=False)"
   ]
  },
  {
   "cell_type": "code",
   "execution_count": null,
   "id": "940a3a7e",
   "metadata": {},
   "outputs": [],
   "source": [
    "NORM"
   ]
  },
  {
   "cell_type": "markdown",
   "id": "c50c8f8b",
   "metadata": {},
   "source": [
    "NORM for pastis_elt is 1.61546632e+15  \n",
    "NORM for pastis is 1.61546632e+15"
   ]
  },
  {
   "cell_type": "code",
   "execution_count": null,
   "id": "4beb25a3",
   "metadata": {},
   "outputs": [],
   "source": [
    "hcipy.write_fits(unaberrated_coro_psf, 'unaberrated_coro_psf_pastis-elt.fits')\n",
    "hcipy.write_fits(direct, 'direct_pastis-elt.fits')\n",
    "hcipy.write_fits(EFIELD_REF.real, 'efield-ref-REAL_pastis-elt.fits')\n",
    "hcipy.write_fits(EFIELD_REF.imag, 'efield-ref-IMAG_pastis-elt.fits')"
   ]
  },
  {
   "cell_type": "code",
   "execution_count": null,
   "id": "5ba5ecb3",
   "metadata": {},
   "outputs": [],
   "source": [
    "hcipy.write_fits(_inter['before_fpm'].real, 'real_before_fpm_pastis-elt.fits')\n",
    "hcipy.write_fits(_inter['before_lyot'].real, 'real_before_lyot_pastis-elt.fits')\n",
    "hcipy.write_fits(_inter['before_fpm'].imag, 'imag_before_fpm_pastis-elt.fits')\n",
    "hcipy.write_fits(_inter['before_lyot'].imag, 'imag_before_lyot_pastis-elt.fits')"
   ]
  },
  {
   "cell_type": "code",
   "execution_count": null,
   "id": "0047ac8b",
   "metadata": {},
   "outputs": [],
   "source": [
    "elt_unaber = hcipy.read_fits('unaberrated_coro_psf_pastis-elt.fits')\n",
    "elt_direct = hcipy.read_fits('direct_pastis-elt.fits')\n",
    "elt_real = hcipy.read_fits('efield-ref-REAL_pastis-elt.fits')\n",
    "elt_imag = hcipy.read_fits('efield-ref-IMAG_pastis-elt.fits')"
   ]
  },
  {
   "cell_type": "code",
   "execution_count": null,
   "id": "5ddbcced",
   "metadata": {},
   "outputs": [],
   "source": [
    "before_fpm_elt_real = hcipy.read_fits('real_before_fpm_pastis-elt.fits')\n",
    "before_ls_elt_real = hcipy.read_fits('real_before_lyot_pastis-elt.fits')\n",
    "before_fpm_elt_imag = hcipy.read_fits('imag_before_fpm_pastis-elt.fits')\n",
    "before_ls_elt_imag = hcipy.read_fits('imag_before_lyot_pastis-elt.fits')"
   ]
  },
  {
   "cell_type": "code",
   "execution_count": null,
   "id": "fceba3d7",
   "metadata": {},
   "outputs": [],
   "source": [
    "zerocen = TwoSlopeNorm(vcenter=0, vmin=-650000, vmax=500000)\n",
    "plt.imshow(unaberrated_coro_psf.shaped - elt_unaber, cmap='RdBu', origin='lower', norm=zerocen)\n",
    "plt.title(\"Unaberrated coro img, hcipy0.4.0 - hcipy0.5.2\")\n",
    "plt.colorbar()"
   ]
  },
  {
   "cell_type": "code",
   "execution_count": null,
   "id": "3ae0d25e",
   "metadata": {},
   "outputs": [],
   "source": [
    "zerocen = TwoSlopeNorm(vcenter=0, vmin=-5, vmax=5)\n",
    "plt.imshow(direct.shaped - elt_direct, cmap='RdBu', origin='lower', norm=zerocen)\n",
    "plt.title(\"Direct img, hcipy0.4.0 - hcipy0.5.2\")\n",
    "plt.colorbar()"
   ]
  },
  {
   "cell_type": "code",
   "execution_count": null,
   "id": "ceca53f7",
   "metadata": {},
   "outputs": [],
   "source": [
    "plt.imshow(EFIELD_REF.real.shaped - elt_real, cmap='RdBu', origin='lower')\n",
    "plt.title(\"ref efield real, hcipy0.4.0 - hcipy0.5.2\")\n",
    "plt.colorbar()"
   ]
  },
  {
   "cell_type": "code",
   "execution_count": null,
   "id": "b420b74c",
   "metadata": {},
   "outputs": [],
   "source": [
    "zerocen = TwoSlopeNorm(vcenter=0, vmin=-5, vmax=19)\n",
    "plt.imshow(EFIELD_REF.imag.shaped - elt_imag, cmap='RdBu', origin='lower', norm=zerocen)\n",
    "plt.title(\"ref efield imag, hcipy0.4.0 - hcipy0.5.2\")\n",
    "plt.colorbar()"
   ]
  },
  {
   "cell_type": "code",
   "execution_count": null,
   "id": "e62efd50",
   "metadata": {},
   "outputs": [],
   "source": [
    "plt.figure(figsize=(14, 7))\n",
    "zerocen = TwoSlopeNorm(vcenter=0, vmin=-1e-8, vmax=1e-8)\n",
    "\n",
    "plt.subplot(1, 2, 1)\n",
    "plt.imshow(_inter['before_fpm'].real.shaped - before_fpm_elt_real, cmap='RdBu', origin='lower', norm=zerocen)\n",
    "plt.title(\"before FPM real, hcipy0.4.0 - hcipy0.5.2\")\n",
    "plt.colorbar()\n",
    "\n",
    "plt.subplot(1, 2, 2)\n",
    "plt.imshow(_inter['before_fpm'].imag.shaped - before_fpm_elt_imag, cmap='RdBu', origin='lower')\n",
    "plt.title(\"before FPM imag, hcipy0.4.0 - hcipy0.5.2\")\n",
    "plt.colorbar()"
   ]
  },
  {
   "cell_type": "code",
   "execution_count": null,
   "id": "7965eb3d",
   "metadata": {},
   "outputs": [],
   "source": [
    "plt.figure(figsize=(14, 7))\n",
    "\n",
    "plt.subplot(1, 2, 1)\n",
    "plt.imshow(_inter['before_lyot'].real.shaped - before_ls_elt_real, cmap='RdBu', origin='lower')\n",
    "plt.title(\"Lyot plane real, hcipy0.4.0 - hcipy0.5.2\")\n",
    "plt.colorbar()\n",
    "\n",
    "plt.subplot(1, 2, 2)\n",
    "plt.imshow(_inter['before_lyot'].imag.shaped - before_ls_elt_imag, cmap='RdBu', origin='lower')\n",
    "plt.title(\"Loyt plane imag, hcipy0.4.0 - hcipy0.5.2\")\n",
    "plt.colorbar()"
   ]
  },
  {
   "cell_type": "code",
   "execution_count": null,
   "id": "6ed8131e",
   "metadata": {},
   "outputs": [],
   "source": []
  }
 ],
 "metadata": {
  "kernelspec": {
   "display_name": "Python 3 (ipykernel)",
   "language": "python",
   "name": "python3"
  },
  "language_info": {
   "codemirror_mode": {
    "name": "ipython",
    "version": 3
   },
   "file_extension": ".py",
   "mimetype": "text/x-python",
   "name": "python",
   "nbconvert_exporter": "python",
   "pygments_lexer": "ipython3",
   "version": "3.10.6"
  }
 },
 "nbformat": 4,
 "nbformat_minor": 5
}
