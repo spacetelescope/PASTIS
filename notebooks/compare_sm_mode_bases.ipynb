{
 "cells": [
  {
   "cell_type": "markdown",
   "id": "a8c7082b",
   "metadata": {},
   "source": [
    "# Compare SM mode bases\n",
    "\n",
    "Compare two hcipy mode bases that have been saved to asdf files."
   ]
  },
  {
   "cell_type": "code",
   "execution_count": null,
   "id": "9d862b0d",
   "metadata": {},
   "outputs": [],
   "source": [
    "import asdf\n",
    "import os\n",
    "import matplotlib.pyplot as plt\n",
    "import numpy as np\n",
    "import hcipy"
   ]
  },
  {
   "cell_type": "code",
   "execution_count": null,
   "id": "6fadf159",
   "metadata": {},
   "outputs": [],
   "source": [
    "original_file = asdf.open('original.asdf')\n",
    "other_file = asdf.open('basis.asdf')"
   ]
  },
  {
   "cell_type": "code",
   "execution_count": null,
   "id": "ffed89b5",
   "metadata": {},
   "outputs": [],
   "source": [
    "original_file.info()"
   ]
  },
  {
   "cell_type": "code",
   "execution_count": null,
   "id": "16eb1f9c",
   "metadata": {},
   "outputs": [],
   "source": [
    "original = original_file['mode_basis']['transformation_matrix']\n",
    "other = other_file['mode_basis']['transformation_matrix']\n",
    "\n",
    "print(original.shape)\n",
    "print(other.shape)\n",
    "\n",
    "dim = int(np.sqrt(original.shape[0]))\n",
    "\n",
    "assert original.shape == other.shape, \"Not same shape\""
   ]
  },
  {
   "cell_type": "code",
   "execution_count": null,
   "id": "502a5a4f",
   "metadata": {},
   "outputs": [],
   "source": [
    "index = 37\n",
    "diff = original[:, index].reshape(dim, dim) - other[:, index].reshape(dim, dim)\n",
    "\n",
    "plt.imshow(diff)\n",
    "plt.colorbar()\n",
    "\n",
    "print(np.sum(diff))\n",
    "print(np.min(diff))\n",
    "print(np.max(diff))"
   ]
  },
  {
   "cell_type": "code",
   "execution_count": null,
   "id": "7c555678",
   "metadata": {},
   "outputs": [],
   "source": [
    "np.sum(original - other)"
   ]
  },
  {
   "cell_type": "code",
   "execution_count": null,
   "id": "7c87edc6",
   "metadata": {},
   "outputs": [],
   "source": [
    "plt.imshow(original[:, -3].reshape(dim, dim), cmap='RdBu')\n",
    "plt.colorbar()"
   ]
  },
  {
   "cell_type": "code",
   "execution_count": null,
   "id": "6adeabc1",
   "metadata": {},
   "outputs": [],
   "source": []
  }
 ],
 "metadata": {
  "kernelspec": {
   "display_name": "Python 3 (ipykernel)",
   "language": "python",
   "name": "python3"
  },
  "language_info": {
   "codemirror_mode": {
    "name": "ipython",
    "version": 3
   },
   "file_extension": ".py",
   "mimetype": "text/x-python",
   "name": "python",
   "nbconvert_exporter": "python",
   "pygments_lexer": "ipython3",
   "version": "3.10.6"
  }
 },
 "nbformat": 4,
 "nbformat_minor": 5
}
