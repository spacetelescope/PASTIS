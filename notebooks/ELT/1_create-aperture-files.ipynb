{
 "cells": [
  {
   "cell_type": "markdown",
   "id": "e6ccef1c",
   "metadata": {},
   "source": [
    "# Create ELT aperture files\n",
    "\n",
    "Need:\n",
    "- aperture\n",
    "- indexed aperture containing segment positions\n",
    "- Lyot stop (empty for HARMONI)\n",
    "- apodizer"
   ]
  },
  {
   "cell_type": "code",
   "execution_count": null,
   "id": "7d25c06f",
   "metadata": {},
   "outputs": [],
   "source": [
    "import os\n",
    "from astropy.io import fits\n",
    "import hcipy\n",
    "import matplotlib.pyplot as plt\n",
    "import numpy as np"
   ]
  },
  {
   "cell_type": "markdown",
   "id": "d98a239a",
   "metadata": {},
   "source": [
    "## Telescope aperture"
   ]
  },
  {
   "cell_type": "code",
   "execution_count": null,
   "id": "b83d9d12",
   "metadata": {},
   "outputs": [],
   "source": [
    "pupil_grid = hcipy.make_pupil_grid(1034, diameter=40)\n",
    "\n",
    "# Plain aperture\n",
    "aper_gen = hcipy.make_elt_aperture(normalized=False)\n",
    "aper = hcipy.evaluate_supersampled(aper_gen, pupil_grid, 4)"
   ]
  },
  {
   "cell_type": "code",
   "execution_count": null,
   "id": "6375ce13",
   "metadata": {},
   "outputs": [],
   "source": [
    "# Indexed aperture\n",
    "aper_ind_gen, seg_gen = hcipy.make_elt_aperture(normalized=False, segment_transmissions=np.arange(798)+1,\n",
    "                                                return_segments=True, with_spiders=False)\n",
    "aper_ind = hcipy.evaluate_supersampled(aper_ind_gen, pupil_grid, 4)"
   ]
  },
  {
   "cell_type": "code",
   "execution_count": null,
   "id": "67dbf49b",
   "metadata": {},
   "outputs": [],
   "source": [
    "plt.figure(figsize=(16,8))\n",
    "plt.subplot(1,2,1)\n",
    "hcipy.imshow_field(aper, cmap='Greys_r', origin='lower')\n",
    "plt.colorbar()\n",
    "plt.subplot(1,2,2)\n",
    "hcipy.imshow_field(aper_ind, origin='lower')\n",
    "plt.colorbar()"
   ]
  },
  {
   "cell_type": "code",
   "execution_count": null,
   "id": "cdad06ff",
   "metadata": {},
   "outputs": [],
   "source": [
    "type(seg_gen[0])"
   ]
  },
  {
   "cell_type": "code",
   "execution_count": null,
   "id": "4e7a2750",
   "metadata": {},
   "outputs": [],
   "source": [
    "this = seg_gen.points"
   ]
  },
  {
   "cell_type": "code",
   "execution_count": null,
   "id": "b99089fc",
   "metadata": {},
   "outputs": [],
   "source": [
    "hdu_indexed = fits.PrimaryHDU()\n",
    "hdr_indexed = hdu_indexed.header.copy()"
   ]
  },
  {
   "cell_type": "code",
   "execution_count": null,
   "id": "1d1e969c",
   "metadata": {},
   "outputs": [],
   "source": [
    "# seg_xys = seg_gen.points\n",
    "# for segment in range(seg_xys.shape[0]):\n",
    "#     print('seg' + str(segment + 1) + '_x', seg_gen.x[segment], 'x-position segment ' + str(segment + 1))\n",
    "#     print('seg' + str(segment + 1) + '_y', seg_gen.y[segment], 'y-position segment ' + str(segment + 1))\n",
    "#     hdr_indexed.set('seg' + str(segment + 1) + '_x', seg_gen.x[segment], 'x-position segment ' + str(segment + 1))\n",
    "#     hdr_indexed.set('seg' + str(segment + 1) + '_y', seg_gen.y[segment], 'y-position segment ' + str(segment + 1))"
   ]
  },
  {
   "cell_type": "code",
   "execution_count": null,
   "id": "8cb5259c",
   "metadata": {},
   "outputs": [],
   "source": [
    "for i in range(len(seg_gen)):\n",
    "    seg_xys = seg_gen[i].keywords['p']\n",
    "    hdr_indexed.set('seg'+str(i+1)+ '_x',seg_xys[0],'x-position segment '+str(i+1))\n",
    "    hdr_indexed.set('seg'+str(i+1)+ '_y',seg_xys[1],'y-position segment '+str(i+1))"
   ]
  },
  {
   "cell_type": "code",
   "execution_count": null,
   "id": "e18bf0fe",
   "metadata": {},
   "outputs": [],
   "source": [
    "fits.writeto('ELT_aperture.fits', aper.shaped, overwrite=True)\n",
    "fits.writeto('ELT_aperture_indexed.fits', aper_ind.shaped, hdr_indexed, overwrite=True)"
   ]
  },
  {
   "cell_type": "markdown",
   "id": "21b5264e",
   "metadata": {},
   "source": [
    "## Empty LS and apodizer as stand-ins"
   ]
  },
  {
   "cell_type": "code",
   "execution_count": null,
   "id": "90405255",
   "metadata": {},
   "outputs": [],
   "source": [
    "lyot_stop = np.ones_like(aper)\n",
    "fits.writeto('lyot_stop.fits', lyot_stop.shaped, overwrite=True)"
   ]
  },
  {
   "cell_type": "markdown",
   "id": "fad1e382",
   "metadata": {},
   "source": [
    "## Inspect apodizer files"
   ]
  },
  {
   "cell_type": "code",
   "execution_count": null,
   "id": "b5802c70",
   "metadata": {},
   "outputs": [],
   "source": [
    "aper_fname = '/Users/ilaginja/Documents/MakidonLabWork/PASTIS/ELT_harmoni/ELT_1132_1024.fits'\n",
    "spc_fname = '/Users/ilaginja/Documents/MakidonLabWork/PASTIS/ELT_harmoni/HSP2.fits'\n",
    "\n",
    "aper = fits.getdata(aper_fname)\n",
    "spc = fits.getdata(spc_fname)\n",
    "\n",
    "print(aper.shape)\n",
    "print(spc.shape)\n",
    "\n",
    "plt.figure(figsize=(14, 7))\n",
    "plt.subplot(1, 2, 1)\n",
    "plt.imshow(aper, cmap='Greys_r', origin='lower')\n",
    "plt.subplot(1, 2, 2)\n",
    "plt.imshow(spc, cmap='Greys_r', origin='lower')"
   ]
  },
  {
   "cell_type": "code",
   "execution_count": null,
   "id": "8405c4cb",
   "metadata": {},
   "outputs": [],
   "source": [
    "# Replot after cutting down to 1024 x 1024 pixels to see what that gives on the edges\n",
    "hbox = int((aper.shape[0] - 1034) / 2)\n",
    "print(hbox)\n",
    "\n",
    "plt.figure(figsize=(14, 7))\n",
    "plt.subplot(1, 2, 1)\n",
    "plt.imshow(aper[hbox:-hbox, hbox:-hbox], cmap='Greys_r', origin='lower')\n",
    "plt.subplot(1, 2, 2)\n",
    "plt.imshow(spc[hbox:-hbox, hbox:-hbox], cmap='Greys_r', origin='lower')"
   ]
  },
  {
   "cell_type": "code",
   "execution_count": null,
   "id": "5fb5076c",
   "metadata": {},
   "outputs": [],
   "source": [
    "#aper2 = aper[hbox:-hbox, hbox:-hbox]\n",
    "spc2 = spc[hbox:-hbox, hbox:-hbox]\n",
    "plt.figure(figsize=(15, 15))\n",
    "plt.imshow(spc2, cmap='Greys_r', origin='lower')"
   ]
  },
  {
   "cell_type": "code",
   "execution_count": null,
   "id": "27fd914e",
   "metadata": {},
   "outputs": [],
   "source": [
    "fits.writeto('spc_test.fits', spc2, overwrite=True)"
   ]
  },
  {
   "cell_type": "code",
   "execution_count": null,
   "id": "9f19075f",
   "metadata": {},
   "outputs": [],
   "source": []
  }
 ],
 "metadata": {
  "kernelspec": {
   "display_name": "Python 3 (ipykernel)",
   "language": "python",
   "name": "python3"
  },
  "language_info": {
   "codemirror_mode": {
    "name": "ipython",
    "version": 3
   },
   "file_extension": ".py",
   "mimetype": "text/x-python",
   "name": "python",
   "nbconvert_exporter": "python",
   "pygments_lexer": "ipython3",
   "version": "3.10.6"
  }
 },
 "nbformat": 4,
 "nbformat_minor": 5
}
