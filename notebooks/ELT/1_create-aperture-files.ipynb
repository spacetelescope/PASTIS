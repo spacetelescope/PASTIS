{
 "cells": [
  {
   "cell_type": "markdown",
   "id": "e6ccef1c",
   "metadata": {},
   "source": [
    "# Create ELT aperture files\n",
    "\n",
    "Need:\n",
    "- aperture\n",
    "- indexed aperture containing segment positions\n",
    "- Lyot stop (for now empty)\n",
    "- apodizer (for now empty)"
   ]
  },
  {
   "cell_type": "code",
   "execution_count": null,
   "id": "7d25c06f",
   "metadata": {},
   "outputs": [],
   "source": [
    "import os\n",
    "from astropy.io import fits\n",
    "import hcipy\n",
    "import matplotlib.pyplot as plt\n",
    "import numpy as np"
   ]
  },
  {
   "cell_type": "markdown",
   "id": "d98a239a",
   "metadata": {},
   "source": [
    "## Telescope aperture"
   ]
  },
  {
   "cell_type": "code",
   "execution_count": null,
   "id": "b83d9d12",
   "metadata": {},
   "outputs": [],
   "source": [
    "pupil_grid = hcipy.make_pupil_grid(1000, diameter=40)\n",
    "\n",
    "# Plain aperture\n",
    "aper_gen = hcipy.make_elt_aperture(normalized=False)\n",
    "aper = hcipy.evaluate_supersampled(aper_gen, pupil_grid, 4)"
   ]
  },
  {
   "cell_type": "code",
   "execution_count": null,
   "id": "6375ce13",
   "metadata": {},
   "outputs": [],
   "source": [
    "# Indexed aperture\n",
    "aper_ind_gen, seg_gen = hcipy.make_elt_aperture(normalized=False, segment_transmissions=np.arange(798)+1,\n",
    "                                                return_segments=True)\n",
    "aper_ind = hcipy.evaluate_supersampled(aper_ind_gen, pupil_grid, 4)"
   ]
  },
  {
   "cell_type": "code",
   "execution_count": null,
   "id": "67dbf49b",
   "metadata": {},
   "outputs": [],
   "source": [
    "plt.figure(figsize=(16,8))\n",
    "plt.subplot(1,2,1)\n",
    "hcipy.imshow_field(aper, cmap='Greys_r', origin='lower')\n",
    "plt.colorbar()\n",
    "plt.subplot(1,2,2)\n",
    "hcipy.imshow_field(aper_ind, origin='lower')\n",
    "plt.colorbar()"
   ]
  },
  {
   "cell_type": "code",
   "execution_count": null,
   "id": "cdad06ff",
   "metadata": {},
   "outputs": [],
   "source": [
    "type(seg_gen[0])"
   ]
  },
  {
   "cell_type": "code",
   "execution_count": null,
   "id": "4e7a2750",
   "metadata": {},
   "outputs": [],
   "source": [
    "this = seg_gen.points"
   ]
  },
  {
   "cell_type": "code",
   "execution_count": null,
   "id": "b99089fc",
   "metadata": {},
   "outputs": [],
   "source": [
    "hdu_indexed = fits.PrimaryHDU()\n",
    "hdr_indexed = hdu_indexed.header.copy()"
   ]
  },
  {
   "cell_type": "code",
   "execution_count": null,
   "id": "1d1e969c",
   "metadata": {},
   "outputs": [],
   "source": [
    "seg_xys = seg_gen.points\n",
    "for segment in range(seg_xys.shape[0]):\n",
    "    print('seg' + str(segment + 1) + '_x', seg_gen.x[segment], 'x-position segment ' + str(segment + 1))\n",
    "    print('seg' + str(segment + 1) + '_y', seg_gen.y[segment], 'y-position segment ' + str(segment + 1))\n",
    "    hdr_indexed.set('seg' + str(segment + 1) + '_x', seg_gen.x[segment], 'x-position segment ' + str(segment + 1))\n",
    "    hdr_indexed.set('seg' + str(segment + 1) + '_y', seg_gen.y[segment], 'y-position segment ' + str(segment + 1))"
   ]
  },
  {
   "cell_type": "code",
   "execution_count": null,
   "id": "e18bf0fe",
   "metadata": {},
   "outputs": [],
   "source": [
    "fits.writeto('ELT_aperture.fits', aper.shaped, overwrite=True)\n",
    "fits.writeto('ELT_aperture_indexed.fits', aper_ind.shaped, hdr_indexed, overwrite=True)"
   ]
  },
  {
   "cell_type": "code",
   "execution_count": null,
   "id": "90405255",
   "metadata": {},
   "outputs": [],
   "source": [
    "apodizer = np.ones_like(aper)\n",
    "lyot_stop = np.ones_like(aper)"
   ]
  },
  {
   "cell_type": "code",
   "execution_count": null,
   "id": "8c6764c9",
   "metadata": {},
   "outputs": [],
   "source": [
    "fits.writeto('spc_apodizer.fits', apodizer.shaped, overwrite=True)\n",
    "fits.writeto('lyot_stop.fits', lyot_stop.shaped, overwrite=True)"
   ]
  },
  {
   "cell_type": "code",
   "execution_count": null,
   "id": "46bfb980",
   "metadata": {},
   "outputs": [],
   "source": []
  }
 ],
 "metadata": {
  "kernelspec": {
   "display_name": "Python 3 (ipykernel)",
   "language": "python",
   "name": "python3"
  },
  "language_info": {
   "codemirror_mode": {
    "name": "ipython",
    "version": 3
   },
   "file_extension": ".py",
   "mimetype": "text/x-python",
   "name": "python",
   "nbconvert_exporter": "python",
   "pygments_lexer": "ipython3",
   "version": "3.10.6"
  }
 },
 "nbformat": 4,
 "nbformat_minor": 5
}
