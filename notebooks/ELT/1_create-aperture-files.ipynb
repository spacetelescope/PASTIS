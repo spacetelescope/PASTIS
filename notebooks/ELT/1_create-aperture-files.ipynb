{
 "cells": [
  {
   "cell_type": "markdown",
   "id": "e6ccef1c",
   "metadata": {},
   "source": [
    "# Create ELT aperture files\n",
    "\n",
    "Need:\n",
    "- aperture\n",
    "- indexed aperture containing segment positions\n",
    "- Lyot stop"
   ]
  },
  {
   "cell_type": "code",
   "execution_count": null,
   "id": "7d25c06f",
   "metadata": {},
   "outputs": [],
   "source": [
    "import os\n",
    "import hcipy\n",
    "import matplotlib.pyplot as plt\n",
    "import numpy as np"
   ]
  },
  {
   "cell_type": "markdown",
   "id": "d98a239a",
   "metadata": {},
   "source": [
    "## Telescope aperture"
   ]
  },
  {
   "cell_type": "code",
   "execution_count": null,
   "id": "b83d9d12",
   "metadata": {},
   "outputs": [],
   "source": [
    "pupil_grid = hcipy.make_pupil_grid(512, diameter=40)\n",
    "\n",
    "# Plain aperture\n",
    "aper_gen = hcipy.make_elt_aperture(normalized=False)\n",
    "aper = hcipy.evaluate_supersampled(aper_gen, pupil_grid, 4)"
   ]
  },
  {
   "cell_type": "code",
   "execution_count": null,
   "id": "9dc0bb88",
   "metadata": {},
   "outputs": [],
   "source": [
    "# Indexed aperture\n",
    "aper_ind_gen, seg_gen = hcipy.make_elt_aperture(normalized=False, segment_transmissions=np.arange(798)+1, return_segments=True)\n",
    "aper_ind = hcipy.evaluate_supersampled(aper_ind_gen, pupil_grid, 4)"
   ]
  },
  {
   "cell_type": "code",
   "execution_count": null,
   "id": "67dbf49b",
   "metadata": {},
   "outputs": [],
   "source": [
    "plt.figure(figsize=(16,8))\n",
    "plt.subplot(1,2,1)\n",
    "hcipy.imshow_field(aper, cmap='Greys_r', origin='lower')\n",
    "plt.colorbar()\n",
    "plt.subplot(1,2,2)\n",
    "hcipy.imshow_field(aper_ind, origin='lower')\n",
    "plt.colorbar()"
   ]
  },
  {
   "cell_type": "code",
   "execution_count": null,
   "id": "c58125b7",
   "metadata": {},
   "outputs": [],
   "source": []
  }
 ],
 "metadata": {
  "kernelspec": {
   "display_name": "Python 3 (ipykernel)",
   "language": "python",
   "name": "python3"
  },
  "language_info": {
   "codemirror_mode": {
    "name": "ipython",
    "version": 3
   },
   "file_extension": ".py",
   "mimetype": "text/x-python",
   "name": "python",
   "nbconvert_exporter": "python",
   "pygments_lexer": "ipython3",
   "version": "3.10.6"
  }
 },
 "nbformat": 4,
 "nbformat_minor": 5
}
