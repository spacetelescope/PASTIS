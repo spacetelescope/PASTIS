{
 "cells": [
  {
   "cell_type": "markdown",
   "id": "88fca2cc",
   "metadata": {},
   "source": [
    "# Test ELT-Harmoni simulator class"
   ]
  },
  {
   "cell_type": "code",
   "execution_count": null,
   "id": "1a5972cf",
   "metadata": {},
   "outputs": [],
   "source": [
    "import os\n",
    "import hcipy\n",
    "import matplotlib.pyplot as plt\n",
    "import numpy as np\n",
    "\n",
    "from pastis.config import CONFIG_PASTIS\n",
    "from pastis.simulators.elt_imaging import ELTHarmoniSPC\n",
    "import pastis.util"
   ]
  },
  {
   "cell_type": "code",
   "execution_count": null,
   "id": "0f4a6617",
   "metadata": {},
   "outputs": [],
   "source": [
    "sampling = CONFIG_PASTIS.getfloat('ELT', 'sampling')\n",
    "optics_input = os.path.join(pastis.util.find_repo_location(), CONFIG_PASTIS.get('ELT', 'optics_path_in_repo'))\n",
    "design = 'HSP1'\n",
    "fpm_px = CONFIG_PASTIS.getint('ELT', 'fpm_px')\n",
    "wvln = CONFIG_PASTIS.getfloat('ELT', 'lambda') * 1e-9\n",
    "\n",
    "print(wvln)\n",
    "print(type(wvln))\n",
    "\n",
    "elt = ELTHarmoniSPC(input_dir=optics_input, sampling=sampling, wvln=wvln, spc_design=design, fpm_rad=fpm_px)"
   ]
  },
  {
   "cell_type": "code",
   "execution_count": null,
   "id": "8fbf51f0",
   "metadata": {},
   "outputs": [],
   "source": [
    "elt.seg_pos.size"
   ]
  },
  {
   "cell_type": "code",
   "execution_count": null,
   "id": "fe2aa743",
   "metadata": {},
   "outputs": [],
   "source": [
    "elt_img, elt_direct, inter = elt.calc_psf(display_intermediate=True, ref=True, return_intermediate='efield')"
   ]
  },
  {
   "cell_type": "code",
   "execution_count": null,
   "id": "26dbc7f3",
   "metadata": {},
   "outputs": [],
   "source": [
    "im = inter['before_fpm']\n",
    "im_int = im.intensity / im.intensity.max()\n",
    "#hcipy.imshow_field(np.log10(im_int) + elt.dh_mask*4, cmap='inferno', origin='lower', vmin=-7, vmax=-0)\n",
    "hcipy.imshow_field(np.log10(im_int), cmap='inferno', origin='lower', vmin=-7, vmax=-0)\n",
    "plt.colorbar()"
   ]
  },
  {
   "cell_type": "code",
   "execution_count": null,
   "id": "3f275c39",
   "metadata": {},
   "outputs": [],
   "source": [
    "hcipy.imshow_field(np.log10(im_int), mask=elt.dh_mask, cmap='inferno', vmin=-10)\n",
    "plt.colorbar()"
   ]
  },
  {
   "cell_type": "code",
   "execution_count": null,
   "id": "b9d2782d",
   "metadata": {},
   "outputs": [],
   "source": [
    "print(f'contrast: {np.mean(np.log10(im_int)[np.where(elt.dh_mask)])}')"
   ]
  },
  {
   "cell_type": "markdown",
   "id": "ab6b3ee7",
   "metadata": {},
   "source": [
    "## Segmented mirror"
   ]
  },
  {
   "cell_type": "code",
   "execution_count": null,
   "id": "2ea612f8",
   "metadata": {},
   "outputs": [],
   "source": [
    "#elt.create_segmented_mirror(2)  # TOOK EXTREMELY LONG TO RUN!! I let it run over night..."
   ]
  },
  {
   "cell_type": "code",
   "execution_count": null,
   "id": "9b613992",
   "metadata": {},
   "outputs": [],
   "source": [
    "aber_segnum = 798\n",
    "seglist = np.random.randint(1, elt.seg_pos.size, size=aber_segnum)\n",
    "#print(seglist)"
   ]
  },
  {
   "cell_type": "code",
   "execution_count": null,
   "id": "349007f6",
   "metadata": {},
   "outputs": [],
   "source": [
    "piston = np.random.uniform(low=1e-10, high=5e-10, size=(aber_segnum,))\n",
    "tip = np.random.uniform(low=1e-10, high=5e-10, size=(aber_segnum,))\n",
    "tilt = np.random.uniform(low=1e-10, high=5e-10, size=(aber_segnum,))"
   ]
  },
  {
   "cell_type": "code",
   "execution_count": null,
   "id": "1407d76d",
   "metadata": {},
   "outputs": [],
   "source": [
    "for i in range(seglist.shape[0]):\n",
    "    #elt.set_sm_segment(segid, zernike_number, amplitude)  # m of rms surface\n",
    "    elt.set_sm_segment(i+1, 1, tip[i]*100000)"
   ]
  },
  {
   "cell_type": "code",
   "execution_count": null,
   "id": "1761564a",
   "metadata": {},
   "outputs": [],
   "source": [
    "elt.flatten()"
   ]
  },
  {
   "cell_type": "code",
   "execution_count": null,
   "id": "a47264e8",
   "metadata": {},
   "outputs": [],
   "source": [
    "phase = inter['seg_mirror'].phase\n",
    "hcipy.imshow_field(phase, cmap='Reds', origin='lower', mask=elt.aperture)\n",
    "plt.colorbar()"
   ]
  },
  {
   "cell_type": "code",
   "execution_count": null,
   "id": "ce0941c4",
   "metadata": {},
   "outputs": [],
   "source": [
    "apod = inter['apod'].intensity\n",
    "hcipy.imshow_field(apod, cmap='Greys_r', origin='lower', mask=elt.aperture)\n",
    "plt.colorbar()"
   ]
  },
  {
   "cell_type": "code",
   "execution_count": null,
   "id": "ed839612",
   "metadata": {},
   "outputs": [],
   "source": []
  }
 ],
 "metadata": {
  "kernelspec": {
   "display_name": "Python 3 (ipykernel)",
   "language": "python",
   "name": "python3"
  },
  "language_info": {
   "codemirror_mode": {
    "name": "ipython",
    "version": 3
   },
   "file_extension": ".py",
   "mimetype": "text/x-python",
   "name": "python",
   "nbconvert_exporter": "python",
   "pygments_lexer": "ipython3",
   "version": "3.10.6"
  }
 },
 "nbformat": 4,
 "nbformat_minor": 5
}
