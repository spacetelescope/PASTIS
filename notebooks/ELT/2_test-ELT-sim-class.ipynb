{
 "cells": [
  {
   "cell_type": "markdown",
   "id": "88fca2cc",
   "metadata": {},
   "source": [
    "# Test ELT-Harmoni simulator class"
   ]
  },
  {
   "cell_type": "code",
   "execution_count": null,
   "id": "1a5972cf",
   "metadata": {},
   "outputs": [],
   "source": [
    "import os\n",
    "\n",
    "from pastis.config import CONFIG_PASTIS\n",
    "from pastis.simulators.elt_imaging import ELTHarmoniSPC\n",
    "import pastis.util"
   ]
  },
  {
   "cell_type": "code",
   "execution_count": null,
   "id": "0f4a6617",
   "metadata": {},
   "outputs": [],
   "source": [
    "sampling = CONFIG_PASTIS.getfloat('ELT', 'sampling')\n",
    "optics_input = os.path.join(pastis.util.find_repo_location(), CONFIG_PASTIS.get('ELT', 'optics_path_in_repo'))\n",
    "design = 'one'\n",
    "fpm_px = CONFIG_PASTIS.getint('ELT', 'fpm_px')\n",
    "wvln = CONFIG_PASTIS.getfloat('ELT', 'lambda') * 1e-9\n",
    "\n",
    "print(wvln)\n",
    "print(type(wvln))\n",
    "\n",
    "elt = ELTHarmoniSPC(input_dir=optics_input, sampling=sampling, wvln=wvln, spc_design=design, fpm_rad=fpm_px)"
   ]
  },
  {
   "cell_type": "code",
   "execution_count": null,
   "id": "8fbf51f0",
   "metadata": {},
   "outputs": [],
   "source": [
    "elt.seg_pos.size"
   ]
  },
  {
   "cell_type": "code",
   "execution_count": null,
   "id": "7758336a",
   "metadata": {},
   "outputs": [],
   "source": [
    "elt.seg_pos.points"
   ]
  },
  {
   "cell_type": "code",
   "execution_count": null,
   "id": "fe2aa743",
   "metadata": {},
   "outputs": [],
   "source": [
    "elt_img, elt_direct, inter = elt.calc_psf(display_intermediate=True, ref=True, return_intermediate='efield')"
   ]
  },
  {
   "cell_type": "code",
   "execution_count": null,
   "id": "9b613992",
   "metadata": {},
   "outputs": [],
   "source": []
  }
 ],
 "metadata": {
  "kernelspec": {
   "display_name": "Python 3 (ipykernel)",
   "language": "python",
   "name": "python3"
  },
  "language_info": {
   "codemirror_mode": {
    "name": "ipython",
    "version": 3
   },
   "file_extension": ".py",
   "mimetype": "text/x-python",
   "name": "python",
   "nbconvert_exporter": "python",
   "pygments_lexer": "ipython3",
   "version": "3.10.6"
  }
 },
 "nbformat": 4,
 "nbformat_minor": 5
}
