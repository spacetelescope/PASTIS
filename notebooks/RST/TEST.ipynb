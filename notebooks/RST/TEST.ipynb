{
 "cells": [
  {
   "cell_type": "markdown",
   "id": "bacf0986",
   "metadata": {},
   "source": [
    "### Test area\n",
    "WebbPSF CGI test"
   ]
  },
  {
   "cell_type": "code",
   "execution_count": 21,
   "id": "7426bdd9",
   "metadata": {},
   "outputs": [
    {
     "name": "stdout",
     "output_type": "stream",
     "text": [
      "Populating the interactive namespace from numpy and matplotlib\n",
      "WebbPSF log messages of level INFO and above will be shown.\n",
      "WebbPSF log outputs will be directed to the screen.\n",
      "[webbpsf] Set the following optical configuration:\n",
      "[webbpsf] camera = IFS, filter = F770, apodizer = CHARSPC, fpm = CHARSPC_F770_BOWTIE, lyotstop = LS30D88\n"
     ]
    },
    {
     "name": "stderr",
     "output_type": "stream",
     "text": [
      "[  poppy] Pysynphot unavailable (or invalid source supplied)!   Assuming flat # of counts versus wavelength.\n",
      "[  poppy] CAUTION: Just interpolating rather than integrating filter profile, over 1 steps\n"
     ]
    },
    {
     "name": "stdout",
     "output_type": "stream",
     "text": [
      "[  poppy] PSF calc using fov_arcsec = 1.600000, oversample = 4, number of wavelengths = 1\n",
      "[webbpsf] Creating optical system model:\n",
      "[  poppy] Initialized OpticalSystem: Roman+CGI\n",
      "[  poppy] Roman Entrance Pupil: Loaded amplitude transmission from /home/marken/GitHub/webbpsf_data/AFTA_CGI_C5_Pupil_onax_256px_flip.fits\n",
      "[  poppy] Added pupil plane: Roman Entrance Pupil\n",
      "[  poppy] Added coordinate inversion plane: OTE exit pupil\n",
      "[  poppy] CHARSPC: Loaded amplitude transmission from /home/marken/GitHub/webbpsf_data/CGI/optics/CHARSPC_SP_256pix.fits.gz\n",
      "[  poppy] Added pupil plane: CHARSPC\n",
      "[  poppy] Added pupil plane: DM\n",
      "[  poppy] Added pupil plane: DM\n",
      "[  poppy] CHARSPC_F770_BOWTIE: Loaded amplitude transmission from /home/marken/GitHub/webbpsf_data/CGI/optics/CHARSPC_FPM_25WA90_2x65deg_-_FP1res4_evensamp_D072_F770.fits.gz\n",
      "[  poppy] Added image plane: CHARSPC_F770_BOWTIE\n",
      "[  poppy] LS30D88: Loaded amplitude transmission from /home/marken/GitHub/webbpsf_data/CGI/optics/SPC_LS_30D88_256pix.fits.gz\n",
      "[  poppy] Added pupil plane: LS30D88\n",
      "[  poppy] Initialized OpticalSystem: unnamed system\n",
      "[  poppy] Added detector with pixelscale=0.025 and oversampling=4: CGI detector\n",
      "[  poppy] Calculating PSF with 1 wavelengths\n",
      "[  poppy]  Propagating wavelength = 7.7e-07 m\n",
      "[  poppy]  Propagating wavelength = 7.7e-07 m meters using Matrix FTs\n",
      "[  poppy]   Calculation completed in 0.060 s\n",
      "[  poppy] PSF Calculation completed.\n",
      "[  poppy]  Adding extension with image downsampled to detector pixel scale.\n",
      "[  poppy]  Downsampling to detector pixel scale, by 4\n"
     ]
    },
    {
     "name": "stderr",
     "output_type": "stream",
     "text": [
      "[  poppy] Pysynphot unavailable (or invalid source supplied)!   Assuming flat # of counts versus wavelength.\n",
      "[  poppy] CAUTION: Just interpolating rather than integrating filter profile, over 1 steps\n"
     ]
    },
    {
     "name": "stdout",
     "output_type": "stream",
     "text": [
      "[  poppy] PSF calc using fov_arcsec = 1.600000, oversample = 4, number of wavelengths = 1\n",
      "[webbpsf] Creating optical system model:\n",
      "[  poppy] Initialized OpticalSystem: Roman+CGI\n",
      "[  poppy] Roman Entrance Pupil: Loaded amplitude transmission from /home/marken/GitHub/webbpsf_data/AFTA_CGI_C5_Pupil_onax_256px_flip.fits\n",
      "[  poppy] Added pupil plane: Roman Entrance Pupil\n",
      "[  poppy] Added coordinate inversion plane: OTE exit pupil\n",
      "[  poppy] CHARSPC: Loaded amplitude transmission from /home/marken/GitHub/webbpsf_data/CGI/optics/CHARSPC_SP_256pix.fits.gz\n",
      "[  poppy] Added pupil plane: CHARSPC\n",
      "[  poppy] Added pupil plane: DM\n",
      "[  poppy] Added pupil plane: DM\n",
      "[  poppy] LS30D88: Loaded amplitude transmission from /home/marken/GitHub/webbpsf_data/CGI/optics/SPC_LS_30D88_256pix.fits.gz\n",
      "[  poppy] Added pupil plane: LS30D88\n",
      "[  poppy] Initialized OpticalSystem: unnamed system\n",
      "[  poppy] Added detector with pixelscale=0.025 and oversampling=4: CGI detector\n",
      "[  poppy] Calculating PSF with 1 wavelengths\n",
      "[  poppy]  Propagating wavelength = 7.7e-07 m\n",
      "[  poppy]  Propagating wavelength = 7.7e-07 m meters using Matrix FTs\n",
      "[  poppy]   Calculation completed in 0.054 s\n",
      "[  poppy] PSF Calculation completed.\n",
      "[  poppy]  Adding extension with image downsampled to detector pixel scale.\n",
      "[  poppy]  Downsampling to detector pixel scale, by 4\n"
     ]
    },
    {
     "name": "stderr",
     "output_type": "stream",
     "text": [
      "[  poppy] Pysynphot unavailable (or invalid source supplied)!   Assuming flat # of counts versus wavelength.\n",
      "[  poppy] CAUTION: Just interpolating rather than integrating filter profile, over 1 steps\n"
     ]
    },
    {
     "name": "stdout",
     "output_type": "stream",
     "text": [
      "[  poppy] PSF calc using fov_arcsec = 1.600000, oversample = 4, number of wavelengths = 1\n",
      "[webbpsf] Creating optical system model:\n",
      "[  poppy] Initialized OpticalSystem: Roman+CGI\n",
      "[  poppy] Roman Entrance Pupil: Loaded amplitude transmission from /home/marken/GitHub/webbpsf_data/AFTA_CGI_C5_Pupil_onax_256px_flip.fits\n",
      "[  poppy] Added pupil plane: Roman Entrance Pupil\n",
      "[  poppy] Added coordinate inversion plane: OTE exit pupil\n",
      "[  poppy] CHARSPC: Loaded amplitude transmission from /home/marken/GitHub/webbpsf_data/CGI/optics/CHARSPC_SP_256pix.fits.gz\n",
      "[  poppy] Added pupil plane: CHARSPC\n",
      "[  poppy] Added pupil plane: DM\n",
      "[  poppy] Added pupil plane: DM\n",
      "[  poppy] CHARSPC_F770_BOWTIE: Loaded amplitude transmission from /home/marken/GitHub/webbpsf_data/CGI/optics/CHARSPC_FPM_25WA90_2x65deg_-_FP1res4_evensamp_D072_F770.fits.gz\n",
      "[  poppy] Added image plane: CHARSPC_F770_BOWTIE\n",
      "[  poppy] LS30D88: Loaded amplitude transmission from /home/marken/GitHub/webbpsf_data/CGI/optics/SPC_LS_30D88_256pix.fits.gz\n",
      "[  poppy] Added pupil plane: LS30D88\n",
      "[  poppy] Initialized OpticalSystem: unnamed system\n",
      "[  poppy] Added detector with pixelscale=0.025 and oversampling=4: CGI detector\n",
      "[  poppy] Calculating PSF with 1 wavelengths\n",
      "[  poppy]  Propagating wavelength = 7.7e-07 m\n",
      "[  poppy]  Propagating wavelength = 7.7e-07 m meters using Matrix FTs\n",
      "[  poppy]   Calculation completed in 0.067 s\n",
      "[  poppy] PSF Calculation completed.\n",
      "[  poppy]  Adding extension with image downsampled to detector pixel scale.\n",
      "[  poppy]  Downsampling to detector pixel scale, by 4\n"
     ]
    },
    {
     "data": {
      "text/plain": [
       "8.053875930298021e-08"
      ]
     },
     "execution_count": 21,
     "metadata": {},
     "output_type": "execute_result"
    },
    {
     "data": {
      "image/png": "[encoded data removed]",
      "text/plain": [
       "<Figure size 432x288 with 2 Axes>"
      ]
     },
     "metadata": {
      "needs_background": "light"
     },
     "output_type": "display_data"
    }
   ],
   "source": [
    "%pylab inline --no-import-all\n",
    "matplotlib.rcParams['image.origin'] = 'lower'\n",
    "matplotlib.rcParams['image.interpolation'] = 'nearest'\n",
    "\n",
    "import os\n",
    "os.environ['WEBBPSF_PATH'] = '/home/marken/GitHub/webbpsf_data'\n",
    "import webbpsf\n",
    "from webbpsf import roman\n",
    "import ipywidgets\n",
    "from astropy.io import fits\n",
    "\n",
    "webbpsf.setup_logging()\n",
    "\n",
    "DM_on = roman.CGI(mode='CHARSPC_F770', nbactuator=6)\n",
    "DM_on.dm1.set_actuator(1, 1, 5e-9)\n",
    "DM_on.dm1.set_actuator(4, 4, 5e-9)\n",
    "\n",
    "DM_on.raw_contrast(display=True)"
   ]
  },
  {
   "cell_type": "code",
   "execution_count": null,
   "id": "4af743cf",
   "metadata": {},
   "outputs": [],
   "source": [
    "DM_on.dm1.display()"
   ]
  },
  {
   "cell_type": "code",
   "execution_count": null,
   "id": "5658351a",
   "metadata": {},
   "outputs": [],
   "source": [
    "import logging\n",
    "log = logging.getLogger()\n",
    "mplfm_logger = logging.getLogger('matplotlib.font_manager')\n",
    "mplcb_logger = logging.getLogger('matplotlib.colorbar')\n",
    "mplt_logger = logging.getLogger('matplotlib.ticker')\n",
    "mplbe_logger = logging.getLogger('matplotlib.backends')\n",
    "\n",
    "mplfm_logger.setLevel(logging.WARNING)\n",
    "mplcb_logger.setLevel(logging.WARNING)\n",
    "mplt_logger.setLevel(logging.WARNING)\n",
    "mplbe_logger.setLevel(logging.WARNING)"
   ]
  },
  {
   "cell_type": "markdown",
   "id": "056c0075",
   "metadata": {},
   "source": [
    "PASTIS test"
   ]
  },
  {
   "cell_type": "code",
   "execution_count": null,
   "id": "eec2a303",
   "metadata": {},
   "outputs": [],
   "source": [
    "from pastis.config import CONFIG_PASTIS\n",
    "from pastis.hockeystick_contrast_curve import hockeystick_curve\n",
    "from pastis.matrix_generation.matrix_building_numerical import MatrixIntensityRST\n",
    "from pastis.pastis_analysis import run_full_pastis_analysis\n",
    "import pastis.util as util\n",
    "import os"
   ]
  },
  {
   "cell_type": "code",
   "execution_count": null,
   "id": "f93cedb3",
   "metadata": {},
   "outputs": [],
   "source": [
    "run_matrix = MatrixIntensityRST(initial_path=CONFIG_PASTIS.get('local', 'local_data_path'))\n",
    "run_matrix.calc()\n",
    "dir_run = run_matrix.overall_dir\n",
    "util.setup_pastis_logging(dir_run, 'pastis_analysis')\n",
    "result_dir = os.path.join(dir_run, 'results')\n",
    "matrix_dir = os.path.join(dir_run, 'matrix_numerical')\n",
    "hockeystick_curve(instrument='RST', matrixdir=matrix_dir, resultdir=result_dir, range_points=10, no_realizations=3)"
   ]
  },
  {
   "cell_type": "code",
   "execution_count": null,
   "id": "29238a2e",
   "metadata": {},
   "outputs": [],
   "source": [
    "run_full_pastis_analysis(instrument='RST', run_choice=dir_run, c_target=1e-8)"
   ]
  },
  {
   "cell_type": "code",
   "execution_count": null,
   "id": "e4e37679",
   "metadata": {},
   "outputs": [],
   "source": [
    "test = '/home/marken/GitHub/pastis_data/2021-06-07T09-20-43_rst'\n",
    "test2 = '/home/marken/GitHub/pastis_data/2021-06-07T09-20-43_rst/matrix_numerical'\n",
    "hockeystick_curve(instrument='RST', matrixdir=test2, resultdir=test, range_points=10, no_realizations=3)\n",
    "#run_full_pastis_analysis(instrument='RST', run_choice=test, c_target=1e-8)"
   ]
  },
  {
   "cell_type": "code",
   "execution_count": null,
   "id": "a728f4d5",
   "metadata": {},
   "outputs": [],
   "source": []
  },
  {
   "cell_type": "code",
   "execution_count": null,
   "id": "fb71ebe8",
   "metadata": {},
   "outputs": [],
   "source": [
    "contrast = np.arange(long*(nb_actu)**2).reshape(long, (nb_actu)**2)"
   ]
  },
  {
   "cell_type": "code",
   "execution_count": null,
   "id": "9f9b74b9",
   "metadata": {},
   "outputs": [],
   "source": [
    "contrast"
   ]
  },
  {
   "cell_type": "code",
   "execution_count": null,
   "id": "c49362a6",
   "metadata": {},
   "outputs": [],
   "source": [
    "import numpy as np\n",
    "import matplotlib.pyplot as plt"
   ]
  },
  {
   "cell_type": "code",
   "execution_count": null,
   "id": "fc6523af",
   "metadata": {},
   "outputs": [],
   "source": [
    "long = 75\n",
    "nb_actu = 6\n",
    "\n",
    "abb_list = [0.2*i*10**(-5-2*i%5) for i in range(long)]\n",
    "#contrast = np.arange(long*(nb_actu)**2).reshape(long, (nb_actu)**2)\n",
    "contrast = [i for i in range(long)]\n",
    "sim_instance = roman.CGI(mode='CHARSPC_F770', nbactuator=nb_actu)\n",
    "seg = 17\n",
    "\n",
    "#for j in range(nb_actu**2):\n",
    "for i in range(long):\n",
    "    sim_instance.dm1.flatten()\n",
    "    actu_x, actu_y = util.continous_dm_coo(nb_actu, seg)\n",
    "    sim_instance.dm1.set_actuator(actu_x, actu_y, abb_list[i])\n",
    "    contrast[i] = sim_instance.raw_contrast()\n"
   ]
  },
  {
   "cell_type": "code",
   "execution_count": null,
   "id": "a4885f78",
   "metadata": {},
   "outputs": [],
   "source": [
    "log_contrast = np.log10(contrast)\n",
    "log_abb = np.log10(abb_list)\n",
    "\n",
    "plt.scatter(log_abb,log_contrast)\n",
    "plt.xlabel('log amplitude actuator(m)')\n",
    "plt.ylabel('log contrast')\n",
    "plt.show()"
   ]
  },
  {
   "cell_type": "code",
   "execution_count": null,
   "id": "8eaac635",
   "metadata": {},
   "outputs": [],
   "source": []
  },
  {
   "cell_type": "code",
   "execution_count": null,
   "id": "50265d46",
   "metadata": {},
   "outputs": [],
   "source": [
    "sim_instance.raw_contrast()"
   ]
  },
  {
   "cell_type": "code",
   "execution_count": null,
   "id": "f9eda045",
   "metadata": {},
   "outputs": [],
   "source": []
  }
 ],
 "metadata": {
  "kernelspec": {
   "display_name": "Python 3",
   "language": "python",
   "name": "python3"
  },
  "language_info": {
   "codemirror_mode": {
    "name": "ipython",
    "version": 3
   },
   "file_extension": ".py",
   "mimetype": "text/x-python",
   "name": "python",
   "nbconvert_exporter": "python",
   "pygments_lexer": "ipython3",
   "version": "3.7.10"
  }
 },
 "nbformat": 4,
 "nbformat_minor": 5
}
