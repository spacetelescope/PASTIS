{
 "cells": [
  {
   "cell_type": "markdown",
   "id": "bacf0986",
   "metadata": {},
   "source": [
    "### Test area\n",
    "WebbPSF CGI test"
   ]
  },
  {
   "cell_type": "code",
   "execution_count": null,
   "id": "7426bdd9",
   "metadata": {},
   "outputs": [],
   "source": [
    "#WebbPSF requierement\n",
    "%pylab inline --no-import-all\n",
    "matplotlib.rcParams['image.origin'] = 'lower'\n",
    "matplotlib.rcParams['image.interpolation'] = 'nearest'\n",
    "\n",
    "import os\n",
    "os.environ['WEBBPSF_PATH'] = '/home/marken/GitHub/webbpsf_data'\n",
    "import webbpsf\n",
    "from webbpsf import roman\n",
    "import ipywidgets\n",
    "from astropy.io import fits\n",
    "import hcipy"
   ]
  },
  {
   "cell_type": "code",
   "execution_count": null,
   "id": "4af743cf",
   "metadata": {},
   "outputs": [],
   "source": [
    "#logs\n",
    "import logging\n",
    "webbpsf.setup_logging()\n",
    "log = logging.getLogger()\n",
    "mplfm_logger = logging.getLogger('matplotlib.font_manager')\n",
    "mplcb_logger = logging.getLogger('matplotlib.colorbar')\n",
    "mplt_logger = logging.getLogger('matplotlib.ticker')\n",
    "mplbe_logger = logging.getLogger('matplotlib.backends')\n",
    "\n",
    "mplfm_logger.setLevel(logging.WARNING)\n",
    "mplcb_logger.setLevel(logging.WARNING)\n",
    "mplt_logger.setLevel(logging.WARNING)\n",
    "mplbe_logger.setLevel(logging.WARNING)"
   ]
  },
  {
   "cell_type": "code",
   "execution_count": null,
   "id": "eec2a303",
   "metadata": {},
   "outputs": [],
   "source": [
    "SPC = roman.CGI(mode='CHARSPC_F770', nbactuator=48)\n",
    "\n",
    "direct = SPC.raw_coronagraph()\n",
    "psf_direct = direct.calc_psf(nlambda=1, fov_arcsec=1.6)\n",
    "psf_direct_fit = psf_direct[0].data\n",
    "plt.imshow(psf_direct_fit)\n",
    "plt.colorbar()"
   ]
  },
  {
   "cell_type": "code",
   "execution_count": null,
   "id": "1f33c90e",
   "metadata": {},
   "outputs": [],
   "source": [
    "psf = SPC.calc_psf(nlambda=1, fov_arcsec=1.6)\n",
    "psf_fit = psf[0].data\n",
    "plt.imshow(psf_fit)\n",
    "plt.colorbar()"
   ]
  },
  {
   "cell_type": "code",
   "execution_count": null,
   "id": "f93cedb3",
   "metadata": {},
   "outputs": [],
   "source": [
    "iwa = 3\n",
    "owa = 9\n",
    "SPC.working_area(im=psf_fit, inner_rad=iwa, outer_rad=owa)\n",
    "dh_mask = SPC.WA\n",
    "plt.imshow(dh_mask)\n",
    "plt.colorbar()"
   ]
  },
  {
   "cell_type": "code",
   "execution_count": null,
   "id": "7e43f96f",
   "metadata": {},
   "outputs": [],
   "source": [
    "psf_dh = psf_fit*dh_mask\n",
    "plt.imshow(psf_dh)\n",
    "plt.colorbar()"
   ]
  },
  {
   "cell_type": "code",
   "execution_count": null,
   "id": "29238a2e",
   "metadata": {},
   "outputs": [],
   "source": [
    "#Write fits\n",
    "outpath = './'\n",
    "hcipy.write_fits(psf_direct_fit, os.path.join(outpath, 'SPC_direct.fits'))\n",
    "hcipy.write_fits(psf_fit, os.path.join(outpath, 'SPC_unaberrated.fits'))\n",
    "hcipy.write_fits(psf_dh, os.path.join(outpath, 'SPC_unaberrated_dh.fits'))"
   ]
  },
  {
   "cell_type": "code",
   "execution_count": null,
   "id": "e4e37679",
   "metadata": {},
   "outputs": [],
   "source": [
    "#Same for DISKSPC\n",
    "DISKSPC = roman.CGI(mode='DISKSPC_F721', nbactuator=48)\n",
    "\n",
    "direct = DISKSPC.raw_coronagraph()\n",
    "psf_direct = direct.calc_psf(nlambda=1, fov_arcsec=1.6)\n",
    "psf_direct_fit = psf_direct[0].data\n",
    "\n",
    "psf = DISKSPC.calc_psf(nlambda=1, fov_arcsec=1.6)\n",
    "psf_fit = psf[0].data\n",
    "\n",
    "iwa = 3\n",
    "owa = 9\n",
    "DISKSPC.working_area(im=psf_fit, inner_rad=iwa, outer_rad=owa)\n",
    "dh_mask = DISKSPC.WA\n",
    "\n",
    "psf_dh = psf_fit*dh_mask\n",
    "plt.imshow(psf_dh)\n",
    "\n",
    "outpath = './'\n",
    "hcipy.write_fits(psf_direct_fit, os.path.join(outpath, 'DISKSPC_direct.fits'))\n",
    "hcipy.write_fits(psf_fit, os.path.join(outpath, 'DISKSPC_unaberrated.fits'))\n",
    "hcipy.write_fits(psf_dh, os.path.join(outpath, 'DISKSPC_unaberrated_dh.fits'))"
   ]
  }
 ],
 "metadata": {
  "kernelspec": {
   "display_name": "Python 3",
   "language": "python",
   "name": "python3"
  },
  "language_info": {
   "codemirror_mode": {
    "name": "ipython",
    "version": 3
   },
   "file_extension": ".py",
   "mimetype": "text/x-python",
   "name": "python",
   "nbconvert_exporter": "python",
   "pygments_lexer": "ipython3",
   "version": "3.7.10"
  }
 },
 "nbformat": 4,
 "nbformat_minor": 5
}
