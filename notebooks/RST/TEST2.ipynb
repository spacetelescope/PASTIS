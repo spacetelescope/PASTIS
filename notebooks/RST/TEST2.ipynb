{
 "cells": [
  {
   "cell_type": "markdown",
   "id": "bacf0986",
   "metadata": {},
   "source": [
    "### Test area\n",
    "WebbPSF CGI test"
   ]
  },
  {
   "cell_type": "code",
   "execution_count": 51,
   "id": "7426bdd9",
   "metadata": {},
   "outputs": [
    {
     "name": "stdout",
     "output_type": "stream",
     "text": [
      "Populating the interactive namespace from numpy and matplotlib\n",
      "WebbPSF log messages of level INFO and above will be shown.\n",
      "WebbPSF log outputs will be directed to the screen.\n",
      "[webbpsf] Set the following optical configuration:\n",
      "[webbpsf] camera = IFS, filter = F770, apodizer = CHARSPC, fpm = CHARSPC_F770_BOWTIE, lyotstop = LS30D88\n"
     ]
    },
    {
     "name": "stderr",
     "output_type": "stream",
     "text": [
      "[  poppy] Pysynphot unavailable (or invalid source supplied)!   Assuming flat # of counts versus wavelength.\n",
      "[  poppy] CAUTION: Just interpolating rather than integrating filter profile, over 1 steps\n"
     ]
    },
    {
     "name": "stdout",
     "output_type": "stream",
     "text": [
      "[  poppy] PSF calc using fov_arcsec = 1.600000, oversample = 4, number of wavelengths = 1\n",
      "[webbpsf] Creating optical system model:\n",
      "[  poppy] Initialized OpticalSystem: Roman+CGI\n",
      "[  poppy] Roman Entrance Pupil: Loaded amplitude transmission from /home/marken/GitHub/webbpsf_data/AFTA_CGI_C5_Pupil_onax_256px_flip.fits\n",
      "[  poppy] Added pupil plane: Roman Entrance Pupil\n",
      "[  poppy] Added coordinate inversion plane: OTE exit pupil\n",
      "[  poppy] CHARSPC: Loaded amplitude transmission from /home/marken/GitHub/webbpsf_data/CGI/optics/CHARSPC_SP_256pix.fits.gz\n",
      "[  poppy] Added pupil plane: CHARSPC\n",
      "[  poppy] Added pupil plane: DM\n",
      "[  poppy] Added pupil plane: DM\n",
      "[  poppy] CHARSPC_F770_BOWTIE: Loaded amplitude transmission from /home/marken/GitHub/webbpsf_data/CGI/optics/CHARSPC_FPM_25WA90_2x65deg_-_FP1res4_evensamp_D072_F770.fits.gz\n",
      "[  poppy] Added image plane: CHARSPC_F770_BOWTIE\n",
      "[  poppy] LS30D88: Loaded amplitude transmission from /home/marken/GitHub/webbpsf_data/CGI/optics/SPC_LS_30D88_256pix.fits.gz\n",
      "[  poppy] Added pupil plane: LS30D88\n",
      "[  poppy] Initialized OpticalSystem: unnamed system\n",
      "[  poppy] Added detector with pixelscale=0.025 and oversampling=4: CGI detector\n",
      "[  poppy] Calculating PSF with 1 wavelengths\n",
      "[  poppy]  Propagating wavelength = 7.7e-07 m\n",
      "[  poppy]  Propagating wavelength = 7.7e-07 m meters using Matrix FTs\n",
      "[  poppy]   Calculation completed in 0.133 s\n",
      "[  poppy] PSF Calculation completed.\n",
      "[  poppy]  Adding extension with image downsampled to detector pixel scale.\n",
      "[  poppy]  Downsampling to detector pixel scale, by 4\n"
     ]
    },
    {
     "name": "stderr",
     "output_type": "stream",
     "text": [
      "[  poppy] Pysynphot unavailable (or invalid source supplied)!   Assuming flat # of counts versus wavelength.\n",
      "[  poppy] CAUTION: Just interpolating rather than integrating filter profile, over 1 steps\n"
     ]
    },
    {
     "name": "stdout",
     "output_type": "stream",
     "text": [
      "[  poppy] PSF calc using fov_arcsec = 1.600000, oversample = 4, number of wavelengths = 1\n",
      "[webbpsf] Creating optical system model:\n",
      "[  poppy] Initialized OpticalSystem: Roman+CGI\n",
      "[  poppy] Roman Entrance Pupil: Loaded amplitude transmission from /home/marken/GitHub/webbpsf_data/AFTA_CGI_C5_Pupil_onax_256px_flip.fits\n",
      "[  poppy] Added pupil plane: Roman Entrance Pupil\n",
      "[  poppy] Added coordinate inversion plane: OTE exit pupil\n",
      "[  poppy] CHARSPC: Loaded amplitude transmission from /home/marken/GitHub/webbpsf_data/CGI/optics/CHARSPC_SP_256pix.fits.gz\n",
      "[  poppy] Added pupil plane: CHARSPC\n",
      "[  poppy] Added pupil plane: DM\n",
      "[  poppy] Added pupil plane: DM\n",
      "[  poppy] LS30D88: Loaded amplitude transmission from /home/marken/GitHub/webbpsf_data/CGI/optics/SPC_LS_30D88_256pix.fits.gz\n",
      "[  poppy] Added pupil plane: LS30D88\n",
      "[  poppy] Initialized OpticalSystem: unnamed system\n",
      "[  poppy] Added detector with pixelscale=0.025 and oversampling=4: CGI detector\n",
      "[  poppy] Calculating PSF with 1 wavelengths\n",
      "[  poppy]  Propagating wavelength = 7.7e-07 m\n",
      "[  poppy]  Propagating wavelength = 7.7e-07 m meters using Matrix FTs\n",
      "[  poppy]   Calculation completed in 0.205 s\n",
      "[  poppy] PSF Calculation completed.\n",
      "[  poppy]  Adding extension with image downsampled to detector pixel scale.\n",
      "[  poppy]  Downsampling to detector pixel scale, by 4\n"
     ]
    },
    {
     "name": "stderr",
     "output_type": "stream",
     "text": [
      "[  poppy] Pysynphot unavailable (or invalid source supplied)!   Assuming flat # of counts versus wavelength.\n",
      "[  poppy] CAUTION: Just interpolating rather than integrating filter profile, over 1 steps\n"
     ]
    },
    {
     "name": "stdout",
     "output_type": "stream",
     "text": [
      "[  poppy] PSF calc using fov_arcsec = 1.600000, oversample = 4, number of wavelengths = 1\n",
      "[webbpsf] Creating optical system model:\n",
      "[  poppy] Initialized OpticalSystem: Roman+CGI\n",
      "[  poppy] Roman Entrance Pupil: Loaded amplitude transmission from /home/marken/GitHub/webbpsf_data/AFTA_CGI_C5_Pupil_onax_256px_flip.fits\n",
      "[  poppy] Added pupil plane: Roman Entrance Pupil\n",
      "[  poppy] Added coordinate inversion plane: OTE exit pupil\n",
      "[  poppy] CHARSPC: Loaded amplitude transmission from /home/marken/GitHub/webbpsf_data/CGI/optics/CHARSPC_SP_256pix.fits.gz\n",
      "[  poppy] Added pupil plane: CHARSPC\n",
      "[  poppy] Added pupil plane: DM\n",
      "[  poppy] Added pupil plane: DM\n",
      "[  poppy] CHARSPC_F770_BOWTIE: Loaded amplitude transmission from /home/marken/GitHub/webbpsf_data/CGI/optics/CHARSPC_FPM_25WA90_2x65deg_-_FP1res4_evensamp_D072_F770.fits.gz\n",
      "[  poppy] Added image plane: CHARSPC_F770_BOWTIE\n",
      "[  poppy] LS30D88: Loaded amplitude transmission from /home/marken/GitHub/webbpsf_data/CGI/optics/SPC_LS_30D88_256pix.fits.gz\n",
      "[  poppy] Added pupil plane: LS30D88\n",
      "[  poppy] Initialized OpticalSystem: unnamed system\n",
      "[  poppy] Added detector with pixelscale=0.025 and oversampling=4: CGI detector\n",
      "[  poppy] Calculating PSF with 1 wavelengths\n",
      "[  poppy]  Propagating wavelength = 7.7e-07 m\n",
      "[  poppy]  Propagating wavelength = 7.7e-07 m meters using Matrix FTs\n",
      "[  poppy]   Calculation completed in 0.316 s\n",
      "[  poppy] PSF Calculation completed.\n",
      "[  poppy]  Adding extension with image downsampled to detector pixel scale.\n",
      "[  poppy]  Downsampling to detector pixel scale, by 4\n"
     ]
    },
    {
     "data": {
      "text/plain": [
       "1.886874609851114e-05"
      ]
     },
     "execution_count": 51,
     "metadata": {},
     "output_type": "execute_result"
    },
    {
     "data": {
      "image/png": "[encoded data removed]",
      "text/plain": [
       "<Figure size 432x288 with 2 Axes>"
      ]
     },
     "metadata": {
      "needs_background": "light"
     },
     "output_type": "display_data"
    }
   ],
   "source": [
    "%pylab inline --no-import-all\n",
    "matplotlib.rcParams['image.origin'] = 'lower'\n",
    "matplotlib.rcParams['image.interpolation'] = 'nearest'\n",
    "\n",
    "import os\n",
    "os.environ['WEBBPSF_PATH'] = '/home/marken/GitHub/webbpsf_data'\n",
    "import webbpsf\n",
    "from webbpsf import roman\n",
    "import ipywidgets\n",
    "from astropy.io import fits\n",
    "\n",
    "webbpsf.setup_logging()\n",
    "\n",
    "DM_on = roman.CGI(mode='CHARSPC_F770')\n",
    "DM_on.dm1.set_actuator(10, 10, 1)\n",
    "DM_on.dm1.set_actuator(40, 40, 1)\n",
    "\n",
    "DM_on.raw_contrast(display=True)"
   ]
  },
  {
   "cell_type": "code",
   "execution_count": 52,
   "id": "4af743cf",
   "metadata": {},
   "outputs": [
    {
     "name": "stdout",
     "output_type": "stream",
     "text": [
      "[  poppy] Computing phase for DM sampled onto 512 pixel grid with pixelscale 0.0046875 m / pix\n"
     ]
    }
   ],
   "source": [
    "aa = DM_on.dm1.to_fits(what='phase')\n",
    "bb = aa[0].data"
   ]
  },
  {
   "cell_type": "code",
   "execution_count": 63,
   "id": "8c3f40e4",
   "metadata": {},
   "outputs": [
    {
     "data": {
      "text/plain": [
       "997442.9906580842"
      ]
     },
     "execution_count": 63,
     "metadata": {},
     "output_type": "execute_result"
    }
   ],
   "source": [
    "np.max(bb.value)"
   ]
  },
  {
   "cell_type": "code",
   "execution_count": 65,
   "id": "d439b339",
   "metadata": {},
   "outputs": [
    {
     "data": {
      "text/plain": [
       "<matplotlib.colorbar.Colorbar at 0x7fce8f906390>"
      ]
     },
     "execution_count": 65,
     "metadata": {},
     "output_type": "execute_result"
    },
    {
     "data": {
      "image/png": "[encoded data removed]",
      "text/plain": [
       "<Figure size 432x288 with 2 Axes>"
      ]
     },
     "metadata": {
      "needs_background": "light"
     },
     "output_type": "display_data"
    }
   ],
   "source": [
    "plt.imshow(bb.value)\n",
    "plt.colorbar()"
   ]
  },
  {
   "cell_type": "code",
   "execution_count": null,
   "id": "5658351a",
   "metadata": {},
   "outputs": [],
   "source": [
    "import logging\n",
    "log = logging.getLogger()\n",
    "mplfm_logger = logging.getLogger('matplotlib.font_manager')\n",
    "mplcb_logger = logging.getLogger('matplotlib.colorbar')\n",
    "mplt_logger = logging.getLogger('matplotlib.ticker')\n",
    "mplbe_logger = logging.getLogger('matplotlib.backends')\n",
    "\n",
    "mplfm_logger.setLevel(logging.WARNING)\n",
    "mplcb_logger.setLevel(logging.WARNING)\n",
    "mplt_logger.setLevel(logging.WARNING)\n",
    "mplbe_logger.setLevel(logging.WARNING)"
   ]
  },
  {
   "cell_type": "markdown",
   "id": "056c0075",
   "metadata": {},
   "source": [
    "PASTIS test"
   ]
  },
  {
   "cell_type": "code",
   "execution_count": null,
   "id": "eec2a303",
   "metadata": {},
   "outputs": [],
   "source": [
    "from pastis.config import CONFIG_PASTIS\n",
    "from pastis.hockeystick_contrast_curve import hockeystick_curve\n",
    "from pastis.matrix_generation.matrix_building_numerical import MatrixIntensityRST\n",
    "from pastis.pastis_analysis import run_full_pastis_analysis\n",
    "import pastis.util as util\n",
    "import os"
   ]
  },
  {
   "cell_type": "code",
   "execution_count": null,
   "id": "f93cedb3",
   "metadata": {},
   "outputs": [],
   "source": [
    "run_matrix = MatrixIntensityRST(initial_path=CONFIG_PASTIS.get('local', 'local_data_path'))\n",
    "run_matrix.calc()\n",
    "dir_run = run_matrix.overall_dir\n",
    "util.setup_pastis_logging(dir_run, 'pastis_analysis')\n",
    "result_dir = os.path.join(dir_run, 'results')\n",
    "matrix_dir = os.path.join(dir_run, 'matrix_numerical')\n",
    "hockeystick_curve(instrument='RST', matrixdir=matrix_dir, resultdir=result_dir, range_points=10, no_realizations=3)"
   ]
  },
  {
   "cell_type": "code",
   "execution_count": null,
   "id": "29238a2e",
   "metadata": {},
   "outputs": [],
   "source": [
    "run_full_pastis_analysis(instrument='RST', run_choice=dir_run, c_target=1e-8)"
   ]
  },
  {
   "cell_type": "code",
   "execution_count": null,
   "id": "e4e37679",
   "metadata": {},
   "outputs": [],
   "source": [
    "test = '/home/marken/GitHub/pastis_data/2021-06-07T09-20-43_rst'\n",
    "test2 = '/home/marken/GitHub/pastis_data/2021-06-07T09-20-43_rst/matrix_numerical'\n",
    "hockeystick_curve(instrument='RST', matrixdir=test2, resultdir=test, range_points=10, no_realizations=3)\n",
    "#run_full_pastis_analysis(instrument='RST', run_choice=test, c_target=1e-8)"
   ]
  },
  {
   "cell_type": "code",
   "execution_count": null,
   "id": "a728f4d5",
   "metadata": {},
   "outputs": [],
   "source": []
  },
  {
   "cell_type": "code",
   "execution_count": null,
   "id": "fb71ebe8",
   "metadata": {},
   "outputs": [],
   "source": [
    "contrast = np.arange(long*(nb_actu)**2).reshape(long, (nb_actu)**2)"
   ]
  },
  {
   "cell_type": "code",
   "execution_count": null,
   "id": "9f9b74b9",
   "metadata": {},
   "outputs": [],
   "source": [
    "contrast"
   ]
  },
  {
   "cell_type": "code",
   "execution_count": null,
   "id": "c49362a6",
   "metadata": {},
   "outputs": [],
   "source": [
    "import numpy as np\n",
    "import matplotlib.pyplot as plt"
   ]
  },
  {
   "cell_type": "code",
   "execution_count": null,
   "id": "fc6523af",
   "metadata": {},
   "outputs": [],
   "source": [
    "long = 75\n",
    "nb_actu = 6\n",
    "\n",
    "abb_list = [0.2*i*10**(-5-2*i%5) for i in range(long)]\n",
    "#contrast = np.arange(long*(nb_actu)**2).reshape(long, (nb_actu)**2)\n",
    "contrast = [i for i in range(long)]\n",
    "sim_instance = roman.CGI(mode='CHARSPC_F770', nbactuator=nb_actu)\n",
    "seg = 17\n",
    "\n",
    "#for j in range(nb_actu**2):\n",
    "for i in range(long):\n",
    "    sim_instance.dm1.flatten()\n",
    "    actu_x, actu_y = util.continous_dm_coo(nb_actu, seg)\n",
    "    sim_instance.dm1.set_actuator(actu_x, actu_y, abb_list[i])\n",
    "    contrast[i] = sim_instance.raw_contrast()\n"
   ]
  },
  {
   "cell_type": "code",
   "execution_count": null,
   "id": "a4885f78",
   "metadata": {},
   "outputs": [],
   "source": [
    "log_contrast = np.log10(contrast)\n",
    "log_abb = np.log10(abb_list)\n",
    "\n",
    "plt.scatter(log_abb,log_contrast)\n",
    "plt.xlabel('log amplitude actuator(m)')\n",
    "plt.ylabel('log contrast')\n",
    "plt.show()"
   ]
  },
  {
   "cell_type": "code",
   "execution_count": null,
   "id": "8eaac635",
   "metadata": {},
   "outputs": [],
   "source": []
  },
  {
   "cell_type": "code",
   "execution_count": null,
   "id": "50265d46",
   "metadata": {},
   "outputs": [],
   "source": [
    "sim_instance.raw_contrast()"
   ]
  },
  {
   "cell_type": "code",
   "execution_count": 13,
   "id": "c91f86dc",
   "metadata": {},
   "outputs": [],
   "source": [
    "nlambda = 1\n",
    "\n",
    "fov_arcsec = 1.6\n",
    "\n",
    "tuple_test = (\"nlambda\", \"fov_arcsec\")\n",
    "(nlambda, fov_arcsec) = tuple_test"
   ]
  },
  {
   "cell_type": "code",
   "execution_count": 3,
   "id": "f9eda045",
   "metadata": {},
   "outputs": [
    {
     "name": "stdout",
     "output_type": "stream",
     "text": [
      "WebbPSF log messages of level ERROR and above will be shown.\n",
      "WebbPSF log outputs will be directed to the screen.\n"
     ]
    },
    {
     "data": {
      "text/plain": [
       "[<astropy.io.fits.hdu.image.PrimaryHDU object at 0x7f73bc151c90>, <astropy.io.fits.hdu.image.ImageHDU object at 0x7f73b4c11c10>]"
      ]
     },
     "execution_count": 3,
     "metadata": {},
     "output_type": "execute_result"
    }
   ],
   "source": [
    "webbpsf.setup_logging('ERROR')\n",
    "\n",
    "DM_on.calc_psf(nlambda=1, fov_arcsec=1.6)"
   ]
  },
  {
   "cell_type": "code",
   "execution_count": 9,
   "id": "c0881c84",
   "metadata": {},
   "outputs": [
    {
     "data": {
      "text/plain": [
       "(1, 1.6)"
      ]
     },
     "execution_count": 9,
     "metadata": {},
     "output_type": "execute_result"
    }
   ],
   "source": [
    "tuple_test"
   ]
  },
  {
   "cell_type": "code",
   "execution_count": 14,
   "id": "2e0bd1ea",
   "metadata": {},
   "outputs": [
    {
     "ename": "TypeError",
     "evalue": "expected str, bytes or os.PathLike object, not tuple",
     "output_type": "error",
     "traceback": [
      "\u001b[0;31m---------------------------------------------------------------------------\u001b[0m",
      "\u001b[0;31mTypeError\u001b[0m                                 Traceback (most recent call last)",
      "\u001b[0;32m<ipython-input-14-34486dd7e944>\u001b[0m in \u001b[0;36m<module>\u001b[0;34m\u001b[0m\n\u001b[0;32m----> 1\u001b[0;31m \u001b[0mDM_on\u001b[0m\u001b[0;34m.\u001b[0m\u001b[0mcalc_psf\u001b[0m\u001b[0;34m(\u001b[0m\u001b[0mtuple_test\u001b[0m\u001b[0;34m)\u001b[0m\u001b[0;34m\u001b[0m\u001b[0;34m\u001b[0m\u001b[0m\n\u001b[0m",
      "\u001b[0;32m~/miniconda3/envs/pastis/lib/python3.7/site-packages/poppy/instrument.py\u001b[0m in \u001b[0;36mcalc_psf\u001b[0;34m(self, outfile, source, nlambda, monochromatic, fov_arcsec, fov_pixels, oversample, detector_oversample, fft_oversample, overwrite, display, save_intermediates, return_intermediates, normalize)\u001b[0m\n\u001b[1;32m    292\u001b[0m \u001b[0;34m\u001b[0m\u001b[0m\n\u001b[1;32m    293\u001b[0m         \u001b[0;32mif\u001b[0m \u001b[0moutfile\u001b[0m \u001b[0;32mis\u001b[0m \u001b[0;32mnot\u001b[0m \u001b[0;32mNone\u001b[0m\u001b[0;34m:\u001b[0m\u001b[0;34m\u001b[0m\u001b[0;34m\u001b[0m\u001b[0m\n\u001b[0;32m--> 294\u001b[0;31m             \u001b[0mresult\u001b[0m\u001b[0;34m[\u001b[0m\u001b[0;36m0\u001b[0m\u001b[0;34m]\u001b[0m\u001b[0;34m.\u001b[0m\u001b[0mheader\u001b[0m\u001b[0;34m[\u001b[0m\u001b[0;34m\"FILENAME\"\u001b[0m\u001b[0;34m]\u001b[0m \u001b[0;34m=\u001b[0m \u001b[0;34m(\u001b[0m\u001b[0mos\u001b[0m\u001b[0;34m.\u001b[0m\u001b[0mpath\u001b[0m\u001b[0;34m.\u001b[0m\u001b[0mbasename\u001b[0m\u001b[0;34m(\u001b[0m\u001b[0moutfile\u001b[0m\u001b[0;34m)\u001b[0m\u001b[0;34m,\u001b[0m \u001b[0;34m\"Name of this file\"\u001b[0m\u001b[0;34m)\u001b[0m\u001b[0;34m\u001b[0m\u001b[0;34m\u001b[0m\u001b[0m\n\u001b[0m\u001b[1;32m    295\u001b[0m             \u001b[0mresult\u001b[0m\u001b[0;34m.\u001b[0m\u001b[0mwriteto\u001b[0m\u001b[0;34m(\u001b[0m\u001b[0moutfile\u001b[0m\u001b[0;34m,\u001b[0m \u001b[0moverwrite\u001b[0m\u001b[0;34m=\u001b[0m\u001b[0moverwrite\u001b[0m\u001b[0;34m)\u001b[0m\u001b[0;34m\u001b[0m\u001b[0;34m\u001b[0m\u001b[0m\n\u001b[1;32m    296\u001b[0m             \u001b[0mpoppy_core\u001b[0m\u001b[0;34m.\u001b[0m\u001b[0m_log\u001b[0m\u001b[0;34m.\u001b[0m\u001b[0minfo\u001b[0m\u001b[0;34m(\u001b[0m\u001b[0;34m\"Saved result to \"\u001b[0m \u001b[0;34m+\u001b[0m \u001b[0moutfile\u001b[0m\u001b[0;34m)\u001b[0m\u001b[0;34m\u001b[0m\u001b[0;34m\u001b[0m\u001b[0m\n",
      "\u001b[0;32m~/miniconda3/envs/pastis/lib/python3.7/posixpath.py\u001b[0m in \u001b[0;36mbasename\u001b[0;34m(p)\u001b[0m\n\u001b[1;32m    144\u001b[0m \u001b[0;32mdef\u001b[0m \u001b[0mbasename\u001b[0m\u001b[0;34m(\u001b[0m\u001b[0mp\u001b[0m\u001b[0;34m)\u001b[0m\u001b[0;34m:\u001b[0m\u001b[0;34m\u001b[0m\u001b[0;34m\u001b[0m\u001b[0m\n\u001b[1;32m    145\u001b[0m     \u001b[0;34m\"\"\"Returns the final component of a pathname\"\"\"\u001b[0m\u001b[0;34m\u001b[0m\u001b[0;34m\u001b[0m\u001b[0m\n\u001b[0;32m--> 146\u001b[0;31m     \u001b[0mp\u001b[0m \u001b[0;34m=\u001b[0m \u001b[0mos\u001b[0m\u001b[0;34m.\u001b[0m\u001b[0mfspath\u001b[0m\u001b[0;34m(\u001b[0m\u001b[0mp\u001b[0m\u001b[0;34m)\u001b[0m\u001b[0;34m\u001b[0m\u001b[0;34m\u001b[0m\u001b[0m\n\u001b[0m\u001b[1;32m    147\u001b[0m     \u001b[0msep\u001b[0m \u001b[0;34m=\u001b[0m \u001b[0m_get_sep\u001b[0m\u001b[0;34m(\u001b[0m\u001b[0mp\u001b[0m\u001b[0;34m)\u001b[0m\u001b[0;34m\u001b[0m\u001b[0;34m\u001b[0m\u001b[0m\n\u001b[1;32m    148\u001b[0m     \u001b[0mi\u001b[0m \u001b[0;34m=\u001b[0m \u001b[0mp\u001b[0m\u001b[0;34m.\u001b[0m\u001b[0mrfind\u001b[0m\u001b[0;34m(\u001b[0m\u001b[0msep\u001b[0m\u001b[0;34m)\u001b[0m \u001b[0;34m+\u001b[0m \u001b[0;36m1\u001b[0m\u001b[0;34m\u001b[0m\u001b[0;34m\u001b[0m\u001b[0m\n",
      "\u001b[0;31mTypeError\u001b[0m: expected str, bytes or os.PathLike object, not tuple"
     ]
    }
   ],
   "source": [
    "DM_on.calc_psf(tuple_test)"
   ]
  },
  {
   "cell_type": "code",
   "execution_count": 26,
   "id": "88a1b13c",
   "metadata": {},
   "outputs": [
    {
     "name": "stdout",
     "output_type": "stream",
     "text": [
      "WebbPSF log messages of level ERROR and above will be shown.\n",
      "WebbPSF log outputs will be directed to the screen.\n"
     ]
    },
    {
     "data": {
      "text/plain": [
       "[<astropy.io.fits.hdu.image.PrimaryHDU object at 0x7f73b4812150>, <astropy.io.fits.hdu.image.ImageHDU object at 0x7f73b4bf6f50>]"
      ]
     },
     "execution_count": 26,
     "metadata": {},
     "output_type": "execute_result"
    }
   ],
   "source": [
    "webbpsf.setup_logging('ERROR')\n",
    "string_test = ('display=True')\n",
    "DM_on.calc_psf(string_test)"
   ]
  },
  {
   "cell_type": "code",
   "execution_count": 31,
   "id": "46300a14",
   "metadata": {},
   "outputs": [],
   "source": [
    "test = roman.CGI(mode='CHARSPC_F770')\n",
    "raw_coro = test.raw_coronagraph\n",
    "psf, inter = raw_coro.calc_psf(nlambda=1, fov_arcsec=1.6, return_intermediates=True)\n",
    "E_field_ref = inter[-1].wavefront"
   ]
  },
  {
   "cell_type": "code",
   "execution_count": 38,
   "id": "bfe58e05",
   "metadata": {},
   "outputs": [
    {
     "data": {
      "text/plain": [
       "2.8610269102199666e-06"
      ]
     },
     "execution_count": 38,
     "metadata": {},
     "output_type": "execute_result"
    },
    {
     "data": {
      "image/png": "[encoded data removed]",
      "text/plain": [
       "<Figure size 432x288 with 2 Axes>"
      ]
     },
     "metadata": {
      "needs_background": "light"
     },
     "output_type": "display_data"
    }
   ],
   "source": [
    "test.dm1.flatten()\n",
    "test.dm1.set_actuator(1, 1, 1e-6)\n",
    "\n",
    "psf, inter = test.calc_psf(nlambda=1, fov_arcsec=1.6, return_intermediates=True)\n",
    "E_field_1 = inter[-1].wavefront\n",
    "\n",
    "test.raw_contrast(display=True)"
   ]
  },
  {
   "cell_type": "code",
   "execution_count": 39,
   "id": "121d55a0",
   "metadata": {},
   "outputs": [
    {
     "data": {
      "text/plain": [
       "2.8133404894837884e-06"
      ]
     },
     "execution_count": 39,
     "metadata": {},
     "output_type": "execute_result"
    },
    {
     "data": {
      "image/png": "[encoded data removed]",
      "text/plain": [
       "<Figure size 432x288 with 2 Axes>"
      ]
     },
     "metadata": {
      "needs_background": "light"
     },
     "output_type": "display_data"
    }
   ],
   "source": [
    "test.dm1.flatten()\n",
    "test.dm1.set_actuator(47, 47, 1e-6)\n",
    "\n",
    "psf, inter = test.calc_psf(nlambda=1, fov_arcsec=1.6, return_intermediates=True)\n",
    "E_field_2 = inter[-1].wavefront\n",
    "\n",
    "test.raw_contrast(display=True)"
   ]
  },
  {
   "cell_type": "code",
   "execution_count": null,
   "id": "0a8b71cb",
   "metadata": {},
   "outputs": [],
   "source": [
    "test.dm1.flatten()\n",
    "test.dm1.set_actuator(47, 47, 1e-6)\n",
    "\n",
    "psf, inter = test.calc_psf(nlambda=1, fov_arcsec=1.6)"
   ]
  },
  {
   "cell_type": "code",
   "execution_count": null,
   "id": "0c969cfd",
   "metadata": {},
   "outputs": [],
   "source": [
    "import os\n",
    "import matplotlib.pyplot as plt\n",
    "from matplotlib.colors import LogNorm\n",
    "from astropy.io import fits"
   ]
  },
  {
   "cell_type": "code",
   "execution_count": 73,
   "id": "6bcc18e0",
   "metadata": {},
   "outputs": [
    {
     "name": "stderr",
     "output_type": "stream",
     "text": [
      "[  poppy] Pysynphot unavailable (or invalid source supplied)!   Assuming flat # of counts versus wavelength.\n",
      "[  poppy] CAUTION: Just interpolating rather than integrating filter profile, over 1 steps\n"
     ]
    },
    {
     "name": "stdout",
     "output_type": "stream",
     "text": [
      "[  poppy] PSF calc using fov_arcsec = 1.600000, oversample = 4, number of wavelengths = 1\n",
      "[webbpsf] Creating optical system model:\n",
      "[  poppy] Initialized OpticalSystem: Roman+CGI\n",
      "[  poppy] Roman Entrance Pupil: Loaded amplitude transmission from /home/marken/GitHub/webbpsf_data/AFTA_CGI_C5_Pupil_onax_256px_flip.fits\n",
      "[  poppy] Added pupil plane: Roman Entrance Pupil\n",
      "[  poppy] Added coordinate inversion plane: OTE exit pupil\n",
      "[  poppy] CHARSPC: Loaded amplitude transmission from /home/marken/GitHub/webbpsf_data/CGI/optics/CHARSPC_SP_256pix.fits.gz\n",
      "[  poppy] Added pupil plane: CHARSPC\n",
      "[  poppy] Added pupil plane: DM\n",
      "[  poppy] Added pupil plane: DM\n",
      "[  poppy] CHARSPC_F770_BOWTIE: Loaded amplitude transmission from /home/marken/GitHub/webbpsf_data/CGI/optics/CHARSPC_FPM_25WA90_2x65deg_-_FP1res4_evensamp_D072_F770.fits.gz\n",
      "[  poppy] Added image plane: CHARSPC_F770_BOWTIE\n",
      "[  poppy] LS30D88: Loaded amplitude transmission from /home/marken/GitHub/webbpsf_data/CGI/optics/SPC_LS_30D88_256pix.fits.gz\n",
      "[  poppy] Added pupil plane: LS30D88\n",
      "[  poppy] Initialized OpticalSystem: unnamed system\n",
      "[  poppy] Added detector with pixelscale=0.025 and oversampling=4: CGI detector\n",
      "[  poppy] Calculating PSF with 1 wavelengths\n",
      "[  poppy]  Propagating wavelength = 7.7e-07 m\n",
      "[  poppy]  Propagating wavelength = 7.7e-07 m meters using Matrix FTs\n",
      "[  poppy]   Calculation completed in 0.167 s\n",
      "[  poppy] PSF Calculation completed.\n",
      "[  poppy]  Adding extension with image downsampled to detector pixel scale.\n",
      "[  poppy]  Downsampling to detector pixel scale, by 4\n"
     ]
    }
   ],
   "source": [
    "psf_fit = fits.open('/home/marken/GitHub/cube_modes.fits')\n",
    "psf = psf_fit[0].data[0]\n",
    "\n",
    "DM_on.working_area(im=psf)\n",
    "dh_mask = DM_on.WA"
   ]
  },
  {
   "cell_type": "code",
   "execution_count": 74,
   "id": "2e6642a3",
   "metadata": {},
   "outputs": [],
   "source": [
    "psf = psf_fit[0].data*dh_mask"
   ]
  },
  {
   "cell_type": "code",
   "execution_count": 75,
   "id": "a64fe7b6",
   "metadata": {},
   "outputs": [
    {
     "ename": "TypeError",
     "evalue": "Element 0 in the HDUList input is not an HDU.",
     "output_type": "error",
     "traceback": [
      "\u001b[0;31m---------------------------------------------------------------------------\u001b[0m",
      "\u001b[0;31mTypeError\u001b[0m                                 Traceback (most recent call last)",
      "\u001b[0;32m<ipython-input-75-6b33689a37d8>\u001b[0m in \u001b[0;36m<module>\u001b[0;34m\u001b[0m\n\u001b[0;32m----> 1\u001b[0;31m \u001b[0mhdul\u001b[0m \u001b[0;34m=\u001b[0m \u001b[0mfits\u001b[0m\u001b[0;34m.\u001b[0m\u001b[0mHDUList\u001b[0m\u001b[0;34m(\u001b[0m\u001b[0;34m[\u001b[0m\u001b[0mpsf\u001b[0m\u001b[0;34m]\u001b[0m\u001b[0;34m)\u001b[0m\u001b[0;34m\u001b[0m\u001b[0;34m\u001b[0m\u001b[0m\n\u001b[0m\u001b[1;32m      2\u001b[0m \u001b[0mhdul\u001b[0m\u001b[0;34m.\u001b[0m\u001b[0mwriteto\u001b[0m\u001b[0;34m(\u001b[0m\u001b[0;34m'new1.fits'\u001b[0m\u001b[0;34m)\u001b[0m\u001b[0;34m\u001b[0m\u001b[0;34m\u001b[0m\u001b[0m\n",
      "\u001b[0;32m~/miniconda3/envs/pastis/lib/python3.7/site-packages/astropy/io/fits/hdu/hdulist.py\u001b[0m in \u001b[0;36m__init__\u001b[0;34m(self, hdus, file)\u001b[0m\n\u001b[1;32m    226\u001b[0m             \u001b[0;32mif\u001b[0m \u001b[0;32mnot\u001b[0m \u001b[0misinstance\u001b[0m\u001b[0;34m(\u001b[0m\u001b[0mhdu\u001b[0m\u001b[0;34m,\u001b[0m \u001b[0m_BaseHDU\u001b[0m\u001b[0;34m)\u001b[0m\u001b[0;34m:\u001b[0m\u001b[0;34m\u001b[0m\u001b[0;34m\u001b[0m\u001b[0m\n\u001b[1;32m    227\u001b[0m                 raise TypeError(\"Element {} in the HDUList input is \"\n\u001b[0;32m--> 228\u001b[0;31m                                 \"not an HDU.\".format(idx))\n\u001b[0m\u001b[1;32m    229\u001b[0m \u001b[0;34m\u001b[0m\u001b[0m\n\u001b[1;32m    230\u001b[0m         \u001b[0msuper\u001b[0m\u001b[0;34m(\u001b[0m\u001b[0;34m)\u001b[0m\u001b[0;34m.\u001b[0m\u001b[0m__init__\u001b[0m\u001b[0;34m(\u001b[0m\u001b[0mhdus\u001b[0m\u001b[0;34m)\u001b[0m\u001b[0;34m\u001b[0m\u001b[0;34m\u001b[0m\u001b[0m\n",
      "\u001b[0;31mTypeError\u001b[0m: Element 0 in the HDUList input is not an HDU."
     ]
    }
   ],
   "source": [
    "hdul = fits.HDUList([psf])\n",
    "hdul.writeto('new1.fits')"
   ]
  },
  {
   "cell_type": "code",
   "execution_count": null,
   "id": "6a02fe50",
   "metadata": {},
   "outputs": [],
   "source": []
  }
 ],
 "metadata": {
  "kernelspec": {
   "display_name": "Python 3",
   "language": "python",
   "name": "python3"
  },
  "language_info": {
   "codemirror_mode": {
    "name": "ipython",
    "version": 3
   },
   "file_extension": ".py",
   "mimetype": "text/x-python",
   "name": "python",
   "nbconvert_exporter": "python",
   "pygments_lexer": "ipython3",
   "version": "3.7.10"
  }
 },
 "nbformat": 4,
 "nbformat_minor": 5
}
