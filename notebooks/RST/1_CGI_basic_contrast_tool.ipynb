{
 "cells": [
  {
   "cell_type": "markdown",
   "id": "bacf0986",
   "metadata": {},
   "source": [
    "# CGI basic contrast tool\n",
    "### Goal\n",
    "\n",
    "This notebook goal has helped to understand step by step how to get mean contrast Enid Dark Hole (DH) for the CoronaGraphic Instrument (CGI) of the Roman Space Telescope (RST) with WebbPSF.\n",
    "To do it, we must understand how get a PSF in the final focal plane. Then how get a direct PSF to normalize doses PSF in raw contrast.\n",
    "\n",
    "\n",
    "### Installation and before use it\n",
    "\n",
    "Befaore start this notebook, check your WebbPSF installation and your git Head must be on this [fork](https://github.com/davidbourgeois/webbpsf). Please follow [installation instructions here](https://webbpsf.readthedocs.io/en/latest/installation.html#installing-with-conda-but-not-astroconda). \n",
    "\n",
    "First, I suggest to use [roman_cgi_demo notebook](https://github.com/davidbourgeois/webbpsf/blob/develop/notebooks/roman_cgi_demo.ipynb) from WebbPSF.\n",
    "\n",
    "\n",
    "## PSF\n",
    "In this section we will display our first CGI PSF in WebbPSF."
   ]
  },
  {
   "cell_type": "code",
   "execution_count": null,
   "id": "7426bdd9",
   "metadata": {},
   "outputs": [],
   "source": [
    "#WebbPSF requierement\n",
    "%pylab inline --no-import-all\n",
    "from matplotlib.colors import LogNorm\n",
    "matplotlib.rcParams['image.origin'] = 'lower'\n",
    "matplotlib.rcParams['image.interpolation'] = 'nearest'\n",
    "\n",
    "import os\n",
    "os.environ['WEBBPSF_PATH'] = '<your_path>/webbpsf_data'\n",
    "import webbpsf\n",
    "from webbpsf import roman\n",
    "import ipywidgets\n",
    "from astropy.io import fits"
   ]
  },
  {
   "cell_type": "code",
   "execution_count": null,
   "id": "4af743cf",
   "metadata": {},
   "outputs": [],
   "source": [
    "import logging\n",
    "\n",
    "#Get WebbPSF logs\n",
    "webbpsf.setup_logging()\n",
    "\n",
    "#Remove useless logs warning\n",
    "log = logging.getLogger()\n",
    "mplfm_logger = logging.getLogger('matplotlib.font_manager')\n",
    "mplcb_logger = logging.getLogger('matplotlib.colorbar')\n",
    "mplt_logger = logging.getLogger('matplotlib.ticker')\n",
    "mplbe_logger = logging.getLogger('matplotlib.backends')\n",
    "\n",
    "mplfm_logger.setLevel(logging.WARNING)\n",
    "mplcb_logger.setLevel(logging.WARNING)\n",
    "mplt_logger.setLevel(logging.WARNING)\n",
    "mplbe_logger.setLevel(logging.WARNING)"
   ]
  },
  {
   "cell_type": "code",
   "execution_count": null,
   "id": "eec2a303",
   "metadata": {},
   "outputs": [],
   "source": [
    "#Create a coronagraph instancy\n",
    "SPC = roman.CGI(mode='CHARSPC_F770')\n",
    "\n",
    "#Create and display optical path of an unaberrated coronographic PSF\n",
    "psf = SPC.calc_psf(nlambda=1, fov_arcsec=1.6, display=True)"
   ]
  },
  {
   "cell_type": "code",
   "execution_count": null,
   "id": "1c5f3e6f",
   "metadata": {},
   "outputs": [],
   "source": [
    "#Display only PSF on last focal plan in scientific camera\n",
    "psf_fit = psf[0].data #Extract data from generated fit by calc_psf()\n",
    "\n",
    "plt.imshow(psf_fit, norm = LogNorm(vmin=1e-13))\n",
    "plt.colorbar()"
   ]
  },
  {
   "cell_type": "markdown",
   "id": "44cb30cd",
   "metadata": {},
   "source": [
    "## Direct PSF & DH\n",
    "In this section, we will use the 2 main contrast functions."
   ]
  },
  {
   "cell_type": "code",
   "execution_count": null,
   "id": "1f33c90e",
   "metadata": {},
   "outputs": [],
   "source": [
    "#Raw_coronagraph remove FPM to create a direct PSF\n",
    "direct = SPC.raw_coronagraph()\n",
    "\n",
    "#Create and display optical path of direct PSF\n",
    "psf_direct = direct.calc_psf(nlambda=1, fov_arcsec=1.6, display=True)"
   ]
  },
  {
   "cell_type": "code",
   "execution_count": null,
   "id": "b6b0a369",
   "metadata": {},
   "outputs": [],
   "source": [
    "#Display only direct PSF on last focal plan in scientific camera\n",
    "psf_direct_fit = psf_direct[0].data #Extract data from generated fit by calc_psf()\n",
    "\n",
    "plt.imshow(psf_direct_fit, norm = LogNorm(vmin=1e-9))\n",
    "plt.colorbar()"
   ]
  },
  {
   "cell_type": "code",
   "execution_count": null,
   "id": "20f87911",
   "metadata": {},
   "outputs": [],
   "source": [
    "#We definite norm with maximun of direct PSF\n",
    "norm = np.max(psf_direct_fit)\n",
    "\n",
    "#We normalize our PSF in contrast\n",
    "contrast = psf_fit/ norm\n",
    "\n",
    "#First display in contrast\n",
    "plt.imshow(contrast, norm = LogNorm(vmin=1e-9))\n",
    "plt.colorbar()"
   ]
  },
  {
   "cell_type": "code",
   "execution_count": null,
   "id": "f93cedb3",
   "metadata": {},
   "outputs": [],
   "source": [
    "#Next step we definite create a DH wor this coronagraph\n",
    "iwa = 3 #inner working area\n",
    "owa = 9 #outer working area \n",
    "\n",
    "dh_mask = SPC.working_area(im=contrast, inner_rad=iwa, outer_rad=owa) #method to create DH\n",
    "dh_mask = SPC.WA #DH attribut\n",
    "\n",
    "#Display our DH\n",
    "plt.imshow(dh_mask)\n",
    "plt.colorbar()"
   ]
  },
  {
   "cell_type": "markdown",
   "id": "d7fc153c",
   "metadata": {},
   "source": [
    "## Raw contrast\n",
    "In this section, we will get mean contrast and use raw_contrast function for another coronagraph."
   ]
  },
  {
   "cell_type": "code",
   "execution_count": null,
   "id": "7e43f96f",
   "metadata": {},
   "outputs": [],
   "source": [
    "# We multiply our contrast figure with our his associate DH\n",
    "contrast_dh = contrast*dh_mask\n",
    "\n",
    "plt.imshow(contrast_dh)\n",
    "plt.colorbar()"
   ]
  },
  {
   "cell_type": "code",
   "execution_count": null,
   "id": "29238a2e",
   "metadata": {},
   "outputs": [],
   "source": [
    "#Finaly get mean contrast in this DH\n",
    "mean_contrast = np.mean(contrast_dh[np.where(contrast_dh != 0)])\n",
    "print(mean_contrast)"
   ]
  },
  {
   "cell_type": "code",
   "execution_count": null,
   "id": "e4e37679",
   "metadata": {},
   "outputs": [],
   "source": [
    "# Now we can do same for all configuration in only 2 lines !\n",
    "\n",
    "DISKSPC = roman.CGI(mode='DISKSPC_F721')\n",
    "\n",
    "DISKSPC.raw_contrast(display=True)"
   ]
  }
 ],
 "metadata": {
  "kernelspec": {
   "display_name": "Python 3",
   "language": "python",
   "name": "python3"
  },
  "language_info": {
   "codemirror_mode": {
    "name": "ipython",
    "version": 3
   },
   "file_extension": ".py",
   "mimetype": "text/x-python",
   "name": "python",
   "nbconvert_exporter": "python",
   "pygments_lexer": "ipython3",
   "version": "3.7.10"
  }
 },
 "nbformat": 4,
 "nbformat_minor": 5
}
