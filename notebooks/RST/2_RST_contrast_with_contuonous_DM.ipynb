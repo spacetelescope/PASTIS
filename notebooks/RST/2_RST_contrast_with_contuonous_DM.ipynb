{
 "cells": [
  {
   "cell_type": "markdown",
   "id": "b526d93c",
   "metadata": {},
   "source": [
    "# RST contrast with continuous Deformable Mirror (DM)\n",
    "### Goal\n",
    "\n",
    "After manage our basic contrast tool, we will try to understand how use our DM and measure his influence on contrast.\n",
    "\n",
    "\n",
    "## Use DM"
   ]
  },
  {
   "cell_type": "code",
   "execution_count": null,
   "id": "8cb34a8b",
   "metadata": {},
   "outputs": [],
   "source": [
    "#WebbPSF requierement\n",
    "%pylab inline --no-import-all\n",
    "from matplotlib.colors import LogNorm\n",
    "matplotlib.rcParams['image.origin'] = 'lower'\n",
    "matplotlib.rcParams['image.interpolation'] = 'nearest'\n",
    "\n",
    "import os\n",
    "os.environ['WEBBPSF_PATH'] = '/home/marken/GitHub/webbpsf_data'\n",
    "import webbpsf\n",
    "from webbpsf import roman\n",
    "import ipywidgets\n",
    "from astropy.io import fits\n",
    "import astropy.units as u"
   ]
  },
  {
   "cell_type": "code",
   "execution_count": null,
   "id": "ebc62cab",
   "metadata": {},
   "outputs": [],
   "source": [
    "import logging\n",
    "\n",
    "#Get WebbPSF logs\n",
    "webbpsf.setup_logging()\n",
    "\n",
    "#Remove useless logs warning\n",
    "log = logging.getLogger()\n",
    "mplfm_logger = logging.getLogger('matplotlib.font_manager')\n",
    "mplcb_logger = logging.getLogger('matplotlib.colorbar')\n",
    "mplt_logger = logging.getLogger('matplotlib.ticker')\n",
    "mplbe_logger = logging.getLogger('matplotlib.backends')\n",
    "\n",
    "mplfm_logger.setLevel(logging.WARNING)\n",
    "mplcb_logger.setLevel(logging.WARNING)\n",
    "mplt_logger.setLevel(logging.WARNING)\n",
    "mplbe_logger.setLevel(logging.WARNING)"
   ]
  },
  {
   "cell_type": "code",
   "execution_count": null,
   "id": "53a08774",
   "metadata": {},
   "outputs": [],
   "source": [
    "#Create a coronagraph instancy\n",
    "SPC = roman.CGI(mode='CHARSPC_F770')\n",
    "\n",
    "\n",
    "#Display our DM\n",
    "SPC.dm1.display()\n"
   ]
  },
  {
   "cell_type": "code",
   "execution_count": null,
   "id": "2733a601",
   "metadata": {},
   "outputs": [],
   "source": [
    "#We can inject amplitude of 1 meter in 2 different actuators\n",
    "SPC.dm1.set_actuator(11, 11, 1*u.m)\n",
    "SPC.dm1.set_actuator(35, 35, 1*u.m)\n",
    "\n",
    "SPC.dm1.display()"
   ]
  },
  {
   "cell_type": "code",
   "execution_count": null,
   "id": "39f0b8d2",
   "metadata": {},
   "outputs": [],
   "source": [
    "#Display his influence on contrast\n",
    "SPC.raw_contrast(display=True)"
   ]
  },
  {
   "cell_type": "code",
   "execution_count": null,
   "id": "2eb4e31b",
   "metadata": {},
   "outputs": [],
   "source": [
    "#We can add all actuators we want inside grid (default 48x48) and replace value like this\n",
    "SPC.dm1.set_actuator(11, 11, 0)\n",
    "SPC.dm1.set_actuator(2, 24, 1*u.m)\n",
    "SPC.dm1.set_actuator(36, 13, 1*u.cm)\n",
    "SPC.dm1.display()"
   ]
  },
  {
   "cell_type": "code",
   "execution_count": null,
   "id": "c5d338bb",
   "metadata": {},
   "outputs": [],
   "source": [
    "#Flat DM\n",
    "SPC.dm1.flatten()\n",
    "SPC.dm1.display()"
   ]
  },
  {
   "cell_type": "code",
   "execution_count": null,
   "id": "0ab0442c",
   "metadata": {},
   "outputs": [],
   "source": [
    "#Change nb is number of actuator in line or/and column\n",
    "\n",
    "nb = 12 \n",
    "\n",
    "\n",
    "DM_grid = roman.CGI(mode='CHARSPC_F770', nbactuator=nb) #nbactuator is optionnal but nbactuator=48 by default\n",
    "\n",
    "for i in range(nb):\n",
    "    for j in range(nb):\n",
    "        DM_grid.dm1.set_actuator(i, j, 1*u.nm)\n",
    "\n",
    "#Get itermediates wawefront propagation \n",
    "_psf, inter = DM_grid.calc_psf(nlambda=1, return_intermediates=True)\n",
    "\n",
    "grid = inter[3].phase #Get phase at the end of pupil plan\n",
    "\n",
    "plt.imshow(grid**30) #Put a high power number to show grid"
   ]
  },
  {
   "cell_type": "code",
   "execution_count": null,
   "id": "817e1838",
   "metadata": {},
   "outputs": [],
   "source": []
  },
  {
   "cell_type": "markdown",
   "id": "07790cf6",
   "metadata": {},
   "source": [
    "#We show how push actuator destroy our mean contrast inside the DH but our values are too huge for example"
   ]
  },
  {
   "cell_type": "code",
   "execution_count": null,
   "id": "49d7ed83",
   "metadata": {},
   "outputs": [],
   "source": []
  }
 ],
 "metadata": {
  "kernelspec": {
   "display_name": "Python 3",
   "language": "python",
   "name": "python3"
  },
  "language_info": {
   "codemirror_mode": {
    "name": "ipython",
    "version": 3
   },
   "file_extension": ".py",
   "mimetype": "text/x-python",
   "name": "python",
   "nbconvert_exporter": "python",
   "pygments_lexer": "ipython3",
   "version": "3.7.10"
  }
 },
 "nbformat": 4,
 "nbformat_minor": 5
}
