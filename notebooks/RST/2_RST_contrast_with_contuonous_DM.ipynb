{
 "cells": [
  {
   "cell_type": "markdown",
   "id": "b526d93c",
   "metadata": {},
   "source": [
    "# RST contrast with continuous Deformable Mirror (DM)\n",
    "### Goal\n",
    "\n",
    "After manage our basic contrast tool, we will try to understand how use our DM and measure his influence on contrast.\n",
    "\n",
    "\n",
    "## Use DM"
   ]
  },
  {
   "cell_type": "code",
   "execution_count": null,
   "id": "8cb34a8b",
   "metadata": {},
   "outputs": [],
   "source": [
    "#WebbPSF requierement\n",
    "%pylab inline --no-import-all\n",
    "import matplotlib.pyplot as plt\n",
    "from matplotlib.colors import LogNorm\n",
    "matplotlib.rcParams['image.origin'] = 'lower'\n",
    "matplotlib.rcParams['image.interpolation'] = 'nearest'\n",
    "\n",
    "import os\n",
    "os.environ['WEBBPSF_PATH'] = '/home/marken/GitHub/webbpsf_data'\n",
    "import webbpsf\n",
    "from webbpsf import roman\n",
    "import ipywidgets\n",
    "from astropy.io import fits\n",
    "import astropy.units as u\n",
    "import pastis.util as util\n",
    "from pastis.e2e_simulators.telescopes import RST"
   ]
  },
  {
   "cell_type": "code",
   "execution_count": null,
   "id": "ebc62cab",
   "metadata": {},
   "outputs": [],
   "source": [
    "import logging\n",
    "\n",
    "#Get WebbPSF logs\n",
    "webbpsf.setup_logging()\n",
    "\n",
    "#Remove useless logs warning\n",
    "log = logging.getLogger()\n",
    "mplfm_logger = logging.getLogger('matplotlib.font_manager')\n",
    "mplcb_logger = logging.getLogger('matplotlib.colorbar')\n",
    "mplt_logger = logging.getLogger('matplotlib.ticker')\n",
    "mplbe_logger = logging.getLogger('matplotlib.backends')\n",
    "\n",
    "mplfm_logger.setLevel(logging.WARNING)\n",
    "mplcb_logger.setLevel(logging.WARNING)\n",
    "mplt_logger.setLevel(logging.WARNING)\n",
    "mplbe_logger.setLevel(logging.WARNING)"
   ]
  },
  {
   "cell_type": "code",
   "execution_count": null,
   "id": "53a08774",
   "metadata": {},
   "outputs": [],
   "source": [
    "#Create a coronagraph instancy\n",
    "SPC = roman.CGI(mode='CHARSPC_F770')\n",
    "\n",
    "\n",
    "#Display our DM\n",
    "SPC.dm1.display()\n"
   ]
  },
  {
   "cell_type": "code",
   "execution_count": null,
   "id": "2733a601",
   "metadata": {},
   "outputs": [],
   "source": [
    "#We can inject amplitude of 1 meter in 2 different actuators\n",
    "SPC.dm1.set_actuator(11, 11, 1*u.m)\n",
    "SPC.dm1.set_actuator(35, 35, 1*u.m)\n",
    "\n",
    "SPC.dm1.display()"
   ]
  },
  {
   "cell_type": "code",
   "execution_count": null,
   "id": "39f0b8d2",
   "metadata": {},
   "outputs": [],
   "source": [
    "#Display his influence on contrast\n",
    "SPC.raw_contrast(display=True)"
   ]
  },
  {
   "cell_type": "code",
   "execution_count": null,
   "id": "2eb4e31b",
   "metadata": {},
   "outputs": [],
   "source": [
    "#We can add all actuators we want inside grid (default 48x48) and replace value like this\n",
    "SPC.dm1.set_actuator(11, 11, 0)\n",
    "SPC.dm1.set_actuator(2, 24, 1*u.m)\n",
    "SPC.dm1.set_actuator(36, 13, 1*u.cm)\n",
    "SPC.dm1.display()"
   ]
  },
  {
   "cell_type": "code",
   "execution_count": null,
   "id": "c5d338bb",
   "metadata": {},
   "outputs": [],
   "source": [
    "#Flat DM\n",
    "SPC.dm1.flatten()\n",
    "SPC.dm1.display()"
   ]
  },
  {
   "cell_type": "code",
   "execution_count": null,
   "id": "4302f145",
   "metadata": {},
   "outputs": [],
   "source": [
    "# Finally you can use push_mode() method in PASTIS\n",
    "cgi = RST() #RST telescop class in PASTIS\n",
    "\n",
    "cgi.push_mode(750, 1)\n",
    "\n",
    "cgi.sim.dm1.display()"
   ]
  },
  {
   "cell_type": "markdown",
   "id": "fb9e7980",
   "metadata": {},
   "source": [
    "## Pitch-scalling & Actuators grid\n",
    "In this block, we use a method to verify if our DM works on pupil plan with the observation of amplifiate phase. We can also show pitch-scaling implementation."
   ]
  },
  {
   "cell_type": "code",
   "execution_count": null,
   "id": "0ab0442c",
   "metadata": {},
   "outputs": [],
   "source": [
    "#Change nb! Number of actuators in line or/and column\n",
    "########\n",
    "nb = 48 #48 is the default number\n",
    "#######\n",
    "\n",
    "DM_grid = roman.CGI(mode='CHARSPC_F770', nbactuator=nb) #nbactuator is optionnal but nbactuator=48 by default\n",
    "\n",
    "for i in range(nb):\n",
    "    for j in range(nb):\n",
    "        DM_grid.dm1.set_actuator(i, j, 1*u.nm)\n",
    "\n",
    "#Get itermediates wawefront propagation \n",
    "_psf, inter = DM_grid.calc_psf(nlambda=1, return_intermediates=True)\n",
    "\n",
    "grid = inter[3].phase #Get phase at the end of pupil plan\n",
    "\n",
    "plt.imshow(grid**30) #Put a high power number to show grid"
   ]
  },
  {
   "cell_type": "markdown",
   "id": "07790cf6",
   "metadata": {},
   "source": [
    "## Parametrization\n",
    "We show how push actuator decreases our mean contrast inside the DH, but in top example, we use random values not optimal ones. But PASTIS need to be parameters to work in the linear regime, the 2 following block will help us to determine how we choose the right amplitude."
   ]
  },
  {
   "cell_type": "code",
   "execution_count": null,
   "id": "49d7ed83",
   "metadata": {},
   "outputs": [],
   "source": [
    "points = 75 #Number of point in our curve\n",
    "nb_actu = 6\n",
    "\n",
    "abb_list = [0.2*i*10**(-5-2*i%5) for i in range(points)]\n",
    "contrast = [i for i in range(points)]\n",
    "\n",
    "sim_instance = roman.CGI(mode='CHARSPC_F770', nbactuator=nb_actu)\n",
    "seg = (nb_actu**2)%2 + 1 #Choosen actuator to push\n",
    "\n",
    "for i in range(points):\n",
    "    sim_instance.dm1.flatten()\n",
    "    actu_x, actu_y = util.seg_to_dm_xy(nb_actu, seg)\n",
    "    sim_instance.dm1.set_actuator(actu_x, actu_y, abb_list[i])\n",
    "    contrast[i] = sim_instance.raw_contrast()\n",
    "\n",
    "# log results for a better reding\n",
    "log_contrast = np.log10(contrast) \n",
    "log_abb = np.log10(abb_list)"
   ]
  },
  {
   "cell_type": "code",
   "execution_count": null,
   "id": "82da6e16",
   "metadata": {},
   "outputs": [],
   "source": [
    "#Plotting our results\n",
    "plt.scatter(log_abb,log_contrast)\n",
    "plt.xlabel('log amplitude actuator(m)')\n",
    "plt.ylabel('log contrast')\n",
    "plt.axhline(-8.3566, color='grey', linewidth='2') # Contrast floor ()\n",
    "plt.axvline(-6.113509275, color='grey', linewidth='2') # Wawelenght (770 nm)\n",
    "plt.axvline(-8.301, color='grey', linewidth='2') # Chosen amplitude to inject (5 nm)\n",
    "plt.show()"
   ]
  },
  {
   "cell_type": "markdown",
   "id": "d09e7e68",
   "metadata": {},
   "source": [
    "Contrast in function of the injected amplitude actuator learns us many things. We can distinguish 3 regimes:\n",
    "- Contrast floor one with too low aberrations to deteriorate contrast\n",
    "- Linear regime, C = K a\n",
    "- Satured regime, start when aberrations are near of wawelenght\n",
    "We can trust, we can choose a default amplitude to inject in middle of linear regime, but no. We must a value in knee of the curve because we will inject aberrations in multiple actuators. If we choose higher values PASTIS will be quickly out of range to make a good tolerancing. "
   ]
  }
 ],
 "metadata": {
  "kernelspec": {
   "display_name": "Python 3",
   "language": "python",
   "name": "python3"
  },
  "language_info": {
   "codemirror_mode": {
    "name": "ipython",
    "version": 3
   },
   "file_extension": ".py",
   "mimetype": "text/x-python",
   "name": "python",
   "nbconvert_exporter": "python",
   "pygments_lexer": "ipython3",
   "version": "3.7.10"
  }
 },
 "nbformat": 4,
 "nbformat_minor": 5
}
