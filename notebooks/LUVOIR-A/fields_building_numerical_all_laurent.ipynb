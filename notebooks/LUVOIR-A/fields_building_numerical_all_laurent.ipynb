{
 "cells": [
  {
   "cell_type": "markdown",
   "id": "divine-coordinator",
   "metadata": {},
   "source": [
    "# PASTIS matrix from E-fields\n",
    "\n",
    "This notebook calculates PASTIS matrices for the low, mid, and high order modes from single-mode E-fields in the focal plane.  \n",
    "It also calculates matrices on the low order wavefront sensor (LOWFS) and out of band wavefront sensor (OBWFS)."
   ]
  },
  {
   "cell_type": "code",
   "execution_count": 1,
   "id": "induced-charles",
   "metadata": {},
   "outputs": [],
   "source": [
    "import os\n",
    "import time\n",
    "from shutil import copy\n",
    "\n",
    "from astropy.io import fits\n",
    "import astropy.units as u\n",
    "import hcipy\n",
    "import numpy as np\n",
    "\n",
    "import pastis.util as util    \n",
    "from pastis.config import CONFIG_PASTIS \n",
    "from pastis.e2e_simulators.luvoir_imaging import LuvoirA_APLC "
   ]
  },
  {
   "cell_type": "markdown",
   "id": "39d0bdeb",
   "metadata": {},
   "source": [
    "## Initial setup and parameters"
   ]
  },
  {
   "cell_type": "markdown",
   "id": "7da996c5",
   "metadata": {},
   "source": [
    "Set up data paths for input and output"
   ]
  },
  {
   "cell_type": "code",
   "execution_count": 2,
   "id": "engaged-thriller",
   "metadata": {},
   "outputs": [
    {
     "name": "stdout",
     "output_type": "stream",
     "text": [
      "/Users/asahoo/Desktop/data_repos/multi_mode\n",
      "\n",
      "/Users/asahoo/Desktop/data_repos/multi_mode/2022-01-10T15-46-14_luvoir_small/matrix_numerical\n"
     ]
    }
   ],
   "source": [
    "#root_dir = CONFIG_PASTIS.get('local', 'local_data_path')\n",
    "root_dir = \"/Users/asahoo/Desktop/data_repos/multi_mode\"\n",
    "repo_dir = \"/Users/asahoo/repos/PASTIS\"\n",
    "coronagraph_design = 'small' # user provides\n",
    "overall_dir = util.create_data_path(root_dir, telescope='luvoir_'+coronagraph_design)\n",
    "resDir = os.path.join(overall_dir, 'matrix_numerical')\n",
    "\n",
    "print(resDir)"
   ]
  },
  {
   "cell_type": "markdown",
   "id": "f1c2b979",
   "metadata": {},
   "source": [
    "Read from configfile how many modes each DM should be able to do"
   ]
  },
  {
   "cell_type": "code",
   "execution_count": 3,
   "id": "searching-regular",
   "metadata": {},
   "outputs": [
    {
     "name": "stdout",
     "output_type": "stream",
     "text": [
      "max_LO: 15\n",
      "max_MID: 1\n",
      "max_HI: 4\n",
      "num_DM_act: 4\n"
     ]
    }
   ],
   "source": [
    "max_LO = CONFIG_PASTIS.getint('dm_objects', 'number_of_low_order_modes')\n",
    "max_MID = CONFIG_PASTIS.getint('dm_objects', 'number_of_mid_order_modes')\n",
    "max_HI = CONFIG_PASTIS.getint('dm_objects', 'number_of_high_order_modes')\n",
    "num_DM_act = CONFIG_PASTIS.getint('dm_objects', 'number_of_continuous_dm_actuators')\n",
    "\n",
    "print(f'max_LO: {max_LO}')\n",
    "print(f'max_MID: {max_MID}')\n",
    "print(f'max_HI: {max_HI}')\n",
    "print(f'num_DM_act: {num_DM_act}')"
   ]
  },
  {
   "cell_type": "markdown",
   "id": "471628d4",
   "metadata": {},
   "source": [
    "Read some more required parameters from the configfile"
   ]
  },
  {
   "cell_type": "code",
   "execution_count": 4,
   "id": "787d8298",
   "metadata": {},
   "outputs": [],
   "source": [
    "nb_seg = CONFIG_PASTIS.getint('LUVOIR', 'nb_subapertures')\n",
    "wvln = CONFIG_PASTIS.getfloat('LUVOIR', 'lambda') * 1e-9  # m\n",
    "diam = CONFIG_PASTIS.getfloat('LUVOIR', 'diameter')  # m\n",
    "nm_aber = CONFIG_PASTIS.getfloat('LUVOIR', 'calibration_aberration') * 1e-9   # m\n",
    "sampling = CONFIG_PASTIS.getfloat('LUVOIR', 'sampling')"
   ]
  },
  {
   "cell_type": "code",
   "execution_count": 5,
   "id": "worthy-examination",
   "metadata": {},
   "outputs": [
    {
     "name": "stdout",
     "output_type": "stream",
     "text": [
      "LUVOIR apodizer design: small\n",
      "\n",
      "Wavelength: 5.000000000000001e-07 m\n",
      "Telescope diameter: 15.0 m\n",
      "Number of segments: 120\n",
      "\n",
      "Sampling: 4.0 px per lambda/D\n"
     ]
    }
   ],
   "source": [
    "print('LUVOIR apodizer design: {}'.format(coronagraph_design)) \n",
    "print()\n",
    "print('Wavelength: {} m'.format(wvln))\n",
    "print('Telescope diameter: {} m'.format(diam))\n",
    "print('Number of segments: {}'.format(nb_seg))\n",
    "print()\n",
    "print('Sampling: {} px per lambda/D'.format(sampling))"
   ]
  },
  {
   "cell_type": "code",
   "execution_count": 6,
   "id": "sharp-shakespeare",
   "metadata": {},
   "outputs": [],
   "source": [
    "# Create necessary directories if they don't exist yet\n",
    "os.makedirs(resDir, exist_ok=True)\n",
    "os.makedirs(os.path.join(resDir, 'OTE_images'), exist_ok=True)\n",
    "os.makedirs(os.path.join(resDir, 'psfs'), exist_ok=True)"
   ]
  },
  {
   "cell_type": "code",
   "execution_count": 7,
   "id": "secure-kentucky",
   "metadata": {},
   "outputs": [
    {
     "name": "stdout",
     "output_type": "stream",
     "text": [
      "Saving the configfile to outputs folder.\n"
     ]
    }
   ],
   "source": [
    "#  Copy configfile to resulting matrix directory\n",
    "util.copy_config(resDir)"
   ]
  },
  {
   "cell_type": "code",
   "execution_count": 8,
   "id": "aware-equality",
   "metadata": {},
   "outputs": [
    {
     "name": "stderr",
     "output_type": "stream",
     "text": [
      "/opt/miniconda3/envs/pastis/lib/python3.7/site-packages/hcipy/field/cartesian_grid.py:74: UserWarning: No automatic weights could be calculated for this grid.\n",
      "  self.weights *= np.abs(scale)**self.ndim\n"
     ]
    }
   ],
   "source": [
    "# Create LUVOIR simulator instance\n",
    "optics_input = os.path.join(util.find_repo_location(), CONFIG_PASTIS.get('LUVOIR', 'optics_path_in_repo'))\n",
    "luvoir = LuvoirA_APLC(optics_input, coronagraph_design, sampling) "
   ]
  },
  {
   "cell_type": "markdown",
   "id": "6ce3b0ce",
   "metadata": {},
   "source": [
    "Generate the deformable mirrors that are required.\n",
    "\n",
    "**This will take quite some time**"
   ]
  },
  {
   "cell_type": "code",
   "execution_count": 9,
   "id": "electronic-acceptance",
   "metadata": {},
   "outputs": [],
   "source": [
    "luvoir.create_global_zernike_mirror(max_LO)\n",
    "luvoir.create_segmented_mirror(max_MID)\n",
    "luvoir.create_ripple_mirror(max_HI)\n",
    "luvoir.create_continuous_deformable_mirror(num_DM_act)"
   ]
  },
  {
   "cell_type": "code",
   "execution_count": 10,
   "id": "existing-istanbul",
   "metadata": {},
   "outputs": [
    {
     "name": "stdout",
     "output_type": "stream",
     "text": [
      "n_LO: 15\n",
      "n_MID: 120\n",
      "n_HI: 16\n",
      "n_DM: 16\n"
     ]
    }
   ],
   "source": [
    "# Figur out the total number of \"actuators\" (= effective modes) for each DM\n",
    "n_LO = luvoir.zernike_mirror.num_actuators \n",
    "n_MID = luvoir.sm.num_actuators \n",
    "n_HI = luvoir.ripple_mirror.num_actuators \n",
    "n_DM = luvoir.dm.num_actuators\n",
    "\n",
    "print(f'n_LO: {n_LO}')\n",
    "print(f'n_MID: {n_MID}')\n",
    "print(f'n_HI: {n_HI}')\n",
    "print(f'n_DM: {n_DM}')"
   ]
  },
  {
   "cell_type": "markdown",
   "id": "3a8e4084",
   "metadata": {},
   "source": [
    "Define some parameters that are needed for the subsampled LOWFS output."
   ]
  },
  {
   "cell_type": "code",
   "execution_count": 11,
   "id": "functioning-petite",
   "metadata": {},
   "outputs": [],
   "source": [
    "z_pup_downsample = CONFIG_PASTIS.getfloat('numerical', 'z_pup_downsample') \n",
    "N_pup_z = int(luvoir.pupil_grid.shape[0] / z_pup_downsample)\n",
    "grid_zernike = hcipy.field.make_pupil_grid(N_pup_z, diameter=luvoir.diam)"
   ]
  },
  {
   "cell_type": "markdown",
   "id": "a1b97e2e",
   "metadata": {},
   "source": [
    "## Flatten all DMs and create unaberrated reference PSF"
   ]
  },
  {
   "cell_type": "code",
   "execution_count": 12,
   "id": "constant-extent",
   "metadata": {},
   "outputs": [],
   "source": [
    "LO_modes = np.zeros(n_LO)\n",
    "MID_modes = np.zeros(n_MID)\n",
    "HI_modes = np.zeros(n_HI)\n",
    "DM_modes = np.zeros(n_DM)"
   ]
  },
  {
   "cell_type": "code",
   "execution_count": 13,
   "id": "general-convenience",
   "metadata": {},
   "outputs": [],
   "source": [
    "luvoir.zernike_mirror.actuators = LO_modes \n",
    "luvoir.sm.actuators = MID_modes\n",
    "luvoir.ripple_mirror.actuators = HI_modes \n",
    "luvoir.dm.actuators = DM_modes"
   ]
  },
  {
   "cell_type": "code",
   "execution_count": 14,
   "id": "responsible-prisoner",
   "metadata": {},
   "outputs": [],
   "source": [
    "# Calculate the unaberrated coro and direct PSFs in INTENSITY\n",
    "unaberrated_coro_psf, ref = luvoir.calc_psf(ref=True, display_intermediate=False)"
   ]
  },
  {
   "cell_type": "code",
   "execution_count": 15,
   "id": "prompt-breed",
   "metadata": {},
   "outputs": [],
   "source": [
    "# Define the normalization factor for contrast units\n",
    "norm = np.max(ref)"
   ]
  },
  {
   "cell_type": "code",
   "execution_count": 16,
   "id": "southeast-antigua",
   "metadata": {},
   "outputs": [],
   "source": [
    "# Calculate the unaberrated coro and direct PSFs in E-FIELDS\n",
    "nonaberrated_coro_psf, ref, efield = luvoir.calc_psf(ref=True, display_intermediate=False, return_intermediate='efield')\n",
    "Efield_ref = nonaberrated_coro_psf.electric_field"
   ]
  },
  {
   "cell_type": "markdown",
   "id": "f4d21139",
   "metadata": {},
   "source": [
    "## Generate LOW-order PASTIS matrix from E-fields"
   ]
  },
  {
   "cell_type": "code",
   "execution_count": 17,
   "id": "welsh-smooth",
   "metadata": {},
   "outputs": [
    {
     "name": "stdout",
     "output_type": "stream",
     "text": [
      "Generating the E-fields for LOW modes in science plane\n",
      "number of LO modes: 15\n"
     ]
    }
   ],
   "source": [
    "print('Generating the E-fields for LOW modes in science plane')\n",
    "print(f'number of LO modes: {n_LO}')"
   ]
  },
  {
   "cell_type": "code",
   "execution_count": 18,
   "id": "nutritional-ontario",
   "metadata": {},
   "outputs": [
    {
     "name": "stdout",
     "output_type": "stream",
     "text": [
      "Calibration aberration used: 1e-09 m\n"
     ]
    }
   ],
   "source": [
    "# Create lists that will hold measured fields\n",
    "print(f'Calibration aberration used: {nm_aber} m')\n",
    "start_time = time.time()\n",
    "focus_fieldS = []\n",
    "focus_fieldS_Re = []\n",
    "focus_fieldS_Im = []"
   ]
  },
  {
   "cell_type": "code",
   "execution_count": 19,
   "id": "focal-enterprise",
   "metadata": {},
   "outputs": [
    {
     "name": "stdout",
     "output_type": "stream",
     "text": [
      "Working on mode 0/15\n",
      "Working on mode 1/15\n",
      "Working on mode 2/15\n",
      "Working on mode 3/15\n",
      "Working on mode 4/15\n",
      "Working on mode 5/15\n",
      "Working on mode 6/15\n",
      "Working on mode 7/15\n",
      "Working on mode 8/15\n",
      "Working on mode 9/15\n",
      "Working on mode 10/15\n",
      "Working on mode 11/15\n",
      "Working on mode 12/15\n",
      "Working on mode 13/15\n",
      "Working on mode 14/15\n"
     ]
    }
   ],
   "source": [
    "for pp in range(0, n_LO):\n",
    "    print(f'Working on mode {pp}/{n_LO}')\n",
    "    \n",
    "    # Apply calibration aberration to used mode\n",
    "    LO_modes = np.zeros(n_LO)\n",
    "    LO_modes[pp] = nm_aber / 2\n",
    "    luvoir.zernike_mirror.actuators  = LO_modes\n",
    "    \n",
    "    # Calculate coronagraphic E-field and add to lists\n",
    "    aberrated_coro_psf, inter = luvoir.calc_psf(display_intermediate=False, return_intermediate='efield')\n",
    "    focus_field1 = aberrated_coro_psf\n",
    "    focus_fieldS.append(focus_field1)\n",
    "    focus_fieldS_Re.append(focus_field1.real)\n",
    "    focus_fieldS_Im.append(focus_field1.imag)"
   ]
  },
  {
   "cell_type": "code",
   "execution_count": 20,
   "id": "operational-swing",
   "metadata": {},
   "outputs": [],
   "source": [
    "# Construct the PASTIS matrix from the E-fields\n",
    "mat_fast = np.zeros([n_LO, n_LO])   # create empty matrix\n",
    "\n",
    "for i in range(0, n_LO):\n",
    "    for j in range(0, n_LO):\n",
    "        test = np.real((focus_fieldS[i].electric_field - Efield_ref) * np.conj(focus_fieldS[j].electric_field - Efield_ref))\n",
    "        dh_test = (test / norm) * luvoir.dh_mask\n",
    "        contrast = np.mean(dh_test[np.where(luvoir.dh_mask != 0)])\n",
    "        mat_fast[i, j] = contrast"
   ]
  },
  {
   "cell_type": "code",
   "execution_count": 21,
   "id": "fiscal-portfolio",
   "metadata": {},
   "outputs": [],
   "source": [
    "# Normalize by the calibration aberration\n",
    "matrix_pastis = np.copy(mat_fast)\n",
    "matrix_pastis /= np.square(nm_aber * 1e9)"
   ]
  },
  {
   "cell_type": "markdown",
   "id": "4b921f18",
   "metadata": {},
   "source": [
    "Save results out to disk"
   ]
  },
  {
   "cell_type": "code",
   "execution_count": 22,
   "id": "composed-empty",
   "metadata": {},
   "outputs": [
    {
     "name": "stdout",
     "output_type": "stream",
     "text": [
      "Matrix saved to: /Users/asahoo/Desktop/data_repos/multi_mode/2022-01-10T15-46-14_luvoir_small/matrix_numerical/PASTISmatrix_num_LO_15.fits\n"
     ]
    }
   ],
   "source": [
    "filename_matrix = 'PASTISmatrix_num_LO_' + str(max_LO)\n",
    "hcipy.write_fits(matrix_pastis, os.path.join(resDir, filename_matrix + '.fits'))\n",
    "print('Matrix saved to:', os.path.join(resDir, filename_matrix + '.fits'))"
   ]
  },
  {
   "cell_type": "code",
   "execution_count": 23,
   "id": "running-burner",
   "metadata": {},
   "outputs": [
    {
     "name": "stdout",
     "output_type": "stream",
     "text": [
      "Efield Real saved to: /Users/asahoo/Desktop/data_repos/multi_mode/2022-01-10T15-46-14_luvoir_small/matrix_numerical/EFIELD_Re_matrix_num_LO_15.fits\n"
     ]
    }
   ],
   "source": [
    "filename_matrix = 'EFIELD_Re_matrix_num_LO_' + str(max_LO)\n",
    "hcipy.write_fits(focus_fieldS_Re, os.path.join(resDir, filename_matrix + '.fits'))\n",
    "print('Efield Real saved to:', os.path.join(resDir, filename_matrix + '.fits'))"
   ]
  },
  {
   "cell_type": "code",
   "execution_count": 24,
   "id": "raised-injury",
   "metadata": {},
   "outputs": [
    {
     "name": "stdout",
     "output_type": "stream",
     "text": [
      "Efield Imag saved to: /Users/asahoo/Desktop/data_repos/multi_mode/2022-01-10T15-46-14_luvoir_small/matrix_numerical/EFIELD_Im_matrix_num_LO_15.fits\n"
     ]
    }
   ],
   "source": [
    "filename_matrix = 'EFIELD_Im_matrix_num_LO_' + str(max_LO)\n",
    "hcipy.write_fits(focus_fieldS_Im, os.path.join(resDir, filename_matrix + '.fits'))\n",
    "print('Efield Imag saved to:', os.path.join(resDir, filename_matrix + '.fits'))"
   ]
  },
  {
   "cell_type": "code",
   "execution_count": 25,
   "id": "detected-columbus",
   "metadata": {},
   "outputs": [],
   "source": [
    "end_time = time.time()"
   ]
  },
  {
   "cell_type": "code",
   "execution_count": 26,
   "id": "vanilla-prefix",
   "metadata": {},
   "outputs": [
    {
     "name": "stdout",
     "output_type": "stream",
     "text": [
      "Runtime for LO modes: 4.401622772216797 sec = 0.07336037953694662 min\n",
      "Data saved to /Users/asahoo/Desktop/data_repos/multi_mode/2022-01-10T15-46-14_luvoir_small/matrix_numerical\n"
     ]
    }
   ],
   "source": [
    "print('Runtime for LO modes:', end_time - start_time, 'sec =', (end_time - start_time) / 60, 'min')\n",
    "print('Data saved to {}'.format(resDir))"
   ]
  },
  {
   "cell_type": "markdown",
   "id": "7f2fad6c",
   "metadata": {},
   "source": [
    "## Generate MID-order PASTIS matrix from E-fields"
   ]
  },
  {
   "cell_type": "code",
   "execution_count": 27,
   "id": "intimate-things",
   "metadata": {},
   "outputs": [
    {
     "name": "stdout",
     "output_type": "stream",
     "text": [
      "Generating the Efield for MID modes in science plane\n",
      "number of MID modes: 120\n"
     ]
    }
   ],
   "source": [
    "print('Generating the Efield for MID modes in science plane')\n",
    "print(f'number of MID modes: {n_MID}')"
   ]
  },
  {
   "cell_type": "code",
   "execution_count": 28,
   "id": "internal-liberal",
   "metadata": {},
   "outputs": [],
   "source": [
    "LO_modes = np.zeros(n_LO)\n",
    "MID_modes = np.zeros(n_MID)\n",
    "HI_modes = np.zeros(n_HI)"
   ]
  },
  {
   "cell_type": "code",
   "execution_count": 29,
   "id": "adult-philosophy",
   "metadata": {},
   "outputs": [
    {
     "name": "stdout",
     "output_type": "stream",
     "text": [
      "Calibration aberration used: 1e-09 m\n"
     ]
    }
   ],
   "source": [
    "# Create lists that will hold measured fields\n",
    "print(f'Calibration aberration used: {nm_aber} m')\n",
    "start_time = time.time()\n",
    "focus_fieldS = []\n",
    "focus_fieldS_Re = []\n",
    "focus_fieldS_Im = []"
   ]
  },
  {
   "cell_type": "code",
   "execution_count": 30,
   "id": "twenty-prerequisite",
   "metadata": {
    "scrolled": true
   },
   "outputs": [
    {
     "name": "stdout",
     "output_type": "stream",
     "text": [
      "Working on mode 0/120\n",
      "Working on mode 1/120\n",
      "Working on mode 2/120\n",
      "Working on mode 3/120\n",
      "Working on mode 4/120\n",
      "Working on mode 5/120\n",
      "Working on mode 6/120\n",
      "Working on mode 7/120\n",
      "Working on mode 8/120\n",
      "Working on mode 9/120\n",
      "Working on mode 10/120\n",
      "Working on mode 11/120\n",
      "Working on mode 12/120\n",
      "Working on mode 13/120\n",
      "Working on mode 14/120\n",
      "Working on mode 15/120\n",
      "Working on mode 16/120\n",
      "Working on mode 17/120\n",
      "Working on mode 18/120\n",
      "Working on mode 19/120\n",
      "Working on mode 20/120\n",
      "Working on mode 21/120\n",
      "Working on mode 22/120\n",
      "Working on mode 23/120\n",
      "Working on mode 24/120\n",
      "Working on mode 25/120\n",
      "Working on mode 26/120\n",
      "Working on mode 27/120\n",
      "Working on mode 28/120\n",
      "Working on mode 29/120\n",
      "Working on mode 30/120\n",
      "Working on mode 31/120\n",
      "Working on mode 32/120\n",
      "Working on mode 33/120\n",
      "Working on mode 34/120\n",
      "Working on mode 35/120\n",
      "Working on mode 36/120\n",
      "Working on mode 37/120\n",
      "Working on mode 38/120\n",
      "Working on mode 39/120\n",
      "Working on mode 40/120\n",
      "Working on mode 41/120\n",
      "Working on mode 42/120\n",
      "Working on mode 43/120\n",
      "Working on mode 44/120\n",
      "Working on mode 45/120\n",
      "Working on mode 46/120\n",
      "Working on mode 47/120\n",
      "Working on mode 48/120\n",
      "Working on mode 49/120\n",
      "Working on mode 50/120\n",
      "Working on mode 51/120\n",
      "Working on mode 52/120\n",
      "Working on mode 53/120\n",
      "Working on mode 54/120\n",
      "Working on mode 55/120\n",
      "Working on mode 56/120\n",
      "Working on mode 57/120\n",
      "Working on mode 58/120\n",
      "Working on mode 59/120\n",
      "Working on mode 60/120\n",
      "Working on mode 61/120\n",
      "Working on mode 62/120\n",
      "Working on mode 63/120\n",
      "Working on mode 64/120\n",
      "Working on mode 65/120\n",
      "Working on mode 66/120\n",
      "Working on mode 67/120\n",
      "Working on mode 68/120\n",
      "Working on mode 69/120\n",
      "Working on mode 70/120\n",
      "Working on mode 71/120\n",
      "Working on mode 72/120\n",
      "Working on mode 73/120\n",
      "Working on mode 74/120\n",
      "Working on mode 75/120\n",
      "Working on mode 76/120\n",
      "Working on mode 77/120\n",
      "Working on mode 78/120\n",
      "Working on mode 79/120\n",
      "Working on mode 80/120\n",
      "Working on mode 81/120\n",
      "Working on mode 82/120\n",
      "Working on mode 83/120\n",
      "Working on mode 84/120\n",
      "Working on mode 85/120\n",
      "Working on mode 86/120\n",
      "Working on mode 87/120\n",
      "Working on mode 88/120\n",
      "Working on mode 89/120\n",
      "Working on mode 90/120\n",
      "Working on mode 91/120\n",
      "Working on mode 92/120\n",
      "Working on mode 93/120\n",
      "Working on mode 94/120\n",
      "Working on mode 95/120\n",
      "Working on mode 96/120\n",
      "Working on mode 97/120\n",
      "Working on mode 98/120\n",
      "Working on mode 99/120\n",
      "Working on mode 100/120\n",
      "Working on mode 101/120\n",
      "Working on mode 102/120\n",
      "Working on mode 103/120\n",
      "Working on mode 104/120\n",
      "Working on mode 105/120\n",
      "Working on mode 106/120\n",
      "Working on mode 107/120\n",
      "Working on mode 108/120\n",
      "Working on mode 109/120\n",
      "Working on mode 110/120\n",
      "Working on mode 111/120\n",
      "Working on mode 112/120\n",
      "Working on mode 113/120\n",
      "Working on mode 114/120\n",
      "Working on mode 115/120\n",
      "Working on mode 116/120\n",
      "Working on mode 117/120\n",
      "Working on mode 118/120\n",
      "Working on mode 119/120\n"
     ]
    }
   ],
   "source": [
    "for pp in range(0, n_MID):\n",
    "    print(f'Working on mode {pp}/{n_MID}')\n",
    "    \n",
    "    # Apply calibration aberration to used mode\n",
    "    MID_modes = np.zeros(n_MID)\n",
    "    MID_modes[pp] = nm_aber / 2\n",
    "    luvoir.sm.actuators  = MID_modes\n",
    "    \n",
    "    # Calculate coronagraphic E-field and add to lists\n",
    "    aberrated_coro_psf, inter = luvoir.calc_psf(display_intermediate=False, return_intermediate='efield')\n",
    "    focus_field1 = aberrated_coro_psf\n",
    "    focus_fieldS.append(focus_field1)\n",
    "    focus_fieldS_Re.append(focus_field1.real)\n",
    "    focus_fieldS_Im.append(focus_field1.imag)"
   ]
  },
  {
   "cell_type": "code",
   "execution_count": 31,
   "id": "double-chaos",
   "metadata": {},
   "outputs": [],
   "source": [
    "# Construct the PASTIS matrix from the E-fields\n",
    "mat_fast = np.zeros([n_MID, n_MID])\n",
    "\n",
    "for i in range(0, n_MID):\n",
    "    for j in range(0, n_MID):\n",
    "        test = np.real((focus_fieldS[i].electric_field - Efield_ref) * np.conj(focus_fieldS[j].electric_field - Efield_ref))\n",
    "        dh_test = (test / norm) * luvoir.dh_mask\n",
    "        contrast = np.mean(dh_test[np.where(luvoir.dh_mask != 0)])\n",
    "        mat_fast[i, j] = contrast"
   ]
  },
  {
   "cell_type": "code",
   "execution_count": 32,
   "id": "developing-motel",
   "metadata": {},
   "outputs": [],
   "source": [
    "# Normalize by the calibration aberration\n",
    "matrix_pastis = np.copy(mat_fast)\n",
    "matrix_pastis /= np.square(nm_aber * 1e9)  "
   ]
  },
  {
   "cell_type": "code",
   "execution_count": 33,
   "id": "outer-constant",
   "metadata": {},
   "outputs": [
    {
     "name": "stdout",
     "output_type": "stream",
     "text": [
      "Matrix saved to: /Users/asahoo/Desktop/data_repos/multi_mode/2022-01-10T15-46-14_luvoir_small/matrix_numerical/PASTISmatrix_num_MID_1.fits\n"
     ]
    }
   ],
   "source": [
    "filename_matrix = 'PASTISmatrix_num_MID_' + str(max_MID)\n",
    "hcipy.write_fits(matrix_pastis, os.path.join(resDir, filename_matrix + '.fits'))\n",
    "print('Matrix saved to:', os.path.join(resDir, filename_matrix + '.fits'))"
   ]
  },
  {
   "cell_type": "code",
   "execution_count": 34,
   "id": "refined-swaziland",
   "metadata": {},
   "outputs": [
    {
     "name": "stdout",
     "output_type": "stream",
     "text": [
      "Efield Real saved to: /Users/asahoo/Desktop/data_repos/multi_mode/2022-01-10T15-46-14_luvoir_small/matrix_numerical/EFIELD_Re_matrix_num_MID_1.fits\n"
     ]
    }
   ],
   "source": [
    "filename_matrix = 'EFIELD_Re_matrix_num_MID_' + str(max_MID)\n",
    "hcipy.write_fits(focus_fieldS_Re, os.path.join(resDir, filename_matrix + '.fits'))\n",
    "print('Efield Real saved to:', os.path.join(resDir, filename_matrix + '.fits'))"
   ]
  },
  {
   "cell_type": "code",
   "execution_count": 35,
   "id": "actual-david",
   "metadata": {},
   "outputs": [
    {
     "name": "stdout",
     "output_type": "stream",
     "text": [
      "Efield Imag saved to: /Users/asahoo/Desktop/data_repos/multi_mode/2022-01-10T15-46-14_luvoir_small/matrix_numerical/EFIELD_Im_matrix_num_MID_1.fits\n"
     ]
    }
   ],
   "source": [
    "filename_matrix = 'EFIELD_Im_matrix_num_MID_' + str(max_MID)\n",
    "hcipy.write_fits(focus_fieldS_Im, os.path.join(resDir, filename_matrix + '.fits'))\n",
    "print('Efield Imag saved to:', os.path.join(resDir, filename_matrix + '.fits'))"
   ]
  },
  {
   "cell_type": "code",
   "execution_count": 36,
   "id": "flying-deposit",
   "metadata": {},
   "outputs": [
    {
     "name": "stdout",
     "output_type": "stream",
     "text": [
      "Runtime for MID modes: 40.70173215866089 sec = 0.6783622026443481 min\n",
      "Data saved to /Users/asahoo/Desktop/data_repos/multi_mode/2022-01-10T15-46-14_luvoir_small/matrix_numerical\n"
     ]
    }
   ],
   "source": [
    "end_time = time.time()\n",
    "print('Runtime for MID modes:', end_time - start_time, 'sec =', (end_time - start_time) / 60, 'min')\n",
    "print('Data saved to {}'.format(resDir))"
   ]
  },
  {
   "cell_type": "markdown",
   "id": "874b27c9",
   "metadata": {},
   "source": [
    "## Generate MID-order PASTIS matrix from E-fields"
   ]
  },
  {
   "cell_type": "code",
   "execution_count": 37,
   "id": "actual-shipping",
   "metadata": {},
   "outputs": [
    {
     "name": "stdout",
     "output_type": "stream",
     "text": [
      "Generating the Efield for HI modes in science plane\n",
      "number of HI modes: 16\n"
     ]
    }
   ],
   "source": [
    "print('Generating the Efield for HI modes in science plane')\n",
    "print(f'number of HI modes: {n_HI}')"
   ]
  },
  {
   "cell_type": "code",
   "execution_count": 38,
   "id": "egyptian-empire",
   "metadata": {},
   "outputs": [],
   "source": [
    "LO_modes = np.zeros(n_LO)\n",
    "MID_modes = np.zeros(n_MID)\n",
    "HI_modes = np.zeros(n_HI)"
   ]
  },
  {
   "cell_type": "code",
   "execution_count": 39,
   "id": "meaningful-controversy",
   "metadata": {},
   "outputs": [
    {
     "name": "stdout",
     "output_type": "stream",
     "text": [
      "Calibration aberration used: 1e-09 m\n"
     ]
    }
   ],
   "source": [
    "# Create lists that will hold measured fields\n",
    "print(f'Calibration aberration used: {nm_aber} m')\n",
    "start_time = time.time()\n",
    "focus_fieldS = []\n",
    "focus_fieldS_Re = []\n",
    "focus_fieldS_Im = []"
   ]
  },
  {
   "cell_type": "code",
   "execution_count": 40,
   "id": "corrected-convert",
   "metadata": {},
   "outputs": [
    {
     "name": "stdout",
     "output_type": "stream",
     "text": [
      "Working on mode 0/16\n",
      "Working on mode 1/16\n",
      "Working on mode 2/16\n",
      "Working on mode 3/16\n",
      "Working on mode 4/16\n",
      "Working on mode 5/16\n",
      "Working on mode 6/16\n",
      "Working on mode 7/16\n",
      "Working on mode 8/16\n",
      "Working on mode 9/16\n",
      "Working on mode 10/16\n",
      "Working on mode 11/16\n",
      "Working on mode 12/16\n",
      "Working on mode 13/16\n",
      "Working on mode 14/16\n",
      "Working on mode 15/16\n"
     ]
    }
   ],
   "source": [
    "for pp in range(0, n_HI):\n",
    "    print(f'Working on mode {pp}/{n_HI}')\n",
    "    \n",
    "    # Apply calibration aberration to used mode\n",
    "    HI_modes = np.zeros(n_HI)\n",
    "    HI_modes[pp] = nm_aber / 2\n",
    "    luvoir.ripple_mirror.actuators = HI_modes\n",
    "    \n",
    "    # Calculate coronagraphic E-field and add to lists\n",
    "    aberrated_coro_psf, inter = luvoir.calc_psf(display_intermediate=False, return_intermediate='efield')\n",
    "    focus_field1 = aberrated_coro_psf\n",
    "    focus_fieldS.append(focus_field1)\n",
    "    focus_fieldS_Re.append(focus_field1.real)\n",
    "    focus_fieldS_Im.append(focus_field1.imag)"
   ]
  },
  {
   "cell_type": "code",
   "execution_count": 41,
   "id": "discrete-consultancy",
   "metadata": {},
   "outputs": [],
   "source": [
    "# Construct the PASTIS matrix from the E-fieldsmat_fast = np.zeros([n_HI, n_HI])\n",
    "for i in range(0, n_HI):\n",
    "    for j in range(0, n_HI):\n",
    "        test = np.real((focus_fieldS[i].electric_field - Efield_ref) * np.conj(focus_fieldS[j].electric_field - Efield_ref))\n",
    "        dh_test = (test / norm) * luvoir.dh_mask\n",
    "        contrast = np.mean(dh_test[np.where(luvoir.dh_mask != 0)])\n",
    "        mat_fast[i, j] = contrast"
   ]
  },
  {
   "cell_type": "code",
   "execution_count": 42,
   "id": "welsh-sense",
   "metadata": {},
   "outputs": [],
   "source": [
    "# Normalize by the calibration aberration\n",
    "matrix_pastis = np.copy(mat_fast) \n",
    "matrix_pastis /= np.square(nm_aber * 1e9)"
   ]
  },
  {
   "cell_type": "code",
   "execution_count": 43,
   "id": "encouraging-perspective",
   "metadata": {},
   "outputs": [
    {
     "name": "stdout",
     "output_type": "stream",
     "text": [
      "Matrix saved to: /Users/asahoo/Desktop/data_repos/multi_mode/2022-01-10T15-46-14_luvoir_small/matrix_numerical/PASTISmatrix_num_HI_4.fits\n"
     ]
    }
   ],
   "source": [
    "filename_matrix = 'PASTISmatrix_num_HI_' + str(max_HI)\n",
    "hcipy.write_fits(matrix_pastis, os.path.join(resDir, filename_matrix + '.fits'))\n",
    "print('Matrix saved to:', os.path.join(resDir, filename_matrix + '.fits'))"
   ]
  },
  {
   "cell_type": "code",
   "execution_count": 44,
   "id": "nearby-cliff",
   "metadata": {},
   "outputs": [
    {
     "name": "stdout",
     "output_type": "stream",
     "text": [
      "Efield Real saved to: /Users/asahoo/Desktop/data_repos/multi_mode/2022-01-10T15-46-14_luvoir_small/matrix_numerical/EFIELD_Re_matrix_num_HI_4.fits\n"
     ]
    }
   ],
   "source": [
    "filename_matrix = 'EFIELD_Re_matrix_num_HI_' + str(max_HI)\n",
    "hcipy.write_fits(focus_fieldS_Re, os.path.join(resDir, filename_matrix + '.fits'))\n",
    "print('Efield Real saved to:', os.path.join(resDir, filename_matrix + '.fits'))"
   ]
  },
  {
   "cell_type": "code",
   "execution_count": 45,
   "id": "worldwide-bedroom",
   "metadata": {},
   "outputs": [
    {
     "name": "stdout",
     "output_type": "stream",
     "text": [
      "Efield Imag saved to: /Users/asahoo/Desktop/data_repos/multi_mode/2022-01-10T15-46-14_luvoir_small/matrix_numerical/EFIELD_Im_matrix_num_HI_4.fits\n"
     ]
    }
   ],
   "source": [
    "filename_matrix = 'EFIELD_Im_matrix_num_HI_' + str(max_HI)\n",
    "hcipy.write_fits(focus_fieldS_Im, os.path.join(resDir, filename_matrix + '.fits'))\n",
    "print('Efield Imag saved to:', os.path.join(resDir, filename_matrix + '.fits'))"
   ]
  },
  {
   "cell_type": "code",
   "execution_count": 46,
   "id": "considerable-finnish",
   "metadata": {},
   "outputs": [
    {
     "name": "stdout",
     "output_type": "stream",
     "text": [
      "Runtime for HI modes: 4.831820964813232 sec = 0.08053034941355387 min\n",
      "Data saved to /Users/asahoo/Desktop/data_repos/multi_mode/2022-01-10T15-46-14_luvoir_small/matrix_numerical\n"
     ]
    }
   ],
   "source": [
    "end_time = time.time()\n",
    "print('Runtime for HI modes:', end_time - start_time, 'sec =', (end_time - start_time) / 60, 'min')\n",
    "print('Data saved to {}'.format(resDir))"
   ]
  },
  {
   "cell_type": "markdown",
   "id": "c27d20a1",
   "metadata": {},
   "source": [
    "## Generate LOW-order matrix on LOWFS"
   ]
  },
  {
   "cell_type": "code",
   "execution_count": 47,
   "id": "accurate-guinea",
   "metadata": {},
   "outputs": [
    {
     "name": "stdout",
     "output_type": "stream",
     "text": [
      "Generating the Efield for LOW modes through LOWFS\n",
      "number of LO modes\n"
     ]
    }
   ],
   "source": [
    "print('Generating the Efield for LOW modes through LOWFS')\n",
    "print('number of LO modes'.format(n_LO))"
   ]
  },
  {
   "cell_type": "markdown",
   "id": "a90dc315",
   "metadata": {},
   "source": [
    "Flatten DMs"
   ]
  },
  {
   "cell_type": "code",
   "execution_count": 48,
   "id": "future-karen",
   "metadata": {},
   "outputs": [],
   "source": [
    "LO_modes = np.zeros(n_LO)\n",
    "MID_modes = np.zeros(n_MID)\n",
    "HI_modes = np.zeros(n_HI)"
   ]
  },
  {
   "cell_type": "code",
   "execution_count": 49,
   "id": "lesser-interview",
   "metadata": {},
   "outputs": [],
   "source": [
    "luvoir.zernike_mirror.actuators = LO_modes \n",
    "luvoir.sm.actuators = MID_modes\n",
    "luvoir.ripple_mirror.actuators = HI_modes "
   ]
  },
  {
   "cell_type": "code",
   "execution_count": 50,
   "id": "identical-twist",
   "metadata": {},
   "outputs": [],
   "source": [
    "zernike_ref = luvoir.calc_low_order_wfs()"
   ]
  },
  {
   "cell_type": "markdown",
   "id": "d669ef9e",
   "metadata": {},
   "source": [
    "Calculate unaberrated reference E-field on Zernike WFS on a subsampled grid."
   ]
  },
  {
   "cell_type": "code",
   "execution_count": 51,
   "id": "dutch-madness",
   "metadata": {},
   "outputs": [],
   "source": [
    "zernike_ref_sub_real = hcipy.field.subsample_field(zernike_ref.real, z_pup_downsample, grid_zernike, statistic='mean')\n",
    "zernike_ref_sub_imag = hcipy.field.subsample_field(zernike_ref.imag, z_pup_downsample, grid_zernike, statistic='mean')\n",
    "Efield_ref = zernike_ref_sub_real + 1j*zernike_ref_sub_imag"
   ]
  },
  {
   "cell_type": "code",
   "execution_count": 52,
   "id": "disciplinary-length",
   "metadata": {},
   "outputs": [
    {
     "name": "stdout",
     "output_type": "stream",
     "text": [
      "Calibration aberration used: 1e-09 m\n"
     ]
    }
   ],
   "source": [
    "# Create lists that will hold measured fields\n",
    "print(f'Calibration aberration used: {nm_aber} m')\n",
    "start_time = time.time()\n",
    "focus_fieldS = []\n",
    "focus_fieldS_Re = []\n",
    "focus_fieldS_Im = []"
   ]
  },
  {
   "cell_type": "code",
   "execution_count": 53,
   "id": "passive-compensation",
   "metadata": {},
   "outputs": [
    {
     "name": "stdout",
     "output_type": "stream",
     "text": [
      "Working on mode 0/15\n",
      "Working on mode 1/15\n",
      "Working on mode 2/15\n",
      "Working on mode 3/15\n",
      "Working on mode 4/15\n",
      "Working on mode 5/15\n",
      "Working on mode 6/15\n",
      "Working on mode 7/15\n",
      "Working on mode 8/15\n",
      "Working on mode 9/15\n",
      "Working on mode 10/15\n",
      "Working on mode 11/15\n",
      "Working on mode 12/15\n",
      "Working on mode 13/15\n",
      "Working on mode 14/15\n"
     ]
    }
   ],
   "source": [
    "for pp in range(0, n_LO):\n",
    "    print(f'Working on mode {pp}/{n_LO}')\n",
    "    \n",
    "    # Apply calibration aberration to used mode\n",
    "    LO_modes = np.zeros(n_LO)\n",
    "    LO_modes[pp] = nm_aber / 2\n",
    "    luvoir.zernike_mirror.actuators = LO_modes\n",
    "    \n",
    "    # Calculate E-field on Zernike WFS and add to lists\n",
    "    zernike_meas = luvoir.calc_low_order_wfs()\n",
    "    zernike_meas_sub_real = hcipy.field.subsample_field(zernike_meas.real, z_pup_downsample, grid_zernike,statistic='mean')\n",
    "    zernike_meas_sub_imag = hcipy.field.subsample_field(zernike_meas.imag, z_pup_downsample, grid_zernike,statistic='mean')\n",
    "    focus_field1 = zernike_meas_sub_real + 1j * zernike_meas_sub_imag\n",
    "    focus_fieldS.append(focus_field1)\n",
    "    focus_fieldS_Re.append(focus_field1.real)\n",
    "    focus_fieldS_Im.append(focus_field1.imag)"
   ]
  },
  {
   "cell_type": "code",
   "execution_count": 54,
   "id": "dense-jamaica",
   "metadata": {},
   "outputs": [
    {
     "name": "stdout",
     "output_type": "stream",
     "text": [
      "Efield Real saved to: /Users/asahoo/Desktop/data_repos/multi_mode/2022-01-10T15-46-14_luvoir_small/matrix_numerical/EFIELD_LOWFS_Re_matrix_num_LO_15.fits\n"
     ]
    }
   ],
   "source": [
    "filename_matrix = 'EFIELD_LOWFS_Re_matrix_num_LO_' + str(max_LO)\n",
    "hcipy.write_fits(focus_fieldS_Re, os.path.join(resDir, filename_matrix + '.fits'))\n",
    "print('Efield Real saved to:', os.path.join(resDir, filename_matrix + '.fits'))"
   ]
  },
  {
   "cell_type": "code",
   "execution_count": 55,
   "id": "maritime-onion",
   "metadata": {},
   "outputs": [
    {
     "name": "stdout",
     "output_type": "stream",
     "text": [
      "Efield Imag saved to: /Users/asahoo/Desktop/data_repos/multi_mode/2022-01-10T15-46-14_luvoir_small/matrix_numerical/EFIELD_LOWFS_Im_matrix_num_LO_15.fits\n"
     ]
    }
   ],
   "source": [
    "filename_matrix = 'EFIELD_LOWFS_Im_matrix_num_LO_' + str(max_LO)\n",
    "hcipy.write_fits(focus_fieldS_Im, os.path.join(resDir, filename_matrix + '.fits'))\n",
    "print('Efield Imag saved to:', os.path.join(resDir, filename_matrix + '.fits'))"
   ]
  },
  {
   "cell_type": "code",
   "execution_count": 56,
   "id": "equivalent-blast",
   "metadata": {},
   "outputs": [
    {
     "name": "stdout",
     "output_type": "stream",
     "text": [
      "Runtime for LO modes and LOWFS: 4.106564998626709 sec = 0.06844274997711182 min\n",
      "Data saved to /Users/asahoo/Desktop/data_repos/multi_mode/2022-01-10T15-46-14_luvoir_small/matrix_numerical\n"
     ]
    }
   ],
   "source": [
    "end_time = time.time()\n",
    "print('Runtime for LO modes and LOWFS:', end_time - start_time, 'sec =', (end_time - start_time) / 60, 'min')\n",
    "print('Data saved to {}'.format(resDir))"
   ]
  },
  {
   "cell_type": "markdown",
   "id": "d4aa0175",
   "metadata": {},
   "source": [
    "## Generate MID-order matrix on OBWFS"
   ]
  },
  {
   "cell_type": "code",
   "execution_count": 57,
   "id": "superior-wesley",
   "metadata": {},
   "outputs": [
    {
     "name": "stdout",
     "output_type": "stream",
     "text": [
      "Generating the Efield for MID modes to OBWFS\n",
      "number of MID modes\n"
     ]
    }
   ],
   "source": [
    "print('Generating the Efield for MID modes to OBWFS')\n",
    "print('number of MID modes'.format(n_MID))"
   ]
  },
  {
   "cell_type": "code",
   "execution_count": 58,
   "id": "recognized-chrome",
   "metadata": {},
   "outputs": [],
   "source": [
    "# Flatten DMs\n",
    "LO_modes = np.zeros(n_LO)\n",
    "MID_modes = np.zeros(n_MID)\n",
    "HI_modes = np.zeros(n_HI)\n",
    "\n",
    "luvoir.zernike_mirror.actuators = LO_modes\n",
    "luvoir.sm.actuators = MID_modes\n",
    "luvoir.ripple_mirror.actuators = HI_modes"
   ]
  },
  {
   "cell_type": "code",
   "execution_count": 59,
   "id": "devoted-boutique",
   "metadata": {},
   "outputs": [],
   "source": [
    "# Calculate unaberrated reference E-field on Zernike WFS on a subsampled grid.\n",
    "zernike_ref = luvoir.calc_out_of_band_wfs()\n",
    "zernike_ref_sub_real = hcipy.field.subsample_field(zernike_ref.real, z_pup_downsample, grid_zernike, statistic='mean')\n",
    "zernike_ref_sub_imag = hcipy.field.subsample_field(zernike_ref.imag, z_pup_downsample, grid_zernike, statistic='mean')\n",
    "Efield_ref = zernike_ref_sub_real + 1j*zernike_ref_sub_imag"
   ]
  },
  {
   "cell_type": "code",
   "execution_count": 60,
   "id": "applied-supplier",
   "metadata": {},
   "outputs": [
    {
     "name": "stdout",
     "output_type": "stream",
     "text": [
      "Calibration aberration used: 1e-09 m\n"
     ]
    }
   ],
   "source": [
    "# Create lists that will hold measured fields\n",
    "print(f'Calibration aberration used: {nm_aber} m')\n",
    "start_time = time.time()\n",
    "focus_fieldS = []\n",
    "focus_fieldS_Re = []\n",
    "focus_fieldS_Im = []"
   ]
  },
  {
   "cell_type": "code",
   "execution_count": 61,
   "id": "peaceful-enemy",
   "metadata": {
    "scrolled": true
   },
   "outputs": [
    {
     "name": "stdout",
     "output_type": "stream",
     "text": [
      "Working on mode 0/120\n",
      "Working on mode 1/120\n",
      "Working on mode 2/120\n",
      "Working on mode 3/120\n",
      "Working on mode 4/120\n",
      "Working on mode 5/120\n",
      "Working on mode 6/120\n",
      "Working on mode 7/120\n",
      "Working on mode 8/120\n",
      "Working on mode 9/120\n",
      "Working on mode 10/120\n",
      "Working on mode 11/120\n",
      "Working on mode 12/120\n",
      "Working on mode 13/120\n",
      "Working on mode 14/120\n",
      "Working on mode 15/120\n",
      "Working on mode 16/120\n",
      "Working on mode 17/120\n",
      "Working on mode 18/120\n",
      "Working on mode 19/120\n",
      "Working on mode 20/120\n",
      "Working on mode 21/120\n",
      "Working on mode 22/120\n",
      "Working on mode 23/120\n",
      "Working on mode 24/120\n",
      "Working on mode 25/120\n",
      "Working on mode 26/120\n",
      "Working on mode 27/120\n",
      "Working on mode 28/120\n",
      "Working on mode 29/120\n",
      "Working on mode 30/120\n",
      "Working on mode 31/120\n",
      "Working on mode 32/120\n",
      "Working on mode 33/120\n",
      "Working on mode 34/120\n",
      "Working on mode 35/120\n",
      "Working on mode 36/120\n",
      "Working on mode 37/120\n",
      "Working on mode 38/120\n",
      "Working on mode 39/120\n",
      "Working on mode 40/120\n",
      "Working on mode 41/120\n",
      "Working on mode 42/120\n",
      "Working on mode 43/120\n",
      "Working on mode 44/120\n",
      "Working on mode 45/120\n",
      "Working on mode 46/120\n",
      "Working on mode 47/120\n",
      "Working on mode 48/120\n",
      "Working on mode 49/120\n",
      "Working on mode 50/120\n",
      "Working on mode 51/120\n",
      "Working on mode 52/120\n",
      "Working on mode 53/120\n",
      "Working on mode 54/120\n",
      "Working on mode 55/120\n",
      "Working on mode 56/120\n",
      "Working on mode 57/120\n",
      "Working on mode 58/120\n",
      "Working on mode 59/120\n",
      "Working on mode 60/120\n",
      "Working on mode 61/120\n",
      "Working on mode 62/120\n",
      "Working on mode 63/120\n",
      "Working on mode 64/120\n",
      "Working on mode 65/120\n",
      "Working on mode 66/120\n",
      "Working on mode 67/120\n",
      "Working on mode 68/120\n",
      "Working on mode 69/120\n",
      "Working on mode 70/120\n",
      "Working on mode 71/120\n",
      "Working on mode 72/120\n",
      "Working on mode 73/120\n",
      "Working on mode 74/120\n",
      "Working on mode 75/120\n",
      "Working on mode 76/120\n",
      "Working on mode 77/120\n",
      "Working on mode 78/120\n",
      "Working on mode 79/120\n",
      "Working on mode 80/120\n",
      "Working on mode 81/120\n",
      "Working on mode 82/120\n",
      "Working on mode 83/120\n",
      "Working on mode 84/120\n",
      "Working on mode 85/120\n",
      "Working on mode 86/120\n",
      "Working on mode 87/120\n",
      "Working on mode 88/120\n",
      "Working on mode 89/120\n",
      "Working on mode 90/120\n",
      "Working on mode 91/120\n",
      "Working on mode 92/120\n",
      "Working on mode 93/120\n",
      "Working on mode 94/120\n",
      "Working on mode 95/120\n",
      "Working on mode 96/120\n",
      "Working on mode 97/120\n",
      "Working on mode 98/120\n",
      "Working on mode 99/120\n",
      "Working on mode 100/120\n",
      "Working on mode 101/120\n",
      "Working on mode 102/120\n",
      "Working on mode 103/120\n",
      "Working on mode 104/120\n",
      "Working on mode 105/120\n",
      "Working on mode 106/120\n",
      "Working on mode 107/120\n",
      "Working on mode 108/120\n",
      "Working on mode 109/120\n",
      "Working on mode 110/120\n",
      "Working on mode 111/120\n",
      "Working on mode 112/120\n",
      "Working on mode 113/120\n",
      "Working on mode 114/120\n",
      "Working on mode 115/120\n",
      "Working on mode 116/120\n",
      "Working on mode 117/120\n",
      "Working on mode 118/120\n",
      "Working on mode 119/120\n"
     ]
    }
   ],
   "source": [
    "for pp in range(0, n_MID):\n",
    "    print(f'Working on mode {pp}/{n_MID}')\n",
    "    \n",
    "    # Apply calibration aberration to used mode\n",
    "    MID_modes = np.zeros(n_MID)\n",
    "    MID_modes[pp] = nm_aber / 2\n",
    "    luvoir.sm.actuators = MID_modes\n",
    "    \n",
    "    # Calculate E-field on OBWFS and add to lists\n",
    "    zernike_meas = luvoir.calc_out_of_band_wfs()\n",
    "    zernike_meas_sub_real = hcipy.field.subsample_field(zernike_meas.real, z_pup_downsample, grid_zernike, statistic='mean')\n",
    "    zernike_meas_sub_imag = hcipy.field.subsample_field(zernike_meas.imag, z_pup_downsample, grid_zernike, statistic='mean')\n",
    "    focus_field1 = zernike_meas_sub_real + 1j * zernike_meas_sub_imag\n",
    "    focus_fieldS.append(focus_field1)\n",
    "    focus_fieldS_Re.append(focus_field1.real)\n",
    "    focus_fieldS_Im.append(focus_field1.imag)"
   ]
  },
  {
   "cell_type": "code",
   "execution_count": 62,
   "id": "neural-french",
   "metadata": {},
   "outputs": [
    {
     "name": "stdout",
     "output_type": "stream",
     "text": [
      "Efield Real saved to: /Users/asahoo/Desktop/data_repos/multi_mode/2022-01-10T15-46-14_luvoir_small/matrix_numerical/EFIELD_OBWFS_Re_matrix_num_MID_1.fits\n"
     ]
    }
   ],
   "source": [
    "filename_matrix = 'EFIELD_OBWFS_Re_matrix_num_MID_' + str(max_MID)\n",
    "hcipy.write_fits(focus_fieldS_Re, os.path.join(resDir, filename_matrix + '.fits'))\n",
    "print('Efield Real saved to:', os.path.join(resDir, filename_matrix + '.fits'))"
   ]
  },
  {
   "cell_type": "code",
   "execution_count": 63,
   "id": "protected-cleanup",
   "metadata": {},
   "outputs": [
    {
     "name": "stdout",
     "output_type": "stream",
     "text": [
      "Efield Imag saved to: /Users/asahoo/Desktop/data_repos/multi_mode/2022-01-10T15-46-14_luvoir_small/matrix_numerical/EFIELD_OBWFS_Im_matrix_num_MID_1.fits\n"
     ]
    }
   ],
   "source": [
    "filename_matrix = 'EFIELD_OBWFS_Im_matrix_num_MID_' + str(max_MID)\n",
    "hcipy.write_fits(focus_fieldS_Im, os.path.join(resDir, filename_matrix + '.fits'))\n",
    "print('Efield Imag saved to:', os.path.join(resDir, filename_matrix + '.fits'))"
   ]
  },
  {
   "cell_type": "code",
   "execution_count": 64,
   "id": "equipped-tanzania",
   "metadata": {},
   "outputs": [
    {
     "name": "stdout",
     "output_type": "stream",
     "text": [
      "Runtime for MID modes and OBWFS: 31.805800914764404 sec = 0.5300966819127401 min\n",
      "Data saved to /Users/asahoo/Desktop/data_repos/multi_mode/2022-01-10T15-46-14_luvoir_small/matrix_numerical\n"
     ]
    }
   ],
   "source": [
    "end_time = time.time()\n",
    "print('Runtime for MID modes and OBWFS:', end_time - start_time, 'sec =', (end_time - start_time) / 60, 'min')\n",
    "print('Data saved to {}'.format(resDir))"
   ]
  },
  {
   "cell_type": "code",
   "execution_count": null,
   "id": "spectacular-helicopter",
   "metadata": {},
   "outputs": [],
   "source": []
  }
 ],
 "metadata": {
  "kernelspec": {
   "display_name": "Python 3 (ipykernel)",
   "language": "python",
   "name": "python3"
  },
  "language_info": {
   "codemirror_mode": {
    "name": "ipython",
    "version": 3
   },
   "file_extension": ".py",
   "mimetype": "text/x-python",
   "name": "python",
   "nbconvert_exporter": "python",
   "pygments_lexer": "ipython3",
   "version": "3.7.11"
  }
 },
 "nbformat": 4,
 "nbformat_minor": 5
}
