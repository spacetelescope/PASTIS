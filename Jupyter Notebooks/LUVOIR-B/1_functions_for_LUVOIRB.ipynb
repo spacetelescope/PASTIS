{
 "cells": [
  {
   "cell_type": "markdown",
   "metadata": {},
   "source": [
    "# Starting to set up LUVOIR B simulator"
   ]
  },
  {
   "cell_type": "code",
   "execution_count": null,
   "metadata": {},
   "outputs": [],
   "source": [
    "import os\n",
    "\n",
    "from astropy.io import fits\n",
    "import hcipy\n",
    "import matplotlib as mpl\n",
    "import matplotlib.pyplot as plt\n",
    "import numpy as np\n",
    "from scipy.ndimage import label\n",
    "\n",
    "from pastis.config import CONFIG_PASTIS\n",
    "import pastis.util"
   ]
  },
  {
   "cell_type": "markdown",
   "metadata": {},
   "source": [
    "## Loading data "
   ]
  },
  {
   "cell_type": "code",
   "execution_count": null,
   "metadata": {},
   "outputs": [],
   "source": [
    "datadir = os.path.join(pastis.util.find_repo_location(), CONFIG_PASTIS.get('LUVOIR-B', 'optics_path_in_repo'))\n",
    "\n",
    "aperture_data = fits.getdata(os.path.join(datadir, 'Pupil1.fits'))\n",
    "apod_stop_data = fits.getdata(os.path.join(datadir, 'APOD.fits'))\n",
    "dm2_stop_data = fits.getdata(os.path.join(datadir, 'DM2stop.fits'))\n",
    "lyot_stop_data = fits.getdata(os.path.join(datadir, 'LS.fits'))\n",
    "dm1_data = fits.getdata(os.path.join(datadir, 'surfDM1.fits'))\n",
    "dm2_data = fits.getdata(os.path.join(datadir, 'surfDM2.fits'))\n",
    "\n",
    "print(f'aperture_data.shape: {aperture_data.shape}')\n",
    "print(f'apod_stop_data.shape: {apod_stop_data.shape}')\n",
    "print(f'dm2_stop_data.shape: {dm2_stop_data.shape}')\n",
    "print(f'lyot_stop_data.shape: {lyot_stop_data.shape}')\n",
    "print(f'dm1_data.shape: {dm1_data.shape}')\n",
    "print(f'dm2_data.shape: {dm2_data.shape}')"
   ]
  },
  {
   "cell_type": "code",
   "execution_count": null,
   "metadata": {},
   "outputs": [],
   "source": [
    "plt.figure(figsize=(18, 12))\n",
    "plt.subplot(2, 3, 1)\n",
    "plt.imshow(aperture_data)\n",
    "plt.title('Primary aperture')\n",
    "plt.subplot(2, 3, 2)\n",
    "plt.imshow(apod_stop_data)\n",
    "plt.title('Apodizer stop')\n",
    "plt.subplot(2, 3, 3)\n",
    "plt.imshow(dm2_stop_data)\n",
    "plt.title('DM2 stop')\n",
    "plt.subplot(2, 3, 4)\n",
    "plt.imshow(lyot_stop_data)\n",
    "plt.title('Lyot stop')\n",
    "plt.subplot(2, 3, 5)\n",
    "plt.imshow(dm1_data)\n",
    "plt.title('DM1')\n",
    "plt.subplot(2, 3, 6)\n",
    "plt.imshow(dm2_data)\n",
    "plt.title('DM2')"
   ]
  },
  {
   "cell_type": "markdown",
   "metadata": {},
   "source": [
    "## Parameters"
   ]
  },
  {
   "cell_type": "code",
   "execution_count": null,
   "metadata": {},
   "outputs": [],
   "source": [
    "nPup = CONFIG_PASTIS.getfloat('LUVOIR-B', 'pupil_pixels')\n",
    "D_pup = CONFIG_PASTIS.getfloat('LUVOIR-B', 'D_pup')\n",
    "samp_foc = CONFIG_PASTIS.getfloat('LUVOIR-B', 'sampling')\n",
    "rad_foc = CONFIG_PASTIS.getfloat('LUVOIR-B', 'imlamD')\n",
    "wavelength = CONFIG_PASTIS.getfloat('LUVOIR-B', 'lambda') * 1e-9  # m\n",
    "\n",
    "print(f'nPup: {nPup}')\n",
    "print(f'D_pup: {D_pup}')\n",
    "print(f'samp_foc: {samp_foc}')\n",
    "print(f'rad_foc: {rad_foc}')\n",
    "print(f'rad_foc: {rad_foc}')\n",
    "print(f'wavelength: {wavelength}')\n",
    "\n",
    "nPup_arrays = apod_stop_data.shape[0]\n",
    "nPup_dms = dm1_data.shape[0]\n",
    "nPup_dm_stop = dm2_stop_data.shape[0]\n",
    "zDM = (D_pup/2)**2 / (wavelength * 549.1429)\n",
    "\n",
    "print(f'nPup_arrays: {nPup_arrays}')\n",
    "print(f'nPup_dms: {nPup_dms}')\n",
    "print(f'zDM: {zDM}')"
   ]
  },
  {
   "cell_type": "markdown",
   "metadata": {},
   "source": [
    "## Dealing with stupidity of arrays being padded\n",
    "\n",
    "The two DMs have the largest arrays so we pad all other pupil plane optics to match that."
   ]
  },
  {
   "cell_type": "code",
   "execution_count": null,
   "metadata": {},
   "outputs": [],
   "source": [
    "# Pad apodizer to DM array size\n",
    "apod_stop_data_pad = np.pad(apod_stop_data, int((nPup_dms - nPup_arrays) / 2), mode='constant')\n",
    "# Pad DM2 stop to DM array size\n",
    "DM2Stop_data_pad = np.pad(dm2_stop_data, int((nPup_dms - nPup_dm_stop)/2), mode='constant')\n",
    "# Pad LS to DM array size\n",
    "lyot_stop_data_pad = np.pad(lyot_stop_data, int((nPup_dms - nPup_arrays)/2), mode='constant')\n",
    "# Pad primary aperture to DM array size\n",
    "aperture_data_pad = np.pad(aperture_data, int((nPup_dms - nPup_arrays)/2), mode='constant')\n",
    "\n",
    "# Create pupil grids\n",
    "#pupil_grid_real = hcipy.make_pupil_grid(nPup, D_pup)\n",
    "# Create pupil grid with everything scaled to apodizer and LS array\n",
    "pupil_grid_arrays = hcipy.make_pupil_grid(nPup * (nPup_arrays/nPup), D_pup*(nPup_arrays/nPup))   # 1024 px, 0.049152 m\n",
    "# Create pupil grid with everything scaled to DM array\n",
    "pupil_grid_dms = hcipy.make_pupil_grid(nPup * (nPup_dms/nPup), D_pup*(nPup_dms/nPup))    # 1168 px, 0.05606 m\n",
    "\n",
    "# Create all optical components on DM pupil grids\n",
    "apod_stop = hcipy.Field(np.reshape(apod_stop_data_pad, nPup_dms**2), pupil_grid_dms)\n",
    "DM2_circle = hcipy.Field(np.reshape(DM2Stop_data_pad, nPup_dms**2), pupil_grid_dms)\n",
    "lyot_mask = hcipy.Field(np.reshape(lyot_stop_data_pad, nPup_dms**2), pupil_grid_dms)\n",
    "aperture = hcipy.Field(np.reshape(aperture_data_pad, nPup_dms**2), pupil_grid_dms)\n",
    "DM1 = hcipy.Field(np.reshape(dm1_data, nPup_dms**2), pupil_grid_dms)\n",
    "DM2 = hcipy.Field(np.reshape(dm2_data, nPup_dms**2), pupil_grid_dms)"
   ]
  },
  {
   "cell_type": "code",
   "execution_count": null,
   "metadata": {},
   "outputs": [],
   "source": [
    "D_pup*(nPup_dms/nPup)"
   ]
  },
  {
   "cell_type": "code",
   "execution_count": null,
   "metadata": {},
   "outputs": [],
   "source": [
    "plt.figure(figsize=(18, 12))\n",
    "plt.subplot(2, 3, 1)\n",
    "hcipy.imshow_field(apod_stop)\n",
    "plt.title('Apodizer stop')\n",
    "plt.subplot(2, 3, 2)\n",
    "hcipy.imshow_field(DM2_circle)\n",
    "plt.title('DM2_circle')\n",
    "plt.subplot(2, 3, 3)\n",
    "hcipy.imshow_field(aperture)\n",
    "plt.title('aperture')\n",
    "plt.subplot(2, 3, 4)\n",
    "hcipy.imshow_field(lyot_mask)\n",
    "plt.title('Lyot stop')\n",
    "plt.subplot(2, 3, 5)\n",
    "hcipy.imshow_field(DM1)\n",
    "plt.title('DM1')\n",
    "plt.subplot(2, 3, 6)\n",
    "hcipy.imshow_field(DM2)\n",
    "plt.title('DM2')"
   ]
  },
  {
   "cell_type": "code",
   "execution_count": null,
   "metadata": {},
   "outputs": [],
   "source": [
    "focal_grid = hcipy.make_focal_grid(\n",
    "    samp_foc,\n",
    "    rad_foc,\n",
    "    pupil_diameter=D_pup,\n",
    "    focal_length=1.,\n",
    "    reference_wavelength=wavelength)"
   ]
  },
  {
   "cell_type": "code",
   "execution_count": null,
   "metadata": {},
   "outputs": [],
   "source": [
    "plt.figure(figsize=(10, 10))\n",
    "hcipy.imshow_field(aperture)\n",
    "plt.colorbar()"
   ]
  },
  {
   "cell_type": "markdown",
   "metadata": {},
   "source": [
    "## Propagators"
   ]
  },
  {
   "cell_type": "code",
   "execution_count": null,
   "metadata": {},
   "outputs": [],
   "source": [
    "prop = hcipy.FraunhoferPropagator(pupil_grid_dms, focal_grid)\n",
    "fres_dms = hcipy.propagation.FresnelPropagator(pupil_grid_dms, zDM, num_oversampling=1)\n",
    "fres_dms_minus = hcipy.propagation.FresnelPropagator(pupil_grid_dms, -zDM, num_oversampling=1)\n",
    "\n",
    "charge = 6\n",
    "coro = hcipy.VortexCoronagraph(pupil_grid_dms, charge, scaling_factor=4)\n",
    "\n",
    "lyot_stop = hcipy.Apodizer(lyot_mask)"
   ]
  },
  {
   "cell_type": "markdown",
   "metadata": {},
   "source": [
    "## Actual code for propagation"
   ]
  },
  {
   "cell_type": "code",
   "execution_count": null,
   "metadata": {},
   "outputs": [],
   "source": [
    "wf = hcipy.Wavefront(aperture * np.exp(4*1j*np.pi/wavelength*DM1), wavelength)\n",
    "wf2 = fres_dms(wf)\n",
    "wf3 = hcipy.Wavefront(wf2.electric_field*np.exp(4*1j*np.pi/wavelength*DM2)*DM2_circle, wavelength)\n",
    "wf4 = fres_dms_minus(wf3)\n",
    "wf5 = hcipy.Wavefront(wf4.electric_field * apod_stop, wavelength)\n",
    "\n",
    "lyot_plane = coro.forward(wf5)\n",
    "post_lyot_mask = lyot_stop(lyot_plane)\n",
    "#post_lyot_mask.wavelength = wavelength\n",
    "\n",
    "img = prop(post_lyot_mask).intensity\n",
    "img_ref = prop(wf4).intensity"
   ]
  },
  {
   "cell_type": "code",
   "execution_count": null,
   "metadata": {},
   "outputs": [],
   "source": [
    "post_lyot_mask.wavelength"
   ]
  },
  {
   "cell_type": "markdown",
   "metadata": {},
   "source": [
    "## Displaying some planes"
   ]
  },
  {
   "cell_type": "code",
   "execution_count": null,
   "metadata": {},
   "outputs": [],
   "source": [
    "plt.figure(figsize=(18, 12))\n",
    "\n",
    "plt.subplot(2, 3, 1)\n",
    "hcipy.imshow_field(wf4.amplitude)\n",
    "plt.title('wf4.amplitude')\n",
    "plt.colorbar()\n",
    "\n",
    "plt.subplot(2, 3, 2)\n",
    "hcipy.imshow_field(wf4.phase)\n",
    "plt.title('wf4.phase')\n",
    "plt.colorbar()\n",
    "\n",
    "plt.subplot(2, 3, 3)\n",
    "hcipy.imshow_field(lyot_plane.intensity)\n",
    "plt.title('lyot_plane.intensity')\n",
    "plt.colorbar()\n",
    "\n",
    "plt.subplot(2, 3, 4)\n",
    "hcipy.imshow_field(post_lyot_mask.intensity)\n",
    "plt.title('post_lyot_mask.intensity')\n",
    "plt.colorbar()\n",
    "\n",
    "plt.subplot(2, 3, 5)\n",
    "hcipy.imshow_field(np.log10(img_ref / img_ref.max()), vmin=-5, cmap='inferno')\n",
    "plt.title('direct image')\n",
    "plt.colorbar()\n",
    "\n",
    "plt.subplot(2, 3, 6)\n",
    "hcipy.imshow_field(np.log10(img / img_ref.max()), cmap='inferno', vmin=-10, vmax=-5)\n",
    "plt.title('coron image')\n",
    "plt.colorbar()\n",
    "plt.show()"
   ]
  },
  {
   "cell_type": "code",
   "execution_count": null,
   "metadata": {},
   "outputs": [],
   "source": [
    "plt.figure(figsize=(10,10))\n",
    "hcipy.imshow_field(np.log10(img / img_ref.max()), cmap='inferno', vmin=-12, vmax=-5)\n",
    "plt.title('coron image')\n",
    "plt.colorbar()"
   ]
  },
  {
   "cell_type": "markdown",
   "metadata": {},
   "source": [
    "## Getting the segment locations from primary aperture"
   ]
  },
  {
   "cell_type": "code",
   "execution_count": null,
   "metadata": {},
   "outputs": [],
   "source": [
    "segments, num_segments = label(aperture_data > 0.154)   # Fudged number based on what \"looks right\"\n",
    "centroids = []\n",
    "for i in range(num_segments):\n",
    "    seg = (segments == (i + 1)).ravel()\n",
    "    c_x = np.sum(seg * pupil_grid_arrays.x) / np.sum(seg)\n",
    "    c_y = np.sum(seg * pupil_grid_arrays.y) / np.sum(seg)\n",
    "    centroids.append(np.array([c_x, c_y]))\n",
    "segment_circum_diameter = D_pup * (nPup_arrays/962) / 8 * 1.024   # Fudged number based on what \"looks right\"\n",
    "seg_pos_pre = np.transpose(np.array(centroids))\n",
    "seg_pos = hcipy.CartesianGrid(hcipy.UnstructuredCoords(seg_pos_pre))"
   ]
  },
  {
   "cell_type": "markdown",
   "metadata": {},
   "source": [
    "## Making segmented primary"
   ]
  },
  {
   "cell_type": "code",
   "execution_count": null,
   "metadata": {},
   "outputs": [],
   "source": [
    "def make_segment_zernike_primary(Nzernike):\n",
    "    \"\"\"Generate a zernike basis, up to Nzernike, for each segment.\n",
    "\n",
    "            Parameters:\n",
    "            ----------\n",
    "            Nzernike : int\n",
    "                Maximum order of each zernike on each segment\n",
    "\n",
    "            --------\n",
    "            self.sm: DeformableMirror\n",
    "                Segmented mirror (primary) as a DM object\n",
    "            \"\"\"\n",
    "\n",
    "    segment = hcipy.hexagonal_aperture(segment_circum_diameter, np.pi / 2)\n",
    "    segment_sampled = hcipy.evaluate_supersampled(segment,pupil_grid_arrays, 1)\n",
    "    aper2, segs2 = hcipy.make_segmented_aperture(segment,seg_pos, segment_transmissions=1, return_segments=True)\n",
    "    luvoir_segmented_pattern = hcipy.evaluate_supersampled(aper2,pupil_grid_arrays, 1)\n",
    "    seg_evaluated = []\n",
    "    for seg_tmp in segs2:\n",
    "        tmp_evaluated = hcipy.evaluate_supersampled(seg_tmp,pupil_grid_arrays, 1)\n",
    "        seg_evaluated.append(tmp_evaluated)\n",
    "\n",
    "\n",
    "    seg_num = 0\n",
    "    mode_basis_local_zernike = hcipy.mode_basis.make_zernike_basis(Nzernike, segment_circum_diameter,pupil_grid_arrays.shifted(-seg_pos[seg_num]),\n",
    "                                                                starting_mode=1,\n",
    "                                                                ansi=False, radial_cutoff=True, use_cache=True)\n",
    "    for qq in range(0, Nzernike):\n",
    "        mode_basis_local_zernike._transformation_matrix[:, qq] = seg_evaluated[seg_num]*mode_basis_local_zernike._transformation_matrix[:, qq]\n",
    "    for seg_num in range(1, 55):\n",
    "        # print(seg_num)\n",
    "        mode_basis_local_zernike_tmp = hcipy.mode_basis.make_zernike_basis(Nzernike,segment_circum_diameter,pupil_grid_arrays.shifted(-seg_pos[seg_num]),\n",
    "                                                                        starting_mode=1,\n",
    "                                                                        ansi=False, radial_cutoff=True,\n",
    "                                                                        use_cache=True)\n",
    "        for qq in range(0, Nzernike):\n",
    "            mode_basis_local_zernike_tmp._transformation_matrix[:, qq] = seg_evaluated[seg_num] * mode_basis_local_zernike_tmp._transformation_matrix[:, qq]\n",
    "        mode_basis_local_zernike.extend(mode_basis_local_zernike_tmp)\n",
    "\n",
    "    sm = hcipy.optics.DeformableMirror(mode_basis_local_zernike)\n",
    "    return sm"
   ]
  },
  {
   "cell_type": "markdown",
   "metadata": {},
   "source": [
    "## Quick sanity check of segmented primary"
   ]
  },
  {
   "cell_type": "code",
   "execution_count": null,
   "metadata": {},
   "outputs": [],
   "source": [
    "sm_test = make_segment_zernike_primary(1)\n",
    "aperture_small = hcipy.Field(np.reshape(aperture_data, nPup_arrays**2), pupil_grid_arrays)\n",
    "input_wf = hcipy.Wavefront(aperture_small, wavelength)\n",
    "sm_test.actuators = np.ones(55) * wavelength\n",
    "tmp_pupil = sm_test(input_wf)\n",
    "plt.figure(figsize=(10, 10))\n",
    "hcipy.imshow_field(sm_test.opd)\n",
    "plt.colorbar()\n",
    "plt.figure(figsize=(10, 10))\n",
    "plt.imshow(aperture_data)\n",
    "plt.colorbar()"
   ]
  },
  {
   "cell_type": "code",
   "execution_count": null,
   "metadata": {},
   "outputs": [],
   "source": [
    "plt.figure(figsize=(12,12))\n",
    "hcipy.imshow_field(wf4.amplitude)\n",
    "plt.title('wf4.amplitude')"
   ]
  },
  {
   "cell_type": "code",
   "execution_count": null,
   "metadata": {},
   "outputs": [],
   "source": []
  }
 ],
 "metadata": {
  "kernelspec": {
   "display_name": "Python 3",
   "language": "python",
   "name": "python3"
  },
  "language_info": {
   "codemirror_mode": {
    "name": "ipython",
    "version": 3
   },
   "file_extension": ".py",
   "mimetype": "text/x-python",
   "name": "python",
   "nbconvert_exporter": "python",
   "pygments_lexer": "ipython3",
   "version": "3.7.10"
  }
 },
 "nbformat": 4,
 "nbformat_minor": 2
}
