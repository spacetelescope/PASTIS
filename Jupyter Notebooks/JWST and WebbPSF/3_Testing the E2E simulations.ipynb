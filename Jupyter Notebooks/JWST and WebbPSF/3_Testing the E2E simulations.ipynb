{
 "cells": [
  {
   "cell_type": "markdown",
   "metadata": {},
   "source": [
    "<h1>Testing the E2E simulations</h1>\n",
    "\n",
    "## -- JWST aperture --"
   ]
  },
  {
   "cell_type": "markdown",
   "metadata": {},
   "source": [
    "This script introduces the end-to-end (E2E) simulations that are used in **`calibration.py`**, for the influence calibration of each individual segment. The testing of the script itself is done in this next notebook."
   ]
  },
  {
   "cell_type": "code",
   "execution_count": null,
   "metadata": {},
   "outputs": [],
   "source": [
    "import os\n",
    "import time\n",
    "import numpy as np\n",
    "import matplotlib.pyplot as plt\n",
    "from matplotlib.colors import LogNorm\n",
    "from astropy.io import fits\n",
    "import astropy.units as u\n",
    "import webbpsf\n",
    "\n",
    "os.chdir('../../pastis/')\n",
    "from config import CONFIG_PASTIS\n",
    "import util as util\n",
    "import image_pastis as impastis\n",
    "\n",
    "# Path to all the outputs from \"aperture_definition.py\".\n",
    "data_dir = '/Users/ilaginja/Documents/data_from_repos/pastis_data/active/calibration'\n",
    "# Change into that directory\n",
    "#os.chdir(data_dir)\n",
    "\n",
    "os.environ['WEBBPSF_PATH'] = CONFIG_PASTIS.get('local', 'webbpsf_data_path')\n",
    "print('Currenlty running on WebbPSF', webbpsf.version.version)"
   ]
  },
  {
   "cell_type": "code",
   "execution_count": null,
   "metadata": {},
   "outputs": [],
   "source": [
    "# Get some parameters\n",
    "fpm = CONFIG_PASTIS.get('JWST', 'focal_plane_mask')         # focal plane mask\n",
    "lyot_stop = CONFIG_PASTIS.get('JWST', 'pupil_plane_stop')   # Lyot stop\n",
    "filter = CONFIG_PASTIS.get('JWST', 'filter_name')                       # filter\n",
    "im_size_e2e = CONFIG_PASTIS.getint('numerical', 'im_size_px_webbpsf')          # image size in pixels\n",
    "wss_segs = webbpsf.constants.SEGNAMES_WSS_ORDER\n",
    "nb_seg = CONFIG_PASTIS.getint('JWST', 'nb_subapertures')\n",
    "zern_max = CONFIG_PASTIS.getint('zernikes', 'max_zern')\n",
    "inner_wa = CONFIG_PASTIS.getint('JWST', 'IWA')\n",
    "outer_wa = CONFIG_PASTIS.getint('JWST', 'OWA')\n",
    "sampling = CONFIG_PASTIS.getfloat('JWST', 'sampling')            # sampling\n",
    "\n",
    "nm_aber = CONFIG_PASTIS.getfloat('JWST', 'calibration_aberration') * u.nm   # [nm] amplitude of aberration\n",
    "zern_number = CONFIG_PASTIS.getint('calibration', 'local_zernike')          # Which (Noll) Zernike we are calibrating for\n",
    "wss_zern_nb = util.noll_to_wss(zern_number)                                 # Convert from Noll to WSS framework"
   ]
  },
  {
   "cell_type": "markdown",
   "metadata": {
    "collapsed": true
   },
   "source": [
    "For starters, lets completely independently create some WebbPSF images of a direct image (no coronagraph) and a coronagraphic image."
   ]
  },
  {
   "cell_type": "code",
   "execution_count": null,
   "metadata": {},
   "outputs": [],
   "source": [
    "# Create two NIRCam objects\n",
    "nc = webbpsf.NIRCam()\n",
    "nc_coro = webbpsf.NIRCam()"
   ]
  },
  {
   "cell_type": "code",
   "execution_count": null,
   "metadata": {},
   "outputs": [],
   "source": [
    "# Btw:\n",
    "print('NIRCam pixelscale:', nc.pixelscale)\n",
    "print('Telescope:', nc.telescope)\n",
    "print('nc name:', nc.name)\n",
    "print('NIRCam module used:', nc.module)\n",
    "print('NIRCam list of image masks:', nc.image_mask_list)\n",
    "print('NIRCam list of pupil masks:', nc.pupil_mask_list)\n",
    "print('NIRCam currently used OPD:', nc.pupilopd)\n",
    "print('NIRCam detector list:', nc.detector_list)\n",
    "print('nc used detector:', nc.detector)\n",
    "print('Pixel position in (X, Y) on the detector:', nc.detector_position)\n",
    "print('NIRCam filter list:', nc.filter_list)\n",
    "print('nc used filter:', nc.filter)\n",
    "print('nc channel used:', nc.channel)\n"
   ]
  },
  {
   "cell_type": "code",
   "execution_count": null,
   "metadata": {},
   "outputs": [],
   "source": [
    "# Some displays\n",
    "plt.figure(figsize=(19, 19))\n",
    "nc.display()\n",
    "plt.show()\n",
    "\n",
    "#nc.calc_psf?\n",
    "#nc.calcPSF?"
   ]
  },
  {
   "cell_type": "code",
   "execution_count": null,
   "metadata": {},
   "outputs": [],
   "source": [
    "# Show the pupil used\n",
    "nc_pup = fits.getdata(nc.pupil)\n",
    "plt.imshow(nc_pup)\n",
    "plt.title('WebbPSF NIRCam pupil')\n",
    "plt.show()\n",
    "\n",
    "print('Pupil shape:', nc_pup.shape)"
   ]
  },
  {
   "cell_type": "markdown",
   "metadata": {},
   "source": [
    "We can see here how big the pupil array is in terms of pixels that is used in the E2E simulations. The pupil we generate in \"aperture_generation.py\" for PASTIS needs to have the same pupil array size! Eventually, this will be a number that we enter into the configfile. Currently, the PASTIS image size *im_size_pastis* and the pupil size are the same."
   ]
  },
  {
   "cell_type": "code",
   "execution_count": null,
   "metadata": {},
   "outputs": [],
   "source": [
    "# Null the OTE OPDs for the PSFs, and also the science instrument (SI) internal WFE.\n",
    "nc, ote = webbpsf.enable_adjustable_ote(nc)                     # create OTE for default PSF\n",
    "nc_coro, ote_coro = webbpsf.enable_adjustable_ote(nc_coro)      # create OTE for coronagraph\n",
    "ote.zero()                       # set OTE for direct PSF to zero\n",
    "ote_coro.zero()                  # set OTE for coronagraph to zero\n",
    "nc.include_si_wfe= False         # set SI internal WFE to zero\n",
    "nc_coro.include_si_wfe= False"
   ]
  },
  {
   "cell_type": "code",
   "execution_count": null,
   "metadata": {},
   "outputs": [],
   "source": [
    "# Display NIRCam isntrument without OTE and SI WFE\n",
    "plt.figure(figsize=(19, 19))\n",
    "nc.display()\n",
    "plt.show()"
   ]
  },
  {
   "cell_type": "markdown",
   "metadata": {},
   "source": [
    "From the WebbPSF turotial (https://github.com/mperrin/webbpsf/blob/master/notebooks/WebbPSF_tutorial.ipynb) we know that calc_psf() calculates images with different sampling (I think I also explain this in my notebook \"DealingWithWebbPSF.ipynb\") and we can access them in the different HDU extensions.\n",
    "\n",
    "In that same notebook, I also explain why I use oversample=1 and nlambda=1 to make the calculations faster.\n",
    "\n",
    "## NO CORONAGRAPH\n",
    "\n",
    "### Generating a direct PSF without aberrations"
   ]
  },
  {
   "cell_type": "code",
   "execution_count": null,
   "metadata": {},
   "outputs": [],
   "source": [
    "# Let's see what the current direct PSF looks like (coronagraphic PSF is the same since they've been set up the same\n",
    "# and I haven't added the coronagraph yet)\n",
    "psf_direct_hdu = nc.calc_psf(oversample=1, nlambda=1)"
   ]
  },
  {
   "cell_type": "code",
   "execution_count": null,
   "metadata": {},
   "outputs": [],
   "source": [
    "# Display by WebbPSF\n",
    "plt.figure(figsize=(10,10))\n",
    "webbpsf.display_psf(psf_direct_hdu)\n",
    "plt.show()"
   ]
  },
  {
   "cell_type": "code",
   "execution_count": null,
   "metadata": {},
   "outputs": [],
   "source": [
    "# Display with matplotlib\n",
    "psf_direct = psf_direct_hdu[1].data\n",
    "print('PSF shape:', psf_direct.shape)\n",
    "print('PSF max:', np.max(psf_direct))\n",
    "\n",
    "# Keeping this since I don't tell WebbPSF how big I want my images to be.\n",
    "# I will start telling it further below though, and then I'll start using\n",
    "# the zoom() function.\n",
    "xcen = int(psf_direct.shape[1]/2)\n",
    "ycen = int(psf_direct.shape[0]/2)\n",
    "boxhw = 27\n",
    "\n",
    "plt.figure(figsize=(20,10))\n",
    "plt.subplot(1, 2, 1)\n",
    "plt.imshow(psf_direct, norm=LogNorm(), origin='lower')   # WebbPSF uses origin='lower' too, which will\n",
    "plt.title('Direct PSF')                                  # be important later on with the coronagraphic images\n",
    "plt.colorbar()\n",
    "plt.subplot(1, 2, 2)\n",
    "plt.imshow(psf_direct[ycen-boxhw:ycen+boxhw, xcen-boxhw:xcen+boxhw], norm=LogNorm(), origin='lower')\n",
    "plt.title('Zoomed in')\n",
    "plt.show()"
   ]
  },
  {
   "cell_type": "markdown",
   "metadata": {},
   "source": [
    "We need to make a wavelength and filter choice:"
   ]
  },
  {
   "cell_type": "code",
   "execution_count": null,
   "metadata": {},
   "outputs": [],
   "source": [
    "# Add the filter we want to use\n",
    "nc.filter = filter\n",
    "nc_coro.filter = filter\n",
    "\n",
    "# So far both nc objects are still the same, so I'll display only one\n",
    "psf = nc.calc_psf(oversample=1, nlambda=1)\n",
    "plt.figure(figsize=(20,10))\n",
    "plt.subplot(1, 2, 1)\n",
    "webbpsf.display_psf(psf)\n",
    "\n",
    "psf = psf[1].data\n",
    "\n",
    "# Still using the default image size from WebbPSF\n",
    "xcen = int(psf.shape[1]/2)\n",
    "ycen = int(psf.shape[0]/2)\n",
    "boxhw = 27\n",
    "\n",
    "plt.subplot(1, 2, 2)\n",
    "plt.imshow(psf[ycen-boxhw:ycen+boxhw, xcen-boxhw:xcen+boxhw], norm=LogNorm(), origin='lower')\n",
    "plt.title('Direct PSF')\n",
    "plt.colorbar()\n",
    "plt.show()\n",
    "\n",
    "print('Max of direct PSF:', np.max(psf))"
   ]
  },
  {
   "cell_type": "markdown",
   "metadata": {},
   "source": [
    "We want our images to be the same size like our simulations, so we use \"fov_pixels\"."
   ]
  },
  {
   "cell_type": "code",
   "execution_count": null,
   "metadata": {},
   "outputs": [],
   "source": [
    "# Both nc (non-coro and coro) objects are still the same, so I'll display only one.\n",
    "# Now we're using our custom image size *im_size_e2e*.\n",
    "psf = nc.calc_psf(fov_pixels=im_size_e2e, oversample=1, nlambda=1)\n",
    "webbpsf.display_psf(psf)\n",
    "plt.show()"
   ]
  },
  {
   "cell_type": "markdown",
   "metadata": {},
   "source": [
    "We want to have normalized images, normalized to the non-coronagraphic, non-aberrated (meaning no sgment is actively moved) PSF that is displayed above. **normp** will be our normalization factor."
   ]
  },
  {
   "cell_type": "code",
   "execution_count": null,
   "metadata": {},
   "outputs": [],
   "source": [
    "normp = np.max(psf_direct)"
   ]
  },
  {
   "cell_type": "markdown",
   "metadata": {},
   "source": [
    "Remember what the differend hdu extensions in the WebbPSF images are:\n",
    "- If oversample = 1: image calculation with detector sampling, and extension 0 andn 1 are the same\n",
    "- if oversample > 1: image calculation will be done with increased sampling and then binned down to detector sampling. This will make the calculation more accurate, since JWST observations will do things like dithering in order to make images better. Has to be done because some detectors in some wavelengths don't even have Nyquist sampling. Then ext=1 is oversampled image and ext=0 is binned image."
   ]
  },
  {
   "cell_type": "code",
   "execution_count": null,
   "metadata": {},
   "outputs": [],
   "source": [
    "# Look at the different extensions of the WebbPSF image\n",
    "psf.info()\n",
    "webbpsf.display_psf(psf, ext=3)\n",
    "plt.show()"
   ]
  },
  {
   "cell_type": "code",
   "execution_count": null,
   "metadata": {},
   "outputs": [],
   "source": [
    "# Extract the numpy array\n",
    "psf = psf[1].data\n",
    "\n",
    "# Normalize the PSF\n",
    "psf = psf/normp\n",
    "print('Done')"
   ]
  },
  {
   "cell_type": "code",
   "execution_count": null,
   "metadata": {},
   "outputs": [],
   "source": [
    "# Display with matplotlibpsf = psf[1].data\n",
    "\n",
    "# Now starting to use zoom_cen()\n",
    "boxhw = 27\n",
    "\n",
    "plt.figure(figsize=(20, 10))\n",
    "plt.subplot(1, 2, 1)\n",
    "plt.imshow(psf, norm=LogNorm(), origin='lower')\n",
    "plt.title('Direct PSF')\n",
    "plt.colorbar()\n",
    "plt.subplot(1, 2, 2)\n",
    "plt.imshow(util.zoom_cen(psf, boxhw), norm=LogNorm(), origin='lower')\n",
    "plt.title('Direct PSF - zoomed in')\n",
    "plt.show()\n",
    "\n",
    "print('Total image shape:', psf.shape)\n",
    "print('PSF max:', np.max(psf))"
   ]
  },
  {
   "cell_type": "markdown",
   "metadata": {},
   "source": [
    "### A single aberrated segment\n",
    "\n",
    "To compare to the analytical images step by step, I will first create images with only one segment aberrated."
   ]
  },
  {
   "cell_type": "code",
   "execution_count": null,
   "metadata": {},
   "outputs": [],
   "source": [
    "segnum = 5     # Which segment are we aberrating - I number them starting with 1\n",
    "segnum -= 1    # Which is why I have to subtract one, because WebbPSF starts numbering them at 0\n",
    "#nm_aber = 100 # in in put units\n",
    "# Extract the correct segment name from WebbPSF\n",
    "seg = wss_segs[segnum].split('-')[0]\n",
    "print('Aberrated segment:', seg)"
   ]
  },
  {
   "cell_type": "code",
   "execution_count": null,
   "metadata": {},
   "outputs": [],
   "source": [
    "# Create arrays to hold Zernike aberration coefficients\n",
    "Aber_WSS = np.zeros([nb_seg, zern_max])           # The Zernikes here will be filled in the WSS order!!!\n",
    "                                                  # Because it goes into _apply_hexikes_to_seg().\n",
    "\n",
    "# Feed the aberration nm_aber into the array position\n",
    "# that corresponds to the correct Zernike, but only on segment i\n",
    "Aber_WSS[segnum, wss_zern_nb-1] = nm_aber.to(u.m).value   # Aberration on the segment we're currently working on;\n",
    "                                                          # convert to meters; -1 on the Zernike because Python starts\n",
    "                                                          # numbering at 0.\n",
    "\n",
    "#-# Crate OPD with aberrated segment, NO CORONAGRAPH\n",
    "print('Applying aberration to OTE.')\n",
    "print('nm_aber: {}'.format(nm_aber))\n",
    "ote.reset()   # Making sure there are no previous movements on the segments.\n",
    "ote.zero()    # For now, ignore internal WFE.\n",
    "ote._apply_hexikes_to_seg(seg, Aber_WSS[segnum,:])"
   ]
  },
  {
   "cell_type": "code",
   "execution_count": null,
   "metadata": {},
   "outputs": [],
   "source": [
    "# Display the OTE\n",
    "ote.display_opd()\n",
    "plt.show()\n",
    "# At this point, WebbPSF still numbers the segments wrong in the exit pupil,\n",
    "# so it's the easiest to orient yourself by the spiders."
   ]
  },
  {
   "cell_type": "code",
   "execution_count": null,
   "metadata": {},
   "outputs": [],
   "source": [
    "# Calculate the PSF\n",
    "psf_minizern = nc.calc_psf(fov_pixels=im_size_e2e, oversample=1, nlambda=1)\n",
    "webbpsf.display_psf(psf_minizern)\n",
    "plt.show()\n",
    "\n",
    "psf_minizern = psf_minizern[1].data/normp"
   ]
  },
  {
   "cell_type": "code",
   "execution_count": null,
   "metadata": {},
   "outputs": [],
   "source": [
    "# Display with matplotlib\n",
    "boxhw = 27\n",
    "print('psf_minizern.shape:', psf_minizern.shape)\n",
    "\n",
    "plt.figure(figsize=(20, 10))\n",
    "plt.subplot(1, 2, 1)\n",
    "plt.imshow(psf_minizern, norm=LogNorm(), origin='lower')\n",
    "plt.title('Equivalent of Envelope from mini Zernike')\n",
    "plt.colorbar()\n",
    "plt.subplot(1, 2, 2)\n",
    "plt.imshow(util.zoom_cen(psf_minizern, boxhw), norm=LogNorm(), origin='lower')\n",
    "plt.title('Envelope - zoomed in')\n",
    "plt.show()"
   ]
  },
  {
   "cell_type": "markdown",
   "metadata": {},
   "source": [
    "Compare this image with one single aberrated segment vs. the non-aberrated PSF:"
   ]
  },
  {
   "cell_type": "code",
   "execution_count": null,
   "metadata": {},
   "outputs": [],
   "source": [
    "# Subtract the pserfect direct PSF off the single-segment aberrated PSF\n",
    "one_aber_residual = psf - psf_minizern\n",
    "\n",
    "plt.figure(figsize=(20, 10))\n",
    "plt.subplot(1, 3, 1)\n",
    "plt.imshow(util.zoom_cen(psf, boxhw), norm=LogNorm(), origin='lower')\n",
    "plt.title('Direct PSF, perfect')\n",
    "#plt.colorbar()\n",
    "plt.subplot(1, 3, 2)\n",
    "plt.imshow(util.zoom_cen(psf_minizern, boxhw), norm=LogNorm(), origin='lower')\n",
    "plt.title('Direct PSF one aberrated segment')\n",
    "#plt.colorbar()\n",
    "plt.subplot(1, 3, 3)\n",
    "plt.imshow(util.zoom_cen(one_aber_residual, boxhw), norm=LogNorm(), origin='lower')\n",
    "plt.title('Residual')\n",
    "#plt.colorbar()\n",
    "plt.show()"
   ]
  },
  {
   "cell_type": "code",
   "execution_count": null,
   "metadata": {},
   "outputs": [],
   "source": [
    "# Repeat on a smaller image direclty instead of cropping it afterwards, for faster computation\n",
    "# Calculate the PSF\n",
    "psf_minizern = nc.calc_psf(fov_pixels=54, oversample=1, nlambda=1)\n",
    "webbpsf.display_psf(psf_minizern)\n",
    "plt.show()\n",
    "\n",
    "psf_minizern = psf_minizern[1].data/normp\n",
    "\n",
    "# Display with matplotlib\n",
    "boxhw = 27\n",
    "\n",
    "plt.figure(figsize=(20, 10))\n",
    "plt.subplot(1, 2, 1)\n",
    "plt.imshow(psf_minizern, norm=LogNorm(), origin='lower')\n",
    "plt.title('PSF')\n",
    "plt.colorbar()\n",
    "plt.show()"
   ]
  },
  {
   "cell_type": "code",
   "execution_count": null,
   "metadata": {},
   "outputs": [],
   "source": [
    "\"\"\"\n",
    "# Make a loop over the first eight Zernike envelopes, like in notebook 2\n",
    "aber_wss_loop = np.zeros([nb_seg, 8])\n",
    "psfs_env = []\n",
    "plt.figure(figsize=(18, 60))\n",
    "plt.suptitle('Different Zernikes envelopes from WebbPSF')\n",
    "noll_as_wss = np.array([1, 3, 2, 5, 4, 6, 7, 8]) #, 11, 9, 10])    # reordering Noll Zernikes to WSS, for ease of use\n",
    "print('nm_aber:', nm_aber, 'in input units')\n",
    "\n",
    "for i, zern in enumerate(noll_as_wss):\n",
    "    \n",
    "    # Put the Zernike coefficient in correct place in\n",
    "    aber_wss_loop[:,:] = 0     # set all entries to zero\n",
    "    aber_wss_loop[segnum, zern-1] = nm_aber / aber_u   # fill only the index for current Zernike, in meters\n",
    "    #print(aber_wss_loop[segnum, :])\n",
    "    \n",
    "    # Put Zernike on correct segment on OTE\n",
    "    ote.reset()   # Making sure there are no previous movements on the segments.\n",
    "    ote.zero()    # For now, ignore internal WFE.\n",
    "    ote._apply_hexikes_to_seg(seg, aber_wss_loop[segnum,:])\n",
    "    \n",
    "    # Display the OTE\n",
    "    plt.subplot(8, 2, i*2+1)\n",
    "    ote.display_opd()\n",
    "    \n",
    "    # Calculate the PSF\n",
    "    print('Calculating PSF', str(i+1) + '/' + '8')\n",
    "    psf_zernloop = nc.calc_psf(fov_pixels=54, oversample=1, nlambda=1)\n",
    "    psf_zernloop = psf_zernloop[1].data\n",
    "    psfs_env.append(psf_zernloop)\n",
    "    \n",
    "    # Display the PSF\n",
    "    plt.subplot(8, 2, i*2+2)\n",
    "    plt.imshow(psf_zernloop, norm=LogNorm(), origin='lower')\n",
    "    \n",
    "plt.show()\n",
    "psfs_env = np.array(psfs_env)\n",
    "\"\"\"\n",
    "\n",
    "# This was a thinking mistake from my side. I tried modeling the single Zernike envelope\n",
    "# from the analytical model, which I can't do direcly in this simulation because I only\n",
    "# have access to the full aperture.\n",
    "\n",
    "# But I'll keep the code, because you never know what it could be useful for."
   ]
  },
  {
   "cell_type": "code",
   "execution_count": null,
   "metadata": {},
   "outputs": [],
   "source": [
    "\"\"\"\n",
    "# Display them\n",
    "plt.figure(figsize=(16, 8))\n",
    "for i in range(noll_as_wss.shape[0]):\n",
    "    plt.subplot(2, 4, i+1)\n",
    "    plt.imshow(psfs_env[i], norm=LogNorm(), origin='lower')\n",
    "    plt.title('Noll Zernike: ' + str(i+1))\n",
    "plt.show()\n",
    "\"\"\""
   ]
  },
  {
   "cell_type": "markdown",
   "metadata": {},
   "source": [
    "### Pair-wise aberrated segments"
   ]
  },
  {
   "cell_type": "code",
   "execution_count": null,
   "metadata": {},
   "outputs": [],
   "source": [
    "# Decide which two segments you want to aberrate\n",
    "segnum1 = 8     # Which segments are we aberrating - I number them starting with 1\n",
    "segnum2 = 16\n",
    "\n",
    "segnum_array = np.array([segnum1, segnum2])\n",
    "segnum_array -= 1    # Which is why I have to subtract one, because WebbPSF starts numbering them at 0\n",
    "\n",
    "zern_pair = 1  # Which Noll Zernike are we putting on the segments.\n",
    "\n",
    "# Extract the correct segment names from WebbPSF\n",
    "seg_array = []\n",
    "for i, senu in enumerate(segnum_array):\n",
    "    seg_array.append(wss_segs[senu].split('-')[0])\n",
    "\n",
    "seg_array = np.array(seg_array)\n",
    "print('Aberration: {}'.format(nm_aber))\n",
    "print('Aberrated segments:', seg_array)\n",
    "print('Noll Zernike used:', zern_pair)"
   ]
  },
  {
   "cell_type": "code",
   "execution_count": null,
   "metadata": {},
   "outputs": [],
   "source": [
    "aber_wss_loop = np.zeros([nb_seg, 8])\n",
    "noll_as_wss = np.array([1, 3, 2, 5, 4, 6, 7, 8]) #, 11, 9, 10])    # reordering Noll Zernikes to WSS, for ease of use\n",
    "print('nm_aber: {}'.format(nm_aber))\n",
    "\n",
    "# Apply aberration to all sgements\n",
    "ote.reset()   # Making sure there are no previous movements on the segments.\n",
    "ote.zero()    # For now, ignore internal WFE.\n",
    "for i, nseg in enumerate(seg_array):\n",
    "    aber_wss_loop[segnum_array[i], noll_as_wss[zern_pair-1]-1] = nm_aber.to(u.m).value   # fill only the index for current Zernike, in meters\n",
    "\n",
    "    # Put Zernike on correct segments on OTE\n",
    "    ote._apply_hexikes_to_seg(nseg, aber_wss_loop[segnum_array[i],:])\n",
    "\n",
    "# Display the OTE\n",
    "ote.display_opd()\n",
    "plt.show()"
   ]
  },
  {
   "cell_type": "code",
   "execution_count": null,
   "metadata": {},
   "outputs": [],
   "source": [
    "# Calculate the PSF\n",
    "psf_zernpair= nc.calc_psf(fov_pixels=154, oversample=1, nlambda=1)   # oversampled for beeter seeign the fringes\n",
    "psf_zernpair = psf_zernpair[0].data/normp                            # getting the oversampled extension\n",
    "    \n",
    "# Display the PSF\n",
    "plt.figure(figsize=(10, 10))\n",
    "plt.subplot(1, 1, 1)\n",
    "plt.imshow(psf_zernpair, norm=LogNorm(), origin='lower')\n",
    "plt.title('Direct PSF of a pair-wise aberrated segmented OTE')\n",
    "plt.colorbar()\n",
    "plt.show()\n",
    "\n",
    "print(psf_zernpair.shape)"
   ]
  },
  {
   "cell_type": "markdown",
   "metadata": {},
   "source": [
    "I'm gonna stop here and go back to do the same thing with the analytical model in notebook 2. I am not sure the effect in the focal plane of me aberrating a pair of segments is really what it's supposed to be.\n",
    "\n",
    "I created some images from specific pairs and then saved them:"
   ]
  },
  {
   "cell_type": "code",
   "execution_count": null,
   "metadata": {},
   "outputs": [],
   "source": [
    "#segs_3_11_noll_1_dir = np.copy(psf_zernpair)\n",
    "#segs_11_17_noll_1_dir = np.copy(psf_zernpair)\n",
    "#segs_6_11_noll_1_dir = np.copy(psf_zernpair)\n",
    "#segs_9_2_noll_1_dir = np.copy(psf_zernpair)\n",
    "#segs_9_5_noll_1_dir = np.copy(psf_zernpair)\n",
    "#segs_9_15_noll_1_dir = np.copy(psf_zernpair)\n",
    "#segs_8_1_noll_1_dir = np.copy(psf_zernpair)\n",
    "#segs_8_6_noll_1_dir = np.copy(psf_zernpair)\n",
    "#segs_8_16_noll_1_dir = np.copy(psf_zernpair)"
   ]
  },
  {
   "cell_type": "code",
   "execution_count": null,
   "metadata": {},
   "outputs": [],
   "source": [
    "save_dir1 = '/astro/opticslab1/PASTIS/jwst_data/E2E_pair_aberrations/2019-1-25-16h-18min_piston_100nm'\n",
    "# util.write_fits(segs_3_11_noll_1_dir, os.path.join(save_dir1, 'segs_3_11_noll_1_dir.fits'))\n",
    "# util.write_fits(segs_11_17_noll_1_dir, os.path.join(save_dir1, 'segs_11_17_noll_1_dir.fits'))\n",
    "# util.write_fits(segs_6_11_noll_1_dir, os.path.join(save_dir1, 'segs_6_11_noll_1_dir.fits'))\n",
    "# util.write_fits(segs_9_2_noll_1_dir, os.path.join(save_dir1, 'segs_9_2_noll_1_dir.fits'))\n",
    "# util.write_fits(segs_9_5_noll_1_dir, os.path.join(save_dir1, 'segs_9_5_noll_1_dir.fits'))\n",
    "# util.write_fits(segs_9_15_noll_1_dir, os.path.join(save_dir1, 'segs_9_15_noll_1_dir.fits'))\n",
    "# util.write_fits(segs_8_1_noll_1_dir, os.path.join(save_dir1, 'segs_8_1_noll_1_dir.fits'))\n",
    "# util.write_fits(segs_8_6_noll_1_dir, os.path.join(save_dir1, 'segs_8_6_noll_1_dir.fits'))\n",
    "# util.write_fits(segs_8_16_noll_1_dir, os.path.join(save_dir1, 'segs_8_16_noll_1_dir.fits'))"
   ]
  },
  {
   "cell_type": "markdown",
   "metadata": {},
   "source": [
    "In general, I will have to load these images from central store:\n",
    "- '/astro/opticslab1/PASTIS/jwst_data/E2E_pair_aberrations/2019-1-18-17h-5min_piston_1000nm_pairs' will have images generated with aberrations of 1000 nm per segment which is too much compared to JWST's wavelength and the sort of aberrations that are expected in-flight\n",
    "- '/astro/opticslab1/PASTIS/jwst_data/E2E_pair_aberrations/2019-1-25-16h-18min_piston_100nm' has images generated with aberrations of 100 nm per segment, but this aberration is not high enough to make us see the fringes\n"
   ]
  },
  {
   "cell_type": "code",
   "execution_count": null,
   "metadata": {},
   "outputs": [],
   "source": [
    "read_dir1 = '/astro/opticslab1/PASTIS/jwst_data/E2E_pair_aberrations/2019-1-18-17h-5min_piston_1000nm_pairs'\n",
    "segs_3_11_noll_1_dir = fits.getdata(os.path.join(read_dir1, 'segs_3_11_noll_1_dir.fits'))\n",
    "segs_11_17_noll_1_dir = fits.getdata(os.path.join(read_dir1, 'segs_11_17_noll_1_dir.fits'))\n",
    "segs_6_11_noll_1_dir = fits.getdata(os.path.join(read_dir1, 'segs_6_11_noll_1_dir.fits'))\n",
    "segs_9_2_noll_1_dir = fits.getdata(os.path.join(read_dir1, 'segs_9_2_noll_1_dir.fits'))\n",
    "segs_9_5_noll_1_dir = fits.getdata(os.path.join(read_dir1, 'segs_9_5_noll_1_dir.fits'))\n",
    "segs_9_15_noll_1_dir = fits.getdata(os.path.join(read_dir1, 'segs_9_15_noll_1_dir.fits'))\n",
    "segs_8_1_noll_1_dir = fits.getdata(os.path.join(read_dir1, 'segs_8_1_noll_1_dir.fits'))\n",
    "segs_8_6_noll_1_dir = fits.getdata(os.path.join(read_dir1, 'segs_8_6_noll_1_dir.fits'))\n",
    "segs_8_16_noll_1_dir = fits.getdata(os.path.join(read_dir1, 'segs_8_16_noll_1_dir.fits'))"
   ]
  },
  {
   "cell_type": "markdown",
   "metadata": {},
   "source": [
    "Let's have a look at some of the images (refer to numbered pupil to identify baslines these correspond to)."
   ]
  },
  {
   "cell_type": "code",
   "execution_count": null,
   "metadata": {},
   "outputs": [],
   "source": [
    "# Gotta check how big the loaded images are!\n",
    "print('Loaded images shape:', segs_3_11_noll_1_dir.shape)\n",
    "print('im_size_e2e:', im_size_e2e)\n",
    "\n",
    "# If im_size_e2e is bigger than images we loaded, this won't work\n",
    "# and you have to define a box half-size manually for imwidth.\n",
    "boxw = int(im_size_e2e/2)\n",
    "boxw2 = boxw/2\n",
    "    \n",
    "if im_size_e2e < segs_3_11_noll_1_dir.shape[0]:\n",
    "    imwidth = bozw2\n",
    "else:\n",
    "    #raise Exception('! You have to set imwidth manually ! And then comment this line out.')\n",
    "    pass\n",
    "\n",
    "# Chose what image size (in pixels) we want to display\n",
    "imwidth = 40\n",
    "\n",
    "plt.figure(figsize=(18, 12))\n",
    "plt.suptitle('Pair-wise aberrations on direct (no coro) WebbPSF images')\n",
    "plt.subplot(2, 3, 1)\n",
    "plt.imshow(util.zoom_cen(segs_3_11_noll_1_dir, imwidth), norm=LogNorm(), origin='lower')\n",
    "plt.title('Piston on segments 3 and 11')\n",
    "\n",
    "plt.subplot(2, 3, 2)\n",
    "plt.imshow(util.zoom_cen(segs_6_11_noll_1_dir, imwidth), norm=LogNorm(), origin='lower')\n",
    "plt.title('Piston on segments 6 and 11')\n",
    "\n",
    "plt.subplot(2, 3, 3)\n",
    "plt.imshow(util.zoom_cen(segs_11_17_noll_1_dir, imwidth), norm=LogNorm(), origin='lower')\n",
    "plt.title('Piston on segments 11 and 17')\n",
    "\n",
    "plt.subplot(2, 3, 4)\n",
    "plt.imshow(util.zoom_cen(segs_9_2_noll_1_dir, imwidth), norm=LogNorm(), origin='lower')\n",
    "plt.title('Piston on segments 9 and 2')\n",
    "\n",
    "plt.subplot(2, 3, 5)\n",
    "plt.imshow(util.zoom_cen(segs_9_5_noll_1_dir, imwidth), norm=LogNorm(), origin='lower')\n",
    "plt.title('Piston on segments 5 and 9')\n",
    "\n",
    "plt.subplot(2, 3, 6)\n",
    "plt.imshow(util.zoom_cen(segs_9_15_noll_1_dir, imwidth), norm=LogNorm(), origin='lower')\n",
    "plt.title('Piston on segments 9 and 15')\n",
    "\n",
    "plt.show()"
   ]
  },
  {
   "cell_type": "markdown",
   "metadata": {},
   "source": [
    "I made sure to make images from the same aberrated pairs like in the analytical notebook (notebook 2), so we can compare them here now."
   ]
  },
  {
   "cell_type": "code",
   "execution_count": null,
   "metadata": {},
   "outputs": [],
   "source": [
    "# Load the analytical images\n",
    "read_dir_ana = '/astro/opticslab1/PASTIS/jwst_data/uncalibrated_analytical_images/2018-01-19-18h-31min_piston_1000nm_exitpupil'\n",
    "segs_3_11_noll_1_ana = fits.getdata(os.path.join(read_dir_ana, 'segs_3_11_noll_1.fits'))\n",
    "segs_11_17_noll_1_ana = fits.getdata(os.path.join(read_dir_ana, 'segs_11_17_noll_1.fits'))\n",
    "segs_6_11_noll_1_ana = fits.getdata(os.path.join(read_dir_ana, 'segs_6_11_noll_1.fits'))\n",
    "segs_9_2_noll_1_ana = fits.getdata(os.path.join(read_dir_ana, 'segs_9_2_noll_1.fits'))\n",
    "segs_9_5_noll_1_ana = fits.getdata(os.path.join(read_dir_ana, 'segs_9_5_noll_1.fits'))\n",
    "segs_9_15_noll_1_ana = fits.getdata(os.path.join(read_dir_ana, 'segs_9_15_noll_1.fits'))\n",
    "segs_8_1_noll_1_ana = fits.getdata(os.path.join(read_dir_ana, 'segs_8_1_noll_1.fits'))\n",
    "segs_8_6_noll_1_ana = fits.getdata(os.path.join(read_dir_ana, 'segs_8_6_noll_1.fits'))\n",
    "segs_8_16_noll_1_ana = fits.getdata(os.path.join(read_dir_ana, 'segs_8_16_noll_1.fits'))"
   ]
  },
  {
   "cell_type": "markdown",
   "metadata": {},
   "source": [
    "Compare pairs **3-11**, **6-11** and **11-17** between E2E and analytical:"
   ]
  },
  {
   "cell_type": "code",
   "execution_count": null,
   "metadata": {},
   "outputs": [],
   "source": [
    "# Chose what image size (in pixels) we want to display\n",
    "imwidth = imwidth\n",
    "\n",
    "plt.figure(figsize=(18, 12))\n",
    "plt.suptitle('Comparison of E2E and analtical DIRECT images')\n",
    "plt.subplot(2, 3, 1)\n",
    "plt.imshow(util.zoom_cen(segs_3_11_noll_1_dir, imwidth), norm=LogNorm(), origin='lower')\n",
    "plt.title('Piston on segments 3 and 11 - E2E')\n",
    "\n",
    "plt.subplot(2, 3, 2)\n",
    "plt.imshow(util.zoom_cen(segs_6_11_noll_1_dir, imwidth), norm=LogNorm(), origin='lower')\n",
    "plt.title('Piston on segments 6 and 11 - E2E')\n",
    "\n",
    "plt.subplot(2, 3, 3)\n",
    "plt.imshow(util.zoom_cen(segs_11_17_noll_1_dir, imwidth), norm=LogNorm(), origin='lower')\n",
    "plt.title('Piston on segments 11 and 17 - E2E')\n",
    "\n",
    "plt.subplot(2, 3, 4)\n",
    "plt.imshow(util.zoom_cen(segs_3_11_noll_1_ana, imwidth), norm=LogNorm(), origin='lower')\n",
    "plt.title('Piston on segments 3 and 11 - analytical')\n",
    "\n",
    "plt.subplot(2, 3, 5)\n",
    "plt.imshow(util.zoom_cen(segs_6_11_noll_1_ana, imwidth), norm=LogNorm(), origin='lower')\n",
    "plt.title('Piston on segments 5 and 11 - analytical')\n",
    "\n",
    "plt.subplot(2, 3, 6)\n",
    "plt.imshow(util.zoom_cen(segs_11_17_noll_1_ana, imwidth), norm=LogNorm(), origin='lower')\n",
    "plt.title('Piston on segments 11 and 17 - analytical')\n",
    "\n",
    "plt.show()"
   ]
  },
  {
   "cell_type": "markdown",
   "metadata": {},
   "source": [
    "There is clearly a lot more going on in the WebbPSF images, since they will have incorporated many additional effects compared to the analytical images. But, foro the same aberrated segment, we can see fringes of the same structure and orientation, so I think this is fine!"
   ]
  },
  {
   "cell_type": "markdown",
   "metadata": {},
   "source": [
    "## WITH CORONAGRAPH\n",
    "\n",
    "### Generating a coronagraphic PSF without aberrations"
   ]
  },
  {
   "cell_type": "code",
   "execution_count": null,
   "metadata": {},
   "outputs": [],
   "source": [
    "# Now add the coronagraph to nc_coro\n",
    "nc_coro.image_mask = fpm\n",
    "nc_coro.pupil_mask = lyot_stop\n",
    "\n",
    "# And show what that looks like\n",
    "plt.figure(figsize=(18, 9))\n",
    "psf_coro = nc_coro.calc_psf(fov_pixels=im_size_e2e, oversample=1, nlambda=1, display=True)\n",
    "plt.show()\n",
    "psf_coro_im = psf_coro[1].data/normp\n",
    "\n",
    "print('PSF calculation done')"
   ]
  },
  {
   "cell_type": "code",
   "execution_count": null,
   "metadata": {},
   "outputs": [],
   "source": [
    "# I can't use webbpsf.display_psf(psf_coro) because I couldn't figure out how to change the color scaling\n",
    "# and it turns out all black. So I'll just use matplotlib.\n",
    "plt.figure(figsize=(20, 10))\n",
    "plt.subplot(1, 2, 1)\n",
    "plt.imshow(psf_coro_im, norm=LogNorm(), origin='lower')\n",
    "plt.title('Coronagraphic PSF - zoomed in')\n",
    "plt.subplot(1, 2, 2)\n",
    "plt.imshow(util.zoom_cen(psf_coro_im, 70), norm=LogNorm(), origin='lower')\n",
    "plt.title('Coronagraphic PSF')\n",
    "plt.colorbar()\n",
    "plt.show()"
   ]
  },
  {
   "cell_type": "markdown",
   "metadata": {},
   "source": [
    "Let's confirm what image size we're using. The NIRCam field of view is 20'' and the plate scale in the long wavelength channel is 0.063''/pixel. This means if we divide 20 by 0.063, we can tell how big the total FoV is in NIRCam pixels."
   ]
  },
  {
   "cell_type": "code",
   "execution_count": null,
   "metadata": {},
   "outputs": [],
   "source": [
    "print('NIRCam images will have', 20/0.063, 'pixels on either side of the detector.')"
   ]
  },
  {
   "cell_type": "markdown",
   "metadata": {},
   "source": [
    "And we just rounded up to 320 pixels. For comparison here, we'll show the WebbPSF native display that gives you the image in terms of arcseconds - and you should see a 20'' x 20'' field of view (going from -10'' to 10'' on both axes)."
   ]
  },
  {
   "cell_type": "code",
   "execution_count": null,
   "metadata": {},
   "outputs": [],
   "source": [
    "# For comparison, the webbpsf display in physical units for the fov:\n",
    "# Also, I have figured out here how to change the image scale.\n",
    "plt.figure(figsize=(10, 10))\n",
    "webbpsf.display_psf(psf_coro, vmin=1e-12, vmax=1e-6)\n",
    "plt.show()"
   ]
  },
  {
   "cell_type": "markdown",
   "metadata": {},
   "source": [
    "This is the place where we can see that in order to match our matplotlib displays of the PSF with that of WebbPSF, we need to use the keyword \"origin='lower'\" in imshow().\n",
    "\n",
    "### A single aberrated segment\n",
    "\n",
    "For the calibration of the analytical images, I need to create images that stem for the pupil having one single aberrated segment."
   ]
  },
  {
   "cell_type": "code",
   "execution_count": null,
   "metadata": {},
   "outputs": [],
   "source": [
    "# Define what segment to aberrate\n",
    "segnum = 5     # Which segment are we aberrating - I number them starting with 1\n",
    "segnum -= 1    # Which is why I have to subtract one, because WebbPSF starts numbering them at 0\n",
    "# Extract the correct segment name from WebbPSF\n",
    "seg = wss_segs[segnum].split('-')[0]\n",
    "print('Aberrated segment:', seg)\n",
    "\n",
    "# Define what Noll Zernike we're using\n",
    "zern_number = 1\n",
    "wss_zern_nb = util.noll_to_wss(zern_number)  \n",
    "\n",
    "# Maybe play around with amount of aberration\n",
    "#nm_aber = 1000.     # in input units\n",
    "\n",
    "# Create arrays to hold Zernike aberration coefficients\n",
    "Aber_WSS = np.zeros([nb_seg, zern_max])           # The Zernikes here will be filled in the WSS order!!!\n",
    "                                                  # Because it goes into _apply_hexikes_to_seg().\n",
    "\n",
    "# Feed the aberration nm_aber into the array position\n",
    "# that corresponds to the correct Zernike, but only on segment i\n",
    "Aber_WSS[segnum, wss_zern_nb-1] = nm_aber.to(u.m).value     # Aberration on the segment we're currently working on;\n",
    "                                                            # convert to meters; -1 on the Zernike because Python starts\n",
    "                                                            # numbering at 0.\n",
    "\n",
    "#-# Crate OPD with aberrated segment, NO CORONAGRAPH\n",
    "print('Applying aberration to OTE.')\n",
    "print('nm_aber: {}'.format(nm_aber))\n",
    "ote_coro.reset()   # Making sure there are no previous movements on the segments.\n",
    "ote_coro.zero()    # For now, ignore internal WFE.\n",
    "ote_coro._apply_hexikes_to_seg(seg, Aber_WSS[segnum,:])\n",
    "\n",
    "# Display the OTE\n",
    "ote_coro.display_opd()\n",
    "plt.show()\n",
    "# At this point, WebbPSF still numbers the segments wrong in the exit pupil,\n",
    "# so it's the easiest to orient yourself by the spiders."
   ]
  },
  {
   "cell_type": "code",
   "execution_count": null,
   "metadata": {},
   "outputs": [],
   "source": [
    "# Calculate the PSF\n",
    "psf_single_coro = nc_coro.calc_psf(fov_pixels=im_size_e2e, oversample=1, nlambda=1)\n",
    "plt.figure(figsize=(10, 10))\n",
    "webbpsf.display_psf(psf_single_coro, vmin=1e-12, vmax=1e-6)\n",
    "plt.show()\n",
    "\n",
    "psf_single_coro = psf_single_coro[1].data/normp"
   ]
  },
  {
   "cell_type": "code",
   "execution_count": null,
   "metadata": {},
   "outputs": [],
   "source": [
    "# Display with matplotlib\n",
    "boxhw = im_size_e2e/2\n",
    "box2 = boxhw/2\n",
    "print('nm_aber: {}'.format(nm_aber))\n",
    "\n",
    "plt.figure(figsize=(20, 10))\n",
    "plt.subplot(1, 2, 1)\n",
    "plt.imshow(psf_single_coro, norm=LogNorm(), origin='lower')\n",
    "plt.title('One aberrated segment in coronagraphic setup')\n",
    "plt.colorbar()\n",
    "plt.subplot(1, 2, 2)\n",
    "plt.imshow(util.zoom_cen(psf_single_coro, box2), norm=LogNorm(), origin='lower')\n",
    "plt.title('Zoomed in')\n",
    "plt.show()"
   ]
  },
  {
   "cell_type": "markdown",
   "metadata": {},
   "source": [
    "For piston, an aberration of 10 nm shows no effect, 100 nm already visibly messes the PSF up and 1000 nm make a very distinct change to the PSF, probably too much for PASTIS purposes.\n",
    "\n",
    "### Pair-wise aberrated segments with coronagraph"
   ]
  },
  {
   "cell_type": "code",
   "execution_count": null,
   "metadata": {},
   "outputs": [],
   "source": [
    "# Decide which two segments you want to aberrate\n",
    "segnum1 = 8     # Which segments are we aberrating - I number them starting with 1\n",
    "segnum2 = 16\n",
    "\n",
    "# Segment aberrations are additive, so if you use a segment number twice, the\n",
    "# aberration will be applied twice!\n",
    "\n",
    "segnum_array = np.array([segnum1, segnum2])\n",
    "segnum_array -= 1    # Which is why I have to subtract one, because WebbPSF starts numbering them at 0\n",
    "\n",
    "zern_pair = 1  # Which Noll Zernike are we putting on the segments.\n",
    "\n",
    "# Extract the correct segment names from WebbPSF\n",
    "seg_array = []\n",
    "for i, senu in enumerate(segnum_array):\n",
    "    seg_array.append(wss_segs[senu].split('-')[0])\n",
    "\n",
    "seg_array = np.array(seg_array)\n",
    "print('Aberration used: {}'.format(nm_aber))\n",
    "print('Aberrated segments:', seg_array)\n",
    "print('Noll Zernike used:', zern_pair)"
   ]
  },
  {
   "cell_type": "code",
   "execution_count": null,
   "metadata": {},
   "outputs": [],
   "source": [
    "aber_wss_loop = np.zeros([nb_seg, 8])\n",
    "noll_as_wss = np.array([1, 3, 2, 5, 4, 6, 7, 8]) #, 11, 9, 10])    # reordering Noll Zernikes to WSS, for ease of use\n",
    "print('nm_aber: {}'.format(nm_aber))\n",
    "\n",
    "# Apply aberration to all sgements\n",
    "ote_coro.reset()   # Making sure there are no previous movements on the segments.\n",
    "ote_coro.zero()    # For now, ignore internal WFE.\n",
    "for i, nseg in enumerate(seg_array):\n",
    "    aber_wss_loop[segnum_array[i], noll_as_wss[zern_pair-1]-1] = nm_aber.to(u.m).value   # fill only the index for current Zernike, in meters\n",
    "\n",
    "    # Put Zernike on correct segments on OTE\n",
    "    ote_coro._apply_hexikes_to_seg(nseg, aber_wss_loop[segnum_array[i],:])\n",
    "\n",
    "# Display the OTE\n",
    "ote_coro.display_opd()\n",
    "plt.show()"
   ]
  },
  {
   "cell_type": "code",
   "execution_count": null,
   "metadata": {},
   "outputs": [],
   "source": [
    "# Calculate the PSF\n",
    "psf_coro_pair= nc_coro.calc_psf(fov_pixels=im_size_e2e, oversample=1, nlambda=1)\n",
    "psf_coro_pair = psf_coro_pair[0].data/normp                 # getting the oversampled extension\n",
    "\"\"\"   \n",
    "# Display the PSF\n",
    "plt.figure(figsize=(20, 10))\n",
    "plt.subplot(1, 2, 1)\n",
    "plt.imshow(psf_coro_pair, norm=LogNorm(), origin='lower')\n",
    "plt.title('Pair-wise aberrated coronagraphic PSF')\n",
    "plt.subplot(1, 2, 2)\n",
    "plt.imshow(util.zoom_cen(psf_coro_pair, box2), norm=LogNorm(), origin='lower')\n",
    "plt.title('Zoomed')\n",
    "plt.show()\n",
    "\"\"\"\n",
    "print('nm_aber: {}'.format(nm_aber))\n",
    "print('Aberrated segments:', seg_array)\n",
    "print('Noll Zernike used:', zern_pair)\n",
    "print(psf_coro_pair.shape)"
   ]
  },
  {
   "cell_type": "code",
   "execution_count": null,
   "metadata": {},
   "outputs": [],
   "source": [
    "# Create DH\n",
    "dh_area = util.create_dark_hole(psf_coro_pair, inner_wa, outer_wa, sampling)\n",
    "\n",
    "testim = psf_coro_pair * dh_area\n",
    "\n",
    "#\n",
    "contrast = np.mean(testim[np.where(testim != 0)])\n",
    "print(contrast)\n",
    "\n",
    "plt.imshow(testim)\n",
    "plt.show()"
   ]
  },
  {
   "cell_type": "code",
   "execution_count": null,
   "metadata": {},
   "outputs": [],
   "source": [
    "#segs_3_11_noll_1_coro = np.copy(psf_coro_pair)\n",
    "#segs_11_17_noll_1_coro = np.copy(psf_coro_pair)\n",
    "#segs_6_11_noll_1_coro = np.copy(psf_coro_pair)\n",
    "#segs_9_2_noll_1_coro = np.copy(psf_coro_pair)\n",
    "#segs_9_5_noll_1_coro = np.copy(psf_coro_pair)\n",
    "#segs_9_15_noll_1_coro = np.copy(psf_coro_pair)\n",
    "#segs_8_1_noll_1_coro = np.copy(psf_coro_pair)\n",
    "#segs_8_6_noll_1_coro = np.copy(psf_coro_pair)\n",
    "#segs_8_16_noll_1_coro = np.copy(psf_coro_pair)"
   ]
  },
  {
   "cell_type": "code",
   "execution_count": null,
   "metadata": {},
   "outputs": [],
   "source": [
    "# Save to central store\n",
    "save_dir1 = '/astro/opticslab1/PASTIS/jwst_data/E2E_pair_aberrations/2019-1-22-9h-53min'\n",
    "#util.write_fits(segs_3_11_noll_1_coro, os.path.join(save_dir1, 'segs_3_11_noll_1_coro.fits'))\n",
    "#util.write_fits(segs_11_17_noll_1_coro, os.path.join(save_dir1, 'segs_11_17_noll_1_coro.fits'))\n",
    "#util.write_fits(segs_6_11_noll_1_coro, os.path.join(save_dir1, 'segs_6_11_noll_1_coro.fits'))\n",
    "#util.write_fits(segs_9_2_noll_1_coro, os.path.join(save_dir1, 'segs_9_2_noll_1_coro.fits'))\n",
    "#util.write_fits(segs_9_5_noll_1_coro, os.path.join(save_dir1, 'segs_9_5_noll_1_coro.fits'))\n",
    "#util.write_fits(segs_9_15_noll_1_coro, os.path.join(save_dir1, 'segs_9_15_noll_1_coro.fits'))\n",
    "\n",
    "#util.write_fits(segs_8_1_noll_1_coro, os.path.join(save_dir1, 'segs_8_1_noll_1_coro.fits'))\n",
    "#util.write_fits(segs_8_6_noll_1_coro, os.path.join(save_dir1, 'segs_8_6_noll_1_coro.fits'))\n",
    "#util.write_fits(segs_8_16_noll_1_coro, os.path.join(save_dir1, 'segs_8_16_noll_1_coro.fits'))"
   ]
  },
  {
   "cell_type": "code",
   "execution_count": null,
   "metadata": {},
   "outputs": [],
   "source": [
    "# Read from central store\n",
    "\n",
    "# 1000 nm aberrations:\n",
    "read_dir1 = '/astro/opticslab1/PASTIS/jwst_data/E2E_pair_aberrations/2019-1-22-9h-53min_coro_piston_1000nm_pairs'\n",
    "\n",
    "# 100 nm aberrations\n",
    "#read_dir1 = '/astro/opticslab1/PASTIS/jwst_data/E2E_pair_aberrations/2019-1-25-16h-18min_piston_100nm'\n",
    "\n",
    "segs_3_11_noll_1_coro = fits.getdata(os.path.join(read_dir1, 'segs_3_11_noll_1.fits'))\n",
    "segs_11_17_noll_1_coro = fits.getdata(os.path.join(read_dir1, 'segs_11_17_noll_1.fits'))\n",
    "segs_6_11_noll_1_coro = fits.getdata(os.path.join(read_dir1, 'segs_6_11_noll_1.fits'))\n",
    "segs_9_2_noll_1_coro = fits.getdata(os.path.join(read_dir1, 'segs_9_2_noll_1.fits'))\n",
    "segs_9_5_noll_1_coro = fits.getdata(os.path.join(read_dir1, 'segs_9_5_noll_1.fits'))\n",
    "segs_9_15_noll_1_coro = fits.getdata(os.path.join(read_dir1, 'segs_9_15_noll_1.fits'))\n",
    "\n",
    "segs_8_1_noll_1_coro = fits.getdata(os.path.join(read_dir1, 'segs_8_1_noll_1.fits'))\n",
    "segs_8_6_noll_1_coro = fits.getdata(os.path.join(read_dir1, 'segs_8_6_noll_1.fits'))\n",
    "segs_8_16_noll_1_coro = fits.getdata(os.path.join(read_dir1, 'segs_8_16_noll_1.fits'))"
   ]
  },
  {
   "cell_type": "code",
   "execution_count": null,
   "metadata": {},
   "outputs": [],
   "source": [
    "# Have a look at the images\n",
    "\n",
    "# Gotta check how big the loaded images are!\n",
    "print('Loaded images shape:', segs_3_11_noll_1_coro.shape)\n",
    "print('im_size_e2e:', im_size_e2e)\n",
    "\n",
    "# If im_size_e2e is bigger than images we loaded, this won't work\n",
    "# and you have to define a box half-size manually for imwidth.\n",
    "boxw = int(im_size_e2e/2)\n",
    "boxw2 = boxw/2\n",
    "    \n",
    "if im_size_e2e < segs_3_11_noll_1_dir.shape[0]:\n",
    "    imwidth = bozw2\n",
    "else:\n",
    "    #raise Exception('! You have to set imwidth manually ! And then comment this line out.')\n",
    "    pass\n",
    "\n",
    "# Chose what image size (in pixels) we want to display\n",
    "imwidth = 50\n",
    "\n",
    "plt.figure(figsize=(18, 12))\n",
    "plt.suptitle('Pair-wise aberration in coronagraphpic WebbPSF images')\n",
    "plt.subplot(2, 3, 1)\n",
    "plt.imshow(util.zoom_cen(segs_3_11_noll_1_coro, imwidth), norm=LogNorm(), origin='lower')\n",
    "plt.title('Piston on segments 3 and 11')\n",
    "\n",
    "plt.subplot(2, 3, 2)\n",
    "plt.imshow(util.zoom_cen(segs_6_11_noll_1_coro, imwidth), norm=LogNorm(), origin='lower')\n",
    "plt.title('Piston on segments 6 and 11')\n",
    "\n",
    "plt.subplot(2, 3, 3)\n",
    "plt.imshow(util.zoom_cen(segs_11_17_noll_1_coro, imwidth), norm=LogNorm(), origin='lower')\n",
    "plt.title('Piston on segments 11 and 17')\n",
    "\n",
    "plt.subplot(2, 3, 4)\n",
    "plt.imshow(util.zoom_cen(segs_9_2_noll_1_coro, imwidth), norm=LogNorm(), origin='lower')\n",
    "plt.title('Piston on segments 9 and 2')\n",
    "\n",
    "plt.subplot(2, 3, 5)\n",
    "plt.imshow(util.zoom_cen(segs_9_5_noll_1_coro, imwidth), norm=LogNorm(), origin='lower')\n",
    "plt.title('Piston on segments 5 and 9')\n",
    "\n",
    "plt.subplot(2, 3, 6)\n",
    "plt.imshow(util.zoom_cen(segs_9_15_noll_1_coro, imwidth), norm=LogNorm(), origin='lower')\n",
    "plt.title('Piston on segments 9 and 15')\n",
    "\n",
    "plt.show()"
   ]
  },
  {
   "cell_type": "markdown",
   "metadata": {},
   "source": [
    "We're missing one intermediate baseline with these combinations though, because we have to skip the center segment. I want to know what that looks like though, so here's some more images."
   ]
  },
  {
   "cell_type": "code",
   "execution_count": null,
   "metadata": {},
   "outputs": [],
   "source": [
    "# Chose what image size (in pixels) we want to display\n",
    "imwidth = imwidth\n",
    "\n",
    "plt.figure(figsize=(18, 6))\n",
    "plt.suptitle('Pair-wise aberrated coronagraphpic WebbPSF images')\n",
    "plt.subplot(1, 3, 1)\n",
    "plt.imshow(util.zoom_cen(segs_8_1_noll_1_coro, imwidth), norm=LogNorm(), origin='lower')\n",
    "plt.title('Piston on segments 8 and 1')\n",
    "\n",
    "plt.subplot(1, 3, 2)\n",
    "plt.imshow(util.zoom_cen(segs_8_6_noll_1_coro, imwidth), norm=LogNorm(), origin='lower')\n",
    "plt.title('Piston on segments 8 and 6')\n",
    "\n",
    "plt.subplot(1, 3, 3)\n",
    "plt.imshow(util.zoom_cen(segs_8_16_noll_1_coro, imwidth), norm=LogNorm(), origin='lower')\n",
    "plt.title('Piston on segments 8 and 16')\n",
    "\n",
    "plt.show()"
   ]
  },
  {
   "cell_type": "markdown",
   "metadata": {},
   "source": [
    "## COMPARING ANALYTICAL, E2E DIRECT AND E2E CORONAGRAPHIC\n",
    "\n",
    "Display comparison for **piston** with the pairs **9-2**, **9-5** and **9-15**."
   ]
  },
  {
   "cell_type": "code",
   "execution_count": null,
   "metadata": {},
   "outputs": [],
   "source": [
    "# Chose what image size (in pixels) we want to display\n",
    "imwidth = imwidth\n",
    "\n",
    "plt.figure(figsize=(18, 18))\n",
    "plt.suptitle('Comparison of pair-wise aberration')\n",
    "plt.subplot(3, 3, 1)\n",
    "plt.imshow(util.zoom_cen(segs_9_2_noll_1_ana, imwidth), norm=LogNorm(), origin='lower')\n",
    "plt.title('Analytical - Piston on segments 9 and 2')\n",
    "\n",
    "plt.subplot(3, 3, 2)\n",
    "plt.imshow(util.zoom_cen(segs_9_5_noll_1_ana, imwidth), norm=LogNorm(), origin='lower')\n",
    "plt.title('Analytical - Piston on segments 5 and 9')\n",
    "\n",
    "plt.subplot(3, 3, 3)\n",
    "plt.imshow(util.zoom_cen(segs_9_15_noll_1_ana, imwidth), norm=LogNorm(), origin='lower')\n",
    "plt.title('Analytical - Piston on segments 9 and 15')\n",
    "\n",
    "plt.subplot(3, 3, 4)\n",
    "plt.imshow(util.zoom_cen(segs_9_2_noll_1_dir, imwidth), norm=LogNorm(), origin='lower')\n",
    "plt.title('Direct WebbPSF - Piston on segments 9 and 2')\n",
    "\n",
    "plt.subplot(3, 3, 5)\n",
    "plt.imshow(util.zoom_cen(segs_9_5_noll_1_dir, imwidth), norm=LogNorm(), origin='lower')\n",
    "plt.title('Direct WebbPSF - Piston on segments 5 and 9')\n",
    "\n",
    "plt.subplot(3, 3, 6)\n",
    "plt.imshow(util.zoom_cen(segs_9_15_noll_1_dir, imwidth), norm=LogNorm(), origin='lower')\n",
    "plt.title('Direct WebbPSF - Piston on segments 9 and 15')\n",
    "\n",
    "plt.subplot(3, 3, 7)\n",
    "plt.imshow(util.zoom_cen(segs_9_2_noll_1_coro, imwidth), norm=LogNorm(), origin='lower')\n",
    "plt.title('Coro WebbPSF - Piston on segments 9 and 2')\n",
    "\n",
    "plt.subplot(3, 3, 8)\n",
    "plt.imshow(util.zoom_cen(segs_9_5_noll_1_coro, imwidth), norm=LogNorm(), origin='lower')\n",
    "plt.title('Coro WebbPSF - Piston on segments 5 and 9')\n",
    "\n",
    "plt.subplot(3, 3, 9)\n",
    "plt.imshow(util.zoom_cen(segs_9_15_noll_1_coro, imwidth), norm=LogNorm(), origin='lower')\n",
    "plt.title('Coro WebbPSF - Piston on segments 9 and 15')\n",
    "\n",
    "plt.show()"
   ]
  },
  {
   "cell_type": "markdown",
   "metadata": {},
   "source": [
    "Display the comparison for **piston** with the pairs **8-1**, **8-6** and **8-16**."
   ]
  },
  {
   "cell_type": "code",
   "execution_count": null,
   "metadata": {},
   "outputs": [],
   "source": [
    "# Chose what image size (in pixels) we want to display\n",
    "imwidth = imwidth\n",
    "\n",
    "plt.figure(figsize=(18, 18))\n",
    "plt.suptitle('Comparison of pair-wise aberration')\n",
    "plt.subplot(3, 3, 1)\n",
    "plt.imshow(util.zoom_cen(segs_8_1_noll_1_ana, imwidth), norm=LogNorm(), origin='lower')\n",
    "plt.title('Analytical - Piston on segments 8 and 1')\n",
    "\n",
    "plt.subplot(3, 3, 2)\n",
    "plt.imshow(util.zoom_cen(segs_8_6_noll_1_ana, imwidth), norm=LogNorm(), origin='lower')\n",
    "plt.title('Analytical - Piston on segments 8 and 6')\n",
    "\n",
    "plt.subplot(3, 3, 3)\n",
    "plt.imshow(util.zoom_cen(segs_8_16_noll_1_ana, imwidth), norm=LogNorm(), origin='lower')\n",
    "plt.title('Analytical - Piston on segments 8 and 16')\n",
    "\n",
    "plt.subplot(3, 3, 4)\n",
    "plt.imshow(util.zoom_cen(segs_8_1_noll_1_dir, imwidth), norm=LogNorm(), origin='lower')\n",
    "plt.title('Direct WebbPSF - Piston on segments 8 and 1')\n",
    "\n",
    "plt.subplot(3, 3, 5)\n",
    "plt.imshow(util.zoom_cen(segs_8_6_noll_1_dir, imwidth), norm=LogNorm(), origin='lower')\n",
    "plt.title('Direct WebbPSF - Piston on segments 8 and 6')\n",
    "\n",
    "plt.subplot(3, 3, 6)\n",
    "plt.imshow(util.zoom_cen(segs_8_16_noll_1_dir, imwidth), norm=LogNorm(), origin='lower')\n",
    "plt.title('Direct WebbPSF - Piston on segments 6 and 16')\n",
    "\n",
    "plt.subplot(3, 3, 7)\n",
    "plt.imshow(util.zoom_cen(segs_8_1_noll_1_coro, imwidth), norm=LogNorm(), origin='lower')\n",
    "plt.title('Coro WebbPSF - Piston on segments 8 and 1')\n",
    "\n",
    "plt.subplot(3, 3, 8)\n",
    "plt.imshow(util.zoom_cen(segs_8_6_noll_1_coro, imwidth), norm=LogNorm(), origin='lower')\n",
    "plt.title('Coro WebbPSF - Piston on segments 8 and 69')\n",
    "\n",
    "plt.subplot(3, 3, 9)\n",
    "plt.imshow(util.zoom_cen(segs_8_16_noll_1_coro, imwidth), norm=LogNorm(), origin='lower')\n",
    "plt.title('Coro WebbPSF - Piston on segments 8 and 18')\n",
    "\n",
    "plt.show()"
   ]
  },
  {
   "cell_type": "code",
   "execution_count": null,
   "metadata": {},
   "outputs": [],
   "source": []
  }
 ],
 "metadata": {
  "kernelspec": {
   "display_name": "Python 3",
   "language": "python",
   "name": "python3"
  },
  "language_info": {
   "codemirror_mode": {
    "name": "ipython",
    "version": 3
   },
   "file_extension": ".py",
   "mimetype": "text/x-python",
   "name": "python",
   "nbconvert_exporter": "python",
   "pygments_lexer": "ipython3",
   "version": "3.7.3"
  }
 },
 "nbformat": 4,
 "nbformat_minor": 2
}
