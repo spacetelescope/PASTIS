{
 "cells": [
  {
   "cell_type": "markdown",
   "metadata": {},
   "source": [
    "# Aberrating the JWST segments on the OTE"
   ]
  },
  {
   "cell_type": "code",
   "execution_count": null,
   "metadata": {},
   "outputs": [],
   "source": [
    "import os\n",
    "import astropy.units as u\n",
    "import matplotlib\n",
    "%matplotlib inline\n",
    "from matplotlib.colors import LogNorm\n",
    "import matplotlib.pyplot as plt\n",
    "import numpy as np\n",
    "import webbpsf\n",
    "\n",
    "from pastis.config import CONFIG_PASTIS\n",
    "from pastis.e2e_simulators import webbpsf_imaging\n",
    "import pastis.util"
   ]
  },
  {
   "cell_type": "markdown",
   "metadata": {},
   "source": [
    "## Get your coro images"
   ]
  },
  {
   "cell_type": "code",
   "execution_count": null,
   "metadata": {},
   "outputs": [],
   "source": [
    "jwst = webbpsf_imaging.set_up_nircam()    # this returns a tuple of two: jwst[0] is the nircam object, jwst[1] its ote\n",
    "jwst[0].image_mask = CONFIG_PASTIS.get('JWST','focal_plane_mask')"
   ]
  },
  {
   "cell_type": "code",
   "execution_count": null,
   "metadata": {},
   "outputs": [],
   "source": [
    "plt.figure(figsize=(20,10))\n",
    "direct = jwst[0].calc_psf(nlambda=1, display=True)\n",
    "direct_psf = direct[0].data\n",
    "norm = direct_psf.max()"
   ]
  },
  {
   "cell_type": "code",
   "execution_count": null,
   "metadata": {},
   "outputs": [],
   "source": [
    "plt.figure(figsize=(10,10))\n",
    "plt.imshow(direct_psf, norm=LogNorm())\n",
    "plt.colorbar()"
   ]
  },
  {
   "cell_type": "code",
   "execution_count": null,
   "metadata": {},
   "outputs": [],
   "source": [
    "webbpsf_imaging.display_ote_and_psf(jwst[0], jwst[1], psf_vmax=1e-6, title='Unaberrated OTE')"
   ]
  },
  {
   "cell_type": "markdown",
   "metadata": {},
   "source": [
    "## Aberrate a segment pair"
   ]
  },
  {
   "cell_type": "code",
   "execution_count": null,
   "metadata": {},
   "outputs": [],
   "source": [
    "#jwst[1].zero(zero_original=True)\n",
    "jwst[1].zero()\n",
    "jwst[1].move_seg_local('B6', piston=100, trans_unit='nm')\n",
    "jwst[1].move_seg_local('B3', piston=100, trans_unit='nm')\n",
    "webbpsf_imaging.display_ote_and_psf(jwst[0], jwst[1], psf_vmax=1e-6, title='Tilt one segment')"
   ]
  },
  {
   "cell_type": "code",
   "execution_count": null,
   "metadata": {},
   "outputs": [],
   "source": []
  }
 ],
 "metadata": {
  "kernelspec": {
   "display_name": "Python 3",
   "language": "python",
   "name": "python3"
  },
  "language_info": {
   "codemirror_mode": {
    "name": "ipython",
    "version": 3
   },
   "file_extension": ".py",
   "mimetype": "text/x-python",
   "name": "python",
   "nbconvert_exporter": "python",
   "pygments_lexer": "ipython3",
   "version": "3.7.3"
  }
 },
 "nbformat": 4,
 "nbformat_minor": 2
}
