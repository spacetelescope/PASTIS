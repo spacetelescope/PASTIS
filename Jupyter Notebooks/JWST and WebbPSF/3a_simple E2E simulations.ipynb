{
 "cells": [
  {
   "cell_type": "markdown",
   "metadata": {},
   "source": [
    "# Simple imaging with WebbPSF\n",
    "\n",
    "Creating JWST PSFs documentation notbeook: https://github.com/spacetelescope/webbpsf/blob/develop/notebooks/WebbPSF_tutorial.ipynb\n",
    "\n",
    "Simulated OTE moves (aberrating segments): https://github.com/spacetelescope/webbpsf/blob/develop/notebooks/Simulated%20OTE%20Mirror%20Move%20Demo.ipynb\n",
    "\n",
    "All info about JWST imaging here:\n",
    "https://webbpsf.readthedocs.io/en/latest/jwst.html#\n",
    "\n",
    "NIRCam coronagraphy recommended strategies: https://jwst-docs.stsci.edu/near-infrared-camera/nircam-observing-strategies/nircam-coronagraphic-imaging-recommended-strategies\n",
    "\n",
    "JWST Inner Working Angles: https://jwst-docs.stsci.edu/methods-and-roadmaps/jwst-high-contrast-imaging/hci-supporting-technical-information/hci-inner-working-angle\n",
    "\n",
    "JWST High Contrast Imaging: https://jwst-docs.stsci.edu/methods-and-roadmaps/jwst-high-contrast-imaging"
   ]
  },
  {
   "cell_type": "code",
   "execution_count": null,
   "metadata": {},
   "outputs": [],
   "source": [
    "import os\n",
    "import astropy.units as u\n",
    "import matplotlib\n",
    "%matplotlib inline\n",
    "from matplotlib.colors import LogNorm\n",
    "import matplotlib.pyplot as plt\n",
    "import numpy as np\n",
    "import webbpsf\n",
    "\n",
    "from pastis.config import CONFIG_PASTIS\n",
    "from pastis.e2e_simulators import webbpsf_imaging\n",
    "import pastis.util"
   ]
  },
  {
   "cell_type": "markdown",
   "metadata": {},
   "source": [
    "## Display simple PSF after changing individual parameters in succession \n",
    "\n",
    "### Make NIRCam object and display optical train and PSF"
   ]
  },
  {
   "cell_type": "code",
   "execution_count": null,
   "metadata": {},
   "outputs": [],
   "source": [
    "nc = webbpsf.NIRCam()\n",
    "nc.include_si_wfe = False\n",
    "nc, ote = webbpsf.enable_adjustable_ote(nc)\n",
    "ote.zero()"
   ]
  },
  {
   "cell_type": "code",
   "execution_count": null,
   "metadata": {},
   "outputs": [],
   "source": [
    "plt.figure(figsize=(20,10))\n",
    "nc_psf = nc.calc_psf(nlambda=1, display=True)"
   ]
  },
  {
   "cell_type": "code",
   "execution_count": null,
   "metadata": {},
   "outputs": [],
   "source": [
    "# Display just PSF\n",
    "webbpsf.display_psf(nc_psf)"
   ]
  },
  {
   "cell_type": "markdown",
   "metadata": {},
   "source": [
    "### Set the filter"
   ]
  },
  {
   "cell_type": "code",
   "execution_count": null,
   "metadata": {},
   "outputs": [],
   "source": [
    "nc.filter = CONFIG_PASTIS.get('JWST', 'filter_name')\n",
    "plt.figure(figsize=(20,10))\n",
    "nc_filter = nc.calc_psf(nlambda=1, display=True)"
   ]
  },
  {
   "cell_type": "code",
   "execution_count": null,
   "metadata": {},
   "outputs": [],
   "source": [
    "# Display just PSF\n",
    "webbpsf.display_psf(nc_filter)"
   ]
  },
  {
   "cell_type": "markdown",
   "metadata": {},
   "source": [
    "### Set the Lyot stop (pupil mask)"
   ]
  },
  {
   "cell_type": "code",
   "execution_count": null,
   "metadata": {},
   "outputs": [],
   "source": [
    "nc.pupil_mask = CONFIG_PASTIS.get('JWST', 'pupil_plane_stop')\n",
    "plt.figure(figsize=(20,10))\n",
    "nc_pupil_mask = nc.calc_psf(nlambda=1, display=True)"
   ]
  },
  {
   "cell_type": "code",
   "execution_count": null,
   "metadata": {},
   "outputs": [],
   "source": [
    "# Display just PSF\n",
    "webbpsf.display_psf(nc_pupil_mask)"
   ]
  },
  {
   "cell_type": "markdown",
   "metadata": {},
   "source": [
    "### Set the FPM (image mask)"
   ]
  },
  {
   "cell_type": "code",
   "execution_count": null,
   "metadata": {},
   "outputs": [],
   "source": [
    "nc.image_mask = CONFIG_PASTIS.get('JWST', 'focal_plane_mask')\n",
    "plt.figure(figsize=(20,10))\n",
    "nc_image_mask = nc.calc_psf(nlambda=1, display=True)"
   ]
  },
  {
   "cell_type": "code",
   "execution_count": null,
   "metadata": {},
   "outputs": [],
   "source": [
    "# Display just PSF\n",
    "webbpsf.display_psf(nc_image_mask, vmin=1e-12, vmax=1e-6)"
   ]
  },
  {
   "cell_type": "markdown",
   "metadata": {},
   "source": [
    "## Get NIRCam object and its OTE form PASTIS E2E function"
   ]
  },
  {
   "cell_type": "code",
   "execution_count": null,
   "metadata": {},
   "outputs": [],
   "source": [
    "jwst = webbpsf_imaging.set_up_nircam()    # this returns a tuple of two: jwst[0] is the nircam object, jwst[1] its ote"
   ]
  },
  {
   "cell_type": "code",
   "execution_count": null,
   "metadata": {},
   "outputs": [],
   "source": [
    "plt.figure(figsize=(19, 19))\n",
    "jwst[0].display()"
   ]
  },
  {
   "cell_type": "markdown",
   "metadata": {},
   "source": [
    "### Make a direct PSF"
   ]
  },
  {
   "cell_type": "code",
   "execution_count": null,
   "metadata": {},
   "outputs": [],
   "source": [
    "plt.figure(figsize=(20,10))\n",
    "direct = jwst[0].calc_psf(nlambda=1, display=True)"
   ]
  },
  {
   "cell_type": "code",
   "execution_count": null,
   "metadata": {},
   "outputs": [],
   "source": [
    "plt.figure(figsize=(10,10))\n",
    "webbpsf.display_psf(direct)"
   ]
  },
  {
   "cell_type": "code",
   "execution_count": null,
   "metadata": {},
   "outputs": [],
   "source": [
    "direct_psf = direct[0].data\n",
    "plt.figure(figsize=(10,10))\n",
    "plt.imshow(direct_psf, norm=LogNorm())"
   ]
  },
  {
   "cell_type": "code",
   "execution_count": null,
   "metadata": {},
   "outputs": [],
   "source": [
    "norm = direct_psf.max()\n",
    "print(norm)"
   ]
  },
  {
   "cell_type": "markdown",
   "metadata": {},
   "source": [
    "### Make a coronagraphic PSF"
   ]
  },
  {
   "cell_type": "code",
   "execution_count": null,
   "metadata": {},
   "outputs": [],
   "source": [
    "jwst[0].image_mask = CONFIG_PASTIS.get('JWST', 'focal_plane_mask')\n",
    "plt.figure(figsize=(20,10))\n",
    "coro_image = jwst[0].calc_psf(nlambda=1, display=True)"
   ]
  },
  {
   "cell_type": "code",
   "execution_count": null,
   "metadata": {},
   "outputs": [],
   "source": [
    "coro_psf = coro_image[0].data / norm\n",
    "plt.figure(figsize=(10,10))\n",
    "plt.imshow(direct_psf, norm=LogNorm())\n",
    "plt.colorbar()"
   ]
  },
  {
   "cell_type": "markdown",
   "metadata": {},
   "source": [
    "### Create dark hole mask"
   ]
  },
  {
   "cell_type": "code",
   "execution_count": null,
   "metadata": {},
   "outputs": [],
   "source": [
    "iwa = CONFIG_PASTIS.getfloat('JWST', 'IWA')\n",
    "owa = CONFIG_PASTIS.getfloat('JWST', 'OWA')\n",
    "sampling = 8#CONFIG_PASTIS.getfloat('JWST', 'sampling')\n",
    "dh_mask = pastis.util.create_dark_hole(coro_psf, iwa, owa, sampling).astype('bool')\n",
    "\n",
    "plt.figure(figsize=(20,10))\n",
    "plt.subplot(1, 2, 1)\n",
    "plt.imshow(dh_mask)\n",
    "plt.subplot(1, 2, 2)\n",
    "plt.imshow(coro_psf * dh_mask)"
   ]
  },
  {
   "cell_type": "code",
   "execution_count": null,
   "metadata": {},
   "outputs": [],
   "source": [
    "# Measure average contrast in dark hole\n",
    "contrast_floor = util.dh_mean(coro_psf, dh_mask)\n",
    "print(contrast_floor)"
   ]
  },
  {
   "cell_type": "code",
   "execution_count": null,
   "metadata": {},
   "outputs": [],
   "source": []
  }
 ],
 "metadata": {
  "kernelspec": {
   "display_name": "Python 3",
   "language": "python",
   "name": "python3"
  },
  "language_info": {
   "codemirror_mode": {
    "name": "ipython",
    "version": 3
   },
   "file_extension": ".py",
   "mimetype": "text/x-python",
   "name": "python",
   "nbconvert_exporter": "python",
   "pygments_lexer": "ipython3",
   "version": "3.7.3"
  }
 },
 "nbformat": 4,
 "nbformat_minor": 2
}
