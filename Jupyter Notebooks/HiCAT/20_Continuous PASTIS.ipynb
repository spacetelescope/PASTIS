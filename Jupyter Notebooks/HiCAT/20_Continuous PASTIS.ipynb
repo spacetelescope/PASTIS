{
 "cells": [
  {
   "cell_type": "markdown",
   "metadata": {},
   "source": [
    "# Continuous PASTIS on HiCAT\n",
    "\n",
    "Checking and testing various functions for this implementation."
   ]
  },
  {
   "cell_type": "code",
   "execution_count": null,
   "metadata": {},
   "outputs": [],
   "source": [
    "# Imports\n",
    "import os\n",
    "from astropy.io import fits\n",
    "import hcipy\n",
    "import matplotlib.pyplot as plt\n",
    "import numpy as np\n",
    "\n",
    "import hicat\n",
    "from hicat.wfc_algorithms.wfsc_utils import actuator_grid, dm_actuators_to_surface\n",
    "\n",
    "from pastis.config import CONFIG_PASTIS\n",
    "from pastis.e2e_simulators.hicat_imaging import read_continuous_dm_maps_hicat"
   ]
  },
  {
   "cell_type": "markdown",
   "metadata": {},
   "source": [
    "## Boston DM command combinations\n",
    "\n",
    "I need to be able to poke each Boston DM actuator individually. There is the function `dm1.set_actuator()`, but that requires me to address each actuator by its coordinates (two numbers) rather by its index, which I would rather avoid due to compatibility with the rest of the PASTIS code. (It would probably be easy to do, but I don't want to add this conversion step if I can avoid it.)\n",
    "\n",
    "What I could do instead is do make a (2D or 1D) DM command like the ones I read in from fits from the strokemin solutions, and aplpy that.\n",
    "\n",
    "On top of this, I will need to aberrate each actuator on top of the strokemin solution for DM1 that I apply as part of my coronagraph, so by doing othe fits reading thing, I might be able to just add them, and apply the resulting DM command."
   ]
  },
  {
   "cell_type": "markdown",
   "metadata": {},
   "source": [
    "### Read and plot fits 2D commands"
   ]
  },
  {
   "cell_type": "code",
   "execution_count": null,
   "metadata": {},
   "outputs": [],
   "source": [
    "# Read the strokemin solution for DM1 and Dm2\n",
    "path_to_dh_solution = CONFIG_PASTIS.get('HiCAT', 'dm_maps_path')\n",
    "print(path_to_dh_solution)\n",
    "\n",
    "dm1_strokemin, dm2_strokemin = read_continuous_dm_maps_hicat(path_to_dh_solution)\n",
    "print(type(dm1_strokemin))\n",
    "print(dm1_strokemin.shape)"
   ]
  },
  {
   "cell_type": "code",
   "execution_count": null,
   "metadata": {},
   "outputs": [],
   "source": [
    "# Plot both DM maps\n",
    "\n",
    "plt.figure(figsize=(16, 8))\n",
    "plt.subplot(1, 2, 1)\n",
    "plt.imshow(dm1_strokemin)\n",
    "plt.title('DM1 stroke min solution, read from 2D command')\n",
    "\n",
    "plt.subplot(1, 2, 2)\n",
    "plt.imshow(dm2_strokemin)\n",
    "plt.title('DM2 stroke min solution, read from 2D command')"
   ]
  },
  {
   "cell_type": "markdown",
   "metadata": {},
   "source": [
    "The imported function `read_continuous_dm_maps_hicat()` reads the 2D fits arrays containig the DM maps. Let's make a function that reads the equivalent 1D commands."
   ]
  },
  {
   "cell_type": "markdown",
   "metadata": {},
   "source": [
    "### Cast a DM command array (952) into a 2D DM command\n",
    "\n",
    "I will be largely following what is implemented in the Jacobian generation from HiCAT to create my Dm commands that poke one individual actuator. Since the Jacobian script also implements a DM command input parameter around which to calculate the Jacobian, I can literally use the code from there.\n",
    "\n",
    "In the following few cells I am just seeing how to poke individual actuators."
   ]
  },
  {
   "cell_type": "code",
   "execution_count": null,
   "metadata": {},
   "outputs": [],
   "source": [
    "dm1_actuators = np.zeros(952)\n",
    "dm1_command = dm_actuators_to_surface(dm1_actuators).reshape(actuator_grid.shape)"
   ]
  },
  {
   "cell_type": "code",
   "execution_count": null,
   "metadata": {},
   "outputs": [],
   "source": [
    "plt.figure(figsize=(10, 10))\n",
    "plt.imshow(dm1_command)\n",
    "plt.title('DM1 command')"
   ]
  },
  {
   "cell_type": "code",
   "execution_count": null,
   "metadata": {},
   "outputs": [],
   "source": [
    "# Yes, this has the shape I need to apply to hicat_sim.dm1 - nice\n",
    "print(dm1_strokemin.shape)\n",
    "print(dm1_command.shape)"
   ]
  },
  {
   "cell_type": "code",
   "execution_count": null,
   "metadata": {},
   "outputs": [],
   "source": [
    "plt.figure(figsize=(16, 8))\n",
    "plt.subplot(1, 2, 1)\n",
    "plt.imshow(dm1_strokemin)\n",
    "\n",
    "plt.subplot(1, 2, 2)\n",
    "plt.imshow(dm1_command)"
   ]
  },
  {
   "cell_type": "code",
   "execution_count": null,
   "metadata": {},
   "outputs": [],
   "source": [
    "# Poke one actuator\n",
    "actuator_num = 384\n",
    "dm1_actuators[actuator_num] += 50 * 1e-9    # meters\n",
    "\n",
    "dm1_command_one_poke = dm_actuators_to_surface(dm1_actuators).reshape(actuator_grid.shape)"
   ]
  },
  {
   "cell_type": "code",
   "execution_count": null,
   "metadata": {},
   "outputs": [],
   "source": [
    "plt.figure(figsize=(10, 10))\n",
    "plt.imshow(dm1_command_one_poke)\n",
    "plt.title(f'DM1 command with actuator {actuator_num} poked')"
   ]
  },
  {
   "cell_type": "code",
   "execution_count": null,
   "metadata": {},
   "outputs": [],
   "source": [
    "plt.figure(figsize=(16, 8))\n",
    "plt.subplot(1, 2, 1)\n",
    "plt.imshow(dm1_strokemin)\n",
    "plt.colorbar()\n",
    "\n",
    "plt.subplot(1, 2, 2)\n",
    "plt.imshow(dm1_command_one_poke)\n",
    "plt.colorbar()"
   ]
  },
  {
   "cell_type": "markdown",
   "metadata": {},
   "source": [
    "### Combine two commands - one DM array and one full 2D command\n",
    "\n",
    "I think this means that I can create a 952 actuator array in which I poke the actuator I want, convert it to a 2D DM command and then add it to the stroke min solution. This co-added result is what I then need to load on my DM."
   ]
  },
  {
   "cell_type": "code",
   "execution_count": null,
   "metadata": {},
   "outputs": [],
   "source": [
    "final_command_to_load = dm1_strokemin + dm1_command_one_poke"
   ]
  },
  {
   "cell_type": "code",
   "execution_count": null,
   "metadata": {},
   "outputs": [],
   "source": [
    "plt.figure(figsize=(16, 8))\n",
    "plt.subplot(1, 2, 1)\n",
    "plt.imshow(dm1_strokemin)\n",
    "plt.title('Without extra poke')\n",
    "plt.colorbar()\n",
    "\n",
    "plt.subplot(1, 2, 2)\n",
    "plt.imshow(final_command_to_load)\n",
    "plt.title(f'Wiith actuator {actuator_num} poked')\n",
    "plt.colorbar()"
   ]
  },
  {
   "cell_type": "code",
   "execution_count": null,
   "metadata": {},
   "outputs": [],
   "source": []
  },
  {
   "cell_type": "code",
   "execution_count": null,
   "metadata": {},
   "outputs": [],
   "source": []
  }
 ],
 "metadata": {
  "kernelspec": {
   "display_name": "Python 3",
   "language": "python",
   "name": "python3"
  },
  "language_info": {
   "codemirror_mode": {
    "name": "ipython",
    "version": 3
   },
   "file_extension": ".py",
   "mimetype": "text/x-python",
   "name": "python",
   "nbconvert_exporter": "python",
   "pygments_lexer": "ipython3",
   "version": "3.7.3"
  }
 },
 "nbformat": 4,
 "nbformat_minor": 2
}
