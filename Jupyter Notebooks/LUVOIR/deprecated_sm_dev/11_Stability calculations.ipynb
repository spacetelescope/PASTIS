{
 "cells": [
  {
   "cell_type": "markdown",
   "metadata": {},
   "source": [
    "# Stability calculations\n",
    "\n",
    "## -- LUVOIR --\n",
    "\n",
    "In notebook 10, we calculated the PASTIS modes for all three currently designed apodizers for the LUVOIR A pupil. In this notebook, we will load the modes and calculate the maximum mode contributions $\\sigma$ and strability requirements $\\Delta \\sigma$.\n",
    "\n",
    "After that I also calculate the maximum segment contributions $\\mu$."
   ]
  },
  {
   "cell_type": "code",
   "execution_count": null,
   "metadata": {},
   "outputs": [],
   "source": [
    "# Imports\n",
    "import os\n",
    "import numpy as np\n",
    "import matplotlib.pyplot as plt\n",
    "from matplotlib.colors import LogNorm\n",
    "%matplotlib inline\n",
    "from astropy.io import fits\n",
    "import astropy.units as u\n",
    "import hcipy as hc"
   ]
  },
  {
   "cell_type": "markdown",
   "metadata": {},
   "source": [
    "<span style=\"color:red\"> *** Careful: *** </span>\n",
    "\n",
    "**The segmented mirror in this notebook is based on the `hcipy` commit `980f39c` specifically. The SegmentedMirror (now: SegmentedDeformableMirror) class has seen major upgrades, so this notebook is out of date with the hcipy master branch. However, if you check out said notebook, it should work fine.**\n",
    "\n",
    "**You should also be on the PASTIS commit `caf29ad`.**"
   ]
  },
  {
   "cell_type": "code",
   "execution_count": null,
   "metadata": {},
   "outputs": [],
   "source": [
    "from hcipy.optics.segmented_mirror import SegmentedMirror\n",
    "\n",
    "os.chdir('../../pastis/')\n",
    "import util as util\n",
    "from e2e_simulators.luvoir_imaging import LuvoirAPLC"
   ]
  },
  {
   "cell_type": "markdown",
   "metadata": {},
   "source": [
    "## Instantiate a simple SM for mode plotting\n",
    "\n",
    "I need to simplify this... I can make a child class like I did for the full LUVOIR simulator."
   ]
  },
  {
   "cell_type": "code",
   "execution_count": null,
   "metadata": {},
   "outputs": [],
   "source": [
    "# Load aperture files needed for SM\n",
    "nseg = 120\n",
    "wvln = 638e-9\n",
    "\n",
    "datadir = '/Users/ilaginja/Documents/LabWork/ultra/LUVOIR_delivery_May2019/'\n",
    "aper_path = 'inputs/TelAp_LUVOIR_gap_pad01_bw_ovsamp04_N1000.fits'\n",
    "aper_ind_path = 'inputs/TelAp_LUVOIR_gap_pad01_bw_ovsamp04_N1000_indexed.fits'\n",
    "aper_read = hc.read_fits(os.path.join(datadir, aper_path))\n",
    "aper_ind_read = hc.read_fits(os.path.join(datadir, aper_ind_path))\n",
    "\n",
    "pupil_grid = hc.make_pupil_grid(dims=aper_ind_read.shape[0], diameter=15)\n",
    "aper = hc.Field(aper_read.ravel(), pupil_grid)\n",
    "aper_ind = hc.Field(aper_ind_read.ravel(), pupil_grid)\n",
    "\n",
    "wf_aper = hc.Wavefront(aper, wvln)\n",
    "\n",
    "# Load segment positions from fits header\n",
    "hdr = fits.getheader(os.path.join(datadir, aper_ind_path))\n",
    "\n",
    "poslist = []\n",
    "for i in range(nseg):\n",
    "    segname = 'SEG' + str(i+1)\n",
    "    xin = hdr[segname + '_X']\n",
    "    yin = hdr[segname + '_Y']\n",
    "    poslist.append((xin, yin))\n",
    "    \n",
    "poslist = np.transpose(np.array(poslist))\n",
    "seg_pos = hc.CartesianGrid(poslist)"
   ]
  },
  {
   "cell_type": "code",
   "execution_count": null,
   "metadata": {},
   "outputs": [],
   "source": [
    "# Instantiate SM\n",
    "sm = SegmentedMirror(aper_ind, seg_pos)"
   ]
  },
  {
   "cell_type": "markdown",
   "metadata": {},
   "source": [
    "## Mode and eigenvalue units\n",
    "\n",
    "Since the matrices got generated normalized to an aberration of 1 nm, everything stemming from the matrix will be in units of **nanometers**. --> This is the desired behaviour of course and is yet to be confirmed, which is one of the goals of this notebook."
   ]
  },
  {
   "cell_type": "code",
   "execution_count": null,
   "metadata": {},
   "outputs": [],
   "source": [
    "eunit = 1e-9"
   ]
  },
  {
   "cell_type": "markdown",
   "metadata": {},
   "source": [
    "## Also instantiate a LUVOR telescope\n",
    "\n",
    "For cumulative contrast calculation.\n",
    "\n",
    "> **ATTENTION:** the variable `apodizer_design` has to be correct for the data we are reading with the variable `savedpath` further below!!!"
   ]
  },
  {
   "cell_type": "code",
   "execution_count": null,
   "metadata": {},
   "outputs": [],
   "source": [
    "# Instantiate LUVOIR\n",
    "sampling = 4\n",
    "apodizer_design = 'large'\n",
    "# This path is specific to the paths used in the LuvoirAPLC class\n",
    "optics_input = os.path.join(util.find_repo_location(), CONFIG_PASTIS.get('LUVOIR', 'optics_path_in_repo'))\n",
    "\n",
    "luvoir = LuvoirAPLC(optics_input, apodizer_design, sampling)"
   ]
  },
  {
   "cell_type": "code",
   "execution_count": null,
   "metadata": {},
   "outputs": [],
   "source": [
    "# Make reference image\n",
    "luvoir.flatten()\n",
    "psf_unaber, ref = luvoir.calc_psf(ref=True)\n",
    "norm = ref.max()"
   ]
  },
  {
   "cell_type": "code",
   "execution_count": null,
   "metadata": {},
   "outputs": [],
   "source": [
    "# Make dark hole\n",
    "dh_outer = hc.circular_aperture(2*luvoir.apod_dict[apodizer_design]['owa'] * luvoir.lam_over_d)(luvoir.focal_det)\n",
    "dh_inner = hc.circular_aperture(2*luvoir.apod_dict[apodizer_design]['iwa'] * luvoir.lam_over_d)(luvoir.focal_det)\n",
    "dh_mask = (dh_outer - dh_inner).astype('bool')\n",
    "\n",
    "plt.figure(figsize=(18, 6))\n",
    "plt.subplot(131)\n",
    "hc.imshow_field(psf_unaber/norm, norm=LogNorm())\n",
    "plt.subplot(132)\n",
    "hc.imshow_field(dh_mask)\n",
    "plt.subplot(133)\n",
    "hc.imshow_field(psf_unaber/norm, norm=LogNorm(), mask=dh_mask)"
   ]
  },
  {
   "cell_type": "code",
   "execution_count": null,
   "metadata": {},
   "outputs": [],
   "source": [
    "dh_intensity = psf_unaber/norm * dh_mask\n",
    "baseline_contrast = np.mean(dh_intensity[np.where(dh_intensity != 0)])\n",
    "print('contrast:', baseline_contrast)"
   ]
  },
  {
   "cell_type": "markdown",
   "metadata": {},
   "source": [
    "## Read eigenmodes and eigenvalues"
   ]
  },
  {
   "cell_type": "code",
   "execution_count": null,
   "metadata": {},
   "outputs": [],
   "source": [
    "# Which directory are we working in?\n",
    "savedpath = '/Users/ilaginja/Documents/data_from_repos/pastis_data/2019-8-07_002_1nm'    # small apodizer LUVOIR\n",
    "\n",
    "# Load eigenvalues - lowest first, highest at the end\n",
    "evals = np.loadtxt(os.path.join(savedpath, 'results', 'eigenvalues.txt'))\n",
    "print('evals.shape: {}'.format(evals.shape))\n",
    "\n",
    "# Load eigenmodes - piston value per segment per mode\n",
    "emodes = np.loadtxt(os.path.join(savedpath, 'results', 'pastis_modes.txt'))\n",
    "print('emodes.shape: {}'.format(emodes.shape))\n",
    "\n",
    "# Load eigenmodes (just for plotting) - mode images\n",
    "epics = hc.read_fits(os.path.join(savedpath, 'results', 'modes', 'fits', 'cube_modes.fits'))\n",
    "print('emodes.shape: {}'.format(epics.shape))"
   ]
  },
  {
   "cell_type": "markdown",
   "metadata": {},
   "source": [
    "Check that eigenmodes are in correct order and how to address them in the data cube."
   ]
  },
  {
   "cell_type": "code",
   "execution_count": null,
   "metadata": {},
   "outputs": [],
   "source": [
    "mode = 2   # We start numbering at 0 here, 0-35 (Python nunmbering!)\n",
    "\n",
    "sm.flatten()\n",
    "for seg, val in enumerate(emodes[:, mode]):\n",
    "    #print(val)\n",
    "    sm.set_segment(seg+1, eunit*val/2, 0, 0)\n",
    "\n",
    "# Propagate WF and display SM phase\n",
    "wf_sm = sm(wf_aper)\n",
    "\n",
    "hc.imshow_field(wf_sm.phase, cmap='RdBu')\n",
    "plt.colorbar()"
   ]
  },
  {
   "cell_type": "code",
   "execution_count": null,
   "metadata": {},
   "outputs": [],
   "source": [
    "# Show the values per segment of a specific mode and its rms\n",
    "modenr = 2\n",
    "print(emodes[:, modenr])\n",
    "print(np.std(emodes[:, modenr]))\n",
    "print(np.mean(emodes[:, modenr]))\n",
    "\n",
    "print(np.std(np.array([0, 1, 1])))\n",
    "print(np.sqrt((0**2 - (2/3)**2 + 1**2 - (2/3)**2 + 1**2 - (2/3)**2)/3))   # this is the std calculation by hand"
   ]
  },
  {
   "cell_type": "markdown",
   "metadata": {},
   "source": [
    "So we have `emodes[segments, modes]`."
   ]
  },
  {
   "cell_type": "markdown",
   "metadata": {},
   "source": [
    "## Stability requirements\n",
    "\n",
    "### Static contrast and static contribution\n",
    "\n",
    "According to Lucie's paper, we can get the maximum aberration $\\sigma_p$ we can allow per mode $p$ if we want to obtain a contrast $C$ directly from the according eigenvalue $\\lambda_p$.\n",
    "\n",
    "$$\\sigma_p = \\sqrt{\\frac{C_p}{\\lambda_p}}$$\n",
    "\n",
    "Where $C_p$ is the contrast contribution from mode $p$ only. For simplicity, we assume that all modes have the same contribution to the total contrast $C$, meaning\n",
    "\n",
    "$$C = C_1 + C_2 + ... + C_N$$\n",
    "\n",
    "with $N$ being the total number of modes. This also means\n",
    "\n",
    "$$C_p = \\frac{C}{N}$$\n",
    "\n",
    "Since we have one mode that has a really low eigenvalue and essentially on contribution, we can take that mode out and assume that the other $N-1$ modes bear all the contrast contributions, changing it to\n",
    "\n",
    "$$C_p = C_1 + C_2 + ... + C_{N-1}$$\n",
    "\n",
    "and\n",
    "\n",
    "$$C_p = \\frac{C}{N-1}$$\n",
    "\n",
    "So we can calculate the maximum ocntribution of a mode $\\sigma_p$ with\n",
    "\n",
    "$$\\sigma_p = \\sqrt{\\frac{C}{(N-1)\\lambda_p}}$$\n",
    "\n",
    "We have 120 segments, so $N=120$ and we will aim to achieve a static contrast of $C = 10^{-10}$.\n",
    "\n",
    "Note how we start numbering at 1 here, to stay consistent with our segment numbering, but when doing these things in Python we need to start numbering at 0.\n",
    "\n",
    "Skype with Lucie, have to include baseline contrast $C_0$:\n",
    "\n",
    "$$\\sigma_p = \\sqrt{\\frac{C-C_0}{(N-1)\\lambda_p}}$$"
   ]
  },
  {
   "cell_type": "code",
   "execution_count": null,
   "metadata": {},
   "outputs": [],
   "source": [
    "c_stat = 1e-10\n",
    "print('Static contrast: {}'.format(c_stat))\n",
    "print('N = {}'.format(nseg))"
   ]
  },
  {
   "cell_type": "code",
   "execution_count": null,
   "metadata": {},
   "outputs": [],
   "source": [
    "# Calculate single sigma - remember that we start numbering at 0 because of python\n",
    "def get_sigma(cstat, nseg, eigenval, c_zero):\n",
    "    sigma = np.sqrt((cstat - c_zero) / ((nseg-1)*eigenval))\n",
    "    return sigma"
   ]
  },
  {
   "cell_type": "code",
   "execution_count": null,
   "metadata": {},
   "outputs": [],
   "source": [
    "p = 1\n",
    "sigma_p = get_sigma(c_stat, nseg, evals[p], baseline_contrast)\n",
    "print(sigma_p)"
   ]
  },
  {
   "cell_type": "code",
   "execution_count": null,
   "metadata": {},
   "outputs": [],
   "source": [
    "# Do them all at once\n",
    "sigmas = get_sigma(c_stat, nseg, evals, baseline_contrast)\n",
    "print(sigmas)\n",
    "\n",
    "# Save them\n",
    "#np.savetxt(os.path.join(savedpath, 'results', 'sigmas.txt'), sigmas)"
   ]
  },
  {
   "cell_type": "code",
   "execution_count": null,
   "metadata": {},
   "outputs": [],
   "source": [
    "plt.figure(figsize=(15, 8))\n",
    "plt.plot(sigmas[1:])\n",
    "plt.semilogy()\n",
    "plt.title('Constraints per mode', size=15)\n",
    "plt.xlabel('Mode', size=15)\n",
    "plt.ylabel('Max mode contribution $\\sigma_p$ (nm)', size=15)"
   ]
  },
  {
   "cell_type": "markdown",
   "metadata": {},
   "source": [
    "### Dynamic contast and dynamic contribution\n",
    "\n",
    "We want $\\Delta C = 10^{-11}$. This \"dynamic contast\" is the error on the contrast $C$ which we want to limit, so we write it as\n",
    "\n",
    "$$\\Delta C = \\sqrt{\\Delta C_1^2 + \\Delta C_2^2 + ... \\Delta C_N^2} = \\sqrt{N \\Delta C_p^2} = \\sqrt{N} \\Delta C_p$$\n",
    "\n",
    "which also means\n",
    "\n",
    "$$\\Delta C_p = \\frac{C}{\\sqrt{N}}$$\n",
    "\n",
    "and then again because we discard that non-contributing mode, we actually have\n",
    "\n",
    "$$\\Delta C_p = \\frac{C}{\\sqrt{N-1}}$$\n",
    "\n",
    "For the $\\Delta \\sigma_p$ we can use the same equation like for the $\\sigma_p$, but we plug in $\\Delta C$ instead of $C$.\n",
    "\n",
    "$$\\Delta \\sigma_p = \\sqrt{\\frac{\\Delta C}{\\lambda_p}} = \\sqrt{\\frac{\\Delta C}{\\sqrt{(N-1)}\\ \\lambda_p}}$$"
   ]
  },
  {
   "cell_type": "code",
   "execution_count": null,
   "metadata": {},
   "outputs": [],
   "source": [
    "c_dyn = 1e-11\n",
    "\n",
    "# Calculate the Delta Cs\n",
    "def get_delta_sigma(cdyn, nseg, eigenval):\n",
    "    del_sigma = np.sqrt(cdyn / (np.sqrt(nseg-1)*eigenval))\n",
    "    return del_sigma"
   ]
  },
  {
   "cell_type": "code",
   "execution_count": null,
   "metadata": {},
   "outputs": [],
   "source": [
    "del_sigmas = get_delta_sigma(c_dyn, nseg, evals)\n",
    "print(del_sigmas)\n",
    "\n",
    "# Save them\n",
    "#np.savetxt(os.path.join(savedpath, 'results', 'delta_sigmas.txt'), del_sigmas)"
   ]
  },
  {
   "cell_type": "code",
   "execution_count": null,
   "metadata": {},
   "outputs": [],
   "source": [
    "plt.figure(figsize=(15, 8))\n",
    "plt.plot(del_sigmas[1:])\n",
    "plt.semilogy()\n",
    "plt.title('Stability per mode', size=15)\n",
    "plt.xlabel('Mode', size=15)\n",
    "plt.ylabel('Max mode contribution $\\Delta \\sigma_p$ (nm)', size=15)"
   ]
  },
  {
   "cell_type": "markdown",
   "metadata": {},
   "source": [
    "These are only slightly larger than the $\\sigma_p$.\n",
    "\n",
    "### Cumulative contrast plot\n",
    "\n",
    "I guess the only way I can think of right now to verify at least the $\\sigma_p$ is to make the same cumulative contrast like Fig. 11b in Lucie's paper. Let's do that."
   ]
  },
  {
   "cell_type": "markdown",
   "metadata": {},
   "source": [
    "Since I never get rid of the first mode, global piston with a ridiculously low eigenvalue, I will have a `Nan` in the sigma array, so when I sum up the OPD, I have to use `numpy.nansum()` instead of `numpy.nan()`.\n",
    "\n",
    "#### Cumulative contrast with E2E simulator"
   ]
  },
  {
   "cell_type": "code",
   "execution_count": null,
   "metadata": {},
   "outputs": [],
   "source": [
    "cont_cum_e2e = []\n",
    "for maxmode in range(len(evals)):\n",
    "\n",
    "    opd = np.nansum(emodes[:, :maxmode+1]*sigmas[:maxmode+1], axis=1)\n",
    "\n",
    "    luvoir.flatten()\n",
    "    for seg, val in enumerate(opd):\n",
    "        luvoir.set_segment(seg+1, eunit*val/2, 0, 0)\n",
    "        \n",
    "    # Get PSF from putting this OPD on the SM\n",
    "    psf = luvoir.calc_psf()\n",
    "\n",
    "    # Calculate the contrast from that PSF\n",
    "    dh_intensity = psf/norm * dh_mask\n",
    "    contrast = np.mean(dh_intensity[np.where(dh_intensity != 0)])\n",
    "    cont_cum_e2e.append(contrast)"
   ]
  },
  {
   "cell_type": "code",
   "execution_count": null,
   "metadata": {},
   "outputs": [],
   "source": [
    "# Save cumulative contrast plot from E2E simulator\n",
    "#np.savetxt(os.path.join(savedpath, 'results', 'cumulative_contrast_e2e.txt'), cont_cum_e2e)"
   ]
  },
  {
   "cell_type": "code",
   "execution_count": null,
   "metadata": {},
   "outputs": [],
   "source": [
    "# Plot the cumulative contrast from E2E simulator\n",
    "plt.figure(figsize=(16, 10))\n",
    "plt.plot(cont_cum_e2e)\n",
    "plt.title('E2E cumulative contrast for target $C$ = ' + str(c_stat), size=15)\n",
    "plt.xlabel('Mode number', size=15)\n",
    "plt.ylabel('Constrast', size=15)\n",
    "\n",
    "#plt.savefig(os.path.join(savedpath, 'results', 'cumulative_contrast_e2e.pdf'))"
   ]
  },
  {
   "cell_type": "code",
   "execution_count": null,
   "metadata": {},
   "outputs": [],
   "source": [
    "# Look at the images up to including the mode with number 'modenr'\n",
    "modenr = 1\n",
    "\n",
    "# Trying to different sigmas\n",
    "sigfix1 = sigmas[:modenr+1]*1\n",
    "sigfix2 = 0\n",
    "\n",
    "opd1 = np.nansum(emodes[:, :modenr+1]*sigfix1, axis=1)\n",
    "luvoir.flatten()\n",
    "for seg, val in enumerate(opd1):\n",
    "    luvoir.set_segment(seg+1, eunit*val/2, 0, 0)\n",
    "psf1 = luvoir.calc_psf()\n",
    "\n",
    "opd2 = np.nansum(emodes[:, :modenr+1]*sigfix2, axis=1)\n",
    "luvoir.flatten()\n",
    "for seg, val in enumerate(opd2):\n",
    "    luvoir.set_segment(seg+1, eunit*val/2, 0, 0)\n",
    "psf2 = luvoir.calc_psf()\n",
    "\n",
    "plt.figure(figsize=(18, 9))\n",
    "plt.subplot(1, 2, 1)\n",
    "hc.imshow_field(np.log10(psf1), vmin=2, vmax=12)\n",
    "plt.colorbar()\n",
    "plt.subplot(1, 2, 2)\n",
    "hc.imshow_field(np.log10(psf2), vmin=2, vmax=12)\n",
    "plt.colorbar()"
   ]
  },
  {
   "cell_type": "markdown",
   "metadata": {},
   "source": [
    "contast folowing mode amplitude quadratically? Fig. 12 in Lucie\n",
    "bigger contribution with higher target contrast?\n",
    "rerun with slightly maller FPM (by 0.5 lambda/D); more leakage"
   ]
  },
  {
   "cell_type": "code",
   "execution_count": null,
   "metadata": {},
   "outputs": [],
   "source": [
    "# Show the image difference\n",
    "hc.imshow_field(np.log10(psf2-psf1), vmin=2, vmax=12)\n",
    "plt.colorbar()"
   ]
  },
  {
   "cell_type": "markdown",
   "metadata": {},
   "source": [
    "#### Cumulative cotrast with numerical PASTIS matrix"
   ]
  },
  {
   "cell_type": "code",
   "execution_count": null,
   "metadata": {},
   "outputs": [],
   "source": [
    "# Read matrix\n",
    "matrix = fits.getdata(os.path.join(savedpath, 'matrix_numerical/PASTISmatrix_num_piston_Noll1.fits'))\n",
    "\n",
    "# Calculate cumulative contrast\n",
    "cont_cum_pastis = []\n",
    "for maxmode in range(len(evals)):\n",
    "    aber = np.nansum(emodes[:, :maxmode+1]*sigmas[:maxmode+1], axis=1)\n",
    "    aber *= u.nm\n",
    "    \n",
    "    contrast_matrix = util.pastis_contrast(aber, matrix) + baseline_contrast\n",
    "    cont_cum_pastis.append(contrast_matrix)"
   ]
  },
  {
   "cell_type": "code",
   "execution_count": null,
   "metadata": {},
   "outputs": [],
   "source": [
    "# Save cumulative contrast plot from numerical PASTIS matrix\n",
    "#np.savetxt(os.path.join(savedpath, 'results', 'cumulative_contrast_pastis.txt'), cont_cum_pastis)"
   ]
  },
  {
   "cell_type": "code",
   "execution_count": null,
   "metadata": {},
   "outputs": [],
   "source": [
    "plt.figure(figsize=(16, 10))\n",
    "plt.plot(cont_cum_pastis, label='PASTIS matrix')\n",
    "plt.plot(cont_cum_e2e, label='E2E')\n",
    "plt.title('Cumulative contrast for target $C$ = ' + str(c_stat), size=15)\n",
    "plt.xlabel('Mode number', size=15)\n",
    "plt.ylabel('Constrast', size=15)\n",
    "plt.legend()\n",
    "\n",
    "#plt.savefig(os.path.join(savedpath, 'results', 'cumulative_contrast_pastis.pdf'))"
   ]
  },
  {
   "cell_type": "markdown",
   "metadata": {},
   "source": [
    "Difference between this plot when matrix PASTIS and when E2E simulator - why?"
   ]
  },
  {
   "cell_type": "markdown",
   "metadata": {},
   "source": [
    "Sweeeeeet!!! :D I realized today that I have been using the medium apodizer design all along, but then remembered that form the three LUVOIR APLC designs, only the small one had a good accordance of its contrast calculation with the matrix compared with the E2E simulation - the medium and large designs still have a constant offset that I haven't figured out. So when I reverted back to using the small design, this essentially fell out of the sky haha."
   ]
  },
  {
   "cell_type": "markdown",
   "metadata": {},
   "source": [
    "## Checking normalisation\n",
    "\n",
    "$M$ is a mode and $p,q$ go from 1 to 120. The modes are normalized when their dot product is 1 for a mode with itself and 0 in all other cases:\n",
    "\n",
    "$$<M_p, M_q>_{pup} = \\begin{cases} \\mbox{0} & p \\neq q \\\\ \\mbox{1} & p = q \\end{cases}$$\n",
    "\n",
    "The image plane modes $\\mathscr{C}(M_p)$ (= a pupil plane mode $M$ propagated through the coronagraph) should be orthogonal and the diagonal of this matrix filled with the eigenvaues $\\Lambda_p$:\n",
    "\n",
    "$$<\\mathscr{C}(M_p), \\mathscr{C}(M_q)>_{DH} = \\begin{cases} \\mbox{0} & p \\neq q \\\\ \\Lambda_p & p = q \\end{cases}$$\n",
    "\n",
    "### Check orthonormality for pupil modes $M_p$"
   ]
  },
  {
   "cell_type": "code",
   "execution_count": null,
   "metadata": {},
   "outputs": [],
   "source": [
    "# Try this for a random pair of modes\n",
    "modedot1 = 1\n",
    "modedot2 = 1\n",
    "\n",
    "res = np.dot(emodes[:, modedot1], emodes[:, modedot2])\n",
    "print(res)"
   ]
  },
  {
   "cell_type": "code",
   "execution_count": null,
   "metadata": {},
   "outputs": [],
   "source": [
    "# Do this for all modes\n",
    "pupildot = np.zeros((120, 120))\n",
    "\n",
    "for dotrun in range(len(evals)):\n",
    "    for dotforrest in range(len(evals)):\n",
    "        \n",
    "        pupildot[dotrun, dotforrest] = np.dot(emodes[:, dotrun], emodes[:, dotforrest])"
   ]
  },
  {
   "cell_type": "code",
   "execution_count": null,
   "metadata": {},
   "outputs": [],
   "source": [
    "plt.figure(figsize=(10, 10))\n",
    "plt.imshow(pupildot)"
   ]
  },
  {
   "cell_type": "code",
   "execution_count": null,
   "metadata": {},
   "outputs": [],
   "source": [
    "print('Sum of entire matrix: {}'.format(np.sum(pupildot)))\n",
    "ab = 34\n",
    "cd = 92\n",
    "print('Off-axis element ({},{}): {}'.format(ab, cd, pupildot[ab, cd]))\n",
    "on = 72\n",
    "print('On-axis element ({},{}): {}'.format(on, on, pupildot[on, on]))"
   ]
  },
  {
   "cell_type": "markdown",
   "metadata": {},
   "source": [
    "The pupil modes are orthonormal when using the PASTIS matrix.\n",
    "\n",
    "How about the full pupil images?"
   ]
  },
  {
   "cell_type": "code",
   "execution_count": null,
   "metadata": {},
   "outputs": [],
   "source": [
    "# Load the pupil modes\n",
    "pupil_modes = fits.getdata(os.path.join(savedpath, 'results', 'modes', 'fits', 'cube_modes.fits'))\n",
    "print('Shape: {}'.format(pupil_modes.shape))"
   ]
  },
  {
   "cell_type": "code",
   "execution_count": null,
   "metadata": {},
   "outputs": [],
   "source": [
    "# This takes a little while\n",
    "haha = np.zeros((120, 120))\n",
    "for dotrun in range(len(evals)):\n",
    "    for dotforrest in range(len(evals)):\n",
    "        \n",
    "        haha[dotrun, dotforrest] = np.vdot(pupil_modes[dotrun], pupil_modes[dotforrest])"
   ]
  },
  {
   "cell_type": "code",
   "execution_count": null,
   "metadata": {},
   "outputs": [],
   "source": [
    "print(haha.shape)\n",
    "print(haha)\n",
    "# Divide by numbers in each segment?\n",
    "plt.figure(figsize=(10, 10))\n",
    "plt.imshow(haha)\n",
    "plt.title('Pupil plane orthogonality')\n",
    "plt.colorbar()"
   ]
  },
  {
   "cell_type": "code",
   "execution_count": null,
   "metadata": {},
   "outputs": [],
   "source": [
    "print('Sum of entire matrix: {}'.format(np.sum(haha)))\n",
    "ab = 34\n",
    "cd = 92\n",
    "print('Off-axis element ({},{}): {}'.format(ab, cd, haha[ab, cd]))\n",
    "on = 72\n",
    "print('On-axis element ({},{}): {}'.format(on, on, haha[on, on]))"
   ]
  },
  {
   "cell_type": "markdown",
   "metadata": {},
   "source": [
    "I might have to divide by the number of pixels in each segment or something like that in order to actually get the ones and zeros. But the shown matrix clearly confirms that they're at least orthogonal."
   ]
  },
  {
   "cell_type": "code",
   "execution_count": null,
   "metadata": {},
   "outputs": [],
   "source": [
    "# Display one loaded pupil mode\n",
    "plt.imshow(pupil_modes[25])\n",
    "plt.colorbar()\n",
    "# Not sure what the colorbar is here"
   ]
  },
  {
   "cell_type": "code",
   "execution_count": null,
   "metadata": {},
   "outputs": [],
   "source": [
    "# Not sure what I am doing here, trying to reproduce something Laurent did I think\n",
    "pup_area = np.where(pupil_modes[0] != 0)   # this doesn't actually make a difference\n",
    "def normpastis(mode):\n",
    "    norm = np.sqrt(np.sum(mode[pup_area]**2))\n",
    "    return norm\n",
    "\n",
    "print(normpastis(pupil_modes[1]))"
   ]
  },
  {
   "cell_type": "markdown",
   "metadata": {},
   "source": [
    "### Create or read image modes $\\mathscr{C}(M_p)$"
   ]
  },
  {
   "cell_type": "code",
   "execution_count": null,
   "metadata": {},
   "outputs": [],
   "source": [
    "# Create them\n",
    "all_psfs = []\n",
    "all_efields = []\n",
    "\n",
    "for gump in range(len(evals)):\n",
    "    print('Working on mode {}/{}'.format(gump+1, len(evals)))\n",
    "    luvoir.flatten()\n",
    "    for seg, val in enumerate(emodes[:, gump]):\n",
    "        luvoir.set_segment(seg+1, eunit*val/2, 0, 0)\n",
    "    psf, ref, inter = luvoir.calc_psf(ref=True, return_intermediate='efield')\n",
    "    # Everything gets returns as an E-field here, the coro PSF, the no-FPM reference and the intermediate planes.\n",
    "    # Except for the intensity image right after the FPM.\n",
    "    \n",
    "    # Save as fits\n",
    "    #hc.write_fits(psf, os.path.join(savedpath, 'results', 'modes', 'image_modes', 'mode'+str(gump+1)+'.fits'))\n",
    "    \n",
    "    all_psfs.append(psf)\n",
    "    all_efields.append(inter)"
   ]
  },
  {
   "cell_type": "code",
   "execution_count": null,
   "metadata": {},
   "outputs": [],
   "source": [
    "# Read them\n",
    "# ..."
   ]
  },
  {
   "cell_type": "code",
   "execution_count": null,
   "metadata": {},
   "outputs": [],
   "source": [
    "# Check the intermediates\n",
    "print(type(all_efields))\n",
    "print(type(all_efields[0]))\n",
    "print(all_efields[0].keys())\n",
    "print(type(all_efields[0]['after_lyot']))"
   ]
  },
  {
   "cell_type": "code",
   "execution_count": null,
   "metadata": {},
   "outputs": [],
   "source": [
    "# Check one of the PSFs\n",
    "print(len(all_psfs))\n",
    "plt.figure(figsize=(10, 10))\n",
    "hc.imshow_field(all_psfs[67].intensity/norm, norm=LogNorm())\n",
    "plt.colorbar()"
   ]
  },
  {
   "cell_type": "code",
   "execution_count": null,
   "metadata": {},
   "outputs": [],
   "source": [
    "# With DH mask\n",
    "hc.imshow_field(all_psfs[67].intensity/norm * dh_mask, norm=LogNorm())\n",
    "plt.colorbar()"
   ]
  },
  {
   "cell_type": "code",
   "execution_count": null,
   "metadata": {},
   "outputs": [],
   "source": [
    "# Keep it in terms of E-field\n",
    "print(type(all_psfs[0].electric_field))\n",
    "print(all_psfs[0].electric_field.shape)\n",
    "print(all_psfs[0].electric_field)"
   ]
  },
  {
   "cell_type": "markdown",
   "metadata": {},
   "source": [
    "### Checking the orthogonality for image modes $\\mathscr{C}(M_p)$"
   ]
  },
  {
   "cell_type": "code",
   "execution_count": null,
   "metadata": {},
   "outputs": [],
   "source": [
    "# Try this for a random pair of modes\n",
    "imdot1 = 50\n",
    "imdot2 = 50\n",
    "\n",
    "res = np.vdot((all_psfs[imdot1].intensity/norm * dh_mask), (all_psfs[imdot2].intensity/norm * dh_mask))\n",
    "print(res)"
   ]
  },
  {
   "cell_type": "code",
   "execution_count": null,
   "metadata": {},
   "outputs": [],
   "source": [
    "dhdh = np.zeros((120, 120))\n",
    "mean_int = []\n",
    "for dotrun in range(len(evals)):\n",
    "    inten = all_psfs[dotrun].intensity/norm * dh_mask\n",
    "    mean_int.append(np.mean(inten[np.where(inten != 0)]))\n",
    "    \n",
    "    for dotforrest in range(len(evals)):\n",
    "        \n",
    "        dhdh[dotrun, dotforrest] = np.vdot(all_psfs[dotrun].intensity/norm * dh_mask, all_psfs[dotforrest].intensity/norm * dh_mask)"
   ]
  },
  {
   "cell_type": "code",
   "execution_count": null,
   "metadata": {},
   "outputs": [],
   "source": [
    "# Plot the mean contrast in the DH as function of mode\n",
    "plt.plot(mean_int)\n",
    "plt.semilogy()\n",
    "plt.ylabel('Mean contrast in DH')\n",
    "plt.xlabel('Mode number')"
   ]
  },
  {
   "cell_type": "code",
   "execution_count": null,
   "metadata": {},
   "outputs": [],
   "source": [
    "print(dhdh.shape)\n",
    "print(dhdh)\n",
    "plt.figure(figsize=(10, 10))\n",
    "plt.imshow(dhdh)\n",
    "plt.title('Image plane orthogonality')\n",
    "plt.colorbar()"
   ]
  },
  {
   "cell_type": "markdown",
   "metadata": {},
   "source": [
    "## Segment based constraints\n",
    "\n",
    "Instead of getting a maximum allowable aberration amplitud eper mode, we'll get them per segment now.\n",
    "\n",
    "From Laurent:\n",
    "\n",
    "$$\\epsilon_{S_q} = \\sum_{p} a_{p,q}^2\\epsilon_p$$\n",
    "\n",
    "I think in my world of variables this means ($P$ being the matrix holding the eigenmodes (eigenvectors), which is `emodes[segments, modes]`):\n",
    "\n",
    "$$\\mu_q = \\sum_{p} P_{p,q}^2 \\sigma_p$$\n",
    "\n",
    "Remember: `emodes[segments, modes]`"
   ]
  },
  {
   "cell_type": "code",
   "execution_count": null,
   "metadata": {},
   "outputs": [],
   "source": [
    "print(emodes.shape)\n",
    "print(sigmas.shape)\n",
    "\n",
    "mus = np.zeros_like(sigmas)\n",
    "print(mus.shape)\n",
    "\n",
    "# For one segment\n",
    "segm = 3\n",
    "test = emodes[segm,:]**2 * sigmas\n",
    "print(np.nansum(test))\n",
    "\n",
    "# For all segments\n",
    "for i in range(len(sigmas)):\n",
    "    mus[i] = np.nansum(emodes[i,:]**2 * sigmas)"
   ]
  },
  {
   "cell_type": "code",
   "execution_count": null,
   "metadata": {},
   "outputs": [],
   "source": [
    "print('Units are nanometers')\n",
    "print('Min: {}'.format(np.min(mus)))\n",
    "print('Max: {}'.format(np.max(mus)))\n",
    "print(mus)"
   ]
  },
  {
   "cell_type": "code",
   "execution_count": null,
   "metadata": {},
   "outputs": [],
   "source": [
    "# Plot that\n",
    "sm.flatten()\n",
    "for seg, val in enumerate(mus):\n",
    "    #print(val)\n",
    "    sm.set_segment(seg+1, 1e-9*val/2, 0, 0)\n",
    "\n",
    "# Propagate WF and display SM phase\n",
    "wf_sm = sm(wf_aper)\n",
    "\n",
    "plt.figure(figsize=(10, 10))\n",
    "hc.imshow_field(wf_sm.phase / wf_sm.wavenumber, cmap='Blues')   # in meters\n",
    "plt.colorbar()"
   ]
  },
  {
   "cell_type": "markdown",
   "metadata": {},
   "source": [
    "### PDF of contrast for segment requirements $\\mu$\n",
    "\n",
    "#### With the E2E simulator"
   ]
  },
  {
   "cell_type": "code",
   "execution_count": null,
   "metadata": {},
   "outputs": [],
   "source": [
    "# Create as many random numbers between 0 and 1 as we have segments\n",
    "rand = np.random.random(nseg)\n",
    "print(rand.shape)"
   ]
  },
  {
   "cell_type": "code",
   "execution_count": null,
   "metadata": {},
   "outputs": [],
   "source": [
    "# Multiply each segment mu by one of these random numbers,\n",
    "# put that on the LUVOIR SM and calculate the PSF.\n",
    "# Be careful with units: the mus are in nanometers, the LUVOIR\n",
    "# simulator needs it in meters though, plus in surface rather\n",
    "# than in OPD (hence the division by 2)\n",
    "\n",
    "luvoir.flatten()\n",
    "for seg, (mu, randval) in enumerate(zip(mus, rand)):\n",
    "    #print(seg, mu, randval)\n",
    "    #luvoir.set_segment(seg+1, 6e-9*mu*randval/2, 0, 0)    # fudge factor of 6? maybe 2*pi?\n",
    "    luvoir.set_segment(seg+1, 1e-9*mu/2, 0, 0)\n",
    "psf = luvoir.calc_psf(display_intermediate=True)"
   ]
  },
  {
   "cell_type": "code",
   "execution_count": null,
   "metadata": {},
   "outputs": [],
   "source": [
    "# Display the PSF next to the reference PSF\n",
    "plt.figure(figsize=(16, 8))\n",
    "plt.subplot(1, 2, 1)\n",
    "hc.imshow_field(psf/norm, norm=LogNorm())\n",
    "plt.title('PSF with randomly strong $\\mu$', size=15)\n",
    "plt.colorbar()\n",
    "\n",
    "plt.subplot(1, 2, 2)\n",
    "hc.imshow_field(psf_unaber/norm, norm=LogNorm())\n",
    "plt.title('Unaberrated PSF', size=15)\n",
    "plt.colorbar()"
   ]
  },
  {
   "cell_type": "code",
   "execution_count": null,
   "metadata": {},
   "outputs": [],
   "source": [
    "# Measure mean contrast\n",
    "dh_rand = psf/norm * dh_mask\n",
    "rand_contrast = np.mean(dh_rand[np.where(dh_rand != 0)])\n",
    "print('contrast:', rand_contrast)"
   ]
  },
  {
   "cell_type": "markdown",
   "metadata": {},
   "source": [
    "Now put all of this into an extra loop layer and repeat N times (N = 1000?)"
   ]
  },
  {
   "cell_type": "code",
   "execution_count": null,
   "metadata": {},
   "outputs": [],
   "source": [
    "n_repeat = 100\n",
    "#\"\"\"\n",
    "all_contr_rand = []\n",
    "for rep in range(n_repeat):\n",
    "    print('Realization {}/{}'.format(rep+1, n_repeat))\n",
    "    \n",
    "    # Create as many random numbers between 0 and 1 as we have segments\n",
    "    rand = np.random.random(nseg)\n",
    "    \n",
    "    # Multiply each segment mu by one of these random numbers,\n",
    "    # put that on the LUVOIR SM and calculate the PSF.\n",
    "    luvoir.flatten()\n",
    "    for seg, (mu, randval) in enumerate(zip(mus, rand)):\n",
    "        luvoir.set_segment(seg+1, 1e-9*mu*randval/2, 0, 0)\n",
    "    psf, ref = luvoir.calc_psf(ref=True)\n",
    "    \n",
    "    # Measure mean contrast after removing coronagraph floor\n",
    "    dh_rand = (psf/norm - psf_unaber/norm) * dh_mask\n",
    "    rand_contrast = np.mean(dh_rand[np.where(dh_rand != 0)])\n",
    "    all_contr_rand.append(rand_contrast)\n",
    "    #print('Contrast:', rand_contrast)\n",
    "#\"\"\""
   ]
  },
  {
   "cell_type": "code",
   "execution_count": null,
   "metadata": {},
   "outputs": [],
   "source": [
    "# Plot as histogram\n",
    "plt.figure(figsize=(16, 10))\n",
    "n, bins, patches = plt.hist(all_contr_rand, 100)\n",
    "plt.title('E2E raw contrast', size=20)\n",
    "plt.xlabel('Mean contrast in DH', size=20)\n",
    "plt.ylabel('PDF', size=20)\n",
    "plt.tick_params(axis='both', which='both', length=6, width=2, labelsize=25)"
   ]
  },
  {
   "cell_type": "markdown",
   "metadata": {},
   "source": [
    "#### With the matrix calculation"
   ]
  },
  {
   "cell_type": "code",
   "execution_count": null,
   "metadata": {},
   "outputs": [],
   "source": [
    "# Create as many random numbers between 0 and 1 as we have segments\n",
    "rand = np.random.normal(loc_mu, sigma, nseg)\n",
    "print(rand.shape)"
   ]
  },
  {
   "cell_type": "code",
   "execution_count": null,
   "metadata": {},
   "outputs": [],
   "source": [
    "# Multiply each segment mu by one of these random numbers\n",
    "# and calculate the mean contrast with matrix PASTIS\n",
    "\n",
    "# Read matrix\n",
    "matrix = fits.getdata(os.path.join(savedpath, 'matrix_numerical/PASTISmatrix_num_piston_Noll1.fits'))\n",
    "\n",
    "# Multiply all mus by a random number\n",
    "aber = mus * rand * u.nm\n",
    "print(aber.shape)\n",
    "print(aber)\n",
    "\n",
    "# Calculate contrast\n",
    "contrast_matrix = util.pastis_contrast(aber, matrix) + baseline_contrast\n",
    "print(contrast_matrix)\n",
    "#cont_cum_pastis.append(contrast_matrix)\n",
    "\n",
    "# not there yet"
   ]
  },
  {
   "cell_type": "markdown",
   "metadata": {},
   "source": [
    "Add the outer loop and do this N times."
   ]
  },
  {
   "cell_type": "code",
   "execution_count": null,
   "metadata": {},
   "outputs": [],
   "source": [
    "n_repeat = 1000\n",
    "#\"\"\"\n",
    "all_contr_rand_ma = []\n",
    "for rep in range(n_repeat):\n",
    "    print('Realization {}/{}'.format(rep+1, n_repeat))\n",
    "    \n",
    "    # Create as many random numbers between 0 and 1 as we have segments\n",
    "    rand = np.random.random(nseg)\n",
    "    \n",
    "    # Calculate mean contrast\n",
    "    rand_contrast = util.pastis_contrast(mus*rand*u.nm, matrix)\n",
    "    all_contr_rand_ma.append(rand_contrast)\n",
    "    #print('Contrast:', rand_contrast)\n",
    "#\"\"\""
   ]
  },
  {
   "cell_type": "code",
   "execution_count": null,
   "metadata": {},
   "outputs": [],
   "source": [
    "# Plot as histogram\n",
    "plt.figure(figsize=(16, 10))\n",
    "n, bins, patches = plt.hist(all_contr_rand_ma, 250)"
   ]
  },
  {
   "cell_type": "code",
   "execution_count": null,
   "metadata": {},
   "outputs": [],
   "source": []
  },
  {
   "cell_type": "code",
   "execution_count": null,
   "metadata": {},
   "outputs": [],
   "source": []
  }
 ],
 "metadata": {
  "kernelspec": {
   "display_name": "Python 3",
   "language": "python",
   "name": "python3"
  },
  "language_info": {
   "codemirror_mode": {
    "name": "ipython",
    "version": 3
   },
   "file_extension": ".py",
   "mimetype": "text/x-python",
   "name": "python",
   "nbconvert_exporter": "python",
   "pygments_lexer": "ipython3",
   "version": "3.7.8"
  }
 },
 "nbformat": 4,
 "nbformat_minor": 2
}
