{
 "cells": [
  {
   "cell_type": "markdown",
   "metadata": {},
   "source": [
    "# Testing numerical matrix generation\n",
    "\n",
    "## -- LUVOIR --"
   ]
  },
  {
   "cell_type": "code",
   "execution_count": null,
   "metadata": {},
   "outputs": [],
   "source": [
    "# Imports\n",
    "import os\n",
    "import time\n",
    "import numpy as np\n",
    "from astropy.io import fits\n",
    "import matplotlib.pyplot as plt\n",
    "%matplotlib inline\n",
    "import hcipy as hc\n",
    "\n",
    "os.chdir('../../pastis/')\n",
    "from config import CONFIG_INI\n",
    "import util_pastis as util"
   ]
  },
  {
   "cell_type": "markdown",
   "metadata": {},
   "source": [
    "<span style=\"color:red\"> *** Careful: *** </span>\n",
    "\n",
    "**The segmented mirror in this notebook is based on the `hcipy` commit `980f39c` specifically. The SegmentedMirror (now: SegmentedDeformableMirror) class has seen major upgrades, so this notebook is out of date with the hcipy master branch. However, if you check out said notebook, it should work fine.**\n",
    "\n",
    "**You should also be on the PASTIS commit `caf29ad`.**"
   ]
  },
  {
   "cell_type": "code",
   "execution_count": null,
   "metadata": {},
   "outputs": [],
   "source": [
    "from luvoir_imaging import SegmentedTelescopeAPLC"
   ]
  },
  {
   "cell_type": "markdown",
   "metadata": {},
   "source": [
    "### Parameters"
   ]
  },
  {
   "cell_type": "code",
   "execution_count": null,
   "metadata": {},
   "outputs": [],
   "source": [
    "# System parameters\n",
    "resDir = os.path.join(CONFIG_INI.get('local', 'local_data_path'), 'active', 'matrix_numerical')\n",
    "datadir = '/Users/ilaginja/Documents/LabWork/ultra/LUVOIR_delivery_May2019/'\n",
    "zern_number = CONFIG_INI.getint('calibration', 'zernike')\n",
    "zern_mode = util.ZernikeMode(zern_number)                       # Create Zernike mode object for easier handling\n",
    "\n",
    "# General telescope parameters\n",
    "nb_seg = 120\n",
    "wvln = 638e-9  # m\n",
    "diam = 15.  # m\n",
    "nm_aber = 1e-9   # m\n",
    "\n",
    "# Image system parameters\n",
    "im_lamD = 30  # image size in lambda/D\n",
    "sampling = 4\n",
    "\n",
    "# Coronagraph parameters\n",
    "# The LUVOIR STDT delivery in May 2018 included three different apodizers\n",
    "# we can work with, so I will implement an easy way of making a choice between them.\n",
    "design = 'medium'\n",
    "datadir = '/Users/ilaginja/Documents/LabWork/ultra/LUVOIR_delivery_May2019/'\n",
    "apod_dict = {'small': {'pxsize': 1000, 'fpm_rad': 3.5, 'fpm_px': 150, 'iwa': 3.4, 'owa': 12.,\n",
    "                       'fname': '0_LUVOIR_N1000_FPM350M0150_IWA0340_OWA01200_C10_BW10_Nlam5_LS_IDD0120_OD0982_no_ls_struts.fits'},\n",
    "             'medium': {'pxsize': 1000, 'fpm_rad': 6.82, 'fpm_px': 250, 'iwa': 6.72, 'owa': 23.72,\n",
    "                        'fname': '0_LUVOIR_N1000_FPM682M0250_IWA0672_OWA02372_C10_BW10_Nlam5_LS_IDD0120_OD0982_no_ls_struts.fits'},\n",
    "             'large': {'pxsize': 1000, 'fpm_rad': 13.38, 'fpm_px': 400, 'iwa': 13.28, 'owa': 46.88,\n",
    "                       'fname': '0_LUVOIR_N1000_FPM1338M0400_IWA1328_OWA04688_C10_BW10_Nlam5_LS_IDD0120_OD0982_no_ls_struts.fits'}}\n",
    "\n",
    "pup_px = apod_dict[design]['pxsize']\n",
    "fpm_rad = apod_dict[design]['fpm_rad']  # lambda/D\n",
    "fpm_px = apod_dict[design]['fpm_px']\n",
    "samp_foc = fpm_px / (fpm_rad * 2)  # sampling of focal plane mask\n",
    "iwa = apod_dict[design]['iwa']  # lambda/D\n",
    "owa = apod_dict[design]['owa']  # lambda/D\n",
    "\n",
    "# Print some of the defined parameters\n",
    "print('LUVOIR apodizer design: {}'.format(design))\n",
    "print()\n",
    "print('Wavelength: {} m'.format(wvln))\n",
    "print('Telescope diameter: {} m'.format(diam))\n",
    "print('Number of segments: {}'.format(nb_seg))\n",
    "print()\n",
    "print('IWA: {} lambda/D'.format(iwa))\n",
    "print('OWA: {} lambda/D'.format(owa))\n",
    "print('Pupil size: {} pixels'.format(pup_px))\n",
    "print('Image size: {} lambda/D'.format(im_lamD))\n",
    "print('Sampling: {} px per lambda/D'.format(sampling))\n",
    "print('FPM radius: {} lambda/D'.format(fpm_rad))\n",
    "print('Pixels in FPM: {} pixels'.format(fpm_px))"
   ]
  },
  {
   "cell_type": "markdown",
   "metadata": {},
   "source": [
    "### Setting up the paths"
   ]
  },
  {
   "cell_type": "code",
   "execution_count": null,
   "metadata": {},
   "outputs": [],
   "source": [
    "# If subfolder \"matrix_numerical\" doesn't exist yet, create it.\n",
    "if not os.path.isdir(resDir):\n",
    "    os.mkdir(resDir)\n",
    "\n",
    "# If subfolder \"OTE_images\" doesn't exist yet, create it.\n",
    "if not os.path.isdir(os.path.join(resDir, 'OTE_images')):\n",
    "    os.mkdir(os.path.join(resDir, 'OTE_images'))\n",
    "\n",
    "# If subfolder \"psfs\" doesn't exist yet, create it.\n",
    "if not os.path.isdir(os.path.join(resDir, 'psfs')):\n",
    "    os.mkdir(os.path.join(resDir, 'psfs'))"
   ]
  },
  {
   "cell_type": "markdown",
   "metadata": {},
   "source": [
    "### Preparing the optical elements"
   ]
  },
  {
   "cell_type": "code",
   "execution_count": null,
   "metadata": {},
   "outputs": [],
   "source": [
    "# Pupil plane optics\n",
    "aper_path = 'inputs/TelAp_LUVOIR_gap_pad01_bw_ovsamp04_N1000.fits'\n",
    "aper_ind_path = 'inputs/TelAp_LUVOIR_gap_pad01_bw_ovsamp04_N1000_indexed.fits'\n",
    "apod_path = os.path.join(datadir, 'luvoir_stdt_baseline_bw10', design + '_fpm', 'solutions',\n",
    "                         apod_dict[design]['fname'])\n",
    "ls_fname = 'inputs/LS_LUVOIR_ID0120_OD0982_no_struts_gy_ovsamp4_N1000.fits'\n",
    "\n",
    "pup_read = hc.read_fits(os.path.join(datadir, aper_path))\n",
    "aper_ind_read = hc.read_fits(os.path.join(datadir, aper_ind_path))\n",
    "apod_read = hc.read_fits(os.path.join(datadir, apod_path))\n",
    "ls_read = hc.read_fits(os.path.join(datadir, ls_fname))\n",
    "\n",
    "# Cast the into Fields on a pupil plane grid\n",
    "pupil_grid = hc.make_pupil_grid(dims=pup_px, diameter=diam)\n",
    "\n",
    "aperture = hc.Field(pup_read.ravel(), pupil_grid)\n",
    "aper_ind = hc.Field(aper_ind_read.ravel(), pupil_grid)\n",
    "apod = hc.Field(apod_read.ravel(), pupil_grid)\n",
    "ls = hc.Field(ls_read.ravel(), pupil_grid)\n",
    "\n",
    "### Segment positions\n",
    "\n",
    "# Load segment positions form fits header\n",
    "hdr = fits.getheader(os.path.join(datadir, aper_ind_path))\n",
    "\n",
    "poslist = []\n",
    "for i in range(nb_seg):\n",
    "    segname = 'SEG' + str(i + 1)\n",
    "    xin = hdr[segname + '_X']\n",
    "    yin = hdr[segname + '_Y']\n",
    "    poslist.append((xin, yin))\n",
    "\n",
    "poslist = np.transpose(np.array(poslist))\n",
    "\n",
    "# Cast into HCIPy CartesianCoordinates (because that's what the SM needs)\n",
    "seg_pos = hc.CartesianGrid(poslist)\n",
    "\n",
    "### Focal plane mask\n",
    "\n",
    "# Make focal grid for FPM\n",
    "focal_grid_fpm = hc.make_focal_grid(pupil_grid=pupil_grid, q=samp_foc, num_airy=fpm_rad, wavelength=wvln)\n",
    "\n",
    "# Also create detector plane focal grid\n",
    "focal_grid_det = hc.make_focal_grid(pupil_grid=pupil_grid, q=sampling, num_airy=im_lamD, wavelength=wvln)\n",
    "\n",
    "# Let's figure out how much 1 lambda/D is in radians (needed for focal plane)\n",
    "lam_over_d = wvln / diam  # rad\n",
    "\n",
    "# Create FPM on a focal grid, with radius in lambda/D\n",
    "fpm = 1 - hc.circular_aperture(2 * fpm_rad * lam_over_d)(focal_grid_fpm)"
   ]
  },
  {
   "cell_type": "markdown",
   "metadata": {},
   "source": [
    "### Telescope simulator"
   ]
  },
  {
   "cell_type": "code",
   "execution_count": null,
   "metadata": {},
   "outputs": [],
   "source": [
    "# Create parameter dictionary\n",
    "luvoir_params = {'wavelength': wvln, 'diameter': diam, 'imlamD': im_lamD, 'fpm_rad': fpm_rad}\n",
    "\n",
    "# Instantiate LUVOIR telescope with APLC\n",
    "luvoir = SegmentedTelescopeAPLC(aperture, aper_ind, seg_pos, apod, ls, fpm, focal_grid_det, luvoir_params)\n",
    "\n",
    "### Dark hole mask\n",
    "dh_outer = hc.circular_aperture(2 * owa * lam_over_d)(focal_grid_det)\n",
    "dh_inner = hc.circular_aperture(2 * iwa * lam_over_d)(focal_grid_det)\n",
    "dh_mask = (dh_outer - dh_inner).astype('bool')\n",
    "\n",
    "### Reference image for contrast normalization\n",
    "_im, ref = luvoir.calc_psf(ref=True, display_intermediate=False, return_intermediate=False)\n",
    "norm = np.max(ref)"
   ]
  },
  {
   "cell_type": "markdown",
   "metadata": {},
   "source": [
    "## Generating numerical PASTIS matrix"
   ]
  },
  {
   "cell_type": "code",
   "execution_count": null,
   "metadata": {},
   "outputs": [],
   "source": [
    "# Reduce the number of segments for testing purposes\n",
    "nb_seg = 3\n",
    "savestuff = False  # in case I don't actually want to save anything to disk\n",
    "\n",
    "# Generating the PASTIS matrix and a list for all contrasts\n",
    "matrix_direct = np.zeros([nb_seg, nb_seg])   # Generate empty matrix\n",
    "all_psfs = []\n",
    "all_contrasts = []\n",
    "\n",
    "print('nm_aber: {} m'.format(nm_aber))\n",
    "\n",
    "for i in range(nb_seg):\n",
    "    for j in range(nb_seg):\n",
    "\n",
    "        print('\\nSTEP: {}-{} / {}-{}'.format(i+1, j+1, nb_seg, nb_seg))\n",
    "\n",
    "        # Put aberration on correct segments. If i=j, apply only once!\n",
    "        luvoir.flatten()\n",
    "        luvoir.set_segment(i+1, nm_aber/2, 0, 0)\n",
    "        if i != j:\n",
    "            luvoir.set_segment(j+1, nm_aber/2, 0, 0)\n",
    "\n",
    "        print('Calculating coro image...')\n",
    "        image, inter = luvoir.calc_psf(ref=False, display_intermediate=False, return_intermediate=True)\n",
    "        # Normalize PSF by reference image\n",
    "        psf = image / norm\n",
    "\n",
    "        # Save image to disk\n",
    "        filename_psf = 'psf_' + zern_mode.name + '_' + zern_mode.convention + str(zern_mode.index) + '_segs_' + str(i+1) + '-' + str(j+1)\n",
    "        if savestuff:\n",
    "            hc.write_fits(psf, os.path.join(resDir, 'psfs', filename_psf + '.fits'))\n",
    "        all_psfs.append(psf)\n",
    "\n",
    "        # Save OPD images for testing (are these actually surface images, not OPD?)\n",
    "        opd_name = 'opd_' + zern_mode.name + '_' + zern_mode.convention + str(zern_mode.index) + '_segs_' + str(\n",
    "            i + 1) + '-' + str(j + 1)\n",
    "        plt.clf()\n",
    "        hc.imshow_field(inter['seg_mirror'].phase, mask=aperture, cmap='RdBu')\n",
    "        if savestuff:\n",
    "            plt.savefig(os.path.join(resDir, 'OTE_images', opd_name + '.pdf'))\n",
    "\n",
    "        print('Calculating mean contrast in dark hole')\n",
    "        dh_intensity = psf * dh_mask\n",
    "        contrast = np.mean(dh_intensity[np.where(dh_intensity != 0)])\n",
    "        print('contrast:', contrast)\n",
    "        all_contrasts.append(contrast)\n",
    "\n",
    "        # Fill according entry in the matrix\n",
    "        matrix_direct[i,j] = contrast\n",
    "\n",
    "# Filling the off-axis elements\n",
    "matrix_two_N = np.copy(matrix_direct)      # This is just an intermediary copy so that I don't mix things up.\n",
    "matrix_pastis = np.copy(matrix_direct)     # This will be the final PASTIS matrix.\n",
    "\n",
    "print()\n",
    "for i in range(nb_seg):\n",
    "    for j in range(nb_seg):\n",
    "        if i != j:\n",
    "            matrix_off_val = (matrix_two_N[i,j] - matrix_two_N[i,i] - matrix_two_N[j,j]) / 2.\n",
    "            matrix_pastis[i,j] = matrix_off_val\n",
    "            print('Off-axis for i{}-j{}: {}'.format(i+1, j+1, matrix_off_val))\n",
    "\n",
    "# Normalize matrix for the input aberration\n",
    "matrix_pastis /= np.square(nm_aber)\n",
    "\n",
    "# Save matrix to file\n",
    "if savestuff:\n",
    "    filename_matrix = 'PASTISmatrix_num_' + zern_mode.name + '_' + zern_mode.convention + str(zern_mode.index)\n",
    "    hc.write_fits(matrix_pastis, os.path.join(resDir, filename_matrix + '.fits'))\n",
    "    print('Matrix saved to:', os.path.join(resDir, filename_matrix + '.fits'))"
   ]
  },
  {
   "cell_type": "code",
   "execution_count": null,
   "metadata": {},
   "outputs": [],
   "source": []
  },
  {
   "cell_type": "code",
   "execution_count": null,
   "metadata": {},
   "outputs": [],
   "source": []
  }
 ],
 "metadata": {
  "kernelspec": {
   "display_name": "Python 3",
   "language": "python",
   "name": "python3"
  },
  "language_info": {
   "codemirror_mode": {
    "name": "ipython",
    "version": 3
   },
   "file_extension": ".py",
   "mimetype": "text/x-python",
   "name": "python",
   "nbconvert_exporter": "python",
   "pygments_lexer": "ipython3",
   "version": "3.7.2"
  }
 },
 "nbformat": 4,
 "nbformat_minor": 2
}
