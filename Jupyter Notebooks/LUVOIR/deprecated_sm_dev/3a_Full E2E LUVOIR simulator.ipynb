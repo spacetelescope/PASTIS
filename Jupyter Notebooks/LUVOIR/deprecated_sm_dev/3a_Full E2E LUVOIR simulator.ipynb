{
 "cells": [
  {
   "cell_type": "markdown",
   "metadata": {},
   "source": [
    "# Full LUVOIR simulator in PASTIS\n",
    "\n",
    "Getting to a point where I can instantiate a LUVOIR full optical system with a single call. Gotta test that."
   ]
  },
  {
   "cell_type": "code",
   "execution_count": null,
   "metadata": {},
   "outputs": [],
   "source": [
    "# Imports\n",
    "import os\n",
    "import time\n",
    "import numpy as np\n",
    "from astropy.io import fits\n",
    "import matplotlib.pyplot as plt\n",
    "%matplotlib inline\n",
    "import hcipy as hc\n",
    "\n",
    "os.chdir('../../pastis/')\n",
    "from config import CONFIG_PASTIS\n",
    "import util as util\n",
    "from e2e_simulators.luvoir_imaging import LuvoirAPLC"
    "from config import CONFIG_INI\n",
    "import util_pastis as util"
   ]
  },
  {
   "cell_type": "markdown",
   "metadata": {},
   "source": [
    "<span style=\"color:red\"> *** Careful: *** </span>\n",
    "\n",
    "**The segmented mirror in this notebook is based on the `hcipy` commit `980f39c` specifically. The SegmentedMirror (now: SegmentedDeformableMirror) class has seen major upgrades, so this notebook is out of date with the hcipy master branch. However, if you check out said notebook, it should work fine.**\n",
    "\n",
    "**You should also be on the PASTIS commit `caf29ad`.**"
   ]
  },
  {
   "cell_type": "code",
   "execution_count": null,
   "metadata": {},
   "outputs": [],
   "source": [
    "from luvoir_imaging import LuvoirAPLC"
   ]
  },
  {
   "cell_type": "markdown",
   "metadata": {},
   "source": [
    "## Make a LUVOIR telescope with choice of coronagraph design"
   ]
  },
  {
   "cell_type": "code",
   "execution_count": null,
   "metadata": {},
   "outputs": [],
   "source": [
    "# Instantiate LUVOIR\n",
    "sampling = 4\n",
    "apodizer_design = 'large'\n",
    "# This path is specific to the paths used in the LuvoirAPLC class\n",
    "optics_input = os.path.join(util.find_repo_location(), CONFIG_PASTIS.get('LUVOIR', 'optics_path_in_repo'))"
   ]
  },
  {
   "cell_type": "code",
   "execution_count": null,
   "metadata": {},
   "outputs": [],
   "source": [
    "luvoir = LuvoirAPLC(optics_input, apodizer_design, sampling)"
   ]
  },
  {
   "cell_type": "code",
   "execution_count": null,
   "metadata": {},
   "outputs": [],
   "source": [
    "# Show the SM with segment numbering\n",
    "hc.imshow_field(luvoir.aper)\n",
    "for i, par in enumerate(luvoir.sm.seg_pos):\n",
    "    pos = par * luvoir.diam\n",
    "    plt.annotate(s=i+1, xy=pos, xytext=pos, color='white', fontweight='bold')"
   ]
  },
  {
   "cell_type": "markdown",
   "metadata": {},
   "source": [
    "## Calculate a PSF"
   ]
  },
  {
   "cell_type": "code",
   "execution_count": null,
   "metadata": {},
   "outputs": [],
   "source": [
    "psf, ref, others = luvoir.calc_psf(ref=True, display_intermediate=True, return_intermediate='intensity')"
   ]
  },
  {
   "cell_type": "code",
   "execution_count": null,
   "metadata": {},
   "outputs": [],
   "source": [
    "plt.figure(figsize=(18, 6))\n",
    "plt.subplot(131)\n",
    "hc.imshow_field(np.log10(psf/ref.max()), cmap='inferno')\n",
    "plt.title('Coro PSF')\n",
    "plt.colorbar()\n",
    "plt.subplot(132)\n",
    "hc.imshow_field(np.log10(ref/ref.max()), cmap='inferno')\n",
    "plt.title('Ref PSF')\n",
    "plt.colorbar()\n",
    "plt.subplot(133)\n",
    "hc.imshow_field(others['seg_mirror'], mask=luvoir.aper, cmap='RdBu')\n",
    "plt.title('SM phase')\n",
    "plt.colorbar()"
   ]
  },
  {
   "cell_type": "code",
   "execution_count": null,
   "metadata": {},
   "outputs": [],
   "source": [
    "plt.figure(figsize=(10, 10))\n",
    "hc.imshow_field(np.log10(psf/ref.max()), cmap='inferno')\n",
    "plt.colorbar()"
   ]
  },
  {
   "cell_type": "code",
   "execution_count": null,
   "metadata": {},
   "outputs": [],
   "source": [
    "half = int(psf.shaped.shape[0]/2)\n",
    "plt.plot(np.log10(psf.shaped[half,:]/ref.max()))"
   ]
  },
  {
   "cell_type": "markdown",
   "metadata": {},
   "source": [
    "## Add segment-based aberrations\n"
   ]
  },
  {
   "cell_type": "code",
   "execution_count": null,
   "metadata": {},
   "outputs": [],
   "source": [
    "luvoir.flatten()\n",
    "\n",
    "aber_seg_piston = [1, 14, 16, 23, 28, 46, 120, 104, 96, 84]\n",
    "opd_m_piston = 1e-9\n",
    "\n",
    "for aseg in aber_seg_piston:\n",
    "    luvoir.set_segment(aseg, opd_m_piston/2, 0, 0)\n",
    "    \n",
    "aber_seg_tip = [5, 19, 11, 24, 33, 76, 98, 103, 65, 41]\n",
    "opd_m_tip = 5*1e-10\n",
    "\n",
    "for aseg in aber_seg_tip:\n",
    "    luvoir.set_segment(aseg, 0, opd_m_tip/2, 0)"
   ]
  },
  {
   "cell_type": "code",
   "execution_count": null,
   "metadata": {},
   "outputs": [],
   "source": [
    "# Recalculate all planes\n",
    "psf, ref, others = luvoir.calc_psf(ref=True, return_intermediate='intensity')"
   ]
  },
  {
   "cell_type": "code",
   "execution_count": null,
   "metadata": {},
   "outputs": [],
   "source": [
    "plt.figure(figsize=(20, 8))\n",
    "plt.subplot(131)\n",
    "hc.imshow_field(np.log10(psf/ref.max()), cmap='inferno')\n",
    "plt.title('Coro PSF')\n",
    "plt.colorbar()\n",
    "plt.subplot(132)\n",
    "hc.imshow_field(others['seg_mirror'], mask=luvoir.aper, cmap='RdBu')\n",
    "plt.title('SM phase')\n",
    "plt.colorbar()"
   ]
  },
  {
   "cell_type": "code",
   "execution_count": null,
   "metadata": {},
   "outputs": [],
   "source": []
  }
 ],
 "metadata": {
  "kernelspec": {
   "display_name": "Python 3",
   "language": "python",
   "name": "python3"
  },
  "language_info": {
   "codemirror_mode": {
    "name": "ipython",
    "version": 3
   },
   "file_extension": ".py",
   "mimetype": "text/x-python",
   "name": "python",
   "nbconvert_exporter": "python",
   "pygments_lexer": "ipython3",
   "version": "3.7.8"
  }
 },
 "nbformat": 4,
 "nbformat_minor": 2
}
