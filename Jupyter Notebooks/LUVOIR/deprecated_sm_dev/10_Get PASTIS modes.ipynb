{
 "cells": [
  {
   "cell_type": "markdown",
   "metadata": {},
   "source": [
    "# Get PASTIS modes\n",
    "\n",
    "## --- LUVOIR A --\n",
    "\n",
    "We will now perform a singular value decomposition (SVD) on the PASTIS matrix to get the PASTIS modes and save them.\n",
    "\n",
    "I started working on the stability calculations in here too, but I will expand on that (and do it properly) in notebook 11."
   ]
  },
  {
   "cell_type": "code",
   "execution_count": null,
   "metadata": {},
   "outputs": [],
   "source": [
    "# Imports\n",
    "import os\n",
    "import numpy as np\n",
    "import matplotlib.pyplot as plt\n",
    "from matplotlib.colors import LogNorm\n",
    "%matplotlib inline\n",
    "from astropy.io import fits\n",
    "import astropy.units as u\n",
    "import hcipy as hc"
   ]
  },
  {
   "cell_type": "markdown",
   "metadata": {},
   "source": [
    "<span style=\"color:red\"> *** Careful: *** </span>\n",
    "\n",
    "**The segmented mirror in this notebook is based on the `hcipy` commit `980f39c` specifically. The SegmentedMirror (now: SegmentedDeformableMirror) class has seen major upgrades, so this notebook is out of date with the hcipy master branch. However, if you check out said notebook, it should work fine.**\n",
    "\n",
    "**You should also be on the PASTIS commit `caf29ad`.**"
   ]
  },
  {
   "cell_type": "code",
   "execution_count": null,
   "metadata": {},
   "outputs": [],
   "source": [
    "from hcipy.optics.segmented_mirror import SegmentedMirror\n",
    "\n",
    "os.chdir('../../pastis/')\n",
    "from e2e_simulators.luvoir_imaging import LuvoirAPLC"
   ]
  },
  {
   "cell_type": "code",
   "execution_count": null,
   "metadata": {},
   "outputs": [],
   "source": [
    "# Which directory are we working in?\n",
    "savedpath = '/Users/ilaginja/Documents/data_from_repos/pastis_data/2019-8-11_001_1nm'   # large apodizer LUVOIR"
   ]
  },
  {
   "cell_type": "markdown",
   "metadata": {},
   "source": [
    "## Read the matrix\n",
    "\n",
    "It's your choice wheter you read the analytical or numerical matrix."
   ]
  },
  {
   "cell_type": "code",
   "execution_count": null,
   "metadata": {},
   "outputs": [],
   "source": [
    "matrix = fits.getdata(os.path.join(savedpath, 'matrix_numerical', 'PASTISmatrix_num_piston_Noll1.fits'))\n",
    "\n",
    "plt.figure(figsize=(10, 10))\n",
    "plt.imshow(matrix)\n",
    "plt.colorbar()"
   ]
  },
  {
   "cell_type": "markdown",
   "metadata": {},
   "source": [
    "## Get eigenmodes and eigenvalues\n",
    "\n",
    "We should actually be using an SVD, which I do at the end of this notebook."
   ]
  },
  {
   "cell_type": "code",
   "execution_count": null,
   "metadata": {},
   "outputs": [],
   "source": [
    "evals, evecs = np.linalg.eig(matrix)"
   ]
  },
  {
   "cell_type": "code",
   "execution_count": null,
   "metadata": {},
   "outputs": [],
   "source": [
    "# Hack to use SVD modes instead\n",
    "#evals = s\n",
    "#evecs = u"
   ]
  },
  {
   "cell_type": "code",
   "execution_count": null,
   "metadata": {},
   "outputs": [],
   "source": [
    "print('evals.shape: {}'.format(evals.shape))\n",
    "print('evals:\\n{}'.format(evals))"
   ]
  },
  {
   "cell_type": "code",
   "execution_count": null,
   "metadata": {},
   "outputs": [],
   "source": [
    "print('evecs.shape: {}'.format(evecs.shape))\n",
    "#print('evecs:\\n{}'.format(evecs))"
   ]
  },
  {
   "cell_type": "markdown",
   "metadata": {},
   "source": [
    "Which dimension are the eigenvectors in?\n",
    "\n",
    "We know\n",
    "\n",
    "$$M \\cdot u = \\lambda \\cdot u$$\n",
    "\n",
    "so we can test this."
   ]
  },
  {
   "cell_type": "code",
   "execution_count": null,
   "metadata": {},
   "outputs": [],
   "source": [
    "# Evaluate left and right side of eigenvalue problem for mode number n\n",
    "n = 17\n",
    "\n",
    "left = np.dot(matrix, evals[n])\n",
    "right = np.dot(matrix, evecs[:, n])\n",
    "\n",
    "# Compare them\n",
    "print('Are the left and right side the same:')\n",
    "print(np.allclose(left, right))"
   ]
  },
  {
   "cell_type": "markdown",
   "metadata": {},
   "source": [
    "### Sort from lowest to highest eigenvalue"
   ]
  },
  {
   "cell_type": "code",
   "execution_count": null,
   "metadata": {},
   "outputs": [],
   "source": [
    "# Sort them\n",
    "sorted_evals = np.sort(evals)\n",
    "sorted_indices = np.argsort(evals)\n",
    "sorted_evecs = evecs[:, sorted_indices]\n",
    "\n",
    "print('Sorted evals:')\n",
    "print(sorted_evals)\n",
    "#np.savetxt(os.path.join(savedpath, 'results', 'eigenvalues.txt'), sorted_evals)\n",
    "#np.savetxt(os.path.join(savedpath, 'results', 'eigenvectors.txt'), sorted_evecs)\n",
    "\n",
    "plt.figure(figsize=(14, 8))\n",
    "#plt.plot(evals, label='Unsorted from eigendecomposition')\n",
    "plt.plot(sorted_evals, label='Sorted lowest to highest evals')\n",
    "plt.semilogy()\n",
    "plt.xlabel('Eigenmodes')\n",
    "plt.ylabel('Log Eigenvalues')\n",
    "plt.legend()\n",
    "#plt.savefig(os.path.join(savedpath, 'results', 'LUVOIR_eigenvals.pdf'))"
   ]
  },
  {
   "cell_type": "markdown",
   "metadata": {},
   "source": [
    "## Mode display\n",
    "\n",
    "Instead of using the `SegmentedTelescopeAPLC` class to display the modes, which would rewuire us to load andn create all the files needed for the APLC propagation, we will simply use a `SegmentedMirror`."
   ]
  },
  {
   "cell_type": "code",
   "execution_count": null,
   "metadata": {},
   "outputs": [],
   "source": [
    "# Load aperture files needed for SM\n",
    "nseg = 120\n",
    "wvln = 638e-9\n",
    "\n",
    "datadir = '/Users/ilaginja/Documents/LabWork/ultra/LUVOIR_delivery_May2019/'\n",
    "aper_path = 'inputs/TelAp_LUVOIR_gap_pad01_bw_ovsamp04_N1000.fits'\n",
    "aper_ind_path = 'inputs/TelAp_LUVOIR_gap_pad01_bw_ovsamp04_N1000_indexed.fits'\n",
    "aper_read = hc.read_fits(os.path.join(datadir, aper_path))\n",
    "aper_ind_read = hc.read_fits(os.path.join(datadir, aper_ind_path))\n",
    "\n",
    "pupil_grid = hc.make_pupil_grid(dims=aper_ind_read.shape[0], diameter=15)\n",
    "aper = hc.Field(aper_read.ravel(), pupil_grid)\n",
    "aper_ind = hc.Field(aper_ind_read.ravel(), pupil_grid)\n",
    "\n",
    "wf_aper = hc.Wavefront(aper, wvln)\n",
    "\n",
    "# Load segment positions from fits header\n",
    "hdr = fits.getheader(os.path.join(datadir, aper_ind_path))\n",
    "\n",
    "poslist = []\n",
    "for i in range(nseg):\n",
    "    segname = 'SEG' + str(i+1)\n",
    "    xin = hdr[segname + '_X']\n",
    "    yin = hdr[segname + '_Y']\n",
    "    poslist.append((xin, yin))\n",
    "    \n",
    "poslist = np.transpose(np.array(poslist))\n",
    "seg_pos = hc.CartesianGrid(poslist)"
   ]
  },
  {
   "cell_type": "code",
   "execution_count": null,
   "metadata": {},
   "outputs": [],
   "source": [
    "# Instantiate SM\n",
    "sm = SegmentedMirror(aper_ind, seg_pos)"
   ]
  },
  {
   "cell_type": "code",
   "execution_count": null,
   "metadata": {},
   "outputs": [],
   "source": [
    "#((0.000001*sorted_evecs[:, mode]*(2*np.pi/638e-9)+np.pi)%(2*np.pi))-(np.pi)  # testing with Lucie"
   ]
  },
  {
   "cell_type": "code",
   "execution_count": null,
   "metadata": {},
   "outputs": [],
   "source": [
    "mode = 0   # We start numbering at 0 here, 0-35 (Python nunmbering!)\n",
    "\n",
    "sm.flatten()\n",
    "for seg, val in enumerate(sorted_evecs[:, mode]):\n",
    "    #print(val)\n",
    "    sm.set_segment(seg+1, 0.000000001*val/2, 0, 0)\n",
    "\n",
    "# Propagate WF and display SM phase\n",
    "wf_sm = sm(wf_aper)\n",
    "\n",
    "plt.figure(figsize=(10, 10))\n",
    "hc.imshow_field(wf_sm.phase, cmap='RdBu')\n",
    "plt.colorbar()"
   ]
  },
  {
   "cell_type": "code",
   "execution_count": null,
   "metadata": {},
   "outputs": [],
   "source": [
    "# Lets compute all modes now for LUVOIR with an HCIPy SM\n",
    "luvoir_modes = []\n",
    "\n",
    "for mode in range(len(evals)):\n",
    "    print('Working on mode {}/{}.'.format(mode+1, len(evals)))\n",
    "    \n",
    "    sm.flatten()\n",
    "    for seg, val in enumerate(sorted_evecs[:, mode]):\n",
    "        #print(val)\n",
    "        sm.set_segment(seg+1, 0.000000001*val/2, 0, 0)\n",
    "        \n",
    "    wf_sm = sm(wf_aper)\n",
    "    luvoir_modes.append(wf_sm.phase)"
   ]
  },
  {
   "cell_type": "code",
   "execution_count": null,
   "metadata": {},
   "outputs": [],
   "source": [
    "# Save as data cube?\n",
    "#hc.write_fits(luvoir_modes, os.path.join(savedpath, 'results', 'modes', 'fits', 'cube_modes.fits'))"
   ]
  },
  {
   "cell_type": "markdown",
   "metadata": {},
   "source": [
    "### Saving stuff"
   ]
  },
  {
   "cell_type": "code",
   "execution_count": null,
   "metadata": {},
   "outputs": [],
   "source": [
    "# Plot them all\n",
    "pmin = -5e-7\n",
    "pmax = 5e-7\n",
    "\n",
    "plt.figure(figsize=(24, 20))\n",
    "for mode in range(len(evals)):\n",
    "    \n",
    "    plt.subplot(12, 10, mode+1)\n",
    "    hc.imshow_field(luvoir_modes[mode], cmap='RdBu')#, vmin=pmin, vmax=pmax)\n",
    "    #plt.colorbar()\n",
    "    plt.axis('off')\n",
    "    plt.title('Mode ' + str(mode+1))\n",
    "    \n",
    "#plt.savefig(os.path.join(savedpath, 'results', 'LUVOIR_modes_piston.pdf'))"
   ]
  },
  {
   "cell_type": "code",
   "execution_count": null,
   "metadata": {},
   "outputs": [],
   "source": [
    "# Save them all to fits and PDF\n",
    "all_modes = []   # to save as a cube\n",
    "\n",
    "for mode in range(len(evals)):\n",
    "    \n",
    "    # fits\n",
    "    #hc.write_fits(luvoir_modes[mode], os.path.join(savedpath, 'results', 'modes', 'fits', 'mode'+str(mode+1)+'.fits'))\n",
    "    all_modes.append(luvoir_modes[mode].shaped)\n",
    "    \n",
    "    # pdf\n",
    "    plt.clf()\n",
    "    hc.imshow_field(luvoir_modes[mode], cmap='RdBu')\n",
    "    plt.axis('off')\n",
    "    plt.title('Mode ' + str(mode+1))\n",
    "    #plt.savefig(os.path.join(savedpath, 'results', 'modes', 'pdf', 'mode'+str(mode+1)+'.pdf'))\n",
    "    \n",
    "# fits cube\n",
    "all_modes = np.array(all_modes)\n",
    "#hc.write_fits(all_modes, os.path.join(savedpath, 'results', 'modes', 'fits', 'cube_modes.fits'))\n",
    "    \n",
    "print('All done.')"
   ]
  },
  {
   "cell_type": "markdown",
   "metadata": {},
   "source": [
    "### Do it with an SVD\n",
    "\n",
    "`u` is holding all the modes in the form of `u[segment, mode]`. `s` holds all the singular values."
   ]
  },
  {
   "cell_type": "code",
   "execution_count": null,
   "metadata": {},
   "outputs": [],
   "source": [
    "u, s, vh = np.linalg.svd(matrix, full_matrices=True)"
   ]
  },
  {
   "cell_type": "code",
   "execution_count": null,
   "metadata": {},
   "outputs": [],
   "source": [
    "print(s)"
   ]
  },
  {
   "cell_type": "code",
   "execution_count": null,
   "metadata": {},
   "outputs": [],
   "source": [
    "#plt.plot(np.log10(s))\n",
    "plt.plot(s)\n",
    "plt.semilogy()\n",
    "plt.ylabel('Log Eigenvalues')\n",
    "plt.xlabel('Eigenmodes')"
   ]
  },
  {
   "cell_type": "code",
   "execution_count": null,
   "metadata": {},
   "outputs": [],
   "source": [
    "print(s.shape)"
   ]
  },
  {
   "cell_type": "markdown",
   "metadata": {},
   "source": [
    "As opposed to eigenvalues, the singular values are all positive, including the awkward global piston mode, and they're already sorted - **but from highest to lowest**! (opposite of above case)"
   ]
  },
  {
   "cell_type": "code",
   "execution_count": null,
   "metadata": {},
   "outputs": [],
   "source": [
    "mode = -40   # We start numbering at 0 here, 0-35 (Python nunmbering!)\n",
    "\n",
    "sm.flatten()\n",
    "for seg, val in enumerate(u[:, mode]):\n",
    "    #print(val)\n",
    "    sm.set_segment(seg+1, 0.000000001*val/2, 0, 0)\n",
    "\n",
    "# Propagate WF and display SM phase\n",
    "wf_sm = sm(wf_aper)\n",
    "\n",
    "hc.imshow_field(wf_sm.phase, cmap='RdBu')\n",
    "plt.colorbar()"
   ]
  },
  {
   "cell_type": "markdown",
   "metadata": {},
   "source": [
    "Plot them all because I don't know where the global piston is in the numbering from the SVD."
   ]
  },
  {
   "cell_type": "code",
   "execution_count": null,
   "metadata": {},
   "outputs": [],
   "source": [
    "plt.figure(figsize=(24, 20))\n",
    "for mode in range(len(evals)):\n",
    "    sm.flatten()\n",
    "    for seg, val in enumerate(u[:, mode]):\n",
    "        #print(val)\n",
    "        sm.set_segment(seg+1, 0.000001*val/2, 0, 0)\n",
    "        \n",
    "    wf_sm = sm(wf_aper)\n",
    "    \n",
    "    plt.subplot(12, 10, mode+1)\n",
    "    hc.imshow_field(wf_sm.phase, cmap='RdBu')#, vmin=pmin, vmax=pmax)\n",
    "    #plt.colorbar()\n",
    "    plt.axis('off')\n",
    "    plt.title('Mode ' + str(mode+1))"
   ]
  },
  {
   "cell_type": "markdown",
   "metadata": {},
   "source": [
    "Why on Earth is the global piston mode number 49 here?"
   ]
  },
  {
   "cell_type": "code",
   "execution_count": null,
   "metadata": {},
   "outputs": [],
   "source": [
    "# Save them all to fits and PDF\n",
    "all_modes = []   # to save as a cube\n",
    "\n",
    "for mode in range(len(evals)):\n",
    "    \n",
    "    # fits\n",
    "    #hc.write_fits(luvoir_modes[mode], os.path.join(savedpath, 'results', 'modes', 'fits', 'mode'+str(mode+1)+'.fits'))\n",
    "    all_modes.append(luvoir_modes[mode].shaped)\n",
    "    \n",
    "    # pdf\n",
    "    plt.clf()\n",
    "    hc.imshow_field(luvoir_modes[mode], cmap='RdBu')\n",
    "    plt.axis('off')\n",
    "    plt.title('Mode ' + str(mode+1))\n",
    "    #plt.savefig(os.path.join(savedpath, 'results', 'modes', 'pdf', 'mode'+str(mode+1)+'.pdf'))\n",
    "    \n",
    "# fits cube\n",
    "all_modes = np.array(all_modes)\n",
    "#hc.write_fits(all_modes, os.path.join(savedpath, 'results', 'modes', 'fits', 'cube_modes.fits'))\n",
    "    \n",
    "print('All done.')"
   ]
  }
 ],
 "metadata": {
  "kernelspec": {
   "display_name": "Python 3",
   "language": "python",
   "name": "python3"
  },
  "language_info": {
   "codemirror_mode": {
    "name": "ipython",
    "version": 3
   },
   "file_extension": ".py",
   "mimetype": "text/x-python",
   "name": "python",
   "nbconvert_exporter": "python",
   "pygments_lexer": "ipython3",
   "version": "3.7.3"
  }
 },
 "nbformat": 4,
 "nbformat_minor": 2
}
