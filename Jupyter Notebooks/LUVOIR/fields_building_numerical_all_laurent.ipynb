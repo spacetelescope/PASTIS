{
 "cells": [
  {
   "cell_type": "markdown",
   "id": "divine-coordinator",
   "metadata": {},
   "source": [
    "# This notebook is for testing and Integration of fields_building_numerical_all.py with the develop branch"
   ]
  },
  {
   "cell_type": "code",
   "execution_count": null,
   "id": "induced-charles",
   "metadata": {},
   "outputs": [],
   "source": [
    "import os\n",
    "import time\n",
    "import functools\n",
    "from shutil import copy\n",
    "import matplotlib.pyplot as plt\n",
    "from astropy.io import fits\n",
    "import astropy.units as u\n",
    "import hcipy\n",
    "import numpy as np\n",
    "import pastis.util as util    \n",
    "from pastis.config import CONFIG_PASTIS \n",
    "from pastis.e2e_simulators.luvoir_imaging import LuvoirA_APLC "
   ]
  },
  {
   "cell_type": "code",
   "execution_count": null,
   "id": "engaged-thriller",
   "metadata": {},
   "outputs": [],
   "source": [
    "root_dir = CONFIG_PASTIS.get('local', 'local_data_path')\n",
    "output_dir = CONFIG_PASTIS.get('local', 'output_data_folder') #needs to be added to config_ini\n",
    "coronagraph_design = 'small' #c user provides\n",
    "overall_dir = output_dir + 'luvoirA-'+ coronagraph_design \n",
    "resDir = os.path.join(overall_dir, 'matrix_numerical')"
   ]
  },
  {
   "cell_type": "code",
   "execution_count": null,
   "id": "searching-regular",
   "metadata": {},
   "outputs": [],
   "source": [
    "max_LO = CONFIG_PASTIS.getint('calibration', 'max_LO') \n",
    "max_MID = CONFIG_PASTIS.getint('calibration', 'max_MID')\n",
    "max_HI = CONFIG_PASTIS.getint('calibration', 'max_HI')\n",
    "num_DM_act = CONFIG_PASTIS.getint('calibration', 'num_DM_act') "
   ]
  },
  {
   "cell_type": "code",
   "execution_count": null,
   "id": "described-acoustic",
   "metadata": {},
   "outputs": [],
   "source": [
    "nb_seg = CONFIG_PASTIS.getint('LUVOIR', 'nb_subapertures')\n",
    "wvln = CONFIG_PASTIS.getfloat('LUVOIR', 'lambda') * 1e-9  # m\n",
    "diam = CONFIG_PASTIS.getfloat('LUVOIR', 'diameter')  # m\n",
    "nm_aber = CONFIG_PASTIS.getfloat('LUVOIR', 'calibration_aberration') * 1e-9   # m"
   ]
  },
  {
   "cell_type": "code",
   "execution_count": null,
   "id": "adjusted-mount",
   "metadata": {},
   "outputs": [],
   "source": [
    "im_lamD = CONFIG_PASTIS.getfloat('LUVOIR', 'im_size_lamD_hcipy')  # image size in lambda/D\n",
    "sampling = CONFIG_PASTIS.getfloat('LUVOIR', 'sampling')"
   ]
  },
  {
   "cell_type": "code",
   "execution_count": null,
   "id": "worthy-examination",
   "metadata": {},
   "outputs": [],
   "source": [
    "print('LUVOIR apodizer design: {}'.format(coronagraph_design)) \n",
    "print()\n",
    "print('Wavelength: {} m'.format(wvln))\n",
    "print('Telescope diameter: {} m'.format(diam))\n",
    "print('Number of segments: {}'.format(nb_seg))\n",
    "print()\n",
    "print('Image size: {} lambda/D'.format(im_lamD))\n",
    "print('Sampling: {} px per lambda/D'.format(sampling))"
   ]
  },
  {
   "cell_type": "code",
   "execution_count": null,
   "id": "sharp-shakespeare",
   "metadata": {},
   "outputs": [],
   "source": [
    "os.makedirs(resDir, exist_ok=True)\n",
    "os.makedirs(os.path.join(resDir, 'OTE_images'), exist_ok=True)\n",
    "os.makedirs(os.path.join(resDir, 'psfs'), exist_ok=True)"
   ]
  },
  {
   "cell_type": "code",
   "execution_count": null,
   "id": "secure-kentucky",
   "metadata": {},
   "outputs": [],
   "source": [
    "util.copy_config(resDir)"
   ]
  },
  {
   "cell_type": "code",
   "execution_count": null,
   "id": "aware-equality",
   "metadata": {},
   "outputs": [],
   "source": [
    "optics_input = os.path.join(util.find_repo_location(), CONFIG_PASTIS.get('LUVOIR', 'optics_path_in_repo'))\n",
    "luvoir = LuvoirA_APLC(optics_input, coronagraph_design, sampling) "
   ]
  },
  {
   "cell_type": "code",
   "execution_count": null,
   "id": "electronic-acceptance",
   "metadata": {},
   "outputs": [],
   "source": [
    "luvoir.create_global_zernike_mirror(max_LO)\n",
    "luvoir.create_segmented_mirror(max_MID)\n",
    "luvoir.create_ripple_mirror(max_HI)\n",
    "luvoir.create_continuous_deformable_mirror(num_DM_act)"
   ]
  },
  {
   "cell_type": "code",
   "execution_count": null,
   "id": "existing-istanbul",
   "metadata": {},
   "outputs": [],
   "source": [
    "n_LO = luvoir.zernike_mirror.num_actuators \n",
    "n_MID = luvoir.sm.num_actuators \n",
    "n_HI = luvoir.ripple_mirror.num_actuators \n",
    "n_DM = luvoir.dm.num_actuators"
   ]
  },
  {
   "cell_type": "code",
   "execution_count": null,
   "id": "functioning-petite",
   "metadata": {},
   "outputs": [],
   "source": [
    "z_pup_downsample = CONFIG_PASTIS.getfloat('numerical', 'z_pup_downsample') \n",
    "N_pup_z = np.int(luvoir.pupil_grid.shape[0] / z_pup_downsample)\n",
    "grid_zernike = hcipy.field.make_pupil_grid(N_pup_z, diameter=luvoir.diam)"
   ]
  },
  {
   "cell_type": "code",
   "execution_count": null,
   "id": "constant-extent",
   "metadata": {},
   "outputs": [],
   "source": [
    "LO_modes = np.zeros(n_LO)\n",
    "MID_modes = np.zeros(n_MID)\n",
    "HI_modes = np.zeros(n_HI)\n",
    "DM_modes = np.zeros(n_DM)"
   ]
  },
  {
   "cell_type": "code",
   "execution_count": null,
   "id": "general-convenience",
   "metadata": {},
   "outputs": [],
   "source": [
    "luvoir.zernike_mirror.actuators = LO_modes \n",
    "luvoir.sm.actuators = MID_modes\n",
    "luvoir.ripple_mirror.actuators = HI_modes \n",
    "luvoir.dm.actuators = DM_modes"
   ]
  },
  {
   "cell_type": "code",
   "execution_count": null,
   "id": "responsible-prisoner",
   "metadata": {},
   "outputs": [],
   "source": [
    "unaberrated_coro_psf, ref = luvoir.calc_psf(ref=True, display_intermediate=False, return_intermediate=None, norm_one_photon=False)"
   ]
  },
  {
   "cell_type": "code",
   "execution_count": null,
   "id": "prompt-breed",
   "metadata": {},
   "outputs": [],
   "source": [
    "norm = np.max(ref)"
   ]
  },
  {
   "cell_type": "code",
   "execution_count": null,
   "id": "empirical-championship",
   "metadata": {
    "scrolled": true
   },
   "outputs": [],
   "source": [
    "dh_intensity = (unaberrated_coro_psf / norm) * luvoir.dh_mask\n",
    "contrast_floor = np.mean(dh_intensity[np.where(luvoir.dh_mask != 0)])\n",
    "print('contrast floor: {}'.format(contrast_floor))"
   ]
  },
  {
   "cell_type": "code",
   "execution_count": null,
   "id": "southeast-antigua",
   "metadata": {},
   "outputs": [],
   "source": [
    "nonaberrated_coro_psf, ref, efield = luvoir.calc_psf(ref=True, display_intermediate=False, return_intermediate='efield')\n",
    "Efield_ref = nonaberrated_coro_psf.electric_field"
   ]
  },
  {
   "cell_type": "code",
   "execution_count": null,
   "id": "welsh-smooth",
   "metadata": {},
   "outputs": [],
   "source": [
    "print('Generating the Efield for LO modes to science plane')\n",
    "print('number of LO modes'.format(n_LO))"
   ]
  },
  {
   "cell_type": "code",
   "execution_count": null,
   "id": "hourly-department",
   "metadata": {},
   "outputs": [],
   "source": [
    "LO_modes = np.zeros(n_LO)\n",
    "MID_modes = np.zeros(n_MID)\n",
    "HI_modes = np.zeros(n_HI)\n",
    "DM_modes = np.zeros(n_DM)"
   ]
  },
  {
   "cell_type": "code",
   "execution_count": null,
   "id": "nutritional-ontario",
   "metadata": {},
   "outputs": [],
   "source": [
    "print('nm_aber: {} m'.format(nm_aber))\n",
    "start_time = time.time()\n",
    "focus_fieldS = []\n",
    "focus_fieldS_Re = []\n",
    "focus_fieldS_Im = []"
   ]
  },
  {
   "cell_type": "code",
   "execution_count": null,
   "id": "focal-enterprise",
   "metadata": {},
   "outputs": [],
   "source": [
    "for pp in range(0,n_LO):\n",
    "    print(pp)\n",
    "    LO_modes = np.zeros(n_LO)\n",
    "    LO_modes[pp] = nm_aber / 2\n",
    "    luvoir.zernike_mirror.actuators  = LO_modes\n",
    "    aberrated_coro_psf, ref, inter = luvoir.calc_psf(ref=True, display_intermediate=False, return_intermediate='efield')\n",
    "    focus_field1 = aberrated_coro_psf\n",
    "    focus_fieldS.append(focus_field1)\n",
    "    focus_fieldS_Re.append(focus_field1.real)\n",
    "    focus_fieldS_Im.append(focus_field1.imag)"
   ]
  },
  {
   "cell_type": "code",
   "execution_count": null,
   "id": "operational-swing",
   "metadata": {},
   "outputs": [],
   "source": [
    "mat_fast = np.zeros([n_LO, n_LO])\n",
    "for i in range(0, n_LO):\n",
    "    for j in range(0, n_LO):\n",
    "        test = np.real((focus_fieldS[i].electric_field - Efield_ref) * np.conj(focus_fieldS[j].electric_field - Efield_ref))\n",
    "        dh_test = (test / norm) * luvoir.dh_mask\n",
    "        contrast = np.mean(dh_test[np.where(luvoir.dh_mask != 0)])\n",
    "        mat_fast[i, j] = contrast"
   ]
  },
  {
   "cell_type": "code",
   "execution_count": null,
   "id": "fiscal-portfolio",
   "metadata": {},
   "outputs": [],
   "source": [
    "matrix_pastis = np.copy(mat_fast) "
   ]
  },
  {
   "cell_type": "code",
   "execution_count": null,
   "id": "tender-watershed",
   "metadata": {},
   "outputs": [],
   "source": [
    "matrix_pastis /= np.square(nm_aber * 1e9)"
   ]
  },
  {
   "cell_type": "code",
   "execution_count": null,
   "id": "composed-empty",
   "metadata": {},
   "outputs": [],
   "source": [
    "filename_matrix = 'PASTISmatrix_num_LO_' + str(max_LO)\n",
    "hcipy.write_fits(matrix_pastis, os.path.join(resDir, filename_matrix + '.fits'))\n",
    "print('Matrix saved to:', os.path.join(resDir, filename_matrix + '.fits'))"
   ]
  },
  {
   "cell_type": "code",
   "execution_count": null,
   "id": "running-burner",
   "metadata": {},
   "outputs": [],
   "source": [
    "filename_matrix = 'EFIELD_Re_matrix_num_LO_' + str(max_LO)\n",
    "hcipy.write_fits(focus_fieldS_Re, os.path.join(resDir, filename_matrix + '.fits'))\n",
    "print('Efield Real saved to:', os.path.join(resDir, filename_matrix + '.fits'))"
   ]
  },
  {
   "cell_type": "code",
   "execution_count": null,
   "id": "raised-injury",
   "metadata": {},
   "outputs": [],
   "source": [
    "filename_matrix = 'EFIELD_Im_matrix_num_LO_' + str(max_LO)\n",
    "hcipy.write_fits(focus_fieldS_Im, os.path.join(resDir, filename_matrix + '.fits'))\n",
    "print('Efield Imag saved to:', os.path.join(resDir, filename_matrix + '.fits'))"
   ]
  },
  {
   "cell_type": "code",
   "execution_count": null,
   "id": "detected-columbus",
   "metadata": {},
   "outputs": [],
   "source": [
    "end_time = time.time()"
   ]
  },
  {
   "cell_type": "code",
   "execution_count": null,
   "id": "vanilla-prefix",
   "metadata": {},
   "outputs": [],
   "source": [
    "print('Runtime for LO modes:', end_time - start_time, 'sec =', (end_time - start_time) / 60, 'min')\n",
    "print('Data saved to {}'.format(resDir))"
   ]
  },
  {
   "cell_type": "code",
   "execution_count": null,
   "id": "intimate-things",
   "metadata": {},
   "outputs": [],
   "source": [
    "print('Generating the Efield for MID modes to science plane')\n",
    "print('number of MID modes'.format(n_MID))"
   ]
  },
  {
   "cell_type": "code",
   "execution_count": null,
   "id": "internal-liberal",
   "metadata": {},
   "outputs": [],
   "source": [
    "LO_modes = np.zeros(n_LO)\n",
    "MID_modes = np.zeros(n_MID)\n",
    "HI_modes = np.zeros(n_HI)\n",
    "DM_modes = np.zeros(n_DM)"
   ]
  },
  {
   "cell_type": "code",
   "execution_count": null,
   "id": "adult-philosophy",
   "metadata": {},
   "outputs": [],
   "source": [
    "print('nm_aber: {} m'.format(nm_aber))\n",
    "start_time = time.time()\n",
    "focus_fieldS = []\n",
    "focus_fieldS_Re = []\n",
    "focus_fieldS_Im = []"
   ]
  },
  {
   "cell_type": "code",
   "execution_count": null,
   "id": "twenty-prerequisite",
   "metadata": {
    "scrolled": true
   },
   "outputs": [],
   "source": [
    "for pp in range(0,n_MID):\n",
    "    print(pp)\n",
    "    MID_modes = np.zeros(n_MID)\n",
    "    MID_modes[pp] = nm_aber / 2\n",
    "    luvoir.sm.actuators  = MID_modes\n",
    "    aberrated_coro_psf, ref, inter = luvoir.calc_psf(ref=True, display_intermediate=False, return_intermediate='efield')\n",
    "    focus_field1 = aberrated_coro_psf\n",
    "    focus_fieldS.append(focus_field1)\n",
    "    focus_fieldS_Re.append(focus_field1.real)\n",
    "    focus_fieldS_Im.append(focus_field1.imag)"
   ]
  },
  {
   "cell_type": "code",
   "execution_count": null,
   "id": "double-chaos",
   "metadata": {},
   "outputs": [],
   "source": [
    "mat_fast = np.zeros([n_MID, n_MID])\n",
    "for i in range(0, n_MID):\n",
    "    for j in range(0, n_MID):\n",
    "        test = np.real((focus_fieldS[i].electric_field - Efield_ref) * np.conj(focus_fieldS[j].electric_field - Efield_ref))\n",
    "        dh_test = (test / norm) * luvoir.dh_mask\n",
    "        contrast = np.mean(dh_test[np.where(luvoir.dh_mask != 0)])\n",
    "        mat_fast[i, j] = contrast"
   ]
  },
  {
   "cell_type": "code",
   "execution_count": null,
   "id": "developing-motel",
   "metadata": {},
   "outputs": [],
   "source": [
    "matrix_pastis = np.copy(mat_fast)\n",
    "matrix_pastis /= np.square(nm_aber * 1e9)  "
   ]
  },
  {
   "cell_type": "code",
   "execution_count": null,
   "id": "outer-constant",
   "metadata": {},
   "outputs": [],
   "source": [
    "filename_matrix = 'PASTISmatrix_num_MID_' + str(max_MID)\n",
    "hcipy.write_fits(matrix_pastis, os.path.join(resDir, filename_matrix + '.fits'))\n",
    "print('Matrix saved to:', os.path.join(resDir, filename_matrix + '.fits'))\n"
   ]
  },
  {
   "cell_type": "code",
   "execution_count": null,
   "id": "refined-swaziland",
   "metadata": {},
   "outputs": [],
   "source": [
    "filename_matrix = 'EFIELD_Re_matrix_num_MID_' + str(max_MID)\n",
    "hcipy.write_fits(focus_fieldS_Re, os.path.join(resDir, filename_matrix + '.fits'))\n",
    "print('Efield Real saved to:', os.path.join(resDir, filename_matrix + '.fits'))"
   ]
  },
  {
   "cell_type": "code",
   "execution_count": null,
   "id": "actual-david",
   "metadata": {},
   "outputs": [],
   "source": [
    "filename_matrix = 'EFIELD_Im_matrix_num_MID_' + str(max_MID)\n",
    "hcipy.write_fits(focus_fieldS_Im, os.path.join(resDir, filename_matrix + '.fits'))\n",
    "print('Efield Imag saved to:', os.path.join(resDir, filename_matrix + '.fits'))\n"
   ]
  },
  {
   "cell_type": "code",
   "execution_count": null,
   "id": "flying-deposit",
   "metadata": {},
   "outputs": [],
   "source": [
    "end_time = time.time()\n",
    "print('Runtime for MID modes:', end_time - start_time, 'sec =', (end_time - start_time) / 60, 'min')\n",
    "print('Data saved to {}'.format(resDir))"
   ]
  },
  {
   "cell_type": "code",
   "execution_count": null,
   "id": "actual-shipping",
   "metadata": {},
   "outputs": [],
   "source": [
    "print('Generating the Efield for HI modes to science plane')\n",
    "print('number of HI modes'.format(n_HI))"
   ]
  },
  {
   "cell_type": "code",
   "execution_count": null,
   "id": "egyptian-empire",
   "metadata": {},
   "outputs": [],
   "source": [
    "LO_modes = np.zeros(n_LO)\n",
    "MID_modes = np.zeros(n_MID)\n",
    "HI_modes = np.zeros(n_HI)\n",
    "DM_modes = np.zeros(n_DM)"
   ]
  },
  {
   "cell_type": "code",
   "execution_count": null,
   "id": "meaningful-controversy",
   "metadata": {},
   "outputs": [],
   "source": [
    "print('nm_aber: {} m'.format(nm_aber))\n",
    "start_time = time.time()\n",
    "focus_fieldS = []\n",
    "focus_fieldS_Re = []\n",
    "focus_fieldS_Im = []"
   ]
  },
  {
   "cell_type": "code",
   "execution_count": null,
   "id": "corrected-convert",
   "metadata": {},
   "outputs": [],
   "source": [
    "for pp in range(0, n_HI):\n",
    "    print(pp)\n",
    "    HI_modes = np.zeros(n_HI)\n",
    "    HI_modes[pp] = nm_aber / 2\n",
    "    luvoir.ripple_mirror.actuators = HI_modes\n",
    "    aberrated_coro_psf, ref, inter = luvoir.calc_psf(ref=True, display_intermediate=False, return_intermediate='efield')\n",
    "    focus_field1 = aberrated_coro_psf\n",
    "    focus_fieldS.append(focus_field1)\n",
    "    focus_fieldS_Re.append(focus_field1.real)\n",
    "    focus_fieldS_Im.append(focus_field1.imag)"
   ]
  },
  {
   "cell_type": "code",
   "execution_count": null,
   "id": "discrete-consultancy",
   "metadata": {},
   "outputs": [],
   "source": [
    "mat_fast = np.zeros([n_HI, n_HI])\n",
    "for i in range(0, n_HI):\n",
    "    for j in range(0, n_HI):\n",
    "        test = np.real((focus_fieldS[i].electric_field - Efield_ref) * np.conj(focus_fieldS[j].electric_field - Efield_ref))\n",
    "        dh_test = (test / norm) * luvoir.dh_mask\n",
    "        contrast = np.mean(dh_test[np.where(luvoir.dh_mask != 0)])\n",
    "        mat_fast[i, j] = contrast"
   ]
  },
  {
   "cell_type": "code",
   "execution_count": null,
   "id": "welsh-sense",
   "metadata": {},
   "outputs": [],
   "source": [
    "matrix_pastis = np.copy(mat_fast) \n",
    "matrix_pastis /= np.square(nm_aber * 1e9)"
   ]
  },
  {
   "cell_type": "code",
   "execution_count": null,
   "id": "encouraging-perspective",
   "metadata": {},
   "outputs": [],
   "source": [
    "filename_matrix = 'PASTISmatrix_num_HI_' + str(max_HI)\n",
    "hcipy.write_fits(matrix_pastis, os.path.join(resDir, filename_matrix + '.fits'))\n",
    "print('Matrix saved to:', os.path.join(resDir, filename_matrix + '.fits'))"
   ]
  },
  {
   "cell_type": "code",
   "execution_count": null,
   "id": "nearby-cliff",
   "metadata": {},
   "outputs": [],
   "source": [
    "filename_matrix = 'EFIELD_Re_matrix_num_HI_' + str(max_HI)\n",
    "hcipy.write_fits(focus_fieldS_Re, os.path.join(resDir, filename_matrix + '.fits'))\n",
    "print('Efield Real saved to:', os.path.join(resDir, filename_matrix + '.fits'))"
   ]
  },
  {
   "cell_type": "code",
   "execution_count": null,
   "id": "worldwide-bedroom",
   "metadata": {},
   "outputs": [],
   "source": [
    "filename_matrix = 'EFIELD_Im_matrix_num_HI_' + str(max_HI)\n",
    "hcipy.write_fits(focus_fieldS_Im, os.path.join(resDir, filename_matrix + '.fits'))\n",
    "print('Efield Imag saved to:', os.path.join(resDir, filename_matrix + '.fits'))"
   ]
  },
  {
   "cell_type": "code",
   "execution_count": null,
   "id": "considerable-finnish",
   "metadata": {},
   "outputs": [],
   "source": [
    "end_time = time.time()\n",
    "print('Runtime for HI modes:', end_time - start_time, 'sec =', (end_time - start_time) / 60, 'min')\n",
    "print('Data saved to {}'.format(resDir))"
   ]
  },
  {
   "cell_type": "code",
   "execution_count": null,
   "id": "accurate-guinea",
   "metadata": {},
   "outputs": [],
   "source": [
    "print('Generating the Efield for LO modes to LOWFS')\n",
    "print('number of LO modes'.format(n_LO))"
   ]
  },
  {
   "cell_type": "code",
   "execution_count": null,
   "id": "future-karen",
   "metadata": {},
   "outputs": [],
   "source": [
    "LO_modes = np.zeros(n_LO)\n",
    "MID_modes = np.zeros(n_MID)\n",
    "HI_modes = np.zeros(n_HI)\n",
    "DM_modes = np.zeros(n_DM)"
   ]
  },
  {
   "cell_type": "code",
   "execution_count": null,
   "id": "lesser-interview",
   "metadata": {},
   "outputs": [],
   "source": [
    "luvoir.zernike_mirror.actuators = LO_modes \n",
    "luvoir.sm.actuators = MID_modes\n",
    "luvoir.ripple_mirror.actuators = HI_modes \n",
    "luvoir.dm.actuators = DM_modes"
   ]
  },
  {
   "cell_type": "code",
   "execution_count": null,
   "id": "identical-twist",
   "metadata": {},
   "outputs": [],
   "source": [
    "zernike_ref = luvoir.calc_low_order_wfs()"
   ]
  },
  {
   "cell_type": "code",
   "execution_count": null,
   "id": "dutch-madness",
   "metadata": {},
   "outputs": [],
   "source": [
    "zernike_ref_sub_real = hcipy.field.subsample_field(zernike_ref.real, z_pup_downsample, grid_zernike, statistic='mean')\n",
    "zernike_ref_sub_imag = hcipy.field.subsample_field(zernike_ref.imag, z_pup_downsample, grid_zernike, statistic='mean')\n",
    "Efield_ref = zernike_ref_sub_real + 1j*zernike_ref_sub_imag"
   ]
  },
  {
   "cell_type": "code",
   "execution_count": null,
   "id": "disciplinary-length",
   "metadata": {},
   "outputs": [],
   "source": [
    "print('nm_aber: {} m'.format(nm_aber))\n",
    "start_time = time.time()\n",
    "focus_fieldS = []\n",
    "focus_fieldS_Re = []\n",
    "focus_fieldS_Im = []"
   ]
  },
  {
   "cell_type": "code",
   "execution_count": null,
   "id": "passive-compensation",
   "metadata": {},
   "outputs": [],
   "source": [
    "for pp in range(0, n_LO):\n",
    "    print(pp)\n",
    "    LO_modes = np.zeros(n_LO)\n",
    "    LO_modes[pp] = nm_aber / 2\n",
    "    luvoir.zernike_mirror.actuators = LO_modes\n",
    "    zernike_meas = luvoir.calc_low_order_wfs()\n",
    "    zernike_meas_sub_real = hcipy.field.subsample_field(zernike_meas.real, z_pup_downsample, grid_zernike,statistic='mean')\n",
    "    zernike_meas_sub_imag = hcipy.field.subsample_field(zernike_meas.imag, z_pup_downsample, grid_zernike,statistic='mean')\n",
    "    focus_field1 = zernike_meas_sub_real + 1j * zernike_meas_sub_imag\n",
    "    focus_fieldS.append(focus_field1)\n",
    "    focus_fieldS_Re.append(focus_field1.real)\n",
    "    focus_fieldS_Im.append(focus_field1.imag)"
   ]
  },
  {
   "cell_type": "code",
   "execution_count": null,
   "id": "dense-jamaica",
   "metadata": {},
   "outputs": [],
   "source": [
    "filename_matrix = 'EFIELD_LOWFS_Re_matrix_num_LO_' + str(max_LO)\n",
    "hcipy.write_fits(focus_fieldS_Re, os.path.join(resDir, filename_matrix + '.fits'))\n",
    "print('Efield Real saved to:', os.path.join(resDir, filename_matrix + '.fits'))"
   ]
  },
  {
   "cell_type": "code",
   "execution_count": null,
   "id": "maritime-onion",
   "metadata": {},
   "outputs": [],
   "source": [
    "filename_matrix = 'EFIELD_LOWFS_Im_matrix_num_LO_' + str(max_LO)\n",
    "hcipy.write_fits(focus_fieldS_Im, os.path.join(resDir, filename_matrix + '.fits'))\n",
    "print('Efield Imag saved to:', os.path.join(resDir, filename_matrix + '.fits'))"
   ]
  },
  {
   "cell_type": "code",
   "execution_count": null,
   "id": "equivalent-blast",
   "metadata": {},
   "outputs": [],
   "source": [
    "end_time = time.time()\n",
    "print('Runtime for LO modes and LOWFS:', end_time - start_time, 'sec =', (end_time - start_time) / 60, 'min')\n",
    "print('Data saved to {}'.format(resDir))"
   ]
  },
  {
   "cell_type": "code",
   "execution_count": null,
   "id": "superior-wesley",
   "metadata": {},
   "outputs": [],
   "source": [
    "print('Generating the Efield for MID modes to OBWFS')\n",
    "print('number of MID modes'.format(n_MID))"
   ]
  },
  {
   "cell_type": "code",
   "execution_count": null,
   "id": "recognized-chrome",
   "metadata": {},
   "outputs": [],
   "source": [
    "LO_modes = np.zeros(n_LO)\n",
    "MID_modes = np.zeros(n_MID)\n",
    "HI_modes = np.zeros(n_HI)\n",
    "DM_modes = np.zeros(n_DM)\n",
    "luvoir.zernike_mirror.actuators = LO_modes\n",
    "luvoir.sm.actuators = MID_modes\n",
    "luvoir.ripple_mirror.actuators = HI_modes\n",
    "luvoir.dm.actuators = DM_modes"
   ]
  },
  {
   "cell_type": "code",
   "execution_count": null,
   "id": "devoted-boutique",
   "metadata": {},
   "outputs": [],
   "source": [
    "zernike_ref = luvoir.calc_out_of_band_wfs()\n",
    "zernike_ref_sub_real = hcipy.field.subsample_field(zernike_ref.real, z_pup_downsample, grid_zernike, statistic='mean')\n",
    "zernike_ref_sub_imag = hcipy.field.subsample_field(zernike_ref.imag, z_pup_downsample, grid_zernike, statistic='mean')\n",
    "Efield_ref = zernike_ref_sub_real + 1j*zernike_ref_sub_imag"
   ]
  },
  {
   "cell_type": "code",
   "execution_count": null,
   "id": "applied-supplier",
   "metadata": {},
   "outputs": [],
   "source": [
    "print('nm_aber: {} m'.format(nm_aber))\n",
    "start_time = time.time()\n",
    "focus_fieldS = []\n",
    "focus_fieldS_Re = []\n",
    "focus_fieldS_Im = []"
   ]
  },
  {
   "cell_type": "code",
   "execution_count": null,
   "id": "peaceful-enemy",
   "metadata": {
    "scrolled": true
   },
   "outputs": [],
   "source": [
    "for pp in range(0, n_MID):\n",
    "    print(pp)\n",
    "    MID_modes = np.zeros(n_MID)\n",
    "    MID_modes[pp] = nm_aber / 2\n",
    "    luvoir.sm.actuators = MID_modes\n",
    "    zernike_meas = luvoir.calc_out_of_band_wfs()\n",
    "    zernike_meas_sub_real = hcipy.field.subsample_field(zernike_meas.real, z_pup_downsample, grid_zernike, statistic='mean')\n",
    "    zernike_meas_sub_imag = hcipy.field.subsample_field(zernike_meas.imag, z_pup_downsample, grid_zernike, statistic='mean')\n",
    "    focus_field1 = zernike_meas_sub_real + 1j * zernike_meas_sub_imag\n",
    "    focus_fieldS.append(focus_field1)\n",
    "    focus_fieldS_Re.append(focus_field1.real)\n",
    "    focus_fieldS_Im.append(focus_field1.imag)"
   ]
  },
  {
   "cell_type": "code",
   "execution_count": null,
   "id": "neural-french",
   "metadata": {},
   "outputs": [],
   "source": [
    "filename_matrix = 'EFIELD_OBWFS_Re_matrix_num_MID_' + str(max_MID)\n",
    "hcipy.write_fits(focus_fieldS_Re, os.path.join(resDir, filename_matrix + '.fits'))\n",
    "print('Efield Real saved to:', os.path.join(resDir, filename_matrix + '.fits'))"
   ]
  },
  {
   "cell_type": "code",
   "execution_count": null,
   "id": "protected-cleanup",
   "metadata": {},
   "outputs": [],
   "source": [
    "filename_matrix = 'EFIELD_OBWFS_Im_matrix_num_MID_' + str(max_MID)\n",
    "hcipy.write_fits(focus_fieldS_Im, os.path.join(resDir, filename_matrix + '.fits'))\n",
    "print('Efield Imag saved to:', os.path.join(resDir, filename_matrix + '.fits'))"
   ]
  },
  {
   "cell_type": "code",
   "execution_count": null,
   "id": "equipped-tanzania",
   "metadata": {},
   "outputs": [],
   "source": [
    "end_time = time.time()\n",
    "print('Runtime for MID modes and OBWFS:', end_time - start_time, 'sec =', (end_time - start_time) / 60, 'min')\n",
    "print('Data saved to {}'.format(resDir))"
   ]
  },
  {
   "cell_type": "code",
   "execution_count": null,
   "id": "spectacular-helicopter",
   "metadata": {},
   "outputs": [],
   "source": []
  }
 ],
 "metadata": {
  "kernelspec": {
   "display_name": "Python 3",
   "language": "python",
   "name": "python3"
  },
  "language_info": {
   "codemirror_mode": {
    "name": "ipython",
    "version": 3
   },
   "file_extension": ".py",
   "mimetype": "text/x-python",
   "name": "python",
   "nbconvert_exporter": "python",
   "pygments_lexer": "ipython3",
   "version": "3.7.10"
  }
 },
 "nbformat": 4,
 "nbformat_minor": 5
}
