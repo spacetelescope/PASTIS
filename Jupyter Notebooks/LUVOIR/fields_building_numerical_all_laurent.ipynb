{
 "cells": [
  {
   "cell_type": "code",
   "execution_count": 1,
   "id": "induced-charles",
   "metadata": {},
   "outputs": [],
   "source": [
    "import os\n",
    "import time\n",
    "import functools\n",
    "from shutil import copy\n",
    "import matplotlib.pyplot as plt\n",
    "from astropy.io import fits\n",
    "import astropy.units as u\n",
    "import hcipy as hc\n",
    "os.chdir('/Users/asahoo/repos/PASTIS/')\n"
   ]
  },
  {
   "cell_type": "code",
   "execution_count": 2,
   "id": "domestic-payment",
   "metadata": {},
   "outputs": [],
   "source": [
    "import pastis.util as util\n",
    "from pastis.config import CONFIG_PASTIS\n",
    "from pastis.e2e_simulators.luvoir_imaging import LuvoirA_APLC"
   ]
  },
  {
   "cell_type": "code",
   "execution_count": 3,
   "id": "engaged-thriller",
   "metadata": {},
   "outputs": [],
   "source": [
    "root_dir = CONFIG_PASTIS.get('local', 'local_data_path')\n"
   ]
  },
  {
   "cell_type": "code",
   "execution_count": 4,
   "id": "freelance-jefferson",
   "metadata": {},
   "outputs": [
    {
     "data": {
      "text/plain": [
       "'/Users/asahoo/Desktop/data_repos/laurent_data'"
      ]
     },
     "execution_count": 4,
     "metadata": {},
     "output_type": "execute_result"
    }
   ],
   "source": [
    "root_dir"
   ]
  },
  {
   "cell_type": "code",
   "execution_count": 5,
   "id": "tutorial-fairy",
   "metadata": {},
   "outputs": [],
   "source": [
    "output_dir = CONFIG_PASTIS.get('local', 'output_data_folder')"
   ]
  },
  {
   "cell_type": "code",
   "execution_count": 6,
   "id": "bottom-ottawa",
   "metadata": {},
   "outputs": [
    {
     "data": {
      "text/plain": [
       "'/Users/asahoo/Desktop/data_repos/laurent_data'"
      ]
     },
     "execution_count": 6,
     "metadata": {},
     "output_type": "execute_result"
    }
   ],
   "source": [
    "output_dir"
   ]
  },
  {
   "cell_type": "code",
   "execution_count": 11,
   "id": "anticipated-cincinnati",
   "metadata": {},
   "outputs": [],
   "source": [
    "coronagraph_design = 'small'\n",
    "overall_dir = output_dir + 'luvoirA-'+ coronagraph_design\n",
    "resDir = os.path.join(overall_dir, 'matrix_numerical')"
   ]
  },
  {
   "cell_type": "code",
   "execution_count": null,
   "id": "searching-regular",
   "metadata": {},
   "outputs": [],
   "source": []
  }
 ],
 "metadata": {
  "kernelspec": {
   "display_name": "Python 3",
   "language": "python",
   "name": "python3"
  },
  "language_info": {
   "codemirror_mode": {
    "name": "ipython",
    "version": 3
   },
   "file_extension": ".py",
   "mimetype": "text/x-python",
   "name": "python",
   "nbconvert_exporter": "python",
   "pygments_lexer": "ipython3",
   "version": "3.7.10"
  }
 },
 "nbformat": 4,
 "nbformat_minor": 5
}
