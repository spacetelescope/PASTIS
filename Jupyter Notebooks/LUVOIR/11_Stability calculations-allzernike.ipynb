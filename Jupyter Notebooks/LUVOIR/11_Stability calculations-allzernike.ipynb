{
 "cells": [
  {
   "cell_type": "markdown",
   "metadata": {},
   "source": [
    "# Stability calculations\n",
    "\n",
    "## -- LUVOIR --\n",
    "\n",
    "In notebook 10, we calculated the PASTIS modes for all three currently designed apodizers for the LUVOIR A pupil. In this notebook, we will load the modes and calculate the maximum mode contributions $\\sigma$ and strability requirements $\\Delta \\sigma$.\n",
    "\n",
    "After that I also calculate the maximum segment contributions $\\mu$."
   ]
  },
  {
   "cell_type": "code",
   "execution_count": 16,
   "metadata": {},
   "outputs": [],
   "source": [
    "# Imports\n",
    "import os\n",
    "import numpy as np\n",
    "import matplotlib.pyplot as plt\n",
    "from matplotlib.colors import LogNorm\n",
    "%matplotlib inline\n",
    "from astropy.io import fits\n",
    "import astropy.units as u\n",
    "import hcipy as hc\n",
    "\n",
    "os.chdir('../../pastis/')\n",
    "import util_pastis as util\n",
    "from e2e_simulators.luvoir_imaging_onephot import LuvoirAPLC"
   ]
  },
  {
   "cell_type": "code",
   "execution_count": 17,
   "metadata": {},
   "outputs": [],
   "source": [
    "plt.rcParams['font.family'] = \"sans-serif\"\n",
    "plt.rcParams[\"font.sans-serif\"] = [\"Computer Modern Sans\"]\n",
    "plt.rcParams[\"text.usetex\"] = True\n",
    "plt.rcParams[\"text.latex.preamble\"] = r\"\\usepackage{cmbright}\"\n",
    "plt.rcParams['font.size'] = 16\n",
    "plt.rcParams['axes.labelsize'] = 22\n",
    "plt.rcParams['axes.labelweight'] = 'bold'\n",
    "plt.rcParams['xtick.labelsize'] = 16\n",
    "plt.rcParams['ytick.labelsize'] = 16\n",
    "plt.rcParams['legend.fontsize'] = 16\n",
    "plt.rcParams['figure.titlesize'] = 16"
   ]
  },
  {
   "cell_type": "code",
   "execution_count": 18,
   "metadata": {},
   "outputs": [],
   "source": [
    "# Load aperture files needed for SM\n",
    "nseg = 120\n",
    "wvln = 638e-9\n",
    "\n",
    "datadir = '/Users/pueyo/PythonPackages/PASTIS/LUVOIR_delivery_May2019/'\n",
    "aper_path = 'inputs/TelAp_LUVOIR_gap_pad01_bw_ovsamp04_N1000.fits'\n",
    "aper_ind_path = 'inputs/TelAp_LUVOIR_gap_pad01_bw_ovsamp04_N1000_indexed.fits'\n",
    "aper_read = hc.read_fits(os.path.join(datadir, aper_path))\n",
    "aper_ind_read = hc.read_fits(os.path.join(datadir, aper_ind_path))\n",
    "\n",
    "pupil_grid = hc.make_pupil_grid(dims=aper_ind_read.shape[0], diameter=15)\n",
    "aper = hc.Field(aper_read.ravel(), pupil_grid)\n",
    "aper_ind = hc.Field(aper_ind_read.ravel(), pupil_grid)\n",
    "\n",
    "wf_aper = hc.Wavefront(aper, wvln)\n",
    "\n",
    "# Load segment positions from fits header\n",
    "hdr = fits.getheader(os.path.join(datadir, aper_ind_path))\n",
    "\n",
    "poslist = []\n",
    "for i in range(nseg):\n",
    "    segname = 'SEG' + str(i+1)\n",
    "    xin = hdr[segname + '_X']\n",
    "    yin = hdr[segname + '_Y']\n",
    "    poslist.append((xin, yin))\n",
    "    \n",
    "poslist = np.transpose(np.array(poslist))\n",
    "seg_pos = hc.CartesianGrid(hc.UnstructuredCoords(poslist))"
   ]
  },
  {
   "cell_type": "code",
   "execution_count": 19,
   "metadata": {},
   "outputs": [],
   "source": [
    "eunit = 1e-9"
   ]
  },
  {
   "cell_type": "markdown",
   "metadata": {},
   "source": [
    "## Get the matrices "
   ]
  },
  {
   "cell_type": "code",
   "execution_count": 20,
   "metadata": {},
   "outputs": [],
   "source": [
    "savedpath = '/Users/pueyo/Documents/data_from_repos/pastis_data/2020-10-15T00-51-01_luvoir-medium'   # large apodizer LUVOIR\n",
    "G_LO_real = fits.getdata(os.path.join(savedpath, 'matrix_numerical', 'EFIELD_Re_matrix_num_LO_15.fits'))\n",
    "G_LO_imag = fits.getdata(os.path.join(savedpath, 'matrix_numerical', 'EFIELD_Im_matrix_num_LO_15.fits'))\n",
    "G_MID_real = fits.getdata(os.path.join(savedpath, 'matrix_numerical', 'EFIELD_Re_matrix_num_MID_6.fits'))\n",
    "G_MID_imag = fits.getdata(os.path.join(savedpath, 'matrix_numerical', 'EFIELD_Im_matrix_num_MID_6.fits'))\n",
    "G_HI_real = fits.getdata(os.path.join(savedpath, 'matrix_numerical', 'EFIELD_Re_matrix_num_HI_24.fits'))\n",
    "G_HI_imag = fits.getdata(os.path.join(savedpath, 'matrix_numerical', 'EFIELD_Im_matrix_num_HI_24.fits'))\n",
    "G_LOWFS_real = fits.getdata(os.path.join(savedpath, 'matrix_numerical', 'EFIELD_LOWFS_Re_matrix_num_LO_15.fits'))\n",
    "G_LOWFS_imag = fits.getdata(os.path.join(savedpath, 'matrix_numerical', 'EFIELD_LOWFS_Im_matrix_num_LO_15.fits'))\n",
    "G_OBWFS_real = fits.getdata(os.path.join(savedpath, 'matrix_numerical', 'EFIELD_OBWFS_Re_matrix_num_MID_6.fits'))\n",
    "G_OBWFS_imag = fits.getdata(os.path.join(savedpath, 'matrix_numerical', 'EFIELD_OBWFS_Im_matrix_num_MID_6.fits'))"
   ]
  },
  {
   "cell_type": "code",
   "execution_count": 21,
   "metadata": {},
   "outputs": [],
   "source": [
    "from config import CONFIG_INI"
   ]
  },
  {
   "cell_type": "code",
   "execution_count": 22,
   "metadata": {},
   "outputs": [],
   "source": [
    "design = 'medium'"
   ]
  },
  {
   "cell_type": "code",
   "execution_count": 23,
   "metadata": {},
   "outputs": [
    {
     "name": "stdout",
     "output_type": "stream",
     "text": [
      "/Users/pueyo/Documents/data_from_repos/pastis_data\n",
      "\n"
     ]
    }
   ],
   "source": [
    "overall_dir = util.create_data_path(CONFIG_INI.get('local', 'local_data_path'), telescope = 'luvoir-'+design)\n",
    "os.makedirs(overall_dir, exist_ok=True)\n",
    "resDir = os.path.join(overall_dir, 'matrix_numerical')\n",
    "\n",
    "# Moving parts parameters\n",
    "max_LO = CONFIG_INI.getint('calibration', 'max_LO')\n",
    "max_MID = CONFIG_INI.getint('calibration', 'max_MID')\n",
    "max_HI = CONFIG_INI.getint('calibration', 'max_HI')\n",
    "num_DM_act = CONFIG_INI.getint('calibration', 'num_DM_act')\n",
    "\n",
    "# General telescope parameters\n",
    "nb_seg = CONFIG_INI.getint('LUVOIR', 'nb_subapertures')\n",
    "wvln = CONFIG_INI.getfloat('LUVOIR', 'lambda') * 1e-9  # m\n",
    "diam = CONFIG_INI.getfloat('LUVOIR', 'diameter')  # m\n",
    "nm_aber = CONFIG_INI.getfloat('calibration', 'single_aberration') * 1e-9   # m\n",
    "\n",
    "# Image system parameters\n",
    "im_lamD = CONFIG_INI.getfloat('numerical', 'im_size_lamD_hcipy')  # image size in lambda/D\n",
    "sampling = CONFIG_INI.getfloat('numerical', 'sampling')"
   ]
  },
  {
   "cell_type": "code",
   "execution_count": 24,
   "metadata": {},
   "outputs": [],
   "source": [
    "optics_input = CONFIG_INI.get('LUVOIR', 'optics_path')\n",
    "luvoir = LuvoirAPLC(optics_input, design, sampling)"
   ]
  },
  {
   "cell_type": "code",
   "execution_count": 25,
   "metadata": {},
   "outputs": [],
   "source": [
    "### Instantiate the moving parts as a DMs a la HCIPy\n",
    "luvoir.make_LO_Modes(max_LO)\n",
    "luvoir.make_segment_zernike_primary(max_MID)\n",
    "luvoir.make_HI_Modes(max_HI)\n",
    "luvoir.make_DM(num_DM_act)"
   ]
  },
  {
   "cell_type": "code",
   "execution_count": 26,
   "metadata": {},
   "outputs": [],
   "source": [
    "n_LO = luvoir.zm.num_actuators\n",
    "n_MID = luvoir.sm.num_actuators\n",
    "n_HI = luvoir.fm.num_actuators\n",
    "n_DM = luvoir.dm.num_actuators\n",
    "\n",
    "\n",
    "### Set up the sampling for zernike sensors\n",
    "z_pup_downsample = CONFIG_INI.getfloat('numerical', 'z_pup_downsample')\n",
    "N_pup_z = np.int(luvoir.pupil_grid.shape[0] / z_pup_downsample)\n",
    "grid_zernike = hc.field.make_pupil_grid(N_pup_z, diameter=luvoir.diam)\n",
    "\n",
    "### Dark hole mask\n",
    "dh_outer = hc.circular_aperture(2 * luvoir.apod_dict[design]['owa'] * luvoir.lam_over_d)(luvoir.focal_det)\n",
    "dh_inner = hc.circular_aperture(2 * luvoir.apod_dict[design]['iwa'] * luvoir.lam_over_d)(luvoir.focal_det)\n",
    "dh_mask = (dh_outer - dh_inner).astype('bool')"
   ]
  },
  {
   "cell_type": "code",
   "execution_count": 27,
   "metadata": {},
   "outputs": [
    {
     "name": "stdout",
     "output_type": "stream",
     "text": [
      "contrast floor: 3.924822663883781e-11\n"
     ]
    }
   ],
   "source": [
    "### Reference images for contrast normalization and coronagraph floor\n",
    "LO_modes = np.zeros(n_LO)\n",
    "MID_modes = np.zeros(n_MID)\n",
    "HI_modes = np.zeros(n_HI)\n",
    "DM_modes = np.zeros(n_DM)\n",
    "luvoir.zm.actuators = LO_modes\n",
    "luvoir.sm.actuators = MID_modes\n",
    "luvoir.fm.actuators = HI_modes\n",
    "luvoir.dm.actuators = DM_modes\n",
    "\n",
    "unaberrated_coro_psf, ref = luvoir.calc_psf(ref=True, display_intermediate=False, return_intermediate=False)\n",
    "norm = np.max(ref)\n",
    "\n",
    "dh_intensity = (unaberrated_coro_psf / norm) * dh_mask\n",
    "contrast_floor = np.mean(dh_intensity[np.where(dh_mask != 0)])\n",
    "print('contrast floor: {}'.format(contrast_floor))\n",
    "nonaberrated_coro_psf, ref,inter_ref = luvoir.calc_psf(ref=True, display_intermediate=False, return_intermediate='efield')\n",
    "Efield_ref = inter_ref['at_science_focus'].electric_field"
   ]
  },
  {
   "cell_type": "markdown",
   "metadata": {},
   "source": [
    "# Make matrices"
   ]
  },
  {
   "cell_type": "code",
   "execution_count": 32,
   "metadata": {},
   "outputs": [
    {
     "data": {
      "text/plain": [
       "Field([ 1.42857520e-04,  3.98266551e-05, -4.32930006e-05, ...,\n",
       "        4.32927439e-05, -3.98269517e-05, -1.42857784e-04])"
      ]
     },
     "execution_count": 32,
     "metadata": {},
     "output_type": "execute_result"
    }
   ],
   "source": [
    "Efield_ref.real"
   ]
  },
  {
   "cell_type": "code",
   "execution_count": 33,
   "metadata": {},
   "outputs": [],
   "source": [
    "mat_LO = np.zeros([n_LO, n_LO])\n",
    "for i in range(0, n_LO):\n",
    "    for j in range(0, n_LO):\n",
    "        tmpI = G_LO_real[i]+1j*G_LO_imag[i] - Efield_ref\n",
    "        tmpJ = G_LO_real[j]+1j*G_LO_imag[j] - Efield_ref\n",
    "        test = np.real(tmpI*np.conj(tmpJ))\n",
    "        dh_test = (test / norm) * dh_mask\n",
    "        contrast = np.mean(dh_test[np.where(dh_mask != 0)])\n",
    "        mat_LO[i, j] = contrast        "
   ]
  },
  {
   "cell_type": "markdown",
   "metadata": {},
   "source": [
    "# Modes in the LO regime"
   ]
  },
  {
   "cell_type": "markdown",
   "metadata": {},
   "source": [
    "## Read eigenmodes and eigenvalues"
   ]
  },
  {
   "cell_type": "code",
   "execution_count": null,
   "metadata": {},
   "outputs": [],
   "source": [
    "evals, evecs = np.linalg.eig(matrix)\n",
    "sorted_evals = np.sort(evals)\n",
    "sorted_indices = np.argsort(evals)\n",
    "sorted_evecs = evecs[:, sorted_indices]\n",
    "plt.figure(figsize=(14, 8))\n",
    "#plt.plot(evals, label='Unsorted from eigendecomposition')\n",
    "plt.plot(sorted_evals, label='Sorted lowest to highest evals')\n",
    "plt.semilogy()\n",
    "plt.xlabel('Eigenmodes')\n",
    "plt.ylabel('Log Eigenvalues')\n",
    "plt.legend()"
   ]
  },
  {
   "cell_type": "code",
   "execution_count": null,
   "metadata": {},
   "outputs": [],
   "source": [
    "# Lets compute all modes now for LUVOIR with an HCIPy SM\n",
    "emodes = []\n",
    "\n",
    "for mode in range(len(evals)):\n",
    "    print('Working on mode {}/{}.'.format(mode+1, len(evals)))\n",
    "    \n",
    "    zernike_coeffs = eunit*sorted_evecs[:, mode]/2\n",
    "    luvoir.sm.actuators = zernike_coeffs\n",
    "    wf_sm = luvoir.sm(luvoir.wf_aper)\n",
    "    emodes.append(wf_sm.phase)"
   ]
  },
  {
   "cell_type": "markdown",
   "metadata": {},
   "source": [
    "## Stability requirements\n",
    "\n",
    "### Static contrast and static contribution\n",
    "\n",
    "According to Lucie's paper, we can get the maximum aberration $\\sigma_p$ we can allow per mode $p$ if we want to obtain a contrast $C$ directly from the according eigenvalue $\\lambda_p$.\n",
    "\n",
    "$$\\sigma_p = \\sqrt{\\frac{C_p}{\\lambda_p}}$$\n",
    "\n",
    "Where $C_p$ is the contrast contribution from mode $p$ only. For simplicity, we assume that all modes have the same contribution to the total contrast $C$, meaning\n",
    "\n",
    "$$C = C_1 + C_2 + ... + C_N$$\n",
    "\n",
    "with $N$ being the total number of modes. This also means\n",
    "\n",
    "$$C_p = \\frac{C}{N}$$\n",
    "\n",
    "Since we have one mode that has a really low eigenvalue and essentially on contribution, we can take that mode out and assume that the other $N-1$ modes bear all the contrast contributions, changing it to\n",
    "\n",
    "$$C_p = C_1 + C_2 + ... + C_{N-1}$$\n",
    "\n",
    "and\n",
    "\n",
    "$$C_p = \\frac{C}{N-1}$$\n",
    "\n",
    "So we can calculate the maximum ocntribution of a mode $\\sigma_p$ with\n",
    "\n",
    "$$\\sigma_p = \\sqrt{\\frac{C}{(N-1)\\lambda_p}}$$\n",
    "\n",
    "We have 120 segments, so $N=120$ and we will aim to achieve a static contrast of $C = 10^{-10}$.\n",
    "\n",
    "Note how we start numbering at 1 here, to stay consistent with our segment numbering, but when doing these things in Python we need to start numbering at 0.\n",
    "\n",
    "Skype with Lucie, have to include baseline contrast $C_0$:\n",
    "\n",
    "$$\\sigma_p = \\sqrt{\\frac{C-C_0}{(N-1)\\lambda_p}}$$"
   ]
  },
  {
   "cell_type": "code",
   "execution_count": null,
   "metadata": {},
   "outputs": [],
   "source": [
    "number_of_modes = luvoir.sm.num_actuators"
   ]
  },
  {
   "cell_type": "code",
   "execution_count": null,
   "metadata": {},
   "outputs": [],
   "source": [
    "c_stat = 1e-11\n",
    "print('Static contrast: {}'.format(c_stat))\n",
    "print('N = {}'.format(number_of_modes))"
   ]
  },
  {
   "cell_type": "code",
   "execution_count": null,
   "metadata": {},
   "outputs": [],
   "source": [
    "# Calculate single sigma - remember that we start numbering at 0 because of python\n",
    "def get_sigma(cstat, nseg, eigenval, c_zero):\n",
    "#     sigma = np.sqrt((cstat - c_zero) / ((nseg-1)*eigenval))\n",
    "    sigma = np.sqrt((cstat) / ((nseg-1)*eigenval))\n",
    "\n",
    "    return sigma"
   ]
  },
  {
   "cell_type": "code",
   "execution_count": null,
   "metadata": {},
   "outputs": [],
   "source": [
    "p = 1\n",
    "sigma_p = get_sigma(c_stat, number_of_modes, sorted_evals[p], baseline_contrast)\n",
    "print(sigma_p)"
   ]
  },
  {
   "cell_type": "code",
   "execution_count": null,
   "metadata": {},
   "outputs": [],
   "source": [
    "# Do them all at once\n",
    "sigmas = get_sigma(c_stat, number_of_modes, sorted_evals, baseline_contrast)\n",
    "#print(sigmas)\n",
    "\n",
    "# Save them\n",
    "#np.savetxt(os.path.join(savedpath, 'results', 'sigmas.txt'), sigmas)"
   ]
  },
  {
   "cell_type": "code",
   "execution_count": null,
   "metadata": {},
   "outputs": [],
   "source": [
    "plt.figure(figsize=(15, 8))\n",
    "plt.plot(sigmas[1:])\n",
    "plt.semilogy()\n",
    "plt.title('Constraints per mode', size=15)\n",
    "plt.xlabel('Mode', size=15)\n",
    "plt.ylabel('Max mode contribution $\\sigma_p$ (nm)', size=15)"
   ]
  },
  {
   "cell_type": "markdown",
   "metadata": {},
   "source": [
    "### Dynamic contast and dynamic contribution\n",
    "\n",
    "We want $\\Delta C = 10^{-11}$. This \"dynamic contast\" is the error on the contrast $C$ which we want to limit, so we write it as\n",
    "\n",
    "$$\\Delta C = \\sqrt{\\Delta C_1^2 + \\Delta C_2^2 + ... \\Delta C_N^2} = \\sqrt{N \\Delta C_p^2} = \\sqrt{N} \\Delta C_p$$\n",
    "\n",
    "which also means\n",
    "\n",
    "$$\\Delta C_p = \\frac{C}{\\sqrt{N}}$$\n",
    "\n",
    "and then again because we discard that non-contributing mode, we actually have\n",
    "\n",
    "$$\\Delta C_p = \\frac{C}{\\sqrt{N-1}}$$\n",
    "\n",
    "For the $\\Delta \\sigma_p$ we can use the same equation like for the $\\sigma_p$, but we plug in $\\Delta C$ instead of $C$.\n",
    "\n",
    "$$\\Delta \\sigma_p = \\sqrt{\\frac{\\Delta C}{\\lambda_p}} = \\sqrt{\\frac{\\Delta C}{\\sqrt{(N-1)}\\ \\lambda_p}}$$"
   ]
  },
  {
   "cell_type": "code",
   "execution_count": null,
   "metadata": {},
   "outputs": [],
   "source": [
    "c_dyn = 1e-11\n",
    "\n",
    "# Calculate the Delta Cs\n",
    "def get_delta_sigma(cdyn, nseg, eigenval):\n",
    "    del_sigma = np.sqrt(cdyn / (np.sqrt(nseg-1)*eigenval))\n",
    "    return del_sigma"
   ]
  },
  {
   "cell_type": "code",
   "execution_count": null,
   "metadata": {},
   "outputs": [],
   "source": [
    "del_sigmas = get_delta_sigma(c_dyn, number_of_modes, sorted_evals)\n",
    "#print(del_sigmas)\n",
    "\n",
    "# Save them\n",
    "#np.savetxt(os.path.join(savedpath, 'results', 'delta_sigmas.txt'), del_sigmas)"
   ]
  },
  {
   "cell_type": "code",
   "execution_count": null,
   "metadata": {},
   "outputs": [],
   "source": [
    "plt.figure(figsize=(15, 8))\n",
    "plt.plot(del_sigmas[1:])\n",
    "plt.semilogy()\n",
    "plt.title('Stability per mode', size=15)\n",
    "plt.xlabel('Mode', size=15)\n",
    "plt.ylabel('Max mode contribution $\\Delta \\sigma_p$ (nm)', size=15)"
   ]
  },
  {
   "cell_type": "markdown",
   "metadata": {},
   "source": [
    "These are only slightly larger than the $\\sigma_p$.\n",
    "\n",
    "### Cumulative contrast plot\n",
    "\n",
    "I guess the only way I can think of right now to verify at least the $\\sigma_p$ is to make the same cumulative contrast like Fig. 11b in Lucie's paper. Let's do that."
   ]
  },
  {
   "cell_type": "markdown",
   "metadata": {},
   "source": [
    "Since I never get rid of the first mode, global piston with a ridiculously low eigenvalue, I will have a `Nan` in the sigma array, so when I sum up the OPD, I have to use `numpy.nansum()` instead of `numpy.nan()`.\n",
    "\n",
    "#### Cumulative contrast with E2E simulator"
   ]
  },
  {
   "cell_type": "code",
   "execution_count": null,
   "metadata": {},
   "outputs": [],
   "source": [
    "eunit = 1e-9"
   ]
  },
  {
   "cell_type": "code",
   "execution_count": null,
   "metadata": {},
   "outputs": [],
   "source": [
    "cont_cum_e2e = np.zeros([len(evals)])\n",
    "cont_stick_e2e = np.zeros([len(evals)])\n",
    "tmp_cont = 0 \n",
    "for maxmode in range(len(evals)):\n",
    "#for maxmode in range(40):\n",
    "\n",
    "    print(maxmode)\n",
    "    zernike_coeffs = sigmas[maxmode]*sorted_evecs[:,maxmode]\n",
    "    luvoir.sm.actuators = eunit*zernike_coeffs/2\n",
    "    luvoir.sm(luvoir.wf_aper)\n",
    "\n",
    "    # Get PSF from putting this OPD on the SM\n",
    "    psf = luvoir.calc_psf()\n",
    "\n",
    "    # Calculate the contrast from that PSF\n",
    "    dh_intensity = psf/norm * dh_mask\n",
    "    contrast = np.mean(dh_intensity[np.where(dh_intensity != 0)]) - baseline_contrast\n",
    "    cont_cum_e2e[maxmode] = contrast\n",
    "    tmp_cont = tmp_cont+contrast\n",
    "    cont_stick_e2e[maxmode] = tmp_cont"
   ]
  },
  {
   "cell_type": "code",
   "execution_count": null,
   "metadata": {},
   "outputs": [],
   "source": [
    "# Save cumulative contrast plot from E2E simulator\n",
    "#np.savetxt(os.path.join(savedpath, 'results', 'cumulative_contrast_e2e.txt'), cont_cum_e2e)"
   ]
  },
  {
   "cell_type": "code",
   "execution_count": null,
   "metadata": {},
   "outputs": [],
   "source": [
    "# Plot the cumulative contrast from E2E simulator\n",
    "plt.figure(figsize=(16, 10))\n",
    "plt.plot(cont_stick_e2e)\n",
    "plt.title('E2E cumulative contrast for target $C$ = ' + str(c_stat), size=15)\n",
    "plt.xlabel('Mode number', size=15)\n",
    "plt.ylabel('Constrast', size=15)\n",
    "\n",
    "#plt.savefig(os.path.join(savedpath, 'results', 'cumulative_contrast_e2e.pdf'))"
   ]
  },
  {
   "cell_type": "markdown",
   "metadata": {},
   "source": [
    "#### Cumulative cotrast with numerical PASTIS matrix"
   ]
  },
  {
   "cell_type": "code",
   "execution_count": null,
   "metadata": {},
   "outputs": [],
   "source": [
    "# Read matrix\n",
    "#matrix = fits.getdata(os.path.join(savedpath, 'matrix_numerical/PASTISmatrix_num_piston_Noll1.fits'))\n",
    "\n",
    "# Calculate cumulative contrast\n",
    "cont_cum_pastis = np.zeros([len(evals)])\n",
    "cont_stick_pastis = np.zeros([len(evals)])\n",
    "tmp_cont = 0 \n",
    "for maxmode in range(len(evals)):\n",
    "    aber = sorted_evecs[:,maxmode]*sigmas[maxmode]\n",
    "    aber *= u.nm\n",
    "    contrast_matrix = util.pastis_contrast(aber, matrix)\n",
    "    cont_cum_pastis[maxmode] = (contrast_matrix)\n",
    "    tmp_cont = tmp_cont+contrast_matrix\n",
    "    cont_stick_pastis[maxmode] = tmp_cont"
   ]
  },
  {
   "cell_type": "code",
   "execution_count": null,
   "metadata": {},
   "outputs": [],
   "source": [
    "# Save cumulative contrast plot from numerical PASTIS matrix\n",
    "#np.savetxt(os.path.join(savedpath, 'results', 'cumulative_contrast_pastis.txt'), cont_cum_pastis)"
   ]
  },
  {
   "cell_type": "code",
   "execution_count": null,
   "metadata": {
    "scrolled": true
   },
   "outputs": [],
   "source": [
    "plt.figure(figsize=(16, 10))\n",
    "plt.plot(cont_cum_e2e, label='E2E')\n",
    "plt.plot(cont_cum_pastis, label='PASTIS')\n",
    "plt.title('Cumulative contrast for target $C$ = ' + str(c_stat), size=15)\n",
    "plt.xlabel('Mode number', size=15)\n",
    "plt.ylabel('Constrast', size=15)\n",
    "plt.legend()"
   ]
  },
  {
   "cell_type": "code",
   "execution_count": null,
   "metadata": {},
   "outputs": [],
   "source": [
    "plt.figure(figsize=(16, 10))\n",
    "plt.plot(cont_stick_e2e, label='E2E')\n",
    "plt.plot(cont_stick_pastis, label='PASTIS')\n",
    "plt.title('Cumulative contrast for target $C$ = ' + str(c_stat), size=15)\n",
    "plt.xlabel('Mode number', size=15)\n",
    "plt.ylabel('Constrast', size=15)\n",
    "plt.legend()"
   ]
  },
  {
   "cell_type": "markdown",
   "metadata": {},
   "source": [
    "## Checking normalisation\n",
    "\n",
    "$M$ is a mode and $p,q$ go from 1 to 120. The modes are normalized when their dot product is 1 for a mode with itself and 0 in all other cases:\n",
    "\n",
    "$$<M_p, M_q>_{pup} = \\begin{cases} \\mbox{0} & p \\neq q \\\\ \\mbox{1} & p = q \\end{cases}$$\n",
    "\n",
    "The image plane modes $\\mathscr{C}(M_p)$ (= a pupil plane mode $M$ propagated through the coronagraph) should be orthogonal and the diagonal of this matrix filled with the eigenvaues $\\Lambda_p$:\n",
    "\n",
    "$$<\\mathscr{C}(M_p), \\mathscr{C}(M_q)>_{DH} = \\begin{cases} \\mbox{0} & p \\neq q \\\\ \\Lambda_p & p = q \\end{cases}$$\n",
    "\n",
    "### Check orthonormality for pupil modes $M_p$"
   ]
  },
  {
   "cell_type": "code",
   "execution_count": null,
   "metadata": {},
   "outputs": [],
   "source": [
    "# Try this for a random pair of modes\n",
    "modedot1 = 4\n",
    "modedot2 = 100\n",
    "res = np.dot(emodes[modedot1], emodes[modedot2])\n",
    "print(res)"
   ]
  },
  {
   "cell_type": "code",
   "execution_count": null,
   "metadata": {},
   "outputs": [],
   "source": [
    "# Do this for all modes\n",
    "pupildot = np.zeros((6*120, 6*120))\n",
    "\n",
    "for dotrun in range(len(evals)):\n",
    "    print(dotrun)\n",
    "    for dotforrest in range(len(evals)):\n",
    "        pupildot[dotrun, dotforrest] = np.dot(emodes[dotrun], emodes[dotforrest])"
   ]
  },
  {
   "cell_type": "code",
   "execution_count": null,
   "metadata": {},
   "outputs": [],
   "source": [
    "plt.figure(figsize=(10, 10))\n",
    "plt.imshow(pupildot)"
   ]
  },
  {
   "cell_type": "code",
   "execution_count": null,
   "metadata": {},
   "outputs": [],
   "source": [
    "plt.plot(pupildot[100,:])"
   ]
  },
  {
   "cell_type": "code",
   "execution_count": null,
   "metadata": {},
   "outputs": [],
   "source": [
    "pupildot2 = np.zeros((6*120, 6*120))\n",
    "\n",
    "for dotrun in range(len(evals)):\n",
    "    print(dotrun)\n",
    "    for dotforrest in range(len(evals)):\n",
    "        pupildot2[dotrun, dotforrest] = np.dot(sorted_evecs[:,dotrun], sorted_evecs[:,dotforrest])"
   ]
  },
  {
   "cell_type": "code",
   "execution_count": null,
   "metadata": {
    "scrolled": true
   },
   "outputs": [],
   "source": [
    "plt.figure(figsize=(10, 10))\n",
    "plt.imshow(pupildot2)"
   ]
  },
  {
   "cell_type": "code",
   "execution_count": null,
   "metadata": {},
   "outputs": [],
   "source": [
    "plt.plot(pupildot2[1,:])"
   ]
  },
  {
   "cell_type": "markdown",
   "metadata": {},
   "source": [
    "### Create or read image modes $\\mathscr{C}(M_p)$"
   ]
  },
  {
   "cell_type": "code",
   "execution_count": null,
   "metadata": {},
   "outputs": [],
   "source": [
    "# Create them\n",
    "all_psfs = []\n",
    "all_efields = []\n",
    "\n",
    "for maxmode in range(len(evals)):\n",
    "#for maxmode in range(40):\n",
    "\n",
    "    print(maxmode)\n",
    "    zernike_coeffs = sorted_evecs[:,maxmode]\n",
    "    luvoir.sm.actuators = eunit*zernike_coeffs/2\n",
    "    luvoir.sm(luvoir.wf_aper)\n",
    "    \n",
    "    psf, ref, inter = luvoir.calc_psf(ref=True, return_intermediate='efield')\n",
    "    # Everything gets returns as an E-field here, the coro PSF, the no-FPM reference and the intermediate planes.\n",
    "    # Except for the intensity image right after the FPM.\n",
    "    \n",
    "    # Save as fits\n",
    "    #hc.write_fits(psf, os.path.join(savedpath, 'results', 'modes', 'image_modes', 'mode'+str(gump+1)+'.fits'))\n",
    "    \n",
    "    all_psfs.append(psf)\n",
    "    all_efields.append(inter)"
   ]
  },
  {
   "cell_type": "code",
   "execution_count": null,
   "metadata": {},
   "outputs": [],
   "source": [
    "# Read them\n",
    "# ..."
   ]
  },
  {
   "cell_type": "code",
   "execution_count": null,
   "metadata": {},
   "outputs": [],
   "source": [
    "# Check the intermediates\n",
    "print(type(all_efields))\n",
    "print(type(all_efields[0]))\n",
    "print(all_efields[0].keys())\n",
    "print(type(all_efields[0]['after_lyot']))"
   ]
  },
  {
   "cell_type": "code",
   "execution_count": null,
   "metadata": {},
   "outputs": [],
   "source": [
    "# Check one of the PSFs\n",
    "print(len(all_psfs))\n",
    "plt.figure(figsize=(10, 10))\n",
    "hc.imshow_field(all_psfs[3].intensity/norm, norm=LogNorm())\n",
    "plt.colorbar()"
   ]
  },
  {
   "cell_type": "markdown",
   "metadata": {},
   "source": [
    "### Checking the orthogonality for image modes $\\mathscr{C}(M_p)$"
   ]
  },
  {
   "cell_type": "code",
   "execution_count": null,
   "metadata": {},
   "outputs": [],
   "source": [
    "zernike_coeffs = np.zeros([6*120])\n",
    "luvoir.sm.actuators = zernike_coeffs\n",
    "wf_sm = luvoir.sm(luvoir.wf_aper)\n",
    "psf_unaber, ref, inter_unaber = luvoir.calc_psf(ref=True, return_intermediate='efield')"
   ]
  },
  {
   "cell_type": "code",
   "execution_count": null,
   "metadata": {},
   "outputs": [],
   "source": [
    "# Try this for a random pair of modes\n",
    "imdot1 = 479\n",
    "imdot2 = 100\n",
    "\n",
    "# test1_field = all_psfs[imdot1].electric_field - psf_unaber.electric_field\n",
    "# test2_field = all_psfs[imdot2].electric_field  - psf_unaber.electric_field \n",
    "test1_field = all_psfs[imdot1].electric_field - psf_unaber.electric_field\n",
    "test2_field = all_psfs[imdot2].electric_field - psf_unaber.electric_field \n",
    "res = np.vdot((test1_field * dh_mask ), (test2_field * dh_mask))/norm\n",
    "print(res)"
   ]
  },
  {
   "cell_type": "code",
   "execution_count": null,
   "metadata": {},
   "outputs": [],
   "source": [
    "dhdh = np.zeros((6*120, 6*120))\n",
    "mean_int = []\n",
    "for dotrun in range(len(evals)):\n",
    "    print(dotrun)\n",
    "    inten = np.abs(all_psfs[dotrun].electric_field - psf_unaber.electric_field)**2/norm * dh_mask\n",
    "    mean_int.append(np.mean(inten[np.where(inten != 0)]))\n",
    "    \n",
    "    for dotforrest in range(len(evals)):\n",
    "        test1_field = all_psfs[dotrun].electric_field - psf_unaber.electric_field\n",
    "        test2_field = all_psfs[dotforrest].electric_field - psf_unaber.electric_field \n",
    "        res = np.vdot((test1_field * dh_mask ), (test2_field * dh_mask))/norm\n",
    "        dhdh[dotrun, dotforrest] = res"
   ]
  },
  {
   "cell_type": "code",
   "execution_count": null,
   "metadata": {},
   "outputs": [],
   "source": [
    "# Plot the mean contrast in the DH as function of mode\n",
    "plt.plot(mean_int)\n",
    "plt.plot(sorted_evals)\n",
    "plt.semilogy()\n",
    "plt.ylabel('Mean contrast in DH')\n",
    "plt.xlabel('Mode number')"
   ]
  },
  {
   "cell_type": "code",
   "execution_count": null,
   "metadata": {},
   "outputs": [],
   "source": [
    "print(dhdh.shape)\n",
    "plt.figure(figsize=(10, 10))\n",
    "plt.imshow(dhdh)\n",
    "plt.title('Image plane orthogonality')\n",
    "plt.colorbar()"
   ]
  },
  {
   "cell_type": "markdown",
   "metadata": {},
   "source": [
    "So this part dos not work proprly yet. We need to check is a little more. I believe the problem is the raw contrast not being subtractd at the right place"
   ]
  },
  {
   "cell_type": "markdown",
   "metadata": {},
   "source": [
    "## Segment based constraints"
   ]
  },
  {
   "cell_type": "code",
   "execution_count": null,
   "metadata": {},
   "outputs": [],
   "source": [
    "plt.rcParams['font.family'] = \"sans-serif\"\n",
    "plt.rcParams[\"font.sans-serif\"] = [\"Computer Modern Sans\"]\n",
    "plt.rcParams[\"text.usetex\"] = True\n",
    "plt.rcParams[\"text.latex.preamble\"] = r\"\\usepackage{cmbright}\"\n",
    "plt.rcParams['font.size'] = 16\n",
    "plt.rcParams['axes.labelsize'] = 22\n",
    "plt.rcParams['axes.labelweight'] = 'bold'\n",
    "plt.rcParams['xtick.labelsize'] = 16\n",
    "plt.rcParams['ytick.labelsize'] = 16\n",
    "plt.rcParams['legend.fontsize'] = 16\n",
    "plt.rcParams['figure.titlesize'] = 16"
   ]
  },
  {
   "cell_type": "code",
   "execution_count": null,
   "metadata": {},
   "outputs": [],
   "source": [
    "c_target = 1e-10"
   ]
  },
  {
   "cell_type": "code",
   "execution_count": null,
   "metadata": {},
   "outputs": [],
   "source": [
    "number_of_modes = luvoir.sm.num_actuators\n",
    "# Calculate the inverse of the pastis MODE matrix\n",
    "modestosegs = np.linalg.pinv(sorted_evecs)\n",
    "\n",
    "# # Calculate all mean contrasts of the pastis modes directly (as-is, with natural normalization)\n",
    "# c_avg = []\n",
    "# for i in range(number_of_modes):\n",
    "#     c_avg.append(util.pastis_contrast(sorted_evecs[:, i] * u.nm, matrix) + baseline_contrast)\n",
    "\n",
    "# # Calculate segment requirements\n",
    "# mu_map = np.sqrt(\n",
    "#     ((c_target - baseline_contrast) / number_of_modes) / (np.dot(c_avg - baseline_contrast, np.square(modestosegs))))\n",
    "\n",
    "# Calculate all mean contrasts of the pastis modes directly (as-is, with natural normalization)\n",
    "c_avg = []\n",
    "for i in range(number_of_modes):\n",
    "    c_avg.append(util.pastis_contrast(sorted_evecs[:, i] * u.nm, matrix) )\n",
    "\n",
    "# Calculate segment requirements\n",
    "mu_map = np.sqrt(\n",
    "    ((c_target ) / number_of_modes) / (np.dot(c_avg, np.square(modestosegs))))"
   ]
  },
  {
   "cell_type": "code",
   "execution_count": null,
   "metadata": {},
   "outputs": [],
   "source": [
    "zernike_coeffs = mu_map*eunit/2\n",
    "luvoir.sm.actuators = zernike_coeffs\n",
    "luvoir.sm(luvoir.wf_aper)\n",
    "psf, ref, inter = luvoir.calc_psf(ref=True, return_intermediate='efield')\n",
    "plt.figure(figsize=(10, 10))\n",
    "hc.imshow_field(psf.intensity/norm, norm=LogNorm())\n",
    "plt.colorbar()\n",
    "dh_intensity = np.abs(psf.electric_field - psf_unaber.electric_field)**2/norm \n",
    "test_contrast = np.mean(dh_intensity[np.where(dh_intensity != 0)])\n",
    "print('contrast:', test_contrast)"
   ]
  },
  {
   "cell_type": "code",
   "execution_count": null,
   "metadata": {},
   "outputs": [],
   "source": [
    "N_zernike = 6\n",
    "zernike_coeffs_numaps = np.zeros([N_zernike,number_of_modes])\n",
    "for qq in range(N_zernike):\n",
    "    zernike_coeffs_tmp = np.zeros([number_of_modes])\n",
    "    for pp in range(120):\n",
    "        zernike_coeffs_tmp[qq+(pp)*N_zernike] = mu_map[qq+(pp)*N_zernike]\n",
    "    zernike_coeffs_numaps[qq] = zernike_coeffs_tmp"
   ]
  },
  {
   "cell_type": "code",
   "execution_count": null,
   "metadata": {},
   "outputs": [],
   "source": [
    "nu_maps = []\n",
    "for qq in range(N_zernike):\n",
    "    zernike_coeffs = eunit*zernike_coeffs_numaps[qq]/2\n",
    "    luvoir.sm.actuators = zernike_coeffs\n",
    "    nu_maps.append(luvoir.sm(luvoir.wf_aper).phase/luvoir.wf_aper.wavenumber)"
   ]
  },
  {
   "cell_type": "code",
   "execution_count": null,
   "metadata": {},
   "outputs": [],
   "source": [
    "from mpl_toolkits.axes_grid1 import make_axes_locatable"
   ]
  },
  {
   "cell_type": "code",
   "execution_count": null,
   "metadata": {},
   "outputs": [],
   "source": [
    "fig, ax = plt.subplots(ncols=1)\n",
    "img1 = hc.imshow_field(nu_maps[0]/eunit*1000, cmap='RdBu')#, vmin=pmin, vmax=pmax)\n",
    "clb = fig.colorbar(img1)\n",
    "clb.set_label('pm', rotation=90)\n",
    "plt.tight_layout(h_pad=1)\n",
    "plt.title('Segment Level Piston ')"
   ]
  },
  {
   "cell_type": "code",
   "execution_count": null,
   "metadata": {},
   "outputs": [],
   "source": [
    "fig, ax = plt.subplots(ncols=1)\n",
    "img1 = hc.imshow_field(nu_maps[0]/eunit*1000, cmap='RdBu')#, vmin=pmin, vmax=pmax)\n",
    "clb = fig.colorbar(img1)\n",
    "clb.set_label('pm', rotation=90)\n",
    "plt.tight_layout(h_pad=1)\n",
    "plt.title('Segment Level Piston ')\n",
    "zernike_coeffs = zernike_coeffs_numaps[0]*eunit/2\n",
    "luvoir.sm.actuators = zernike_coeffs\n",
    "luvoir.sm(luvoir.wf_aper)\n",
    "psf, ref = luvoir.calc_psf(ref=True, return_intermediate='False')\n",
    "plt.figure(figsize=(10, 10))\n",
    "hc.imshow_field(psf/norm, norm=LogNorm())\n",
    "plt.colorbar()\n",
    "dh_intensity = psf/norm * dh_mask\n",
    "test_contrast = np.mean(dh_intensity[np.where(dh_intensity != 0)])- baseline_contrast\n",
    "print('contrast:', test_contrast)"
   ]
  },
  {
   "cell_type": "code",
   "execution_count": null,
   "metadata": {},
   "outputs": [],
   "source": [
    "fig, ax = plt.subplots(ncols=1)\n",
    "img1 = hc.imshow_field(nu_maps[1]/eunit*1000, cmap='RdBu')#, vmin=pmin, vmax=pmax)\n",
    "clb = fig.colorbar(img1)\n",
    "clb.set_label('pm', rotation=90)\n",
    "plt.tight_layout(h_pad=1)\n",
    "plt.title('Segment Level Tip ')\n",
    "zernike_coeffs = zernike_coeffs_numaps[1]*eunit/2\n",
    "luvoir.sm.actuators = zernike_coeffs\n",
    "luvoir.sm(luvoir.wf_aper)\n",
    "psf, ref = luvoir.calc_psf(ref=True, return_intermediate='False')\n",
    "plt.figure(figsize=(10, 10))\n",
    "hc.imshow_field(psf/norm, norm=LogNorm())\n",
    "plt.colorbar()\n",
    "dh_intensity = psf/norm * dh_mask\n",
    "test_contrast = np.mean(dh_intensity[np.where(dh_intensity != 0)]) - baseline_contrast\n",
    "print('contrast:', test_contrast)"
   ]
  },
  {
   "cell_type": "code",
   "execution_count": null,
   "metadata": {},
   "outputs": [],
   "source": [
    "fig, ax = plt.subplots(ncols=1)\n",
    "img1 = hc.imshow_field(nu_maps[2]/eunit*1000, cmap='RdBu')#, vmin=pmin, vmax=pmax)\n",
    "clb = fig.colorbar(img1)\n",
    "clb.set_label('pm', rotation=90)\n",
    "plt.tight_layout(h_pad=1)\n",
    "plt.title('Segment Level tilt ')\n",
    "zernike_coeffs = zernike_coeffs_numaps[2]*eunit / 2\n",
    "luvoir.sm.actuators = zernike_coeffs\n",
    "luvoir.sm(luvoir.wf_aper)\n",
    "psf, ref = luvoir.calc_psf(ref=True, return_intermediate='False')\n",
    "plt.figure(figsize=(10, 10))\n",
    "hc.imshow_field(psf/norm, norm=LogNorm())\n",
    "plt.colorbar()\n",
    "dh_intensity = psf/norm * dh_mask\n",
    "test_contrast = np.mean(dh_intensity[np.where(dh_intensity != 0)]) - baseline_contrast\n",
    "print('contrast:', test_contrast)"
   ]
  },
  {
   "cell_type": "code",
   "execution_count": null,
   "metadata": {},
   "outputs": [],
   "source": [
    "fig, ax = plt.subplots(ncols=1)\n",
    "img1 = hc.imshow_field(nu_maps[3]/eunit*1000, cmap='RdBu')#, vmin=pmin, vmax=pmax)\n",
    "clb = fig.colorbar(img1)\n",
    "clb.set_label('pm', rotation=90)\n",
    "plt.tight_layout(h_pad=1)\n",
    "plt.title('Segmement Level focus ')\n",
    "zernike_coeffs = zernike_coeffs_numaps[3]*eunit/2\n",
    "luvoir.sm.actuators = zernike_coeffs\n",
    "luvoir.sm(luvoir.wf_aper)\n",
    "psf, ref = luvoir.calc_psf(ref=True, return_intermediate='False')\n",
    "plt.figure(figsize=(10, 10))\n",
    "hc.imshow_field(psf/norm, norm=LogNorm())\n",
    "plt.colorbar()\n",
    "dh_intensity = psf/norm * dh_mask\n",
    "test_contrast = np.mean(dh_intensity[np.where(dh_intensity != 0)]) - baseline_contrast\n",
    "print('contrast:', test_contrast)"
   ]
  },
  {
   "cell_type": "code",
   "execution_count": null,
   "metadata": {},
   "outputs": [],
   "source": [
    "fig, ax = plt.subplots(ncols=1)\n",
    "img1 = hc.imshow_field(nu_maps[4]/eunit*1000, cmap='RdBu')#, vmin=pmin, vmax=pmax)\n",
    "clb = fig.colorbar(img1)\n",
    "clb.set_label('pm', rotation=90)\n",
    "plt.tight_layout(h_pad=1)\n",
    "plt.title('Segmement Level twisted focus 1 ')\n",
    "zernike_coeffs = zernike_coeffs_numaps[3]*eunit/2\n",
    "luvoir.sm.actuators = zernike_coeffs\n",
    "luvoir.sm(luvoir.wf_aper)\n",
    "psf, ref = luvoir.calc_psf(ref=True, return_intermediate='False')\n",
    "plt.figure(figsize=(10, 10))\n",
    "hc.imshow_field(psf/norm, norm=LogNorm())\n",
    "plt.colorbar()\n",
    "dh_intensity = psf/norm * dh_mask\n",
    "test_contrast = np.mean(dh_intensity[np.where(dh_intensity != 0)]) - baseline_contrast\n",
    "print('contrast:', test_contrast)"
   ]
  },
  {
   "cell_type": "code",
   "execution_count": null,
   "metadata": {},
   "outputs": [],
   "source": [
    "fig, ax = plt.subplots(ncols=1)\n",
    "img1 = hc.imshow_field(nu_maps[5]/eunit*1000, cmap='RdBu')#, vmin=pmin, vmax=pmax)\n",
    "clb = fig.colorbar(img1)\n",
    "clb.set_label('pm', rotation=90)\n",
    "plt.tight_layout(h_pad=1)\n",
    "plt.title('Segment Level twisted focus 2 ')\n",
    "zernike_coeffs = zernike_coeffs_numaps[3]*eunit/2\n",
    "luvoir.sm.actuators = zernike_coeffs\n",
    "luvoir.sm(luvoir.wf_aper)\n",
    "psf, ref = luvoir.calc_psf(ref=True, return_intermediate='False')\n",
    "plt.figure(figsize=(10, 10))\n",
    "hc.imshow_field(psf/norm, norm=LogNorm())\n",
    "plt.colorbar(aspect = 4)\n",
    "dh_intensity = psf/norm * dh_mask\n",
    "test_contrast = np.mean(dh_intensity[np.where(dh_intensity != 0)]) - baseline_contrast\n",
    "print('contrast:', test_contrast)"
   ]
  },
  {
   "cell_type": "code",
   "execution_count": null,
   "metadata": {},
   "outputs": [],
   "source": [
    "n_repeat = 3000\n",
    "all_contr_rand_seg = []\n",
    "all_random_maps = []\n",
    "for rep in range(n_repeat):\n",
    "    print('Segment realization {}/{}'.format(rep + 1, n_repeat))\n",
    "    zernike_coeffs = np.random.uniform(-mu_map*eunit,mu_map*eunit,number_of_modes)\n",
    "    luvoir.sm.actuators = zernike_coeffs\n",
    "    luvoir.sm(luvoir.wf_aper)\n",
    "    psf, ref, inter = luvoir.calc_psf(ref=True, return_intermediate='efield')\n",
    "#     plt.figure(figsize=(10, 10))\n",
    "#     hc.imshow_field(psf.intensity/norm, norm=LogNorm())\n",
    "#     plt.colorbar()\n",
    "    dh_intensity = np.abs(psf.electric_field - psf_unaber.electric_field)**2/norm \n",
    "    test_contrast = np.mean(dh_intensity[np.where(dh_intensity != 0)])\n",
    "    all_contr_rand_seg.append(test_contrast) \n",
    "    print('contrast:', test_contrast)\n",
    "    "
   ]
  },
  {
   "cell_type": "code",
   "execution_count": null,
   "metadata": {},
   "outputs": [],
   "source": [
    "plt.figure(figsize=(16, 10))\n",
    "plt.hist(all_contr_rand_seg,30)\n",
    "plt.title('E2E raw contrast, {} realizations, target contrast 1e-10'.format(n_repeat), size=20)\n",
    "plt.xlabel('Mean contrast in DH', size=20)\n",
    "plt.ylabel('PDF', size=20)\n",
    "plt.tick_params(axis='both', which='both', length=6, width=2, labelsize=25)"
   ]
  },
  {
   "cell_type": "code",
   "execution_count": null,
   "metadata": {},
   "outputs": [],
   "source": []
  },
  {
   "cell_type": "code",
   "execution_count": null,
   "metadata": {},
   "outputs": [],
   "source": []
  }
 ],
 "metadata": {
  "kernelspec": {
   "display_name": "Python 3",
   "language": "python",
   "name": "python3"
  },
  "language_info": {
   "codemirror_mode": {
    "name": "ipython",
    "version": 3
   },
   "file_extension": ".py",
   "mimetype": "text/x-python",
   "name": "python",
   "nbconvert_exporter": "python",
   "pygments_lexer": "ipython3",
   "version": "3.7.3"
  }
 },
 "nbformat": 4,
 "nbformat_minor": 2
}
