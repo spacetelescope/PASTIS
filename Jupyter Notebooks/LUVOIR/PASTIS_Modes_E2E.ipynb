{
 "cells": [
  {
   "cell_type": "markdown",
   "id": "foster-subdivision",
   "metadata": {},
   "source": [
    "#  This notebook is for testing and integrating PASTIS_Modes_E2E.py with the current develop branch"
   ]
  },
  {
   "cell_type": "code",
   "execution_count": 1,
   "id": "authentic-report",
   "metadata": {},
   "outputs": [],
   "source": [
    "import os\n",
    "import time\n",
    "import functools\n",
    "from shutil import copy\n",
    "import numpy as np\n",
    "import matplotlib.pyplot as plt\n",
    "from matplotlib.colors import LogNorm\n",
    "from astropy.io import fits\n",
    "import astropy.units as u\n",
    "import hcipy as hc\n",
    "\n",
    "\n",
    "os.chdir('/Users/asahoo/repos/PASTIS/') #c\n",
    "from pastis.config import CONFIG_PASTIS #c\n",
    "from pastis.e2e_simulators.luvoir_imaging import LuvoirA_APLC #c\n",
    "import pastis.util as util     #c\n",
    "import astropy.table"
   ]
  },
  {
   "cell_type": "code",
   "execution_count": 7,
   "id": "simplified-limitation",
   "metadata": {},
   "outputs": [
    {
     "name": "stdout",
     "output_type": "stream",
     "text": [
      " Loading basic parameters for this specific telescope \n",
      "\n"
     ]
    }
   ],
   "source": [
    "print(' Loading basic parameters for this specific telescope \\n')\n",
    "\n",
    "### Parameters\n",
    "design = CONFIG_PASTIS.get('LUVOIR', 'coronagraph_design') #c\n",
    "\n",
    "# System parameters\n",
    "root_dir = CONFIG_PASTIS.get('local', 'local_data_path') #c\n",
    "output_dir = CONFIG_PASTIS.get('local', 'output_data_folder') #needs to be added to config_ini\n",
    "coronagraph_design = 'small' #c user provides\n",
    "overall_dir = output_dir + 'luvoirA-'+ coronagraph_design #c\n",
    "resDir = os.path.join(overall_dir, 'matrix_numerical')\n",
    "\n",
    "# Moving parts parameters\n",
    "analysis_name = 'LUVOIRA_APLC_' + design\n",
    "max_LO = CONFIG_PASTIS.getint('calibration', 'max_LO')\n",
    "max_MID = CONFIG_PASTIS.getint('calibration', 'max_MID')\n",
    "max_HI = CONFIG_PASTIS.getint('calibration', 'max_HI')\n",
    "num_DM_act = CONFIG_PASTIS.getint('calibration', 'num_DM_act')\n",
    "\n",
    "# General telescope parameters\n",
    "nb_seg = CONFIG_PASTIS.getint('LUVOIR', 'nb_subapertures')\n",
    "wvln = CONFIG_PASTIS.getfloat('LUVOIR', 'lambda') * 1e-9  # m\n",
    "diam = CONFIG_PASTIS.getfloat('LUVOIR', 'diameter')  # m\n",
    "nm_aber = CONFIG_PASTIS.getfloat('calibration', 'single_aberration') * 1e-9   # m\n",
    "\n",
    "# Image system parameters\n",
    "im_lamD = CONFIG_PASTIS.getfloat('numerical', 'im_size_lamD_hcipy')  # image size in lambda/D\n",
    "sampling = CONFIG_PASTIS.getfloat('numerical', 'sampling')"
   ]
  },
  {
   "cell_type": "code",
   "execution_count": 3,
   "id": "progressive-samuel",
   "metadata": {},
   "outputs": [
    {
     "name": "stdout",
     "output_type": "stream",
     "text": [
      "LUVOIR apodizer design: small\n",
      "\n",
      "Wavelength: 5.000000000000001e-07 m\n",
      "Telescope diameter: 15.0 m\n",
      "Number of segments: 120\n",
      "\n",
      "Image size: 30.0 lambda/D\n",
      "Sampling: 4.0 px per lambda/D\n"
     ]
    }
   ],
   "source": [
    "# Print some of the defined parameters\n",
    "print('LUVOIR apodizer design: {}'.format(design))\n",
    "print()\n",
    "print('Wavelength: {} m'.format(wvln))\n",
    "print('Telescope diameter: {} m'.format(diam))\n",
    "print('Number of segments: {}'.format(nb_seg))\n",
    "print()\n",
    "print('Image size: {} lambda/D'.format(im_lamD))\n",
    "print('Sampling: {} px per lambda/D'.format(sampling))"
   ]
  },
  {
   "cell_type": "code",
   "execution_count": 4,
   "id": "stock-teddy",
   "metadata": {},
   "outputs": [
    {
     "name": "stderr",
     "output_type": "stream",
     "text": [
      "/opt/miniconda3/envs/pastis_global/lib/python3.7/site-packages/hcipy/field/cartesian_grid.py:74: UserWarning: No automatic weights could be calculated for this grid.\n",
      "  self.weights *= np.abs(scale)**self.ndim\n"
     ]
    }
   ],
   "source": [
    "optics_input = CONFIG_PASTIS.get('LUVOIR', 'optics_path')\n",
    "datadir = optics_input\n",
    "luvoir = LuvoirA_APLC(optics_input, design, sampling)\n",
    "nb_seg = CONFIG_PASTIS.getint('LUVOIR', 'nb_subapertures')\n",
    "wvln = CONFIG_PASTIS.getfloat('LUVOIR', 'lambda') * 1e-9  # m\n",
    "diam = CONFIG_PASTIS.getfloat('LUVOIR', 'diameter')  # m\n",
    "nm_aber = CONFIG_PASTIS.getfloat('calibration', 'single_aberration') * 1e-9   # m\n",
    "eunit = nm_aber\n",
    "nm = eunit\n",
    "im_lamD = CONFIG_PASTIS.getfloat('numerical', 'im_size_lamD_hcipy')  # image size in lambda/D\n",
    "sampling = CONFIG_PASTIS.getfloat('numerical', 'sampling')\n",
    "luvoir = LuvoirA_APLC(optics_input, design, sampling)\n",
    "npup = np.int(np.sqrt(luvoir.pupil_grid.x.shape[0]))\n",
    "nimg = np.int(np.sqrt(luvoir.focal_det.x.shape[0]))"
   ]
  },
  {
   "cell_type": "code",
   "execution_count": 5,
   "id": "fatty-teaching",
   "metadata": {},
   "outputs": [],
   "source": [
    "savedpath = overall_dir\n",
    "filename_matrix = 'EFIELD_Re_matrix_num_LO_' + str(max_LO) +'.fits'\n",
    "G_LO_real = fits.getdata(os.path.join(savedpath, 'matrix_numerical', filename_matrix))\n",
    "filename_matrix = 'EFIELD_Im_matrix_num_LO_' + str(max_LO) +'.fits'\n",
    "G_LO_imag = fits.getdata(os.path.join(savedpath, 'matrix_numerical', filename_matrix))\n",
    "filename_matrix =  'EFIELD_Re_matrix_num_MID_' + str(max_MID) +'.fits'\n",
    "G_MID_real = fits.getdata(os.path.join(savedpath, 'matrix_numerical', filename_matrix))\n",
    "filename_matrix =  'EFIELD_Im_matrix_num_MID_' + str(max_MID) +'.fits'\n",
    "G_MID_imag = fits.getdata(os.path.join(savedpath, 'matrix_numerical', filename_matrix))\n",
    "filename_matrix =  'EFIELD_Re_matrix_num_HI_' + str(max_HI) +'.fits'\n",
    "G_HI_real = fits.getdata(os.path.join(savedpath, 'matrix_numerical', filename_matrix))\n",
    "filename_matrix =  'EFIELD_Im_matrix_num_HI_' + str(max_HI) +'.fits'\n",
    "G_HI_imag = fits.getdata(os.path.join(savedpath, 'matrix_numerical', filename_matrix))\n",
    "filename_matrix = 'EFIELD_LOWFS_Re_matrix_num_LO_' + str(max_LO) +'.fits'\n",
    "G_LOWFS_real = fits.getdata(os.path.join(savedpath, 'matrix_numerical', filename_matrix))\n",
    "filename_matrix = 'EFIELD_LOWFS_Im_matrix_num_LO_' + str(max_LO) +'.fits'\n",
    "G_LOWFS_imag = fits.getdata(os.path.join(savedpath, 'matrix_numerical', filename_matrix))\n",
    "filename_matrix = 'EFIELD_OBWFS_Re_matrix_num_MID_' + str(max_MID) +'.fits'\n",
    "G_OBWFS_real = fits.getdata(os.path.join(savedpath, 'matrix_numerical', filename_matrix))\n",
    "filename_matrix = 'EFIELD_OBWFS_Im_matrix_num_MID_' + str(max_MID) +'.fits'\n",
    "G_OBWFS_imag = fits.getdata(os.path.join(savedpath, 'matrix_numerical', filename_matrix))"
   ]
  },
  {
   "cell_type": "code",
   "execution_count": 6,
   "id": "lesser-jerusalem",
   "metadata": {},
   "outputs": [],
   "source": [
    "luvoir.create_global_zernike_mirror(max_LO)\n",
    "luvoir.create_segmented_mirror(max_MID)\n",
    "luvoir.create_ripple_mirror(max_HI)\n",
    "luvoir.create_continuous_deformable_mirror(num_DM_act)"
   ]
  },
  {
   "cell_type": "code",
   "execution_count": null,
   "id": "swiss-agreement",
   "metadata": {},
   "outputs": [],
   "source": [
    "n_LO = luvoir.zernike_mirror.num_actuators #c\n",
    "n_MID = luvoir.sm.num_actuators \n",
    "n_HI = luvoir.ripple_mirror.num_actuators #c\n",
    "n_DM = luvoir.dm.num_actuators"
   ]
  },
  {
   "cell_type": "code",
   "execution_count": null,
   "id": "female-ethnic",
   "metadata": {},
   "outputs": [],
   "source": [
    "z_pup_downsample = CONFIG_PASTIS.getfloat('numerical', 'z_pup_downsample')\n",
    "N_pup_z = np.int(luvoir.pupil_grid.shape[0] / z_pup_downsample)\n",
    "grid_zernike = hc.field.make_pupil_grid(N_pup_z, diameter=luvoir.diam)"
   ]
  },
  {
   "cell_type": "code",
   "execution_count": null,
   "id": "fleet-petite",
   "metadata": {},
   "outputs": [],
   "source": [
    "dh_outer = hc.circular_aperture(2 * luvoir.apod_dict[coronagraph_design]['owa'] * luvoir.lam_over_d)(luvoir.focal_det) #c\n",
    "dh_inner = hc.circular_aperture(2 * luvoir.apod_dict[coronagraph_design]['iwa'] * luvoir.lam_over_d)(luvoir.focal_det) #c\n",
    "dh_mask = (dh_outer - dh_inner).astype('bool')"
   ]
  },
  {
   "cell_type": "code",
   "execution_count": null,
   "id": "average-albany",
   "metadata": {},
   "outputs": [],
   "source": [
    "LO_modes = np.zeros(n_LO)\n",
    "MID_modes = np.zeros(n_MID)\n",
    "HI_modes = np.zeros(n_HI)\n",
    "DM_modes = np.zeros(n_DM)"
   ]
  },
  {
   "cell_type": "code",
   "execution_count": null,
   "id": "heard-wiring",
   "metadata": {},
   "outputs": [],
   "source": [
    "luvoir.zernike_mirror.actuators = LO_modes #c\n",
    "luvoir.sm.actuators = MID_modes\n",
    "luvoir.ripple_mirror.actuators = HI_modes #c\n",
    "luvoir.dm.actuators = DM_modes"
   ]
  },
  {
   "cell_type": "code",
   "execution_count": null,
   "id": "falling-survey",
   "metadata": {},
   "outputs": [],
   "source": [
    "unaberrated_coro_psf, ref = luvoir.calc_psf(ref=True, display_intermediate=False, return_intermediate=None, norm_one_photon=False)"
   ]
  },
  {
   "cell_type": "code",
   "execution_count": null,
   "id": "functional-thinking",
   "metadata": {},
   "outputs": [],
   "source": [
    "norm = np.max(ref)\n",
    "dh_intensity = (unaberrated_coro_psf / norm) * dh_mask\n",
    "contrast_floor = np.mean(dh_intensity[np.where(dh_mask != 0)])\n",
    "print('contrast floor: {}'.format(contrast_floor))"
   ]
  },
  {
   "cell_type": "code",
   "execution_count": null,
   "id": "demonstrated-reproduction",
   "metadata": {},
   "outputs": [],
   "source": [
    "nonaberrated_coro_psf, ref,inter_ref = luvoir.calc_psf(ref=True, display_intermediate=False, return_intermediate='efield')\n",
    "Efield_ref = inter_ref['at_science_focus'].electric_field"
   ]
  },
  {
   "cell_type": "code",
   "execution_count": null,
   "id": "charged-constitution",
   "metadata": {},
   "outputs": [],
   "source": [
    "mat_LO = np.zeros([n_LO-1, n_LO-1])\n",
    "for i in range(1, n_LO):\n",
    "    for j in range(1, n_LO):\n",
    "        tmpI = (G_LO_real[i]+1j*G_LO_imag[i] - Efield_ref)\n",
    "        tmpJ = (G_LO_real[j]+1j*G_LO_imag[j] - Efield_ref)\n",
    "        test = np.real(tmpI*np.conj(tmpJ))\n",
    "        dh_test = (test / norm) * dh_mask\n",
    "        contrast = np.mean(dh_test[np.where(dh_mask != 0)])\n",
    "        mat_LO[i-1, j-1] = contrast"
   ]
  },
  {
   "cell_type": "code",
   "execution_count": null,
   "id": "monthly-incident",
   "metadata": {},
   "outputs": [],
   "source": [
    "mat_MID = np.zeros([n_MID, n_MID])\n",
    "for i in range(0, n_MID):\n",
    "    for j in range(0, n_MID):\n",
    "        tmpI = G_MID_real[i]+1j*G_MID_imag[i] - Efield_ref\n",
    "        tmpJ = G_MID_real[j]+1j*G_MID_imag[j] - Efield_ref\n",
    "        test = np.real(tmpI*np.conj(tmpJ))\n",
    "        dh_test = (test / norm) * dh_mask\n",
    "        contrast = np.mean(dh_test[np.where(dh_mask != 0)])\n",
    "        mat_MID[i, j] = contrast"
   ]
  },
  {
   "cell_type": "code",
   "execution_count": null,
   "id": "downtown-translation",
   "metadata": {},
   "outputs": [],
   "source": [
    "mat_HI = np.zeros([n_HI, n_HI])\n",
    "for i in range(0, n_HI):\n",
    "    for j in range(0, n_HI):\n",
    "        tmpI = G_HI_real[i]+1j*G_HI_imag[i] - Efield_ref\n",
    "        tmpJ = G_HI_real[j]+1j*G_HI_imag[j] - Efield_ref\n",
    "        test = np.real(tmpI*np.conj(tmpJ))\n",
    "        dh_test = (test / norm) * dh_mask\n",
    "        contrast = np.mean(dh_test[np.where(dh_mask != 0)])\n",
    "        mat_HI[i, j] = contrast\n"
   ]
  },
  {
   "cell_type": "code",
   "execution_count": null,
   "id": "fatal-oakland",
   "metadata": {},
   "outputs": [],
   "source": [
    "# Figures with eigenvalues\n",
    "figures_path = overall_dir + '/figures'\n",
    "os.makedirs(figures_path, exist_ok=True)\n",
    "evalsLO, evecsLO = np.linalg.eig(mat_LO)\n",
    "sorted_evalsLO = np.sort(evalsLO)\n",
    "sorted_indicesLO = np.argsort(evalsLO)\n",
    "sorted_evecsLO = evecsLO[:, sorted_indicesLO]\n",
    "fig = plt.figure(figsize=(14, 8))\n",
    "plt.plot(sorted_evalsLO, label='Sorted lowest to highest evals',linewidth=1.5,color = 'blue')\n",
    "plt.semilogy()\n",
    "plt.xlabel('LO Eigenmodes')\n",
    "plt.ylabel('Log LO Eigenvalues')\n",
    "plt.legend()\n",
    "file_name = figures_path + '/' + analysis_name + '_LO_eigenvalues' + '.pdf'\n",
    "fig.savefig(file_name)"
   ]
  },
  {
   "cell_type": "code",
   "execution_count": null,
   "id": "three-kruger",
   "metadata": {},
   "outputs": [],
   "source": [
    "evalsMID, evecsMID = np.linalg.eig(mat_MID)\n",
    "sorted_evalsMID = np.sort(evalsMID)\n",
    "sorted_indicesMID = np.argsort(evalsMID)\n",
    "sorted_evecsMID = evecsMID[:, sorted_indicesMID]\n",
    "fig = plt.figure(figsize=(14, 8))\n",
    "#plt.pMIDt(evals, label='Unsorted from eigendecomposition')\n",
    "plt.plot(sorted_evalsMID, label='Sorted lowest to highest evals',linewidth=1.5,color = 'blue')\n",
    "plt.semilogy()\n",
    "plt.xlabel('MID Eigenmodes')\n",
    "plt.ylabel('log MID Eigenvalues')\n",
    "plt.legend()\n",
    "file_name =  figures_path + '/' + analysis_name + 'MID_eigenvalues' + '.pdf'\n",
    "fig.savefig(file_name)"
   ]
  },
  {
   "cell_type": "code",
   "execution_count": null,
   "id": "possible-financing",
   "metadata": {},
   "outputs": [],
   "source": [
    "evalsHI, evecsHI = np.linalg.eig(mat_HI)\n",
    "sorted_evalsHI = np.sort(evalsHI)\n",
    "sorted_indicesHI = np.argsort(evalsHI)\n",
    "sorted_evecsHI = evecsHI[:, sorted_indicesHI]\n",
    "fig = plt.figure(figsize=(14, 8))\n",
    "#plt.pHIt(evals, label='Unsorted from eigendecomposition')\n",
    "plt.plot(sorted_evalsHI, label='Sorted lowest to highest evals',linewidth=1.5,color = 'blue')\n",
    "plt.semilogy()\n",
    "plt.xlabel('HI Eigenmodes')\n",
    "plt.ylabel('log HI Eigenvalues')\n",
    "plt.legend()\n",
    "file_name = figures_path + '/' + analysis_name + 'HI_eigenvalues' + '.pdf'\n",
    "fig.savefig(file_name)"
   ]
  },
  {
   "cell_type": "code",
   "execution_count": null,
   "id": "induced-publication",
   "metadata": {},
   "outputs": [],
   "source": [
    "c_target_log = CONFIG_PASTIS.getint('e2eparameters', 'c_target_log')\n",
    "c_target = 10**(c_target_log)\n",
    "n_repeat = CONFIG_PASTIS.getint('e2eparameters', 'n_repeat')\n",
    "mu_mapLO = np.sqrt(\n",
    "    ((c_target   ) / (n_LO-1)) / (np.diag(mat_LO)))\n",
    "mu_mapMID = np.sqrt(\n",
    "    ((c_target ) / (n_MID)) / (np.diag(mat_MID)))\n",
    "mu_mapHI = np.sqrt(\n",
    "    ((c_target ) / (n_HI)) / (np.diag(mat_HI)))\n"
   ]
  },
  {
   "cell_type": "code",
   "execution_count": null,
   "id": "certain-opera",
   "metadata": {},
   "outputs": [],
   "source": [
    "LO_modes = np.zeros(n_LO)\n",
    "MID_modes = np.zeros(n_MID)\n",
    "HI_modes = np.zeros(n_HI)\n",
    "DM_modes = np.zeros(n_DM)\n",
    "\n",
    "luvoir.zernike_mirror.actuators = LO_modes #c\n",
    "luvoir.sm.actuators = MID_modes\n",
    "luvoir.ripple_mirror.actuators = HI_modes #c\n",
    "luvoir.dm.actuators = DM_modes\n"
   ]
  },
  {
   "cell_type": "code",
   "execution_count": null,
   "id": "equal-wiring",
   "metadata": {},
   "outputs": [],
   "source": [
    "unaber_e_field, ref, inter = luvoir.calc_psf(ref=True, return_intermediate='efield')"
   ]
  },
  {
   "cell_type": "code",
   "execution_count": null,
   "id": "fiscal-extra",
   "metadata": {},
   "outputs": [],
   "source": [
    "all_contr_rand_seg1 = []\n",
    "for rep in range(n_repeat):\n",
    "    print('Segment realization {}/{}'.format(rep + 1, n_repeat))\n",
    "    LO_modes = np.zeros(n_LO)\n",
    "    MID_modes = np.zeros(n_MID)\n",
    "    HI_modes = np.zeros(n_HI)\n",
    "    DM_modes = np.zeros(n_DM)\n",
    "    luvoir.zernike_mirror.actuators = LO_modes #c\n",
    "    luvoir.sm.actuators = MID_modes\n",
    "    luvoir.ripple_mirror.actuators = HI_modes #c\n",
    "    luvoir.dm.actuators = DM_modes\n",
    "    input_wf = luvoir.wf_aper\n",
    "    LO_modes[1:n_LO] = np.random.normal(0,mu_mapLO*eunit,n_LO-1)\n",
    "    luvoir.zernike_mirror.actuators  = LO_modes/2\n",
    "    tmp_pupil = luvoir.zernike_mirror(input_wf)\n",
    "    psf, ref, inter = luvoir.calc_psf(ref=True, return_intermediate='efield')\n",
    "    dh_intensity = psf.intensity/norm * dh_mask\n",
    "    # calibrated_intensity = np.abs(psf.electric_field - unaber_e_field.electric_field)**2\n",
    "    # dh_calibrated_intensity = calibrated_intensity/norm * dh_mask\n",
    "    test_contrast1 = np.mean(dh_intensity[np.where(dh_intensity != 0)]) - contrast_floor\n",
    "    all_contr_rand_seg1.append(test_contrast1)\n",
    "    print('contrast:', test_contrast1)"
   ]
  },
  {
   "cell_type": "code",
   "execution_count": null,
   "id": "handmade-neighbor",
   "metadata": {},
   "outputs": [],
   "source": [
    "tmp_std = np.dot(mat_LO,np.diag(mu_mapLO)**2)\n",
    "var = 2*np.dot(tmp_std,tmp_std)\n",
    "std = np.sqrt(np.trace(var))\n",
    "c_mean_exp = np.mean(all_contr_rand_seg1)\n",
    "c_std_exp = np.std(all_contr_rand_seg1)\n",
    "print(std)"
   ]
  },
  {
   "cell_type": "code",
   "execution_count": null,
   "id": "another-option",
   "metadata": {},
   "outputs": [],
   "source": [
    "fig = plt.figure(figsize=(16, 10))\n",
    "plt.hist(all_contr_rand_seg1,30)\n",
    "plt.title('E2E raw contrast, {} realizations, target contrast 1e-11'.format(n_repeat), size=20)\n",
    "plt.xlabel('Mean contrast in DH', size=20)\n",
    "plt.ylabel('PDF', size=20)\n",
    "plt.axvline(c_target, c='r', ls='-.', lw='3')\n",
    "plt.axvline(c_target + std, c='b', ls=':', lw=4)\n",
    "plt.axvline(c_target - std, c='b', ls=':', lw=4)\n",
    "plt.axvline(c_mean_exp, c='orange', ls='-.', lw='3')\n",
    "plt.axvline(c_mean_exp + c_std_exp, c='c', ls=':', lw=4)\n",
    "plt.axvline(c_mean_exp - c_std_exp, c='c', ls=':', lw=4)\n",
    "plt.tick_params(axis='both', which='both', length=6, width=2, labelsize=25)\n",
    "file_name = figures_path + '/' + analysis_name + '_LO_e2e_histogram' + '.pdf'\n",
    "fig.savefig(file_name)"
   ]
  },
  {
   "cell_type": "code",
   "execution_count": null,
   "id": "quick-connecticut",
   "metadata": {},
   "outputs": [],
   "source": [
    "all_contr_rand_seg1 = []\n",
    "for rep in range(n_repeat):\n",
    "    print('Segment realization {}/{}'.format(rep + 1, n_repeat))\n",
    "    LO_modes = np.zeros(n_LO)\n",
    "    MID_modes = np.zeros(n_MID)\n",
    "    HI_modes = np.zeros(n_HI)\n",
    "    DM_modes = np.zeros(n_DM)\n",
    "    luvoir.zernike_mirror.actuators = LO_modes #c\n",
    "    luvoir.sm.actuators = MID_modes\n",
    "    luvoir.ripple_mirror.actuators = HI_modes #c\n",
    "    luvoir.dm.actuators = DM_modes\n",
    "    input_wf = luvoir.wf_aper\n",
    "    MID_modes = np.random.normal(0,mu_mapMID*eunit,n_MID)\n",
    "    luvoir.sm.actuators  = MID_modes/2\n",
    "    tmp_pupil = luvoir.zernike_mirror(input_wf)\n",
    "    psf, ref, inter = luvoir.calc_psf(ref=True, return_intermediate='efield')\n",
    "    dh_intensity = psf.intensity/norm * dh_mask\n",
    "    calibrated_intensity = np.abs(psf.electric_field - unaber_e_field.electric_field)**2\n",
    "    dh_calibrated_intensity = calibrated_intensity/norm * dh_mask\n",
    "    test_contrast1 = np.mean(dh_intensity[np.where(dh_intensity != 0)]) - contrast_floor\n",
    "    all_contr_rand_seg1.append(test_contrast1)\n",
    "    print('contrast:', test_contrast1)\n"
   ]
  },
  {
   "cell_type": "code",
   "execution_count": null,
   "id": "deluxe-split",
   "metadata": {},
   "outputs": [],
   "source": [
    "tmp_std = np.dot(mat_MID,np.diag(mu_mapMID)**2)\n",
    "var = 2*np.dot(tmp_std,tmp_std)\n",
    "std = np.sqrt(np.trace(var))\n",
    "c_mean_exp = np.mean(all_contr_rand_seg1)\n",
    "c_std_exp = np.std(all_contr_rand_seg1)\n",
    "print(std)\n",
    "fig = plt.figure(figsize=(16, 10))\n",
    "plt.hist(all_contr_rand_seg1,30)\n",
    "plt.title('E2E raw contrast, {} realizations, target contrast 1e-11'.format(n_repeat), size=20)\n",
    "plt.xlabel('Mean contrast in DH', size=20)\n",
    "plt.ylabel('PDF', size=20)\n",
    "plt.axvline(c_target, c='r', ls='-.', lw='3')\n",
    "plt.axvline(c_target + std, c='b', ls=':', lw=4)\n",
    "plt.axvline(c_target - std, c='b', ls=':', lw=4)\n",
    "plt.axvline(c_mean_exp, c='orange', ls='-.', lw='3')\n",
    "plt.axvline(c_mean_exp + c_std_exp, c='c', ls=':', lw=4)\n",
    "plt.axvline(c_mean_exp - c_std_exp, c='c', ls=':', lw=4)\n",
    "plt.tick_params(axis='both', which='both', length=6, width=2, labelsize=25)\n",
    "file_name = figures_path + '/' + analysis_name + '_MID_e2e_histogram' + '.pdf'\n",
    "fig.savefig(file_name)"
   ]
  },
  {
   "cell_type": "code",
   "execution_count": null,
   "id": "auburn-compensation",
   "metadata": {},
   "outputs": [],
   "source": [
    "N_zernike = max_MID\n",
    "zernike_coeffs_numaps = np.zeros([N_zernike,n_MID])\n",
    "for qq in range(N_zernike):\n",
    "    zernike_coeffs_tmp = np.zeros([n_MID])\n",
    "    for pp in range(120):\n",
    "        zernike_coeffs_tmp[qq+(pp)*N_zernike] = mu_mapMID[qq+(pp)*N_zernike]\n",
    "    zernike_coeffs_numaps[qq] = zernike_coeffs_tmp\n",
    "zernike_coeffs_table = np.zeros([N_zernike,120])\n",
    "for qq in range(N_zernike):\n",
    "    zernike_coeffs_tmp = np.zeros([120])\n",
    "    for pp in range(120):\n",
    "        zernike_coeffs_table[qq,pp] = mu_mapMID[qq+(pp)*N_zernike]\n",
    "nu_maps = []\n",
    "for qq in range(N_zernike):\n",
    "    zernike_coeffs = eunit*zernike_coeffs_numaps[qq]/2\n",
    "    luvoir.sm.actuators = zernike_coeffs*10**(12)\n",
    "    nu_maps.append(luvoir.sm.surface)"
   ]
  },
  {
   "cell_type": "code",
   "execution_count": null,
   "id": "residential-fairy",
   "metadata": {},
   "outputs": [],
   "source": [
    "if len(nu_maps) ==1:\n",
    "    fig, axs = plt.subplots(1, len(nu_maps), figsize=(60, 20))\n",
    "    phaseplot = axs.imshow(np.reshape(nu_maps[0], [npup, npup]), cmap='hot')\n",
    "    axs.axes.get_xaxis().set_visible(False)\n",
    "    axs.axes.get_yaxis().set_visible(False)\n",
    "    clb = fig.colorbar(phaseplot, ax=axs, shrink=0.4)\n",
    "    clb.set_label('pm', rotation=90)\n",
    "\n",
    "else:\n",
    "    fig, axs = plt.subplots(1,len(nu_maps),figsize=(60,20))\n",
    "    for qq in range(0,len(nu_maps)):\n",
    "        print(qq)\n",
    "        phaseplot = axs[qq].imshow(np.reshape(nu_maps[qq],[npup,npup]),cmap = 'hot')\n",
    "        axs[qq].axes.get_xaxis().set_visible(False)\n",
    "        axs[qq].axes.get_yaxis().set_visible(False)\n",
    "        clb=  fig.colorbar(phaseplot,ax = axs[qq],shrink=0.4)\n",
    "        clb.set_label('pm', rotation=90)\n",
    "\n",
    "plt.show()\n",
    "file_name = figures_path + '/' + analysis_name + '_MID_NU_Maps' + '.pdf'\n",
    "fig.savefig(file_name)"
   ]
  },
  {
   "cell_type": "code",
   "execution_count": null,
   "id": "furnished-investigator",
   "metadata": {},
   "outputs": [],
   "source": [
    "fourier_grid = hc.make_pupil_grid(dims=max_HI, diameter=max_HI)\n",
    "rho0 = 2*np.sqrt(fourier_grid.x**2+fourier_grid.y**2)\n",
    "rho = np.sort(rho0)\n",
    "\n",
    "fig = plt.figure(figsize=(14, 8))\n",
    "plt.plot(rho,np.log10(mu_mapHI*1000),'bo')\n",
    "plt.xlabel('Spatial frequency, cycles/aperture')\n",
    "plt.ylabel('log HI requirement, pm')\n",
    "file_name = figures_path + '/' + analysis_name + '_HI_NU_Maps' + '.pdf'\n",
    "fig.savefig(file_name)\n"
   ]
  },
  {
   "cell_type": "code",
   "execution_count": null,
   "id": "appreciated-loading",
   "metadata": {},
   "outputs": [],
   "source": [
    "# Making tables\n",
    "# For LO modes\n",
    "\n",
    "ZernikeList = []\n",
    "for pp in range(0,n_LO-1):\n",
    "    ZernikeList.append('Global Z' + np.str(pp +1));\n",
    "table_LO = astropy.table.Table()\n",
    "LO_Values_col = astropy.table.Table.Column(\n",
    "        name = '$\\Delta \\epsilon_{11}^{LO}$ (nm)',\n",
    "        data = mu_mapLO, dtype = float, format=\"7.2f\")\n",
    "LO_Labels_col = astropy.table.Table.Column(\n",
    "        name = 'LO Modes', data = ZernikeList, dtype = str)\n",
    "table_LO.add_column(LO_Labels_col)\n",
    "table_LO.add_column(LO_Values_col)\n",
    "\n",
    "filename = figures_path + '/' + 'Table_LO_w11.csv'\n",
    "table_LO.write(filename, format='csv',overwrite=True)\n",
    "filename = figures_path + '/' +  'Table_LO_w11.tex'\n",
    "table_LO.write(filename, format='latex',overwrite=True)"
   ]
  },
  {
   "cell_type": "code",
   "execution_count": null,
   "id": "designed-luther",
   "metadata": {},
   "outputs": [],
   "source": [
    "# For MID mode\n",
    "\n",
    "zernike_coeffs_numaps_max = np.zeros(max_MID)\n",
    "for pp in range(0,max_MID):\n",
    "    zernike_coeffs_numaps_max[pp] = np.max(zernike_coeffs_table[pp,:])*1000/2\n",
    "zernike_coeffs_numaps_min = np.zeros(max_MID)\n",
    "for pp in range(0,max_MID):\n",
    "    zernike_coeffs_numaps_min[pp] = np.min(zernike_coeffs_table[pp,:])*1000/2\n",
    "zernike_coeffs_numaps_median = np.zeros(max_MID)\n",
    "for pp in range(0,max_MID):\n",
    "    zernike_coeffs_numaps_median[pp] = np.median(zernike_coeffs_table[pp,:])*1000/2"
   ]
  },
  {
   "cell_type": "code",
   "execution_count": null,
   "id": "established-tuning",
   "metadata": {},
   "outputs": [],
   "source": [
    "ZernikeList = []\n",
    "for pp in range(0,max_MID):\n",
    "    ZernikeList.append('Segment Z' + np.str(pp));\n",
    "\n",
    "table_MID = astropy.table.Table()\n",
    "MID_Max_Values_col = astropy.table.Table.Column(\n",
    "        name = 'max $ \\Delta \\epsilon_{11}^{MID}$ (pm)',\n",
    "        data = zernike_coeffs_numaps_max, dtype = float, format=\"7.1f\")\n",
    "MID_Min_Values_col = astropy.table.Table.Column(\n",
    "        name = 'min$ \\Delta \\epsilon_{11}^{MID}$ (pm)',\n",
    "        data = zernike_coeffs_numaps_min, dtype = float, format=\"7.1f\")\n",
    "MID_Median_Values_col = astropy.table.Table.Column(\n",
    "        name = 'median$ \\Delta \\epsilon_{11}^{MID}$ (pm)',\n",
    "        data = zernike_coeffs_numaps_median, dtype = float, format=\"7.2f\")\n",
    "MID_Labels_col = astropy.table.Table.Column(\n",
    "        name = 'MID Modes', data = ZernikeList, dtype = str)\n",
    "table_MID.add_column(MID_Labels_col)\n",
    "table_MID.add_column(MID_Max_Values_col)\n",
    "table_MID.add_column(MID_Min_Values_col)\n",
    "table_MID.add_column(MID_Median_Values_col)"
   ]
  },
  {
   "cell_type": "code",
   "execution_count": null,
   "id": "original-techno",
   "metadata": {},
   "outputs": [],
   "source": [
    "filename = figures_path + '/' + 'Table_MID_w11.csv'\n",
    "table_MID.write(filename, format='csv',overwrite=True)\n",
    "filename = figures_path + '/' + 'Table_MID_w11.tex'\n",
    "table_MID.write(filename, format='latex',overwrite=True)"
   ]
  },
  {
   "cell_type": "code",
   "execution_count": null,
   "id": "toxic-connectivity",
   "metadata": {},
   "outputs": [],
   "source": [
    "# For HI modes\n",
    "\n",
    "\n",
    "ZernikeList = []\n",
    "for pp in range(0,n_LO-1):\n",
    "    ZernikeList.append('Global Z' + np.str(pp +1));\n",
    "table_LO = astropy.table.Table()\n",
    "LO_Values_col = astropy.table.Table.Column(\n",
    "        name = '$\\Delta \\epsilon_{11}^{LO}$ (nm)',\n",
    "        data = mu_mapLO, dtype = float, format=\"7.2f\")\n",
    "LO_Labels_col = astropy.table.Table.Column(\n",
    "        name = 'LO Modes', data = ZernikeList, dtype = str)\n",
    "table_LO.add_column(LO_Labels_col)\n",
    "table_LO.add_column(LO_Values_col)\n",
    "\n",
    "filename = figures_path + '/' + 'Table_LO_w11.csv'\n",
    "table_LO.write(filename, format='csv',overwrite=True)\n",
    "filename = figures_path + '/' + 'Table_LO_w11.tex'\n",
    "table_LO.write(filename, format='latex',overwrite=True)\n",
    "\n",
    "SFList = ['Inside DH','Oustide DH']\n"
   ]
  },
  {
   "cell_type": "code",
   "execution_count": null,
   "id": "prostate-creation",
   "metadata": {},
   "outputs": [],
   "source": [
    "where_core = rho < luvoir.apod_dict[coronagraph_design]['iwa'] /2\n",
    "where_dh = (rho > luvoir.apod_dict[coronagraph_design]['iwa']  )& (rho <  luvoir.apod_dict[coronagraph_design]['owa'] )\n",
    "where_outside_dh = (rho >  luvoir.apod_dict[coronagraph_design]['owa'])"
   ]
  },
  {
   "cell_type": "code",
   "execution_count": null,
   "id": "going-columbus",
   "metadata": {},
   "outputs": [],
   "source": [
    "SFList = ['Inside DH','Oustide DH']\n",
    "SFreq = [np.mean(mu_mapHI[where_dh])*1000,np.mean(mu_mapHI[where_outside_dh])*1000]\n",
    "table_HI = astropy.table.Table()\n",
    "HI_Values_col = astropy.table.Table.Column(\n",
    "        name = ' $ \\Delta \\epsilon_{11}^{HI}$ (pm)',\n",
    "        data = SFreq, dtype = float, format=\"7.2f\")\n",
    "HI_Labels_col = astropy.table.Table.Column(\n",
    "        name = 'MID Modes', data = SFList, dtype = str)\n",
    "table_HI.add_column(HI_Labels_col)\n",
    "table_HI.add_column(HI_Values_col)\n",
    "\n",
    "filename = figures_path + '/' + 'Table_HI_w11.csv'\n",
    "table_HI.write(filename, format='csv',overwrite=True)\n",
    "filename = figures_path + '/' + 'Table_HI_w11.tex'\n",
    "table_HI.write(filename, format='latex',overwrite=True)\n"
   ]
  },
  {
   "cell_type": "code",
   "execution_count": null,
   "id": "guided-politics",
   "metadata": {},
   "outputs": [],
   "source": [
    "nimg = np.int(np.sqrt(luvoir.focal_det.x.shape))"
   ]
  },
  {
   "cell_type": "code",
   "execution_count": null,
   "id": "explicit-dependence",
   "metadata": {},
   "outputs": [],
   "source": [
    "poked_modes = [1,3,4,7,9]\n",
    "n_pokes = len(poked_modes)\n",
    "phases = np.zeros([len(poked_modes),npup,npup])\n",
    "detectors = np.zeros([len(poked_modes),nimg,nimg])\n",
    "\n",
    "for pp in range(0,n_pokes):\n",
    "    LO_modes = np.zeros(n_LO)\n",
    "    MID_modes = np.zeros(n_MID)\n",
    "    HI_modes = np.zeros(n_HI)\n",
    "    DM_modes = np.zeros(n_DM)\n",
    "    LO_modes[poked_modes[pp]] = eunit/2*100\n",
    "    luvoir.zernike_mirror.actuators = LO_modes #c\n",
    "    luvoir.sm.actuators = MID_modes\n",
    "    luvoir.ripple_mirror.actuators = HI_modes #c\n",
    "    luvoir.dm.actuators = DM_modes\n",
    "    tmp_surface_poke = luvoir.zernike_mirror.surface\n",
    "    tmp_psf_poke, ref, = luvoir.calc_psf(ref=True, display_intermediate=False, return_intermediate=None)\n",
    "    phases[pp] = np.reshape(tmp_surface_poke*luvoir.aperture,[npup,npup])\n",
    "    detectors[pp] = np.reshape(tmp_psf_poke,[nimg,nimg])\n",
    "    \n",
    "\n"
   ]
  },
  {
   "cell_type": "code",
   "execution_count": null,
   "id": "secondary-program",
   "metadata": {},
   "outputs": [],
   "source": [
    "fig, axs = plt.subplots(2, n_pokes,figsize=(30,10))\n",
    "for qq in range(0,n_pokes):\n",
    "    phaseplot = axs[0,qq].imshow(phases[qq],cmap = 'hot')\n",
    "    axs[0,qq].axes.get_xaxis().set_visible(False)\n",
    "    axs[0,qq].axes.get_yaxis().set_visible(False)\n",
    "    #psfplot =  axs[1,qq].imshow(detectors[qq],norm=LogNorm(),vmin=10**(-11), vmax=10**(-5),cmap = 'hot')\n",
    "    psfplot =  axs[1,qq].imshow(detectors[qq],norm=LogNorm())\n",
    "    fig.colorbar(psfplot,ax = axs[1,qq],shrink=0.9)\n",
    "    axs[1,qq].axes.get_xaxis().set_visible(False)\n",
    "    axs[1,qq].axes.get_yaxis().set_visible(False)\n",
    "plt.show()"
   ]
  },
  {
   "cell_type": "code",
   "execution_count": null,
   "id": "arbitrary-florist",
   "metadata": {},
   "outputs": [],
   "source": [
    "file_name = figures_path + '/' + analysis_name + '_Poked_LO_camera' + '.pdf'\n",
    "fig.savefig(file_name)"
   ]
  },
  {
   "cell_type": "code",
   "execution_count": null,
   "id": "moved-orleans",
   "metadata": {},
   "outputs": [],
   "source": [
    "LO_modes = np.zeros(n_LO)\n",
    "MID_modes = np.zeros(n_MID)\n",
    "HI_modes = np.zeros(n_HI)\n",
    "DM_modes = np.zeros(n_DM)\n",
    "\n",
    "\n",
    "luvoir.zernike_mirror.actuators = LO_modes #c\n",
    "luvoir.sm.actuators = MID_modes\n",
    "luvoir.ripple_mirror.actuators = HI_modes #c\n",
    "luvoir.dm.actuators = DM_modes"
   ]
  },
  {
   "cell_type": "code",
   "execution_count": null,
   "id": "bulgarian-motivation",
   "metadata": {},
   "outputs": [],
   "source": [
    "zernike_ref = luvoir.calc_low_order_wfs()\n",
    "poked_modes = [1,3,4,7,9]\n",
    "n_pokes = len(poked_modes)\n",
    "phases = np.zeros([len(poked_modes),npup,npup])\n",
    "detectors = np.zeros([len(poked_modes),npup,npup])"
   ]
  },
  {
   "cell_type": "code",
   "execution_count": null,
   "id": "numerical-chapter",
   "metadata": {},
   "outputs": [],
   "source": [
    "for pp in range(0,n_pokes):\n",
    "    LO_modes = np.zeros(n_LO)\n",
    "    MID_modes = np.zeros(n_MID)\n",
    "    HI_modes = np.zeros(n_HI)\n",
    "    DM_modes = np.zeros(n_DM)\n",
    "    LO_modes[poked_modes[pp]] = eunit/2*100\n",
    "    luvoir.zernike_mirror.actuators = LO_modes #c\n",
    "    luvoir.sm.actuators = MID_modes\n",
    "    luvoir.ripple_mirror.actuators = HI_modes #c\n",
    "    luvoir.dm.actuators = DM_modes  \n",
    "    tmp_surface_poke = luvoir.zernike_mirror.surface\n",
    "    tmp_psf_poke = luvoir.calc_low_order_wfs()\n",
    "    phases[pp] = np.reshape(tmp_surface_poke*luvoir.aperture,[npup,npup])\n",
    "    detectors[pp] = np.reshape(tmp_psf_poke.power - zernike_ref.power,[npup,npup])"
   ]
  },
  {
   "cell_type": "code",
   "execution_count": null,
   "id": "driven-situation",
   "metadata": {},
   "outputs": [],
   "source": [
    "fig, axs = plt.subplots(2, n_pokes,figsize=(30,10))\n",
    "for qq in range(0,n_pokes):\n",
    "    phaseplot = axs[0,qq].imshow(phases[qq],cmap = 'hot')\n",
    "    axs[0,qq].axes.get_xaxis().set_visible(False)\n",
    "    axs[0,qq].axes.get_yaxis().set_visible(False)\n",
    "    psfplot =  axs[1,qq].imshow(detectors[qq],cmap = 'hot')\n",
    "#     fig.colorbar(psfplot,ax = axs[1,qq],shrink=0.9)\n",
    "    axs[1,qq].axes.get_xaxis().set_visible(False)\n",
    "    axs[1,qq].axes.get_yaxis().set_visible(False)\n",
    "plt.show()\n",
    "\n",
    "file_name = figures_path + '/' + analysis_name + '_Poked_LO_LOWFS' + '.pdf'\n",
    "fig.savefig(file_name)"
   ]
  },
  {
   "cell_type": "code",
   "execution_count": null,
   "id": "posted-postcard",
   "metadata": {},
   "outputs": [],
   "source": [
    "poked_modes = [0,1,3,4,5]\n",
    "n_pokes = len(poked_modes)\n",
    "phases = np.zeros([len(poked_modes),npup,npup])\n",
    "detectors = np.zeros([len(poked_modes),nimg,nimg])"
   ]
  },
  {
   "cell_type": "code",
   "execution_count": null,
   "id": "vertical-abraham",
   "metadata": {},
   "outputs": [],
   "source": [
    "for pp in range(0,n_pokes):\n",
    "    LO_modes = np.zeros(n_LO)\n",
    "    MID_modes = np.zeros(n_MID)\n",
    "    HI_modes = np.zeros(n_HI)\n",
    "    DM_modes = np.zeros(n_DM)\n",
    "    MID_modes[poked_modes[pp]] = eunit/2*10\n",
    "    luvoir.zernike_mirror.actuators = LO_modes #c\n",
    "    luvoir.sm.actuators = MID_modes\n",
    "    luvoir.ripple_mirror.actuators = HI_modes #c\n",
    "    luvoir.dm.actuators = DM_modes \n",
    "    tmp_surface_poke = luvoir.sm.surface\n",
    "    tmp_psf_poke, ref, = luvoir.calc_psf(ref=True, display_intermediate=False, return_intermediate=None)\n",
    "    phases[pp] = np.reshape(tmp_surface_poke,[npup,npup])\n",
    "    detectors[pp] = np.reshape(tmp_psf_poke,[nimg,nimg])\n",
    "fig, axs = plt.subplots(2, n_pokes,figsize=(30,10))\n",
    "for qq in range(0,n_pokes):\n",
    "    phaseplot = axs[0,qq].imshow(phases[qq],cmap = 'hot')\n",
    "    axs[0,qq].axes.get_xaxis().set_visible(False)\n",
    "    axs[0,qq].axes.get_yaxis().set_visible(False)\n",
    "    psfplot =  axs[1,qq].imshow(detectors[qq],norm=LogNorm())\n",
    "    fig.colorbar(psfplot,ax = axs[1,qq],shrink=0.9,cmap = 'hot')\n",
    "    axs[1,qq].axes.get_xaxis().set_visible(False)\n",
    "    axs[1,qq].axes.get_yaxis().set_visible(False)\n",
    "plt.show()\n",
    "\n",
    "file_name = figures_path + '/' + analysis_name + '_Poked_MID_camera' + '.pdf'\n",
    "fig.savefig(file_name)\n"
   ]
  },
  {
   "cell_type": "code",
   "execution_count": null,
   "id": "ambient-david",
   "metadata": {},
   "outputs": [],
   "source": [
    "LO_modes = np.zeros(n_LO)\n",
    "MID_modes = np.zeros(n_MID)\n",
    "HI_modes = np.zeros(n_HI)\n",
    "DM_modes = np.zeros(n_DM)\n",
    "\n",
    "luvoir.zernike_mirror.actuators = LO_modes #c\n",
    "luvoir.sm.actuators = MID_modes\n",
    "luvoir.ripple_mirror.actuators = HI_modes #c\n",
    "luvoir.dm.actuators = DM_modes \n",
    "\n",
    "zernike_ref = luvoir.calc_out_of_band_wfs()\n",
    "\n",
    "poked_modes = [1,3,4,7,9]\n",
    "n_pokes = len(poked_modes)\n",
    "phases = np.zeros([len(poked_modes),npup,npup])\n",
    "detectors = np.zeros([len(poked_modes),npup,npup])"
   ]
  },
  {
   "cell_type": "code",
   "execution_count": null,
   "id": "running-stamp",
   "metadata": {},
   "outputs": [],
   "source": [
    "detectors.shape"
   ]
  },
  {
   "cell_type": "code",
   "execution_count": null,
   "id": "vertical-sheriff",
   "metadata": {},
   "outputs": [],
   "source": [
    "for pp in range(0,n_pokes):\n",
    "    LO_modes = np.zeros(n_LO)\n",
    "    MID_modes = np.zeros(n_MID)\n",
    "    HI_modes = np.zeros(n_HI)\n",
    "    DM_modes = np.zeros(n_DM)\n",
    "    MID_modes[poked_modes[pp]] = eunit/2*100\n",
    "    luvoir.zernike_mirror.actuators = LO_modes\n",
    "    luvoir.sm.actuators = MID_modes\n",
    "    luvoir.ripple_mirror.actuators = HI_modes\n",
    "    luvoir.dm.actuators = DM_modes\n",
    "    tmp_surface_poke = luvoir.sm.surface\n",
    "    tmp_psf_poke = luvoir.calc_out_of_band_wfs()\n",
    "    phases[pp] = np.reshape(tmp_surface_poke*luvoir.aperture,[npup,npup])\n",
    "    detectors[pp] = np.reshape(tmp_psf_poke.power - zernike_ref.power,[npup,npup])\n",
    "fig, axs = plt.subplots(2, n_pokes,figsize=(30,10))\n",
    "for qq in range(0,n_pokes):\n",
    "    phaseplot = axs[0,qq].imshow(phases[qq],cmap = 'hot')\n",
    "    axs[0,qq].axes.get_xaxis().set_visible(False)\n",
    "    axs[0,qq].axes.get_yaxis().set_visible(False)\n",
    "    psfplot =  axs[1,qq].imshow(detectors[qq],cmap = 'hot')\n",
    "#     fig.colorbar(psfplot,ax = axs[1,qq],shrink=0.9)\n",
    "    axs[1,qq].axes.get_xaxis().set_visible(False)\n",
    "    axs[1,qq].axes.get_yaxis().set_visible(False)\n",
    "plt.show()\n",
    "\n",
    "file_name = figures_path + '/' + analysis_name + '_Poked_MID_MIDWFS' + '.pdf'\n",
    "fig.savefig(file_name)"
   ]
  },
  {
   "cell_type": "code",
   "execution_count": null,
   "id": "renewable-local",
   "metadata": {},
   "outputs": [],
   "source": [
    "poked_modes = [0,1,5,10,14]\n",
    "n_pokes = len(poked_modes)\n",
    "phases = np.zeros([len(poked_modes),npup,npup])\n",
    "detectors = np.zeros([len(poked_modes),nimg,nimg])"
   ]
  },
  {
   "cell_type": "code",
   "execution_count": null,
   "id": "lovely-recruitment",
   "metadata": {},
   "outputs": [],
   "source": [
    "for pp in range(0,n_pokes):\n",
    "    LO_modes = np.zeros(n_LO)\n",
    "    MID_modes = np.zeros(n_MID)\n",
    "    HI_modes = np.zeros(n_HI)\n",
    "    DM_modes = np.zeros(n_DM)\n",
    "    HI_modes[poked_modes[pp]] = eunit/2*10\n",
    "    luvoir.zernike_mirror.actuators = LO_modes\n",
    "    luvoir.sm.actuators = MID_modes\n",
    "    luvoir.ripple_mirror.actuators = HI_modes\n",
    "    luvoir.dm.actuators = DM_modes\n",
    "    tmp_surface_poke = luvoir.ripple_mirror.surface\n",
    "    tmp_psf_poke, ref, = luvoir.calc_psf(ref=True, display_intermediate=False, return_intermediate=None)\n",
    "    phases[pp] = np.reshape(tmp_surface_poke*luvoir.aperture,[npup,npup])\n",
    "    detectors[pp] = np.reshape(tmp_psf_poke,[nimg,nimg])"
   ]
  },
  {
   "cell_type": "code",
   "execution_count": null,
   "id": "voluntary-meter",
   "metadata": {},
   "outputs": [],
   "source": [
    "fig, axs = plt.subplots(2, n_pokes,figsize=(30,10))\n",
    "for qq in range(0,n_pokes):\n",
    "    phaseplot = axs[0,qq].imshow(phases[qq],cmap = 'hot')\n",
    "    axs[0,qq].axes.get_xaxis().set_visible(False)\n",
    "    axs[0,qq].axes.get_yaxis().set_visible(False)\n",
    "    psfplot =  axs[1,qq].imshow(detectors[qq],norm=LogNorm())\n",
    "    fig.colorbar(psfplot,ax = axs[1,qq],shrink=0.9)\n",
    "    axs[1,qq].axes.get_xaxis().set_visible(False)\n",
    "    axs[1,qq].axes.get_yaxis().set_visible(False)\n",
    "plt.show()\n",
    "\n",
    "\n",
    "file_name = figures_path + '/' + analysis_name + '_Poked_HI_Camera' + '.pdf'\n",
    "fig.savefig(file_name)"
   ]
  },
  {
   "cell_type": "code",
   "execution_count": null,
   "id": "equipped-pioneer",
   "metadata": {},
   "outputs": [],
   "source": []
  }
 ],
 "metadata": {
  "kernelspec": {
   "display_name": "Python 3",
   "language": "python",
   "name": "python3"
  },
  "language_info": {
   "codemirror_mode": {
    "name": "ipython",
    "version": 3
   },
   "file_extension": ".py",
   "mimetype": "text/x-python",
   "name": "python",
   "nbconvert_exporter": "python",
   "pygments_lexer": "ipython3",
   "version": "3.7.10"
  }
 },
 "nbformat": 4,
 "nbformat_minor": 5
}
