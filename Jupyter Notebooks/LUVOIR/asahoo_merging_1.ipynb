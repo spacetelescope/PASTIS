{
 "cells": [
  {
   "cell_type": "code",
   "execution_count": null,
   "id": "eight-turtle",
   "metadata": {},
   "outputs": [],
   "source": [
    "pwd"
   ]
  },
  {
   "cell_type": "code",
   "execution_count": null,
   "id": "alike-tablet",
   "metadata": {},
   "outputs": [],
   "source": [
    "import os\n",
    "import numpy as np\n",
    "import matplotlib.pyplot as plt\n",
    "from matplotlib.colors import LogNorm\n",
    "from astropy.io import fits\n",
    "import astropy.units as u\n",
    "import hcipy as hc\n",
    "import matplotlib as mpl\n",
    "os.chdir('/Users/asahoo/repos/PASTIS/')\n",
    "\n",
    "import pastis.util as util\n",
    "from pastis.config import CONFIG_PASTIS\n",
    "\n",
    "from pastis.e2e_simulators.luvoir_imaging import LuvoirAPLC\n",
    "from pastis.e2e_simulators.luvoir_imaging import LuvoirA_APLC"
   ]
  },
  {
   "cell_type": "code",
   "execution_count": null,
   "id": "occupational-texas",
   "metadata": {},
   "outputs": [],
   "source": [
    "ls"
   ]
  },
  {
   "cell_type": "code",
   "execution_count": null,
   "id": "funded-romance",
   "metadata": {},
   "outputs": [],
   "source": [
    "nseg = 120            #for luvoir?\n",
    "wvln = 638e-9\n",
    "\n",
    "datadir = '/Users/asahoo/laurent_repos/PASTIS/LUVOIR_delivery_May2019/' #confused what this directory actually does?\n",
    "aper_path = 'inputs/TelAp_LUVOIR_gap_pad01_bw_ovsamp04_N1000.fits'\n",
    "aper_ind_path = 'inputs/TelAp_LUVOIR_gap_pad01_bw_ovsamp04_N1000_indexed.fits'\n",
    "aper_read = hc.read_fits(os.path.join(datadir, aper_path))\n",
    "aper_ind_read = hc.read_fits(os.path.join(datadir, aper_ind_path))\n",
    "\n",
    "pupil_grid = hc.make_pupil_grid(dims=aper_ind_read.shape[0], diameter=15)\n",
    "\n",
    "aper = hc.Field(aper_read.ravel(), pupil_grid)\n",
    "aper_ind = hc.Field(aper_ind_read.ravel(), pupil_grid)\n",
    "\n",
    "wf_aper = hc.Wavefront(aper, wvln)\n",
    "hdr = fits.getheader(os.path.join(datadir, aper_ind_path))\n",
    "\n",
    "poslist = []\n",
    "for i in range(nseg):\n",
    "    segname = 'SEG' + str(i+1)\n",
    "    xin = hdr[segname + '_X']\n",
    "    yin = hdr[segname + '_Y']\n",
    "    poslist.append((xin, yin))\n",
    "    \n",
    "poslist = np.transpose(np.array(poslist))\n",
    "seg_pos = hc.CartesianGrid(hc.UnstructuredCoords(poslist))\n",
    "eunit = 1e-9"
   ]
  },
  {
   "cell_type": "code",
   "execution_count": null,
   "id": "gross-water",
   "metadata": {},
   "outputs": [],
   "source": [
    "conda env list"
   ]
  },
  {
   "cell_type": "code",
   "execution_count": null,
   "id": "comparative-space",
   "metadata": {
    "scrolled": false
   },
   "outputs": [],
   "source": [
    "print(type(pupil_grid), pupil_grid.shape, aper_ind_read.shape[0])"
   ]
  },
  {
   "cell_type": "code",
   "execution_count": null,
   "id": "defined-watershed",
   "metadata": {
    "scrolled": true
   },
   "outputs": [],
   "source": [
    "plt.figure(figsize=(20,5))\n",
    "\n",
    "plt.subplot(1,3,1)\n",
    "plt.title(\"Pupil_Grid\")\n",
    "plt.plot(pupil_grid.x, pupil_grid.y, '+')\n",
    "#plt.axis('equal')\n",
    "plt.xlabel('x')\n",
    "plt.ylabel('y')\n",
    "\n",
    "plt.subplot(1,3,2)\n",
    "plt.title(\"aper\")\n",
    "hc.imshow_field(aper)\n",
    "\n",
    "plt.subplot(1,3,3)\n",
    "plt.title(\"aper_ind\")\n",
    "hc.imshow_field(aper_ind)\n",
    "plt.colorbar()\n",
    "\n",
    "plt.show()"
   ]
  },
  {
   "cell_type": "code",
   "execution_count": null,
   "id": "quiet-payroll",
   "metadata": {},
   "outputs": [],
   "source": [
    "plt.figure(figsize=(20,5))\n",
    "\n",
    "plt.subplot(1,3,1)\n",
    "plt.title(\"wf_aber.intensity\")\n",
    "hc.imshow_field(wf_aper.intensity)\n",
    "\n",
    "plt.subplot(1,3,2)\n",
    "plt.title(\"wf_aber.phase\")\n",
    "hc.imshow_field(wf_aper.phase)\n",
    "\n",
    "plt.subplot(1,3,3)\n",
    "plt.title(\"seg_pos\")\n",
    "plt.plot(seg_pos.x, seg_pos.y, '+')\n",
    "#plt.axis('equal')\n",
    "plt.xlabel('x')\n",
    "plt.ylabel('y')"
   ]
  },
  {
   "cell_type": "code",
   "execution_count": null,
   "id": "apart-phenomenon",
   "metadata": {},
   "outputs": [],
   "source": [
    "hdr"
   ]
  },
  {
   "cell_type": "code",
   "execution_count": null,
   "id": "individual-pharmaceutical",
   "metadata": {},
   "outputs": [],
   "source": [
    "savedpath = '/Users/asahoo/Desktop/data_repos/laurent_data/2021-02-10T13-01-44_luvoir-medium'\n",
    "G_LO_real = fits.getdata(os.path.join(savedpath, 'matrix_numerical', 'EFIELD_Re_matrix_num_LO_15.fits'))\n",
    "G_LO_imag = fits.getdata(os.path.join(savedpath, 'matrix_numerical', 'EFIELD_Im_matrix_num_LO_15.fits'))\n",
    "G_MID_real = fits.getdata(os.path.join(savedpath, 'matrix_numerical', 'EFIELD_Re_matrix_num_MID_6.fits'))\n",
    "G_MID_imag = fits.getdata(os.path.join(savedpath, 'matrix_numerical', 'EFIELD_Im_matrix_num_MID_6.fits'))\n",
    "G_HI_real = fits.getdata(os.path.join(savedpath, 'matrix_numerical', 'EFIELD_Re_matrix_num_HI_24.fits'))\n",
    "G_HI_imag = fits.getdata(os.path.join(savedpath, 'matrix_numerical', 'EFIELD_Im_matrix_num_HI_24.fits'))\n",
    "G_LOWFS_real = fits.getdata(os.path.join(savedpath, 'matrix_numerical', 'EFIELD_LOWFS_Re_matrix_num_LO_15.fits'))\n",
    "G_LOWFS_imag = fits.getdata(os.path.join(savedpath, 'matrix_numerical', 'EFIELD_LOWFS_Im_matrix_num_LO_15.fits'))\n",
    "G_OBWFS_real = fits.getdata(os.path.join(savedpath, 'matrix_numerical', 'EFIELD_OBWFS_Re_matrix_num_MID_6.fits'))\n",
    "G_OBWFS_imag = fits.getdata(os.path.join(savedpath, 'matrix_numerical', 'EFIELD_OBWFS_Im_matrix_num_MID_6.fits'))"
   ]
  },
  {
   "cell_type": "code",
   "execution_count": null,
   "id": "acceptable-truth",
   "metadata": {},
   "outputs": [],
   "source": [
    "print(G_LO_real.shape, G_LO_imag.shape, G_MID_real.shape, G_MID_imag.shape, G_HI_real.shape, G_HI_imag.shape)\n",
    "#print(G_LOWFS_real.shape, G_LOWFS_imag.shape, G_OBWFS_imag.shape, G_OBWFS_real.shape)\n",
    "\n",
    "\n",
    "nth_lo  = G_LO_real.shape[0]      # value same as max_LO taken from config.ini file\n",
    "nth_mid = G_MID_real.shape[0]     # 120*max_MID\n",
    "nth_hi  = G_HI_real.shape[0]      # square of max_HI \n",
    "\n",
    "\n",
    "print(\"\\n\",\"*****************      LOW_ORDER field imaginary and real part    **************\",\"\\n\")\n",
    "fig = plt.figure(figsize=(20,10))\n",
    "for i in range(0, nth_lo):\n",
    "    plt.subplot(3,5,i+1)\n",
    "    im = plt.imshow(np.log(np.abs(np.reshape(G_LO_real[i], [227,227]))), vmin=-30, vmax=-5)\n",
    "    plt.title(\"G_LO_real_%d\"%i)\n",
    "    plt.colorbar(im)\n",
    "plt.tight_layout()\n",
    "\n",
    "\n",
    "fig = plt.figure(figsize=(20,10))\n",
    "for i in range(0, nth_lo):\n",
    "    plt.subplot(3,5,i+1)\n",
    "    im = plt.imshow(np.log(np.abs(np.reshape(G_LO_imag[i], [227,227]))), vmin=-30, vmax=-5)\n",
    "    plt.title(\"G_LO_imag_%d\"%i)\n",
    "    plt.colorbar(im)\n",
    "plt.tight_layout()\n",
    "\n",
    "\n",
    "# print(\"\\n\",\"*****************      MID_ORDER field imaginary and real part    **************\",\"\\n\")\n",
    "# fig = plt.figure(figsize=(40,20))\n",
    "# for i in range(0, nth_mid):\n",
    "#     plt.subplot(20,36,i+1)\n",
    "#     im = plt.imshow(np.log(np.abs(np.reshape(G_MID_real[i], [227,227]))), vmin=-30, vmax=-5)\n",
    "#     plt.title(\"G_MID_real_%d\"%i)\n",
    "#     plt.colorbar(im)\n",
    "# #plt.tight_layout()\n",
    "\n",
    "\n",
    "# fig = plt.figure(figsize=(40,20))\n",
    "# for i in range(0, nth_mid):\n",
    "#     plt.subplot(20,36,i+1)\n",
    "#     im = plt.imshow(np.log(np.abs(np.reshape(G_MID_imag[i], [227,227]))), vmin=-30, vmax=-5)\n",
    "#     plt.title(\"G_MID_imag_%d\"%i)\n",
    "#     plt.colorbar(im)\n",
    "# plt.tight_layout()\n",
    "\n"
   ]
  },
  {
   "cell_type": "code",
   "execution_count": null,
   "id": "simplified-italy",
   "metadata": {},
   "outputs": [],
   "source": [
    "design = 'medium'"
   ]
  },
  {
   "cell_type": "code",
   "execution_count": null,
   "id": "controlled-storage",
   "metadata": {},
   "outputs": [],
   "source": [
    "overall_dir = util.create_data_path(CONFIG_PASTIS.get('local', 'local_data_path'), telescope = 'luvoir-'+design)\n",
    "os.makedirs(overall_dir, exist_ok=True)\n",
    "resDir = os.path.join(overall_dir, 'matrix_numerical')\n",
    "\n",
    "# # Moving parts parameters\n",
    "max_LO = CONFIG_PASTIS.getint('calibration', 'max_LO')\n",
    "max_MID = CONFIG_PASTIS.getint('calibration', 'max_MID')\n",
    "max_HI = CONFIG_PASTIS.getint('calibration', 'max_HI')\n",
    "num_DM_act = CONFIG_PASTIS.getint('calibration', 'num_DM_act')\n",
    "\n",
    "# # General telescope parameters\n",
    "nb_seg = CONFIG_PASTIS.getint('LUVOIR', 'nb_subapertures')\n",
    "wvln = CONFIG_PASTIS.getfloat('LUVOIR', 'lambda') * 1e-9  # m\n",
    "diam = CONFIG_PASTIS.getfloat('LUVOIR', 'diameter')  # m\n",
    "nm_aber = CONFIG_PASTIS.getfloat('calibration', 'single_aberration') * 1e-9   # m\n",
    "\n",
    "# # Image system parameters\n",
    "im_lamD = CONFIG_PASTIS.getfloat('numerical', 'im_size_lamD_hcipy')  # image size in lambda/D\n",
    "sampling = CONFIG_PASTIS.getfloat('numerical', 'sampling')"
   ]
  },
  {
   "cell_type": "code",
   "execution_count": null,
   "id": "phantom-section",
   "metadata": {},
   "outputs": [],
   "source": [
    "optics_input = CONFIG_PASTIS.get('LUVOIR', 'optics_path')\n",
    "#luvoir = LuvoirAPLC(optics_input, design, sampling)"
   ]
  },
  {
   "cell_type": "code",
   "execution_count": null,
   "id": "traditional-orleans",
   "metadata": {},
   "outputs": [],
   "source": [
    "luvoir = LuvoirAPLC(optics_input, design, sampling)\n",
    "luvoir_a = LuvoirA_APLC(optics_input, design, sampling)"
   ]
  },
  {
   "cell_type": "code",
   "execution_count": null,
   "id": "lyric-following",
   "metadata": {},
   "outputs": [],
   "source": [
    "#luvoir.seg_diameter_circumscribed, \n",
    "luvoir_a.segment_circumscribed_diameter"
   ]
  },
  {
   "cell_type": "code",
   "execution_count": null,
   "id": "naughty-exploration",
   "metadata": {},
   "outputs": [],
   "source": [
    "luvoir_a.apod_design, luvoir_a.apod_dict, luvoir.fpm, luvoir.pupil_grid"
   ]
  },
  {
   "cell_type": "code",
   "execution_count": null,
   "id": "relevant-stake",
   "metadata": {},
   "outputs": [],
   "source": [
    "segment = hc.hexagonal_aperture(luvoir.segment_circumscribed_diameter, np.pi / 2) #function)\n",
    "segment_sampled = hc.evaluate_supersampled(segment,luvoir.pupil_grid, 1) #field\n",
    "\n",
    "plt.figure(figsize=(10,5))\n",
    "\n",
    "plt.subplot(1,2,1)\n",
    "plt.title(\"segment_sampled\")\n",
    "hc.imshow_field(segment_sampled)\n",
    "\n",
    "plt.subplot(1,2,2)\n",
    "plt.title(\"luvoir.pupil_grid\")\n",
    "plt.plot(luvoir.pupil_grid.x, luvoir.pupil_grid.y, '+')\n",
    "#plt.axis('equal')\n",
    "plt.xlabel('x')\n",
    "plt.ylabel('y')\n",
    "\n",
    "plt.show()"
   ]
  },
  {
   "cell_type": "code",
   "execution_count": null,
   "id": "experimental-pipeline",
   "metadata": {},
   "outputs": [],
   "source": [
    "aper2, segs2 = hc.make_segmented_aperture(segment,luvoir_a.seg_pos, segment_transmissions=1, return_segments=True)\n",
    "luvoir_segmented_pattern = hc.evaluate_supersampled(aper2, luvoir.pupil_grid, 1)\n",
    "seg_evaluated = []\n",
    "for seg_tmp in segs2:\n",
    "    tmp_evaluated = hc.evaluate_supersampled(seg_tmp, luvoir.pupil_grid, 1)\n",
    "    seg_evaluated.append(tmp_evaluated)\n",
    "    \n",
    "plt.figure()\n",
    "hc.imshow_field(luvoir_segmented_pattern)\n",
    "plt.show()"
   ]
  },
  {
   "cell_type": "code",
   "execution_count": null,
   "id": "designing-distribution",
   "metadata": {},
   "outputs": [],
   "source": [
    "luvoir.make_LO_Modes(max_LO)"
   ]
  },
  {
   "cell_type": "code",
   "execution_count": null,
   "id": "challenging-white",
   "metadata": {},
   "outputs": [],
   "source": [
    "global_zernike_basis = hc.mode_basis.make_zernike_basis(Nzernike_global,self.diam, self.pupil_grid,\n",
    "                                                                starting_mode=1, ansi=False, radial_cutoff=True, use_cache=True)"
   ]
  },
  {
   "cell_type": "code",
   "execution_count": null,
   "id": "meaningful-conversion",
   "metadata": {},
   "outputs": [],
   "source": []
  },
  {
   "cell_type": "code",
   "execution_count": null,
   "id": "front-heavy",
   "metadata": {},
   "outputs": [],
   "source": []
  },
  {
   "cell_type": "code",
   "execution_count": null,
   "id": "fatal-scale",
   "metadata": {},
   "outputs": [],
   "source": []
  },
  {
   "cell_type": "code",
   "execution_count": null,
   "id": "qualified-details",
   "metadata": {},
   "outputs": [],
   "source": []
  },
  {
   "cell_type": "code",
   "execution_count": null,
   "id": "correct-calibration",
   "metadata": {},
   "outputs": [],
   "source": []
  },
  {
   "cell_type": "code",
   "execution_count": null,
   "id": "regulation-marijuana",
   "metadata": {},
   "outputs": [],
   "source": []
  },
  {
   "cell_type": "code",
   "execution_count": null,
   "id": "double-cooper",
   "metadata": {},
   "outputs": [],
   "source": []
  },
  {
   "cell_type": "code",
   "execution_count": null,
   "id": "royal-arcade",
   "metadata": {},
   "outputs": [],
   "source": []
  },
  {
   "cell_type": "code",
   "execution_count": null,
   "id": "integral-vanilla",
   "metadata": {},
   "outputs": [],
   "source": []
  },
  {
   "cell_type": "code",
   "execution_count": null,
   "id": "developmental-melbourne",
   "metadata": {},
   "outputs": [],
   "source": []
  },
  {
   "cell_type": "code",
   "execution_count": null,
   "id": "photographic-detroit",
   "metadata": {},
   "outputs": [],
   "source": []
  }
 ],
 "metadata": {
  "kernelspec": {
   "display_name": "Python 3",
   "language": "python",
   "name": "python3"
  },
  "language_info": {
   "codemirror_mode": {
    "name": "ipython",
    "version": 3
   },
   "file_extension": ".py",
   "mimetype": "text/x-python",
   "name": "python",
   "nbconvert_exporter": "python",
   "pygments_lexer": "ipython3",
   "version": "3.7.10"
  }
 },
 "nbformat": 4,
 "nbformat_minor": 5
}
