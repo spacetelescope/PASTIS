{
 "cells": [
  {
   "cell_type": "markdown",
   "metadata": {},
   "source": [
    "# Using the segmented mirror in HCIPy\n",
    "\n",
    "Just using the segmented mirror this time directly from the PASTIS module.\n",
    "\n",
    "The `SegmentedMirror()` works with any segmented aperture from `HCIPy`, provided you put it in a form where the aperture function also returns the segment positions. Currently I only have that for the HiCAT/ATLAST aperture, but it's not hard to make once you have an aperture functions, since the only thing is literally to add the segment positions as a return."
   ]
  },
  {
   "cell_type": "code",
   "execution_count": null,
   "metadata": {},
   "outputs": [],
   "source": [
    "import os\n",
    "import numpy as np\n",
    "import matplotlib.pyplot as plt\n",
    "%matplotlib inline\n",
    "import astropy.units as u\n",
    "import hcipy as hc\n",
    "\n",
    "os.chdir('../../pastis/')\n",
    "from config import CONFIG_INI\n",
    "import util_pastis as util\n",
    "from aperture_functions_temp import make_atlast_aperture, POPPY_TO_HCIPY_INDEX"
   ]
  },
  {
   "cell_type": "markdown",
   "metadata": {
    "collapsed": true
   },
   "source": [
    "### Instantiate an SM"
   ]
  },
  {
   "cell_type": "code",
   "execution_count": null,
   "metadata": {},
   "outputs": [],
   "source": [
    "# Parameters\n",
    "npix = 500\n",
    "wvln_hc = 638e-9\n",
    "lamD = 16.7\n",
    "samp = 4\n",
    "diam = 15 # m\n",
    "norm = False"
   ]
  },
  {
   "cell_type": "code",
   "execution_count": null,
   "metadata": {},
   "outputs": [],
   "source": [
    "# HCIPy grids and propagator\n",
    "pupil_grid = hc.make_pupil_grid(dims=npix, diameter=diam)\n",
    "focal_grid = hc.make_focal_grid(pupil_grid, samp, lamD, wavelength=wvln_hc)\n",
    "prop = hc.FraunhoferPropagator(pupil_grid, focal_grid)"
   ]
  },
  {
   "cell_type": "code",
   "execution_count": null,
   "metadata": {},
   "outputs": [],
   "source": [
    "# Generate an ATLAST pupil\n",
    "aper, segments = make_atlast_aperture(normalized=norm, with_spiders=False, return_segments=True)\n",
    "aper = hc.evaluate_supersampled(aper, pupil_grid, 2)\n",
    "segments = hc.evaluate_supersampled(segments, pupil_grid, 2)\n",
    "\n",
    "hc.imshow_field(aper)\n",
    "plt.title('Aperture')"
   ]
  },
  {
   "cell_type": "code",
   "execution_count": null,
   "metadata": {},
   "outputs": [],
   "source": [
    "# Instantiate the segmented mirror\n",
    "sm = hc.SegmentedDeformableMirror(segments)"
   ]
  },
  {
   "cell_type": "code",
   "execution_count": null,
   "metadata": {},
   "outputs": [],
   "source": [
    "# Make a pupil plane wavefront from aperture\n",
    "wf = hc.Wavefront(aper, wavelength=wvln_hc)\n",
    "hc.imshow_field(wf.intensity)\n",
    "plt.title('Wavefront intensity')"
   ]
  },
  {
   "cell_type": "markdown",
   "metadata": {},
   "source": [
    "### Field at SM pupil plane"
   ]
  },
  {
   "cell_type": "code",
   "execution_count": null,
   "metadata": {},
   "outputs": [],
   "source": [
    "# Propagate the wf through the SM and display its intensity\n",
    "# and phase in that pupil plane, before propagation to image plane.\n",
    "wf_at_sm = sm(wf)\n",
    "\n",
    "plt.figure(figsize=(18, 9))\n",
    "plt.suptitle('WF prop through SM, still in pupil plane')\n",
    "\n",
    "plt.subplot(1, 2, 1)\n",
    "hc.imshow_field(wf_at_sm.intensity, mask=aper)\n",
    "plt.title('Intensity')\n",
    "plt.colorbar()\n",
    "\n",
    "plt.subplot(1, 2, 2)\n",
    "hc.imshow_field(wf_at_sm.phase, mask=aper, cmap='RdBu')\n",
    "plt.title('Phase')\n",
    "plt.colorbar()"
   ]
  },
  {
   "cell_type": "markdown",
   "metadata": {},
   "source": [
    "### Field in image plane after SM"
   ]
  },
  {
   "cell_type": "code",
   "execution_count": null,
   "metadata": {},
   "outputs": [],
   "source": [
    "# Propagate from SM to image plane and display intensity and phase\n",
    "im_ref = prop(sm(wf))   # or im_ref = prop(wf_at_sm)\n",
    "\n",
    "plt.figure(figsize=(18, 9))\n",
    "plt.suptitle('Image plane after SM')\n",
    "\n",
    "plt.subplot(1, 2, 1)\n",
    "hc.imshow_field(np.log10(im_ref.intensity))\n",
    "plt.title('Intensity')\n",
    "plt.colorbar()\n",
    "\n",
    "plt.subplot(1, 2, 2)\n",
    "hc.imshow_field(im_ref.phase, cmap='RdBu')\n",
    "plt.title('Phase')\n",
    "plt.colorbar()"
   ]
  },
  {
   "cell_type": "markdown",
   "metadata": {},
   "source": [
    "### Aberrate some segments in tip and tilt"
   ]
  },
  {
   "cell_type": "code",
   "execution_count": null,
   "metadata": {},
   "outputs": [],
   "source": [
    "sm.flatten()\n",
    "for i in [2, 34, 3, 19, 23, 29, 15]:\n",
    "    sm.set_segment_actuators(POPPY_TO_HCIPY_INDEX[i], 0, 1e-8, 1e-8)\n",
    "for i in [27, 5, 17, 24, 21]:\n",
    "    sm.set_segment_actuators(POPPY_TO_HCIPY_INDEX[i], 0, 2e-8, 0)\n",
    "for i in [18, 31, 11, 13, 20]:\n",
    "    sm.set_segment_actuators(POPPY_TO_HCIPY_INDEX[i], 0, 0, 3e-8)"
   ]
  },
  {
   "cell_type": "code",
   "execution_count": null,
   "metadata": {},
   "outputs": [],
   "source": [
    "# SM in pupil plane\n",
    "wf_at_sm = sm(wf)\n",
    "\n",
    "plt.figure(figsize=(18, 9))\n",
    "plt.suptitle('SM in pupil plane with tilts')\n",
    "\n",
    "plt.subplot(1, 2, 1)\n",
    "hc.imshow_field(wf_at_sm.intensity, mask=aper)\n",
    "plt.title('Intensity')\n",
    "plt.colorbar()\n",
    "\n",
    "plt.subplot(1, 2, 2)\n",
    "hc.imshow_field(wf_at_sm.phase, mask=aper, cmap='RdBu')\n",
    "plt.title('Phase')\n",
    "plt.colorbar()"
   ]
  },
  {
   "cell_type": "code",
   "execution_count": null,
   "metadata": {},
   "outputs": [],
   "source": [
    "# Image after SM with tilts\n",
    "im = prop(sm(wf))\n",
    "\n",
    "plt.figure(figsize=(18, 9))\n",
    "plt.suptitle('Image plane after SM with tilts')\n",
    "\n",
    "plt.subplot(1, 2, 1)\n",
    "hc.imshow_field(np.log10(im.intensity))\n",
    "plt.title('Intensity')\n",
    "plt.colorbar()\n",
    "\n",
    "plt.subplot(1, 2, 2)\n",
    "hc.imshow_field(im.phase, cmap='RdBu')\n",
    "plt.title('Phase')\n",
    "plt.colorbar()"
   ]
  },
  {
   "cell_type": "markdown",
   "metadata": {},
   "source": [
    "### Flatten the SM and apply pistons instead"
   ]
  },
  {
   "cell_type": "code",
   "execution_count": null,
   "metadata": {},
   "outputs": [],
   "source": [
    "sm.flatten()"
   ]
  },
  {
   "cell_type": "code",
   "execution_count": null,
   "metadata": {},
   "outputs": [],
   "source": [
    "wf_at_sm = sm(wf)\n",
    "\n",
    "plt.figure(figsize=(18, 9))\n",
    "plt.suptitle('SM in pupil plane - flattened')\n",
    "\n",
    "plt.subplot(1, 2, 1)\n",
    "hc.imshow_field(wf_at_sm.intensity, mask=aper)\n",
    "plt.title('Intensity')\n",
    "plt.colorbar()\n",
    "\n",
    "plt.subplot(1, 2, 2)\n",
    "hc.imshow_field(wf_at_sm.phase, mask=aper, cmap='RdBu')\n",
    "plt.title('Phase')\n",
    "plt.colorbar()"
   ]
  },
  {
   "cell_type": "markdown",
   "metadata": {},
   "source": [
    "The wavefront phase is displayed in units of radians."
   ]
  },
  {
   "cell_type": "code",
   "execution_count": null,
   "metadata": {},
   "outputs": [],
   "source": [
    "#for i in [2, 34, 3, 19, 23, 28, 14]:\n",
    "for i in [19, 28]:\n",
    "    sm.set_segment_actuators(POPPY_TO_HCIPY_INDEX[i], 1e-7, 0, 0)   # This input is in meters, the phasemap below is in radians though."
   ]
  },
  {
   "cell_type": "code",
   "execution_count": null,
   "metadata": {},
   "outputs": [],
   "source": [
    "# Pupil plane SM image\n",
    "wf_at_sm = sm(wf)\n",
    "\n",
    "plt.figure(figsize=(18, 9))\n",
    "plt.suptitle('SM in pupil plane - with pistons')\n",
    "\n",
    "plt.subplot(1, 2, 1)\n",
    "hc.imshow_field(wf_at_sm.intensity, mask=aper)\n",
    "plt.title('Intensity')\n",
    "plt.colorbar()\n",
    "\n",
    "plt.subplot(1, 2, 2)\n",
    "hc.imshow_field(wf_at_sm.phase, mask=aper, cmap='RdBu')\n",
    "plt.title('Phase')\n",
    "plt.colorbar()"
   ]
  },
  {
   "cell_type": "code",
   "execution_count": null,
   "metadata": {},
   "outputs": [],
   "source": [
    "# Image after SM with pistons\n",
    "im = prop(sm(wf))\n",
    "\n",
    "plt.figure(figsize=(18, 9))\n",
    "plt.suptitle('Image plane after SM with pistons')\n",
    "\n",
    "plt.subplot(1, 2, 1)\n",
    "hc.imshow_field(np.log10(im.intensity))\n",
    "plt.title('Intensity')\n",
    "plt.colorbar()\n",
    "\n",
    "plt.subplot(1, 2, 2)\n",
    "hc.imshow_field(im.phase, cmap='RdBu')\n",
    "plt.title('Phase')\n",
    "plt.colorbar()"
   ]
  },
  {
   "cell_type": "code",
   "execution_count": null,
   "metadata": {},
   "outputs": [],
   "source": [
    "# Display piston aberrated and reference image next to each other\n",
    "plt.figure(figsize=(18, 9))\n",
    "plt.suptitle('Reference image and piston image')\n",
    "\n",
    "plt.subplot(1, 2, 1)\n",
    "hc.imshow_field(np.log10(im_ref.intensity))\n",
    "plt.title('Reference image')\n",
    "plt.colorbar()\n",
    "\n",
    "plt.subplot(1, 2, 2)\n",
    "hc.imshow_field(np.log10(im.intensity))\n",
    "plt.title('Image with piston aberrations')\n",
    "plt.colorbar()"
   ]
  },
  {
   "cell_type": "code",
   "execution_count": null,
   "metadata": {},
   "outputs": [],
   "source": [
    "# Get the residual of the two images\n",
    "res = im_ref.intensity - im.intensity\n",
    "plt.figure(figsize=(15, 15))\n",
    "hc.imshow_field(res)\n",
    "plt.title('Residual of image with pistons')\n",
    "plt.colorbar()"
   ]
  },
  {
   "cell_type": "markdown",
   "metadata": {
    "collapsed": true
   },
   "source": [
    "## Comparison to Poppy HexDM with three rings\n",
    "\n",
    "Lets first make a segmented mirror like ATLAST/HiCAT, as we did with HCIPy and calculate the unaberrated PSF."
   ]
  },
  {
   "cell_type": "code",
   "execution_count": null,
   "metadata": {},
   "outputs": [],
   "source": [
    "import poppy\n",
    "import astropy.units as u\n",
    "import matplotlib.pyplot as plt\n",
    "%matplotlib inline\n",
    "\n",
    "wvln_pop = 638e-9   # m\n",
    "\n",
    "iris = poppy.dms.HexSegmentedDeformableMirror(name='Iris DM',\n",
    "                                              rings=3,\n",
    "                                              flattoflat=2.14*u.m,\n",
    "                                              gap=2*u.cm,\n",
    "                                              center=False)"
   ]
  },
  {
   "cell_type": "code",
   "execution_count": null,
   "metadata": {},
   "outputs": [],
   "source": [
    "plt.figure(figsize=(16, 8))\n",
    "iris.display(what='both')"
   ]
  },
  {
   "cell_type": "code",
   "execution_count": null,
   "metadata": {},
   "outputs": [],
   "source": [
    "# Make an optical system with the segmented DM and a detector\n",
    "osys = poppy.OpticalSystem()\n",
    "osys.add_pupil(iris)\n",
    "pxscle = 0.013      # I'm tweaking pixelscale and fov_arcsec to match the HCIPy image\n",
    "fovarc = 0.28\n",
    "osys.add_detector(pixelscale=pxscle, fov_arcsec=fovarc, oversample=8)\n",
    "\n",
    "# Calculate the PSF\n",
    "psf = osys.calc_psf(wvln_pop)\n",
    "plt.figure(figsize=(15, 15))\n",
    "poppy.display_psf(psf, vmin=1e-12, vmax=0.1)\n",
    "\n",
    "# Get the PSF as an array\n",
    "psf_poppy = psf[0].data"
   ]
  },
  {
   "cell_type": "code",
   "execution_count": null,
   "metadata": {},
   "outputs": [],
   "source": [
    "# Display HCIPy and Poppy unaberrated images next to each other\n",
    "# Mormalize them by their max and make sure we're using the same scale for both.\n",
    "plt.figure(figsize=(20, 10))\n",
    "\n",
    "plt.subplot(121)\n",
    "hc.imshow_field(np.log10(im_ref.intensity/np.max(im_ref.intensity)), vmin=-10, vmax=0)\n",
    "plt.title('HCIPy unaberrated')\n",
    "plt.colorbar()\n",
    "\n",
    "plt.subplot(122)\n",
    "plt.imshow(np.log10(psf_poppy/np.max(psf_poppy)), vmin=-10, vmax=0)\n",
    "plt.title('Poppy unaberrated')\n",
    "plt.colorbar()"
   ]
  },
  {
   "cell_type": "markdown",
   "metadata": {},
   "source": [
    "### Aberrating two segments with piston\n",
    "\n",
    "Careful, poppy has a different sugment numbering than HCIPy! Also, HCIPy and poppy both take the segment aberration input in meters, but the HCIPy displays convert them to radians while poppy keeps them in meters (of surface (!) aberration!)."
   ]
  },
  {
   "cell_type": "code",
   "execution_count": null,
   "metadata": {},
   "outputs": [],
   "source": [
    "# Set some actuators\n",
    "iris.flatten()\n",
    "\n",
    "aber = 100*u.nm\n",
    "print('Aberration: {}'.format(aber))\n",
    "print('Aberration:  {} rad'.format(2*np.pi*aber.to(u.m).value/wvln_pop))\n",
    "\n",
    "iris.set_actuator(34, aber, 0, 0)   # 34 in poppy is 19 in HCIPy\n",
    "iris.set_actuator(25, aber, 0, 0)\n",
    "\n",
    "# iris.set_actuator(15, aber, 0, 0)\n",
    "# iris.set_actuator(12, aber, 0, 0)\n",
    "# iris.set_actuator(9, aber, 0, 0)\n",
    "# iris.set_actuator(30, aber, 0, 0)\n",
    "# iris.set_actuator(16, aber, 0, 0)\n",
    "\n",
    "\n",
    "plt.figure(figsize=(10,10))\n",
    "iris.display(what='opd')"
   ]
  },
  {
   "cell_type": "code",
   "execution_count": null,
   "metadata": {},
   "outputs": [],
   "source": [
    "# Create new optical system with aberrated SM\n",
    "osys_aber = poppy.OpticalSystem()\n",
    "osys_aber.add_pupil(iris)\n",
    "osys_aber.add_detector(pixelscale=pxscle, fov_arcsec=fovarc, oversample=8)\n",
    "\n",
    "# Calculate the PSF\n",
    "psf = osys_aber.calc_psf(2e-6)\n",
    "plt.figure(figsize=(15, 15))\n",
    "poppy.display_psf(psf, vmin=1e-9, vmax=0.1)\n",
    "\n",
    "# Get the PSF as an array\n",
    "psf_poppy_aber = psf[0].data"
   ]
  },
  {
   "cell_type": "markdown",
   "metadata": {},
   "source": [
    "It makes absolitely no sense that this image has a smaller fov than the previous Poppy image, since I use exactly the same setup. But I gave up on fixing it since I got a better comparison between Poppy and HCIPy results further down where I unify the aberration input between the two."
   ]
  },
  {
   "cell_type": "code",
   "execution_count": null,
   "metadata": {},
   "outputs": [],
   "source": [
    "plt.figure(figsize=(20, 10))\n",
    "\n",
    "plt.subplot(121)\n",
    "hc.imshow_field(np.log10(im.intensity))\n",
    "plt.title('HCIPy with piston aberrations')\n",
    "plt.colorbar()\n",
    "\n",
    "plt.subplot(122)\n",
    "plt.imshow(np.log10(psf_poppy_aber))\n",
    "plt.title('Aberrated poppy')\n",
    "plt.colorbar()"
   ]
  },
  {
   "cell_type": "markdown",
   "metadata": {},
   "source": [
    "These actualy match pretty well. I should try comparing a bigger field of view and also make sure the aberrations I put on are the same. For this I should figure out how to include a real wavelength into HCIPy, which might require also setting a real telescope size instead of a normalized aperture and a pupil grid of size 1. - I did this in the section below and in notebook 3c.\n",
    "\n",
    "I also think that when I put 0.5 * wvnl_hc or more of aberration on HCIPy, I get phase wrapping, because all the aberrations in my image plane go away."
   ]
  },
  {
   "cell_type": "markdown",
   "metadata": {},
   "source": [
    "### Unify aberration input between HCIPy and Poppy\n",
    "\n",
    "I want to be able to define a single aberration number that I then put on the SMs as a segment aberration. I can do that by defining the aberration in terms of radians of phase and then convert them to linear units, based on the wavelength used, at the input to the SM.\n",
    "\n",
    "**There are two main differences between the HCIPY SM and the Poppy SM:**\n",
    "- HCIPY takes the segment input in m of **surface**, while Poppy takes it in m of **OPD**. This means that we have to divide the input for HCIPy by 2.\n",
    "- The **segment numbering** between the two is differnt. That's why we import the dictionary `POPPY_TO_HCIPY_INDEX`, so that we can address the sam segments easily.\n",
    "\n",
    "The **phase display** is also different, as HCIPy is in radians of phase and Poppy is in meters of OPD."
   ]
  },
  {
   "cell_type": "code",
   "execution_count": null,
   "metadata": {},
   "outputs": [],
   "source": [
    "# Make a new Poppy SM\n",
    "poppysm = poppy.dms.HexSegmentedDeformableMirror(name='Poppy SM',\n",
    "                                                 rings=3,\n",
    "                                                 flattoflat=2.14*u.m,\n",
    "                                                 gap=2*u.cm,\n",
    "                                                 center=False)"
   ]
  },
  {
   "cell_type": "code",
   "execution_count": null,
   "metadata": {},
   "outputs": [],
   "source": [
    "print('wvln_hc: {} m'.format(wvln_hc))\n",
    "print('wvln_pop: {} m'.format(wvln_pop))"
   ]
  },
  {
   "cell_type": "code",
   "execution_count": null,
   "metadata": {},
   "outputs": [],
   "source": [
    "# Define aberration in radians of phase and convert to OPD error in both systems\n",
    "aber_rad = 1.2\n",
    "\n",
    "aber_hc = aber_rad * wvln_hc / (2 * np.pi)\n",
    "aber_pop = aber_rad * wvln_pop / (2 * np.pi)\n",
    "\n",
    "print('Aberration: {} rad'.format(aber_rad))\n",
    "print('aber_hc: {} m OPD(!)'.format(aber_hc))\n",
    "print('aber_pop: {} m OPD(!)'.format(aber_pop))"
   ]
  },
  {
   "cell_type": "code",
   "execution_count": null,
   "metadata": {},
   "outputs": [],
   "source": [
    "# Make a function out of this\n",
    "def phase_to_linear(aber, wvln):\n",
    "    \"\"\" Convert radians of phase aberration to linear aberration based on wavelength.\n",
    "    -----------\n",
    "    Parameters:\n",
    "    aber: in radians\n",
    "    wvln: wavelength in meters\n",
    "    -------\n",
    "    Reutrn:\n",
    "    lin_aber: OPD aberration in meters\n",
    "    \"\"\"\n",
    "    lin_aber = aber * wvln / (2 * np.pi)\n",
    "    return lin_aber"
   ]
  },
  {
   "cell_type": "code",
   "execution_count": null,
   "metadata": {},
   "outputs": [],
   "source": [
    "# Flatten both SMs\n",
    "poppysm.flatten()\n",
    "sm.flatten()\n",
    "wf_at_sm = sm(wf)\n",
    "\n",
    "# Plot HCIPy SM\n",
    "plt.figure(figsize=(6,6))\n",
    "hc.imshow_field(wf_at_sm.phase, mask=aper, cmap='RdBu')\n",
    "plt.title('HCIPy SM OPD')\n",
    "plt.colorbar()"
   ]
  },
  {
   "cell_type": "code",
   "execution_count": null,
   "metadata": {},
   "outputs": [],
   "source": [
    "# Plot Poppy SM\n",
    "plt.figure(figsize=(7,7))\n",
    "poppysm.display(what='opd')"
   ]
  },
  {
   "cell_type": "code",
   "execution_count": null,
   "metadata": {},
   "outputs": [],
   "source": [
    "##########\n",
    "# CASE 1 #\n",
    "##########\n",
    "\n",
    "# Put the aberration as piston on 4 segments on both SMs\n",
    "poppysm.flatten()    # Flattening first in case I run this several times.\n",
    "sm.flatten()\n",
    "\n",
    "print('Phase aberration: {} rad'.format(aber_rad))\n",
    "\n",
    "print('OPD aberration: {} m'.format(phase_to_linear(aber_rad, wvln_hc)))\n",
    "for i in [19, 28, 23, 16]:\n",
    "    # remember that the HCIPy mirror takes input in surface, not OPD, so need to divide by two\n",
    "    sm.set_segment_actuators(POPPY_TO_HCIPY_INDEX[i], phase_to_linear(aber_rad, wvln_hc)/2, 0, 0)\n",
    "    # remember that the poppy method needs an astropy quantity\n",
    "    poppysm.set_actuator(i, phase_to_linear(aber_rad, wvln_pop)*u.m, 0, 0)"
   ]
  },
  {
   "cell_type": "code",
   "execution_count": null,
   "metadata": {},
   "outputs": [],
   "source": [
    "##########\n",
    "# CASE 2 # skip this cell if you can to test case 1\n",
    "##########\n",
    "\n",
    "# Put the aberration as piston on 4 segments on both SMs\n",
    "poppysm.flatten()    # Flattening first in case I run this several times.\n",
    "sm.flatten()\n",
    "\n",
    "print('Phase aberration: {} rad'.format(aber_rad))\n",
    "\n",
    "print('OPD aberration: {} m'.format(phase_to_linear(aber_rad, wvln_hc)))\n",
    "for i in [19, 28, 23, 16, 3, 35, 30, 8]:\n",
    "    # remember that the HCIPy mirror takes input in surface, not OPD, so need to divide by two\n",
    "    sm.set_segment_actuators(POPPY_TO_HCIPY_INDEX[i], phase_to_linear(aber_rad, wvln_hc)/2, 0, 0)\n",
    "    # remember that the poppy method needs an astropy quantity\n",
    "    poppysm.set_actuator(i, phase_to_linear(aber_rad, wvln_pop)*u.m, 0, 0)"
   ]
  },
  {
   "cell_type": "code",
   "execution_count": null,
   "metadata": {},
   "outputs": [],
   "source": [
    "# Plot HCIPy SM\n",
    "wf_at_sm = sm(wf)\n",
    "\n",
    "plt.figure(figsize=(6,6))\n",
    "hc.imshow_field(wf_at_sm.phase, mask=aper, cmap='RdBu')\n",
    "plt.title('Phase')\n",
    "plt.colorbar()"
   ]
  },
  {
   "cell_type": "code",
   "execution_count": null,
   "metadata": {},
   "outputs": [],
   "source": [
    "# Plot Poppy SM\n",
    "plt.figure(figsize=(7,7))\n",
    "poppysm.display(what='opd')"
   ]
  },
  {
   "cell_type": "code",
   "execution_count": null,
   "metadata": {},
   "outputs": [],
   "source": [
    "# Propagte both SMs to image\n",
    "\n",
    "# HCIPy\n",
    "im_hc = prop(sm(wf))\n",
    "\n",
    "# Poppy\n",
    "osys_op = poppy.OpticalSystem()\n",
    "osys_op.add_pupil(poppysm)\n",
    "osys_op.add_detector(pixelscale=pxscle, fov_arcsec=fovarc, oversample=8)\n",
    "\n",
    "psf = osys_op.calc_psf(wvln_pop)\n",
    "im_poppy = psf[0].data\n",
    "\n",
    "# Plot both images\n",
    "plt.figure(figsize=(20, 10))\n",
    "\n",
    "plt.subplot(121)\n",
    "hc.imshow_field(np.log10(im_hc.intensity))\n",
    "plt.title('HCIPy')\n",
    "\n",
    "plt.subplot(122)\n",
    "plt.imshow(np.log10(im_poppy))\n",
    "plt.title('Poppy')"
   ]
  },
  {
   "cell_type": "code",
   "execution_count": null,
   "metadata": {},
   "outputs": [],
   "source": []
  }
 ],
 "metadata": {
  "kernelspec": {
   "display_name": "Python 3",
   "language": "python",
   "name": "python3"
  },
  "language_info": {
   "codemirror_mode": {
    "name": "ipython",
    "version": 3
   },
   "file_extension": ".py",
   "mimetype": "text/x-python",
   "name": "python",
   "nbconvert_exporter": "python",
   "pygments_lexer": "ipython3",
   "version": "3.7.2"
  }
 },
 "nbformat": 4,
 "nbformat_minor": 2
}
