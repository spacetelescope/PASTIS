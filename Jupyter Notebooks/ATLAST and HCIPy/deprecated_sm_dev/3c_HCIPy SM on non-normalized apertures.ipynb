{
 "cells": [
  {
   "cell_type": "markdown",
   "metadata": {},
   "source": [
    "# HCIPy SM on non-normalized apertures\n",
    "\n",
    "In this notebook I am making my segmented mirror class for HCIPy work also for wavelengths other than 1 (m).  \n",
    "NOte: This turned out to be super easy since i just kept forgetting to set a wavelength parameter in `make_focal_grid()`... woops :P\n",
    "\n",
    "I am also extending the aperture generation and `SegmentedMirror()` to work on non-normalized apertures, which takes a bit more effort."
   ]
  },
  {
   "cell_type": "code",
   "execution_count": null,
   "metadata": {},
   "outputs": [],
   "source": [
    "import os\n",
    "import numpy as np\n",
    "import matplotlib.pyplot as plt\n",
    "%matplotlib inline\n",
    "import astropy.units as u\n",
    "from hcipy import *\n",
    "\n",
    "os.chdir('../../pastis/')\n",
    "from config import CONFIG_PASTIS\n",
    "import util as util\n",
    "import atlast_imaging as atim"
   ]
  },
  {
   "cell_type": "markdown",
   "metadata": {},
   "source": [
    "<span style=\"color:red\"> *** Careful: *** </span>\n",
    "\n",
    "**The segmented mirror in this notebook is based specifically on the classes and funcitons in the custom module `atlast_imaging`, which is deprecated. I have switched to using the `SegmentedDeformableMirror` from hcipy, however if you run this notebook as is, it should still work fine. Please see the up-to-date notebooks in the main directories for the current versions.**\n",
    "\n",
    "**You should also be on the PASTIS commit `caf29ad`.**"
   ]
  },
  {
   "cell_type": "code",
   "execution_count": null,
   "metadata": {},
   "outputs": [],
   "source": [
    "import atlast_imaging as atim"
   ]
  },
  {
   "cell_type": "markdown",
   "metadata": {},
   "source": [
    "## Instantiate an HCIPy SM"
   ]
  },
  {
   "cell_type": "code",
   "execution_count": null,
   "metadata": {},
   "outputs": [],
   "source": [
    "# Parameters\n",
    "npix = 1024\n",
    "wvln = 638e-9      # wavelength in meters\n",
    "lamD = 15\n",
    "samp = 4\n",
    "diam = 15.    # telescope diameter in meters: 1 if norm=True, 15 if norm=False\n",
    "norm = False  # whether or not to normalize aperture: True if diam=1, False if not"
   ]
  },
  {
   "cell_type": "code",
   "execution_count": null,
   "metadata": {},
   "outputs": [],
   "source": [
    "# HCIPy grids and propagator\n",
    "pupil_grid = make_pupil_grid(dims=npix, diameter=diam)\n",
    "focal_grid = make_focal_grid(pupil_grid, samp, lamD, wavelength=wvln)\n",
    "prop = FraunhoferPropagator(pupil_grid, focal_grid)"
   ]
  },
  {
   "cell_type": "code",
   "execution_count": null,
   "metadata": {},
   "outputs": [],
   "source": [
    "# Generate an ATLAST pupil\n",
    "aper, seg_pos = atim.get_atlast_aperture(normalized=norm)\n",
    "aper = evaluate_supersampled(aper, pupil_grid, 2)\n",
    "\n",
    "imshow_field(aper)\n",
    "plt.title('Aperture')"
   ]
  },
  {
   "cell_type": "code",
   "execution_count": null,
   "metadata": {},
   "outputs": [],
   "source": [
    "# Instantiate the segmented mirror\n",
    "sm = atim.SegmentedMirror(aper, seg_pos)"
   ]
  },
  {
   "cell_type": "code",
   "execution_count": null,
   "metadata": {},
   "outputs": [],
   "source": [
    "# Make a pupil plane wavefront from aperture\n",
    "wf = Wavefront(aper, wavelength=wvln)\n",
    "imshow_field(wf.intensity)\n",
    "plt.title('Wavefront intensity')"
   ]
  },
  {
   "cell_type": "markdown",
   "metadata": {},
   "source": [
    "## Propagate image\n",
    "\n",
    "Here is where the trouble starts."
   ]
  },
  {
   "cell_type": "code",
   "execution_count": null,
   "metadata": {},
   "outputs": [],
   "source": [
    "im_ref = prop(sm(wf))\n",
    "\n",
    "plt.figure(figsize=(18, 9))\n",
    "plt.suptitle('Image plane after SM')\n",
    "\n",
    "plt.subplot(1, 2, 1)\n",
    "imshow_field(np.log10(im_ref.intensity))\n",
    "plt.title('Intensity')\n",
    "plt.colorbar()\n",
    "\n",
    "plt.subplot(1, 2, 2)\n",
    "imshow_field(im_ref.phase, cmap='RdBu')\n",
    "plt.title('Phase')\n",
    "plt.colorbar()"
   ]
  },
  {
   "cell_type": "markdown",
   "metadata": {
    "collapsed": true
   },
   "source": [
    "## Take a step back and do this without an SM"
   ]
  },
  {
   "cell_type": "code",
   "execution_count": null,
   "metadata": {},
   "outputs": [],
   "source": [
    "# Parameters\n",
    "npix = 1024\n",
    "wvln = 638e-9     # m\n",
    "lamD = 15\n",
    "samp = 4\n",
    "diam = 15.    # m"
   ]
  },
  {
   "cell_type": "code",
   "execution_count": null,
   "metadata": {},
   "outputs": [],
   "source": [
    "# Grids and propagator\n",
    "pgrid = make_pupil_grid(dims=npix, diameter=diam,)\n",
    "fgrid = make_focal_grid(pgrid, samp, lamD, wavelength=wvln)\n",
    "prop_easy = FraunhoferPropagator(pgrid, fgrid)"
   ]
  },
  {
   "cell_type": "code",
   "execution_count": null,
   "metadata": {},
   "outputs": [],
   "source": [
    "# Generate circular pupil\n",
    "circ = circular_aperture(diameter=diam)\n",
    "circ = evaluate_supersampled(circ, pgrid, 2)\n",
    "\n",
    "imshow_field(circ)"
   ]
  },
  {
   "cell_type": "code",
   "execution_count": null,
   "metadata": {},
   "outputs": [],
   "source": [
    "# Propagate to image plane\n",
    "im = prop_easy(Wavefront(circ, wavelength=wvln))\n",
    "\n",
    "imshow_field(np.log10(im.intensity))"
   ]
  },
  {
   "cell_type": "markdown",
   "metadata": {
    "collapsed": true
   },
   "source": [
    "## Aperture generation for normalize=False\n",
    "\n",
    "Need to first make sure that the aperture generation yields a correct NRP vector when I don't normalize the aperture."
   ]
  },
  {
   "cell_type": "code",
   "execution_count": null,
   "metadata": {},
   "outputs": [],
   "source": [
    "# normalized=True\n",
    "aper1, seg_pos1 = atim.get_atlast_aperture(normalized=True, write_to_disk=True, outDir='/Users/ilaginja')\n",
    "print(seg_pos1.points)"
   ]
  },
  {
   "cell_type": "code",
   "execution_count": null,
   "metadata": {},
   "outputs": [],
   "source": [
    "# normalized=False\n",
    "aper2, seg_pos2 = atim.get_atlast_aperture(normalized=False, write_to_disk=True, outDir='/Users/ilaginja')\n",
    "print(seg_pos2.points)"
   ]
  },
  {
   "cell_type": "markdown",
   "metadata": {},
   "source": [
    "The aperture generation works with non-normalized apertures now."
   ]
  },
  {
   "cell_type": "code",
   "execution_count": null,
   "metadata": {},
   "outputs": [],
   "source": []
  }
 ],
 "metadata": {
  "kernelspec": {
   "display_name": "Python 3",
   "language": "python",
   "name": "python3"
  },
  "language_info": {
   "codemirror_mode": {
    "name": "ipython",
    "version": 3
   },
   "file_extension": ".py",
   "mimetype": "text/x-python",
   "name": "python",
   "nbconvert_exporter": "python",
   "pygments_lexer": "ipython3",
   "version": "3.7.8"
  }
 },
 "nbformat": 4,
 "nbformat_minor": 2
}
