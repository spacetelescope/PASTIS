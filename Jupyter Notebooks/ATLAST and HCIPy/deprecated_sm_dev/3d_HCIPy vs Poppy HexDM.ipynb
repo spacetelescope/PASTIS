{
 "cells": [
  {
   "cell_type": "markdown",
   "metadata": {},
   "source": [
    "# HCIPy `SegmentedMirror()` vs. Poppy `HexSegmentedDeformableMirror()`\n",
    "\n",
    "Both have the same functionality, but I need to confirm that hte HCIPy SM has the same results.  \n",
    "\n",
    "Note: an updated version of this notebook exists on the `HCIPy` repository."
   ]
  },
  {
   "cell_type": "code",
   "execution_count": null,
   "metadata": {
    "collapsed": true
   },
   "outputs": [],
   "source": [
    "import os\n",
    "import numpy as np\n",
    "import matplotlib.pyplot as plt\n",
    "%matplotlib inline\n",
    "import astropy.units as u\n",
    "from hcipy import *\n",
    "import poppy\n",
    "\n",
    "os.chdir('../../pastis/')\n",
    "from config import CONFIG_PASTIS\n",
    "import util as util\n",
    "import atlast_imaging as atim"
   ]
  },
  {
   "cell_type": "markdown",
   "metadata": {},
   "source": [
    "<span style=\"color:red\"> *** Careful: *** </span>\n",
    "\n",
    "**The segmented mirror in this notebook is based specifically on the classes and funcitons in the custom module `atlast_imaging`, which is deprecated. I have switched to using the `SegmentedDeformableMirror` from hcipy, however if you run this notebook as is, it should still work fine. Please see the up-to-date notebooks in the main directories for the current versions.**"
   ]
  },
  {
   "cell_type": "code",
   "execution_count": null,
   "metadata": {
    "collapsed": true
   },
   "outputs": [],
   "source": [
    "import atlast_imaging as atim"
   ]
  },
  {
   "cell_type": "code",
   "execution_count": null,
   "metadata": {
    "collapsed": true
   },
   "outputs": [],
   "source": [
    "# Parameters\n",
    "which_tel = CONFIG_PASTIS.get('telescope', 'name')\n",
    "NPIX = CONFIG_PASTIS.getint('numerical', 'tel_size_px')\n",
    "PUP_DIAMETER = CONFIG_PASTIS.getfloat(which_tel, 'diameter')\n",
    "GAPSIZE = CONFIG_PASTIS.getfloat(which_tel, 'gaps')\n",
    "FLATTOFLAT = CONFIG_PASTIS.getfloat(which_tel, 'flat_to_flat')\n",
    "\n",
    "wvln = 638e-9\n",
    "lamD = 20\n",
    "samp = 4\n",
    "norm = False"
   ]
  },
  {
   "cell_type": "markdown",
   "metadata": {},
   "source": [
    "## Instantiate the SMs\n",
    "\n",
    "### HCIPy SM: `hsm`\n",
    "\n",
    "We need to generate a pupil grid for the aperture, and a focal grid and propagator for the focal plane images after the DM."
   ]
  },
  {
   "cell_type": "code",
   "execution_count": null,
   "metadata": {
    "collapsed": true
   },
   "outputs": [],
   "source": [
    "# HCIPy grids and propagator\n",
    "pupil_grid = make_pupil_grid(dims=NPIX, diameter=PUP_DIAMETER)\n",
    "focal_grid = make_focal_grid(pupil_grid, samp, lamD, wavelength=wvln)\n",
    "prop = FraunhoferPropagator(pupil_grid, focal_grid)"
   ]
  },
  {
   "cell_type": "markdown",
   "metadata": {},
   "source": [
    "We generate a segmented aperture for the segmented mirror, this sets the geometry, nuber of segments etc."
   ]
  },
  {
   "cell_type": "code",
   "execution_count": null,
   "metadata": {
    "collapsed": true
   },
   "outputs": [],
   "source": [
    "# Generate an aperture\n",
    "aper, seg_pos = atim.get_atlast_aperture(normalized=norm)\n",
    "aper = evaluate_supersampled(aper, pupil_grid, 1)\n",
    "\n",
    "plt.figure(figsize=(15, 15))\n",
    "imshow_field(aper)\n",
    "plt.title('HCIPy perture')"
   ]
  },
  {
   "cell_type": "markdown",
   "metadata": {},
   "source": [
    "Now we make the segmented mirror. In order to be able to apply the SM to a plane, that plane needs to be a `Wavefront()`, which combines a `Field` - here the aperture - with a wavelength, here `wvln`.\n",
    "\n",
    "In this example here, since the SM doesn't have any extra effects on the pupil since it's completely flat still, we don't actually have to apply the SM, although of course we could. The first time we apply an instance of the SM to a wavefront, this will take a moment because it needs to generate the arrays that it uses to aberrate the segments. These are then saved and not recomputed, unless we change the array size of the wavefront."
   ]
  },
  {
   "cell_type": "code",
   "execution_count": null,
   "metadata": {
    "collapsed": true
   },
   "outputs": [],
   "source": [
    "# Instantiate the segmented mirror\n",
    "hsm = atim.SegmentedMirror(aper, seg_pos)\n",
    "\n",
    "# Make a pupil plane wavefront from aperture\n",
    "wf = Wavefront(aper, wavelength=wvln)\n",
    "\n",
    "# Apply SM if you want to\n",
    "#wf = hsm(wf)\n",
    "\n",
    "imshow_field(wf.intensity)\n",
    "plt.title('Wavefront intensity at HCIPy SM')"
   ]
  },
  {
   "cell_type": "markdown",
   "metadata": {},
   "source": [
    "### Poppy SM: `psm`"
   ]
  },
  {
   "cell_type": "code",
   "execution_count": null,
   "metadata": {
    "collapsed": true
   },
   "outputs": [],
   "source": [
    "psm = poppy.dms.HexSegmentedDeformableMirror(name='Poppy SM',\n",
    "                                             rings=3,\n",
    "                                             flattoflat=FLATTOFLAT*u.m,\n",
    "                                             gap=GAPSIZE*u.m,\n",
    "                                             center=False)"
   ]
  },
  {
   "cell_type": "code",
   "execution_count": null,
   "metadata": {
    "collapsed": true
   },
   "outputs": [],
   "source": [
    "# Display the transmission and phase of the poppy sm\n",
    "plt.figure(figsize=(16, 8))\n",
    "psm.display(what='both')"
   ]
  },
  {
   "cell_type": "markdown",
   "metadata": {},
   "source": [
    "The segment gaps are not very well resolved, but they are there."
   ]
  },
  {
   "cell_type": "markdown",
   "metadata": {},
   "source": [
    "## Create reference images\n",
    "\n",
    "### HCIPy reference image\n",
    "\n",
    "We need to apply the SM to the wavefront in the pupil plane and then propagate it to the image plane."
   ]
  },
  {
   "cell_type": "code",
   "execution_count": null,
   "metadata": {
    "collapsed": true
   },
   "outputs": [],
   "source": [
    "# Apply SM to pupil plane wf\n",
    "wf_sm = hsm(wf)\n",
    "\n",
    "# Propagate from SM to image plane\n",
    "im_ref_hc = prop(wf_sm)"
   ]
  },
  {
   "cell_type": "code",
   "execution_count": null,
   "metadata": {
    "collapsed": true
   },
   "outputs": [],
   "source": [
    "# Display intensity and phase in image plane\n",
    "plt.figure(figsize=(18, 9))\n",
    "plt.suptitle('Image plane after HCIPy SM')\n",
    "\n",
    "# Get normalization factor for HCIPy reference image\n",
    "norm_hc = np.max(im_ref_hc.intensity)\n",
    "\n",
    "plt.subplot(1, 2, 1)\n",
    "imshow_field(np.log10(im_ref_hc.intensity/norm_hc))\n",
    "plt.title('Intensity')\n",
    "plt.colorbar()\n",
    "\n",
    "plt.subplot(1, 2, 2)\n",
    "imshow_field(im_ref_hc.phase, cmap='RdBu')\n",
    "plt.title('Phase')\n",
    "plt.colorbar()\n",
    "\n",
    "print(im_ref_hc.intensity.shaped.shape)"
   ]
  },
  {
   "cell_type": "markdown",
   "metadata": {},
   "source": [
    "### Poppy reference image\n",
    "\n",
    "For the Poppy propagation, we need to make an optical system of which we then calculate the PSF.  \n",
    "\n",
    "I will try to match the image resolution and size of the HCIPy image. I first adjust the `pixelscale` and `fov_arcsec` such that their ratio works and then I add a tweak factor `fac` to scale it to the HCIPy image. I also set `oversample` to something that matches the HCIPy sampling (it's close enough). I keep reusing these numbers and the tweak factor."
   ]
  },
  {
   "cell_type": "code",
   "execution_count": null,
   "metadata": {
    "collapsed": true
   },
   "outputs": [],
   "source": [
    "# Make an optical system with the Poppy SM and a detector\n",
    "psm.flatten()\n",
    "osys = poppy.OpticalSystem()\n",
    "osys.add_pupil(psm)\n",
    "fac = 6.55      # I'm tweaking pixelscale and fov_arcsec to match the HCIPy image\n",
    "pxscle = 0.0031*fac\n",
    "fovarc = 0.05*fac\n",
    "osys.add_detector(pixelscale=pxscle, fov_arcsec=fovarc, oversample=10)"
   ]
  },
  {
   "cell_type": "code",
   "execution_count": null,
   "metadata": {
    "collapsed": true
   },
   "outputs": [],
   "source": [
    "# Calculate the PSF\n",
    "psf = osys.calc_psf(wvln)\n",
    "plt.figure(figsize=(10, 10))\n",
    "poppy.display_psf(psf, vmin=1e-9, vmax=0.1)\n",
    "\n",
    "# Get the PSF as an array\n",
    "im_ref_pop = psf[0].data\n",
    "print(im_ref_pop.shape)\n",
    "\n",
    "# Get normalization from Poppy reference image\n",
    "norm_pop = np.max(im_ref_pop)"
   ]
  },
  {
   "cell_type": "markdown",
   "metadata": {},
   "source": [
    "### Display the two reference images next to each other"
   ]
  },
  {
   "cell_type": "code",
   "execution_count": null,
   "metadata": {
    "collapsed": true
   },
   "outputs": [],
   "source": [
    "plt.figure(figsize=(20,10))\n",
    "\n",
    "plt.subplot(1, 2, 1)\n",
    "imshow_field(np.log10(im_ref_hc.intensity/norm_hc))\n",
    "plt.title('HCIPy reference PSF')\n",
    "plt.colorbar()\n",
    "\n",
    "plt.subplot(1, 2, 2)\n",
    "plt.imshow(np.log10(im_ref_pop/norm_pop))\n",
    "plt.title('Poppy reference PSF')\n",
    "plt.colorbar()"
   ]
  },
  {
   "cell_type": "markdown",
   "metadata": {},
   "source": [
    "I'm afraid that the two images are just not *quite* scaled the same way, they're probably off by a pixel or two, but I'll try to take a difference anyway."
   ]
  },
  {
   "cell_type": "code",
   "execution_count": null,
   "metadata": {
    "collapsed": true
   },
   "outputs": [],
   "source": [
    "ref_dif = im_ref_pop - im_ref_hc.intensity.shaped\n",
    "\n",
    "plt.figure(figsize=(20, 10))\n",
    "plt.subplot(1, 2, 1)\n",
    "plt.imshow(ref_dif)\n",
    "plt.title('Full image')\n",
    "plt.colorbar()\n",
    "plt.subplot(1, 2, 2)\n",
    "plt.imshow(ref_dif[60:100,60:100])\n",
    "plt.title('Zoomed in')\n",
    "plt.colorbar()"
   ]
  },
  {
   "cell_type": "markdown",
   "metadata": {},
   "source": [
    "The difference is actually symmetric, so I think I managed to scale the images the same! And the residual is on the order of 5e-16, I believe that's close enough to zero. But I wouldn't rely to much on this."
   ]
  },
  {
   "cell_type": "markdown",
   "metadata": {},
   "source": [
    "## Piston aberrations on a pair of segments\n",
    "\n",
    "Remember that:  \n",
    "- Poppy takes the OPD in astropy quantities, HCIPy in plain numbers in meters - in surface error as opposed to OPD like in Poppy - that makes a factor of two difference\n",
    "- Poppys phase display is in OPD in meters, HCIPy in radians of phase"
   ]
  },
  {
   "cell_type": "code",
   "execution_count": null,
   "metadata": {
    "collapsed": true
   },
   "outputs": [],
   "source": [
    "# Define function from rad of phase to m OPD\n",
    "def aber_to_opd(aber_rad, wvln):\n",
    "    aber_m = aber_rad * wvln / (2 * np.pi)\n",
    "    return aber_m\n",
    "    \n",
    "aber_rad = 4.5\n",
    "\n",
    "print(aber_to_opd(aber_rad, wvln))"
   ]
  },
  {
   "cell_type": "markdown",
   "metadata": {},
   "source": [
    "### Apply the aberration to two segments\n",
    "\n",
    "Remember that the segment numbering is different in HCIPy and in Poppy, they're off by 60 degrees.\n",
    "\n",
    "Attention: the next cell doesn't acount for the fact yet that the HCIPy takes mirror surface as input as opposed to Poppy that takes OPD. This is done purposefully to demonstrate exactly this difference."
   ]
  },
  {
   "cell_type": "code",
   "execution_count": null,
   "metadata": {
    "collapsed": true
   },
   "outputs": [],
   "source": [
    "# Flatten both SMs just to be sure\n",
    "hsm.flatten()\n",
    "psm.flatten()\n",
    "\n",
    "# HCIPy\n",
    "#for i in [19, 28]:\n",
    "for i in [8, 6]:\n",
    "    hsm.set_segment(i, aber_to_opd(aber_rad, wvln), 0, 0)\n",
    "    \n",
    "# Poppy\n",
    "#for i in [34, 25]:\n",
    "for i in [10, 4]:\n",
    "    psm.set_actuator(i,  aber_to_opd(aber_rad, wvln)*u.m, 0, 0)   # 34 in poppy is 19 in HCIPy"
   ]
  },
  {
   "cell_type": "code",
   "execution_count": null,
   "metadata": {
    "collapsed": true
   },
   "outputs": [],
   "source": [
    "# Display the HCIPy pistoned segments\n",
    "wf_pistoned = hsm(wf)\n",
    "\n",
    "imshow_field(wf_pistoned.phase, mask=aper, cmap='RdBu')\n",
    "plt.title('Phase for HCIPy SM')\n",
    "plt.colorbar()"
   ]
  },
  {
   "cell_type": "code",
   "execution_count": null,
   "metadata": {
    "collapsed": true
   },
   "outputs": [],
   "source": [
    "# Display the Poppy pistoned segments\n",
    "plt.figure(figsize=(10,10))\n",
    "psm.display(what='opd')"
   ]
  },
  {
   "cell_type": "markdown",
   "metadata": {},
   "source": [
    "### Propagate to image plane with pair of pistoned segments"
   ]
  },
  {
   "cell_type": "code",
   "execution_count": null,
   "metadata": {
    "collapsed": true
   },
   "outputs": [],
   "source": [
    "### HCIPy\n",
    "# Apply SM to pupil plane wf\n",
    "wf_fp_pistoned = hsm(wf)\n",
    "\n",
    "# Propagate from SM to image plane\n",
    "im_pistoned_hc = prop(wf_fp_pistoned)\n",
    "\n",
    "### Poppy\n",
    "# Make an optical system with the Poppy SM and a detector\n",
    "osys = poppy.OpticalSystem()\n",
    "osys.add_pupil(psm)\n",
    "pxscle = 0.0031*fac      # I'm tweaking pixelscale and fov_arcsec to match the HCIPy image\n",
    "fovarc = 0.05*fac\n",
    "osys.add_detector(pixelscale=pxscle, fov_arcsec=fovarc, oversample=10)\n",
    "\n",
    "# Calculate the PSF\n",
    "psf = osys.calc_psf(wvln)\n",
    "plt.figure(figsize=(10, 10))\n",
    "\n",
    "# Get the PSF as an array\n",
    "im_pistoned_pop = psf[0].data\n",
    "\n",
    "### Display intensity of both cases image plane\n",
    "plt.figure(figsize=(18, 9))\n",
    "plt.suptitle('Image plane after SM for $\\phi$ = ' + str(aber_rad) + ' rad')\n",
    "\n",
    "plt.subplot(1, 2, 1)\n",
    "imshow_field(np.log10(im_pistoned_hc.intensity/norm_hc))\n",
    "plt.title('HCIPy pistoned pair')\n",
    "plt.colorbar()\n",
    "\n",
    "plt.subplot(1, 2, 2)\n",
    "plt.imshow(np.log10(im_pistoned_pop/norm_pop))\n",
    "plt.title('Poppy pistoned pair')\n",
    "plt.colorbar()"
   ]
  },
  {
   "cell_type": "markdown",
   "metadata": {},
   "source": [
    "### Quantify that:\n",
    "\n",
    "I will now do the same thing like above with the aberrated pair of segmens, but I will do that for many differen aberration values and plot the image degradation - I do that by simply summing the images (integrated energy)."
   ]
  },
  {
   "cell_type": "code",
   "execution_count": null,
   "metadata": {
    "collapsed": true
   },
   "outputs": [],
   "source": [
    "# Aberration range\n",
    "aber_array = np.linspace(0, 2*np.pi, 50, True)\n",
    "print('Aber in rad: \\n{}'.format(aber_array))\n",
    "print('Aber in m: \\n{}'.format(aber_to_opd(aber_array, wvln)))"
   ]
  },
  {
   "cell_type": "code",
   "execution_count": null,
   "metadata": {
    "collapsed": true
   },
   "outputs": [],
   "source": [
    "### Apply pistons\n",
    "hc_ims = []\n",
    "pop_ims = []\n",
    "for aber_rad in aber_array:\n",
    "\n",
    "    # Flatten both SMs\n",
    "    hsm.flatten()\n",
    "    psm.flatten()\n",
    "\n",
    "    # HCIPy\n",
    "    for i in [19, 28]:\n",
    "        hsm.set_segment(i, aber_to_opd(aber_rad, wvln)/2, 0, 0)   # hsm takes it in meters of SURFACE, not OPD\n",
    "\n",
    "    # Poppy\n",
    "    for i in [34, 25]:\n",
    "        psm.set_actuator(i, aber_to_opd(aber_rad, wvln) * u.m, 0, 0)  # 34 in poppy is 19 in HCIPy\n",
    "\n",
    "    ### Propagate to image plane\n",
    "    ### HCIPy\n",
    "    # Apply SM to pupil plane wf\n",
    "    wf_fp_pistoned = hsm(wf)\n",
    "\n",
    "    # Propagate from SM to image plane\n",
    "    im_pistoned_hc = prop(wf_fp_pistoned)\n",
    "\n",
    "    ### Poppy\n",
    "    # Make an optical system with the Poppy SM and a detector\n",
    "    osys = poppy.OpticalSystem()\n",
    "    osys.add_pupil(psm)\n",
    "    pxscle = 0.0031 * fac  # I'm tweaking pixelscale and fov_arcsec to match the HCIPy image\n",
    "    fovarc = 0.05 * fac\n",
    "    osys.add_detector(pixelscale=pxscle, fov_arcsec=fovarc, oversample=10)\n",
    "\n",
    "    # Calculate the PSF\n",
    "    psf = osys.calc_psf(wvln)\n",
    "\n",
    "    # Get the PSF as an array\n",
    "    im_pistoned_pop = psf[0].data\n",
    "\n",
    "    hc_ims.append(im_pistoned_hc.intensity.shaped/np.max(im_pistoned_hc.intensity))\n",
    "    pop_ims.append(im_pistoned_pop/np.max(im_pistoned_pop))\n",
    "    \n",
    "hc_ims = np.array(hc_ims)\n",
    "pop_ims = np.array(pop_ims)"
   ]
  },
  {
   "cell_type": "code",
   "execution_count": null,
   "metadata": {
    "collapsed": true
   },
   "outputs": [],
   "source": [
    "### Quantify with image sums\n",
    "sum_hc = np.sum(hc_ims, axis=(1,2))\n",
    "sum_pop = np.sum(pop_ims, axis=(1,2)) - 6.    # The -6. is just there because I didn't bother about\n",
    "                                                # image normalization too much, I'm being sloppy here.\n",
    "plt.suptitle('Image degradation of SMs')\n",
    "plt.plot(aber_array, sum_hc, label='HCIPy SM')\n",
    "plt.plot(aber_array, sum_pop, label='Poppy SM')\n",
    "plt.xlabel('rad')\n",
    "plt.ylabel('image sum')\n",
    "plt.legend()\n",
    "plt.show()"
   ]
  },
  {
   "cell_type": "markdown",
   "metadata": {},
   "source": [
    "If we were to take out the `/2` from the aberration that goes into HCIPy, the two curves wouldn't overlap."
   ]
  },
  {
   "cell_type": "markdown",
   "metadata": {},
   "source": [
    "## Piston abberations with same amplitude on many segments\n",
    "\n",
    "Here I will do the same as above, applying uniform pistons on segments, but this time on more segments than just two.  \n",
    "\n",
    "Remember:  \n",
    "- the different segment nubering between the two\n",
    "- the factro of two division to get the aberration in surface error for the HCIPy SM\n",
    "- the astropy unit `u*m` for the Poppy SM OPD aberration"
   ]
  },
  {
   "cell_type": "code",
   "execution_count": null,
   "metadata": {
    "collapsed": true
   },
   "outputs": [],
   "source": [
    "aber_rad = 1.7\n",
    "print('Aberration in rad: {}'.format(aber_rad))\n",
    "print('Aberration in m: {}'.format(aber_to_opd(aber_rad, wvln)))"
   ]
  },
  {
   "cell_type": "code",
   "execution_count": null,
   "metadata": {
    "collapsed": true
   },
   "outputs": [],
   "source": [
    "### Put aberrations on both SMs\n",
    "# Flatten both SMs\n",
    "hsm.flatten()\n",
    "psm.flatten()\n",
    "\n",
    "# HCIPy\n",
    "for i in [19, 28, 23, 16, 3, 35, 30, 8, 14, 18, 1, 32, 12]:\n",
    "    hsm.set_segment(i, aber_to_opd(aber_rad, wvln) / 2, 0, 0)   # hsm takes it in meters of SURFACE, not OPD\n",
    "\n",
    "# Poppy\n",
    "for i in [34, 25, 21, 14, 1, 32, 27, 10, 16, 12, 3, 30, 18]:\n",
    "    psm.set_actuator(i, aber_to_opd(aber_rad, wvln) * u.m, 0, 0)  # 34 in poppy is 19 in HCIPy"
   ]
  },
  {
   "cell_type": "code",
   "execution_count": null,
   "metadata": {
    "collapsed": true
   },
   "outputs": [],
   "source": [
    "### Display the two SMs\n",
    "# HCIPy\n",
    "wf_pistoned = hsm(wf)\n",
    "\n",
    "imshow_field(wf_pistoned.phase, mask=aper, cmap='RdBu')\n",
    "plt.title('Phase for HCIPy SM')\n",
    "plt.colorbar()"
   ]
  },
  {
   "cell_type": "code",
   "execution_count": null,
   "metadata": {
    "collapsed": true
   },
   "outputs": [],
   "source": [
    "# Poppy\n",
    "plt.figure(figsize=(10,10))\n",
    "psm.display(what='opd')"
   ]
  },
  {
   "cell_type": "markdown",
   "metadata": {},
   "source": [
    "Seems like our segmented mirrors have the measles."
   ]
  },
  {
   "cell_type": "code",
   "execution_count": null,
   "metadata": {
    "collapsed": true
   },
   "outputs": [],
   "source": [
    "### Propagate to image plane\n",
    "## HCIPy\n",
    "# Apply SM to pupil plane wf\n",
    "wf_fp_pistoned = hsm(wf)\n",
    "\n",
    "# Propagate from SM to image plane\n",
    "im_pistoned_hc = prop(wf_fp_pistoned)\n",
    "\n",
    "## Poppy\n",
    "# Make an optical system with the Poppy SM and a detector\n",
    "osys = poppy.OpticalSystem()\n",
    "osys.add_pupil(psm)\n",
    "pxscle = 0.0031 * fac  # I'm tweaking pixelscale and fov_arcsec to match the HCIPy image\n",
    "fovarc = 0.05 * fac\n",
    "osys.add_detector(pixelscale=pxscle, fov_arcsec=fovarc, oversample=10)\n",
    "\n",
    "# Calculate the PSF\n",
    "psf = osys.calc_psf(wvln)\n",
    "\n",
    "# Get the PSF as an array\n",
    "im_pistoned_pop = psf[0].data"
   ]
  },
  {
   "cell_type": "code",
   "execution_count": null,
   "metadata": {
    "collapsed": true
   },
   "outputs": [],
   "source": [
    "### Display intensity of both cases image plane\n",
    "plt.figure(figsize=(18, 9))\n",
    "plt.suptitle('Image plane after SM for $\\phi$ = ' + str(aber_rad) + ' rad of piston')\n",
    "\n",
    "plt.subplot(1, 2, 1)\n",
    "imshow_field(np.log10(im_pistoned_hc.intensity/norm_hc))\n",
    "plt.title('HCIPy pistoned arangement')\n",
    "plt.colorbar()\n",
    "\n",
    "plt.subplot(1, 2, 2)\n",
    "plt.imshow(np.log10(im_pistoned_pop/norm_pop))\n",
    "plt.title('Poppy pistoned arangement')\n",
    "plt.colorbar()"
   ]
  },
  {
   "cell_type": "markdown",
   "metadata": {},
   "source": [
    "## Tip aberration on random segments\n",
    "\n",
    "This time, we feed the Poppy SM the tip aberration directly in radians - remember to add the astropy unit `u*rad`. Also, this means that we're feeding the aberration into HCIPy in radians straight - no conversion to meters with our little function. But we **do** divide by two to account for surface error vs. OPD.  \n",
    "\n",
    "Also, note that the regime in which we will be able to see the aberration chance will be in the regime of micro- to nanoradians."
   ]
  },
  {
   "cell_type": "code",
   "execution_count": null,
   "metadata": {
    "collapsed": true
   },
   "outputs": [],
   "source": [
    "# Define aberration\n",
    "aber_rad = 200e-9\n",
    "print('Aberration in rad: {}'.format(aber_rad))"
   ]
  },
  {
   "cell_type": "code",
   "execution_count": null,
   "metadata": {
    "collapsed": true
   },
   "outputs": [],
   "source": [
    "### Put aberrations on both SMs\n",
    "# Flatten both SMs\n",
    "hsm.flatten()\n",
    "psm.flatten()\n",
    "\n",
    "# HCIPy\n",
    "for i in [19, 28, 23, 16, 3, 35, 30, 8, 14, 18, 1, 32, 12]:\n",
    "    hsm.set_segment(i, 0, aber_rad/2, 0)   # hsm takes it in meters of SURFACE, not OPD\n",
    "\n",
    "# Poppy\n",
    "for i in [34, 25, 21, 14, 1, 32, 27, 10, 16, 12, 3, 30, 18]:  # 34 in poppy is 19 in HCIPy\n",
    "    psm.set_actuator(i, 0, aber_rad * u.rad, 0)"
   ]
  },
  {
   "cell_type": "code",
   "execution_count": null,
   "metadata": {
    "collapsed": true
   },
   "outputs": [],
   "source": [
    "### Display the two SMs\n",
    "# HCIPy\n",
    "wf_pistoned = hsm(wf)\n",
    "\n",
    "imshow_field(wf_pistoned.phase, mask=aper, cmap='RdBu')\n",
    "plt.title('Phase for HCIPy SM')\n",
    "plt.colorbar()"
   ]
  },
  {
   "cell_type": "code",
   "execution_count": null,
   "metadata": {
    "collapsed": true
   },
   "outputs": [],
   "source": [
    "# Poppy\n",
    "plt.figure(figsize=(10,10))\n",
    "psm.display(what='opd')"
   ]
  },
  {
   "cell_type": "code",
   "execution_count": null,
   "metadata": {
    "collapsed": true
   },
   "outputs": [],
   "source": [
    "### Propagate to image plane\n",
    "## HCIPy\n",
    "# Apply SM to pupil plane wf\n",
    "wf_fp_pistoned = hsm(wf)\n",
    "\n",
    "# Propagate from SM to image plane\n",
    "im_pistoned_hc = prop(wf_fp_pistoned)\n",
    "\n",
    "## Poppy\n",
    "# Make an optical system with the Poppy SM and a detector\n",
    "osys = poppy.OpticalSystem()\n",
    "osys.add_pupil(psm)\n",
    "pxscle = 0.0031 * fac  # I'm tweaking pixelscale and fov_arcsec to match the HCIPy image\n",
    "fovarc = 0.05 * fac\n",
    "osys.add_detector(pixelscale=pxscle, fov_arcsec=fovarc, oversample=10)\n",
    "\n",
    "# Calculate the PSF\n",
    "psf = osys.calc_psf(wvln)\n",
    "\n",
    "# Get the PSF as an array\n",
    "im_pistoned_pop = psf[0].data"
   ]
  },
  {
   "cell_type": "code",
   "execution_count": null,
   "metadata": {
    "collapsed": true
   },
   "outputs": [],
   "source": [
    "### Display intensity of both cases image plane\n",
    "plt.figure(figsize=(18, 9))\n",
    "plt.suptitle('Image plane after SM for $\\phi$ = ' + str(aber_rad) + ' rad of tip')\n",
    "\n",
    "plt.subplot(1, 2, 1)\n",
    "imshow_field(np.log10(im_pistoned_hc.intensity/norm_hc))\n",
    "plt.title('HCIPy tipped arangement')\n",
    "plt.colorbar()\n",
    "\n",
    "plt.subplot(1, 2, 2)\n",
    "plt.imshow(np.log10(im_pistoned_pop/norm_pop))\n",
    "plt.title('Poppy tipped arangement')\n",
    "plt.colorbar()"
   ]
  },
  {
   "cell_type": "markdown",
   "metadata": {},
   "source": [
    "### Quanify that:"
   ]
  },
  {
   "cell_type": "code",
   "execution_count": null,
   "metadata": {
    "collapsed": true
   },
   "outputs": [],
   "source": [
    "# Aberration range\n",
    "aber_array = np.linspace(0, 3000e-9, 50, True)\n",
    "print('Aber in rad: \\n{}'.format(aber_array))"
   ]
  },
  {
   "cell_type": "code",
   "execution_count": null,
   "metadata": {
    "collapsed": true
   },
   "outputs": [],
   "source": [
    "### Apply tips\n",
    "hc_ims = []\n",
    "pop_ims = []\n",
    "for aber_rad in aber_array:\n",
    "\n",
    "    # Flatten both SMs\n",
    "    hsm.flatten()\n",
    "    psm.flatten()\n",
    "\n",
    "    # HCIPy\n",
    "    for i in [19, 28]:\n",
    "        hsm.set_segment(i, 0, aber_rad/2, 0)   # hsm takes it in meters of SURFACE, not OPD\n",
    "\n",
    "    # Poppy\n",
    "    for i in [34, 25]:\n",
    "        psm.set_actuator(i, 0, aber_rad*u.rad, 0)  # 34 in poppy is 19 in HCIPy\n",
    "\n",
    "    ### Propagate to image plane\n",
    "    ### HCIPy\n",
    "    # Apply SM to pupil plane wf\n",
    "    wf_fp_pistoned = hsm(wf)\n",
    "\n",
    "    # Propagate from SM to image plane\n",
    "    im_pistoned_hc = prop(wf_fp_pistoned)\n",
    "\n",
    "    ### Poppy\n",
    "    # Make an optical system with the Poppy SM and a detector\n",
    "    osys = poppy.OpticalSystem()\n",
    "    osys.add_pupil(psm)\n",
    "    pxscle = 0.0031 * fac  # I'm tweaking pixelscale and fov_arcsec to match the HCIPy image\n",
    "    fovarc = 0.05 * fac\n",
    "    osys.add_detector(pixelscale=pxscle, fov_arcsec=fovarc, oversample=10)\n",
    "\n",
    "    # Calculate the PSF\n",
    "    psf = osys.calc_psf(wvln)\n",
    "\n",
    "    # Get the PSF as an array\n",
    "    im_pistoned_pop = psf[0].data\n",
    "\n",
    "    hc_ims.append(im_pistoned_hc.intensity.shaped/np.max(im_pistoned_hc.intensity))\n",
    "    pop_ims.append(im_pistoned_pop/np.max(im_pistoned_pop))\n",
    "\n",
    "hc_ims = np.array(hc_ims)\n",
    "pop_ims = np.array(pop_ims)"
   ]
  },
  {
   "cell_type": "code",
   "execution_count": null,
   "metadata": {
    "collapsed": true
   },
   "outputs": [],
   "source": [
    "### Quantify with image sums\n",
    "sum_hc = np.sum(hc_ims, axis=(1,2))\n",
    "sum_pop = np.sum(pop_ims, axis=(1,2)) - 6.   # -6. again for flaud normalization. I'm being sloppy here.\n",
    "\n",
    "plt.suptitle('Image degradation of SMs')\n",
    "plt.plot(aber_array, sum_hc, label='HCIPy SM')\n",
    "plt.plot(aber_array, sum_pop, label='Poppy SM')\n",
    "plt.xlabel('rad')\n",
    "plt.ylabel('image sum')\n",
    "plt.legend()\n",
    "plt.show()"
   ]
  },
  {
   "cell_type": "markdown",
   "metadata": {},
   "source": [
    "Note how the graphs of the two will overlap if we remember to account for the extra factor fo two because HCIPy works in surface and Poppy in OPD. There's still a slight offset though, not sure why."
   ]
  },
  {
   "cell_type": "markdown",
   "metadata": {},
   "source": [
    "## A mix of piston, tip and tilt (PTT)"
   ]
  },
  {
   "cell_type": "code",
   "execution_count": null,
   "metadata": {
    "collapsed": true
   },
   "outputs": [],
   "source": [
    "aber_rad_tt = 500e-9\n",
    "aber_rad_p = 1.8"
   ]
  },
  {
   "cell_type": "code",
   "execution_count": null,
   "metadata": {
    "collapsed": true
   },
   "outputs": [],
   "source": [
    "### Put aberrations on both SMs\n",
    "# Flatten both SMs\n",
    "hsm.flatten()\n",
    "psm.flatten()\n",
    "\n",
    "## PISTON\n",
    "# HCIPy\n",
    "for i in [19, 28, 23, 16]:\n",
    "    hsm.set_segment(i, aber_to_opd(aber_rad_p, wvln) / 2, 0, 0)   # hsm takes it in meters of SURFACE, not OPD\n",
    "    \n",
    "for i in [3, 35, 30, 8]:\n",
    "    hsm.set_segment(i, aber_to_opd(aber_rad_p, wvln) / 2 /2, 0, 0)   # hsm takes it in meters of SURFACE, not OPD\n",
    "    \n",
    "for i in [14, 18, 1, 32, 12]:\n",
    "    hsm.set_segment(i, aber_to_opd(aber_rad_p, wvln) / 2 /3, 0, 0)   # hsm takes it in meters of SURFACE, not OPD\n",
    "\n",
    "# Poppy\n",
    "for i in [34, 25, 21, 14]:  # 34 in poppy is 19 in HCIPy\n",
    "    psm.set_actuator(i, aber_to_opd(aber_rad_p, wvln) * u.m, 0, 0)\n",
    "    \n",
    "for i in [1, 32, 27, 10]:  # 34 in poppy is 19 in HCIPy\n",
    "    psm.set_actuator(i, aber_to_opd(aber_rad_p, wvln) * u.m /2, 0, 0)\n",
    "    \n",
    "for i in [16, 12, 3, 30, 18]:  # 34 in poppy is 19 in HCIPy\n",
    "    psm.set_actuator(i, aber_to_opd(aber_rad_p, wvln) * u.m /3, 0, 0)\n",
    "    \n",
    "## TIP and TILT\n",
    "# HCIPy\n",
    "for i in [2, 5, 11, 15, 22]:\n",
    "    hsm.set_segment(i, 0, aber_rad_tt / 2 /2, aber_rad_tt / 2 /3)\n",
    "    \n",
    "for i in [4, 6, 36]:\n",
    "    hsm.set_segment(i, 0, aber_rad_tt / 2, 0)\n",
    "    \n",
    "for i in [34, 31, 7]:\n",
    "    hsm.set_segment(i, 0, 0, aber_rad_tt / 2 *1.3)\n",
    "    \n",
    "# Poppy\n",
    "for i in [2, 5, 7, 15, 22]:\n",
    "    psm.set_actuator(i, 0, aber_rad_tt/2, aber_rad_tt/3)\n",
    "    \n",
    "for i in [6, 4, 26]:\n",
    "    psm.set_actuator(i, 0, aber_rad_tt, 0)\n",
    "    \n",
    "for i in [28, 31, 11]:\n",
    "    psm.set_actuator(i, 0, 0, aber_rad_tt*1.3)"
   ]
  },
  {
   "cell_type": "code",
   "execution_count": null,
   "metadata": {
    "collapsed": true
   },
   "outputs": [],
   "source": [
    "### Display the two SMs\n",
    "# HCIPy\n",
    "wf_pistoned = hsm(wf)\n",
    "\n",
    "imshow_field(wf_pistoned.phase, mask=aper, cmap='RdBu')\n",
    "plt.title('Phase for HCIPy SM')\n",
    "plt.colorbar()"
   ]
  },
  {
   "cell_type": "code",
   "execution_count": null,
   "metadata": {
    "collapsed": true
   },
   "outputs": [],
   "source": [
    "# Poppy\n",
    "plt.figure(figsize=(10,10))\n",
    "psm.display(what='opd')"
   ]
  },
  {
   "cell_type": "code",
   "execution_count": null,
   "metadata": {
    "collapsed": true
   },
   "outputs": [],
   "source": [
    "### Propagate to image plane\n",
    "## HCIPy\n",
    "# Apply SM to pupil plane wf\n",
    "wf_fp_pistoned = hsm(wf)\n",
    "\n",
    "# Propagate from SM to image plane\n",
    "im_pistoned_hc = prop(wf_fp_pistoned)\n",
    "\n",
    "## Poppy\n",
    "# Make an optical system with the Poppy SM and a detector\n",
    "osys = poppy.OpticalSystem()\n",
    "osys.add_pupil(psm)\n",
    "pxscle = 0.0031 * fac  # I'm tweaking pixelscale and fov_arcsec to match the HCIPy image\n",
    "fovarc = 0.05 * fac\n",
    "osys.add_detector(pixelscale=pxscle, fov_arcsec=fovarc, oversample=10)\n",
    "\n",
    "# Calculate the PSF\n",
    "psf = osys.calc_psf(wvln)\n",
    "\n",
    "# Get the PSF as an array\n",
    "im_pistoned_pop = psf[0].data"
   ]
  },
  {
   "cell_type": "code",
   "execution_count": null,
   "metadata": {
    "collapsed": true
   },
   "outputs": [],
   "source": [
    "### Display intensity of both cases image plane\n",
    "plt.figure(figsize=(18, 9))\n",
    "plt.suptitle('Image plane after SM forrandom arangement')\n",
    "\n",
    "plt.subplot(1, 2, 1)\n",
    "imshow_field(np.log10(im_pistoned_hc.intensity/norm_hc))\n",
    "plt.title('HCIPy random arangement')\n",
    "plt.colorbar()\n",
    "\n",
    "plt.subplot(1, 2, 2)\n",
    "plt.imshow(np.log10(im_pistoned_pop/norm_pop))\n",
    "plt.title('Poppy tipped arangement')\n",
    "plt.colorbar()"
   ]
  },
  {
   "cell_type": "markdown",
   "metadata": {},
   "source": [
    "This is pretty awesome."
   ]
  },
  {
   "cell_type": "code",
   "execution_count": null,
   "metadata": {
    "collapsed": true
   },
   "outputs": [],
   "source": []
  }
 ],
 "metadata": {
  "kernelspec": {
   "display_name": "Python 3",
   "language": "python",
   "name": "python3"
  },
  "language_info": {
   "codemirror_mode": {
    "name": "ipython",
    "version": 3
   },
   "file_extension": ".py",
   "mimetype": "text/x-python",
   "name": "python",
   "nbconvert_exporter": "python",
   "pygments_lexer": "ipython3",
   "version": "3.6.8"
  }
 },
 "nbformat": 4,
 "nbformat_minor": 2
}
