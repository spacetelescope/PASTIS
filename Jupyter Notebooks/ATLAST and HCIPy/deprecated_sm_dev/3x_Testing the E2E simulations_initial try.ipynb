{
 "cells": [
  {
   "cell_type": "markdown",
   "metadata": {},
   "source": [
    "<h1>Testing the E2E simulations - initial try</h1>\n",
    "\n",
    "This was done before I had developped the `SegmentedTelescopeAPLC` class.\n",
    "\n",
    "## -- ATLAST aperture --"
   ]
  },
  {
   "cell_type": "markdown",
   "metadata": {},
   "source": [
    "This script introduces the end-to-end (E2E) simulations that are used in **`calibration.py`**, for the influence calibration of each individual segment. The testing of the script itself is done in this next notebook.\n",
    "\n",
    "<span style=\"color:red\"> *** Careful: *** </span>\n",
    "\n",
    "**The segmented mirror in this notebook is based specifically on the classes and funcitons in the custom module `atlast_imaging`, which is deprecated. I have switched to using the `SegmentedDeformableMirror` from hcipy, however if you run this notebook as is, it should still work fine. Please see the up-to-date notebooks in the main directories for the current versions.**"
   ]
  },
  {
   "cell_type": "code",
   "execution_count": null,
   "metadata": {
    "collapsed": true
   },
   "outputs": [],
   "source": [
    "import os\n",
    "import numpy as np\n",
    "import matplotlib.pyplot as plt\n",
    "from matplotlib.colors import LogNorm\n",
    "%matplotlib inline\n",
    "from astropy.io import fits\n",
    "import astropy.units as u\n",
    "from hcipy import *\n",
    "\n",
    "os.chdir('../../pastis/')\n",
    "from config import CONFIG_PASTIS\n",
    "import util as util\n",
    "import image_pastis as impastis\n",
    "import atlast_imaging as atim\n",
    "\n",
    "# Path to all the outputs from \"aperture_definition.py\".\n",
    "dir = '/Users/ilaginja/Documents/data_from_repos/pastis_data/active/calibration'\n",
    "# Change into that directory\n",
    "os.chdir(dir)"
   ]
  },
  {
   "cell_type": "code",
   "execution_count": null,
   "metadata": {
    "collapsed": true
   },
   "outputs": [],
   "source": [
    "# Get some parameters\n",
    "which_tel = CONFIG_PASTIS.get('telescope', 'name')\n",
    "im_lamD = 30     # image size in lambda/D\n",
    "nb_seg = CONFIG_PASTIS.getint(which_tel, 'nb_subapertures')\n",
    "zern_max = CONFIG_PASTIS.getint('zernikes', 'max_zern')\n",
    "inner_wa = CONFIG_PASTIS.getint(which_tel, 'IWA')\n",
    "outer_wa = CONFIG_PASTIS.getint(which_tel, 'OWA')\n",
    "sampling = CONFIG_PASTIS.getfloat(which_tel, 'sampling')            # sampling\n",
    "tel_size_px = CONFIG_PASTIS.getint('numerical', 'tel_size_px')\n",
    "tel_size_px = 614  #### THIS NEEDS TO BE THE SAME SIZE LIKE APODIZER ARRAY. I asked Remi for a 1024 x 1024 one.\n",
    "diam = CONFIG_PASTIS.getfloat(which_tel, 'diameter')\n",
    "wvln = CONFIG_PASTIS.getint(which_tel, 'lambda') * u.nm\n",
    "\n",
    "nm_aber = CONFIG_PASTIS.getfloat('calibration', 'single_aberration') * u.nm   # [nm] amplitude of aberration\n",
    "zern_number = CONFIG_PASTIS.getint('calibration', 'zernike')                  # Which (Noll) Zernike we are calibrating for"
   ]
  },
  {
   "cell_type": "code",
   "execution_count": null,
   "metadata": {
    "collapsed": true
   },
   "outputs": [],
   "source": [
    "# Print some of the loaded parameters\n",
    "print('Telescope: {}'.format(which_tel))\n",
    "print('Image size: {} lambda/D'.format(im_lamD))\n",
    "print('Pupil in pixels: {}'.format(tel_size_px))\n",
    "print('Number of segments: {}'.format(nb_seg))\n",
    "print('IWA: {} lambda/D'.format(inner_wa))\n",
    "print('OWA: {} lambda/D'.format(outer_wa))\n",
    "print('Sampling: {}'.format(sampling))\n",
    "print('Diameter: {} m'.format(diam))\n",
    "print('Wavelength: {}'.format(wvln))\n",
    "\n",
    "print('\\nAberration: {}'.format(nm_aber))\n",
    "print('Zernike: {}'.format(zern_number))"
   ]
  },
  {
   "cell_type": "markdown",
   "metadata": {
    "collapsed": true
   },
   "source": [
    "For starters, lets completely independently create some HCIPy images of a direct image (no coronagraph) and a coronagraphic image."
   ]
  },
  {
   "cell_type": "code",
   "execution_count": null,
   "metadata": {
    "collapsed": true
   },
   "outputs": [],
   "source": [
    "# HCIPy grids and propagator\n",
    "pupil_grid = make_pupil_grid(dims=tel_size_px, diameter=diam)\n",
    "focal_grid = make_focal_grid(pupil_grid, sampling, im_lamD, wavelength=wvln.to(u.m).value)\n",
    "prop = FraunhoferPropagator(pupil_grid, focal_grid)"
   ]
  },
  {
   "cell_type": "code",
   "execution_count": null,
   "metadata": {
    "collapsed": true
   },
   "outputs": [],
   "source": [
    "# Generate an aperture\n",
    "aper, seg_pos = atim.get_atlast_aperture(normalized=False)\n",
    "aper = evaluate_supersampled(aper, pupil_grid, 2)\n",
    "\n",
    "plt.figure(figsize=(15, 15))\n",
    "imshow_field(aper)\n",
    "plt.title('ATLAST aperture')"
   ]
  },
  {
   "cell_type": "markdown",
   "metadata": {},
   "source": [
    "The specs for image size will require a general overhaul, but at this point I'm just doing whatever makes this work.\n",
    "\n",
    "Lets also instanciate a segmented mirror that we can control in piston, tip and tilt."
   ]
  },
  {
   "cell_type": "code",
   "execution_count": null,
   "metadata": {
    "collapsed": true
   },
   "outputs": [],
   "source": [
    "# Instantiate the segmented mirror\n",
    "sm = atim.SegmentedMirror(aper, seg_pos)\n",
    "\n",
    "# Make a pupil plane wavefront from aperture\n",
    "wf_pre_sm = Wavefront(aper, wavelength=wvln.to(u.m).value)\n",
    "\n",
    "# Apply SM if you want to\n",
    "wf_post_sm = sm(wf_pre_sm)\n",
    "\n",
    "imshow_field(wf_post_sm.intensity)\n",
    "plt.title('Wavefront intensity at HCIPy SM')"
   ]
  },
  {
   "cell_type": "markdown",
   "metadata": {},
   "source": [
    "Let's make sure the segment controls work."
   ]
  },
  {
   "cell_type": "code",
   "execution_count": null,
   "metadata": {
    "collapsed": true
   },
   "outputs": [],
   "source": [
    "sm.flatten()\n",
    "for i in [19, 28, 4, 36]:\n",
    "    sm.set_segment(i, 1e-8, 0, 0)   # PTT in meters and radians\n",
    "    \n",
    "# Make throw-away wavefront that we will display here just to make sure the SM works.\n",
    "wf_throw = sm(wf_pre_sm)\n",
    "\n",
    "imshow_field(wf_throw.phase, mask=aper, cmap='RdBu')\n",
    "plt.title('Checking the SM')\n",
    "plt.colorbar()"
   ]
  },
  {
   "cell_type": "code",
   "execution_count": null,
   "metadata": {
    "collapsed": true
   },
   "outputs": [],
   "source": [
    "# Reset the SM\n",
    "sm.flatten()"
   ]
  },
  {
   "cell_type": "markdown",
   "metadata": {},
   "source": [
    "## NO CORONAGRAPH\n",
    "\n",
    "### Generating a direct PSF without aberrations"
   ]
  },
  {
   "cell_type": "code",
   "execution_count": null,
   "metadata": {
    "collapsed": true
   },
   "outputs": [],
   "source": [
    "# Propagate from (flat) SM to image plane\n",
    "im_ref = prop(wf_post_sm)\n",
    "\n",
    "# Display\n",
    "imshow_field(np.log10(im_ref.intensity/np.max(im_ref.intensity)))\n",
    "plt.title('Intensity of flat SM')\n",
    "plt.colorbar()"
   ]
  },
  {
   "cell_type": "markdown",
   "metadata": {},
   "source": [
    "We want to have normalized images, normalized to the non-coronagraphic, non-aberrated (meaning no segment is actively moved) PSF that is displayed above. **normp** will be our normalization factor."
   ]
  },
  {
   "cell_type": "code",
   "execution_count": null,
   "metadata": {
    "collapsed": true
   },
   "outputs": [],
   "source": [
    "normp = np.max(im_ref.intensity)"
   ]
  },
  {
   "cell_type": "markdown",
   "metadata": {},
   "source": [
    "### A single aberrated segment\n",
    "\n",
    "To compare to the analytical images step by step, I will first create images with only one segment aberrated."
   ]
  },
  {
   "cell_type": "code",
   "execution_count": null,
   "metadata": {
    "collapsed": true
   },
   "outputs": [],
   "source": [
    "segnum = 5     # Which segment are we aberrating - numbered like in the HCIPy aperture\n",
    "\n",
    "nm_aber = 100 * u.nm\n",
    "\n",
    "print('Aberrated segment:', segnum)"
   ]
  },
  {
   "cell_type": "markdown",
   "metadata": {},
   "source": [
    "Our input aberration is in nanometers of OPD, while HCIPy needs it in meters of surface error. This means that I have to divide the input aberration by 2 before applying it to the segmented mirror `sm`."
   ]
  },
  {
   "cell_type": "code",
   "execution_count": null,
   "metadata": {
    "collapsed": true
   },
   "outputs": [],
   "source": [
    "# Crate OPD with aberrated segment, NO CORONAGRAPH\n",
    "print('Applying aberration to OTE.')\n",
    "print('nm_aber: {}'.format(nm_aber))\n",
    "sm.flatten()   # Making sure there are no previous movements on the segments.\n",
    "sm.set_segment(segnum, nm_aber.to(u.m).value/2, 0, 0)"
   ]
  },
  {
   "cell_type": "code",
   "execution_count": null,
   "metadata": {
    "collapsed": true
   },
   "outputs": [],
   "source": [
    "# Display the HCIPy pistoned segments\n",
    "wf_pistoned = sm(wf_pre_sm)\n",
    "\n",
    "imshow_field(wf_pistoned.phase, mask=aper, cmap='RdBu')\n",
    "plt.title('Phase for single aberrated segment')\n",
    "plt.colorbar()"
   ]
  },
  {
   "cell_type": "code",
   "execution_count": null,
   "metadata": {
    "collapsed": true
   },
   "outputs": [],
   "source": [
    "# Propagate from SM to image plane\n",
    "im_pistoned = prop(wf_pistoned)\n",
    "\n",
    "# Display\n",
    "imshow_field(np.log10(im_pistoned.intensity/normp))\n",
    "plt.title('Image for single pistoned segment')\n",
    "plt.colorbar()"
   ]
  },
  {
   "cell_type": "markdown",
   "metadata": {},
   "source": [
    "Compare this image with one single aberrated segment vs. the non-aberrated PSF:"
   ]
  },
  {
   "cell_type": "code",
   "execution_count": null,
   "metadata": {
    "collapsed": true
   },
   "outputs": [],
   "source": [
    "# Subtract the perfect direct PSF off the single-segment aberrated PSF\n",
    "one_aber_residual = im_ref.intensity - im_pistoned.intensity\n",
    "\n",
    "plt.figure(figsize=(20, 10))\n",
    "plt.subplot(1, 3, 1)\n",
    "imshow_field(np.log10(im_ref.intensity/normp))\n",
    "plt.title('Direct PSF, perfect')\n",
    "plt.colorbar()\n",
    "\n",
    "plt.subplot(1, 3, 2)\n",
    "imshow_field(np.log10(im_pistoned.intensity/normp))\n",
    "plt.title('Direct PSF one aberrated segment')\n",
    "plt.colorbar()\n",
    "\n",
    "plt.subplot(1, 3, 3)\n",
    "imshow_field(np.log10(one_aber_residual))\n",
    "plt.title('Residual')\n",
    "plt.colorbar()\n",
    "plt.show()"
   ]
  },
  {
   "cell_type": "markdown",
   "metadata": {},
   "source": [
    "While not much seems to change for an aberration of 1 nm, we can see in the residual image that there is indeed a difference between the aberrated and non-aberrated PSF. When we give it an aberration of 0 nm, residual image is completely blank. When we use an aberration of 100 nm, the difference becomes very obvious."
   ]
  },
  {
   "cell_type": "markdown",
   "metadata": {},
   "source": [
    "### Pair-wise aberrated segments"
   ]
  },
  {
   "cell_type": "code",
   "execution_count": null,
   "metadata": {
    "collapsed": true
   },
   "outputs": [],
   "source": [
    "# Decide which two segments you want to aberrate\n",
    "segnum1 = 22     # Which segments are we aberrating - numbering after HCIPy's aperture numbering\n",
    "segnum2 = 15\n",
    "seg_array = np.array([segnum1, segnum2])\n",
    "\n",
    "zern_pair = 1  # Which Noll Zernike are we putting on the segments.\n",
    "nm_aber = 200 * u.nm\n",
    "\n",
    "print('Aberration: {}'.format(nm_aber))\n",
    "print('Aberrated segments:', seg_array)\n",
    "print('Noll Zernike used:', zern_pair)"
   ]
  },
  {
   "cell_type": "code",
   "execution_count": null,
   "metadata": {
    "collapsed": true
   },
   "outputs": [],
   "source": [
    "# Apply aberration to all segments\n",
    "sm.flatten()   # Making sure there are no previous movements on the segments.\n",
    "for nseg in seg_array:\n",
    "    # Put Zernike on correct segments on OTE\n",
    "    sm.set_segment(nseg, nm_aber.to(u.m).value/2, 0, 0)\n",
    "\n",
    "# Display the OTE\n",
    "wf_pairs = sm(wf_pre_sm)\n",
    "\n",
    "imshow_field(wf_pairs.phase, mask=aper, cmap='RdBu')\n",
    "plt.title('Phase for pair of aberrated segments')\n",
    "plt.colorbar()"
   ]
  },
  {
   "cell_type": "code",
   "execution_count": null,
   "metadata": {
    "collapsed": true
   },
   "outputs": [],
   "source": [
    "# Display the propagated image\n",
    "im_pairs = prop(wf_pairs)\n",
    "\n",
    "imshow_field(np.log10(im_pairs.intensity/normp))\n",
    "plt.title('Direct PSF of a pair-wise aberrated segmented OTE')\n",
    "plt.colorbar()\n",
    "\n",
    "print(im_pairs.intensity.shaped.shape)"
   ]
  },
  {
   "cell_type": "code",
   "execution_count": null,
   "metadata": {
    "collapsed": true
   },
   "outputs": [],
   "source": [
    "im = util.zoom_cen(im_pairs.intensity.shaped, 40)\n",
    "plt.imshow(np.log10(im))"
   ]
  },
  {
   "cell_type": "markdown",
   "metadata": {},
   "source": [
    "Hmmm these images do show fringes, but they look different from the ones in the analytical images. Instead of a prominent display of dark fringes, it's very brings fringes that start showing up. The Poppy HexDM images show the same behavior, so it's not about the simulator, but I wonder why this is the case.\n",
    "\n",
    "I created some images from specific pairs in the analytical model too and then saved them:"
   ]
  },
  {
   "cell_type": "code",
   "execution_count": null,
   "metadata": {
    "collapsed": true
   },
   "outputs": [],
   "source": [
    "# PISTON - Noll 1\n",
    "#segs_1_2_noll_1_dir = np.copy(im_pairs.intensity.shaped)\n",
    "#segs_1_10_noll_1_dir = np.copy(im_pairs.intensity.shaped)\n",
    "#segs_1_24_noll_1_dir = np.copy(im_pairs.intensity.shaped)\n",
    "#segs_1_7_noll_1_dir = np.copy(im_pairs.intensity.shaped)\n",
    "#segs_1_19_noll_1_dir = np.copy(im_pairs.intensity.shaped)\n",
    "#segs_19_28_noll_1_dir = np.copy(im_pairs.intensity.shaped)"
   ]
  },
  {
   "cell_type": "code",
   "execution_count": null,
   "metadata": {
    "collapsed": true
   },
   "outputs": [],
   "source": [
    "save_dir1 = '/astro/opticslab1/PASTIS/atlast_data/E2E_pair_aberrations/2019-5-6-16h-00min_piston_300nm'\n",
    "# util.write_fits(segs_1_2_noll_1_dir, os.path.join(save_dir1, 'segs_1_2_noll_1_dir.fits'))\n",
    "# util.write_fits(segs_1_10_noll_1_dir, os.path.join(save_dir1, 'segs_1_10_noll_1_dir.fits'))\n",
    "# util.write_fits(segs_1_24_noll_1_dir, os.path.join(save_dir1, 'segs_1_24_noll_1_dir.fits'))\n",
    "# util.write_fits(segs_1_7_noll_1_dir, os.path.join(save_dir1, 'segs_1_7_noll_1_dir.fits'))\n",
    "# util.write_fits(segs_1_19_noll_1_dir, os.path.join(save_dir1, 'segs_1_19_noll_1_dir.fits'))\n",
    "# util.write_fits(segs_19_28_noll_1_dir, os.path.join(save_dir1, 'segs_19_28_noll_1_dir.fits'))"
   ]
  },
  {
   "cell_type": "markdown",
   "metadata": {},
   "source": [
    "In general, I will have to load these images from central store:\n",
    "- '/astro/opticslab1/PASTIS/jwst_data/E2E_pair_aberrations/2019-1-18-17h-5min_piston_1000nm_pairs' will have images generated with aberrations of 1000 nm per segment which is too much compared to JWST's wavelength and the sort of aberrations that are expected in-flight\n",
    "- '/astro/opticslab1/PASTIS/jwst_data/E2E_pair_aberrations/2019-1-25-16h-18min_piston_100nm' has images generated with aberrations of 100 nm per segment, but this aberration is not high enough to make us see the fringes\n"
   ]
  },
  {
   "cell_type": "code",
   "execution_count": null,
   "metadata": {
    "collapsed": true
   },
   "outputs": [],
   "source": [
    "read_dir1 = '/astro/opticslab1/PASTIS/atlast_data/E2E_pair_aberrations/2019-5-6-16h-00min_piston_300nm'\n",
    "segs_1_2_noll_1_dir = fits.getdata(os.path.join(read_dir1, 'segs_1_2_noll_1_dir.fits'))\n",
    "segs_1_10_noll_1_dir = fits.getdata(os.path.join(read_dir1, 'segs_1_10_noll_1_dir.fits'))\n",
    "segs_1_24_noll_1_dir = fits.getdata(os.path.join(read_dir1, 'segs_1_24_noll_1_dir.fits'))\n",
    "segs_1_7_noll_1_dir = fits.getdata(os.path.join(read_dir1, 'segs_1_7_noll_1_dir.fits'))\n",
    "segs_1_19_noll_1_dir = fits.getdata(os.path.join(read_dir1, 'segs_1_19_noll_1_dir.fits'))\n",
    "segs_19_28_noll_1_dir = fits.getdata(os.path.join(read_dir1, 'segs_19_28_noll_1_dir.fits'))"
   ]
  },
  {
   "cell_type": "markdown",
   "metadata": {},
   "source": [
    "Let's have a look at some of the images (refer to numbered pupil to identify baslines these correspond to)."
   ]
  },
  {
   "cell_type": "code",
   "execution_count": null,
   "metadata": {
    "collapsed": true
   },
   "outputs": [],
   "source": [
    "print('Loaded images shape:', segs_1_2_noll_1_dir.shape)\n",
    "\n",
    "plt.figure(figsize=(18, 12))\n",
    "plt.suptitle('Pair-wise aberrations on direct (no coro) HCIPy images')\n",
    "plt.subplot(2, 3, 1)\n",
    "plt.imshow(np.log10(segs_1_2_noll_1_dir), norm=LogNorm())\n",
    "plt.title('Piston on segments 1 and 2')\n",
    "\n",
    "plt.subplot(2, 3, 2)\n",
    "plt.imshow(np.log10(segs_1_10_noll_1_dir), norm=LogNorm())\n",
    "plt.title('Piston on segments 1 and 10')\n",
    "\n",
    "plt.subplot(2, 3, 3)\n",
    "plt.imshow(np.log10(segs_1_24_noll_1_dir), norm=LogNorm())\n",
    "plt.title('Piston on segments 1 and 24')\n",
    "\n",
    "plt.subplot(2, 3, 4)\n",
    "plt.imshow(np.log10(segs_1_7_noll_1_dir), norm=LogNorm())\n",
    "plt.title('Piston on segments 1 and 7')\n",
    "\n",
    "plt.subplot(2, 3, 5)\n",
    "plt.imshow(np.log10(segs_1_19_noll_1_dir), norm=LogNorm())\n",
    "plt.title('Piston on segments 1 and 19')\n",
    "\n",
    "plt.subplot(2, 3, 6)\n",
    "plt.imshow(np.log10(segs_19_28_noll_1_dir), norm=LogNorm())\n",
    "plt.title('Piston on segments 19 and 28')\n",
    "\n",
    "plt.show()"
   ]
  },
  {
   "cell_type": "markdown",
   "metadata": {},
   "source": [
    "I made sure to make images from the same aberrated pairs like in the analytical notebook (notebook 2), so we can compare them here now."
   ]
  },
  {
   "cell_type": "code",
   "execution_count": null,
   "metadata": {
    "collapsed": true
   },
   "outputs": [],
   "source": [
    "# Load the analytical images\n",
    "read_dir_ana = '/astro/opticslab1/PASTIS/atlast_data/uncalibrated_analytical_images/2019-05-06-11h-30min_1nm_piston'\n",
    "segs_1_2_noll_1_ana = fits.getdata(os.path.join(read_dir_ana, 'segs_1_2_noll_1.fits'))\n",
    "segs_1_10_noll_1_ana = fits.getdata(os.path.join(read_dir_ana, 'segs_1_10_noll_1.fits'))\n",
    "segs_1_24_noll_1_ana = fits.getdata(os.path.join(read_dir_ana, 'segs_1_24_noll_1.fits'))\n",
    "segs_1_7_noll_1_ana = fits.getdata(os.path.join(read_dir_ana, 'segs_1_7_noll_1.fits'))\n",
    "segs_1_19_noll_1_ana = fits.getdata(os.path.join(read_dir_ana, 'segs_1_19_noll_1.fits'))\n",
    "segs_19_28_noll_1_ana = fits.getdata(os.path.join(read_dir_ana, 'segs_19_28_noll_1.fits'))"
   ]
  },
  {
   "cell_type": "markdown",
   "metadata": {},
   "source": [
    "Compare pairs **3-11**, **6-11** and **11-17** between E2E and analytical:"
   ]
  },
  {
   "cell_type": "code",
   "execution_count": null,
   "metadata": {
    "collapsed": true
   },
   "outputs": [],
   "source": [
    "plt.figure(figsize=(18, 12))\n",
    "plt.suptitle('Comparison of E2E and analtical DIRECT images')\n",
    "\n",
    "plt.subplot(2, 3, 1)\n",
    "plt.imshow(np.log10(segs_1_2_noll_1_dir), norm=LogNorm())\n",
    "plt.title('Piston on segments 1 and 2 - E2E')\n",
    "\n",
    "plt.subplot(2, 3, 2)\n",
    "plt.imshow(np.log10(segs_1_10_noll_1_dir), norm=LogNorm())\n",
    "plt.title('Piston on segments 1 and 10 - E2E')\n",
    "\n",
    "plt.subplot(2, 3, 3)\n",
    "plt.imshow(np.log10(segs_1_24_noll_1_dir), norm=LogNorm())\n",
    "plt.title('Piston on segments 1 and 24 - E2E')\n",
    "\n",
    "plt.subplot(2, 3, 4)\n",
    "plt.imshow(np.log10(segs_1_2_noll_1_ana), norm=LogNorm())\n",
    "plt.title('Piston on segments 1 and 2 - analytical')\n",
    "\n",
    "plt.subplot(2, 3, 5)\n",
    "plt.imshow(np.log10(segs_1_10_noll_1_ana), norm=LogNorm())\n",
    "plt.title('Piston on segments 1 and 10 - analytical')\n",
    "\n",
    "plt.subplot(2, 3, 6)\n",
    "plt.imshow(np.log10(segs_1_24_noll_1_ana), norm=LogNorm())\n",
    "plt.title('Piston on segments 1 and 24 - analytical')"
   ]
  },
  {
   "cell_type": "markdown",
   "metadata": {},
   "source": [
    "Something is not quite right. Here are two more pairs."
   ]
  },
  {
   "cell_type": "code",
   "execution_count": null,
   "metadata": {
    "collapsed": true
   },
   "outputs": [],
   "source": [
    "plt.figure(figsize=(15, 15))\n",
    "plt.suptitle('Comparison of E2E and analtical DIRECT images')\n",
    "\n",
    "plt.subplot(2, 2, 1)\n",
    "plt.imshow(np.log10(segs_1_7_noll_1_dir), norm=LogNorm())\n",
    "plt.title('Piston on segments 1 and 7 - E2E')\n",
    "\n",
    "plt.subplot(2, 2, 2)\n",
    "plt.imshow(np.log10(segs_1_19_noll_1_dir), norm=LogNorm())\n",
    "plt.title('Piston on segments 1 and 19 - E2E')\n",
    "\n",
    "plt.subplot(2, 2, 3)\n",
    "plt.imshow(np.log10(segs_1_7_noll_1_ana), norm=LogNorm())\n",
    "plt.title('Piston on segments 1 and 7 - analytical')\n",
    "\n",
    "plt.subplot(2, 2, 4)\n",
    "plt.imshow(np.log10(segs_1_19_noll_1_ana), norm=LogNorm())\n",
    "plt.title('Piston on segments 1 and 19 - analytical')"
   ]
  },
  {
   "cell_type": "markdown",
   "metadata": {},
   "source": [
    "## WITH CORONAGRAPH\n",
    "\n",
    "### Generating a coronagraphic PSF without aberrations\n",
    "\n",
    "#### Perfect coronagraph\n",
    "\n",
    "To use a **perfect coronagraph** in HCIPy, we generate a new propagator instead of the normal Fraunhofer propagator, and it will be defined on an aperture."
   ]
  },
  {
   "cell_type": "code",
   "execution_count": null,
   "metadata": {
    "collapsed": true
   },
   "outputs": [],
   "source": [
    "# Create coronagraph propagator on aperture\n",
    "coro_prop = PerfectCoronagraph(aper)"
   ]
  },
  {
   "cell_type": "markdown",
   "metadata": {},
   "source": [
    "We can then propagate the E-field from the pupil plane on the SM to the Lyot plane."
   ]
  },
  {
   "cell_type": "code",
   "execution_count": null,
   "metadata": {
    "collapsed": true
   },
   "outputs": [],
   "source": [
    "# Propagate from the wavefront at the SM to Lyot plane\n",
    "lyot_plane = coro_prop(wf_post_sm)\n",
    "\n",
    "# Display the Lyot plane\n",
    "imshow_field(np.log10(lyot_plane.intensity))\n",
    "plt.colorbar()"
   ]
  },
  {
   "cell_type": "markdown",
   "metadata": {},
   "source": [
    "We can see that there is essentially no light anywhere, since we're using a perfect coronagraph.\n",
    "\n",
    "Lets still apply a Lyot stop just to see how to do that and then propagate with the Fraunhofer propagator to the final image plane. Now, currently I can only add an annular Lyot stop, but I will have to figure out a way of applying a real Lyot stop.\n",
    "\n",
    "The `Apodizer()` acts as a mask, and is basically there to have something (a functioning Python object within the HCIPy framework) to propagate a Wavefront through. It can simulate any transmissive or reflective mask, such as a pupil mask, a Lyot stop, a printed and optimized apodizer as the ones you have in the APLC, etc."
   ]
  },
  {
   "cell_type": "code",
   "execution_count": null,
   "metadata": {
    "collapsed": true
   },
   "outputs": [],
   "source": [
    "# Create the Lypt stop\n",
    "lyot_x = circular_aperture(0.99*diam)(pupil_grid)\n",
    "lyot_stop = Apodizer(lyot_x)\n",
    "\n",
    "# Display the Lyot stop\n",
    "imshow_field(lyot_x)"
   ]
  },
  {
   "cell_type": "code",
   "execution_count": null,
   "metadata": {
    "collapsed": true
   },
   "outputs": [],
   "source": [
    "#Show the overlap of the Lyot stop and the aperture\n",
    "imshow_field(lyot_x + aper)\n",
    "plt.title('Aperture and Lyot stop overlap')"
   ]
  },
  {
   "cell_type": "code",
   "execution_count": null,
   "metadata": {
    "collapsed": true
   },
   "outputs": [],
   "source": [
    "# Apply the Lyot stop to the Lyot plane and propagate to the image plane\n",
    "im_coro_perf = prop(lyot_stop(lyot_plane))\n",
    "\n",
    "# Display the coro image\n",
    "imshow_field(np.log10(im_coro_perf.intensity / normp), vmin=1e-12)\n",
    "plt.title(\"Perfect coronagraph, no aberrations\")\n",
    "plt.colorbar()"
   ]
  },
  {
   "cell_type": "markdown",
   "metadata": {},
   "source": [
    "And there is virtually no light in the image since a perfect coronagraphs cancels it out completely by definition.\n",
    "\n",
    "Note how I needed to set a scale min/max of $10^{-12}$ to get an empty image. If I let it autoscale, it weill rescale on a light leel of lower than $10^{-30}$ - and show a full PSF. This is fine, because this still means that there is basically no light in the image."
   ]
  },
  {
   "cell_type": "markdown",
   "metadata": {},
   "source": [
    "#### Lyot coronagraph\n",
    "\n",
    "Lets try to look at something more realistic and use a Lyot coronagraph.\n",
    "\n",
    "We will again have to define a new propagator, this time for the Lyot coronagraph, but first we need to generate a focal plane mask (FPM). The radius of the FPM is given in $radians$ (because everything in HCIPy is in SI units). If we had a system of $\\lambda=1$ and $D=1$, then $1 \\lambda/D = 1 rad$. Since this is not the case here though, and we only know our FPM radius in terms of $\\lambda/D$, we need to figure out what angle that is in the focal plane.\n",
    "\n",
    "If $\\lambda = 638 \\times 10^{-9}$ and $D=15m$, then $\\lambda/D = \\frac{638 \\times 10^{-9}}{15} = 4.25 \\times 10^{-8} rad$."
   ]
  },
  {
   "cell_type": "code",
   "execution_count": null,
   "metadata": {
    "collapsed": true
   },
   "outputs": [],
   "source": [
    "lam_over_d = wvln.to(u.m).value / diam  # rad\n",
    "print('lambda/D = {}'.format(lam_over_d))\n",
    "\n",
    "# Create FPM on a focal grid, with radius in lambda/D, converted to radians\n",
    "fpm = 1 - circular_aperture(8*lam_over_d)(focal_grid)   # circular_aperture takes diameter\n",
    "print(fpm.shaped.shape)\n",
    "\n",
    "# Display the FPM\n",
    "imshow_field(fpm)\n",
    "plt.title('Focal plane mask')"
   ]
  },
  {
   "cell_type": "markdown",
   "metadata": {},
   "source": [
    "A neat way of making sure the FPM is really around the size we want it to be is to put it in the focal plane reference image of the aperture we're working with."
   ]
  },
  {
   "cell_type": "code",
   "execution_count": null,
   "metadata": {
    "collapsed": true
   },
   "outputs": [],
   "source": [
    "imshow_field(fpm * im_ref.intensity/normp, norm=LogNorm())"
   ]
  },
  {
   "cell_type": "markdown",
   "metadata": {},
   "source": [
    "Now we can generate a Lyot coronagraph propagator with the pupil grod of the aperture and the FPM as inputs."
   ]
  },
  {
   "cell_type": "code",
   "execution_count": null,
   "metadata": {
    "collapsed": true
   },
   "outputs": [],
   "source": [
    "# Create Lyot coronagraph on pupil grid with FPM\n",
    "coro_lyot = LyotCoronagraph(pupil_grid, fpm)"
   ]
  },
  {
   "cell_type": "markdown",
   "metadata": {},
   "source": [
    "And now we can propagate the wavefront at the SM through the coronagraph to the image plane."
   ]
  },
  {
   "cell_type": "code",
   "execution_count": null,
   "metadata": {
    "collapsed": true
   },
   "outputs": [],
   "source": [
    "# Propagate from the wavefront at the SM to Lyot plane\n",
    "lyot_plane = coro_lyot(wf_post_sm)\n",
    "\n",
    "# Display the Lyot plane\n",
    "imshow_field(np.log10(lyot_plane.intensity))\n",
    "plt.colorbar()"
   ]
  },
  {
   "cell_type": "markdown",
   "metadata": {},
   "source": [
    "Now this looks a lot more realistic and it also becomes evident why we need a proper Lyot stop. While I might need some fancier solutions in the future, I can make a Lyot stop with a central obscuration for now, almost HiCAT-like."
   ]
  },
  {
   "cell_type": "code",
   "execution_count": null,
   "metadata": {
    "collapsed": true
   },
   "outputs": [],
   "source": [
    "aperture = circular_aperture(0.9 * diam)\n",
    "obscuration = circular_aperture(0.2 * diam)\n",
    "res = aperture(pupil_grid) - obscuration(pupil_grid)\n",
    "ls = Field(res, pupil_grid)\n",
    "\n",
    "imshow_field(ls)\n",
    "plt.title('Lyot stop')"
   ]
  },
  {
   "cell_type": "code",
   "execution_count": null,
   "metadata": {
    "collapsed": true
   },
   "outputs": [],
   "source": [
    "# Display the Lyot stop in the Lyot plane\n",
    "imshow_field(res * lyot_plane.intensity/normp, norm=LogNorm())"
   ]
  },
  {
   "cell_type": "code",
   "execution_count": null,
   "metadata": {
    "collapsed": true
   },
   "outputs": [],
   "source": [
    "# Propagate to final image\n",
    "lyot_stop = Apodizer(aperture(pupil_grid) - obscuration(pupil_grid))\n",
    "\n",
    "# Apply the Lyot stop to the Lyot plane and propagate to the image plane\n",
    "im_coro_lyot = prop(lyot_stop(lyot_plane))\n",
    "\n",
    "# Display the coro image\n",
    "imshow_field(np.log10(im_coro_lyot.intensity / normp))\n",
    "plt.title(\"Lyot coronagraph, no aberrations\")\n",
    "plt.colorbar()"
   ]
  },
  {
   "cell_type": "markdown",
   "metadata": {},
   "source": [
    "Let's compare this to the reference image."
   ]
  },
  {
   "cell_type": "code",
   "execution_count": null,
   "metadata": {
    "collapsed": true
   },
   "outputs": [],
   "source": [
    "imshow_field(im_ref.intensity/normp, norm=LogNorm())\n",
    "plt.title('No coro, no aberration')\n",
    "plt.colorbar()"
   ]
  },
  {
   "cell_type": "markdown",
   "metadata": {
    "collapsed": true
   },
   "source": [
    "Is the Lyot coronagraph any better than the reference image? I couldn't tell. Let's try plugging in the APLC apodizer as well.\n",
    "\n",
    "#### Apodized Lyot coronagraph (APLC)\n",
    "\n",
    "For this one, we set up exactly the same Lyot coronagraph as above, but we also need to add the Apodizer, which we can really use as our telescope aperture. To do that,  if you read it in from a fits file, you indeed need to put it on a grid - basically create a grid, and do  \n",
    "```py\n",
    "apod = Field(read_fits('apodizer.fits').ravel(), grid)\n",
    "```\n",
    "\n",
    "Then turn it into an apodizer (`apodizer = Apodizer(apod)`)."
   ]
  },
  {
   "cell_type": "code",
   "execution_count": null,
   "metadata": {
    "collapsed": true
   },
   "outputs": [],
   "source": [
    "apod_fname = '/Users/ilaginja/Documents/Git/LUVOIR-modeling/analytical/input_data/apod.fits'\n",
    "apod = Field(np.rot90(read_fits(apod_fname)).ravel(), pupil_grid)"
   ]
  },
  {
   "cell_type": "code",
   "execution_count": null,
   "metadata": {
    "collapsed": true
   },
   "outputs": [],
   "source": [
    "imshow_field(apod)"
   ]
  },
  {
   "cell_type": "code",
   "execution_count": null,
   "metadata": {
    "collapsed": true
   },
   "outputs": [],
   "source": [
    "# Overlap the apodizer iwth the aperture\n",
    "imshow_field(apod + aper)"
   ]
  },
  {
   "cell_type": "markdown",
   "metadata": {},
   "source": [
    "They match pretty well, except that the apodizer has supposedly wider segment gaps than the direct aperture. We can now propagate this through the Lyot coronagraph nad get an APLC image."
   ]
  },
  {
   "cell_type": "code",
   "execution_count": null,
   "metadata": {
    "collapsed": true
   },
   "outputs": [],
   "source": [
    "lam_over_d = wvln.to(u.m).value / diam  # rad\n",
    "print('lambda/D = {} rad'.format(lam_over_d))\n",
    "\n",
    "# Create FPM on a focal grid, with radius in lambda/D, converted to radians\n",
    "fpm = 1 - circular_aperture(8*lam_over_d)(focal_grid)\n",
    "print(fpm.shaped.shape)\n",
    "\n",
    "# Create Lyot coronagraph on pupil grid with FPM\n",
    "coro_lyot = LyotCoronagraph(pupil_grid, fpm)"
   ]
  },
  {
   "cell_type": "code",
   "execution_count": null,
   "metadata": {
    "collapsed": true
   },
   "outputs": [],
   "source": [
    "# Create an Apodizer() object for the HiCAT apodizer\n",
    "apodizer = Apodizer(apod)\n",
    "\n",
    "# Propagate the wf coming from the SM through the apodizer\n",
    "aplc_entry = apodizer(wf_post_sm)"
   ]
  },
  {
   "cell_type": "code",
   "execution_count": null,
   "metadata": {
    "collapsed": true
   },
   "outputs": [],
   "source": [
    "# Propagate from the wavefront at the apodizer to Lyot plane\n",
    "lyot_plane = coro_lyot(aplc_entry)\n",
    "\n",
    "# Create Lyot stop\n",
    "aperture = circular_aperture(0.83 * diam)\n",
    "obscuration = circular_aperture(0.2 * diam)\n",
    "res = aperture(pupil_grid) - obscuration(pupil_grid)\n",
    "ls = Field(res, pupil_grid)\n",
    "\n",
    "# Propagate to final image\n",
    "lyot_stop = Apodizer(aperture(pupil_grid) - obscuration(pupil_grid))\n",
    "\n",
    "# Apply the Lyot stop to the Lyot plane and propagate to the image plane\n",
    "im_coro_lyot = prop(lyot_stop(lyot_plane))\n",
    "\n",
    "# Display the coro image\n",
    "imshow_field(np.log10(im_coro_lyot.intensity / normp))\n",
    "plt.title(\"APLC, no aberrations\")\n",
    "plt.colorbar()"
   ]
  },
  {
   "cell_type": "code",
   "execution_count": null,
   "metadata": {
    "collapsed": true
   },
   "outputs": [],
   "source": []
  },
  {
   "cell_type": "code",
   "execution_count": null,
   "metadata": {
    "collapsed": true
   },
   "outputs": [],
   "source": []
  },
  {
   "cell_type": "code",
   "execution_count": null,
   "metadata": {
    "collapsed": true
   },
   "outputs": [],
   "source": []
  },
  {
   "cell_type": "markdown",
   "metadata": {},
   "source": [
    "### A single aberrated segment\n",
    "\n",
    "For the calibration of the analytical images, I need to create images that stem for the pupil having one single aberrated segment."
   ]
  },
  {
   "cell_type": "code",
   "execution_count": null,
   "metadata": {
    "collapsed": true
   },
   "outputs": [],
   "source": [
    "# Define what segment to aberrate\n",
    "segnum = 5     # Which segment are we aberrating - I number them starting with 1\n",
    "segnum -= 1    # Which is why I have to subtract one, because WebbPSF starts numbering them at 0\n",
    "# Extract the correct segment name from WebbPSF\n",
    "seg = wss_segs[segnum].split('-')[0]\n",
    "print('Aberrated segment:', seg)\n",
    "\n",
    "# Define what Noll Zernike we're using\n",
    "zern_number = 1\n",
    "wss_zern_nb = util.noll_to_wss(zern_number)  \n",
    "\n",
    "# Maybe play around with amount of aberration\n",
    "#nm_aber = 1000.     # in input units\n",
    "\n",
    "# Create arrays to hold Zernike aberration coefficients\n",
    "Aber_WSS = np.zeros([nb_seg, zern_max])           # The Zernikes here will be filled in the WSS order!!!\n",
    "                                                  # Because it goes into _apply_hexikes_to_seg().\n",
    "\n",
    "# Feed the aberration nm_aber into the array position\n",
    "# that corresponds to the correct Zernike, but only on segment i\n",
    "Aber_WSS[segnum, wss_zern_nb-1] = nm_aber.to(u.m).value     # Aberration on the segment we're currently working on;\n",
    "                                                            # convert to meters; -1 on the Zernike because Python starts\n",
    "                                                            # numbering at 0.\n",
    "\n",
    "#-# Crate OPD with aberrated segment, NO CORONAGRAPH\n",
    "print('Applying aberration to OTE.')\n",
    "print('nm_aber: {}'.format(nm_aber))\n",
    "ote_coro.reset()   # Making sure there are no previous movements on the segments.\n",
    "ote_coro.zero()    # For now, ignore internal WFE.\n",
    "ote_coro._apply_hexikes_to_seg(seg, Aber_WSS[segnum,:])\n",
    "\n",
    "# Display the OTE\n",
    "ote_coro.display_opd()\n",
    "plt.show()\n",
    "# At this point, WebbPSF still numbers the segments wrong in the exit pupil,\n",
    "# so it's the easiest to orient yourself by the spiders."
   ]
  },
  {
   "cell_type": "code",
   "execution_count": null,
   "metadata": {
    "collapsed": true
   },
   "outputs": [],
   "source": [
    "# Calculate the PSF\n",
    "psf_single_coro = nc_coro.calc_psf(fov_pixels=im_size_e2e, oversample=1, nlambda=1)\n",
    "plt.figure(figsize=(10, 10))\n",
    "webbpsf.display_psf(psf_single_coro, vmin=1e-12, vmax=1e-6)\n",
    "plt.show()\n",
    "\n",
    "psf_single_coro = psf_single_coro[1].data/normp"
   ]
  },
  {
   "cell_type": "code",
   "execution_count": null,
   "metadata": {
    "collapsed": true
   },
   "outputs": [],
   "source": [
    "# Display with matplotlib\n",
    "boxhw = im_size_e2e/2\n",
    "box2 = boxhw/2\n",
    "print('nm_aber: {}'.format(nm_aber))\n",
    "\n",
    "plt.figure(figsize=(20, 10))\n",
    "plt.subplot(1, 2, 1)\n",
    "plt.imshow(psf_single_coro, norm=LogNorm(), origin='lower')\n",
    "plt.title('One aberrated segment in coronagraphic setup')\n",
    "plt.colorbar()\n",
    "plt.subplot(1, 2, 2)\n",
    "plt.imshow(util.zoom_cen(psf_single_coro, box2), norm=LogNorm(), origin='lower')\n",
    "plt.title('Zoomed in')\n",
    "plt.show()"
   ]
  },
  {
   "cell_type": "markdown",
   "metadata": {},
   "source": [
    "For piston, an aberration of 10 nm shows no effect, 100 nm already visibly messes the PSF up and 1000 nm make a very distinct change to the PSF, probably too much for PASTIS purposes.\n",
    "\n",
    "### Pair-wise aberrated segments with coronagraph"
   ]
  },
  {
   "cell_type": "code",
   "execution_count": null,
   "metadata": {
    "collapsed": true
   },
   "outputs": [],
   "source": [
    "# Decide which two segments you want to aberrate\n",
    "segnum1 = 8     # Which segments are we aberrating - I number them starting with 1\n",
    "segnum2 = 16\n",
    "\n",
    "# Segment aberrations are additive, so if you use a segment number twice, the\n",
    "# aberration will be applied twice!\n",
    "\n",
    "segnum_array = np.array([segnum1, segnum2])\n",
    "segnum_array -= 1    # Which is why I have to subtract one, because WebbPSF starts numbering them at 0\n",
    "\n",
    "zern_pair = 1  # Which Noll Zernike are we putting on the segments.\n",
    "\n",
    "# Extract the correct segment names from WebbPSF\n",
    "seg_array = []\n",
    "for i, senu in enumerate(segnum_array):\n",
    "    seg_array.append(wss_segs[senu].split('-')[0])\n",
    "\n",
    "seg_array = np.array(seg_array)\n",
    "print('Aberration used: {}'.format(nm_aber))\n",
    "print('Aberrated segments:', seg_array)\n",
    "print('Noll Zernike used:', zern_pair)"
   ]
  },
  {
   "cell_type": "code",
   "execution_count": null,
   "metadata": {
    "collapsed": true
   },
   "outputs": [],
   "source": [
    "aber_wss_loop = np.zeros([nb_seg, 8])\n",
    "noll_as_wss = np.array([1, 3, 2, 5, 4, 6, 7, 8]) #, 11, 9, 10])    # reordering Noll Zernikes to WSS, for ease of use\n",
    "print('nm_aber: {}'.format(nm_aber))\n",
    "\n",
    "# Apply aberration to all sgements\n",
    "ote_coro.reset()   # Making sure there are no previous movements on the segments.\n",
    "ote_coro.zero()    # For now, ignore internal WFE.\n",
    "for i, nseg in enumerate(seg_array):\n",
    "    aber_wss_loop[segnum_array[i], noll_as_wss[zern_pair-1]-1] = nm_aber.to(u.m).value   # fill only the index for current Zernike, in meters\n",
    "\n",
    "    # Put Zernike on correct segments on OTE\n",
    "    ote_coro._apply_hexikes_to_seg(nseg, aber_wss_loop[segnum_array[i],:])\n",
    "\n",
    "# Display the OTE\n",
    "ote_coro.display_opd()\n",
    "plt.show()"
   ]
  },
  {
   "cell_type": "code",
   "execution_count": null,
   "metadata": {
    "collapsed": true
   },
   "outputs": [],
   "source": [
    "# Calculate the PSF\n",
    "psf_coro_pair= nc_coro.calc_psf(fov_pixels=im_size_e2e, oversample=1, nlambda=1)\n",
    "psf_coro_pair = psf_coro_pair[0].data/normp                 # getting the oversampled extension\n",
    "\"\"\"   \n",
    "# Display the PSF\n",
    "plt.figure(figsize=(20, 10))\n",
    "plt.subplot(1, 2, 1)\n",
    "plt.imshow(psf_coro_pair, norm=LogNorm(), origin='lower')\n",
    "plt.title('Pair-wise aberrated coronagraphic PSF')\n",
    "plt.subplot(1, 2, 2)\n",
    "plt.imshow(util.zoom_cen(psf_coro_pair, box2), norm=LogNorm(), origin='lower')\n",
    "plt.title('Zoomed')\n",
    "plt.show()\n",
    "\"\"\"\n",
    "print('nm_aber: {}'.format(nm_aber))\n",
    "print('Aberrated segments:', seg_array)\n",
    "print('Noll Zernike used:', zern_pair)\n",
    "print(psf_coro_pair.shape)"
   ]
  },
  {
   "cell_type": "code",
   "execution_count": null,
   "metadata": {
    "collapsed": true
   },
   "outputs": [],
   "source": [
    "# Create DH\n",
    "dh_area = util.create_dark_hole(psf_coro_pair, inner_wa, outer_wa, sampling)\n",
    "\n",
    "testim = psf_coro_pair * dh_area\n",
    "\n",
    "#\n",
    "contrast = np.mean(testim[np.where(testim != 0)])\n",
    "print(contrast)\n",
    "\n",
    "plt.imshow(testim)\n",
    "plt.show()"
   ]
  },
  {
   "cell_type": "code",
   "execution_count": null,
   "metadata": {
    "collapsed": true
   },
   "outputs": [],
   "source": [
    "#segs_3_11_noll_1_coro = np.copy(psf_coro_pair)\n",
    "#segs_11_17_noll_1_coro = np.copy(psf_coro_pair)\n",
    "#segs_6_11_noll_1_coro = np.copy(psf_coro_pair)\n",
    "#segs_9_2_noll_1_coro = np.copy(psf_coro_pair)\n",
    "#segs_9_5_noll_1_coro = np.copy(psf_coro_pair)\n",
    "#segs_9_15_noll_1_coro = np.copy(psf_coro_pair)\n",
    "#segs_8_1_noll_1_coro = np.copy(psf_coro_pair)\n",
    "#segs_8_6_noll_1_coro = np.copy(psf_coro_pair)\n",
    "#segs_8_16_noll_1_coro = np.copy(psf_coro_pair)"
   ]
  },
  {
   "cell_type": "code",
   "execution_count": null,
   "metadata": {
    "collapsed": true
   },
   "outputs": [],
   "source": [
    "# Save to central store\n",
    "save_dir1 = '/astro/opticslab1/PASTIS/jwst_data/E2E_pair_aberrations/2019-1-22-9h-53min'\n",
    "#util.write_fits(segs_3_11_noll_1_coro, os.path.join(save_dir1, 'segs_3_11_noll_1_coro.fits'))\n",
    "#util.write_fits(segs_11_17_noll_1_coro, os.path.join(save_dir1, 'segs_11_17_noll_1_coro.fits'))\n",
    "#util.write_fits(segs_6_11_noll_1_coro, os.path.join(save_dir1, 'segs_6_11_noll_1_coro.fits'))\n",
    "#util.write_fits(segs_9_2_noll_1_coro, os.path.join(save_dir1, 'segs_9_2_noll_1_coro.fits'))\n",
    "#util.write_fits(segs_9_5_noll_1_coro, os.path.join(save_dir1, 'segs_9_5_noll_1_coro.fits'))\n",
    "#util.write_fits(segs_9_15_noll_1_coro, os.path.join(save_dir1, 'segs_9_15_noll_1_coro.fits'))\n",
    "\n",
    "#util.write_fits(segs_8_1_noll_1_coro, os.path.join(save_dir1, 'segs_8_1_noll_1_coro.fits'))\n",
    "#util.write_fits(segs_8_6_noll_1_coro, os.path.join(save_dir1, 'segs_8_6_noll_1_coro.fits'))\n",
    "#util.write_fits(segs_8_16_noll_1_coro, os.path.join(save_dir1, 'segs_8_16_noll_1_coro.fits'))"
   ]
  },
  {
   "cell_type": "code",
   "execution_count": null,
   "metadata": {
    "collapsed": true
   },
   "outputs": [],
   "source": [
    "# Read from central store\n",
    "\n",
    "# 1000 nm aberrations:\n",
    "read_dir1 = '/astro/opticslab1/PASTIS/jwst_data/E2E_pair_aberrations/2019-1-22-9h-53min_coro_piston_1000nm_pairs'\n",
    "\n",
    "# 100 nm aberrations\n",
    "#read_dir1 = '/astro/opticslab1/PASTIS/jwst_data/E2E_pair_aberrations/2019-1-25-16h-18min_piston_100nm'\n",
    "\n",
    "segs_3_11_noll_1_coro = fits.getdata(os.path.join(read_dir1, 'segs_3_11_noll_1.fits'))\n",
    "segs_11_17_noll_1_coro = fits.getdata(os.path.join(read_dir1, 'segs_11_17_noll_1.fits'))\n",
    "segs_6_11_noll_1_coro = fits.getdata(os.path.join(read_dir1, 'segs_6_11_noll_1.fits'))\n",
    "segs_9_2_noll_1_coro = fits.getdata(os.path.join(read_dir1, 'segs_9_2_noll_1.fits'))\n",
    "segs_9_5_noll_1_coro = fits.getdata(os.path.join(read_dir1, 'segs_9_5_noll_1.fits'))\n",
    "segs_9_15_noll_1_coro = fits.getdata(os.path.join(read_dir1, 'segs_9_15_noll_1.fits'))\n",
    "\n",
    "segs_8_1_noll_1_coro = fits.getdata(os.path.join(read_dir1, 'segs_8_1_noll_1.fits'))\n",
    "segs_8_6_noll_1_coro = fits.getdata(os.path.join(read_dir1, 'segs_8_6_noll_1.fits'))\n",
    "segs_8_16_noll_1_coro = fits.getdata(os.path.join(read_dir1, 'segs_8_16_noll_1.fits'))"
   ]
  },
  {
   "cell_type": "code",
   "execution_count": null,
   "metadata": {
    "collapsed": true
   },
   "outputs": [],
   "source": [
    "# Have a look at the images\n",
    "\n",
    "# Gotta check how big the loaded images are!\n",
    "print('Loaded images shape:', segs_3_11_noll_1_coro.shape)\n",
    "print('im_size_e2e:', im_size_e2e)\n",
    "\n",
    "# If im_size_e2e is bigger than images we loaded, this won't work\n",
    "# and you have to define a box half-size manually for imwidth.\n",
    "boxw = int(im_size_e2e/2)\n",
    "boxw2 = boxw/2\n",
    "    \n",
    "if im_size_e2e < segs_3_11_noll_1_dir.shape[0]:\n",
    "    imwidth = bozw2\n",
    "else:\n",
    "    #raise Exception('! You have to set imwidth manually ! And then comment this line out.')\n",
    "    pass\n",
    "\n",
    "# Chose what image size (in pixels) we want to display\n",
    "imwidth = 50\n",
    "\n",
    "plt.figure(figsize=(18, 12))\n",
    "plt.suptitle('Pair-wise aberration in coronagraphpic WebbPSF images')\n",
    "plt.subplot(2, 3, 1)\n",
    "plt.imshow(util.zoom_cen(segs_3_11_noll_1_coro, imwidth), norm=LogNorm(), origin='lower')\n",
    "plt.title('Piston on segments 3 and 11')\n",
    "\n",
    "plt.subplot(2, 3, 2)\n",
    "plt.imshow(util.zoom_cen(segs_6_11_noll_1_coro, imwidth), norm=LogNorm(), origin='lower')\n",
    "plt.title('Piston on segments 6 and 11')\n",
    "\n",
    "plt.subplot(2, 3, 3)\n",
    "plt.imshow(util.zoom_cen(segs_11_17_noll_1_coro, imwidth), norm=LogNorm(), origin='lower')\n",
    "plt.title('Piston on segments 11 and 17')\n",
    "\n",
    "plt.subplot(2, 3, 4)\n",
    "plt.imshow(util.zoom_cen(segs_9_2_noll_1_coro, imwidth), norm=LogNorm(), origin='lower')\n",
    "plt.title('Piston on segments 9 and 2')\n",
    "\n",
    "plt.subplot(2, 3, 5)\n",
    "plt.imshow(util.zoom_cen(segs_9_5_noll_1_coro, imwidth), norm=LogNorm(), origin='lower')\n",
    "plt.title('Piston on segments 5 and 9')\n",
    "\n",
    "plt.subplot(2, 3, 6)\n",
    "plt.imshow(util.zoom_cen(segs_9_15_noll_1_coro, imwidth), norm=LogNorm(), origin='lower')\n",
    "plt.title('Piston on segments 9 and 15')\n",
    "\n",
    "plt.show()"
   ]
  },
  {
   "cell_type": "markdown",
   "metadata": {},
   "source": [
    "We're missing one intermediate baseline with these combinations though, because we have to skip the center segment. I want to know what that looks like though, so here's some more images."
   ]
  },
  {
   "cell_type": "code",
   "execution_count": null,
   "metadata": {
    "collapsed": true
   },
   "outputs": [],
   "source": [
    "# Chose what image size (in pixels) we want to display\n",
    "imwidth = imwidth\n",
    "\n",
    "plt.figure(figsize=(18, 6))\n",
    "plt.suptitle('Pair-wise aberrated coronagraphpic WebbPSF images')\n",
    "plt.subplot(1, 3, 1)\n",
    "plt.imshow(util.zoom_cen(segs_8_1_noll_1_coro, imwidth), norm=LogNorm(), origin='lower')\n",
    "plt.title('Piston on segments 8 and 1')\n",
    "\n",
    "plt.subplot(1, 3, 2)\n",
    "plt.imshow(util.zoom_cen(segs_8_6_noll_1_coro, imwidth), norm=LogNorm(), origin='lower')\n",
    "plt.title('Piston on segments 8 and 6')\n",
    "\n",
    "plt.subplot(1, 3, 3)\n",
    "plt.imshow(util.zoom_cen(segs_8_16_noll_1_coro, imwidth), norm=LogNorm(), origin='lower')\n",
    "plt.title('Piston on segments 8 and 16')\n",
    "\n",
    "plt.show()"
   ]
  },
  {
   "cell_type": "markdown",
   "metadata": {},
   "source": [
    "## COMPARING ANALYTICAL, E2E DIRECT AND E2E CORONAGRAPHIC\n",
    "\n",
    "Display comparison for **piston** with the pairs **9-2**, **9-5** and **9-15**."
   ]
  },
  {
   "cell_type": "code",
   "execution_count": null,
   "metadata": {
    "collapsed": true
   },
   "outputs": [],
   "source": [
    "# Chose what image size (in pixels) we want to display\n",
    "imwidth = imwidth\n",
    "\n",
    "plt.figure(figsize=(18, 18))\n",
    "plt.suptitle('Comparison of pair-wise aberration')\n",
    "plt.subplot(3, 3, 1)\n",
    "plt.imshow(util.zoom_cen(segs_9_2_noll_1_ana, imwidth), norm=LogNorm(), origin='lower')\n",
    "plt.title('Analytical - Piston on segments 9 and 2')\n",
    "\n",
    "plt.subplot(3, 3, 2)\n",
    "plt.imshow(util.zoom_cen(segs_9_5_noll_1_ana, imwidth), norm=LogNorm(), origin='lower')\n",
    "plt.title('Analytical - Piston on segments 5 and 9')\n",
    "\n",
    "plt.subplot(3, 3, 3)\n",
    "plt.imshow(util.zoom_cen(segs_9_15_noll_1_ana, imwidth), norm=LogNorm(), origin='lower')\n",
    "plt.title('Analytical - Piston on segments 9 and 15')\n",
    "\n",
    "plt.subplot(3, 3, 4)\n",
    "plt.imshow(util.zoom_cen(segs_9_2_noll_1_dir, imwidth), norm=LogNorm(), origin='lower')\n",
    "plt.title('Direct WebbPSF - Piston on segments 9 and 2')\n",
    "\n",
    "plt.subplot(3, 3, 5)\n",
    "plt.imshow(util.zoom_cen(segs_9_5_noll_1_dir, imwidth), norm=LogNorm(), origin='lower')\n",
    "plt.title('Direct WebbPSF - Piston on segments 5 and 9')\n",
    "\n",
    "plt.subplot(3, 3, 6)\n",
    "plt.imshow(util.zoom_cen(segs_9_15_noll_1_dir, imwidth), norm=LogNorm(), origin='lower')\n",
    "plt.title('Direct WebbPSF - Piston on segments 9 and 15')\n",
    "\n",
    "plt.subplot(3, 3, 7)\n",
    "plt.imshow(util.zoom_cen(segs_9_2_noll_1_coro, imwidth), norm=LogNorm(), origin='lower')\n",
    "plt.title('Coro WebbPSF - Piston on segments 9 and 2')\n",
    "\n",
    "plt.subplot(3, 3, 8)\n",
    "plt.imshow(util.zoom_cen(segs_9_5_noll_1_coro, imwidth), norm=LogNorm(), origin='lower')\n",
    "plt.title('Coro WebbPSF - Piston on segments 5 and 9')\n",
    "\n",
    "plt.subplot(3, 3, 9)\n",
    "plt.imshow(util.zoom_cen(segs_9_15_noll_1_coro, imwidth), norm=LogNorm(), origin='lower')\n",
    "plt.title('Coro WebbPSF - Piston on segments 9 and 15')\n",
    "\n",
    "plt.show()"
   ]
  },
  {
   "cell_type": "markdown",
   "metadata": {},
   "source": [
    "Display the comparison for **piston** with the pairs **8-1**, **8-6** and **8-16**."
   ]
  },
  {
   "cell_type": "code",
   "execution_count": null,
   "metadata": {
    "collapsed": true
   },
   "outputs": [],
   "source": [
    "# Chose what image size (in pixels) we want to display\n",
    "imwidth = imwidth\n",
    "\n",
    "plt.figure(figsize=(18, 18))\n",
    "plt.suptitle('Comparison of pair-wise aberration')\n",
    "plt.subplot(3, 3, 1)\n",
    "plt.imshow(util.zoom_cen(segs_8_1_noll_1_ana, imwidth), norm=LogNorm(), origin='lower')\n",
    "plt.title('Analytical - Piston on segments 8 and 1')\n",
    "\n",
    "plt.subplot(3, 3, 2)\n",
    "plt.imshow(util.zoom_cen(segs_8_6_noll_1_ana, imwidth), norm=LogNorm(), origin='lower')\n",
    "plt.title('Analytical - Piston on segments 8 and 6')\n",
    "\n",
    "plt.subplot(3, 3, 3)\n",
    "plt.imshow(util.zoom_cen(segs_8_16_noll_1_ana, imwidth), norm=LogNorm(), origin='lower')\n",
    "plt.title('Analytical - Piston on segments 8 and 16')\n",
    "\n",
    "plt.subplot(3, 3, 4)\n",
    "plt.imshow(util.zoom_cen(segs_8_1_noll_1_dir, imwidth), norm=LogNorm(), origin='lower')\n",
    "plt.title('Direct WebbPSF - Piston on segments 8 and 1')\n",
    "\n",
    "plt.subplot(3, 3, 5)\n",
    "plt.imshow(util.zoom_cen(segs_8_6_noll_1_dir, imwidth), norm=LogNorm(), origin='lower')\n",
    "plt.title('Direct WebbPSF - Piston on segments 8 and 6')\n",
    "\n",
    "plt.subplot(3, 3, 6)\n",
    "plt.imshow(util.zoom_cen(segs_8_16_noll_1_dir, imwidth), norm=LogNorm(), origin='lower')\n",
    "plt.title('Direct WebbPSF - Piston on segments 6 and 16')\n",
    "\n",
    "plt.subplot(3, 3, 7)\n",
    "plt.imshow(util.zoom_cen(segs_8_1_noll_1_coro, imwidth), norm=LogNorm(), origin='lower')\n",
    "plt.title('Coro WebbPSF - Piston on segments 8 and 1')\n",
    "\n",
    "plt.subplot(3, 3, 8)\n",
    "plt.imshow(util.zoom_cen(segs_8_6_noll_1_coro, imwidth), norm=LogNorm(), origin='lower')\n",
    "plt.title('Coro WebbPSF - Piston on segments 8 and 69')\n",
    "\n",
    "plt.subplot(3, 3, 9)\n",
    "plt.imshow(util.zoom_cen(segs_8_16_noll_1_coro, imwidth), norm=LogNorm(), origin='lower')\n",
    "plt.title('Coro WebbPSF - Piston on segments 8 and 18')\n",
    "\n",
    "plt.show()"
   ]
  },
  {
   "cell_type": "code",
   "execution_count": null,
   "metadata": {
    "collapsed": true
   },
   "outputs": [],
   "source": []
  }
 ],
 "metadata": {
  "kernelspec": {
   "display_name": "Python 3",
   "language": "python",
   "name": "python3"
  },
  "language_info": {
   "codemirror_mode": {
    "name": "ipython",
    "version": 3
   },
   "file_extension": ".py",
   "mimetype": "text/x-python",
   "name": "python",
   "nbconvert_exporter": "python",
   "pygments_lexer": "ipython3",
   "version": "3.6.8"
  }
 },
 "nbformat": 4,
 "nbformat_minor": 2
}
