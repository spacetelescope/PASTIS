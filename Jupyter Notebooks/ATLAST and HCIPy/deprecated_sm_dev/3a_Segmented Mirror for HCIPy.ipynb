{
 "cells": [
  {
   "cell_type": "markdown",
   "metadata": {},
   "source": [
    "# Segmented Mirror for HCIPy\n",
    "\n",
    "I need a segmented mirror for phase control."
   ]
  },
  {
   "cell_type": "code",
   "execution_count": null,
   "metadata": {},
   "outputs": [],
   "source": [
    "from hcipy import*\n",
    "import numpy as np\n",
    "import astropy.units as u\n",
    "import matplotlib.pyplot as plt\n",
    "%matplotlib inline\n",
    "\n",
    "import os\n",
    "os.chdir('../../pastis/')\n",
    "from config import CONFIG_PASTIS"
   ]
  },
  {
   "cell_type": "markdown",
   "metadata": {},
   "source": [
    "<span style=\"color:red\"> *** Careful: *** </span>\n",
    "\n",
    "**The segmented mirror in this notebook is based specifically on the classes and funcitons in the custom module `atlast_imaging`, which is deprecated. I have switched to using the `SegmentedDeformableMirror` from hcipy, however if you run this notebook as is, it should still work fine. Please see the up-to-date notebooks in the main directories for the current versions.**\n",
    "\n",
    "**You should also be on the PASTIS commit `caf29ad`.**"
   ]
  },
  {
   "cell_type": "code",
   "execution_count": null,
   "metadata": {},
   "outputs": [],
   "source": [
    "import atlast_imaging as atim"
   ]
  },
  {
   "cell_type": "code",
   "execution_count": null,
   "metadata": {},
   "outputs": [],
   "source": [
    "# This is the function I use in PASTIS for making a HiCAT/ATLAST aperture\n",
    "\"\"\" This was the first development model, please use the one from the module atlast_imaging now\n",
    "\n",
    "def get_atlast_aperture(normalized=False, with_segment_gaps=True, segment_transmissions=1):\n",
    "    '''Make the ATLAST pupil mask.\n",
    "\n",
    "    This function is a copy of make_hicat_aperture(), except that it also returns the segment positions.\n",
    "\n",
    "    Parameters\n",
    "    ----------\n",
    "    normalized : boolean\n",
    "        If this is True, the outer diameter will be scaled to 1. Otherwise, the\n",
    "        diameter of the pupil will be 15.0 meters.\n",
    "    with_segment_gaps : boolean\n",
    "        Include the gaps between individual segments in the aperture.\n",
    "    segment_transmissions : scalar or array_like\n",
    "        The transmission for each of the segments. If this is a scalar, this transmission will\n",
    "        be used for all segments.\n",
    "\n",
    "    Returns\n",
    "    -------\n",
    "    Field generator\n",
    "        The ATLAST aperture.\n",
    "    CartesianGrid\n",
    "        The segment positions.\n",
    "    '''\n",
    "    pupil_diameter = 15. # m\n",
    "    segment_circum_diameter = 2 / np.sqrt(3) * pupil_diameter / 7\n",
    "    num_rings = 3\n",
    "    segment_gap = 1e-2\n",
    "\n",
    "    if not with_segment_gaps:\n",
    "        segment_gap = 0\n",
    "\n",
    "    if normalized:\n",
    "        segment_circum_diameter /= pupil_diameter\n",
    "        segment_gap /= pupil_diameter\n",
    "        pupil_diameter = 1.0\n",
    "\n",
    "    segment_positions = make_hexagonal_grid(segment_circum_diameter / 2 * np.sqrt(3), num_rings)\n",
    "    segment_positions = segment_positions.subset(lambda grid: ~(circular_aperture(segment_circum_diameter)(grid) > 0))\n",
    "\n",
    "    hexagon = hexagonal_aperture(segment_circum_diameter - segment_gap)\n",
    "    \n",
    "    def segment(grid):\n",
    "        return hexagon(grid.rotated(np.pi/2))\n",
    "\n",
    "    segmented_aperture = make_segmented_aperture(segment, segment_positions, segment_transmissions)\n",
    "\n",
    "    def func(grid):\n",
    "        res = segmented_aperture(grid)\n",
    "\n",
    "        return Field(res, grid)\n",
    "    return func, segment_positions\n",
    "\"\"\""
   ]
  },
  {
   "cell_type": "code",
   "execution_count": null,
   "metadata": {},
   "outputs": [],
   "source": [
    "''' This was the first development model, please use the one from the module atlast_imaging now\n",
    "\n",
    "class SegmentedMirror(OpticalElement):\n",
    "    \"\"\"A segmented mirror from a segmented aperture.\n",
    "\n",
    "    Parameters:\n",
    "    ----------\n",
    "    aperture : Field\n",
    "        The segmented aperture of the mirror.\n",
    "    seg_pos : CartesianGrid(UnstructuredCoords)\n",
    "        Segment positions of the aperture.\n",
    "    \"\"\"\n",
    "\n",
    "    def __init__(self, aperture, seg_pos):\n",
    "        self.aperture = aperture\n",
    "        self.segnum = len(seg_pos.x)\n",
    "        self.segmentlist = np.arange(1, self.segnum + 1)\n",
    "        self._coef = np.zeros((self.segnum, 3))\n",
    "        self.seg_pos = seg_pos\n",
    "        self.input_grid = aperture.grid\n",
    "        self._last_npix = np.nan    # see _setup_arrays for this\n",
    "\n",
    "    def forward(self, wavefront):\n",
    "        \"\"\"Propagate a wavefront through the segmented mirror.\n",
    "\n",
    "        Parameters\n",
    "        ----------\n",
    "        wavefront : Wavefront\n",
    "            The incoming wavefront.\n",
    "\n",
    "        Returns\n",
    "        -------\n",
    "        Wavefront\n",
    "            The reflected wavefront.\n",
    "        \"\"\"\n",
    "        wf = wavefront.copy()\n",
    "        wf.electric_field *= np.exp(2j * self.surface * wavefront.wavenumber)\n",
    "        return wf\n",
    "\n",
    "    def backward(self, wavefront):\n",
    "        \"\"\"Propagate a wavefront backwards through the deformable mirror.\n",
    "\n",
    "        Parameters\n",
    "        ----------\n",
    "        wavefront : Wavefront\n",
    "            The incoming wavefront.\n",
    "\n",
    "        Returns\n",
    "        -------\n",
    "        Wavefront\n",
    "            The reflected wavefront.\n",
    "        \"\"\"\n",
    "        wf = wavefront.copy()\n",
    "        wf.electric_field *= np.exp(-2j * self.surface * wavefront.wavenumber)\n",
    "        return wf\n",
    "\n",
    "    @property\n",
    "    def surface(self):\n",
    "        \"\"\" The surface of the segmented mirror in meters.\n",
    "        \"\"\"\n",
    "        surf = self.apply_coef()\n",
    "        return surf\n",
    "\n",
    "    @property\n",
    "    def coef(self):\n",
    "        \"\"\" The surface shape of the deformable mirror, in **meters**.\n",
    "        \"\"\"\n",
    "        return self._coef\n",
    "\n",
    "    def flatten(self):\n",
    "        \"\"\" Flatten the DM by setting all segment coefficients to zero.\"\"\"\n",
    "        self._coef[:] = 0\n",
    "\n",
    "    def set_segment(self, segid, piston, tip, tilt):\n",
    "        \"\"\" Set an individual segment of the DM.\n",
    "        Parameters\n",
    "        -------------\n",
    "        segid : integer\n",
    "            Index of the actuator you wish to control, starting at 1 (center is 0)\n",
    "        piston, tip, tilt : floats, meters and radians\n",
    "            Piston (in meters) and tip and tilt (in radians)\n",
    "        \"\"\"\n",
    "        self._coef[segid - 1] = [piston, tip, tilt]\n",
    "\n",
    "    def _setup_arrays(self):\n",
    "        \"\"\" Set up the arrays to compute an OPD into.\n",
    "        This is relatively slow, but we only need to do this once for\n",
    "        each size of input array.\n",
    "        \"\"\"\n",
    "        npix = self.aperture.shaped.shape[0]\n",
    "        if npix == self._last_npix:\n",
    "            return\n",
    "        else:\n",
    "            self._last_npix = npix\n",
    "\n",
    "        x, y = self.input_grid.coords\n",
    "\n",
    "        self._seg_mask = np.zeros_like(x)\n",
    "        self._seg_x = np.zeros_like(x)\n",
    "        self._seg_y = np.zeros_like(y)\n",
    "        self._seg_indices = dict()\n",
    "\n",
    "        pupil_grid = make_pupil_grid(dims=npix, diameter=1)\n",
    "        aper_num, seg_positions = get_atlast_aperture(normalized=True,\n",
    "                                                      segment_transmissions=np.arange(1, self.segnum + 1))\n",
    "        aper_num = evaluate_supersampled(aper_num, pupil_grid, 2)\n",
    "\n",
    "        self._seg_mask = np.copy(aper_num)\n",
    "\n",
    "        for i in self.segmentlist:\n",
    "            wseg = np.where(self._seg_mask == i)\n",
    "            self._seg_indices[i] = wseg\n",
    "\n",
    "            cenx, ceny = self.seg_pos.points[i - 1]\n",
    "\n",
    "            self._seg_x[wseg] = x[wseg] - cenx\n",
    "            self._seg_y[wseg] = y[wseg] - ceny\n",
    "            \n",
    "            # Set gaps to zero\n",
    "            bad_gaps_x = np.where(np.abs(self._seg_x) > 0.1)\n",
    "            self._seg_x[bad_gaps_x] = 0\n",
    "            bad_gaps_y = np.where(np.abs(self._seg_y) > 0.1)\n",
    "            self._seg_y[bad_gaps_y] = 0\n",
    "\n",
    "    def apply_coef(self):\n",
    "        \"\"\" Apply the DM shape from its own segment coefficients\n",
    "        \"\"\"\n",
    "        self._setup_arrays()\n",
    "\n",
    "        self.opd = np.zeros_like(self._seg_x)\n",
    "        for i in self.segmentlist:\n",
    "            wseg = self._seg_indices[i]\n",
    "            self.opd[wseg] = (self._coef[i - 1, 0] +\n",
    "                              self._coef[i - 1, 1] * self._seg_x[wseg] +\n",
    "                              self._coef[i - 1, 2] * self._seg_y[wseg])\n",
    "        return Field(self.opd, self.input_grid)\n",
    "\n",
    "    def phase_for(self, wavelength):\n",
    "        \"\"\"Get the phase that is added to a wavefront with a specified wavelength.\n",
    "\n",
    "        Parameters\n",
    "        ----------\n",
    "        wavelength : scalar\n",
    "            The wavelength at which to calculate the phase deformation.\n",
    "\n",
    "        Returns\n",
    "        -------\n",
    "        Field\n",
    "            The calculated phase deformation.\n",
    "        \"\"\"\n",
    "        return 2 * self.surface * 2 * np.pi / wavelength\n",
    "'''"
   ]
  },
  {
   "cell_type": "code",
   "execution_count": null,
   "metadata": {},
   "outputs": [],
   "source": [
    "# Parameters\n",
    "which_tel = CONFIG_PASTIS.get('telescope', 'name')\n",
    "pupil_size = CONFIG_PASTIS.getint('numerical', 'tel_size_px')\n",
    "PUP_DIAMETER = CONFIG_PASTIS.getfloat(which_tel, 'diameter')\n",
    "\n",
    "npix = pupil_size\n",
    "wvln_hc = 638e-9\n",
    "lamD = 15\n",
    "samp = 4\n",
    "diam = PUP_DIAMETER\n",
    "norm = False"
   ]
  },
  {
   "cell_type": "code",
   "execution_count": null,
   "metadata": {},
   "outputs": [],
   "source": [
    "pupil_grid = make_pupil_grid(dims=npix, diameter=PUP_DIAMETER)\n",
    "focal_grid = make_focal_grid(pupil_grid, 8, 20, wavelength=wvln_hc)\n",
    "prop = FraunhoferPropagator(pupil_grid, focal_grid)"
   ]
  },
  {
   "cell_type": "code",
   "execution_count": null,
   "metadata": {},
   "outputs": [],
   "source": [
    "aper, seg_pos = atim.get_atlast_aperture(normalized=norm)\n",
    "aper = evaluate_supersampled(aper, pupil_grid, 2)\n",
    "\n",
    "imshow_field(aper)"
   ]
  },
  {
   "cell_type": "markdown",
   "metadata": {},
   "source": [
    "## Testing parts of the `SegmentedMirror()` class.\n",
    "\n",
    "### Init equivalent"
   ]
  },
  {
   "cell_type": "code",
   "execution_count": null,
   "metadata": {},
   "outputs": [],
   "source": [
    "# Init equivalent\n",
    "aperture = aper\n",
    "segnum = 36\n",
    "segmentlist = np.arange(1, segnum+1)\n",
    "coef = np.zeros((segnum, 3))\n",
    "seg_pos = seg_pos\n",
    "input_grid = aperture.grid"
   ]
  },
  {
   "cell_type": "markdown",
   "metadata": {},
   "source": [
    "### `setup_arrays`"
   ]
  },
  {
   "cell_type": "code",
   "execution_count": null,
   "metadata": {},
   "outputs": [],
   "source": [
    "# setup_arrays\n",
    "npix = aperture.shaped.shape[0]\n",
    "x, y = input_grid.coords"
   ]
  },
  {
   "cell_type": "code",
   "execution_count": null,
   "metadata": {},
   "outputs": [],
   "source": [
    "plt.subplot(1, 2, 1)\n",
    "plt.imshow(np.reshape(x, (npix, npix)))\n",
    "plt.title('x')\n",
    "plt.colorbar()\n",
    "plt.subplot(1, 2, 2)\n",
    "plt.imshow(np.reshape(y, (npix, npix)))\n",
    "plt.title('y')\n",
    "plt.colorbar()"
   ]
  },
  {
   "cell_type": "code",
   "execution_count": null,
   "metadata": {},
   "outputs": [],
   "source": [
    "_seg_mask = np.zeros_like(x)\n",
    "_seg_x = np.zeros_like(x)\n",
    "_seg_y = np.zeros_like(y)\n",
    "_seg_indices = dict()\n",
    "\n",
    "plt.subplot(1, 2, 1)\n",
    "plt.imshow(np.reshape(_seg_x, (npix, npix)))\n",
    "plt.title('x')\n",
    "plt.colorbar()\n",
    "plt.subplot(1, 2, 2)\n",
    "plt.imshow(np.reshape(_seg_y, (npix, npix)))\n",
    "plt.title('y')\n",
    "plt.colorbar()"
   ]
  },
  {
   "cell_type": "code",
   "execution_count": null,
   "metadata": {},
   "outputs": [],
   "source": [
    "aper_num, seg_positions = atim.get_atlast_aperture(normalized=norm, segment_transmissions=np.arange(1,segnum+1))\n",
    "aper_num = evaluate_supersampled(aper_num, pupil_grid, 2)"
   ]
  },
  {
   "cell_type": "code",
   "execution_count": null,
   "metadata": {},
   "outputs": [],
   "source": [
    "imshow_field(aper_num)"
   ]
  },
  {
   "cell_type": "code",
   "execution_count": null,
   "metadata": {},
   "outputs": [],
   "source": [
    "# You can cycle through the segments here\n",
    "segseg = 6\n",
    "imshow_field(aper_num, vmin=segseg-0.1, vmax=segseg+0.1)"
   ]
  },
  {
   "cell_type": "code",
   "execution_count": null,
   "metadata": {},
   "outputs": [],
   "source": [
    "_seg_mask = np.copy(aper_num)\n",
    "plt.imshow(np.reshape(_seg_mask, (npix, npix)))"
   ]
  },
  {
   "cell_type": "code",
   "execution_count": null,
   "metadata": {},
   "outputs": [],
   "source": [
    "segseg = 7\n",
    "plt.imshow(np.reshape(_seg_mask, (npix, npix)), vmin=segseg-0.1, vmax=segseg+0.1)"
   ]
  },
  {
   "cell_type": "code",
   "execution_count": null,
   "metadata": {},
   "outputs": [],
   "source": [
    "for i in segmentlist:\n",
    "    #print(i)\n",
    "    \n",
    "    wseg = np.where(_seg_mask == i)\n",
    "    _seg_indices[i] = wseg\n",
    "\n",
    "    cenx, ceny = seg_pos.points[i-1]\n",
    "    \n",
    "    _seg_x[wseg] = x[wseg] - cenx\n",
    "    _seg_y[wseg] = y[wseg] - ceny\n",
    "\n",
    "# Set gaps to zero\n",
    "bad_gaps_x = np.where(np.abs(_seg_x) > 0.1*diam)\n",
    "_seg_x[bad_gaps_x] = 0\n",
    "bad_gaps_y = np.where(np.abs(_seg_y) > 0.1*diam)\n",
    "_seg_y[bad_gaps_y] = 0"
   ]
  },
  {
   "cell_type": "code",
   "execution_count": null,
   "metadata": {},
   "outputs": [],
   "source": [
    "plt.figure(figsize=(18, 9))\n",
    "plt.subplot(1, 2, 1)\n",
    "plt.imshow(np.reshape(_seg_x, (npix, npix)))#, vmin=-0.1, vmax=0.1)\n",
    "plt.title('x')\n",
    "plt.colorbar()\n",
    "plt.subplot(1, 2, 2)\n",
    "plt.imshow(np.reshape(_seg_y, (npix, npix)))#, vmin=-0.1, vmax=0.1)\n",
    "plt.title('y')\n",
    "plt.colorbar()"
   ]
  },
  {
   "cell_type": "code",
   "execution_count": null,
   "metadata": {},
   "outputs": [],
   "source": [
    "seg_pos.points.shape"
   ]
  },
  {
   "cell_type": "markdown",
   "metadata": {},
   "source": [
    "### `apply_coef`"
   ]
  },
  {
   "cell_type": "code",
   "execution_count": null,
   "metadata": {},
   "outputs": [],
   "source": [
    "# apply_coef \n",
    "opd = np.zeros_like(_seg_x)\n",
    "for i in segmentlist:\n",
    "    wseg = _seg_indices[i]\n",
    "    opd[wseg] = (coef[i-1, 0] +\n",
    "                        coef[i-1, 1] * _seg_x[wseg] +\n",
    "                        coef[i-1, 2] * _seg_y[wseg])\n",
    "res = Field(opd, input_grid)"
   ]
  },
  {
   "cell_type": "code",
   "execution_count": null,
   "metadata": {},
   "outputs": [],
   "source": [
    "# This should be zero\n",
    "imshow_field(res)"
   ]
  },
  {
   "cell_type": "code",
   "execution_count": null,
   "metadata": {},
   "outputs": [],
   "source": [
    "coef[5] = (4, 5, 6)"
   ]
  },
  {
   "cell_type": "code",
   "execution_count": null,
   "metadata": {},
   "outputs": [],
   "source": [
    "opd = np.zeros_like(_seg_x)\n",
    "for i in segmentlist:\n",
    "    wseg = _seg_indices[i]\n",
    "    opd[wseg] = (coef[i-1, 0] +\n",
    "                        coef[i-1, 1] * _seg_x[wseg] +\n",
    "                        coef[i-1, 2] * _seg_y[wseg])\n",
    "res = Field(opd, input_grid)\n",
    "imshow_field(res)"
   ]
  },
  {
   "cell_type": "markdown",
   "metadata": {},
   "source": [
    "## Testing the `SegmentedMirror()` class itself\n",
    "\n",
    "### Instantiate a segmented mirror"
   ]
  },
  {
   "cell_type": "code",
   "execution_count": null,
   "metadata": {},
   "outputs": [],
   "source": [
    "# Instantiate the segmented mirror\n",
    "sm = atim.SegmentedMirror(aper, seg_pos)"
   ]
  },
  {
   "cell_type": "code",
   "execution_count": null,
   "metadata": {},
   "outputs": [],
   "source": [
    "# Print the x positions of the segments\n",
    "print(sm.seg_pos.x.shape)\n",
    "print(sm.seg_pos.x)"
   ]
  },
  {
   "cell_type": "code",
   "execution_count": null,
   "metadata": {},
   "outputs": [],
   "source": [
    "# Print the y-positions of the segments\n",
    "print(sm.seg_pos.y.shape)\n",
    "print(sm.seg_pos.y)"
   ]
  },
  {
   "cell_type": "markdown",
   "metadata": {},
   "source": [
    "### Make a wavefront that will propagte through the segmented mirror optical element"
   ]
  },
  {
   "cell_type": "code",
   "execution_count": null,
   "metadata": {},
   "outputs": [],
   "source": [
    "# Generate a wavefront on the aperture, which will be a field\n",
    "# at a specified wavelength (default 1) and display its\n",
    "# intensity and phase.\n",
    "wf = Wavefront(aper, wavelength=wvln_hc)\n",
    "\n",
    "plt.figure(figsize=(18, 9))\n",
    "plt.suptitle('Wavefront')\n",
    "\n",
    "plt.subplot(1, 2, 1)\n",
    "imshow_field(wf.intensity, mask=aper)\n",
    "plt.title('Intensity')\n",
    "plt.colorbar()\n",
    "\n",
    "plt.subplot(1, 2, 2)\n",
    "imshow_field(wf.phase, mask=aper, cmap='RdBu')\n",
    "plt.title('Phase')\n",
    "plt.colorbar()"
   ]
  },
  {
   "cell_type": "code",
   "execution_count": null,
   "metadata": {},
   "outputs": [],
   "source": [
    "# Show segment coefficients\n",
    "print(sm.coef.shape)\n",
    "print(sm.coef)"
   ]
  },
  {
   "cell_type": "markdown",
   "metadata": {},
   "source": [
    "### Propagate the WF \"through\" SM and show at pupil"
   ]
  },
  {
   "cell_type": "code",
   "execution_count": null,
   "metadata": {},
   "outputs": [],
   "source": [
    "# Propagate the wf through the SM and display its intensity\n",
    "# and phase in that pupil plane, before propagation to image plane.\n",
    "wf_at_sm = sm(wf)\n",
    "\n",
    "plt.figure(figsize=(18, 9))\n",
    "plt.suptitle('WF prop through SM, still in pupil plane')\n",
    "\n",
    "plt.subplot(1, 2, 1)\n",
    "imshow_field(wf_at_sm.intensity, mask=aper)\n",
    "plt.title('Intensity')\n",
    "plt.colorbar()\n",
    "\n",
    "plt.subplot(1, 2, 2)\n",
    "imshow_field(wf_at_sm.phase, mask=aper, cmap='RdBu')\n",
    "plt.title('Phase')\n",
    "plt.colorbar()"
   ]
  },
  {
   "cell_type": "markdown",
   "metadata": {},
   "source": [
    "### Propagate from SM pupil to image"
   ]
  },
  {
   "cell_type": "code",
   "execution_count": null,
   "metadata": {},
   "outputs": [],
   "source": [
    "# Propagate from SM to image plane and display intensity and phase\n",
    "im = prop(sm(wf))\n",
    "\n",
    "plt.figure(figsize=(18, 9))\n",
    "plt.suptitle('Image plane after SM')\n",
    "\n",
    "plt.subplot(1, 2, 1)\n",
    "imshow_field(np.log10(im.intensity))\n",
    "plt.title('Intensity')\n",
    "plt.colorbar()\n",
    "\n",
    "plt.subplot(1, 2, 2)\n",
    "imshow_field(im.phase, cmap='RdBu')\n",
    "plt.title('Phase')\n",
    "plt.colorbar()"
   ]
  },
  {
   "cell_type": "markdown",
   "metadata": {},
   "source": [
    "### Set segment coefficients for new OPD"
   ]
  },
  {
   "cell_type": "code",
   "execution_count": null,
   "metadata": {},
   "outputs": [],
   "source": [
    "# Set some of the segment coefficients\n",
    "\n",
    "# either by directly talking to self.coef\n",
    "#sm.coef[0] = (0.001, 0, 0)\n",
    "print(sm.coef)"
   ]
  },
  {
   "cell_type": "code",
   "execution_count": null,
   "metadata": {},
   "outputs": [],
   "source": [
    "# or by using set_segment\n",
    "aber_m = 50e-9\n",
    "#sm.set_segment(36, aber_m, 0, 0)\n",
    "#sm.set_segment(35, aber_m, 000, 0d0)\n",
    "for i in [2, 34, 3, 19, 23,]:\n",
    "    sm.set_segment(i, 0, aber_m, aber_m)\n",
    "print(sm.coef)"
   ]
  },
  {
   "cell_type": "markdown",
   "metadata": {},
   "source": [
    "#### Get the WF at pupil"
   ]
  },
  {
   "cell_type": "code",
   "execution_count": null,
   "metadata": {},
   "outputs": [],
   "source": [
    "# Get the OPD with those coeffs\n",
    "wf_at_sm2 = sm(wf)\n",
    "\n",
    "plt.figure(figsize=(18, 9))\n",
    "plt.suptitle('WF prop through SM, still in pupil plane')\n",
    "\n",
    "plt.subplot(1, 2, 1)\n",
    "imshow_field(wf_at_sm2.intensity, mask=aper)\n",
    "plt.title('Intensity')\n",
    "plt.colorbar()\n",
    "\n",
    "plt.subplot(1, 2, 2)\n",
    "imshow_field(wf_at_sm2.phase, mask=aper, cmap='RdBu')\n",
    "plt.title('Phase')\n",
    "plt.colorbar()"
   ]
  },
  {
   "cell_type": "markdown",
   "metadata": {},
   "source": [
    "#### Propagate the WF to image plane"
   ]
  },
  {
   "cell_type": "code",
   "execution_count": null,
   "metadata": {},
   "outputs": [],
   "source": [
    "# Show the image of that\n",
    "im = prop(sm(wf))\n",
    "\n",
    "plt.figure(figsize=(18, 9))\n",
    "plt.suptitle('Image plane after SM')\n",
    "\n",
    "plt.subplot(1, 2, 1)\n",
    "imshow_field(np.log10(im.intensity))\n",
    "plt.title('Intensity')\n",
    "plt.colorbar()\n",
    "\n",
    "plt.subplot(1, 2, 2)\n",
    "imshow_field(im.phase, cmap='RdBu')\n",
    "plt.title('Phase')\n",
    "plt.colorbar()"
   ]
  },
  {
   "cell_type": "markdown",
   "metadata": {},
   "source": [
    "#### Flatten the SM"
   ]
  },
  {
   "cell_type": "code",
   "execution_count": null,
   "metadata": {},
   "outputs": [],
   "source": [
    "sm.flatten()"
   ]
  },
  {
   "cell_type": "code",
   "execution_count": null,
   "metadata": {},
   "outputs": [],
   "source": []
  }
 ],
 "metadata": {
  "kernelspec": {
   "display_name": "Python 3",
   "language": "python",
   "name": "python3"
  },
  "language_info": {
   "codemirror_mode": {
    "name": "ipython",
    "version": 3
   },
   "file_extension": ".py",
   "mimetype": "text/x-python",
   "name": "python",
   "nbconvert_exporter": "python",
   "pygments_lexer": "ipython3",
   "version": "3.7.8"
  }
 },
 "nbformat": 4,
 "nbformat_minor": 2
}
