{
 "cells": [
  {
   "cell_type": "markdown",
   "id": "bacf0986",
   "metadata": {},
   "source": [
    "### Test area\n",
    "WebbPSF CGI test"
   ]
  },
  {
   "cell_type": "code",
   "execution_count": null,
   "id": "7426bdd9",
   "metadata": {},
   "outputs": [],
   "source": [
    "%pylab inline --no-import-all\n",
    "matplotlib.rcParams['image.origin'] = 'lower'\n",
    "matplotlib.rcParams['image.interpolation'] = 'nearest'\n",
    "\n",
    "import os\n",
    "os.environ['WEBBPSF_PATH'] = '/home/marken/GitHub/webbpsf_data'\n",
    "import webbpsf\n",
    "from webbpsf import roman\n",
    "import ipywidgets\n",
    "from astropy.io import fits\n",
    "\n",
    "webbpsf.setup_logging()\n",
    "\n",
    "DM_on = roman.CGI(mode='CHARSPC_F770')\n",
    "DM_on.dm1.set_actuator(15, 15, 1e-6)\n",
    "DM_on.dm1.set_actuator(37, 37, 1e-6)\n",
    "\n",
    "DM_on.raw_contrast(display=True)"
   ]
  },
  {
   "cell_type": "code",
   "execution_count": null,
   "id": "4af743cf",
   "metadata": {},
   "outputs": [],
   "source": [
    "DM_on.dm1.display()"
   ]
  },
  {
   "cell_type": "code",
   "execution_count": 1,
   "id": "5658351a",
   "metadata": {},
   "outputs": [],
   "source": [
    "import logging\n",
    "log = logging.getLogger()\n",
    "mplfm_logger = logging.getLogger('matplotlib.font_manager')\n",
    "mplcb_logger = logging.getLogger('matplotlib.colorbar')\n",
    "mplt_logger = logging.getLogger('matplotlib.ticker')\n",
    "mplbe_logger = logging.getLogger('matplotlib.backends')\n",
    "\n",
    "mplfm_logger.setLevel(logging.WARNING)\n",
    "mplcb_logger.setLevel(logging.WARNING)\n",
    "mplt_logger.setLevel(logging.WARNING)\n",
    "mplbe_logger.setLevel(logging.WARNING)"
   ]
  },
  {
   "cell_type": "markdown",
   "id": "056c0075",
   "metadata": {},
   "source": [
    "PASTIS test"
   ]
  },
  {
   "cell_type": "code",
   "execution_count": 2,
   "id": "eec2a303",
   "metadata": {},
   "outputs": [],
   "source": [
    "from pastis.config import CONFIG_PASTIS\n",
    "from pastis.hockeystick_contrast_curve import hockeystick_curve\n",
    "from pastis.matrix_generation.matrix_building_numerical import MatrixIntensityRST\n",
    "from pastis.pastis_analysis import run_full_pastis_analysis\n",
    "import pastis.util as util\n",
    "import os"
   ]
  },
  {
   "cell_type": "code",
   "execution_count": null,
   "id": "f93cedb3",
   "metadata": {},
   "outputs": [
    {
     "name": "stdout",
     "output_type": "stream",
     "text": [
      "/home/marken/GitHub/pastis_data\n",
      "\n",
      "2021-06-17 09:14:19,916 - root - INFO - LOG SETUP: Console will display messages of INFO or higher\n",
      "2021-06-17 09:14:19,917 - root - INFO - LOG SETUP: Experiment log will save messages of INFO or higher to /home/marken/GitHub/pastis_data/2021-06-17T09-14-19_rst/matrix_numerical/pastis_matrix_rst.log\n",
      "2021-06-17 09:14:19,918 - root - INFO - Building numerical matrix for rst\n",
      "\n",
      "2021-06-17 09:14:19,919 - root - INFO - Instrument: rst\n",
      "2021-06-17 09:14:19,921 - root - INFO - Wavelength: 7.7e-07 m\n",
      "2021-06-17 09:14:19,921 - root - INFO - Number of segments: 16\n",
      "2021-06-17 09:14:19,922 - root - INFO - Segment list: [ 0  1  2  3  4  5  6  7  8  9 10 11 12 13 14 15]\n",
      "2021-06-17 09:14:19,923 - root - INFO - wfe_aber: 5e-09 m\n",
      "Saving the configfile to outputs folder.\n",
      "2021-06-17 09:14:19,924 - root - INFO - Total number of actuator pairs in RST pupil: 256\n",
      "2021-06-17 09:14:19,925 - root - INFO - Non-repeating pairs in RST pupil calculated here: 136\n",
      "WebbPSF log messages of level ERROR and above will be shown.\n",
      "WebbPSF log outputs will be directed to the screen.\n",
      "[   root] contrast floor: 4.3997392100901295e-09\n",
      "[   root] Multiprocess PASTIS matrix for RST will use 4 processes (with 1 threads per process)\n",
      "WebbPSF log messages of level ERROR and above will be shown.WebbPSF log messages of level ERROR and above will be shown.\n",
      "\n",
      "WebbPSF log messages of level ERROR and above will be shown.WebbPSF log messages of level ERROR and above will be shown.\n",
      "\n",
      "WebbPSF log outputs will be directed to the screen.WebbPSF log outputs will be directed to the screen.WebbPSF log outputs will be directed to the screen.WebbPSF log outputs will be directed to the screen.\n",
      "\n",
      "[   root] PAIR: 1-12\n",
      "\n",
      "\n",
      "[   root] Calculating coro image...\n",
      "[   root] PAIR: 0-0\n",
      "[   root] PAIR: 1-3\n",
      "[   root] Calculating coro image...\n",
      "[   root] PAIR: 0-9\n",
      "[   root] Calculating coro image...\n",
      "[   root] Calculating coro image...\n",
      "WebbPSF log messages of level ERROR and above will be shown.\n",
      "WebbPSF log messages of level ERROR and above will be shown.\n",
      "WebbPSF log outputs will be directed to the screen.WebbPSF log outputs will be directed to the screen.\n",
      "WebbPSF log messages of level ERROR and above will be shown.\n",
      "\n",
      "[   root] PAIR: 0-1\n",
      "WebbPSF log outputs will be directed to the screen.[   root] PAIR: 1-13\n",
      "\n",
      "[   root] PAIR: 0-10\n",
      "[   root] Calculating coro image...\n",
      "[   root] Calculating coro image...\n",
      "[   root] Calculating coro image...\n",
      "WebbPSF log messages of level ERROR and above will be shown.\n",
      "WebbPSF log outputs will be directed to the screen.\n",
      "[   root] PAIR: 1-4\n",
      "[   root] Calculating coro image...\n",
      "WebbPSF log messages of level ERROR and above will be shown.\n",
      "WebbPSF log outputs will be directed to the screen.\n",
      "[   root] PAIR: 0-11\n",
      "[   root] Calculating coro image...\n",
      "WebbPSF log messages of level ERROR and above will be shown.\n",
      "WebbPSF log messages of level ERROR and above will be shown.\n",
      "WebbPSF log outputs will be directed to the screen.WebbPSF log outputs will be directed to the screen.\n",
      "[   root] PAIR: 1-14\n",
      "\n",
      "[   root] Calculating coro image...\n",
      "[   root] PAIR: 0-2\n",
      "[   root] Calculating coro image...\n",
      "WebbPSF log messages of level ERROR and above will be shown.\n",
      "WebbPSF log outputs will be directed to the screen.\n",
      "[   root] PAIR: 1-5\n",
      "[   root] Calculating coro image...\n",
      "WebbPSF log messages of level ERROR and above will be shown.\n",
      "WebbPSF log outputs will be directed to the screen.\n",
      "[   root] PAIR: 0-12\n",
      "[   root] Calculating coro image...\n",
      "WebbPSF log messages of level ERROR and above will be shown.WebbPSF log messages of level ERROR and above will be shown.\n",
      "\n",
      "WebbPSF log outputs will be directed to the screen.WebbPSF log outputs will be directed to the screen.\n",
      "\n",
      "[   root] PAIR: 1-15\n",
      "[   root] PAIR: 0-3\n",
      "[   root] Calculating coro image...\n",
      "[   root] Calculating coro image...\n",
      "WebbPSF log messages of level ERROR and above will be shown.\n",
      "WebbPSF log outputs will be directed to the screen.\n",
      "[   root] PAIR: 1-6\n",
      "[   root] Calculating coro image...\n",
      "WebbPSF log messages of level ERROR and above will be shown.\n",
      "WebbPSF log outputs will be directed to the screen.\n",
      "[   root] PAIR: 0-4\n",
      "[   root] Calculating coro image...\n",
      "WebbPSF log messages of level ERROR and above will be shown.\n",
      "WebbPSF log messages of level ERROR and above will be shown.WebbPSF log messages of level ERROR and above will be shown.\n",
      "\n",
      "WebbPSF log outputs will be directed to the screen.\n",
      "WebbPSF log outputs will be directed to the screen.WebbPSF log outputs will be directed to the screen.\n",
      "[   root] PAIR: 2-2\n",
      "\n",
      "[   root] Calculating coro image...\n",
      "[   root] PAIR: 1-7\n",
      "[   root] PAIR: 0-13\n",
      "[   root] Calculating coro image...\n",
      "[   root] Calculating coro image...\n",
      "WebbPSF log messages of level ERROR and above will be shown.\n",
      "WebbPSF log outputs will be directed to the screen.\n",
      "WebbPSF log messages of level ERROR and above will be shown.[   root] PAIR: 0-5\n",
      "\n",
      "WebbPSF log outputs will be directed to the screen.[   root] Calculating coro image...\n",
      "\n",
      "[   root] PAIR: 1-8\n",
      "[   root] Calculating coro image...\n",
      "WebbPSF log messages of level ERROR and above will be shown.\n",
      "WebbPSF log outputs will be directed to the screen.\n",
      "[   root] PAIR: 0-14\n",
      "[   root] Calculating coro image...\n",
      "WebbPSF log messages of level ERROR and above will be shown.\n",
      "WebbPSF log outputs will be directed to the screen.\n",
      "[   root] PAIR: 2-3\n",
      "[   root] Calculating coro image...\n",
      "WebbPSF log messages of level ERROR and above will be shown.\n",
      "WebbPSF log outputs will be directed to the screen.\n",
      "[   root] PAIR: 0-6\n",
      "[   root] Calculating coro image...\n",
      "WebbPSF log messages of level ERROR and above will be shown.\n",
      "WebbPSF log outputs will be directed to the screen.\n",
      "[   root] PAIR: 0-15\n",
      "[   root] Calculating coro image...\n",
      "WebbPSF log messages of level ERROR and above will be shown.\n",
      "WebbPSF log outputs will be directed to the screen.\n",
      "[   root] PAIR: 2-4\n",
      "[   root] Calculating coro image...\n",
      "WebbPSF log messages of level ERROR and above will be shown.\n",
      "WebbPSF log outputs will be directed to the screen.\n",
      "[   root] PAIR: 1-9\n",
      "[   root] Calculating coro image...\n",
      "WebbPSF log messages of level ERROR and above will be shown.\n",
      "WebbPSF log outputs will be directed to the screen.\n",
      "[   root] PAIR: 0-7\n",
      "[   root] Calculating coro image...\n",
      "WebbPSF log messages of level ERROR and above will be shown.\n",
      "WebbPSF log outputs will be directed to the screen.\n",
      "[   root] PAIR: 2-5\n",
      "WebbPSF log messages of level ERROR and above will be shown.\n",
      "WebbPSF log outputs will be directed to the screen.\n",
      "[   root] Calculating coro image...\n",
      "[   root] PAIR: 1-10\n",
      "[   root] Calculating coro image...\n",
      "WebbPSF log messages of level ERROR and above will be shown.\n",
      "WebbPSF log outputs will be directed to the screen.\n",
      "[   root] PAIR: 1-1\n",
      "[   root] Calculating coro image...\n",
      "WebbPSF log messages of level ERROR and above will be shown.\n",
      "WebbPSF log outputs will be directed to the screen.\n",
      "[   root] PAIR: 0-8\n",
      "[   root] Calculating coro image...\n",
      "WebbPSF log messages of level ERROR and above will be shown.WebbPSF log messages of level ERROR and above will be shown.\n",
      "\n",
      "WebbPSF log outputs will be directed to the screen.WebbPSF log outputs will be directed to the screen.\n",
      "\n",
      "[   root] PAIR: 1-2\n",
      "[   root] Calculating coro image...\n",
      "[   root] PAIR: 1-11\n",
      "WebbPSF log messages of level ERROR and above will be shown.\n",
      "WebbPSF log outputs will be directed to the screen.[   root] Calculating coro image...\n",
      "\n",
      "[   root] PAIR: 2-6\n",
      "[   root] Calculating coro image...\n"
     ]
    }
   ],
   "source": [
    "run_matrix = MatrixIntensityRST(initial_path=CONFIG_PASTIS.get('local', 'local_data_path'))\n",
    "run_matrix.calc()\n",
    "dir_run = run_matrix.overall_dir\n",
    "util.setup_pastis_logging(dir_run, 'pastis_analysis')\n",
    "result_dir = os.path.join(dir_run, 'results')\n",
    "matrix_dir = os.path.join(dir_run, 'matrix_numerical')\n",
    "hockeystick_curve(instrument='RST', matrixdir=matrix_dir, resultdir=result_dir, range_points=10, no_realizations=3)"
   ]
  },
  {
   "cell_type": "code",
   "execution_count": null,
   "id": "29238a2e",
   "metadata": {},
   "outputs": [],
   "source": [
    "run_full_pastis_analysis(instrument='RST', run_choice=dir_run, c_target=1e-8)"
   ]
  },
  {
   "cell_type": "code",
   "execution_count": null,
   "id": "e4e37679",
   "metadata": {},
   "outputs": [],
   "source": [
    "test = '/home/marken/GitHub/pastis_data/2021-06-07T09-20-43_rst'\n",
    "test2 = '/home/marken/GitHub/pastis_data/2021-06-07T09-20-43_rst/matrix_numerical'\n",
    "hockeystick_curve(instrument='RST', matrixdir=test2, resultdir=test, range_points=10, no_realizations=3)\n",
    "#run_full_pastis_analysis(instrument='RST', run_choice=test, c_target=1e-8)"
   ]
  },
  {
   "cell_type": "code",
   "execution_count": null,
   "id": "a728f4d5",
   "metadata": {},
   "outputs": [],
   "source": []
  },
  {
   "cell_type": "code",
   "execution_count": null,
   "id": "fb71ebe8",
   "metadata": {},
   "outputs": [],
   "source": [
    "contrast = np.arange(long*(nb_actu)**2).reshape(long, (nb_actu)**2)"
   ]
  },
  {
   "cell_type": "code",
   "execution_count": null,
   "id": "9f9b74b9",
   "metadata": {},
   "outputs": [],
   "source": [
    "contrast"
   ]
  },
  {
   "cell_type": "code",
   "execution_count": null,
   "id": "c49362a6",
   "metadata": {},
   "outputs": [],
   "source": [
    "import numpy as np\n",
    "import matplotlib.pyplot as plt"
   ]
  },
  {
   "cell_type": "code",
   "execution_count": null,
   "id": "fc6523af",
   "metadata": {},
   "outputs": [],
   "source": [
    "long = 75\n",
    "nb_actu = 6\n",
    "\n",
    "abb_list = [0.2*i*10**(-5-2*i%5) for i in range(long)]\n",
    "#contrast = np.arange(long*(nb_actu)**2).reshape(long, (nb_actu)**2)\n",
    "contrast = [i for i in range(long)]\n",
    "sim_instance = roman.CGI(mode='CHARSPC_F770', nbactuator=nb_actu)\n",
    "seg = 17\n",
    "\n",
    "#for j in range(nb_actu**2):\n",
    "for i in range(long):\n",
    "    sim_instance.dm1.flatten()\n",
    "    actu_x, actu_y = util.continous_dm_coo(nb_actu, seg)\n",
    "    sim_instance.dm1.set_actuator(actu_x, actu_y, abb_list[i])\n",
    "    contrast[i] = sim_instance.raw_contrast()\n"
   ]
  },
  {
   "cell_type": "code",
   "execution_count": null,
   "id": "a4885f78",
   "metadata": {},
   "outputs": [],
   "source": [
    "log_contrast = np.log10(contrast)\n",
    "log_abb = np.log10(abb_list)\n",
    "\n",
    "plt.scatter(log_abb,log_contrast)\n",
    "plt.xlabel('log amplitude actuator(m)')\n",
    "plt.ylabel('log contrast')\n",
    "plt.show()"
   ]
  },
  {
   "cell_type": "code",
   "execution_count": null,
   "id": "8eaac635",
   "metadata": {},
   "outputs": [],
   "source": []
  },
  {
   "cell_type": "code",
   "execution_count": null,
   "id": "50265d46",
   "metadata": {},
   "outputs": [],
   "source": [
    "sim_instance.raw_contrast()"
   ]
  },
  {
   "cell_type": "code",
   "execution_count": null,
   "id": "f9eda045",
   "metadata": {},
   "outputs": [],
   "source": []
  }
 ],
 "metadata": {
  "kernelspec": {
   "display_name": "Python 3",
   "language": "python",
   "name": "python3"
  },
  "language_info": {
   "codemirror_mode": {
    "name": "ipython",
    "version": 3
   },
   "file_extension": ".py",
   "mimetype": "text/x-python",
   "name": "python",
   "nbconvert_exporter": "python",
   "pygments_lexer": "ipython3",
   "version": "3.7.10"
  }
 },
 "nbformat": 4,
 "nbformat_minor": 5
}
