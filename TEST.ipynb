{
 "cells": [
  {
   "cell_type": "markdown",
   "id": "bacf0986",
   "metadata": {},
   "source": [
    "### Test area\n",
    "WebbPSF CGI test"
   ]
  },
  {
   "cell_type": "code",
   "execution_count": null,
   "id": "7426bdd9",
   "metadata": {},
   "outputs": [],
   "source": [
    "%pylab inline --no-import-all\n",
    "matplotlib.rcParams['image.origin'] = 'lower'\n",
    "matplotlib.rcParams['image.interpolation'] = 'nearest'\n",
    "\n",
    "import os\n",
    "os.environ['WEBBPSF_PATH'] = '/home/marken/GitHub/webbpsf_data'\n",
    "import webbpsf\n",
    "from webbpsf import roman\n",
    "import ipywidgets\n",
    "from astropy.io import fits\n",
    "\n",
    "webbpsf.setup_logging()\n",
    "\n",
    "DM_on = roman.CGI(mode='CHARSPC_F770')\n",
    "DM_on.dm1.set_actuator(15, 15, 1e-6)\n",
    "DM_on.dm1.set_actuator(37, 37, 1e-6)\n",
    "\n",
    "DM_on.raw_contrast(display=True)"
   ]
  },
  {
   "cell_type": "code",
   "execution_count": null,
   "id": "4af743cf",
   "metadata": {},
   "outputs": [],
   "source": [
    "DM_on.dm1.display()"
   ]
  },
  {
   "cell_type": "code",
   "execution_count": 1,
   "id": "5658351a",
   "metadata": {},
   "outputs": [],
   "source": [
    "import logging\n",
    "log = logging.getLogger()\n",
    "mplfm_logger = logging.getLogger('matplotlib.font_manager')\n",
    "mplcb_logger = logging.getLogger('matplotlib.colorbar')\n",
    "mplt_logger = logging.getLogger('matplotlib.ticker')\n",
    "mplbe_logger = logging.getLogger('matplotlib.backends')\n",
    "\n",
    "mplfm_logger.setLevel(logging.WARNING)\n",
    "mplcb_logger.setLevel(logging.WARNING)\n",
    "mplt_logger.setLevel(logging.WARNING)\n",
    "mplbe_logger.setLevel(logging.WARNING)"
   ]
  },
  {
   "cell_type": "markdown",
   "id": "056c0075",
   "metadata": {},
   "source": [
    "PASTIS test"
   ]
  },
  {
   "cell_type": "code",
   "execution_count": 2,
   "id": "eec2a303",
   "metadata": {},
   "outputs": [],
   "source": [
    "from pastis.config import CONFIG_PASTIS\n",
    "from pastis.hockeystick_contrast_curve import hockeystick_curve\n",
    "from pastis.matrix_generation.matrix_building_numerical import MatrixIntensityRST\n",
    "from pastis.pastis_analysis import run_full_pastis_analysis\n",
    "from pastis.matrix_generation.matrix_from_efields import MatrixEfieldRST\n",
    "\n",
    "import pastis.util as util\n",
    "import os"
   ]
  },
  {
   "cell_type": "code",
   "execution_count": null,
   "id": "f93cedb3",
   "metadata": {},
   "outputs": [],
   "source": [
    "run_matrix = MatrixIntensityRST(initial_path=CONFIG_PASTIS.get('local', 'local_data_path'))\n",
    "run_matrix.calc()\n",
    "dir_run = run_matrix.overall_dir\n",
    "util.setup_pastis_logging(dir_run, 'pastis_analysis')\n",
    "result_dir = os.path.join(dir_run, 'results')\n",
    "matrix_dir = os.path.join(dir_run, 'matrix_numerical')\n",
    "hockeystick_curve(instrument='RST', matrixdir=matrix_dir, resultdir=result_dir, range_points=10, no_realizations=3)"
   ]
  },
  {
   "cell_type": "code",
   "execution_count": null,
   "id": "29238a2e",
   "metadata": {},
   "outputs": [],
   "source": [
    "run_full_pastis_analysis(instrument='RST', run_choice=dir_run, c_target=1e-8)"
   ]
  },
  {
   "cell_type": "code",
   "execution_count": null,
   "id": "e4e37679",
   "metadata": {},
   "outputs": [],
   "source": [
    "test = '/home/marken/GitHub/pastis_data/2021-06-07T09-20-43_rst'\n",
    "test2 = '/home/marken/GitHub/pastis_data/2021-06-07T09-20-43_rst/matrix_numerical'\n",
    "hockeystick_curve(instrument='RST', matrixdir=test2, resultdir=test, range_points=10, no_realizations=3)\n",
    "#run_full_pastis_analysis(instrument='RST', run_choice=test, c_target=1e-8)"
   ]
  },
  {
   "cell_type": "code",
   "execution_count": 3,
   "id": "a728f4d5",
   "metadata": {},
   "outputs": [
    {
     "name": "stdout",
     "output_type": "stream",
     "text": [
      "/home/marken/GitHub/pastis_data\n",
      "\n",
      "2021-06-17 16:39:37,617 - root - INFO - LOG SETUP: Console will display messages of INFO or higher\n",
      "2021-06-17 16:39:37,621 - root - INFO - LOG SETUP: Experiment log will save messages of INFO or higher to /home/marken/GitHub/pastis_data/2021-06-17T16-39-37_rst/matrix_numerical/pastis_matrix_rst.log\n",
      "2021-06-17 16:39:37,623 - root - INFO - Building numerical matrix for rst\n",
      "\n",
      "2021-06-17 16:39:37,624 - root - INFO - Instrument: rst\n",
      "2021-06-17 16:39:37,624 - root - INFO - Wavelength: 7.7e-07 m\n",
      "2021-06-17 16:39:37,625 - root - INFO - Number of segments: 4\n",
      "2021-06-17 16:39:37,625 - root - INFO - Segment list: [0 1 2 3]\n",
      "2021-06-17 16:39:37,626 - root - INFO - wfe_aber: 5e-09 m\n",
      "Saving the configfile to outputs folder.\n",
      "WebbPSF log messages of level ERROR and above will be shown.\n",
      "WebbPSF log outputs will be directed to the screen.\n",
      "[   root] Creating segmented mirror with 3 local modes each...\n",
      "4\n",
      "[   root] Total number of modes: 4\n",
      "[   root] MODE NUMBER: 0\n",
      "[   root] MODE NUMBER: 1\n",
      "[   root] MODE NUMBER: 2\n",
      "[   root] MODE NUMBER: 3\n"
     ]
    },
    {
     "ename": "ValueError",
     "evalue": "operands could not be broadcast together with shapes (800,800) (256,256) ",
     "output_type": "error",
     "traceback": [
      "\u001b[0;31m---------------------------------------------------------------------------\u001b[0m",
      "\u001b[0;31mValueError\u001b[0m                                Traceback (most recent call last)",
      "\u001b[0;32m<ipython-input-3-ec994cacdc61>\u001b[0m in \u001b[0;36m<module>\u001b[0;34m\u001b[0m\n\u001b[1;32m      1\u001b[0m \u001b[0mrun_matrix\u001b[0m \u001b[0;34m=\u001b[0m \u001b[0mMatrixEfieldRST\u001b[0m\u001b[0;34m(\u001b[0m\u001b[0minitial_path\u001b[0m\u001b[0;34m=\u001b[0m\u001b[0mCONFIG_PASTIS\u001b[0m\u001b[0;34m.\u001b[0m\u001b[0mget\u001b[0m\u001b[0;34m(\u001b[0m\u001b[0;34m'local'\u001b[0m\u001b[0;34m,\u001b[0m \u001b[0;34m'local_data_path'\u001b[0m\u001b[0;34m)\u001b[0m\u001b[0;34m)\u001b[0m\u001b[0;34m\u001b[0m\u001b[0;34m\u001b[0m\u001b[0m\n\u001b[0;32m----> 2\u001b[0;31m \u001b[0mrun_matrix\u001b[0m\u001b[0;34m.\u001b[0m\u001b[0mcalc\u001b[0m\u001b[0;34m(\u001b[0m\u001b[0;34m)\u001b[0m\u001b[0;34m\u001b[0m\u001b[0;34m\u001b[0m\u001b[0m\n\u001b[0m\u001b[1;32m      3\u001b[0m \u001b[0mdir_run\u001b[0m \u001b[0;34m=\u001b[0m \u001b[0mrun_matrix\u001b[0m\u001b[0;34m.\u001b[0m\u001b[0moverall_dir\u001b[0m\u001b[0;34m\u001b[0m\u001b[0;34m\u001b[0m\u001b[0m\n\u001b[1;32m      4\u001b[0m \u001b[0mutil\u001b[0m\u001b[0;34m.\u001b[0m\u001b[0msetup_pastis_logging\u001b[0m\u001b[0;34m(\u001b[0m\u001b[0mdir_run\u001b[0m\u001b[0;34m,\u001b[0m \u001b[0;34m'pastis_analysis'\u001b[0m\u001b[0;34m)\u001b[0m\u001b[0;34m\u001b[0m\u001b[0;34m\u001b[0m\u001b[0m\n\u001b[1;32m      5\u001b[0m \u001b[0mresult_dir\u001b[0m \u001b[0;34m=\u001b[0m \u001b[0mos\u001b[0m\u001b[0;34m.\u001b[0m\u001b[0mpath\u001b[0m\u001b[0;34m.\u001b[0m\u001b[0mjoin\u001b[0m\u001b[0;34m(\u001b[0m\u001b[0mdir_run\u001b[0m\u001b[0;34m,\u001b[0m \u001b[0;34m'results'\u001b[0m\u001b[0;34m)\u001b[0m\u001b[0;34m\u001b[0m\u001b[0;34m\u001b[0m\u001b[0m\n",
      "\u001b[0;32m~/GitHub/PASTIS-RST/pastis/matrix_generation/matrix_from_efields.py\u001b[0m in \u001b[0;36mcalc\u001b[0;34m(self)\u001b[0m\n\u001b[1;32m     41\u001b[0m         \u001b[0mself\u001b[0m\u001b[0;34m.\u001b[0m\u001b[0msetup_single_mode_function\u001b[0m\u001b[0;34m(\u001b[0m\u001b[0;34m)\u001b[0m\u001b[0;34m\u001b[0m\u001b[0;34m\u001b[0m\u001b[0m\n\u001b[1;32m     42\u001b[0m         \u001b[0mself\u001b[0m\u001b[0;34m.\u001b[0m\u001b[0mcalculate_efields\u001b[0m\u001b[0;34m(\u001b[0m\u001b[0;34m)\u001b[0m\u001b[0;34m\u001b[0m\u001b[0;34m\u001b[0m\u001b[0m\n\u001b[0;32m---> 43\u001b[0;31m         \u001b[0mself\u001b[0m\u001b[0;34m.\u001b[0m\u001b[0mcalculate_pastis_matrix_from_efields\u001b[0m\u001b[0;34m(\u001b[0m\u001b[0;34m)\u001b[0m\u001b[0;34m\u001b[0m\u001b[0;34m\u001b[0m\u001b[0m\n\u001b[0m\u001b[1;32m     44\u001b[0m \u001b[0;34m\u001b[0m\u001b[0m\n\u001b[1;32m     45\u001b[0m         \u001b[0mend_time\u001b[0m \u001b[0;34m=\u001b[0m \u001b[0mtime\u001b[0m\u001b[0;34m.\u001b[0m\u001b[0mtime\u001b[0m\u001b[0;34m(\u001b[0m\u001b[0;34m)\u001b[0m\u001b[0;34m\u001b[0m\u001b[0;34m\u001b[0m\u001b[0m\n",
      "\u001b[0;32m~/GitHub/PASTIS-RST/pastis/matrix_generation/matrix_from_efields.py\u001b[0m in \u001b[0;36mcalculate_pastis_matrix_from_efields\u001b[0;34m(self)\u001b[0m\n\u001b[1;32m     54\u001b[0m \u001b[0;34m\u001b[0m\u001b[0m\n\u001b[1;32m     55\u001b[0m     \u001b[0;32mdef\u001b[0m \u001b[0mcalculate_pastis_matrix_from_efields\u001b[0m\u001b[0;34m(\u001b[0m\u001b[0mself\u001b[0m\u001b[0;34m)\u001b[0m\u001b[0;34m:\u001b[0m\u001b[0;34m\u001b[0m\u001b[0;34m\u001b[0m\u001b[0m\n\u001b[0;32m---> 56\u001b[0;31m         \u001b[0mself\u001b[0m\u001b[0;34m.\u001b[0m\u001b[0mmatrix_pastis\u001b[0m \u001b[0;34m=\u001b[0m \u001b[0mpastis_matrix_from_efields\u001b[0m\u001b[0;34m(\u001b[0m\u001b[0mself\u001b[0m\u001b[0;34m.\u001b[0m\u001b[0mefields_per_mode\u001b[0m\u001b[0;34m,\u001b[0m \u001b[0mself\u001b[0m\u001b[0;34m.\u001b[0m\u001b[0mefield_ref\u001b[0m\u001b[0;34m,\u001b[0m \u001b[0mself\u001b[0m\u001b[0;34m.\u001b[0m\u001b[0mnorm\u001b[0m\u001b[0;34m,\u001b[0m \u001b[0mself\u001b[0m\u001b[0;34m.\u001b[0m\u001b[0mdh_mask\u001b[0m\u001b[0;34m,\u001b[0m \u001b[0mself\u001b[0m\u001b[0;34m.\u001b[0m\u001b[0mwfe_aber\u001b[0m\u001b[0;34m)\u001b[0m\u001b[0;34m\u001b[0m\u001b[0;34m\u001b[0m\u001b[0m\n\u001b[0m\u001b[1;32m     57\u001b[0m \u001b[0;34m\u001b[0m\u001b[0m\n\u001b[1;32m     58\u001b[0m         \u001b[0;31m# Save matrix to file\u001b[0m\u001b[0;34m\u001b[0m\u001b[0;34m\u001b[0m\u001b[0;34m\u001b[0m\u001b[0m\n",
      "\u001b[0;32m~/GitHub/PASTIS-RST/pastis/matrix_generation/matrix_from_efields.py\u001b[0m in \u001b[0;36mpastis_matrix_from_efields\u001b[0;34m(electric_fields, efield_ref, direct_norm, dh_mask, wfe_aber)\u001b[0m\n\u001b[1;32m     78\u001b[0m \u001b[0;34m\u001b[0m\u001b[0m\n\u001b[1;32m     79\u001b[0m     \u001b[0;31m# Calculate the semi-analytical PASTIS matrix from the individual E-fields\u001b[0m\u001b[0;34m\u001b[0m\u001b[0;34m\u001b[0m\u001b[0;34m\u001b[0m\u001b[0m\n\u001b[0;32m---> 80\u001b[0;31m     \u001b[0mmatrix_pastis_half\u001b[0m \u001b[0;34m=\u001b[0m \u001b[0mcalculate_semi_analytic_pastis_from_efields\u001b[0m\u001b[0;34m(\u001b[0m\u001b[0melectric_fields\u001b[0m\u001b[0;34m,\u001b[0m \u001b[0mefield_ref\u001b[0m\u001b[0;34m,\u001b[0m \u001b[0mdirect_norm\u001b[0m\u001b[0;34m,\u001b[0m \u001b[0mdh_mask\u001b[0m\u001b[0;34m)\u001b[0m\u001b[0;34m\u001b[0m\u001b[0;34m\u001b[0m\u001b[0m\n\u001b[0m\u001b[1;32m     81\u001b[0m \u001b[0;34m\u001b[0m\u001b[0m\n\u001b[1;32m     82\u001b[0m     \u001b[0;31m# Symmetrize the half-PASTIS matrix\u001b[0m\u001b[0;34m\u001b[0m\u001b[0;34m\u001b[0m\u001b[0;34m\u001b[0m\u001b[0m\n",
      "\u001b[0;32m~/GitHub/PASTIS-RST/pastis/matrix_generation/matrix_from_efields.py\u001b[0m in \u001b[0;36mcalculate_semi_analytic_pastis_from_efields\u001b[0;34m(efields, efield_ref, direct_norm, dh_mask)\u001b[0m\n\u001b[1;32m     97\u001b[0m \u001b[0;34m\u001b[0m\u001b[0m\n\u001b[1;32m     98\u001b[0m     \u001b[0;32mfor\u001b[0m \u001b[0mpair\u001b[0m \u001b[0;32min\u001b[0m \u001b[0mutil\u001b[0m\u001b[0;34m.\u001b[0m\u001b[0msegment_pairs_non_repeating\u001b[0m\u001b[0;34m(\u001b[0m\u001b[0mnb_modes\u001b[0m\u001b[0;34m)\u001b[0m\u001b[0;34m:\u001b[0m\u001b[0;34m\u001b[0m\u001b[0;34m\u001b[0m\u001b[0m\n\u001b[0;32m---> 99\u001b[0;31m         \u001b[0mintensity_im\u001b[0m \u001b[0;34m=\u001b[0m \u001b[0mnp\u001b[0m\u001b[0;34m.\u001b[0m\u001b[0mreal\u001b[0m\u001b[0;34m(\u001b[0m\u001b[0;34m(\u001b[0m\u001b[0mefields\u001b[0m\u001b[0;34m[\u001b[0m\u001b[0mpair\u001b[0m\u001b[0;34m[\u001b[0m\u001b[0;36m0\u001b[0m\u001b[0;34m]\u001b[0m\u001b[0;34m]\u001b[0m\u001b[0;34m.\u001b[0m\u001b[0mwavefront\u001b[0m \u001b[0;34m-\u001b[0m \u001b[0mefield_ref\u001b[0m\u001b[0;34m)\u001b[0m \u001b[0;34m*\u001b[0m \u001b[0mnp\u001b[0m\u001b[0;34m.\u001b[0m\u001b[0mconj\u001b[0m\u001b[0;34m(\u001b[0m\u001b[0mefields\u001b[0m\u001b[0;34m[\u001b[0m\u001b[0mpair\u001b[0m\u001b[0;34m[\u001b[0m\u001b[0;36m1\u001b[0m\u001b[0;34m]\u001b[0m\u001b[0;34m]\u001b[0m\u001b[0;34m.\u001b[0m\u001b[0mwavefront\u001b[0m \u001b[0;34m-\u001b[0m \u001b[0mefield_ref\u001b[0m\u001b[0;34m)\u001b[0m\u001b[0;34m)\u001b[0m \u001b[0;31m#TODO put another funtction for luvoir .electric_field\u001b[0m\u001b[0;34m\u001b[0m\u001b[0;34m\u001b[0m\u001b[0m\n\u001b[0m\u001b[1;32m    100\u001b[0m         \u001b[0mcontrast\u001b[0m \u001b[0;34m=\u001b[0m \u001b[0mutil\u001b[0m\u001b[0;34m.\u001b[0m\u001b[0mdh_mean\u001b[0m\u001b[0;34m(\u001b[0m\u001b[0mintensity_im\u001b[0m \u001b[0;34m/\u001b[0m \u001b[0mdirect_norm\u001b[0m\u001b[0;34m,\u001b[0m \u001b[0mdh_mask\u001b[0m\u001b[0;34m)\u001b[0m\u001b[0;34m\u001b[0m\u001b[0;34m\u001b[0m\u001b[0m\n\u001b[1;32m    101\u001b[0m         \u001b[0mmatrix_pastis_half\u001b[0m\u001b[0;34m[\u001b[0m\u001b[0mpair\u001b[0m\u001b[0;34m[\u001b[0m\u001b[0;36m0\u001b[0m\u001b[0;34m]\u001b[0m\u001b[0;34m,\u001b[0m \u001b[0mpair\u001b[0m\u001b[0;34m[\u001b[0m\u001b[0;36m1\u001b[0m\u001b[0;34m]\u001b[0m\u001b[0;34m]\u001b[0m \u001b[0;34m=\u001b[0m \u001b[0mcontrast\u001b[0m\u001b[0;34m\u001b[0m\u001b[0;34m\u001b[0m\u001b[0m\n",
      "\u001b[0;31mValueError\u001b[0m: operands could not be broadcast together with shapes (800,800) (256,256) "
     ]
    },
    {
     "data": {
      "text/plain": [
       "<Figure size 432x288 with 0 Axes>"
      ]
     },
     "metadata": {},
     "output_type": "display_data"
    },
    {
     "data": {
      "text/plain": [
       "<Figure size 576x576 with 0 Axes>"
      ]
     },
     "metadata": {},
     "output_type": "display_data"
    },
    {
     "data": {
      "text/plain": [
       "<Figure size 576x576 with 0 Axes>"
      ]
     },
     "metadata": {},
     "output_type": "display_data"
    },
    {
     "data": {
      "text/plain": [
       "<Figure size 576x576 with 0 Axes>"
      ]
     },
     "metadata": {},
     "output_type": "display_data"
    },
    {
     "data": {
      "image/png": "[encoded data removed]",
      "text/plain": [
       "<Figure size 576x576 with 2 Axes>"
      ]
     },
     "metadata": {
      "needs_background": "light"
     },
     "output_type": "display_data"
    }
   ],
   "source": [
    "run_matrix = MatrixEfieldRST(initial_path=CONFIG_PASTIS.get('local', 'local_data_path'))\n",
    "run_matrix.calc()\n",
    "dir_run = run_matrix.overall_dir\n",
    "util.setup_pastis_logging(dir_run, 'pastis_analysis')\n",
    "result_dir = os.path.join(dir_run, 'results')\n",
    "matrix_dir = os.path.join(dir_run, 'matrix_numerical')\n",
    "#hockeystick_curve(instrument='RST', matrixdir=matrix_dir, resultdir=result_dir, range_points=10, no_realizations=3)"
   ]
  },
  {
   "cell_type": "code",
   "execution_count": null,
   "id": "fb71ebe8",
   "metadata": {},
   "outputs": [],
   "source": [
    "contrast = np.arange(long*(nb_actu)**2).reshape(long, (nb_actu)**2)"
   ]
  },
  {
   "cell_type": "code",
   "execution_count": null,
   "id": "9f9b74b9",
   "metadata": {},
   "outputs": [],
   "source": [
    "contrast"
   ]
  },
  {
   "cell_type": "code",
   "execution_count": null,
   "id": "c49362a6",
   "metadata": {},
   "outputs": [],
   "source": [
    "import numpy as np\n",
    "import matplotlib.pyplot as plt"
   ]
  },
  {
   "cell_type": "code",
   "execution_count": null,
   "id": "fc6523af",
   "metadata": {},
   "outputs": [],
   "source": [
    "long = 75\n",
    "nb_actu = 6\n",
    "\n",
    "abb_list = [0.2*i*10**(-5-2*i%5) for i in range(long)]\n",
    "#contrast = np.arange(long*(nb_actu)**2).reshape(long, (nb_actu)**2)\n",
    "contrast = [i for i in range(long)]\n",
    "sim_instance = roman.CGI(mode='CHARSPC_F770', nbactuator=nb_actu)\n",
    "seg = 17\n",
    "\n",
    "#for j in range(nb_actu**2):\n",
    "for i in range(long):\n",
    "    sim_instance.dm1.flatten()\n",
    "    actu_x, actu_y = util.continous_dm_coo(nb_actu, seg)\n",
    "    sim_instance.dm1.set_actuator(actu_x, actu_y, abb_list[i])\n",
    "    contrast[i] = sim_instance.raw_contrast()\n"
   ]
  },
  {
   "cell_type": "code",
   "execution_count": null,
   "id": "a4885f78",
   "metadata": {},
   "outputs": [],
   "source": [
    "log_contrast = np.log10(contrast)\n",
    "log_abb = np.log10(abb_list)\n",
    "\n",
    "plt.scatter(log_abb,log_contrast)\n",
    "plt.xlabel('log amplitude actuator(m)')\n",
    "plt.ylabel('log contrast')\n",
    "plt.show()"
   ]
  },
  {
   "cell_type": "code",
   "execution_count": null,
   "id": "8eaac635",
   "metadata": {},
   "outputs": [],
   "source": [
    "dir(DM_on)"
   ]
  },
  {
   "cell_type": "code",
   "execution_count": null,
   "id": "50265d46",
   "metadata": {},
   "outputs": [],
   "source": [
    "DM_on.calc_psf?"
   ]
  },
  {
   "cell_type": "code",
   "execution_count": null,
   "id": "f9eda045",
   "metadata": {},
   "outputs": [],
   "source": [
    "unaberrated_ref_efield, inter= DM_on.calc_psf(nlambda=1, fov_arcsec=1.6,return_intermediates=True)"
   ]
  },
  {
   "cell_type": "code",
   "execution_count": null,
   "id": "78dbbaa5",
   "metadata": {},
   "outputs": [],
   "source": [
    "\n",
    "efield_data = unaberrated_ref_efield[0].data\n",
    "plt.imshow(efield_data)\n",
    "plt.colorbar()"
   ]
  },
  {
   "cell_type": "code",
   "execution_count": null,
   "id": "cd2ce40a",
   "metadata": {},
   "outputs": [],
   "source": [
    "inter[6].display(what='phase')\n"
   ]
  },
  {
   "cell_type": "code",
   "execution_count": null,
   "id": "8639fb5d",
   "metadata": {},
   "outputs": [],
   "source": [
    "dir(inter[4])"
   ]
  },
  {
   "cell_type": "code",
   "execution_count": null,
   "id": "c20f8438",
   "metadata": {},
   "outputs": [],
   "source": [
    "wawefront = inter[6].wavefront"
   ]
  },
  {
   "cell_type": "code",
   "execution_count": null,
   "id": "ae6eb9a1",
   "metadata": {},
   "outputs": [],
   "source": [
    "intensity = abs(wawefront)**2\n",
    "phase = np.angle(wawefront)"
   ]
  },
  {
   "cell_type": "code",
   "execution_count": null,
   "id": "88356d83",
   "metadata": {},
   "outputs": [],
   "source": [
    "plt.imshow(intensity)\n",
    "plt.colorbar()"
   ]
  },
  {
   "cell_type": "code",
   "execution_count": null,
   "id": "9a0b43b1",
   "metadata": {},
   "outputs": [],
   "source": [
    "inten = inter[6].intensity\n",
    "plt.imshow(inten)\n",
    "plt.colorbar()"
   ]
  },
  {
   "cell_type": "code",
   "execution_count": null,
   "id": "22114670",
   "metadata": {},
   "outputs": [],
   "source": [
    "plt.imshow(phase)\n",
    "plt.colorbar()"
   ]
  },
  {
   "cell_type": "code",
   "execution_count": null,
   "id": "d05e98d5",
   "metadata": {},
   "outputs": [],
   "source": [
    "DM_on.working_area(im=inten)\n",
    "DM_on.WA\n",
    "len(inten)"
   ]
  },
  {
   "cell_type": "code",
   "execution_count": null,
   "id": "8c1a51fa",
   "metadata": {},
   "outputs": [],
   "source": []
  }
 ],
 "metadata": {
  "kernelspec": {
   "display_name": "Python 3",
   "language": "python",
   "name": "python3"
  },
  "language_info": {
   "codemirror_mode": {
    "name": "ipython",
    "version": 3
   },
   "file_extension": ".py",
   "mimetype": "text/x-python",
   "name": "python",
   "nbconvert_exporter": "python",
   "pygments_lexer": "ipython3",
   "version": "3.7.10"
  }
 },
 "nbformat": 4,
 "nbformat_minor": 5
}
